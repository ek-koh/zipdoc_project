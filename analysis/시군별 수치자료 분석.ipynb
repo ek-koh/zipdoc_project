{
 "cells": [
  {
   "cell_type": "markdown",
   "metadata": {},
   "source": [
    "# 데이터 로드 및 형태 확인"
   ]
  },
  {
   "cell_type": "code",
   "execution_count": 2,
   "metadata": {},
   "outputs": [],
   "source": [
    "import pandas as pd"
   ]
  },
  {
   "cell_type": "code",
   "execution_count": 3,
   "metadata": {},
   "outputs": [],
   "source": [
    "data = pd.read_excel('../analysis/시군별 수치자료_수요.xlsx')"
   ]
  },
  {
   "cell_type": "code",
   "execution_count": 34,
   "metadata": {
    "scrolled": true
   },
   "outputs": [
    {
     "data": {
      "text/html": [
       "<div>\n",
       "<style scoped>\n",
       "    .dataframe tbody tr th:only-of-type {\n",
       "        vertical-align: middle;\n",
       "    }\n",
       "\n",
       "    .dataframe tbody tr th {\n",
       "        vertical-align: top;\n",
       "    }\n",
       "\n",
       "    .dataframe thead th {\n",
       "        text-align: right;\n",
       "    }\n",
       "</style>\n",
       "<table border=\"1\" class=\"dataframe\">\n",
       "  <thead>\n",
       "    <tr style=\"text-align: right;\">\n",
       "      <th></th>\n",
       "      <th>지역</th>\n",
       "      <th>주소_시군</th>\n",
       "      <th>인구수_2%표본</th>\n",
       "      <th>이사가구수_2%표본</th>\n",
       "      <th>견적건수</th>\n",
       "      <th>계약건수</th>\n",
       "      <th>총세대수_합계</th>\n",
       "      <th>노후주택수</th>\n",
       "      <th>노후주택수15-29년</th>\n",
       "    </tr>\n",
       "  </thead>\n",
       "  <tbody>\n",
       "    <tr>\n",
       "      <td>0</td>\n",
       "      <td>강원도</td>\n",
       "      <td>강릉시</td>\n",
       "      <td>2484</td>\n",
       "      <td>128</td>\n",
       "      <td>29</td>\n",
       "      <td>5</td>\n",
       "      <td>48443</td>\n",
       "      <td>111</td>\n",
       "      <td>97</td>\n",
       "    </tr>\n",
       "    <tr>\n",
       "      <td>1</td>\n",
       "      <td>강원도</td>\n",
       "      <td>고성군</td>\n",
       "      <td>214</td>\n",
       "      <td>15</td>\n",
       "      <td>1</td>\n",
       "      <td>1</td>\n",
       "      <td>1501</td>\n",
       "      <td>5</td>\n",
       "      <td>2</td>\n",
       "    </tr>\n",
       "    <tr>\n",
       "      <td>2</td>\n",
       "      <td>강원도</td>\n",
       "      <td>동해시</td>\n",
       "      <td>1508</td>\n",
       "      <td>62</td>\n",
       "      <td>13</td>\n",
       "      <td>0</td>\n",
       "      <td>23607</td>\n",
       "      <td>62</td>\n",
       "      <td>54</td>\n",
       "    </tr>\n",
       "    <tr>\n",
       "      <td>3</td>\n",
       "      <td>강원도</td>\n",
       "      <td>삼척시</td>\n",
       "      <td>878</td>\n",
       "      <td>65</td>\n",
       "      <td>5</td>\n",
       "      <td>1</td>\n",
       "      <td>13834</td>\n",
       "      <td>62</td>\n",
       "      <td>60</td>\n",
       "    </tr>\n",
       "    <tr>\n",
       "      <td>4</td>\n",
       "      <td>강원도</td>\n",
       "      <td>속초시</td>\n",
       "      <td>1533</td>\n",
       "      <td>109</td>\n",
       "      <td>11</td>\n",
       "      <td>0</td>\n",
       "      <td>24884</td>\n",
       "      <td>47</td>\n",
       "      <td>39</td>\n",
       "    </tr>\n",
       "  </tbody>\n",
       "</table>\n",
       "</div>"
      ],
      "text/plain": [
       "    지역 주소_시군  인구수_2%표본  이사가구수_2%표본  견적건수  계약건수  총세대수_합계  노후주택수  노후주택수15-29년\n",
       "0  강원도   강릉시      2484         128    29     5    48443    111           97\n",
       "1  강원도   고성군       214          15     1     1     1501      5            2\n",
       "2  강원도   동해시      1508          62    13     0    23607     62           54\n",
       "3  강원도   삼척시       878          65     5     1    13834     62           60\n",
       "4  강원도   속초시      1533         109    11     0    24884     47           39"
      ]
     },
     "execution_count": 34,
     "metadata": {},
     "output_type": "execute_result"
    }
   ],
   "source": [
    "data.head()"
   ]
  },
  {
   "cell_type": "code",
   "execution_count": 35,
   "metadata": {
    "scrolled": true
   },
   "outputs": [
    {
     "data": {
      "text/plain": [
       "(229, 9)"
      ]
     },
     "execution_count": 35,
     "metadata": {},
     "output_type": "execute_result"
    }
   ],
   "source": [
    "data.shape"
   ]
  },
  {
   "cell_type": "code",
   "execution_count": 36,
   "metadata": {},
   "outputs": [
    {
     "data": {
      "text/plain": [
       "지역             229\n",
       "주소_시군          229\n",
       "인구수_2%표본       229\n",
       "이사가구수_2%표본     229\n",
       "견적건수           229\n",
       "계약건수           229\n",
       "총세대수_합계        229\n",
       "노후주택수          229\n",
       "노후주택수15-29년    229\n",
       "dtype: int64"
      ]
     },
     "execution_count": 36,
     "metadata": {},
     "output_type": "execute_result"
    }
   ],
   "source": [
    "data.count()"
   ]
  },
  {
   "cell_type": "markdown",
   "metadata": {},
   "source": [
    "# 상관관계 파악"
   ]
  },
  {
   "cell_type": "code",
   "execution_count": 37,
   "metadata": {},
   "outputs": [],
   "source": [
    "import seaborn as sns\n",
    "import matplotlib.pyplot as plt"
   ]
  },
  {
   "cell_type": "code",
   "execution_count": 38,
   "metadata": {
    "scrolled": true
   },
   "outputs": [
    {
     "name": "stderr",
     "output_type": "stream",
     "text": [
      "C:\\Users\\B0113\\Anaconda3\\lib\\site-packages\\matplotlib\\backends\\backend_agg.py:211: RuntimeWarning: Glyph 51064 missing from current font.\n",
      "  font.set_text(s, 0.0, flags=flags)\n",
      "C:\\Users\\B0113\\Anaconda3\\lib\\site-packages\\matplotlib\\backends\\backend_agg.py:211: RuntimeWarning: Glyph 44396 missing from current font.\n",
      "  font.set_text(s, 0.0, flags=flags)\n",
      "C:\\Users\\B0113\\Anaconda3\\lib\\site-packages\\matplotlib\\backends\\backend_agg.py:211: RuntimeWarning: Glyph 49688 missing from current font.\n",
      "  font.set_text(s, 0.0, flags=flags)\n",
      "C:\\Users\\B0113\\Anaconda3\\lib\\site-packages\\matplotlib\\backends\\backend_agg.py:211: RuntimeWarning: Glyph 54364 missing from current font.\n",
      "  font.set_text(s, 0.0, flags=flags)\n",
      "C:\\Users\\B0113\\Anaconda3\\lib\\site-packages\\matplotlib\\backends\\backend_agg.py:211: RuntimeWarning: Glyph 48376 missing from current font.\n",
      "  font.set_text(s, 0.0, flags=flags)\n",
      "C:\\Users\\B0113\\Anaconda3\\lib\\site-packages\\matplotlib\\backends\\backend_agg.py:211: RuntimeWarning: Glyph 51060 missing from current font.\n",
      "  font.set_text(s, 0.0, flags=flags)\n",
      "C:\\Users\\B0113\\Anaconda3\\lib\\site-packages\\matplotlib\\backends\\backend_agg.py:211: RuntimeWarning: Glyph 49324 missing from current font.\n",
      "  font.set_text(s, 0.0, flags=flags)\n",
      "C:\\Users\\B0113\\Anaconda3\\lib\\site-packages\\matplotlib\\backends\\backend_agg.py:211: RuntimeWarning: Glyph 44032 missing from current font.\n",
      "  font.set_text(s, 0.0, flags=flags)\n",
      "C:\\Users\\B0113\\Anaconda3\\lib\\site-packages\\matplotlib\\backends\\backend_agg.py:211: RuntimeWarning: Glyph 44204 missing from current font.\n",
      "  font.set_text(s, 0.0, flags=flags)\n",
      "C:\\Users\\B0113\\Anaconda3\\lib\\site-packages\\matplotlib\\backends\\backend_agg.py:211: RuntimeWarning: Glyph 51201 missing from current font.\n",
      "  font.set_text(s, 0.0, flags=flags)\n",
      "C:\\Users\\B0113\\Anaconda3\\lib\\site-packages\\matplotlib\\backends\\backend_agg.py:211: RuntimeWarning: Glyph 44148 missing from current font.\n",
      "  font.set_text(s, 0.0, flags=flags)\n",
      "C:\\Users\\B0113\\Anaconda3\\lib\\site-packages\\matplotlib\\backends\\backend_agg.py:211: RuntimeWarning: Glyph 44228 missing from current font.\n",
      "  font.set_text(s, 0.0, flags=flags)\n",
      "C:\\Users\\B0113\\Anaconda3\\lib\\site-packages\\matplotlib\\backends\\backend_agg.py:211: RuntimeWarning: Glyph 50557 missing from current font.\n",
      "  font.set_text(s, 0.0, flags=flags)\n",
      "C:\\Users\\B0113\\Anaconda3\\lib\\site-packages\\matplotlib\\backends\\backend_agg.py:211: RuntimeWarning: Glyph 52509 missing from current font.\n",
      "  font.set_text(s, 0.0, flags=flags)\n",
      "C:\\Users\\B0113\\Anaconda3\\lib\\site-packages\\matplotlib\\backends\\backend_agg.py:211: RuntimeWarning: Glyph 49464 missing from current font.\n",
      "  font.set_text(s, 0.0, flags=flags)\n",
      "C:\\Users\\B0113\\Anaconda3\\lib\\site-packages\\matplotlib\\backends\\backend_agg.py:211: RuntimeWarning: Glyph 45824 missing from current font.\n",
      "  font.set_text(s, 0.0, flags=flags)\n",
      "C:\\Users\\B0113\\Anaconda3\\lib\\site-packages\\matplotlib\\backends\\backend_agg.py:211: RuntimeWarning: Glyph 54633 missing from current font.\n",
      "  font.set_text(s, 0.0, flags=flags)\n",
      "C:\\Users\\B0113\\Anaconda3\\lib\\site-packages\\matplotlib\\backends\\backend_agg.py:211: RuntimeWarning: Glyph 45432 missing from current font.\n",
      "  font.set_text(s, 0.0, flags=flags)\n",
      "C:\\Users\\B0113\\Anaconda3\\lib\\site-packages\\matplotlib\\backends\\backend_agg.py:211: RuntimeWarning: Glyph 54980 missing from current font.\n",
      "  font.set_text(s, 0.0, flags=flags)\n",
      "C:\\Users\\B0113\\Anaconda3\\lib\\site-packages\\matplotlib\\backends\\backend_agg.py:211: RuntimeWarning: Glyph 51452 missing from current font.\n",
      "  font.set_text(s, 0.0, flags=flags)\n",
      "C:\\Users\\B0113\\Anaconda3\\lib\\site-packages\\matplotlib\\backends\\backend_agg.py:211: RuntimeWarning: Glyph 53469 missing from current font.\n",
      "  font.set_text(s, 0.0, flags=flags)\n",
      "C:\\Users\\B0113\\Anaconda3\\lib\\site-packages\\matplotlib\\backends\\backend_agg.py:211: RuntimeWarning: Glyph 45380 missing from current font.\n",
      "  font.set_text(s, 0.0, flags=flags)\n",
      "C:\\Users\\B0113\\Anaconda3\\lib\\site-packages\\matplotlib\\backends\\backend_agg.py:180: RuntimeWarning: Glyph 51064 missing from current font.\n",
      "  font.set_text(s, 0, flags=flags)\n",
      "C:\\Users\\B0113\\Anaconda3\\lib\\site-packages\\matplotlib\\backends\\backend_agg.py:180: RuntimeWarning: Glyph 44396 missing from current font.\n",
      "  font.set_text(s, 0, flags=flags)\n",
      "C:\\Users\\B0113\\Anaconda3\\lib\\site-packages\\matplotlib\\backends\\backend_agg.py:180: RuntimeWarning: Glyph 49688 missing from current font.\n",
      "  font.set_text(s, 0, flags=flags)\n",
      "C:\\Users\\B0113\\Anaconda3\\lib\\site-packages\\matplotlib\\backends\\backend_agg.py:180: RuntimeWarning: Glyph 54364 missing from current font.\n",
      "  font.set_text(s, 0, flags=flags)\n",
      "C:\\Users\\B0113\\Anaconda3\\lib\\site-packages\\matplotlib\\backends\\backend_agg.py:180: RuntimeWarning: Glyph 48376 missing from current font.\n",
      "  font.set_text(s, 0, flags=flags)\n",
      "C:\\Users\\B0113\\Anaconda3\\lib\\site-packages\\matplotlib\\backends\\backend_agg.py:180: RuntimeWarning: Glyph 51060 missing from current font.\n",
      "  font.set_text(s, 0, flags=flags)\n",
      "C:\\Users\\B0113\\Anaconda3\\lib\\site-packages\\matplotlib\\backends\\backend_agg.py:180: RuntimeWarning: Glyph 49324 missing from current font.\n",
      "  font.set_text(s, 0, flags=flags)\n",
      "C:\\Users\\B0113\\Anaconda3\\lib\\site-packages\\matplotlib\\backends\\backend_agg.py:180: RuntimeWarning: Glyph 44032 missing from current font.\n",
      "  font.set_text(s, 0, flags=flags)\n",
      "C:\\Users\\B0113\\Anaconda3\\lib\\site-packages\\matplotlib\\backends\\backend_agg.py:180: RuntimeWarning: Glyph 44204 missing from current font.\n",
      "  font.set_text(s, 0, flags=flags)\n",
      "C:\\Users\\B0113\\Anaconda3\\lib\\site-packages\\matplotlib\\backends\\backend_agg.py:180: RuntimeWarning: Glyph 51201 missing from current font.\n",
      "  font.set_text(s, 0, flags=flags)\n",
      "C:\\Users\\B0113\\Anaconda3\\lib\\site-packages\\matplotlib\\backends\\backend_agg.py:180: RuntimeWarning: Glyph 44148 missing from current font.\n",
      "  font.set_text(s, 0, flags=flags)\n",
      "C:\\Users\\B0113\\Anaconda3\\lib\\site-packages\\matplotlib\\backends\\backend_agg.py:180: RuntimeWarning: Glyph 44228 missing from current font.\n",
      "  font.set_text(s, 0, flags=flags)\n",
      "C:\\Users\\B0113\\Anaconda3\\lib\\site-packages\\matplotlib\\backends\\backend_agg.py:180: RuntimeWarning: Glyph 50557 missing from current font.\n",
      "  font.set_text(s, 0, flags=flags)\n",
      "C:\\Users\\B0113\\Anaconda3\\lib\\site-packages\\matplotlib\\backends\\backend_agg.py:180: RuntimeWarning: Glyph 52509 missing from current font.\n",
      "  font.set_text(s, 0, flags=flags)\n",
      "C:\\Users\\B0113\\Anaconda3\\lib\\site-packages\\matplotlib\\backends\\backend_agg.py:180: RuntimeWarning: Glyph 49464 missing from current font.\n",
      "  font.set_text(s, 0, flags=flags)\n",
      "C:\\Users\\B0113\\Anaconda3\\lib\\site-packages\\matplotlib\\backends\\backend_agg.py:180: RuntimeWarning: Glyph 45824 missing from current font.\n",
      "  font.set_text(s, 0, flags=flags)\n",
      "C:\\Users\\B0113\\Anaconda3\\lib\\site-packages\\matplotlib\\backends\\backend_agg.py:180: RuntimeWarning: Glyph 54633 missing from current font.\n",
      "  font.set_text(s, 0, flags=flags)\n",
      "C:\\Users\\B0113\\Anaconda3\\lib\\site-packages\\matplotlib\\backends\\backend_agg.py:180: RuntimeWarning: Glyph 45432 missing from current font.\n",
      "  font.set_text(s, 0, flags=flags)\n",
      "C:\\Users\\B0113\\Anaconda3\\lib\\site-packages\\matplotlib\\backends\\backend_agg.py:180: RuntimeWarning: Glyph 54980 missing from current font.\n",
      "  font.set_text(s, 0, flags=flags)\n",
      "C:\\Users\\B0113\\Anaconda3\\lib\\site-packages\\matplotlib\\backends\\backend_agg.py:180: RuntimeWarning: Glyph 51452 missing from current font.\n",
      "  font.set_text(s, 0, flags=flags)\n",
      "C:\\Users\\B0113\\Anaconda3\\lib\\site-packages\\matplotlib\\backends\\backend_agg.py:180: RuntimeWarning: Glyph 53469 missing from current font.\n",
      "  font.set_text(s, 0, flags=flags)\n",
      "C:\\Users\\B0113\\Anaconda3\\lib\\site-packages\\matplotlib\\backends\\backend_agg.py:180: RuntimeWarning: Glyph 45380 missing from current font.\n",
      "  font.set_text(s, 0, flags=flags)\n"
     ]
    },
    {
     "data": {
      "image/png": "[encoded data removed]",
      "text/plain": [
       "<Figure size 1260x1260 with 56 Axes>"
      ]
     },
     "metadata": {
      "needs_background": "light"
     },
     "output_type": "display_data"
    }
   ],
   "source": [
    "pair_grid = sns.PairGrid(data)\n",
    "pair_grid = pair_grid.map_upper(sns.regplot)\n",
    "pair_grid = pair_grid.map_lower(sns.kdeplot, cmap = \"Blues_d\")\n",
    "pair_grid = pair_grid.map_diag(sns.distplot)\n",
    "plt.show()"
   ]
  },
  {
   "cell_type": "code",
   "execution_count": 39,
   "metadata": {
    "scrolled": true
   },
   "outputs": [
    {
     "data": {
      "text/html": [
       "<div>\n",
       "<style scoped>\n",
       "    .dataframe tbody tr th:only-of-type {\n",
       "        vertical-align: middle;\n",
       "    }\n",
       "\n",
       "    .dataframe tbody tr th {\n",
       "        vertical-align: top;\n",
       "    }\n",
       "\n",
       "    .dataframe thead th {\n",
       "        text-align: right;\n",
       "    }\n",
       "</style>\n",
       "<table border=\"1\" class=\"dataframe\">\n",
       "  <thead>\n",
       "    <tr style=\"text-align: right;\">\n",
       "      <th></th>\n",
       "      <th>인구수_2%표본</th>\n",
       "      <th>이사가구수_2%표본</th>\n",
       "      <th>견적건수</th>\n",
       "      <th>계약건수</th>\n",
       "      <th>총세대수_합계</th>\n",
       "      <th>노후주택수</th>\n",
       "      <th>노후주택수15-29년</th>\n",
       "    </tr>\n",
       "  </thead>\n",
       "  <tbody>\n",
       "    <tr>\n",
       "      <td>인구수_2%표본</td>\n",
       "      <td>1.000000</td>\n",
       "      <td>0.906621</td>\n",
       "      <td>0.548568</td>\n",
       "      <td>0.506019</td>\n",
       "      <td>0.791726</td>\n",
       "      <td>0.600284</td>\n",
       "      <td>0.584325</td>\n",
       "    </tr>\n",
       "    <tr>\n",
       "      <td>이사가구수_2%표본</td>\n",
       "      <td>0.906621</td>\n",
       "      <td>1.000000</td>\n",
       "      <td>0.626055</td>\n",
       "      <td>0.578137</td>\n",
       "      <td>0.823355</td>\n",
       "      <td>0.589640</td>\n",
       "      <td>0.547554</td>\n",
       "    </tr>\n",
       "    <tr>\n",
       "      <td>견적건수</td>\n",
       "      <td>0.548568</td>\n",
       "      <td>0.626055</td>\n",
       "      <td>1.000000</td>\n",
       "      <td>0.966391</td>\n",
       "      <td>0.794806</td>\n",
       "      <td>0.797759</td>\n",
       "      <td>0.767719</td>\n",
       "    </tr>\n",
       "    <tr>\n",
       "      <td>계약건수</td>\n",
       "      <td>0.506019</td>\n",
       "      <td>0.578137</td>\n",
       "      <td>0.966391</td>\n",
       "      <td>1.000000</td>\n",
       "      <td>0.751840</td>\n",
       "      <td>0.792990</td>\n",
       "      <td>0.768346</td>\n",
       "    </tr>\n",
       "    <tr>\n",
       "      <td>총세대수_합계</td>\n",
       "      <td>0.791726</td>\n",
       "      <td>0.823355</td>\n",
       "      <td>0.794806</td>\n",
       "      <td>0.751840</td>\n",
       "      <td>1.000000</td>\n",
       "      <td>0.817986</td>\n",
       "      <td>0.793902</td>\n",
       "    </tr>\n",
       "    <tr>\n",
       "      <td>노후주택수</td>\n",
       "      <td>0.600284</td>\n",
       "      <td>0.589640</td>\n",
       "      <td>0.797759</td>\n",
       "      <td>0.792990</td>\n",
       "      <td>0.817986</td>\n",
       "      <td>1.000000</td>\n",
       "      <td>0.993230</td>\n",
       "    </tr>\n",
       "    <tr>\n",
       "      <td>노후주택수15-29년</td>\n",
       "      <td>0.584325</td>\n",
       "      <td>0.547554</td>\n",
       "      <td>0.767719</td>\n",
       "      <td>0.768346</td>\n",
       "      <td>0.793902</td>\n",
       "      <td>0.993230</td>\n",
       "      <td>1.000000</td>\n",
       "    </tr>\n",
       "  </tbody>\n",
       "</table>\n",
       "</div>"
      ],
      "text/plain": [
       "             인구수_2%표본  이사가구수_2%표본      견적건수      계약건수   총세대수_합계     노후주택수  \\\n",
       "인구수_2%표본     1.000000    0.906621  0.548568  0.506019  0.791726  0.600284   \n",
       "이사가구수_2%표본   0.906621    1.000000  0.626055  0.578137  0.823355  0.589640   \n",
       "견적건수         0.548568    0.626055  1.000000  0.966391  0.794806  0.797759   \n",
       "계약건수         0.506019    0.578137  0.966391  1.000000  0.751840  0.792990   \n",
       "총세대수_합계      0.791726    0.823355  0.794806  0.751840  1.000000  0.817986   \n",
       "노후주택수        0.600284    0.589640  0.797759  0.792990  0.817986  1.000000   \n",
       "노후주택수15-29년  0.584325    0.547554  0.767719  0.768346  0.793902  0.993230   \n",
       "\n",
       "             노후주택수15-29년  \n",
       "인구수_2%표본        0.584325  \n",
       "이사가구수_2%표본      0.547554  \n",
       "견적건수            0.767719  \n",
       "계약건수            0.768346  \n",
       "총세대수_합계         0.793902  \n",
       "노후주택수           0.993230  \n",
       "노후주택수15-29년     1.000000  "
      ]
     },
     "execution_count": 39,
     "metadata": {},
     "output_type": "execute_result"
    }
   ],
   "source": [
    "data.corr()"
   ]
  },
  {
   "cell_type": "code",
   "execution_count": 41,
   "metadata": {},
   "outputs": [
    {
     "data": {
      "image/png": "[encoded data removed]",
      "text/plain": [
       "<Figure size 720x576 with 2 Axes>"
      ]
     },
     "metadata": {
      "needs_background": "light"
     },
     "output_type": "display_data"
    }
   ],
   "source": [
    "import numpy as np\n",
    "\n",
    "cor = data.corr()\n",
    "\n",
    "# 그림 사이즈 지정\n",
    "fig, ax = plt.subplots( figsize=(10,8) )\n",
    "\n",
    "# 삼각형 마스크를 만든다(위 쪽 삼각형에 True, 아래 삼각형에 False)\n",
    "mask = np.zeros_like(cor, dtype=np.bool)\n",
    "mask[np.triu_indices_from(mask)] = True\n",
    "\n",
    "# 히트맵을 그린다\n",
    "hm = sns.heatmap(cor, \n",
    "            cmap = 'Blues', \n",
    "            annot = True,   # 실제 값을 표시한다\n",
    "            mask=mask,      # 표시하지 않을 마스크 부분을 지정한다\n",
    "            linewidths=.9,  # 경계면 실선으로 구분하기\n",
    "            cbar_kws={\"shrink\": .5},# 컬러바 크기 절반으로 줄이기\n",
    "            vmin = 0,vmax = 1   # 컬러바 범위 -1 ~ 1\n",
    "           )  \n",
    "plt.show()"
   ]
  },
  {
   "cell_type": "code",
   "execution_count": 42,
   "metadata": {},
   "outputs": [
    {
     "name": "stdout",
     "output_type": "stream",
     "text": [
      "6.5 0.5\n"
     ]
    }
   ],
   "source": [
    "bottom, top = hm.get_ylim()\n",
    "print(bottom, top)"
   ]
  },
  {
   "cell_type": "code",
   "execution_count": 43,
   "metadata": {},
   "outputs": [],
   "source": [
    "hm.set_ylim(bottom+0.5, top-0.5)\n",
    "plt.show()"
   ]
  },
  {
   "cell_type": "code",
   "execution_count": 44,
   "metadata": {
    "scrolled": false
   },
   "outputs": [
    {
     "data": {
      "image/png": "[encoded data removed]",
      "text/plain": [
       "<Figure size 576x432 with 2 Axes>"
      ]
     },
     "metadata": {
      "needs_background": "light"
     },
     "output_type": "display_data"
    }
   ],
   "source": [
    "cor = data.corr()\n",
    "\n",
    "# 그림 사이즈 지정\n",
    "fig, ax = plt.subplots( figsize=(8,6) )\n",
    "\n",
    "# 삼각형 마스크를 만든다(위 쪽 삼각형에 True, 아래 삼각형에 False)\n",
    "mask = np.zeros_like(cor, dtype=np.bool)\n",
    "mask[np.triu_indices_from(mask)] = True\n",
    "\n",
    "# 히트맵을 그린다\n",
    "hm = sns.heatmap(cor, \n",
    "            cmap = 'Blues', \n",
    "            annot = True,   # 실제 값을 표시한다\n",
    "            mask=mask,      # 표시하지 않을 마스크 부분을 지정한다\n",
    "            linewidths=.9,  # 경계면 실선으로 구분하기\n",
    "            cbar_kws={\"shrink\": .5},# 컬러바 크기 절반으로 줄이기\n",
    "            vmin = 0,vmax = 1   # 컬러바 범위 -1 ~ 1\n",
    "           )\n",
    "hm.set_ylim(bottom+0.5, top-0.5)\n",
    "plt.show()"
   ]
  },
  {
   "cell_type": "markdown",
   "metadata": {},
   "source": [
    "# 견적건수에 영향을 미치는 변수  - 다중선형회귀"
   ]
  },
  {
   "cell_type": "markdown",
   "metadata": {},
   "source": [
    "## LinearRegression"
   ]
  },
  {
   "cell_type": "code",
   "execution_count": null,
   "metadata": {},
   "outputs": [],
   "source": [
    "from sklearn.model_selection import train_test_split"
   ]
  },
  {
   "cell_type": "code",
   "execution_count": 7,
   "metadata": {},
   "outputs": [
    {
     "data": {
      "text/plain": [
       "Index(['지역', '주소_시군', '인구수_2%표본', '이사가구수_2%표본', '견적건수', '계약건수', '총세대수_합계',\n",
       "       '노후주택수'],\n",
       "      dtype='object')"
      ]
     },
     "execution_count": 7,
     "metadata": {},
     "output_type": "execute_result"
    }
   ],
   "source": [
    "data.columns"
   ]
  },
  {
   "cell_type": "code",
   "execution_count": 12,
   "metadata": {},
   "outputs": [],
   "source": [
    "x = data[['인구수_2%표본', '이사가구수_2%표본', '총세대수_합계', '노후주택수']]\n",
    "y = data[['견적건수']]\n",
    "\n",
    "x_train, x_test, y_train, y_test = train_test_split(x,y,train_size=0.8, test_size=0.2)"
   ]
  },
  {
   "cell_type": "code",
   "execution_count": 9,
   "metadata": {},
   "outputs": [],
   "source": [
    "from sklearn.linear_model import LinearRegression"
   ]
  },
  {
   "cell_type": "code",
   "execution_count": 13,
   "metadata": {},
   "outputs": [],
   "source": [
    "mlr = LinearRegression()"
   ]
  },
  {
   "cell_type": "code",
   "execution_count": 14,
   "metadata": {},
   "outputs": [
    {
     "data": {
      "text/plain": [
       "LinearRegression(copy_X=True, fit_intercept=True, n_jobs=None, normalize=False)"
      ]
     },
     "execution_count": 14,
     "metadata": {},
     "output_type": "execute_result"
    }
   ],
   "source": [
    "mlr.fit(x_train, y_train)"
   ]
  },
  {
   "cell_type": "code",
   "execution_count": 15,
   "metadata": {},
   "outputs": [],
   "source": [
    "y_predict = mlr.predict(x_test)"
   ]
  },
  {
   "cell_type": "code",
   "execution_count": 25,
   "metadata": {},
   "outputs": [
    {
     "data": {
      "image/png": "[encoded data removed]",
      "text/plain": [
       "<Figure size 432x288 with 1 Axes>"
      ]
     },
     "metadata": {
      "needs_background": "light"
     },
     "output_type": "display_data"
    }
   ],
   "source": [
    "import matplotlib.pyplot as plt\n",
    "\n",
    "plt.rc('font', family='Malgun Gothic')\n",
    "plt.scatter(y_test, y_predict, alpha=0.5)\n",
    "plt.xlabel('실제 견적건수')\n",
    "plt.ylabel('예측 견적건수')\n",
    "plt.title('다중회귀분석 예측')\n",
    "plt.show()"
   ]
  },
  {
   "cell_type": "code",
   "execution_count": 57,
   "metadata": {},
   "outputs": [
    {
     "data": {
      "text/plain": [
       "array([[-0.00850388,  0.11488717,  0.00037912,  0.21200496]])"
      ]
     },
     "execution_count": 57,
     "metadata": {},
     "output_type": "execute_result"
    }
   ],
   "source": [
    "mlr.coef_"
   ]
  },
  {
   "cell_type": "code",
   "execution_count": 1,
   "metadata": {},
   "outputs": [],
   "source": [
    "import pandas as pd"
   ]
  },
  {
   "cell_type": "code",
   "execution_count": 45,
   "metadata": {},
   "outputs": [],
   "source": [
    "data = pd.read_excel('../analysis/시군별 수치자료_수요.xlsx')"
   ]
  },
  {
   "cell_type": "code",
   "execution_count": 46,
   "metadata": {},
   "outputs": [
    {
     "data": {
      "text/html": [
       "<div>\n",
       "<style scoped>\n",
       "    .dataframe tbody tr th:only-of-type {\n",
       "        vertical-align: middle;\n",
       "    }\n",
       "\n",
       "    .dataframe tbody tr th {\n",
       "        vertical-align: top;\n",
       "    }\n",
       "\n",
       "    .dataframe thead th {\n",
       "        text-align: right;\n",
       "    }\n",
       "</style>\n",
       "<table border=\"1\" class=\"dataframe\">\n",
       "  <thead>\n",
       "    <tr style=\"text-align: right;\">\n",
       "      <th></th>\n",
       "      <th>지역</th>\n",
       "      <th>주소_시군</th>\n",
       "      <th>인구수_2%표본</th>\n",
       "      <th>이사가구수_2%표본</th>\n",
       "      <th>견적건수</th>\n",
       "      <th>계약건수</th>\n",
       "      <th>총세대수_합계</th>\n",
       "      <th>노후주택수</th>\n",
       "      <th>노후주택수15-29년</th>\n",
       "    </tr>\n",
       "  </thead>\n",
       "  <tbody>\n",
       "    <tr>\n",
       "      <td>0</td>\n",
       "      <td>강원도</td>\n",
       "      <td>강릉시</td>\n",
       "      <td>2484</td>\n",
       "      <td>128</td>\n",
       "      <td>29</td>\n",
       "      <td>5</td>\n",
       "      <td>48443</td>\n",
       "      <td>111</td>\n",
       "      <td>97</td>\n",
       "    </tr>\n",
       "    <tr>\n",
       "      <td>1</td>\n",
       "      <td>강원도</td>\n",
       "      <td>고성군</td>\n",
       "      <td>214</td>\n",
       "      <td>15</td>\n",
       "      <td>1</td>\n",
       "      <td>1</td>\n",
       "      <td>1501</td>\n",
       "      <td>5</td>\n",
       "      <td>2</td>\n",
       "    </tr>\n",
       "    <tr>\n",
       "      <td>2</td>\n",
       "      <td>강원도</td>\n",
       "      <td>동해시</td>\n",
       "      <td>1508</td>\n",
       "      <td>62</td>\n",
       "      <td>13</td>\n",
       "      <td>0</td>\n",
       "      <td>23607</td>\n",
       "      <td>62</td>\n",
       "      <td>54</td>\n",
       "    </tr>\n",
       "    <tr>\n",
       "      <td>3</td>\n",
       "      <td>강원도</td>\n",
       "      <td>삼척시</td>\n",
       "      <td>878</td>\n",
       "      <td>65</td>\n",
       "      <td>5</td>\n",
       "      <td>1</td>\n",
       "      <td>13834</td>\n",
       "      <td>62</td>\n",
       "      <td>60</td>\n",
       "    </tr>\n",
       "    <tr>\n",
       "      <td>4</td>\n",
       "      <td>강원도</td>\n",
       "      <td>속초시</td>\n",
       "      <td>1533</td>\n",
       "      <td>109</td>\n",
       "      <td>11</td>\n",
       "      <td>0</td>\n",
       "      <td>24884</td>\n",
       "      <td>47</td>\n",
       "      <td>39</td>\n",
       "    </tr>\n",
       "  </tbody>\n",
       "</table>\n",
       "</div>"
      ],
      "text/plain": [
       "    지역 주소_시군  인구수_2%표본  이사가구수_2%표본  견적건수  계약건수  총세대수_합계  노후주택수  노후주택수15-29년\n",
       "0  강원도   강릉시      2484         128    29     5    48443    111           97\n",
       "1  강원도   고성군       214          15     1     1     1501      5            2\n",
       "2  강원도   동해시      1508          62    13     0    23607     62           54\n",
       "3  강원도   삼척시       878          65     5     1    13834     62           60\n",
       "4  강원도   속초시      1533         109    11     0    24884     47           39"
      ]
     },
     "execution_count": 46,
     "metadata": {},
     "output_type": "execute_result"
    }
   ],
   "source": [
    "data.head()"
   ]
  },
  {
   "cell_type": "markdown",
   "metadata": {},
   "source": [
    "## statsmodel"
   ]
  },
  {
   "cell_type": "code",
   "execution_count": 47,
   "metadata": {},
   "outputs": [],
   "source": [
    "import statsmodels.formula.api as sm\n",
    "from statsmodels.sandbox.regression.predstd import wls_prediction_std"
   ]
  },
  {
   "cell_type": "code",
   "execution_count": 48,
   "metadata": {},
   "outputs": [],
   "source": [
    "data.columns = ['region','sg','pop','movers','kj','ky','gagu','old_gagu','old_gagu2']"
   ]
  },
  {
   "cell_type": "code",
   "execution_count": 49,
   "metadata": {},
   "outputs": [
    {
     "data": {
      "text/html": [
       "<div>\n",
       "<style scoped>\n",
       "    .dataframe tbody tr th:only-of-type {\n",
       "        vertical-align: middle;\n",
       "    }\n",
       "\n",
       "    .dataframe tbody tr th {\n",
       "        vertical-align: top;\n",
       "    }\n",
       "\n",
       "    .dataframe thead th {\n",
       "        text-align: right;\n",
       "    }\n",
       "</style>\n",
       "<table border=\"1\" class=\"dataframe\">\n",
       "  <thead>\n",
       "    <tr style=\"text-align: right;\">\n",
       "      <th></th>\n",
       "      <th>region</th>\n",
       "      <th>sg</th>\n",
       "      <th>pop</th>\n",
       "      <th>movers</th>\n",
       "      <th>kj</th>\n",
       "      <th>ky</th>\n",
       "      <th>gagu</th>\n",
       "      <th>old_gagu</th>\n",
       "      <th>old_gagu2</th>\n",
       "    </tr>\n",
       "  </thead>\n",
       "  <tbody>\n",
       "    <tr>\n",
       "      <td>0</td>\n",
       "      <td>강원도</td>\n",
       "      <td>강릉시</td>\n",
       "      <td>2484</td>\n",
       "      <td>128</td>\n",
       "      <td>29</td>\n",
       "      <td>5</td>\n",
       "      <td>48443</td>\n",
       "      <td>111</td>\n",
       "      <td>97</td>\n",
       "    </tr>\n",
       "    <tr>\n",
       "      <td>1</td>\n",
       "      <td>강원도</td>\n",
       "      <td>고성군</td>\n",
       "      <td>214</td>\n",
       "      <td>15</td>\n",
       "      <td>1</td>\n",
       "      <td>1</td>\n",
       "      <td>1501</td>\n",
       "      <td>5</td>\n",
       "      <td>2</td>\n",
       "    </tr>\n",
       "    <tr>\n",
       "      <td>2</td>\n",
       "      <td>강원도</td>\n",
       "      <td>동해시</td>\n",
       "      <td>1508</td>\n",
       "      <td>62</td>\n",
       "      <td>13</td>\n",
       "      <td>0</td>\n",
       "      <td>23607</td>\n",
       "      <td>62</td>\n",
       "      <td>54</td>\n",
       "    </tr>\n",
       "    <tr>\n",
       "      <td>3</td>\n",
       "      <td>강원도</td>\n",
       "      <td>삼척시</td>\n",
       "      <td>878</td>\n",
       "      <td>65</td>\n",
       "      <td>5</td>\n",
       "      <td>1</td>\n",
       "      <td>13834</td>\n",
       "      <td>62</td>\n",
       "      <td>60</td>\n",
       "    </tr>\n",
       "    <tr>\n",
       "      <td>4</td>\n",
       "      <td>강원도</td>\n",
       "      <td>속초시</td>\n",
       "      <td>1533</td>\n",
       "      <td>109</td>\n",
       "      <td>11</td>\n",
       "      <td>0</td>\n",
       "      <td>24884</td>\n",
       "      <td>47</td>\n",
       "      <td>39</td>\n",
       "    </tr>\n",
       "  </tbody>\n",
       "</table>\n",
       "</div>"
      ],
      "text/plain": [
       "  region   sg   pop  movers  kj  ky   gagu  old_gagu  old_gagu2\n",
       "0    강원도  강릉시  2484     128  29   5  48443       111         97\n",
       "1    강원도  고성군   214      15   1   1   1501         5          2\n",
       "2    강원도  동해시  1508      62  13   0  23607        62         54\n",
       "3    강원도  삼척시   878      65   5   1  13834        62         60\n",
       "4    강원도  속초시  1533     109  11   0  24884        47         39"
      ]
     },
     "execution_count": 49,
     "metadata": {},
     "output_type": "execute_result"
    }
   ],
   "source": [
    "data.head()"
   ]
  },
  {
   "cell_type": "code",
   "execution_count": 50,
   "metadata": {
    "scrolled": true
   },
   "outputs": [],
   "source": [
    "result = sm.ols(formula='kj~pop+movers+gagu+old_gagu', data=data).fit()"
   ]
  },
  {
   "cell_type": "markdown",
   "metadata": {},
   "source": [
    "### 다중공선성 문제"
   ]
  },
  {
   "cell_type": "code",
   "execution_count": 51,
   "metadata": {},
   "outputs": [
    {
     "data": {
      "text/html": [
       "<table class=\"simpletable\">\n",
       "<caption>OLS Regression Results</caption>\n",
       "<tr>\n",
       "  <th>Dep. Variable:</th>           <td>kj</td>        <th>  R-squared:         </th> <td>   0.724</td>\n",
       "</tr>\n",
       "<tr>\n",
       "  <th>Model:</th>                   <td>OLS</td>       <th>  Adj. R-squared:    </th> <td>   0.719</td>\n",
       "</tr>\n",
       "<tr>\n",
       "  <th>Method:</th>             <td>Least Squares</td>  <th>  F-statistic:       </th> <td>   147.0</td>\n",
       "</tr>\n",
       "<tr>\n",
       "  <th>Date:</th>             <td>Wed, 22 Apr 2020</td> <th>  Prob (F-statistic):</th> <td>1.91e-61</td>\n",
       "</tr>\n",
       "<tr>\n",
       "  <th>Time:</th>                 <td>10:48:34</td>     <th>  Log-Likelihood:    </th> <td> -1094.1</td>\n",
       "</tr>\n",
       "<tr>\n",
       "  <th>No. Observations:</th>      <td>   229</td>      <th>  AIC:               </th> <td>   2198.</td>\n",
       "</tr>\n",
       "<tr>\n",
       "  <th>Df Residuals:</th>          <td>   224</td>      <th>  BIC:               </th> <td>   2215.</td>\n",
       "</tr>\n",
       "<tr>\n",
       "  <th>Df Model:</th>              <td>     4</td>      <th>                     </th>     <td> </td>   \n",
       "</tr>\n",
       "<tr>\n",
       "  <th>Covariance Type:</th>      <td>nonrobust</td>    <th>                     </th>     <td> </td>   \n",
       "</tr>\n",
       "</table>\n",
       "<table class=\"simpletable\">\n",
       "<tr>\n",
       "      <td></td>         <th>coef</th>     <th>std err</th>      <th>t</th>      <th>P>|t|</th>  <th>[0.025</th>    <th>0.975]</th>  \n",
       "</tr>\n",
       "<tr>\n",
       "  <th>Intercept</th> <td>   -5.4116</td> <td>    2.663</td> <td>   -2.032</td> <td> 0.043</td> <td>  -10.659</td> <td>   -0.165</td>\n",
       "</tr>\n",
       "<tr>\n",
       "  <th>pop</th>       <td>   -0.0069</td> <td>    0.001</td> <td>   -4.615</td> <td> 0.000</td> <td>   -0.010</td> <td>   -0.004</td>\n",
       "</tr>\n",
       "<tr>\n",
       "  <th>movers</th>    <td>    0.0781</td> <td>    0.021</td> <td>    3.696</td> <td> 0.000</td> <td>    0.036</td> <td>    0.120</td>\n",
       "</tr>\n",
       "<tr>\n",
       "  <th>gagu</th>      <td>    0.0004</td> <td> 8.93e-05</td> <td>    4.764</td> <td> 0.000</td> <td>    0.000</td> <td>    0.001</td>\n",
       "</tr>\n",
       "<tr>\n",
       "  <th>old_gagu</th>  <td>    0.2329</td> <td>    0.031</td> <td>    7.543</td> <td> 0.000</td> <td>    0.172</td> <td>    0.294</td>\n",
       "</tr>\n",
       "</table>\n",
       "<table class=\"simpletable\">\n",
       "<tr>\n",
       "  <th>Omnibus:</th>       <td>78.418</td> <th>  Durbin-Watson:     </th> <td>   1.479</td>\n",
       "</tr>\n",
       "<tr>\n",
       "  <th>Prob(Omnibus):</th> <td> 0.000</td> <th>  Jarque-Bera (JB):  </th> <td> 433.290</td>\n",
       "</tr>\n",
       "<tr>\n",
       "  <th>Skew:</th>          <td> 1.218</td> <th>  Prob(JB):          </th> <td>8.17e-95</td>\n",
       "</tr>\n",
       "<tr>\n",
       "  <th>Kurtosis:</th>      <td> 9.283</td> <th>  Cond. No.          </th> <td>1.02e+05</td>\n",
       "</tr>\n",
       "</table><br/><br/>Warnings:<br/>[1] Standard Errors assume that the covariance matrix of the errors is correctly specified.<br/>[2] The condition number is large, 1.02e+05. This might indicate that there are<br/>strong multicollinearity or other numerical problems."
      ],
      "text/plain": [
       "<class 'statsmodels.iolib.summary.Summary'>\n",
       "\"\"\"\n",
       "                            OLS Regression Results                            \n",
       "==============================================================================\n",
       "Dep. Variable:                     kj   R-squared:                       0.724\n",
       "Model:                            OLS   Adj. R-squared:                  0.719\n",
       "Method:                 Least Squares   F-statistic:                     147.0\n",
       "Date:                Wed, 22 Apr 2020   Prob (F-statistic):           1.91e-61\n",
       "Time:                        10:48:34   Log-Likelihood:                -1094.1\n",
       "No. Observations:                 229   AIC:                             2198.\n",
       "Df Residuals:                     224   BIC:                             2215.\n",
       "Df Model:                           4                                         \n",
       "Covariance Type:            nonrobust                                         \n",
       "==============================================================================\n",
       "                 coef    std err          t      P>|t|      [0.025      0.975]\n",
       "------------------------------------------------------------------------------\n",
       "Intercept     -5.4116      2.663     -2.032      0.043     -10.659      -0.165\n",
       "pop           -0.0069      0.001     -4.615      0.000      -0.010      -0.004\n",
       "movers         0.0781      0.021      3.696      0.000       0.036       0.120\n",
       "gagu           0.0004   8.93e-05      4.764      0.000       0.000       0.001\n",
       "old_gagu       0.2329      0.031      7.543      0.000       0.172       0.294\n",
       "==============================================================================\n",
       "Omnibus:                       78.418   Durbin-Watson:                   1.479\n",
       "Prob(Omnibus):                  0.000   Jarque-Bera (JB):              433.290\n",
       "Skew:                           1.218   Prob(JB):                     8.17e-95\n",
       "Kurtosis:                       9.283   Cond. No.                     1.02e+05\n",
       "==============================================================================\n",
       "\n",
       "Warnings:\n",
       "[1] Standard Errors assume that the covariance matrix of the errors is correctly specified.\n",
       "[2] The condition number is large, 1.02e+05. This might indicate that there are\n",
       "strong multicollinearity or other numerical problems.\n",
       "\"\"\""
      ]
     },
     "execution_count": 51,
     "metadata": {},
     "output_type": "execute_result"
    }
   ],
   "source": [
    "result.summary()"
   ]
  },
  {
   "cell_type": "markdown",
   "metadata": {},
   "source": [
    "### 다중공선성 해결"
   ]
  },
  {
   "cell_type": "code",
   "execution_count": 52,
   "metadata": {},
   "outputs": [],
   "source": [
    "result = sm.ols(formula='kj~movers+old_gagu', data=data).fit()"
   ]
  },
  {
   "cell_type": "code",
   "execution_count": 53,
   "metadata": {
    "scrolled": true
   },
   "outputs": [
    {
     "data": {
      "text/html": [
       "<table class=\"simpletable\">\n",
       "<caption>OLS Regression Results</caption>\n",
       "<tr>\n",
       "  <th>Dep. Variable:</th>           <td>kj</td>        <th>  R-squared:         </th> <td>   0.674</td>\n",
       "</tr>\n",
       "<tr>\n",
       "  <th>Model:</th>                   <td>OLS</td>       <th>  Adj. R-squared:    </th> <td>   0.671</td>\n",
       "</tr>\n",
       "<tr>\n",
       "  <th>Method:</th>             <td>Least Squares</td>  <th>  F-statistic:       </th> <td>   233.2</td>\n",
       "</tr>\n",
       "<tr>\n",
       "  <th>Date:</th>             <td>Wed, 22 Apr 2020</td> <th>  Prob (F-statistic):</th> <td>1.15e-55</td>\n",
       "</tr>\n",
       "<tr>\n",
       "  <th>Time:</th>                 <td>10:48:46</td>     <th>  Log-Likelihood:    </th> <td> -1113.4</td>\n",
       "</tr>\n",
       "<tr>\n",
       "  <th>No. Observations:</th>      <td>   229</td>      <th>  AIC:               </th> <td>   2233.</td>\n",
       "</tr>\n",
       "<tr>\n",
       "  <th>Df Residuals:</th>          <td>   226</td>      <th>  BIC:               </th> <td>   2243.</td>\n",
       "</tr>\n",
       "<tr>\n",
       "  <th>Df Model:</th>              <td>     2</td>      <th>                     </th>     <td> </td>   \n",
       "</tr>\n",
       "<tr>\n",
       "  <th>Covariance Type:</th>      <td>nonrobust</td>    <th>                     </th>     <td> </td>   \n",
       "</tr>\n",
       "</table>\n",
       "<table class=\"simpletable\">\n",
       "<tr>\n",
       "      <td></td>         <th>coef</th>     <th>std err</th>      <th>t</th>      <th>P>|t|</th>  <th>[0.025</th>    <th>0.975]</th>  \n",
       "</tr>\n",
       "<tr>\n",
       "  <th>Intercept</th> <td>   -6.6692</td> <td>    2.864</td> <td>   -2.329</td> <td> 0.021</td> <td>  -12.312</td> <td>   -1.026</td>\n",
       "</tr>\n",
       "<tr>\n",
       "  <th>movers</th>    <td>    0.0538</td> <td>    0.011</td> <td>    5.071</td> <td> 0.000</td> <td>    0.033</td> <td>    0.075</td>\n",
       "</tr>\n",
       "<tr>\n",
       "  <th>old_gagu</th>  <td>    0.3203</td> <td>    0.023</td> <td>   13.963</td> <td> 0.000</td> <td>    0.275</td> <td>    0.366</td>\n",
       "</tr>\n",
       "</table>\n",
       "<table class=\"simpletable\">\n",
       "<tr>\n",
       "  <th>Omnibus:</th>       <td>87.933</td> <th>  Durbin-Watson:     </th> <td>   1.422</td> \n",
       "</tr>\n",
       "<tr>\n",
       "  <th>Prob(Omnibus):</th> <td> 0.000</td> <th>  Jarque-Bera (JB):  </th> <td> 559.237</td> \n",
       "</tr>\n",
       "<tr>\n",
       "  <th>Skew:</th>          <td> 1.345</td> <th>  Prob(JB):          </th> <td>3.66e-122</td>\n",
       "</tr>\n",
       "<tr>\n",
       "  <th>Kurtosis:</th>      <td>10.167</td> <th>  Cond. No.          </th> <td>    459.</td> \n",
       "</tr>\n",
       "</table><br/><br/>Warnings:<br/>[1] Standard Errors assume that the covariance matrix of the errors is correctly specified."
      ],
      "text/plain": [
       "<class 'statsmodels.iolib.summary.Summary'>\n",
       "\"\"\"\n",
       "                            OLS Regression Results                            \n",
       "==============================================================================\n",
       "Dep. Variable:                     kj   R-squared:                       0.674\n",
       "Model:                            OLS   Adj. R-squared:                  0.671\n",
       "Method:                 Least Squares   F-statistic:                     233.2\n",
       "Date:                Wed, 22 Apr 2020   Prob (F-statistic):           1.15e-55\n",
       "Time:                        10:48:46   Log-Likelihood:                -1113.4\n",
       "No. Observations:                 229   AIC:                             2233.\n",
       "Df Residuals:                     226   BIC:                             2243.\n",
       "Df Model:                           2                                         \n",
       "Covariance Type:            nonrobust                                         \n",
       "==============================================================================\n",
       "                 coef    std err          t      P>|t|      [0.025      0.975]\n",
       "------------------------------------------------------------------------------\n",
       "Intercept     -6.6692      2.864     -2.329      0.021     -12.312      -1.026\n",
       "movers         0.0538      0.011      5.071      0.000       0.033       0.075\n",
       "old_gagu       0.3203      0.023     13.963      0.000       0.275       0.366\n",
       "==============================================================================\n",
       "Omnibus:                       87.933   Durbin-Watson:                   1.422\n",
       "Prob(Omnibus):                  0.000   Jarque-Bera (JB):              559.237\n",
       "Skew:                           1.345   Prob(JB):                    3.66e-122\n",
       "Kurtosis:                      10.167   Cond. No.                         459.\n",
       "==============================================================================\n",
       "\n",
       "Warnings:\n",
       "[1] Standard Errors assume that the covariance matrix of the errors is correctly specified.\n",
       "\"\"\""
      ]
     },
     "execution_count": 53,
     "metadata": {},
     "output_type": "execute_result"
    }
   ],
   "source": [
    "result.summary()"
   ]
  },
  {
   "cell_type": "code",
   "execution_count": 54,
   "metadata": {},
   "outputs": [],
   "source": [
    "result = sm.ols(formula='kj~movers+old_gagu2', data=data).fit()"
   ]
  },
  {
   "cell_type": "code",
   "execution_count": 55,
   "metadata": {
    "scrolled": true
   },
   "outputs": [
    {
     "data": {
      "text/html": [
       "<table class=\"simpletable\">\n",
       "<caption>OLS Regression Results</caption>\n",
       "<tr>\n",
       "  <th>Dep. Variable:</th>           <td>kj</td>        <th>  R-squared:         </th> <td>   0.650</td>\n",
       "</tr>\n",
       "<tr>\n",
       "  <th>Model:</th>                   <td>OLS</td>       <th>  Adj. R-squared:    </th> <td>   0.647</td>\n",
       "</tr>\n",
       "<tr>\n",
       "  <th>Method:</th>             <td>Least Squares</td>  <th>  F-statistic:       </th> <td>   209.7</td>\n",
       "</tr>\n",
       "<tr>\n",
       "  <th>Date:</th>             <td>Wed, 22 Apr 2020</td> <th>  Prob (F-statistic):</th> <td>3.20e-52</td>\n",
       "</tr>\n",
       "<tr>\n",
       "  <th>Time:</th>                 <td>10:50:33</td>     <th>  Log-Likelihood:    </th> <td> -1121.4</td>\n",
       "</tr>\n",
       "<tr>\n",
       "  <th>No. Observations:</th>      <td>   229</td>      <th>  AIC:               </th> <td>   2249.</td>\n",
       "</tr>\n",
       "<tr>\n",
       "  <th>Df Residuals:</th>          <td>   226</td>      <th>  BIC:               </th> <td>   2259.</td>\n",
       "</tr>\n",
       "<tr>\n",
       "  <th>Df Model:</th>              <td>     2</td>      <th>                     </th>     <td> </td>   \n",
       "</tr>\n",
       "<tr>\n",
       "  <th>Covariance Type:</th>      <td>nonrobust</td>    <th>                     </th>     <td> </td>   \n",
       "</tr>\n",
       "</table>\n",
       "<table class=\"simpletable\">\n",
       "<tr>\n",
       "      <td></td>         <th>coef</th>     <th>std err</th>      <th>t</th>      <th>P>|t|</th>  <th>[0.025</th>    <th>0.975]</th>  \n",
       "</tr>\n",
       "<tr>\n",
       "  <th>Intercept</th> <td>   -6.2630</td> <td>    2.972</td> <td>   -2.107</td> <td> 0.036</td> <td>  -12.120</td> <td>   -0.407</td>\n",
       "</tr>\n",
       "<tr>\n",
       "  <th>movers</th>    <td>    0.0662</td> <td>    0.011</td> <td>    6.245</td> <td> 0.000</td> <td>    0.045</td> <td>    0.087</td>\n",
       "</tr>\n",
       "<tr>\n",
       "  <th>old_gagu2</th> <td>    0.3609</td> <td>    0.028</td> <td>   12.901</td> <td> 0.000</td> <td>    0.306</td> <td>    0.416</td>\n",
       "</tr>\n",
       "</table>\n",
       "<table class=\"simpletable\">\n",
       "<tr>\n",
       "  <th>Omnibus:</th>       <td>89.049</td> <th>  Durbin-Watson:     </th> <td>   1.396</td> \n",
       "</tr>\n",
       "<tr>\n",
       "  <th>Prob(Omnibus):</th> <td> 0.000</td> <th>  Jarque-Bera (JB):  </th> <td> 628.310</td> \n",
       "</tr>\n",
       "<tr>\n",
       "  <th>Skew:</th>          <td> 1.328</td> <th>  Prob(JB):          </th> <td>3.67e-137</td>\n",
       "</tr>\n",
       "<tr>\n",
       "  <th>Kurtosis:</th>      <td>10.668</td> <th>  Cond. No.          </th> <td>    449.</td> \n",
       "</tr>\n",
       "</table><br/><br/>Warnings:<br/>[1] Standard Errors assume that the covariance matrix of the errors is correctly specified."
      ],
      "text/plain": [
       "<class 'statsmodels.iolib.summary.Summary'>\n",
       "\"\"\"\n",
       "                            OLS Regression Results                            \n",
       "==============================================================================\n",
       "Dep. Variable:                     kj   R-squared:                       0.650\n",
       "Model:                            OLS   Adj. R-squared:                  0.647\n",
       "Method:                 Least Squares   F-statistic:                     209.7\n",
       "Date:                Wed, 22 Apr 2020   Prob (F-statistic):           3.20e-52\n",
       "Time:                        10:50:33   Log-Likelihood:                -1121.4\n",
       "No. Observations:                 229   AIC:                             2249.\n",
       "Df Residuals:                     226   BIC:                             2259.\n",
       "Df Model:                           2                                         \n",
       "Covariance Type:            nonrobust                                         \n",
       "==============================================================================\n",
       "                 coef    std err          t      P>|t|      [0.025      0.975]\n",
       "------------------------------------------------------------------------------\n",
       "Intercept     -6.2630      2.972     -2.107      0.036     -12.120      -0.407\n",
       "movers         0.0662      0.011      6.245      0.000       0.045       0.087\n",
       "old_gagu2      0.3609      0.028     12.901      0.000       0.306       0.416\n",
       "==============================================================================\n",
       "Omnibus:                       89.049   Durbin-Watson:                   1.396\n",
       "Prob(Omnibus):                  0.000   Jarque-Bera (JB):              628.310\n",
       "Skew:                           1.328   Prob(JB):                    3.67e-137\n",
       "Kurtosis:                      10.668   Cond. No.                         449.\n",
       "==============================================================================\n",
       "\n",
       "Warnings:\n",
       "[1] Standard Errors assume that the covariance matrix of the errors is correctly specified.\n",
       "\"\"\""
      ]
     },
     "execution_count": 55,
     "metadata": {},
     "output_type": "execute_result"
    }
   ],
   "source": [
    "result.summary()"
   ]
  },
  {
   "cell_type": "code",
   "execution_count": 56,
   "metadata": {},
   "outputs": [],
   "source": [
    "result2 = sm.ols(formula='ky~movers+old_gagu', data=data).fit()"
   ]
  },
  {
   "cell_type": "code",
   "execution_count": 57,
   "metadata": {
    "scrolled": true
   },
   "outputs": [
    {
     "data": {
      "text/html": [
       "<table class=\"simpletable\">\n",
       "<caption>OLS Regression Results</caption>\n",
       "<tr>\n",
       "  <th>Dep. Variable:</th>           <td>ky</td>        <th>  R-squared:         </th> <td>   0.648</td>\n",
       "</tr>\n",
       "<tr>\n",
       "  <th>Model:</th>                   <td>OLS</td>       <th>  Adj. R-squared:    </th> <td>   0.644</td>\n",
       "</tr>\n",
       "<tr>\n",
       "  <th>Method:</th>             <td>Least Squares</td>  <th>  F-statistic:       </th> <td>   207.6</td>\n",
       "</tr>\n",
       "<tr>\n",
       "  <th>Date:</th>             <td>Wed, 22 Apr 2020</td> <th>  Prob (F-statistic):</th> <td>6.59e-52</td>\n",
       "</tr>\n",
       "<tr>\n",
       "  <th>Time:</th>                 <td>10:50:55</td>     <th>  Log-Likelihood:    </th> <td> -730.37</td>\n",
       "</tr>\n",
       "<tr>\n",
       "  <th>No. Observations:</th>      <td>   229</td>      <th>  AIC:               </th> <td>   1467.</td>\n",
       "</tr>\n",
       "<tr>\n",
       "  <th>Df Residuals:</th>          <td>   226</td>      <th>  BIC:               </th> <td>   1477.</td>\n",
       "</tr>\n",
       "<tr>\n",
       "  <th>Df Model:</th>              <td>     2</td>      <th>                     </th>     <td> </td>   \n",
       "</tr>\n",
       "<tr>\n",
       "  <th>Covariance Type:</th>      <td>nonrobust</td>    <th>                     </th>     <td> </td>   \n",
       "</tr>\n",
       "</table>\n",
       "<table class=\"simpletable\">\n",
       "<tr>\n",
       "      <td></td>         <th>coef</th>     <th>std err</th>      <th>t</th>      <th>P>|t|</th>  <th>[0.025</th>    <th>0.975]</th>  \n",
       "</tr>\n",
       "<tr>\n",
       "  <th>Intercept</th> <td>   -1.0763</td> <td>    0.538</td> <td>   -2.002</td> <td> 0.047</td> <td>   -2.136</td> <td>   -0.017</td>\n",
       "</tr>\n",
       "<tr>\n",
       "  <th>movers</th>    <td>    0.0069</td> <td>    0.002</td> <td>    3.466</td> <td> 0.001</td> <td>    0.003</td> <td>    0.011</td>\n",
       "</tr>\n",
       "<tr>\n",
       "  <th>old_gagu</th>  <td>    0.0611</td> <td>    0.004</td> <td>   14.175</td> <td> 0.000</td> <td>    0.053</td> <td>    0.070</td>\n",
       "</tr>\n",
       "</table>\n",
       "<table class=\"simpletable\">\n",
       "<tr>\n",
       "  <th>Omnibus:</th>       <td>58.259</td> <th>  Durbin-Watson:     </th> <td>   1.636</td>\n",
       "</tr>\n",
       "<tr>\n",
       "  <th>Prob(Omnibus):</th> <td> 0.000</td> <th>  Jarque-Bera (JB):  </th> <td> 230.666</td>\n",
       "</tr>\n",
       "<tr>\n",
       "  <th>Skew:</th>          <td> 0.963</td> <th>  Prob(JB):          </th> <td>8.16e-51</td>\n",
       "</tr>\n",
       "<tr>\n",
       "  <th>Kurtosis:</th>      <td> 7.524</td> <th>  Cond. No.          </th> <td>    459.</td>\n",
       "</tr>\n",
       "</table><br/><br/>Warnings:<br/>[1] Standard Errors assume that the covariance matrix of the errors is correctly specified."
      ],
      "text/plain": [
       "<class 'statsmodels.iolib.summary.Summary'>\n",
       "\"\"\"\n",
       "                            OLS Regression Results                            \n",
       "==============================================================================\n",
       "Dep. Variable:                     ky   R-squared:                       0.648\n",
       "Model:                            OLS   Adj. R-squared:                  0.644\n",
       "Method:                 Least Squares   F-statistic:                     207.6\n",
       "Date:                Wed, 22 Apr 2020   Prob (F-statistic):           6.59e-52\n",
       "Time:                        10:50:55   Log-Likelihood:                -730.37\n",
       "No. Observations:                 229   AIC:                             1467.\n",
       "Df Residuals:                     226   BIC:                             1477.\n",
       "Df Model:                           2                                         \n",
       "Covariance Type:            nonrobust                                         \n",
       "==============================================================================\n",
       "                 coef    std err          t      P>|t|      [0.025      0.975]\n",
       "------------------------------------------------------------------------------\n",
       "Intercept     -1.0763      0.538     -2.002      0.047      -2.136      -0.017\n",
       "movers         0.0069      0.002      3.466      0.001       0.003       0.011\n",
       "old_gagu       0.0611      0.004     14.175      0.000       0.053       0.070\n",
       "==============================================================================\n",
       "Omnibus:                       58.259   Durbin-Watson:                   1.636\n",
       "Prob(Omnibus):                  0.000   Jarque-Bera (JB):              230.666\n",
       "Skew:                           0.963   Prob(JB):                     8.16e-51\n",
       "Kurtosis:                       7.524   Cond. No.                         459.\n",
       "==============================================================================\n",
       "\n",
       "Warnings:\n",
       "[1] Standard Errors assume that the covariance matrix of the errors is correctly specified.\n",
       "\"\"\""
      ]
     },
     "execution_count": 57,
     "metadata": {},
     "output_type": "execute_result"
    }
   ],
   "source": [
    "result2.summary()"
   ]
  },
  {
   "cell_type": "code",
   "execution_count": 58,
   "metadata": {},
   "outputs": [],
   "source": [
    "result2 = sm.ols(formula='ky~movers+old_gagu2', data=data).fit()"
   ]
  },
  {
   "cell_type": "code",
   "execution_count": 59,
   "metadata": {
    "scrolled": true
   },
   "outputs": [
    {
     "data": {
      "text/html": [
       "<table class=\"simpletable\">\n",
       "<caption>OLS Regression Results</caption>\n",
       "<tr>\n",
       "  <th>Dep. Variable:</th>           <td>ky</td>        <th>  R-squared:         </th> <td>   0.626</td>\n",
       "</tr>\n",
       "<tr>\n",
       "  <th>Model:</th>                   <td>OLS</td>       <th>  Adj. R-squared:    </th> <td>   0.622</td>\n",
       "</tr>\n",
       "<tr>\n",
       "  <th>Method:</th>             <td>Least Squares</td>  <th>  F-statistic:       </th> <td>   188.9</td>\n",
       "</tr>\n",
       "<tr>\n",
       "  <th>Date:</th>             <td>Wed, 22 Apr 2020</td> <th>  Prob (F-statistic):</th> <td>5.85e-49</td>\n",
       "</tr>\n",
       "<tr>\n",
       "  <th>Time:</th>                 <td>10:51:31</td>     <th>  Log-Likelihood:    </th> <td> -737.24</td>\n",
       "</tr>\n",
       "<tr>\n",
       "  <th>No. Observations:</th>      <td>   229</td>      <th>  AIC:               </th> <td>   1480.</td>\n",
       "</tr>\n",
       "<tr>\n",
       "  <th>Df Residuals:</th>          <td>   226</td>      <th>  BIC:               </th> <td>   1491.</td>\n",
       "</tr>\n",
       "<tr>\n",
       "  <th>Df Model:</th>              <td>     2</td>      <th>                     </th>     <td> </td>   \n",
       "</tr>\n",
       "<tr>\n",
       "  <th>Covariance Type:</th>      <td>nonrobust</td>    <th>                     </th>     <td> </td>   \n",
       "</tr>\n",
       "</table>\n",
       "<table class=\"simpletable\">\n",
       "<tr>\n",
       "      <td></td>         <th>coef</th>     <th>std err</th>      <th>t</th>      <th>P>|t|</th>  <th>[0.025</th>    <th>0.975]</th>  \n",
       "</tr>\n",
       "<tr>\n",
       "  <th>Intercept</th> <td>   -1.0201</td> <td>    0.555</td> <td>   -1.837</td> <td> 0.067</td> <td>   -2.114</td> <td>    0.074</td>\n",
       "</tr>\n",
       "<tr>\n",
       "  <th>movers</th>    <td>    0.0092</td> <td>    0.002</td> <td>    4.623</td> <td> 0.000</td> <td>    0.005</td> <td>    0.013</td>\n",
       "</tr>\n",
       "<tr>\n",
       "  <th>old_gagu2</th> <td>    0.0693</td> <td>    0.005</td> <td>   13.268</td> <td> 0.000</td> <td>    0.059</td> <td>    0.080</td>\n",
       "</tr>\n",
       "</table>\n",
       "<table class=\"simpletable\">\n",
       "<tr>\n",
       "  <th>Omnibus:</th>       <td>51.915</td> <th>  Durbin-Watson:     </th> <td>   1.622</td>\n",
       "</tr>\n",
       "<tr>\n",
       "  <th>Prob(Omnibus):</th> <td> 0.000</td> <th>  Jarque-Bera (JB):  </th> <td> 198.850</td>\n",
       "</tr>\n",
       "<tr>\n",
       "  <th>Skew:</th>          <td> 0.856</td> <th>  Prob(JB):          </th> <td>6.61e-44</td>\n",
       "</tr>\n",
       "<tr>\n",
       "  <th>Kurtosis:</th>      <td> 7.232</td> <th>  Cond. No.          </th> <td>    449.</td>\n",
       "</tr>\n",
       "</table><br/><br/>Warnings:<br/>[1] Standard Errors assume that the covariance matrix of the errors is correctly specified."
      ],
      "text/plain": [
       "<class 'statsmodels.iolib.summary.Summary'>\n",
       "\"\"\"\n",
       "                            OLS Regression Results                            \n",
       "==============================================================================\n",
       "Dep. Variable:                     ky   R-squared:                       0.626\n",
       "Model:                            OLS   Adj. R-squared:                  0.622\n",
       "Method:                 Least Squares   F-statistic:                     188.9\n",
       "Date:                Wed, 22 Apr 2020   Prob (F-statistic):           5.85e-49\n",
       "Time:                        10:51:31   Log-Likelihood:                -737.24\n",
       "No. Observations:                 229   AIC:                             1480.\n",
       "Df Residuals:                     226   BIC:                             1491.\n",
       "Df Model:                           2                                         \n",
       "Covariance Type:            nonrobust                                         \n",
       "==============================================================================\n",
       "                 coef    std err          t      P>|t|      [0.025      0.975]\n",
       "------------------------------------------------------------------------------\n",
       "Intercept     -1.0201      0.555     -1.837      0.067      -2.114       0.074\n",
       "movers         0.0092      0.002      4.623      0.000       0.005       0.013\n",
       "old_gagu2      0.0693      0.005     13.268      0.000       0.059       0.080\n",
       "==============================================================================\n",
       "Omnibus:                       51.915   Durbin-Watson:                   1.622\n",
       "Prob(Omnibus):                  0.000   Jarque-Bera (JB):              198.850\n",
       "Skew:                           0.856   Prob(JB):                     6.61e-44\n",
       "Kurtosis:                       7.232   Cond. No.                         449.\n",
       "==============================================================================\n",
       "\n",
       "Warnings:\n",
       "[1] Standard Errors assume that the covariance matrix of the errors is correctly specified.\n",
       "\"\"\""
      ]
     },
     "execution_count": 59,
     "metadata": {},
     "output_type": "execute_result"
    }
   ],
   "source": [
    "result2.summary()"
   ]
  },
  {
   "cell_type": "markdown",
   "metadata": {},
   "source": [
    "# '주소_번지'가 입력되지 않은 데이터 찾기"
   ]
  },
  {
   "cell_type": "code",
   "execution_count": 1,
   "metadata": {},
   "outputs": [],
   "source": [
    "import pandas as pd"
   ]
  },
  {
   "cell_type": "code",
   "execution_count": 2,
   "metadata": {},
   "outputs": [],
   "source": [
    "kj = pd.read_csv('../data/전처리완료/집닥_견적DB_최종.csv')"
   ]
  },
  {
   "cell_type": "code",
   "execution_count": 3,
   "metadata": {},
   "outputs": [
    {
     "data": {
      "text/plain": [
       "Index(['견적번호', '견적일', '유입경로', '유입경로_상세', '지역', '주소_시군구', '주소_읍면동', '주소_번지',\n",
       "       '아파트명', '전체주소', '평수', '대상구분', '시공대상', '시공범위', '공사예산_고객예산',\n",
       "       '공사예산_CS확인예산', '계약번호', '요청', '인입채널_UTM'],\n",
       "      dtype='object')"
      ]
     },
     "execution_count": 3,
     "metadata": {},
     "output_type": "execute_result"
    }
   ],
   "source": [
    "kj.columns"
   ]
  },
  {
   "cell_type": "code",
   "execution_count": 7,
   "metadata": {},
   "outputs": [
    {
     "data": {
      "text/html": [
       "<div>\n",
       "<style scoped>\n",
       "    .dataframe tbody tr th:only-of-type {\n",
       "        vertical-align: middle;\n",
       "    }\n",
       "\n",
       "    .dataframe tbody tr th {\n",
       "        vertical-align: top;\n",
       "    }\n",
       "\n",
       "    .dataframe thead th {\n",
       "        text-align: right;\n",
       "    }\n",
       "</style>\n",
       "<table border=\"1\" class=\"dataframe\">\n",
       "  <thead>\n",
       "    <tr style=\"text-align: right;\">\n",
       "      <th></th>\n",
       "      <th>견적번호</th>\n",
       "      <th>견적일</th>\n",
       "      <th>유입경로</th>\n",
       "      <th>유입경로_상세</th>\n",
       "      <th>지역</th>\n",
       "      <th>주소_시군구</th>\n",
       "      <th>주소_읍면동</th>\n",
       "      <th>주소_번지</th>\n",
       "      <th>아파트명</th>\n",
       "      <th>전체주소</th>\n",
       "      <th>평수</th>\n",
       "      <th>대상구분</th>\n",
       "      <th>시공대상</th>\n",
       "      <th>시공범위</th>\n",
       "      <th>공사예산_고객예산</th>\n",
       "      <th>공사예산_CS확인예산</th>\n",
       "      <th>계약번호</th>\n",
       "      <th>요청</th>\n",
       "      <th>인입채널_UTM</th>\n",
       "    </tr>\n",
       "  </thead>\n",
       "  <tbody>\n",
       "    <tr>\n",
       "      <td>0</td>\n",
       "      <td>200037</td>\n",
       "      <td>2019-07-31 21:56</td>\n",
       "      <td>웹</td>\n",
       "      <td>모바일웹</td>\n",
       "      <td>경상남도</td>\n",
       "      <td>창원시 성산구</td>\n",
       "      <td>반림동</td>\n",
       "      <td>8</td>\n",
       "      <td>럭키반림아파트</td>\n",
       "      <td>경상남도 창원시 성산구 반림동 8</td>\n",
       "      <td>31.0</td>\n",
       "      <td>주거공간</td>\n",
       "      <td>아파트</td>\n",
       "      <td>전체</td>\n",
       "      <td>-</td>\n",
       "      <td>4,000만원 ~ 5,000만원 미만</td>\n",
       "      <td>NaN</td>\n",
       "      <td>방이 4개가 필요합니다\\n안방을 아들 둘이 지낼수있도록 해서\\n부부 각 방 하나씩 ...</td>\n",
       "      <td>네이버검색광고_Mobile</td>\n",
       "    </tr>\n",
       "    <tr>\n",
       "      <td>1</td>\n",
       "      <td>200030</td>\n",
       "      <td>2019-07-31 20:31</td>\n",
       "      <td>앱</td>\n",
       "      <td>아이폰</td>\n",
       "      <td>서울특별시</td>\n",
       "      <td>강동구</td>\n",
       "      <td>명일동</td>\n",
       "      <td>54</td>\n",
       "      <td>한양아파트</td>\n",
       "      <td>서울특별시 강동구 명일동 54</td>\n",
       "      <td>42.0</td>\n",
       "      <td>주거공간</td>\n",
       "      <td>아파트</td>\n",
       "      <td>전체</td>\n",
       "      <td>-</td>\n",
       "      <td>4,000만원 ~ 5,000만원 미만</td>\n",
       "      <td>NaN</td>\n",
       "      <td>배관공사 포함 샷시 \\r\\n모두 올수리입니다</td>\n",
       "      <td>-</td>\n",
       "    </tr>\n",
       "    <tr>\n",
       "      <td>2</td>\n",
       "      <td>199988</td>\n",
       "      <td>2019-07-31 16:26</td>\n",
       "      <td>앱</td>\n",
       "      <td>안드로이드</td>\n",
       "      <td>서울특별시</td>\n",
       "      <td>강서구</td>\n",
       "      <td>가양동</td>\n",
       "      <td>1461</td>\n",
       "      <td>가양2단지아파트</td>\n",
       "      <td>서울특별시 강서구 가양동 1461</td>\n",
       "      <td>24.0</td>\n",
       "      <td>주거공간</td>\n",
       "      <td>아파트</td>\n",
       "      <td>전체</td>\n",
       "      <td>-</td>\n",
       "      <td>1,000만원 ~ 2,000만원 미만</td>\n",
       "      <td>9884.0</td>\n",
       "      <td>-</td>\n",
       "      <td>-</td>\n",
       "    </tr>\n",
       "    <tr>\n",
       "      <td>3</td>\n",
       "      <td>199970</td>\n",
       "      <td>2019-07-31 15:30</td>\n",
       "      <td>웹</td>\n",
       "      <td>PC웹</td>\n",
       "      <td>서울특별시</td>\n",
       "      <td>성북구</td>\n",
       "      <td>돈암동</td>\n",
       "      <td>644</td>\n",
       "      <td>돈암코오롱하늘채</td>\n",
       "      <td>서울특별시 성북구 돈암동 644</td>\n",
       "      <td>34.0</td>\n",
       "      <td>주거공간</td>\n",
       "      <td>아파트</td>\n",
       "      <td>전체</td>\n",
       "      <td>3,000만원 ~ 4,000만원 미만</td>\n",
       "      <td>3,000만원 ~ 4,000만원 미만</td>\n",
       "      <td>NaN</td>\n",
       "      <td>- 상담희망시간 : 무관\\r\\n- 현장위치 : 서울특별시 성북구 아리랑로 75 돈암...</td>\n",
       "      <td>-</td>\n",
       "    </tr>\n",
       "    <tr>\n",
       "      <td>4</td>\n",
       "      <td>199937</td>\n",
       "      <td>2019-07-31 14:31</td>\n",
       "      <td>외부</td>\n",
       "      <td>믹스앤픽스</td>\n",
       "      <td>서울특별시</td>\n",
       "      <td>강동구</td>\n",
       "      <td>암사동</td>\n",
       "      <td>509</td>\n",
       "      <td>선사현대아파트</td>\n",
       "      <td>서울특별시 강동구 암사동 509</td>\n",
       "      <td>34.0</td>\n",
       "      <td>주거공간</td>\n",
       "      <td>아파트</td>\n",
       "      <td>전체</td>\n",
       "      <td>-</td>\n",
       "      <td>4,000만원 ~ 5,000만원 미만</td>\n",
       "      <td>NaN</td>\n",
       "      <td>-</td>\n",
       "      <td>-</td>\n",
       "    </tr>\n",
       "    <tr>\n",
       "      <td>...</td>\n",
       "      <td>...</td>\n",
       "      <td>...</td>\n",
       "      <td>...</td>\n",
       "      <td>...</td>\n",
       "      <td>...</td>\n",
       "      <td>...</td>\n",
       "      <td>...</td>\n",
       "      <td>...</td>\n",
       "      <td>...</td>\n",
       "      <td>...</td>\n",
       "      <td>...</td>\n",
       "      <td>...</td>\n",
       "      <td>...</td>\n",
       "      <td>...</td>\n",
       "      <td>...</td>\n",
       "      <td>...</td>\n",
       "      <td>...</td>\n",
       "      <td>...</td>\n",
       "      <td>...</td>\n",
       "    </tr>\n",
       "    <tr>\n",
       "      <td>8099</td>\n",
       "      <td>200086</td>\n",
       "      <td>2019-08-01 11:27</td>\n",
       "      <td>콜</td>\n",
       "      <td>검색</td>\n",
       "      <td>경기도</td>\n",
       "      <td>하남시</td>\n",
       "      <td>신장동</td>\n",
       "      <td>528</td>\n",
       "      <td>백조현대아파트</td>\n",
       "      <td>경기도 하남시 신장동 528</td>\n",
       "      <td>22.0</td>\n",
       "      <td>주거공간</td>\n",
       "      <td>아파트</td>\n",
       "      <td>전체</td>\n",
       "      <td>-</td>\n",
       "      <td>2,000만원 ~ 3,000만원 미만</td>\n",
       "      <td>NaN</td>\n",
       "      <td>-</td>\n",
       "      <td>-</td>\n",
       "    </tr>\n",
       "    <tr>\n",
       "      <td>8100</td>\n",
       "      <td>200081</td>\n",
       "      <td>2019-08-01 11:04</td>\n",
       "      <td>웹</td>\n",
       "      <td>모바일웹</td>\n",
       "      <td>경기도</td>\n",
       "      <td>화성시</td>\n",
       "      <td>기안동</td>\n",
       "      <td>897</td>\n",
       "      <td>기안마을 풍성신미주아파트</td>\n",
       "      <td>경기도 화성시 기안동 897</td>\n",
       "      <td>33.0</td>\n",
       "      <td>주거공간</td>\n",
       "      <td>아파트</td>\n",
       "      <td>전체</td>\n",
       "      <td>-</td>\n",
       "      <td>2,000만원 ~ 3,000만원 미만</td>\n",
       "      <td>10547.0</td>\n",
       "      <td>33평 아파트</td>\n",
       "      <td>네이버검색광고_Mobile</td>\n",
       "    </tr>\n",
       "    <tr>\n",
       "      <td>8101</td>\n",
       "      <td>200074</td>\n",
       "      <td>2019-08-01 10:07</td>\n",
       "      <td>웹</td>\n",
       "      <td>모바일웹</td>\n",
       "      <td>경기도</td>\n",
       "      <td>평택시</td>\n",
       "      <td>비전동</td>\n",
       "      <td>946</td>\n",
       "      <td>비전롯데캐슬아파트</td>\n",
       "      <td>경기도 평택시 비전동 946</td>\n",
       "      <td>45.0</td>\n",
       "      <td>주거공간</td>\n",
       "      <td>아파트</td>\n",
       "      <td>전체</td>\n",
       "      <td>-</td>\n",
       "      <td>3,000만원 ~ 4,000만원 미만</td>\n",
       "      <td>10618.0</td>\n",
       "      <td>45평 풀 인테리이어  거실 확장 포함</td>\n",
       "      <td>-</td>\n",
       "    </tr>\n",
       "    <tr>\n",
       "      <td>8102</td>\n",
       "      <td>200064</td>\n",
       "      <td>2019-08-01 9:12</td>\n",
       "      <td>앱</td>\n",
       "      <td>안드로이드</td>\n",
       "      <td>대구광역시</td>\n",
       "      <td>동구</td>\n",
       "      <td>용계동</td>\n",
       "      <td>467-1</td>\n",
       "      <td>강변동서마을</td>\n",
       "      <td>대구광역시 동구 용계동 467-1</td>\n",
       "      <td>40.0</td>\n",
       "      <td>주거공간</td>\n",
       "      <td>아파트</td>\n",
       "      <td>전체</td>\n",
       "      <td>-</td>\n",
       "      <td>3,000만원 ~ 4,000만원 미만</td>\n",
       "      <td>10240.0</td>\n",
       "      <td>40평아파트 올리모델링</td>\n",
       "      <td>-</td>\n",
       "    </tr>\n",
       "    <tr>\n",
       "      <td>8103</td>\n",
       "      <td>200060</td>\n",
       "      <td>2019-08-01 7:53</td>\n",
       "      <td>앱</td>\n",
       "      <td>안드로이드</td>\n",
       "      <td>강원도</td>\n",
       "      <td>강릉시</td>\n",
       "      <td>교동</td>\n",
       "      <td>1750</td>\n",
       "      <td>강릉 교동(1)주공아파트</td>\n",
       "      <td>강원도 강릉시 교동 1750</td>\n",
       "      <td>33.0</td>\n",
       "      <td>주거공간</td>\n",
       "      <td>아파트</td>\n",
       "      <td>전체</td>\n",
       "      <td>-</td>\n",
       "      <td>2,000만원 ~ 3,000만원 미만</td>\n",
       "      <td>11469.0</td>\n",
       "      <td>33평 아파트 올수리</td>\n",
       "      <td>-</td>\n",
       "    </tr>\n",
       "  </tbody>\n",
       "</table>\n",
       "<p>7897 rows × 19 columns</p>\n",
       "</div>"
      ],
      "text/plain": [
       "        견적번호               견적일 유입경로 유입경로_상세     지역   주소_시군구 주소_읍면동  주소_번지  \\\n",
       "0     200037  2019-07-31 21:56    웹    모바일웹   경상남도  창원시 성산구    반림동      8   \n",
       "1     200030  2019-07-31 20:31    앱     아이폰  서울특별시      강동구    명일동     54   \n",
       "2     199988  2019-07-31 16:26    앱   안드로이드  서울특별시      강서구    가양동   1461   \n",
       "3     199970  2019-07-31 15:30    웹     PC웹  서울특별시      성북구    돈암동    644   \n",
       "4     199937  2019-07-31 14:31   외부   믹스앤픽스  서울특별시      강동구    암사동    509   \n",
       "...      ...               ...  ...     ...    ...      ...    ...    ...   \n",
       "8099  200086  2019-08-01 11:27    콜      검색    경기도      하남시    신장동    528   \n",
       "8100  200081  2019-08-01 11:04    웹    모바일웹    경기도      화성시    기안동    897   \n",
       "8101  200074  2019-08-01 10:07    웹    모바일웹    경기도      평택시    비전동    946   \n",
       "8102  200064   2019-08-01 9:12    앱   안드로이드  대구광역시       동구    용계동  467-1   \n",
       "8103  200060   2019-08-01 7:53    앱   안드로이드    강원도      강릉시     교동   1750   \n",
       "\n",
       "               아파트명                전체주소    평수  대상구분 시공대상 시공범위  \\\n",
       "0           럭키반림아파트  경상남도 창원시 성산구 반림동 8  31.0  주거공간  아파트   전체   \n",
       "1             한양아파트    서울특별시 강동구 명일동 54  42.0  주거공간  아파트   전체   \n",
       "2          가양2단지아파트  서울특별시 강서구 가양동 1461  24.0  주거공간  아파트   전체   \n",
       "3          돈암코오롱하늘채   서울특별시 성북구 돈암동 644  34.0  주거공간  아파트   전체   \n",
       "4           선사현대아파트   서울특별시 강동구 암사동 509  34.0  주거공간  아파트   전체   \n",
       "...             ...                 ...   ...   ...  ...  ...   \n",
       "8099        백조현대아파트     경기도 하남시 신장동 528  22.0  주거공간  아파트   전체   \n",
       "8100  기안마을 풍성신미주아파트     경기도 화성시 기안동 897  33.0  주거공간  아파트   전체   \n",
       "8101      비전롯데캐슬아파트     경기도 평택시 비전동 946  45.0  주거공간  아파트   전체   \n",
       "8102         강변동서마을  대구광역시 동구 용계동 467-1  40.0  주거공간  아파트   전체   \n",
       "8103  강릉 교동(1)주공아파트     강원도 강릉시 교동 1750  33.0  주거공간  아파트   전체   \n",
       "\n",
       "                 공사예산_고객예산           공사예산_CS확인예산     계약번호  \\\n",
       "0                        -  4,000만원 ~ 5,000만원 미만      NaN   \n",
       "1                        -  4,000만원 ~ 5,000만원 미만      NaN   \n",
       "2                        -  1,000만원 ~ 2,000만원 미만   9884.0   \n",
       "3     3,000만원 ~ 4,000만원 미만  3,000만원 ~ 4,000만원 미만      NaN   \n",
       "4                        -  4,000만원 ~ 5,000만원 미만      NaN   \n",
       "...                    ...                   ...      ...   \n",
       "8099                     -  2,000만원 ~ 3,000만원 미만      NaN   \n",
       "8100                     -  2,000만원 ~ 3,000만원 미만  10547.0   \n",
       "8101                     -  3,000만원 ~ 4,000만원 미만  10618.0   \n",
       "8102                     -  3,000만원 ~ 4,000만원 미만  10240.0   \n",
       "8103                     -  2,000만원 ~ 3,000만원 미만  11469.0   \n",
       "\n",
       "                                                     요청        인입채널_UTM  \n",
       "0     방이 4개가 필요합니다\\n안방을 아들 둘이 지낼수있도록 해서\\n부부 각 방 하나씩 ...  네이버검색광고_Mobile  \n",
       "1                              배관공사 포함 샷시 \\r\\n모두 올수리입니다               -  \n",
       "2                                                     -               -  \n",
       "3     - 상담희망시간 : 무관\\r\\n- 현장위치 : 서울특별시 성북구 아리랑로 75 돈암...               -  \n",
       "4                                                     -               -  \n",
       "...                                                 ...             ...  \n",
       "8099                                                  -               -  \n",
       "8100                                            33평 아파트  네이버검색광고_Mobile  \n",
       "8101                              45평 풀 인테리이어  거실 확장 포함               -  \n",
       "8102                                       40평아파트 올리모델링               -  \n",
       "8103                                        33평 아파트 올수리               -  \n",
       "\n",
       "[7897 rows x 19 columns]"
      ]
     },
     "execution_count": 7,
     "metadata": {},
     "output_type": "execute_result"
    }
   ],
   "source": [
    "kj[kj['주소_번지']!='-']"
   ]
  },
  {
   "cell_type": "code",
   "execution_count": 6,
   "metadata": {},
   "outputs": [
    {
     "data": {
      "text/plain": [
       "(8104, 19)"
      ]
     },
     "execution_count": 6,
     "metadata": {},
     "output_type": "execute_result"
    }
   ],
   "source": [
    "kj.shape"
   ]
  },
  {
   "cell_type": "code",
   "execution_count": null,
   "metadata": {},
   "outputs": [],
   "source": []
  }
 ],
 "metadata": {
  "kernelspec": {
   "display_name": "Python 3",
   "language": "python",
   "name": "python3"
  },
  "language_info": {
   "codemirror_mode": {
    "name": "ipython",
    "version": 3
   },
   "file_extension": ".py",
   "mimetype": "text/x-python",
   "name": "python",
   "nbconvert_exporter": "python",
   "pygments_lexer": "ipython3",
   "version": "3.7.4"
  },
  "toc": {
   "base_numbering": 1,
   "nav_menu": {},
   "number_sections": true,
   "sideBar": true,
   "skip_h1_title": false,
   "title_cell": "Table of Contents",
   "title_sidebar": "Contents",
   "toc_cell": false,
   "toc_position": {},
   "toc_section_display": true,
   "toc_window_display": true
  },
  "varInspector": {
   "cols": {
    "lenName": 16,
    "lenType": 16,
    "lenVar": 40
   },
   "kernels_config": {
    "python": {
     "delete_cmd_postfix": "",
     "delete_cmd_prefix": "del ",
     "library": "var_list.py",
     "varRefreshCmd": "print(var_dic_list())"
    },
    "r": {
     "delete_cmd_postfix": ") ",
     "delete_cmd_prefix": "rm(",
     "library": "var_list.r",
     "varRefreshCmd": "cat(var_dic_list()) "
    }
   },
   "types_to_exclude": [
    "module",
    "function",
    "builtin_function_or_method",
    "instance",
    "_Feature"
   ],
   "window_display": false
  }
 },
 "nbformat": 4,
 "nbformat_minor": 2
}
