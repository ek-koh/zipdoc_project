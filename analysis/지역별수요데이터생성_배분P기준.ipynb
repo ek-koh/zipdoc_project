{
 "cells": [
  {
   "cell_type": "markdown",
   "metadata": {},
   "source": [
    "# 데이터 로드 및 형태 확인"
   ]
  },
  {
   "cell_type": "code",
   "execution_count": 101,
   "metadata": {},
   "outputs": [],
   "source": [
    "import pandas as pd"
   ]
  },
  {
   "cell_type": "code",
   "execution_count": 102,
   "metadata": {},
   "outputs": [],
   "source": [
    "kj_new = pd.read_csv('C:/Users/B0113/Desktop/집닥 프로젝트/data/전처리완료/집닥_견적DB_최종_배분P.csv')"
   ]
  },
  {
   "cell_type": "code",
   "execution_count": 103,
   "metadata": {},
   "outputs": [
    {
     "data": {
      "text/html": [
       "<div>\n",
       "<style scoped>\n",
       "    .dataframe tbody tr th:only-of-type {\n",
       "        vertical-align: middle;\n",
       "    }\n",
       "\n",
       "    .dataframe tbody tr th {\n",
       "        vertical-align: top;\n",
       "    }\n",
       "\n",
       "    .dataframe thead th {\n",
       "        text-align: right;\n",
       "    }\n",
       "</style>\n",
       "<table border=\"1\" class=\"dataframe\">\n",
       "  <thead>\n",
       "    <tr style=\"text-align: right;\">\n",
       "      <th></th>\n",
       "      <th>견적번호</th>\n",
       "      <th>견적일</th>\n",
       "      <th>유입경로</th>\n",
       "      <th>유입경로_상세</th>\n",
       "      <th>지역</th>\n",
       "      <th>주소_시군구</th>\n",
       "      <th>주소_읍면동</th>\n",
       "      <th>주소_번지</th>\n",
       "      <th>아파트명</th>\n",
       "      <th>전체주소</th>\n",
       "      <th>...</th>\n",
       "      <th>배분P_2</th>\n",
       "      <th>배분P_3</th>\n",
       "      <th>배분P_4</th>\n",
       "      <th>배분P_5</th>\n",
       "      <th>배분P_6</th>\n",
       "      <th>배분P_7</th>\n",
       "      <th>배분P_8</th>\n",
       "      <th>배분P_9</th>\n",
       "      <th>배분P_10</th>\n",
       "      <th>수요_배분P전체기준</th>\n",
       "    </tr>\n",
       "  </thead>\n",
       "  <tbody>\n",
       "    <tr>\n",
       "      <td>0</td>\n",
       "      <td>200037</td>\n",
       "      <td>2019-07-31 21:56</td>\n",
       "      <td>웹</td>\n",
       "      <td>모바일웹</td>\n",
       "      <td>경상남도</td>\n",
       "      <td>창원시 성산구</td>\n",
       "      <td>반림동</td>\n",
       "      <td>8</td>\n",
       "      <td>럭키반림아파트</td>\n",
       "      <td>경상남도 창원시 성산구 반림동 8</td>\n",
       "      <td>...</td>\n",
       "      <td>비율디자인(수락)</td>\n",
       "      <td>리안디자인(수락)</td>\n",
       "      <td>NaN</td>\n",
       "      <td>NaN</td>\n",
       "      <td>NaN</td>\n",
       "      <td>NaN</td>\n",
       "      <td>NaN</td>\n",
       "      <td>NaN</td>\n",
       "      <td>NaN</td>\n",
       "      <td>3</td>\n",
       "    </tr>\n",
       "    <tr>\n",
       "      <td>1</td>\n",
       "      <td>200030</td>\n",
       "      <td>2019-07-31 20:31</td>\n",
       "      <td>앱</td>\n",
       "      <td>아이폰</td>\n",
       "      <td>서울특별시</td>\n",
       "      <td>강동구</td>\n",
       "      <td>명일동</td>\n",
       "      <td>54</td>\n",
       "      <td>한양아파트</td>\n",
       "      <td>서울특별시 강동구 명일동 54</td>\n",
       "      <td>...</td>\n",
       "      <td>디자인스튜디오산들(수락)</td>\n",
       "      <td>인테리온(수락)</td>\n",
       "      <td>NaN</td>\n",
       "      <td>NaN</td>\n",
       "      <td>NaN</td>\n",
       "      <td>NaN</td>\n",
       "      <td>NaN</td>\n",
       "      <td>NaN</td>\n",
       "      <td>NaN</td>\n",
       "      <td>3</td>\n",
       "    </tr>\n",
       "    <tr>\n",
       "      <td>2</td>\n",
       "      <td>199988</td>\n",
       "      <td>2019-07-31 16:26</td>\n",
       "      <td>앱</td>\n",
       "      <td>안드로이드</td>\n",
       "      <td>서울특별시</td>\n",
       "      <td>강서구</td>\n",
       "      <td>가양동</td>\n",
       "      <td>1461</td>\n",
       "      <td>가양2단지아파트</td>\n",
       "      <td>서울특별시 강서구 가양동 1461</td>\n",
       "      <td>...</td>\n",
       "      <td>NaN</td>\n",
       "      <td>NaN</td>\n",
       "      <td>NaN</td>\n",
       "      <td>NaN</td>\n",
       "      <td>NaN</td>\n",
       "      <td>NaN</td>\n",
       "      <td>NaN</td>\n",
       "      <td>NaN</td>\n",
       "      <td>NaN</td>\n",
       "      <td>1</td>\n",
       "    </tr>\n",
       "    <tr>\n",
       "      <td>3</td>\n",
       "      <td>199970</td>\n",
       "      <td>2019-07-31 15:30</td>\n",
       "      <td>웹</td>\n",
       "      <td>PC웹</td>\n",
       "      <td>서울특별시</td>\n",
       "      <td>성북구</td>\n",
       "      <td>돈암동</td>\n",
       "      <td>644</td>\n",
       "      <td>돈암코오롱하늘채</td>\n",
       "      <td>서울특별시 성북구 돈암동 644</td>\n",
       "      <td>...</td>\n",
       "      <td>리홈디자인갤러리(수락)</td>\n",
       "      <td>NaN</td>\n",
       "      <td>NaN</td>\n",
       "      <td>NaN</td>\n",
       "      <td>NaN</td>\n",
       "      <td>NaN</td>\n",
       "      <td>NaN</td>\n",
       "      <td>NaN</td>\n",
       "      <td>NaN</td>\n",
       "      <td>2</td>\n",
       "    </tr>\n",
       "    <tr>\n",
       "      <td>4</td>\n",
       "      <td>199937</td>\n",
       "      <td>2019-07-31 14:31</td>\n",
       "      <td>외부</td>\n",
       "      <td>믹스앤픽스</td>\n",
       "      <td>서울특별시</td>\n",
       "      <td>강동구</td>\n",
       "      <td>암사동</td>\n",
       "      <td>509</td>\n",
       "      <td>선사현대아파트</td>\n",
       "      <td>서울특별시 강동구 암사동 509</td>\n",
       "      <td>...</td>\n",
       "      <td>디자인스튜디오산들(수락)</td>\n",
       "      <td>행복공간디자인(수락)</td>\n",
       "      <td>NaN</td>\n",
       "      <td>NaN</td>\n",
       "      <td>NaN</td>\n",
       "      <td>NaN</td>\n",
       "      <td>NaN</td>\n",
       "      <td>NaN</td>\n",
       "      <td>NaN</td>\n",
       "      <td>3</td>\n",
       "    </tr>\n",
       "  </tbody>\n",
       "</table>\n",
       "<p>5 rows × 33 columns</p>\n",
       "</div>"
      ],
      "text/plain": [
       "     견적번호               견적일 유입경로 유입경로_상세     지역   주소_시군구 주소_읍면동 주소_번지  \\\n",
       "0  200037  2019-07-31 21:56    웹    모바일웹   경상남도  창원시 성산구    반림동     8   \n",
       "1  200030  2019-07-31 20:31    앱     아이폰  서울특별시      강동구    명일동    54   \n",
       "2  199988  2019-07-31 16:26    앱   안드로이드  서울특별시      강서구    가양동  1461   \n",
       "3  199970  2019-07-31 15:30    웹     PC웹  서울특별시      성북구    돈암동   644   \n",
       "4  199937  2019-07-31 14:31   외부   믹스앤픽스  서울특별시      강동구    암사동   509   \n",
       "\n",
       "       아파트명                전체주소  ...          배분P_2        배분P_3 배분P_4 배분P_5  \\\n",
       "0   럭키반림아파트  경상남도 창원시 성산구 반림동 8  ...      비율디자인(수락)    리안디자인(수락)   NaN   NaN   \n",
       "1     한양아파트    서울특별시 강동구 명일동 54  ...  디자인스튜디오산들(수락)     인테리온(수락)   NaN   NaN   \n",
       "2  가양2단지아파트  서울특별시 강서구 가양동 1461  ...            NaN          NaN   NaN   NaN   \n",
       "3  돈암코오롱하늘채   서울특별시 성북구 돈암동 644  ...   리홈디자인갤러리(수락)          NaN   NaN   NaN   \n",
       "4   선사현대아파트   서울특별시 강동구 암사동 509  ...  디자인스튜디오산들(수락)  행복공간디자인(수락)   NaN   NaN   \n",
       "\n",
       "  배분P_6 배분P_7  배분P_8 배분P_9 배분P_10 수요_배분P전체기준  \n",
       "0   NaN   NaN    NaN   NaN    NaN          3  \n",
       "1   NaN   NaN    NaN   NaN    NaN          3  \n",
       "2   NaN   NaN    NaN   NaN    NaN          1  \n",
       "3   NaN   NaN    NaN   NaN    NaN          2  \n",
       "4   NaN   NaN    NaN   NaN    NaN          3  \n",
       "\n",
       "[5 rows x 33 columns]"
      ]
     },
     "execution_count": 103,
     "metadata": {},
     "output_type": "execute_result"
    }
   ],
   "source": [
    "kj_new.head()"
   ]
  },
  {
   "cell_type": "markdown",
   "metadata": {},
   "source": [
    "# '주소_시군구' 컬럼에서 '주소_시군' 컬럼 만들기\n",
    "ex. 창원시 성산구 -> 창원시, 강서구 -> 강서구\n",
    "## split 함수 생성"
   ]
  },
  {
   "cell_type": "code",
   "execution_count": 104,
   "metadata": {},
   "outputs": [
    {
     "data": {
      "text/plain": [
       "'창원시'"
      ]
     },
     "execution_count": 104,
     "metadata": {},
     "output_type": "execute_result"
    }
   ],
   "source": [
    "def split_sgg(row):\n",
    "    return row.split(' ')[0]\n",
    "\n",
    "split_sgg('창원시 성산구')"
   ]
  },
  {
   "cell_type": "markdown",
   "metadata": {},
   "source": [
    "## apply로 새로운 컬럼 생성"
   ]
  },
  {
   "cell_type": "code",
   "execution_count": 105,
   "metadata": {},
   "outputs": [],
   "source": [
    "kj_new['주소_시군'] = kj_new['주소_시군구'].apply(split_sgg)"
   ]
  },
  {
   "cell_type": "markdown",
   "metadata": {},
   "source": [
    "# 지역별, 시군구별 groupby"
   ]
  },
  {
   "cell_type": "code",
   "execution_count": 111,
   "metadata": {
    "scrolled": true
   },
   "outputs": [
    {
     "data": {
      "text/plain": [
       "지역    주소_시군\n",
       "강원도   강릉시       49\n",
       "      고성군        2\n",
       "      동해시       25\n",
       "      삼척시        9\n",
       "      속초시       26\n",
       "              ... \n",
       "충청북도  제천시       28\n",
       "      증평군        9\n",
       "      진천군        6\n",
       "      청주시      168\n",
       "      충주시       42\n",
       "Name: 수요_배분P전체기준, Length: 207, dtype: int64"
      ]
     },
     "execution_count": 111,
     "metadata": {},
     "output_type": "execute_result"
    }
   ],
   "source": [
    "needs = kj_new.groupby(['지역', '주소_시군'])['수요_배분P전체기준'].sum()\n",
    "needs"
   ]
  },
  {
   "cell_type": "code",
   "execution_count": 123,
   "metadata": {
    "scrolled": true
   },
   "outputs": [
    {
     "data": {
      "text/html": [
       "<div>\n",
       "<style scoped>\n",
       "    .dataframe tbody tr th:only-of-type {\n",
       "        vertical-align: middle;\n",
       "    }\n",
       "\n",
       "    .dataframe tbody tr th {\n",
       "        vertical-align: top;\n",
       "    }\n",
       "\n",
       "    .dataframe thead th {\n",
       "        text-align: right;\n",
       "    }\n",
       "</style>\n",
       "<table border=\"1\" class=\"dataframe\">\n",
       "  <thead>\n",
       "    <tr style=\"text-align: right;\">\n",
       "      <th></th>\n",
       "      <th>지역</th>\n",
       "      <th>주소_시군</th>\n",
       "      <th>수요_배분P전체기준</th>\n",
       "    </tr>\n",
       "  </thead>\n",
       "  <tbody>\n",
       "    <tr>\n",
       "      <td>0</td>\n",
       "      <td>강원도</td>\n",
       "      <td>강릉시</td>\n",
       "      <td>49</td>\n",
       "    </tr>\n",
       "    <tr>\n",
       "      <td>1</td>\n",
       "      <td>강원도</td>\n",
       "      <td>고성군</td>\n",
       "      <td>2</td>\n",
       "    </tr>\n",
       "    <tr>\n",
       "      <td>2</td>\n",
       "      <td>강원도</td>\n",
       "      <td>동해시</td>\n",
       "      <td>25</td>\n",
       "    </tr>\n",
       "    <tr>\n",
       "      <td>3</td>\n",
       "      <td>강원도</td>\n",
       "      <td>삼척시</td>\n",
       "      <td>9</td>\n",
       "    </tr>\n",
       "    <tr>\n",
       "      <td>4</td>\n",
       "      <td>강원도</td>\n",
       "      <td>속초시</td>\n",
       "      <td>26</td>\n",
       "    </tr>\n",
       "    <tr>\n",
       "      <td>...</td>\n",
       "      <td>...</td>\n",
       "      <td>...</td>\n",
       "      <td>...</td>\n",
       "    </tr>\n",
       "    <tr>\n",
       "      <td>202</td>\n",
       "      <td>충청북도</td>\n",
       "      <td>제천시</td>\n",
       "      <td>28</td>\n",
       "    </tr>\n",
       "    <tr>\n",
       "      <td>203</td>\n",
       "      <td>충청북도</td>\n",
       "      <td>증평군</td>\n",
       "      <td>9</td>\n",
       "    </tr>\n",
       "    <tr>\n",
       "      <td>204</td>\n",
       "      <td>충청북도</td>\n",
       "      <td>진천군</td>\n",
       "      <td>6</td>\n",
       "    </tr>\n",
       "    <tr>\n",
       "      <td>205</td>\n",
       "      <td>충청북도</td>\n",
       "      <td>청주시</td>\n",
       "      <td>168</td>\n",
       "    </tr>\n",
       "    <tr>\n",
       "      <td>206</td>\n",
       "      <td>충청북도</td>\n",
       "      <td>충주시</td>\n",
       "      <td>42</td>\n",
       "    </tr>\n",
       "  </tbody>\n",
       "</table>\n",
       "<p>207 rows × 3 columns</p>\n",
       "</div>"
      ],
      "text/plain": [
       "       지역 주소_시군  수요_배분P전체기준\n",
       "0     강원도   강릉시          49\n",
       "1     강원도   고성군           2\n",
       "2     강원도   동해시          25\n",
       "3     강원도   삼척시           9\n",
       "4     강원도   속초시          26\n",
       "..    ...   ...         ...\n",
       "202  충청북도   제천시          28\n",
       "203  충청북도   증평군           9\n",
       "204  충청북도   진천군           6\n",
       "205  충청북도   청주시         168\n",
       "206  충청북도   충주시          42\n",
       "\n",
       "[207 rows x 3 columns]"
      ]
     },
     "execution_count": 123,
     "metadata": {},
     "output_type": "execute_result"
    }
   ],
   "source": [
    "# needs = needs.reset_index()\n",
    "needs"
   ]
  },
  {
   "cell_type": "markdown",
   "metadata": {},
   "source": [
    "# 시군별 수치자료와 merge"
   ]
  },
  {
   "cell_type": "markdown",
   "metadata": {},
   "source": [
    "## merge"
   ]
  },
  {
   "cell_type": "code",
   "execution_count": 114,
   "metadata": {},
   "outputs": [],
   "source": [
    "data = pd.read_excel('../analysis/시군별 수치자료_노후주택포함.xlsx')"
   ]
  },
  {
   "cell_type": "code",
   "execution_count": 115,
   "metadata": {},
   "outputs": [
    {
     "data": {
      "text/html": [
       "<div>\n",
       "<style scoped>\n",
       "    .dataframe tbody tr th:only-of-type {\n",
       "        vertical-align: middle;\n",
       "    }\n",
       "\n",
       "    .dataframe tbody tr th {\n",
       "        vertical-align: top;\n",
       "    }\n",
       "\n",
       "    .dataframe thead th {\n",
       "        text-align: right;\n",
       "    }\n",
       "</style>\n",
       "<table border=\"1\" class=\"dataframe\">\n",
       "  <thead>\n",
       "    <tr style=\"text-align: right;\">\n",
       "      <th></th>\n",
       "      <th>지역</th>\n",
       "      <th>주소_시군</th>\n",
       "      <th>인구수_2%표본</th>\n",
       "      <th>이사가구수_2%표본</th>\n",
       "      <th>견적건수</th>\n",
       "      <th>계약건수</th>\n",
       "      <th>수요_배분P전체기준</th>\n",
       "      <th>총세대수_합계</th>\n",
       "      <th>노후주택수</th>\n",
       "      <th>노후주택수15-29년</th>\n",
       "      <th>파트너스수_주소</th>\n",
       "      <th>파트너스수_시공지역</th>\n",
       "      <th>파트너스수_1순위시공지역</th>\n",
       "      <th>성비</th>\n",
       "      <th>입주년도_중앙값</th>\n",
       "    </tr>\n",
       "  </thead>\n",
       "  <tbody>\n",
       "    <tr>\n",
       "      <td>0</td>\n",
       "      <td>강원도</td>\n",
       "      <td>강릉시</td>\n",
       "      <td>2484</td>\n",
       "      <td>128</td>\n",
       "      <td>29</td>\n",
       "      <td>5</td>\n",
       "      <td>NaN</td>\n",
       "      <td>48443</td>\n",
       "      <td>111</td>\n",
       "      <td>97</td>\n",
       "      <td>6</td>\n",
       "      <td>39</td>\n",
       "      <td>10</td>\n",
       "      <td>93.457944</td>\n",
       "      <td>1993.0</td>\n",
       "    </tr>\n",
       "    <tr>\n",
       "      <td>1</td>\n",
       "      <td>강원도</td>\n",
       "      <td>고성군</td>\n",
       "      <td>214</td>\n",
       "      <td>15</td>\n",
       "      <td>1</td>\n",
       "      <td>1</td>\n",
       "      <td>NaN</td>\n",
       "      <td>1501</td>\n",
       "      <td>5</td>\n",
       "      <td>2</td>\n",
       "      <td>1</td>\n",
       "      <td>39</td>\n",
       "      <td>4</td>\n",
       "      <td>125.263158</td>\n",
       "      <td>2002.5</td>\n",
       "    </tr>\n",
       "    <tr>\n",
       "      <td>2</td>\n",
       "      <td>강원도</td>\n",
       "      <td>동해시</td>\n",
       "      <td>1508</td>\n",
       "      <td>62</td>\n",
       "      <td>13</td>\n",
       "      <td>0</td>\n",
       "      <td>NaN</td>\n",
       "      <td>23607</td>\n",
       "      <td>62</td>\n",
       "      <td>54</td>\n",
       "      <td>0</td>\n",
       "      <td>39</td>\n",
       "      <td>0</td>\n",
       "      <td>96.354167</td>\n",
       "      <td>1995.0</td>\n",
       "    </tr>\n",
       "    <tr>\n",
       "      <td>3</td>\n",
       "      <td>강원도</td>\n",
       "      <td>삼척시</td>\n",
       "      <td>878</td>\n",
       "      <td>65</td>\n",
       "      <td>5</td>\n",
       "      <td>1</td>\n",
       "      <td>NaN</td>\n",
       "      <td>13834</td>\n",
       "      <td>62</td>\n",
       "      <td>60</td>\n",
       "      <td>0</td>\n",
       "      <td>39</td>\n",
       "      <td>0</td>\n",
       "      <td>103.712297</td>\n",
       "      <td>1994.0</td>\n",
       "    </tr>\n",
       "    <tr>\n",
       "      <td>4</td>\n",
       "      <td>강원도</td>\n",
       "      <td>속초시</td>\n",
       "      <td>1533</td>\n",
       "      <td>109</td>\n",
       "      <td>11</td>\n",
       "      <td>0</td>\n",
       "      <td>NaN</td>\n",
       "      <td>24884</td>\n",
       "      <td>47</td>\n",
       "      <td>39</td>\n",
       "      <td>3</td>\n",
       "      <td>39</td>\n",
       "      <td>0</td>\n",
       "      <td>90.671642</td>\n",
       "      <td>1995.0</td>\n",
       "    </tr>\n",
       "  </tbody>\n",
       "</table>\n",
       "</div>"
      ],
      "text/plain": [
       "    지역 주소_시군  인구수_2%표본  이사가구수_2%표본  견적건수  계약건수  수요_배분P전체기준  총세대수_합계  노후주택수  \\\n",
       "0  강원도   강릉시      2484         128    29     5         NaN    48443    111   \n",
       "1  강원도   고성군       214          15     1     1         NaN     1501      5   \n",
       "2  강원도   동해시      1508          62    13     0         NaN    23607     62   \n",
       "3  강원도   삼척시       878          65     5     1         NaN    13834     62   \n",
       "4  강원도   속초시      1533         109    11     0         NaN    24884     47   \n",
       "\n",
       "   노후주택수15-29년  파트너스수_주소  파트너스수_시공지역  파트너스수_1순위시공지역          성비  입주년도_중앙값  \n",
       "0           97         6          39             10   93.457944    1993.0  \n",
       "1            2         1          39              4  125.263158    2002.5  \n",
       "2           54         0          39              0   96.354167    1995.0  \n",
       "3           60         0          39              0  103.712297    1994.0  \n",
       "4           39         3          39              0   90.671642    1995.0  "
      ]
     },
     "execution_count": 115,
     "metadata": {},
     "output_type": "execute_result"
    }
   ],
   "source": [
    "data.head()"
   ]
  },
  {
   "cell_type": "code",
   "execution_count": 116,
   "metadata": {},
   "outputs": [
    {
     "data": {
      "text/plain": [
       "(229, 15)"
      ]
     },
     "execution_count": 116,
     "metadata": {},
     "output_type": "execute_result"
    }
   ],
   "source": [
    "data.shape"
   ]
  },
  {
   "cell_type": "code",
   "execution_count": 117,
   "metadata": {},
   "outputs": [],
   "source": [
    "new_data = pd.merge(data, needs, how='left', left_on=['지역','주소_시군'], right_on=['지역', '주소_시군'])"
   ]
  },
  {
   "cell_type": "code",
   "execution_count": 118,
   "metadata": {},
   "outputs": [
    {
     "data": {
      "text/plain": [
       "(229, 16)"
      ]
     },
     "execution_count": 118,
     "metadata": {},
     "output_type": "execute_result"
    }
   ],
   "source": [
    "new_data.shape"
   ]
  },
  {
   "cell_type": "code",
   "execution_count": 119,
   "metadata": {},
   "outputs": [
    {
     "data": {
      "text/html": [
       "<div>\n",
       "<style scoped>\n",
       "    .dataframe tbody tr th:only-of-type {\n",
       "        vertical-align: middle;\n",
       "    }\n",
       "\n",
       "    .dataframe tbody tr th {\n",
       "        vertical-align: top;\n",
       "    }\n",
       "\n",
       "    .dataframe thead th {\n",
       "        text-align: right;\n",
       "    }\n",
       "</style>\n",
       "<table border=\"1\" class=\"dataframe\">\n",
       "  <thead>\n",
       "    <tr style=\"text-align: right;\">\n",
       "      <th></th>\n",
       "      <th>지역</th>\n",
       "      <th>주소_시군</th>\n",
       "      <th>인구수_2%표본</th>\n",
       "      <th>이사가구수_2%표본</th>\n",
       "      <th>견적건수</th>\n",
       "      <th>계약건수</th>\n",
       "      <th>수요_배분P전체기준_x</th>\n",
       "      <th>총세대수_합계</th>\n",
       "      <th>노후주택수</th>\n",
       "      <th>노후주택수15-29년</th>\n",
       "      <th>파트너스수_주소</th>\n",
       "      <th>파트너스수_시공지역</th>\n",
       "      <th>파트너스수_1순위시공지역</th>\n",
       "      <th>성비</th>\n",
       "      <th>입주년도_중앙값</th>\n",
       "      <th>수요_배분P전체기준_y</th>\n",
       "    </tr>\n",
       "  </thead>\n",
       "  <tbody>\n",
       "    <tr>\n",
       "      <td>0</td>\n",
       "      <td>강원도</td>\n",
       "      <td>강릉시</td>\n",
       "      <td>2484</td>\n",
       "      <td>128</td>\n",
       "      <td>29</td>\n",
       "      <td>5</td>\n",
       "      <td>NaN</td>\n",
       "      <td>48443</td>\n",
       "      <td>111</td>\n",
       "      <td>97</td>\n",
       "      <td>6</td>\n",
       "      <td>39</td>\n",
       "      <td>10</td>\n",
       "      <td>93.457944</td>\n",
       "      <td>1993.0</td>\n",
       "      <td>49.0</td>\n",
       "    </tr>\n",
       "    <tr>\n",
       "      <td>1</td>\n",
       "      <td>강원도</td>\n",
       "      <td>고성군</td>\n",
       "      <td>214</td>\n",
       "      <td>15</td>\n",
       "      <td>1</td>\n",
       "      <td>1</td>\n",
       "      <td>NaN</td>\n",
       "      <td>1501</td>\n",
       "      <td>5</td>\n",
       "      <td>2</td>\n",
       "      <td>1</td>\n",
       "      <td>39</td>\n",
       "      <td>4</td>\n",
       "      <td>125.263158</td>\n",
       "      <td>2002.5</td>\n",
       "      <td>2.0</td>\n",
       "    </tr>\n",
       "    <tr>\n",
       "      <td>2</td>\n",
       "      <td>강원도</td>\n",
       "      <td>동해시</td>\n",
       "      <td>1508</td>\n",
       "      <td>62</td>\n",
       "      <td>13</td>\n",
       "      <td>0</td>\n",
       "      <td>NaN</td>\n",
       "      <td>23607</td>\n",
       "      <td>62</td>\n",
       "      <td>54</td>\n",
       "      <td>0</td>\n",
       "      <td>39</td>\n",
       "      <td>0</td>\n",
       "      <td>96.354167</td>\n",
       "      <td>1995.0</td>\n",
       "      <td>25.0</td>\n",
       "    </tr>\n",
       "    <tr>\n",
       "      <td>3</td>\n",
       "      <td>강원도</td>\n",
       "      <td>삼척시</td>\n",
       "      <td>878</td>\n",
       "      <td>65</td>\n",
       "      <td>5</td>\n",
       "      <td>1</td>\n",
       "      <td>NaN</td>\n",
       "      <td>13834</td>\n",
       "      <td>62</td>\n",
       "      <td>60</td>\n",
       "      <td>0</td>\n",
       "      <td>39</td>\n",
       "      <td>0</td>\n",
       "      <td>103.712297</td>\n",
       "      <td>1994.0</td>\n",
       "      <td>9.0</td>\n",
       "    </tr>\n",
       "    <tr>\n",
       "      <td>4</td>\n",
       "      <td>강원도</td>\n",
       "      <td>속초시</td>\n",
       "      <td>1533</td>\n",
       "      <td>109</td>\n",
       "      <td>11</td>\n",
       "      <td>0</td>\n",
       "      <td>NaN</td>\n",
       "      <td>24884</td>\n",
       "      <td>47</td>\n",
       "      <td>39</td>\n",
       "      <td>3</td>\n",
       "      <td>39</td>\n",
       "      <td>0</td>\n",
       "      <td>90.671642</td>\n",
       "      <td>1995.0</td>\n",
       "      <td>26.0</td>\n",
       "    </tr>\n",
       "  </tbody>\n",
       "</table>\n",
       "</div>"
      ],
      "text/plain": [
       "    지역 주소_시군  인구수_2%표본  이사가구수_2%표본  견적건수  계약건수  수요_배분P전체기준_x  총세대수_합계  노후주택수  \\\n",
       "0  강원도   강릉시      2484         128    29     5           NaN    48443    111   \n",
       "1  강원도   고성군       214          15     1     1           NaN     1501      5   \n",
       "2  강원도   동해시      1508          62    13     0           NaN    23607     62   \n",
       "3  강원도   삼척시       878          65     5     1           NaN    13834     62   \n",
       "4  강원도   속초시      1533         109    11     0           NaN    24884     47   \n",
       "\n",
       "   노후주택수15-29년  파트너스수_주소  파트너스수_시공지역  파트너스수_1순위시공지역          성비  입주년도_중앙값  \\\n",
       "0           97         6          39             10   93.457944    1993.0   \n",
       "1            2         1          39              4  125.263158    2002.5   \n",
       "2           54         0          39              0   96.354167    1995.0   \n",
       "3           60         0          39              0  103.712297    1994.0   \n",
       "4           39         3          39              0   90.671642    1995.0   \n",
       "\n",
       "   수요_배분P전체기준_y  \n",
       "0          49.0  \n",
       "1           2.0  \n",
       "2          25.0  \n",
       "3           9.0  \n",
       "4          26.0  "
      ]
     },
     "execution_count": 119,
     "metadata": {},
     "output_type": "execute_result"
    }
   ],
   "source": [
    "new_data.head()"
   ]
  },
  {
   "cell_type": "code",
   "execution_count": 120,
   "metadata": {
    "scrolled": false
   },
   "outputs": [
    {
     "data": {
      "text/plain": [
       "지역                 0\n",
       "주소_시군              0\n",
       "인구수_2%표본           0\n",
       "이사가구수_2%표본         0\n",
       "견적건수               0\n",
       "계약건수               0\n",
       "수요_배분P전체기준_x     229\n",
       "총세대수_합계            0\n",
       "노후주택수              0\n",
       "노후주택수15-29년        0\n",
       "파트너스수_주소           0\n",
       "파트너스수_시공지역         0\n",
       "파트너스수_1순위시공지역      0\n",
       "성비                 1\n",
       "입주년도_중앙값           1\n",
       "수요_배분P전체기준_y      30\n",
       "dtype: int64"
      ]
     },
     "execution_count": 120,
     "metadata": {},
     "output_type": "execute_result"
    }
   ],
   "source": [
    "new_data.isnull().sum()"
   ]
  },
  {
   "cell_type": "markdown",
   "metadata": {},
   "source": [
    "## merge 잘 되었는지 확인"
   ]
  },
  {
   "cell_type": "markdown",
   "metadata": {},
   "source": [
    "data는 229건, needs는 207건 (차이: 22건) 이었는데 new_data에서 30건의 null값 나온 이유? (8건의 데이터는 어디에서?)\n",
    "- needs 데이터에서 지역별 '-' 행 총 7개\n",
    "    - 사실상 229건 & 200건 한 것\n",
    "- 인천광역시 남구는 명칭 변경으로 미추홀구"
   ]
  },
  {
   "cell_type": "code",
   "execution_count": 124,
   "metadata": {
    "scrolled": true
   },
   "outputs": [
    {
     "data": {
      "text/html": [
       "<div>\n",
       "<style scoped>\n",
       "    .dataframe tbody tr th:only-of-type {\n",
       "        vertical-align: middle;\n",
       "    }\n",
       "\n",
       "    .dataframe tbody tr th {\n",
       "        vertical-align: top;\n",
       "    }\n",
       "\n",
       "    .dataframe thead th {\n",
       "        text-align: right;\n",
       "    }\n",
       "</style>\n",
       "<table border=\"1\" class=\"dataframe\">\n",
       "  <thead>\n",
       "    <tr style=\"text-align: right;\">\n",
       "      <th></th>\n",
       "      <th>지역</th>\n",
       "      <th>주소_시군</th>\n",
       "      <th>수요_배분P전체기준</th>\n",
       "    </tr>\n",
       "  </thead>\n",
       "  <tbody>\n",
       "    <tr>\n",
       "      <td>76</td>\n",
       "      <td>광주광역시</td>\n",
       "      <td>-</td>\n",
       "      <td>0</td>\n",
       "    </tr>\n",
       "    <tr>\n",
       "      <td>77</td>\n",
       "      <td>광주광역시</td>\n",
       "      <td>광산구</td>\n",
       "      <td>142</td>\n",
       "    </tr>\n",
       "    <tr>\n",
       "      <td>78</td>\n",
       "      <td>광주광역시</td>\n",
       "      <td>남구</td>\n",
       "      <td>81</td>\n",
       "    </tr>\n",
       "    <tr>\n",
       "      <td>79</td>\n",
       "      <td>광주광역시</td>\n",
       "      <td>동구</td>\n",
       "      <td>37</td>\n",
       "    </tr>\n",
       "    <tr>\n",
       "      <td>80</td>\n",
       "      <td>광주광역시</td>\n",
       "      <td>북구</td>\n",
       "      <td>140</td>\n",
       "    </tr>\n",
       "    <tr>\n",
       "      <td>81</td>\n",
       "      <td>광주광역시</td>\n",
       "      <td>서구</td>\n",
       "      <td>123</td>\n",
       "    </tr>\n",
       "  </tbody>\n",
       "</table>\n",
       "</div>"
      ],
      "text/plain": [
       "       지역 주소_시군  수요_배분P전체기준\n",
       "76  광주광역시     -           0\n",
       "77  광주광역시   광산구         142\n",
       "78  광주광역시    남구          81\n",
       "79  광주광역시    동구          37\n",
       "80  광주광역시    북구         140\n",
       "81  광주광역시    서구         123"
      ]
     },
     "execution_count": 124,
     "metadata": {},
     "output_type": "execute_result"
    }
   ],
   "source": [
    "needs[needs['지역']=='광주광역시']"
   ]
  },
  {
   "cell_type": "code",
   "execution_count": 125,
   "metadata": {
    "scrolled": true
   },
   "outputs": [
    {
     "data": {
      "text/plain": [
       "array(['강릉시', '고성군', '동해시', '삼척시', '속초시', '양구군', '양양군', '영월군', '원주시',\n",
       "       '인제군', '정선군', '철원군', '춘천시', '태백시', '평창군', '홍천군', '화천군', '횡성군',\n",
       "       '가평군', '고양시', '과천시', '광명시', '광주시', '구리시', '군포시', '김포시', '남양주시',\n",
       "       '동두천시', '부천시', '성남시', '수원시', '시흥시', '안산시', '안성시', '안양시', '양주시',\n",
       "       '양평군', '여주시', '연천군', '오산시', '용인시', '의왕시', '의정부시', '이천시', '파주시',\n",
       "       '평택시', '포천시', '하남시', '화성시', '거제시', '거창군', '김해시', '남해군', '밀양시',\n",
       "       '사천시', '산청군', '양산시', '의령군', '진주시', '창녕군', '창원시', '통영시', '하동군',\n",
       "       '함안군', '함양군', '합천군', '경산시', '경주시', '고령군', '구미시', '군위군', '김천시',\n",
       "       '문경시', '봉화군', '상주시', '성주군', '안동시', '영덕군', '영양군', '영주시', '영천시',\n",
       "       '예천군', '울릉군', '울진군', '의성군', '청도군', '청송군', '칠곡군', '포항시', '광산구',\n",
       "       '남구', '동구', '북구', '서구', '달서구', '달성군', '수성구', '중구', '대덕구', '유성구',\n",
       "       '강서구', '금정구', '기장군', '동래구', '부산진구', '사상구', '사하구', '수영구', '연제구',\n",
       "       '영도구', '해운대구', '강남구', '강동구', '강북구', '관악구', '광진구', '구로구', '금천구',\n",
       "       '노원구', '도봉구', '동대문구', '동작구', '마포구', '서대문구', '서초구', '성동구', '성북구',\n",
       "       '송파구', '양천구', '영등포구', '용산구', '은평구', '종로구', '중랑구', '세종특별자치시', '울주군',\n",
       "       '강화군', '계양구', '남동구', '미추홀구', '부평구', '연수구', '옹진군', '강진군', '고흥군',\n",
       "       '곡성군', '광양시', '구례군', '나주시', '담양군', '목포시', '무안군', '보성군', '순천시',\n",
       "       '신안군', '여수시', '영광군', '영암군', '완도군', '장성군', '장흥군', '진도군', '함평군',\n",
       "       '해남군', '화순군', '고창군', '군산시', '김제시', '남원시', '무주군', '부안군', '순창군',\n",
       "       '완주군', '익산시', '임실군', '장수군', '전주시', '정읍시', '진안군', '서귀포시', '제주시',\n",
       "       '계룡시', '공주시', '금산군', '논산시', '당진시', '보령시', '부여군', '서산시', '서천군',\n",
       "       '아산시', '예산군', '천안시', '청양군', '태안군', '홍성군', '괴산군', '단양군', '보은군',\n",
       "       '영동군', '옥천군', '음성군', '제천시', '증평군', '진천군', '청주시', '충주시'],\n",
       "      dtype=object)"
      ]
     },
     "execution_count": 125,
     "metadata": {},
     "output_type": "execute_result"
    }
   ],
   "source": [
    "sg1 = data['주소_시군'].unique()\n",
    "sg1"
   ]
  },
  {
   "cell_type": "code",
   "execution_count": 126,
   "metadata": {},
   "outputs": [
    {
     "data": {
      "text/plain": [
       "array(['강릉시', '고성군', '동해시', '삼척시', '속초시', '원주시', '인제군', '정선군', '춘천시',\n",
       "       '태백시', '평창군', '홍천군', '횡성군', '가평군', '고양시', '과천시', '광명시', '광주시',\n",
       "       '구리시', '군포시', '김포시', '남양주시', '동두천시', '부천시', '성남시', '수원시', '시흥시',\n",
       "       '안산시', '안성시', '안양시', '양주시', '양평군', '여주시', '연천군', '오산시', '용인시',\n",
       "       '의왕시', '의정부시', '이천시', '파주시', '평택시', '포천시', '하남시', '화성시', '거제시',\n",
       "       '거창군', '김해시', '밀양시', '사천시', '양산시', '의령군', '진주시', '창녕군', '창원시',\n",
       "       '통영시', '하동군', '함안군', '함양군', '-', '경산시', '경주시', '구미시', '김천시', '문경시',\n",
       "       '봉화군', '상주시', '성주군', '안동시', '영주시', '영천시', '울진군', '청도군', '청송군',\n",
       "       '칠곡군', '포항시', '광산구', '남구', '동구', '북구', '서구', '달서구', '달성군', '수성구',\n",
       "       '중구', '대덕구', '유성구', '강서구', '금정구', '기장군', '동래구', '부산진구', '사상구',\n",
       "       '사하구', '수영구', '연제구', '영도구', '해운대구', '강남구', '강동구', '강북구', '관악구',\n",
       "       '광진구', '구로구', '금천구', '노원구', '도봉구', '동대문구', '동작구', '마포구', '서대문구',\n",
       "       '서초구', '성동구', '성북구', '송파구', '양천구', '영등포구', '용산구', '은평구', '종로구',\n",
       "       '중랑구', '세종특별자치시', '울주군', '강화군', '계양구', '남동구', '미추홀구', '부평구', '연수구',\n",
       "       '강진군', '고흥군', '광양시', '구례군', '나주시', '담양군', '목포시', '무안군', '보성군',\n",
       "       '순천시', '여수시', '영광군', '영암군', '완도군', '장흥군', '해남군', '화순군', '군산시',\n",
       "       '김제시', '남원시', '무주군', '순창군', '완주군', '익산시', '장수군', '전주시', '정읍시',\n",
       "       '서귀포시', '제주시', '계룡시', '공주시', '금산군', '논산시', '당진시', '보령시', '부여군',\n",
       "       '서산시', '아산시', '예산군', '천안시', '청양군', '홍성군', '단양군', '보은군', '영동군',\n",
       "       '옥천군', '음성군', '제천시', '증평군', '진천군', '청주시', '충주시'], dtype=object)"
      ]
     },
     "execution_count": 126,
     "metadata": {},
     "output_type": "execute_result"
    }
   ],
   "source": [
    "sg2 = needs['주소_시군'].unique()\n",
    "sg2"
   ]
  },
  {
   "cell_type": "code",
   "execution_count": 127,
   "metadata": {
    "scrolled": true
   },
   "outputs": [
    {
     "name": "stdout",
     "output_type": "stream",
     "text": [
      "있음\n",
      "있음\n",
      "있음\n",
      "있음\n",
      "있음\n",
      "있음\n",
      "있음\n",
      "있음\n",
      "있음\n",
      "있음\n",
      "있음\n",
      "있음\n",
      "있음\n",
      "있음\n",
      "있음\n",
      "있음\n",
      "있음\n",
      "있음\n",
      "있음\n",
      "있음\n",
      "있음\n",
      "있음\n",
      "있음\n",
      "있음\n",
      "있음\n",
      "있음\n",
      "있음\n",
      "있음\n",
      "있음\n",
      "있음\n",
      "있음\n",
      "있음\n",
      "있음\n",
      "있음\n",
      "있음\n",
      "있음\n",
      "있음\n",
      "있음\n",
      "있음\n",
      "있음\n",
      "있음\n",
      "있음\n",
      "있음\n",
      "있음\n",
      "있음\n",
      "있음\n",
      "있음\n",
      "있음\n",
      "있음\n",
      "있음\n",
      "있음\n",
      "있음\n",
      "있음\n",
      "있음\n",
      "있음\n",
      "있음\n",
      "있음\n",
      "있음\n",
      "-없음\n",
      "있음\n",
      "있음\n",
      "있음\n",
      "있음\n",
      "있음\n",
      "있음\n",
      "있음\n",
      "있음\n",
      "있음\n",
      "있음\n",
      "있음\n",
      "있음\n",
      "있음\n",
      "있음\n",
      "있음\n",
      "있음\n",
      "있음\n",
      "있음\n",
      "있음\n",
      "있음\n",
      "있음\n",
      "있음\n",
      "있음\n",
      "있음\n",
      "있음\n",
      "있음\n",
      "있음\n",
      "있음\n",
      "있음\n",
      "있음\n",
      "있음\n",
      "있음\n",
      "있음\n",
      "있음\n",
      "있음\n",
      "있음\n",
      "있음\n",
      "있음\n",
      "있음\n",
      "있음\n",
      "있음\n",
      "있음\n",
      "있음\n",
      "있음\n",
      "있음\n",
      "있음\n",
      "있음\n",
      "있음\n",
      "있음\n",
      "있음\n",
      "있음\n",
      "있음\n",
      "있음\n",
      "있음\n",
      "있음\n",
      "있음\n",
      "있음\n",
      "있음\n",
      "있음\n",
      "있음\n",
      "있음\n",
      "있음\n",
      "있음\n",
      "있음\n",
      "있음\n",
      "있음\n",
      "있음\n",
      "있음\n",
      "있음\n",
      "있음\n",
      "있음\n",
      "있음\n",
      "있음\n",
      "있음\n",
      "있음\n",
      "있음\n",
      "있음\n",
      "있음\n",
      "있음\n",
      "있음\n",
      "있음\n",
      "있음\n",
      "있음\n",
      "있음\n",
      "있음\n",
      "있음\n",
      "있음\n",
      "있음\n",
      "있음\n",
      "있음\n",
      "있음\n",
      "있음\n",
      "있음\n",
      "있음\n",
      "있음\n",
      "있음\n",
      "있음\n",
      "있음\n",
      "있음\n",
      "있음\n",
      "있음\n",
      "있음\n",
      "있음\n",
      "있음\n",
      "있음\n",
      "있음\n",
      "있음\n",
      "있음\n",
      "있음\n",
      "있음\n",
      "있음\n",
      "있음\n",
      "있음\n",
      "있음\n",
      "있음\n",
      "있음\n",
      "있음\n",
      "있음\n",
      "있음\n",
      "있음\n",
      "있음\n"
     ]
    }
   ],
   "source": [
    "for i in range(len(sg2)):\n",
    "    if sg2[i] in sg1:\n",
    "        print('있음')\n",
    "    else:\n",
    "        print(sg2[i]+'없음')"
   ]
  },
  {
   "cell_type": "code",
   "execution_count": 128,
   "metadata": {
    "scrolled": true
   },
   "outputs": [
    {
     "data": {
      "text/html": [
       "<div>\n",
       "<style scoped>\n",
       "    .dataframe tbody tr th:only-of-type {\n",
       "        vertical-align: middle;\n",
       "    }\n",
       "\n",
       "    .dataframe tbody tr th {\n",
       "        vertical-align: top;\n",
       "    }\n",
       "\n",
       "    .dataframe thead th {\n",
       "        text-align: right;\n",
       "    }\n",
       "</style>\n",
       "<table border=\"1\" class=\"dataframe\">\n",
       "  <thead>\n",
       "    <tr style=\"text-align: right;\">\n",
       "      <th></th>\n",
       "      <th>지역</th>\n",
       "      <th>주소_시군</th>\n",
       "      <th>수요_배분P전체기준</th>\n",
       "    </tr>\n",
       "  </thead>\n",
       "  <tbody>\n",
       "    <tr>\n",
       "      <td>137</td>\n",
       "      <td>세종특별자치시</td>\n",
       "      <td>세종특별자치시</td>\n",
       "      <td>34</td>\n",
       "    </tr>\n",
       "  </tbody>\n",
       "</table>\n",
       "</div>"
      ],
      "text/plain": [
       "          지역    주소_시군  수요_배분P전체기준\n",
       "137  세종특별자치시  세종특별자치시          34"
      ]
     },
     "execution_count": 128,
     "metadata": {},
     "output_type": "execute_result"
    }
   ],
   "source": [
    "needs[needs['지역']=='세종특별자치시']"
   ]
  },
  {
   "cell_type": "code",
   "execution_count": 129,
   "metadata": {},
   "outputs": [
    {
     "data": {
      "text/html": [
       "<div>\n",
       "<style scoped>\n",
       "    .dataframe tbody tr th:only-of-type {\n",
       "        vertical-align: middle;\n",
       "    }\n",
       "\n",
       "    .dataframe tbody tr th {\n",
       "        vertical-align: top;\n",
       "    }\n",
       "\n",
       "    .dataframe thead th {\n",
       "        text-align: right;\n",
       "    }\n",
       "</style>\n",
       "<table border=\"1\" class=\"dataframe\">\n",
       "  <thead>\n",
       "    <tr style=\"text-align: right;\">\n",
       "      <th></th>\n",
       "      <th>지역</th>\n",
       "      <th>주소_시군</th>\n",
       "      <th>인구수_2%표본</th>\n",
       "      <th>이사가구수_2%표본</th>\n",
       "      <th>견적건수</th>\n",
       "      <th>계약건수</th>\n",
       "      <th>수요_배분P전체기준</th>\n",
       "      <th>총세대수_합계</th>\n",
       "      <th>노후주택수</th>\n",
       "      <th>노후주택수15-29년</th>\n",
       "      <th>파트너스수_주소</th>\n",
       "      <th>파트너스수_시공지역</th>\n",
       "      <th>파트너스수_1순위시공지역</th>\n",
       "      <th>성비</th>\n",
       "      <th>입주년도_중앙값</th>\n",
       "    </tr>\n",
       "  </thead>\n",
       "  <tbody>\n",
       "    <tr>\n",
       "      <td>149</td>\n",
       "      <td>세종특별자치시</td>\n",
       "      <td>세종특별자치시</td>\n",
       "      <td>29458</td>\n",
       "      <td>1913</td>\n",
       "      <td>14</td>\n",
       "      <td>1</td>\n",
       "      <td>NaN</td>\n",
       "      <td>104670</td>\n",
       "      <td>34</td>\n",
       "      <td>27</td>\n",
       "      <td>9</td>\n",
       "      <td>47</td>\n",
       "      <td>0</td>\n",
       "      <td>94.763636</td>\n",
       "      <td>2015.0</td>\n",
       "    </tr>\n",
       "  </tbody>\n",
       "</table>\n",
       "</div>"
      ],
      "text/plain": [
       "          지역    주소_시군  인구수_2%표본  이사가구수_2%표본  견적건수  계약건수  수요_배분P전체기준  총세대수_합계  \\\n",
       "149  세종특별자치시  세종특별자치시     29458        1913    14     1         NaN   104670   \n",
       "\n",
       "     노후주택수  노후주택수15-29년  파트너스수_주소  파트너스수_시공지역  파트너스수_1순위시공지역         성비  \\\n",
       "149     34           27         9          47              0  94.763636   \n",
       "\n",
       "     입주년도_중앙값  \n",
       "149    2015.0  "
      ]
     },
     "execution_count": 129,
     "metadata": {},
     "output_type": "execute_result"
    }
   ],
   "source": [
    "data[data['지역']=='세종특별자치시']"
   ]
  },
  {
   "cell_type": "markdown",
   "metadata": {},
   "source": [
    "## 필요 없는 컬럼 제거, 컬럼명 변경"
   ]
  },
  {
   "cell_type": "code",
   "execution_count": 130,
   "metadata": {},
   "outputs": [
    {
     "data": {
      "text/plain": [
       "(229, 15)"
      ]
     },
     "execution_count": 130,
     "metadata": {},
     "output_type": "execute_result"
    }
   ],
   "source": [
    "new_data = new_data.drop('수요_배분P전체기준_x', axis=1)\n",
    "new_data.shape"
   ]
  },
  {
   "cell_type": "code",
   "execution_count": 132,
   "metadata": {},
   "outputs": [
    {
     "name": "stdout",
     "output_type": "stream",
     "text": [
      "<class 'pandas.core.frame.DataFrame'>\n",
      "Int64Index: 229 entries, 0 to 228\n",
      "Data columns (total 15 columns):\n",
      "지역               229 non-null object\n",
      "주소_시군            229 non-null object\n",
      "인구수_2%표본         229 non-null int64\n",
      "이사가구수_2%표본       229 non-null int64\n",
      "견적건수             229 non-null int64\n",
      "계약건수             229 non-null int64\n",
      "총세대수_합계          229 non-null int64\n",
      "노후주택수            229 non-null int64\n",
      "노후주택수15-29년      229 non-null int64\n",
      "파트너스수_주소         229 non-null int64\n",
      "파트너스수_시공지역       229 non-null int64\n",
      "파트너스수_1순위시공지역    229 non-null int64\n",
      "성비               228 non-null float64\n",
      "입주년도_중앙값         228 non-null float64\n",
      "수요_배분P전체기준_y     199 non-null float64\n",
      "dtypes: float64(3), int64(10), object(2)\n",
      "memory usage: 28.6+ KB\n"
     ]
    }
   ],
   "source": [
    "new_data.info()"
   ]
  },
  {
   "cell_type": "code",
   "execution_count": 133,
   "metadata": {},
   "outputs": [],
   "source": [
    "new_data = new_data.rename(columns={'수요_배분P전체기준_y':'수요_배분P전체기준'})"
   ]
  },
  {
   "cell_type": "code",
   "execution_count": 134,
   "metadata": {},
   "outputs": [
    {
     "data": {
      "text/plain": [
       "Index(['지역', '주소_시군', '인구수_2%표본', '이사가구수_2%표본', '견적건수', '계약건수', '총세대수_합계',\n",
       "       '노후주택수', '노후주택수15-29년', '파트너스수_주소', '파트너스수_시공지역', '파트너스수_1순위시공지역', '성비',\n",
       "       '입주년도_중앙값', '수요_배분P전체기준'],\n",
       "      dtype='object')"
      ]
     },
     "execution_count": 134,
     "metadata": {},
     "output_type": "execute_result"
    }
   ],
   "source": [
    "new_data.columns"
   ]
  },
  {
   "cell_type": "markdown",
   "metadata": {},
   "source": [
    "## 결측치 처리"
   ]
  },
  {
   "cell_type": "code",
   "execution_count": 138,
   "metadata": {},
   "outputs": [],
   "source": [
    "new_data.loc[new_data['수요_배분P전체기준'].isnull(), '수요_배분P전체기준'] = 0"
   ]
  },
  {
   "cell_type": "code",
   "execution_count": 139,
   "metadata": {},
   "outputs": [
    {
     "data": {
      "text/html": [
       "<div>\n",
       "<style scoped>\n",
       "    .dataframe tbody tr th:only-of-type {\n",
       "        vertical-align: middle;\n",
       "    }\n",
       "\n",
       "    .dataframe tbody tr th {\n",
       "        vertical-align: top;\n",
       "    }\n",
       "\n",
       "    .dataframe thead th {\n",
       "        text-align: right;\n",
       "    }\n",
       "</style>\n",
       "<table border=\"1\" class=\"dataframe\">\n",
       "  <thead>\n",
       "    <tr style=\"text-align: right;\">\n",
       "      <th></th>\n",
       "      <th>지역</th>\n",
       "      <th>주소_시군</th>\n",
       "      <th>인구수_2%표본</th>\n",
       "      <th>이사가구수_2%표본</th>\n",
       "      <th>견적건수</th>\n",
       "      <th>계약건수</th>\n",
       "      <th>총세대수_합계</th>\n",
       "      <th>노후주택수</th>\n",
       "      <th>노후주택수15-29년</th>\n",
       "      <th>파트너스수_주소</th>\n",
       "      <th>파트너스수_시공지역</th>\n",
       "      <th>파트너스수_1순위시공지역</th>\n",
       "      <th>성비</th>\n",
       "      <th>입주년도_중앙값</th>\n",
       "      <th>수요_배분P전체기준</th>\n",
       "    </tr>\n",
       "  </thead>\n",
       "  <tbody>\n",
       "  </tbody>\n",
       "</table>\n",
       "</div>"
      ],
      "text/plain": [
       "Empty DataFrame\n",
       "Columns: [지역, 주소_시군, 인구수_2%표본, 이사가구수_2%표본, 견적건수, 계약건수, 총세대수_합계, 노후주택수, 노후주택수15-29년, 파트너스수_주소, 파트너스수_시공지역, 파트너스수_1순위시공지역, 성비, 입주년도_중앙값, 수요_배분P전체기준]\n",
       "Index: []"
      ]
     },
     "execution_count": 139,
     "metadata": {},
     "output_type": "execute_result"
    }
   ],
   "source": [
    "new_data[new_data['수요_배분P전체기준'].isnull()]"
   ]
  },
  {
   "cell_type": "code",
   "execution_count": 141,
   "metadata": {},
   "outputs": [
    {
     "data": {
      "text/plain": [
       "지역               0\n",
       "주소_시군            0\n",
       "인구수_2%표본         0\n",
       "이사가구수_2%표본       0\n",
       "견적건수             0\n",
       "계약건수             0\n",
       "총세대수_합계          0\n",
       "노후주택수            0\n",
       "노후주택수15-29년      0\n",
       "파트너스수_주소         0\n",
       "파트너스수_시공지역       0\n",
       "파트너스수_1순위시공지역    0\n",
       "성비               1\n",
       "입주년도_중앙값         1\n",
       "수요_배분P전체기준       0\n",
       "dtype: int64"
      ]
     },
     "execution_count": 141,
     "metadata": {},
     "output_type": "execute_result"
    }
   ],
   "source": [
    "new_data.isnull().sum()"
   ]
  },
  {
   "cell_type": "code",
   "execution_count": 145,
   "metadata": {},
   "outputs": [],
   "source": [
    "new_data.to_excel('../analysis/시군별 수치자료_노후주택포함.xlsx', header=True, index=False, encoding='UTF-8')"
   ]
  },
  {
   "cell_type": "code",
   "execution_count": null,
   "metadata": {},
   "outputs": [],
   "source": []
  }
 ],
 "metadata": {
  "kernelspec": {
   "display_name": "Python 3",
   "language": "python",
   "name": "python3"
  },
  "language_info": {
   "codemirror_mode": {
    "name": "ipython",
    "version": 3
   },
   "file_extension": ".py",
   "mimetype": "text/x-python",
   "name": "python",
   "nbconvert_exporter": "python",
   "pygments_lexer": "ipython3",
   "version": "3.7.4"
  },
  "toc": {
   "base_numbering": 1,
   "nav_menu": {},
   "number_sections": true,
   "sideBar": true,
   "skip_h1_title": false,
   "title_cell": "Table of Contents",
   "title_sidebar": "Contents",
   "toc_cell": false,
   "toc_position": {},
   "toc_section_display": true,
   "toc_window_display": true
  },
  "varInspector": {
   "cols": {
    "lenName": 16,
    "lenType": 16,
    "lenVar": 40
   },
   "kernels_config": {
    "python": {
     "delete_cmd_postfix": "",
     "delete_cmd_prefix": "del ",
     "library": "var_list.py",
     "varRefreshCmd": "print(var_dic_list())"
    },
    "r": {
     "delete_cmd_postfix": ") ",
     "delete_cmd_prefix": "rm(",
     "library": "var_list.r",
     "varRefreshCmd": "cat(var_dic_list()) "
    }
   },
   "types_to_exclude": [
    "module",
    "function",
    "builtin_function_or_method",
    "instance",
    "_Feature"
   ],
   "window_display": false
  }
 },
 "nbformat": 4,
 "nbformat_minor": 2
}
