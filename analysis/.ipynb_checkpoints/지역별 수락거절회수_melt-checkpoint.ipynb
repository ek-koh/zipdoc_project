{
 "cells": [
  {
   "cell_type": "markdown",
   "metadata": {},
   "source": [
    "# 데이터 로드 및 형태 확인"
   ]
  },
  {
   "cell_type": "code",
   "execution_count": 1,
   "metadata": {},
   "outputs": [],
   "source": [
    "import pandas as pd"
   ]
  },
  {
   "cell_type": "code",
   "execution_count": 2,
   "metadata": {},
   "outputs": [],
   "source": [
    "data = pd.read_excel('C:/Users/B0113/Desktop/집닥 프로젝트/data/전처리완료/집닥_수락거절회수.xlsx')"
   ]
  },
  {
   "cell_type": "code",
   "execution_count": 3,
   "metadata": {},
   "outputs": [
    {
     "data": {
      "text/html": [
       "<div>\n",
       "<style scoped>\n",
       "    .dataframe tbody tr th:only-of-type {\n",
       "        vertical-align: middle;\n",
       "    }\n",
       "\n",
       "    .dataframe tbody tr th {\n",
       "        vertical-align: top;\n",
       "    }\n",
       "\n",
       "    .dataframe thead th {\n",
       "        text-align: right;\n",
       "    }\n",
       "</style>\n",
       "<table border=\"1\" class=\"dataframe\">\n",
       "  <thead>\n",
       "    <tr style=\"text-align: right;\">\n",
       "      <th></th>\n",
       "      <th>견적번호</th>\n",
       "      <th>지역</th>\n",
       "      <th>주소_시군구</th>\n",
       "      <th>수요_배분P전체기준</th>\n",
       "      <th>수락_count</th>\n",
       "      <th>거절_count</th>\n",
       "      <th>회수_count</th>\n",
       "      <th>배분P_1</th>\n",
       "      <th>배분P_1_수요</th>\n",
       "      <th>배분P_2</th>\n",
       "      <th>...</th>\n",
       "      <th>배분P_6</th>\n",
       "      <th>배분P_6_수요</th>\n",
       "      <th>배분P_7</th>\n",
       "      <th>배분P_7_수요</th>\n",
       "      <th>배분P_8</th>\n",
       "      <th>배분P_8_수요</th>\n",
       "      <th>배분P_9</th>\n",
       "      <th>배분P_9_수요</th>\n",
       "      <th>배분P_10</th>\n",
       "      <th>배분P_10_수요</th>\n",
       "    </tr>\n",
       "  </thead>\n",
       "  <tbody>\n",
       "    <tr>\n",
       "      <td>0</td>\n",
       "      <td>200037</td>\n",
       "      <td>경상남도</td>\n",
       "      <td>창원시 성산구</td>\n",
       "      <td>3</td>\n",
       "      <td>3</td>\n",
       "      <td>0</td>\n",
       "      <td>0</td>\n",
       "      <td>501디자인</td>\n",
       "      <td>수락</td>\n",
       "      <td>비율디자인</td>\n",
       "      <td>...</td>\n",
       "      <td>NaN</td>\n",
       "      <td>NaN</td>\n",
       "      <td>NaN</td>\n",
       "      <td>NaN</td>\n",
       "      <td>NaN</td>\n",
       "      <td>NaN</td>\n",
       "      <td>NaN</td>\n",
       "      <td>NaN</td>\n",
       "      <td>NaN</td>\n",
       "      <td>NaN</td>\n",
       "    </tr>\n",
       "    <tr>\n",
       "      <td>1</td>\n",
       "      <td>200030</td>\n",
       "      <td>서울특별시</td>\n",
       "      <td>강동구</td>\n",
       "      <td>3</td>\n",
       "      <td>3</td>\n",
       "      <td>0</td>\n",
       "      <td>0</td>\n",
       "      <td>장식가</td>\n",
       "      <td>수락</td>\n",
       "      <td>디자인스튜디오산들</td>\n",
       "      <td>...</td>\n",
       "      <td>NaN</td>\n",
       "      <td>NaN</td>\n",
       "      <td>NaN</td>\n",
       "      <td>NaN</td>\n",
       "      <td>NaN</td>\n",
       "      <td>NaN</td>\n",
       "      <td>NaN</td>\n",
       "      <td>NaN</td>\n",
       "      <td>NaN</td>\n",
       "      <td>NaN</td>\n",
       "    </tr>\n",
       "    <tr>\n",
       "      <td>2</td>\n",
       "      <td>199988</td>\n",
       "      <td>서울특별시</td>\n",
       "      <td>강서구</td>\n",
       "      <td>1</td>\n",
       "      <td>1</td>\n",
       "      <td>0</td>\n",
       "      <td>0</td>\n",
       "      <td>미래인테리어디자인</td>\n",
       "      <td>수락</td>\n",
       "      <td>NaN</td>\n",
       "      <td>...</td>\n",
       "      <td>NaN</td>\n",
       "      <td>NaN</td>\n",
       "      <td>NaN</td>\n",
       "      <td>NaN</td>\n",
       "      <td>NaN</td>\n",
       "      <td>NaN</td>\n",
       "      <td>NaN</td>\n",
       "      <td>NaN</td>\n",
       "      <td>NaN</td>\n",
       "      <td>NaN</td>\n",
       "    </tr>\n",
       "    <tr>\n",
       "      <td>3</td>\n",
       "      <td>199970</td>\n",
       "      <td>서울특별시</td>\n",
       "      <td>성북구</td>\n",
       "      <td>2</td>\n",
       "      <td>2</td>\n",
       "      <td>0</td>\n",
       "      <td>0</td>\n",
       "      <td>다린인테리어디자인</td>\n",
       "      <td>수락</td>\n",
       "      <td>리홈디자인갤러리</td>\n",
       "      <td>...</td>\n",
       "      <td>NaN</td>\n",
       "      <td>NaN</td>\n",
       "      <td>NaN</td>\n",
       "      <td>NaN</td>\n",
       "      <td>NaN</td>\n",
       "      <td>NaN</td>\n",
       "      <td>NaN</td>\n",
       "      <td>NaN</td>\n",
       "      <td>NaN</td>\n",
       "      <td>NaN</td>\n",
       "    </tr>\n",
       "    <tr>\n",
       "      <td>4</td>\n",
       "      <td>199937</td>\n",
       "      <td>서울특별시</td>\n",
       "      <td>강동구</td>\n",
       "      <td>3</td>\n",
       "      <td>3</td>\n",
       "      <td>0</td>\n",
       "      <td>0</td>\n",
       "      <td>하트하우스</td>\n",
       "      <td>수락</td>\n",
       "      <td>디자인스튜디오산들</td>\n",
       "      <td>...</td>\n",
       "      <td>NaN</td>\n",
       "      <td>NaN</td>\n",
       "      <td>NaN</td>\n",
       "      <td>NaN</td>\n",
       "      <td>NaN</td>\n",
       "      <td>NaN</td>\n",
       "      <td>NaN</td>\n",
       "      <td>NaN</td>\n",
       "      <td>NaN</td>\n",
       "      <td>NaN</td>\n",
       "    </tr>\n",
       "  </tbody>\n",
       "</table>\n",
       "<p>5 rows × 27 columns</p>\n",
       "</div>"
      ],
      "text/plain": [
       "     견적번호     지역   주소_시군구  수요_배분P전체기준  수락_count  거절_count  회수_count  \\\n",
       "0  200037   경상남도  창원시 성산구           3         3         0         0   \n",
       "1  200030  서울특별시      강동구           3         3         0         0   \n",
       "2  199988  서울특별시      강서구           1         1         0         0   \n",
       "3  199970  서울특별시      성북구           2         2         0         0   \n",
       "4  199937  서울특별시      강동구           3         3         0         0   \n",
       "\n",
       "       배분P_1 배분P_1_수요      배분P_2  ... 배분P_6 배분P_6_수요 배분P_7 배분P_7_수요 배분P_8  \\\n",
       "0     501디자인       수락      비율디자인  ...   NaN      NaN   NaN      NaN   NaN   \n",
       "1        장식가       수락  디자인스튜디오산들  ...   NaN      NaN   NaN      NaN   NaN   \n",
       "2  미래인테리어디자인       수락        NaN  ...   NaN      NaN   NaN      NaN   NaN   \n",
       "3  다린인테리어디자인       수락   리홈디자인갤러리  ...   NaN      NaN   NaN      NaN   NaN   \n",
       "4      하트하우스       수락  디자인스튜디오산들  ...   NaN      NaN   NaN      NaN   NaN   \n",
       "\n",
       "  배분P_8_수요 배분P_9 배분P_9_수요 배분P_10 배분P_10_수요  \n",
       "0      NaN   NaN      NaN    NaN       NaN  \n",
       "1      NaN   NaN      NaN    NaN       NaN  \n",
       "2      NaN   NaN      NaN    NaN       NaN  \n",
       "3      NaN   NaN      NaN    NaN       NaN  \n",
       "4      NaN   NaN      NaN    NaN       NaN  \n",
       "\n",
       "[5 rows x 27 columns]"
      ]
     },
     "execution_count": 3,
     "metadata": {},
     "output_type": "execute_result"
    }
   ],
   "source": [
    "data.head()"
   ]
  },
  {
   "cell_type": "markdown",
   "metadata": {},
   "source": [
    "# 데이터 melt"
   ]
  },
  {
   "cell_type": "code",
   "execution_count": 18,
   "metadata": {},
   "outputs": [],
   "source": [
    "m = pd.melt(data, id_vars = ['견적번호','지역','주소_시군구'], \n",
    "            value_vars= ['배분P_1_수요', '배분P_2_수요', '배분P_3_수요', '배분P_4_수요', '배분P_5_수요', '배분P_6_수요', '배분P_7_수요', '배분P_8_수요', '배분P_9_수요', '배분P_10_수요'],\n",
    "           var_name='배분P_수요', value_name='수락거절회수')"
   ]
  },
  {
   "cell_type": "code",
   "execution_count": 19,
   "metadata": {},
   "outputs": [
    {
     "data": {
      "text/html": [
       "<div>\n",
       "<style scoped>\n",
       "    .dataframe tbody tr th:only-of-type {\n",
       "        vertical-align: middle;\n",
       "    }\n",
       "\n",
       "    .dataframe tbody tr th {\n",
       "        vertical-align: top;\n",
       "    }\n",
       "\n",
       "    .dataframe thead th {\n",
       "        text-align: right;\n",
       "    }\n",
       "</style>\n",
       "<table border=\"1\" class=\"dataframe\">\n",
       "  <thead>\n",
       "    <tr style=\"text-align: right;\">\n",
       "      <th></th>\n",
       "      <th>견적번호</th>\n",
       "      <th>지역</th>\n",
       "      <th>주소_시군구</th>\n",
       "      <th>배분P_수요</th>\n",
       "      <th>수락거절회수</th>\n",
       "    </tr>\n",
       "  </thead>\n",
       "  <tbody>\n",
       "    <tr>\n",
       "      <td>0</td>\n",
       "      <td>200037</td>\n",
       "      <td>경상남도</td>\n",
       "      <td>창원시 성산구</td>\n",
       "      <td>배분P_1_수요</td>\n",
       "      <td>수락</td>\n",
       "    </tr>\n",
       "    <tr>\n",
       "      <td>103</td>\n",
       "      <td>198413</td>\n",
       "      <td>경상남도</td>\n",
       "      <td>창원시 성산구</td>\n",
       "      <td>배분P_1_수요</td>\n",
       "      <td>NaN</td>\n",
       "    </tr>\n",
       "    <tr>\n",
       "      <td>125</td>\n",
       "      <td>198092</td>\n",
       "      <td>경상남도</td>\n",
       "      <td>창원시 성산구</td>\n",
       "      <td>배분P_1_수요</td>\n",
       "      <td>수락</td>\n",
       "    </tr>\n",
       "    <tr>\n",
       "      <td>159</td>\n",
       "      <td>197651</td>\n",
       "      <td>경상남도</td>\n",
       "      <td>창원시 성산구</td>\n",
       "      <td>배분P_1_수요</td>\n",
       "      <td>수락</td>\n",
       "    </tr>\n",
       "    <tr>\n",
       "      <td>173</td>\n",
       "      <td>197450</td>\n",
       "      <td>경상남도</td>\n",
       "      <td>창원시 성산구</td>\n",
       "      <td>배분P_1_수요</td>\n",
       "      <td>수락</td>\n",
       "    </tr>\n",
       "    <tr>\n",
       "      <td>...</td>\n",
       "      <td>...</td>\n",
       "      <td>...</td>\n",
       "      <td>...</td>\n",
       "      <td>...</td>\n",
       "      <td>...</td>\n",
       "    </tr>\n",
       "    <tr>\n",
       "      <td>80362</td>\n",
       "      <td>209493</td>\n",
       "      <td>경상남도</td>\n",
       "      <td>창원시 성산구</td>\n",
       "      <td>배분P_10_수요</td>\n",
       "      <td>NaN</td>\n",
       "    </tr>\n",
       "    <tr>\n",
       "      <td>80466</td>\n",
       "      <td>207909</td>\n",
       "      <td>경상남도</td>\n",
       "      <td>창원시 성산구</td>\n",
       "      <td>배분P_10_수요</td>\n",
       "      <td>NaN</td>\n",
       "    </tr>\n",
       "    <tr>\n",
       "      <td>80588</td>\n",
       "      <td>206308</td>\n",
       "      <td>경상남도</td>\n",
       "      <td>창원시 성산구</td>\n",
       "      <td>배분P_10_수요</td>\n",
       "      <td>NaN</td>\n",
       "    </tr>\n",
       "    <tr>\n",
       "      <td>80718</td>\n",
       "      <td>204665</td>\n",
       "      <td>경상남도</td>\n",
       "      <td>창원시 성산구</td>\n",
       "      <td>배분P_10_수요</td>\n",
       "      <td>NaN</td>\n",
       "    </tr>\n",
       "    <tr>\n",
       "      <td>80765</td>\n",
       "      <td>203957</td>\n",
       "      <td>경상남도</td>\n",
       "      <td>창원시 성산구</td>\n",
       "      <td>배분P_10_수요</td>\n",
       "      <td>NaN</td>\n",
       "    </tr>\n",
       "  </tbody>\n",
       "</table>\n",
       "<p>370 rows × 5 columns</p>\n",
       "</div>"
      ],
      "text/plain": [
       "         견적번호    지역   주소_시군구     배분P_수요 수락거절회수\n",
       "0      200037  경상남도  창원시 성산구   배분P_1_수요     수락\n",
       "103    198413  경상남도  창원시 성산구   배분P_1_수요    NaN\n",
       "125    198092  경상남도  창원시 성산구   배분P_1_수요     수락\n",
       "159    197651  경상남도  창원시 성산구   배분P_1_수요     수락\n",
       "173    197450  경상남도  창원시 성산구   배분P_1_수요     수락\n",
       "...       ...   ...      ...        ...    ...\n",
       "80362  209493  경상남도  창원시 성산구  배분P_10_수요    NaN\n",
       "80466  207909  경상남도  창원시 성산구  배분P_10_수요    NaN\n",
       "80588  206308  경상남도  창원시 성산구  배분P_10_수요    NaN\n",
       "80718  204665  경상남도  창원시 성산구  배분P_10_수요    NaN\n",
       "80765  203957  경상남도  창원시 성산구  배분P_10_수요    NaN\n",
       "\n",
       "[370 rows x 5 columns]"
      ]
     },
     "execution_count": 19,
     "metadata": {},
     "output_type": "execute_result"
    }
   ],
   "source": [
    "m[(m['지역']=='경상남도')&(m['주소_시군구']=='창원시 성산구')]"
   ]
  },
  {
   "cell_type": "code",
   "execution_count": 20,
   "metadata": {},
   "outputs": [
    {
     "data": {
      "text/plain": [
       "(81040, 5)"
      ]
     },
     "execution_count": 20,
     "metadata": {},
     "output_type": "execute_result"
    }
   ],
   "source": [
    "m.shape"
   ]
  },
  {
   "cell_type": "code",
   "execution_count": 22,
   "metadata": {},
   "outputs": [],
   "source": [
    "m.to_csv('C:/Users/B0113/Desktop/집닥 프로젝트/data/전처리완료/집닥_수락거절회수_melt.csv', header=True, index=False)"
   ]
  },
  {
   "cell_type": "markdown",
   "metadata": {},
   "source": [
    "# 수락거절회수 결측치인 행 삭제"
   ]
  },
  {
   "cell_type": "code",
   "execution_count": 30,
   "metadata": {},
   "outputs": [],
   "source": [
    "new_m = m[m['수락거절회수'].notnull()].copy()"
   ]
  },
  {
   "cell_type": "code",
   "execution_count": 31,
   "metadata": {},
   "outputs": [
    {
     "data": {
      "text/plain": [
       "(21894, 5)"
      ]
     },
     "execution_count": 31,
     "metadata": {},
     "output_type": "execute_result"
    }
   ],
   "source": [
    "new_m.shape"
   ]
  },
  {
   "cell_type": "code",
   "execution_count": 32,
   "metadata": {},
   "outputs": [],
   "source": [
    "new_m.to_csv('C:/Users/B0113/Desktop/집닥 프로젝트/data/전처리완료/집닥_수락거절회수_melt.csv', header=True, index=False)"
   ]
  },
  {
   "cell_type": "code",
   "execution_count": null,
   "metadata": {},
   "outputs": [],
   "source": []
  }
 ],
 "metadata": {
  "kernelspec": {
   "display_name": "Python 3",
   "language": "python",
   "name": "python3"
  },
  "language_info": {
   "codemirror_mode": {
    "name": "ipython",
    "version": 3
   },
   "file_extension": ".py",
   "mimetype": "text/x-python",
   "name": "python",
   "nbconvert_exporter": "python",
   "pygments_lexer": "ipython3",
   "version": "3.7.4"
  },
  "toc": {
   "base_numbering": 1,
   "nav_menu": {},
   "number_sections": true,
   "sideBar": true,
   "skip_h1_title": false,
   "title_cell": "Table of Contents",
   "title_sidebar": "Contents",
   "toc_cell": false,
   "toc_position": {},
   "toc_section_display": true,
   "toc_window_display": false
  },
  "varInspector": {
   "cols": {
    "lenName": 16,
    "lenType": 16,
    "lenVar": 40
   },
   "kernels_config": {
    "python": {
     "delete_cmd_postfix": "",
     "delete_cmd_prefix": "del ",
     "library": "var_list.py",
     "varRefreshCmd": "print(var_dic_list())"
    },
    "r": {
     "delete_cmd_postfix": ") ",
     "delete_cmd_prefix": "rm(",
     "library": "var_list.r",
     "varRefreshCmd": "cat(var_dic_list()) "
    }
   },
   "types_to_exclude": [
    "module",
    "function",
    "builtin_function_or_method",
    "instance",
    "_Feature"
   ],
   "window_display": false
  }
 },
 "nbformat": 4,
 "nbformat_minor": 2
}
