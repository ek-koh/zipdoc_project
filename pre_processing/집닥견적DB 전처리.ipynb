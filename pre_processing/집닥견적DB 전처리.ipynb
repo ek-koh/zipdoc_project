{
 "cells": [
  {
   "cell_type": "code",
   "execution_count": 1,
   "metadata": {},
   "outputs": [],
   "source": [
    "import pandas as pd"
   ]
  },
  {
   "cell_type": "code",
   "execution_count": 2,
   "metadata": {},
   "outputs": [],
   "source": [
    "kj = pd.read_excel('../data/zipdoc/집닥_견적raw.xlsx')"
   ]
  },
  {
   "cell_type": "code",
   "execution_count": 3,
   "metadata": {
    "scrolled": true
   },
   "outputs": [
    {
     "data": {
      "text/html": [
       "<div>\n",
       "<style scoped>\n",
       "    .dataframe tbody tr th:only-of-type {\n",
       "        vertical-align: middle;\n",
       "    }\n",
       "\n",
       "    .dataframe tbody tr th {\n",
       "        vertical-align: top;\n",
       "    }\n",
       "\n",
       "    .dataframe thead th {\n",
       "        text-align: right;\n",
       "    }\n",
       "</style>\n",
       "<table border=\"1\" class=\"dataframe\">\n",
       "  <thead>\n",
       "    <tr style=\"text-align: right;\">\n",
       "      <th></th>\n",
       "      <th>견적일</th>\n",
       "      <th>신청자</th>\n",
       "      <th>회원번호</th>\n",
       "      <th>유입경로</th>\n",
       "      <th>프로모션코드</th>\n",
       "      <th>광고ID</th>\n",
       "      <th>연락처</th>\n",
       "      <th>주/상</th>\n",
       "      <th>시공유형</th>\n",
       "      <th>주소</th>\n",
       "      <th>...</th>\n",
       "      <th>집닥계약경험여부</th>\n",
       "      <th>근거리업체요청</th>\n",
       "      <th>유경험업체요청</th>\n",
       "      <th>중복접수여부</th>\n",
       "      <th>집닥추천여부</th>\n",
       "      <th>요구사항구체성여부</th>\n",
       "      <th>미팅가능여부</th>\n",
       "      <th>타사비교견적여부</th>\n",
       "      <th>멤버번호</th>\n",
       "      <th>시공사례(스타일) 선택</th>\n",
       "    </tr>\n",
       "  </thead>\n",
       "  <tbody>\n",
       "    <tr>\n",
       "      <td>0</td>\n",
       "      <td>2019-07-31 22:43:20</td>\n",
       "      <td>NaN</td>\n",
       "      <td>43690.0</td>\n",
       "      <td>앱-안드로이드간편</td>\n",
       "      <td>NaN</td>\n",
       "      <td>6b4d0d4e-758e-4d06-bca8-0cc3b5f19726</td>\n",
       "      <td>NaN</td>\n",
       "      <td>주거</td>\n",
       "      <td>아파트</td>\n",
       "      <td>서울 구로구 구로동 1263 롯데구로아파트 103동</td>\n",
       "      <td>...</td>\n",
       "      <td>NaN</td>\n",
       "      <td>NaN</td>\n",
       "      <td>NaN</td>\n",
       "      <td>NaN</td>\n",
       "      <td>NaN</td>\n",
       "      <td>NaN</td>\n",
       "      <td>NaN</td>\n",
       "      <td>NaN</td>\n",
       "      <td>43690.0</td>\n",
       "      <td>NaN</td>\n",
       "    </tr>\n",
       "    <tr>\n",
       "      <td>1</td>\n",
       "      <td>2019-07-31 22:20:21</td>\n",
       "      <td>NaN</td>\n",
       "      <td>NaN</td>\n",
       "      <td>웹-모바일웹간편</td>\n",
       "      <td>NaN</td>\n",
       "      <td>NaN</td>\n",
       "      <td>NaN</td>\n",
       "      <td>주거</td>\n",
       "      <td>아파트</td>\n",
       "      <td>광주 서구 풍암동 929-2 광명메이루즈 107동 702호</td>\n",
       "      <td>...</td>\n",
       "      <td>아니오</td>\n",
       "      <td>아니오(이외 지역)</td>\n",
       "      <td>NaN</td>\n",
       "      <td>아니오</td>\n",
       "      <td>아니오</td>\n",
       "      <td>원하는 바가 명확하지 않음</td>\n",
       "      <td>실측 가능</td>\n",
       "      <td>타사 비교견적 경험 있음</td>\n",
       "      <td>NaN</td>\n",
       "      <td>1976.0</td>\n",
       "    </tr>\n",
       "    <tr>\n",
       "      <td>2</td>\n",
       "      <td>2019-07-31 21:56:35</td>\n",
       "      <td>NaN</td>\n",
       "      <td>NaN</td>\n",
       "      <td>웹-모바일웹상세</td>\n",
       "      <td>NaN</td>\n",
       "      <td>NaN</td>\n",
       "      <td>NaN</td>\n",
       "      <td>주거</td>\n",
       "      <td>아파트</td>\n",
       "      <td>경남 창원시 성산구 반림동 8 럭키반림아파트 10동 804호</td>\n",
       "      <td>...</td>\n",
       "      <td>아니오</td>\n",
       "      <td>아니오(이외 지역)</td>\n",
       "      <td>NaN</td>\n",
       "      <td>아니오</td>\n",
       "      <td>아니오</td>\n",
       "      <td>원하는 바가 명확하지 않음</td>\n",
       "      <td>NaN</td>\n",
       "      <td>타사 비교견적 경험 없음</td>\n",
       "      <td>NaN</td>\n",
       "      <td>NaN</td>\n",
       "    </tr>\n",
       "    <tr>\n",
       "      <td>3</td>\n",
       "      <td>2019-07-31 21:55:20</td>\n",
       "      <td>NaN</td>\n",
       "      <td>NaN</td>\n",
       "      <td>앱-안드로이드간편</td>\n",
       "      <td>NaN</td>\n",
       "      <td>f317d4bb-fd54-40f3-836a-83aaf4de67d9</td>\n",
       "      <td>NaN</td>\n",
       "      <td>주거</td>\n",
       "      <td>아파트</td>\n",
       "      <td>전남 순천시 연향동 1346 동부아파트 105동 15층</td>\n",
       "      <td>...</td>\n",
       "      <td>NaN</td>\n",
       "      <td>NaN</td>\n",
       "      <td>NaN</td>\n",
       "      <td>NaN</td>\n",
       "      <td>NaN</td>\n",
       "      <td>NaN</td>\n",
       "      <td>NaN</td>\n",
       "      <td>NaN</td>\n",
       "      <td>NaN</td>\n",
       "      <td>NaN</td>\n",
       "    </tr>\n",
       "    <tr>\n",
       "      <td>4</td>\n",
       "      <td>2019-07-31 21:52:32</td>\n",
       "      <td>NaN</td>\n",
       "      <td>NaN</td>\n",
       "      <td>웹-모바일웹상세</td>\n",
       "      <td>NaN</td>\n",
       "      <td>NaN</td>\n",
       "      <td>NaN</td>\n",
       "      <td>주거</td>\n",
       "      <td>아파트</td>\n",
       "      <td>서울 성동구 금호동2가 1217 래미안하이리버 109동 1704호</td>\n",
       "      <td>...</td>\n",
       "      <td>아니오</td>\n",
       "      <td>아니오(이외 지역)</td>\n",
       "      <td>현장(업종) 경험 없음</td>\n",
       "      <td>아니오</td>\n",
       "      <td>아니오</td>\n",
       "      <td>원하는 바가 명확하지 않음</td>\n",
       "      <td>NaN</td>\n",
       "      <td>타사 비교견적 경험 없음</td>\n",
       "      <td>NaN</td>\n",
       "      <td>NaN</td>\n",
       "    </tr>\n",
       "  </tbody>\n",
       "</table>\n",
       "<p>5 rows × 51 columns</p>\n",
       "</div>"
      ],
      "text/plain": [
       "                   견적일  신청자     회원번호       유입경로 프로모션코드  \\\n",
       "0  2019-07-31 22:43:20  NaN  43690.0  앱-안드로이드간편    NaN   \n",
       "1  2019-07-31 22:20:21  NaN      NaN   웹-모바일웹간편    NaN   \n",
       "2  2019-07-31 21:56:35  NaN      NaN   웹-모바일웹상세    NaN   \n",
       "3  2019-07-31 21:55:20  NaN      NaN  앱-안드로이드간편    NaN   \n",
       "4  2019-07-31 21:52:32  NaN      NaN   웹-모바일웹상세    NaN   \n",
       "\n",
       "                                   광고ID  연락처 주/상 시공유형  \\\n",
       "0  6b4d0d4e-758e-4d06-bca8-0cc3b5f19726  NaN  주거  아파트   \n",
       "1                                   NaN  NaN  주거  아파트   \n",
       "2                                   NaN  NaN  주거  아파트   \n",
       "3  f317d4bb-fd54-40f3-836a-83aaf4de67d9  NaN  주거  아파트   \n",
       "4                                   NaN  NaN  주거  아파트   \n",
       "\n",
       "                                      주소  ... 집닥계약경험여부     근거리업체요청  \\\n",
       "0          서울 구로구 구로동 1263 롯데구로아파트 103동   ...      NaN         NaN   \n",
       "1       광주 서구 풍암동 929-2 광명메이루즈 107동 702호  ...      아니오  아니오(이외 지역)   \n",
       "2     경남 창원시 성산구 반림동 8 럭키반림아파트 10동 804호   ...      아니오  아니오(이외 지역)   \n",
       "3         전남 순천시 연향동 1346 동부아파트 105동 15층  ...      NaN         NaN   \n",
       "4  서울 성동구 금호동2가 1217 래미안하이리버 109동 1704호   ...      아니오  아니오(이외 지역)   \n",
       "\n",
       "        유경험업체요청 중복접수여부 집닥추천여부       요구사항구체성여부  미팅가능여부       타사비교견적여부     멤버번호  \\\n",
       "0           NaN    NaN    NaN             NaN     NaN            NaN  43690.0   \n",
       "1           NaN    아니오    아니오  원하는 바가 명확하지 않음   실측 가능  타사 비교견적 경험 있음      NaN   \n",
       "2           NaN    아니오    아니오  원하는 바가 명확하지 않음     NaN  타사 비교견적 경험 없음      NaN   \n",
       "3           NaN    NaN    NaN             NaN     NaN            NaN      NaN   \n",
       "4  현장(업종) 경험 없음    아니오    아니오  원하는 바가 명확하지 않음     NaN  타사 비교견적 경험 없음      NaN   \n",
       "\n",
       "  시공사례(스타일) 선택  \n",
       "0          NaN  \n",
       "1       1976.0  \n",
       "2          NaN  \n",
       "3          NaN  \n",
       "4          NaN  \n",
       "\n",
       "[5 rows x 51 columns]"
      ]
     },
     "execution_count": 3,
     "metadata": {},
     "output_type": "execute_result"
    }
   ],
   "source": [
    "kj.head()"
   ]
  },
  {
   "cell_type": "code",
   "execution_count": 4,
   "metadata": {},
   "outputs": [
    {
     "name": "stdout",
     "output_type": "stream",
     "text": [
      "<class 'pandas.core.frame.DataFrame'>\n",
      "RangeIndex: 48761 entries, 0 to 48760\n",
      "Data columns (total 51 columns):\n",
      "견적일             48761 non-null object\n",
      "신청자             0 non-null float64\n",
      "회원번호            5483 non-null float64\n",
      "유입경로            48751 non-null object\n",
      "프로모션코드          1522 non-null object\n",
      "광고ID            6636 non-null object\n",
      "연락처             0 non-null float64\n",
      "주/상             48700 non-null object\n",
      "시공유형            41484 non-null object\n",
      "주소              41718 non-null object\n",
      "평수              33875 non-null object\n",
      "공사예산(고객예산)      15496 non-null object\n",
      "공사예산(CS확인예산)    27882 non-null object\n",
      "DB 유형           27826 non-null object\n",
      "DB 등급           48761 non-null object\n",
      "공사예정일           24654 non-null object\n",
      "상담일             0 non-null float64\n",
      "시공범위            25468 non-null object\n",
      "진행상태            48761 non-null object\n",
      "종료여부            48761 non-null object\n",
      "종료사유            27977 non-null object\n",
      "견적번호            48761 non-null int64\n",
      "path            20282 non-null object\n",
      "param           23919 non-null object\n",
      "배분P             23474 non-null object\n",
      "요청              29622 non-null object\n",
      "인입경로            18979 non-null object\n",
      "최초접속URL         14658 non-null object\n",
      "인입채널(UTM)       10637 non-null object\n",
      "AC              4384 non-null object\n",
      "utm_source      11131 non-null object\n",
      "utm_campaign    11124 non-null object\n",
      "utm_content     11051 non-null object\n",
      "utm_term        10784 non-null object\n",
      "utm_medium      11128 non-null object\n",
      "상담이력            48760 non-null object\n",
      "마켓팅 수신 동의 여부    48761 non-null object\n",
      "계약번호            4265 non-null float64\n",
      "거주여부            27579 non-null object\n",
      "거주예정자           26698 non-null object\n",
      "부동산계약여부         21545 non-null object\n",
      "집닥계약경험여부        19795 non-null object\n",
      "근거리업체요청         17468 non-null object\n",
      "유경험업체요청         6654 non-null object\n",
      "중복접수여부          19796 non-null object\n",
      "집닥추천여부          19795 non-null object\n",
      "요구사항구체성여부       20023 non-null object\n",
      "미팅가능여부          9445 non-null object\n",
      "타사비교견적여부        20289 non-null object\n",
      "멤버번호            5483 non-null float64\n",
      "시공사례(스타일) 선택    3861 non-null float64\n",
      "dtypes: float64(7), int64(1), object(43)\n",
      "memory usage: 19.0+ MB\n"
     ]
    }
   ],
   "source": [
    "kj.info()"
   ]
  },
  {
   "cell_type": "code",
   "execution_count": 5,
   "metadata": {},
   "outputs": [
    {
     "name": "stdout",
     "output_type": "stream",
     "text": [
      "견적일             48761\n",
      "신청자                 0\n",
      "회원번호             5483\n",
      "유입경로            48751\n",
      "프로모션코드           1522\n",
      "광고ID             6636\n",
      "연락처                 0\n",
      "주/상             48700\n",
      "시공유형            41484\n",
      "주소              41718\n",
      "평수              33875\n",
      "공사예산(고객예산)      15496\n",
      "공사예산(CS확인예산)    27882\n",
      "DB 유형           27826\n",
      "DB 등급           48761\n",
      "공사예정일           24654\n",
      "상담일                 0\n",
      "시공범위            25468\n",
      "진행상태            48761\n",
      "종료여부            48761\n",
      "종료사유            27977\n",
      "견적번호            48761\n",
      "path            20282\n",
      "param           23919\n",
      "배분P             23474\n",
      "요청              29622\n",
      "인입경로            18979\n",
      "최초접속URL         14658\n",
      "인입채널(UTM)       10637\n",
      "AC               4384\n",
      "utm_source      11131\n",
      "utm_campaign    11124\n",
      "utm_content     11051\n",
      "utm_term        10784\n",
      "utm_medium      11128\n",
      "상담이력            48760\n",
      "마켓팅 수신 동의 여부    48761\n",
      "계약번호             4265\n",
      "거주여부            27579\n",
      "거주예정자           26698\n",
      "부동산계약여부         21545\n",
      "집닥계약경험여부        19795\n",
      "근거리업체요청         17468\n",
      "유경험업체요청          6654\n",
      "중복접수여부          19796\n",
      "집닥추천여부          19795\n",
      "요구사항구체성여부       20023\n",
      "미팅가능여부           9445\n",
      "타사비교견적여부        20289\n",
      "멤버번호             5483\n",
      "시공사례(스타일) 선택     3861\n",
      "dtype: int64\n"
     ]
    }
   ],
   "source": [
    "print(kj.count())"
   ]
  },
  {
   "cell_type": "code",
   "execution_count": 8,
   "metadata": {},
   "outputs": [],
   "source": [
    "del kj['신청자']"
   ]
  },
  {
   "cell_type": "code",
   "execution_count": 10,
   "metadata": {},
   "outputs": [],
   "source": [
    "del kj['연락처']"
   ]
  },
  {
   "cell_type": "code",
   "execution_count": 11,
   "metadata": {},
   "outputs": [],
   "source": [
    "del kj['상담일']"
   ]
  },
  {
   "cell_type": "code",
   "execution_count": 12,
   "metadata": {},
   "outputs": [
    {
     "data": {
      "text/html": [
       "<div>\n",
       "<style scoped>\n",
       "    .dataframe tbody tr th:only-of-type {\n",
       "        vertical-align: middle;\n",
       "    }\n",
       "\n",
       "    .dataframe tbody tr th {\n",
       "        vertical-align: top;\n",
       "    }\n",
       "\n",
       "    .dataframe thead th {\n",
       "        text-align: right;\n",
       "    }\n",
       "</style>\n",
       "<table border=\"1\" class=\"dataframe\">\n",
       "  <thead>\n",
       "    <tr style=\"text-align: right;\">\n",
       "      <th></th>\n",
       "      <th>견적일</th>\n",
       "      <th>회원번호</th>\n",
       "      <th>유입경로</th>\n",
       "      <th>프로모션코드</th>\n",
       "      <th>광고ID</th>\n",
       "      <th>주/상</th>\n",
       "      <th>시공유형</th>\n",
       "      <th>주소</th>\n",
       "      <th>평수</th>\n",
       "      <th>공사예산(고객예산)</th>\n",
       "      <th>...</th>\n",
       "      <th>집닥계약경험여부</th>\n",
       "      <th>근거리업체요청</th>\n",
       "      <th>유경험업체요청</th>\n",
       "      <th>중복접수여부</th>\n",
       "      <th>집닥추천여부</th>\n",
       "      <th>요구사항구체성여부</th>\n",
       "      <th>미팅가능여부</th>\n",
       "      <th>타사비교견적여부</th>\n",
       "      <th>멤버번호</th>\n",
       "      <th>시공사례(스타일) 선택</th>\n",
       "    </tr>\n",
       "  </thead>\n",
       "  <tbody>\n",
       "    <tr>\n",
       "      <td>0</td>\n",
       "      <td>2019-07-31 22:43:20</td>\n",
       "      <td>43690.0</td>\n",
       "      <td>앱-안드로이드간편</td>\n",
       "      <td>NaN</td>\n",
       "      <td>6b4d0d4e-758e-4d06-bca8-0cc3b5f19726</td>\n",
       "      <td>주거</td>\n",
       "      <td>아파트</td>\n",
       "      <td>서울 구로구 구로동 1263 롯데구로아파트 103동</td>\n",
       "      <td>24</td>\n",
       "      <td>NaN</td>\n",
       "      <td>...</td>\n",
       "      <td>NaN</td>\n",
       "      <td>NaN</td>\n",
       "      <td>NaN</td>\n",
       "      <td>NaN</td>\n",
       "      <td>NaN</td>\n",
       "      <td>NaN</td>\n",
       "      <td>NaN</td>\n",
       "      <td>NaN</td>\n",
       "      <td>43690.0</td>\n",
       "      <td>NaN</td>\n",
       "    </tr>\n",
       "    <tr>\n",
       "      <td>1</td>\n",
       "      <td>2019-07-31 22:20:21</td>\n",
       "      <td>NaN</td>\n",
       "      <td>웹-모바일웹간편</td>\n",
       "      <td>NaN</td>\n",
       "      <td>NaN</td>\n",
       "      <td>주거</td>\n",
       "      <td>아파트</td>\n",
       "      <td>광주 서구 풍암동 929-2 광명메이루즈 107동 702호</td>\n",
       "      <td>38</td>\n",
       "      <td>NaN</td>\n",
       "      <td>...</td>\n",
       "      <td>아니오</td>\n",
       "      <td>아니오(이외 지역)</td>\n",
       "      <td>NaN</td>\n",
       "      <td>아니오</td>\n",
       "      <td>아니오</td>\n",
       "      <td>원하는 바가 명확하지 않음</td>\n",
       "      <td>실측 가능</td>\n",
       "      <td>타사 비교견적 경험 있음</td>\n",
       "      <td>NaN</td>\n",
       "      <td>1976.0</td>\n",
       "    </tr>\n",
       "    <tr>\n",
       "      <td>2</td>\n",
       "      <td>2019-07-31 21:56:35</td>\n",
       "      <td>NaN</td>\n",
       "      <td>웹-모바일웹상세</td>\n",
       "      <td>NaN</td>\n",
       "      <td>NaN</td>\n",
       "      <td>주거</td>\n",
       "      <td>아파트</td>\n",
       "      <td>경남 창원시 성산구 반림동 8 럭키반림아파트 10동 804호</td>\n",
       "      <td>31</td>\n",
       "      <td>NaN</td>\n",
       "      <td>...</td>\n",
       "      <td>아니오</td>\n",
       "      <td>아니오(이외 지역)</td>\n",
       "      <td>NaN</td>\n",
       "      <td>아니오</td>\n",
       "      <td>아니오</td>\n",
       "      <td>원하는 바가 명확하지 않음</td>\n",
       "      <td>NaN</td>\n",
       "      <td>타사 비교견적 경험 없음</td>\n",
       "      <td>NaN</td>\n",
       "      <td>NaN</td>\n",
       "    </tr>\n",
       "    <tr>\n",
       "      <td>3</td>\n",
       "      <td>2019-07-31 21:55:20</td>\n",
       "      <td>NaN</td>\n",
       "      <td>앱-안드로이드간편</td>\n",
       "      <td>NaN</td>\n",
       "      <td>f317d4bb-fd54-40f3-836a-83aaf4de67d9</td>\n",
       "      <td>주거</td>\n",
       "      <td>아파트</td>\n",
       "      <td>전남 순천시 연향동 1346 동부아파트 105동 15층</td>\n",
       "      <td>34</td>\n",
       "      <td>NaN</td>\n",
       "      <td>...</td>\n",
       "      <td>NaN</td>\n",
       "      <td>NaN</td>\n",
       "      <td>NaN</td>\n",
       "      <td>NaN</td>\n",
       "      <td>NaN</td>\n",
       "      <td>NaN</td>\n",
       "      <td>NaN</td>\n",
       "      <td>NaN</td>\n",
       "      <td>NaN</td>\n",
       "      <td>NaN</td>\n",
       "    </tr>\n",
       "    <tr>\n",
       "      <td>4</td>\n",
       "      <td>2019-07-31 21:52:32</td>\n",
       "      <td>NaN</td>\n",
       "      <td>웹-모바일웹상세</td>\n",
       "      <td>NaN</td>\n",
       "      <td>NaN</td>\n",
       "      <td>주거</td>\n",
       "      <td>아파트</td>\n",
       "      <td>서울 성동구 금호동2가 1217 래미안하이리버 109동 1704호</td>\n",
       "      <td>25</td>\n",
       "      <td>2000</td>\n",
       "      <td>...</td>\n",
       "      <td>아니오</td>\n",
       "      <td>아니오(이외 지역)</td>\n",
       "      <td>현장(업종) 경험 없음</td>\n",
       "      <td>아니오</td>\n",
       "      <td>아니오</td>\n",
       "      <td>원하는 바가 명확하지 않음</td>\n",
       "      <td>NaN</td>\n",
       "      <td>타사 비교견적 경험 없음</td>\n",
       "      <td>NaN</td>\n",
       "      <td>NaN</td>\n",
       "    </tr>\n",
       "  </tbody>\n",
       "</table>\n",
       "<p>5 rows × 48 columns</p>\n",
       "</div>"
      ],
      "text/plain": [
       "                   견적일     회원번호       유입경로 프로모션코드  \\\n",
       "0  2019-07-31 22:43:20  43690.0  앱-안드로이드간편    NaN   \n",
       "1  2019-07-31 22:20:21      NaN   웹-모바일웹간편    NaN   \n",
       "2  2019-07-31 21:56:35      NaN   웹-모바일웹상세    NaN   \n",
       "3  2019-07-31 21:55:20      NaN  앱-안드로이드간편    NaN   \n",
       "4  2019-07-31 21:52:32      NaN   웹-모바일웹상세    NaN   \n",
       "\n",
       "                                   광고ID 주/상 시공유형  \\\n",
       "0  6b4d0d4e-758e-4d06-bca8-0cc3b5f19726  주거  아파트   \n",
       "1                                   NaN  주거  아파트   \n",
       "2                                   NaN  주거  아파트   \n",
       "3  f317d4bb-fd54-40f3-836a-83aaf4de67d9  주거  아파트   \n",
       "4                                   NaN  주거  아파트   \n",
       "\n",
       "                                      주소  평수 공사예산(고객예산)  ... 집닥계약경험여부  \\\n",
       "0          서울 구로구 구로동 1263 롯데구로아파트 103동   24        NaN  ...      NaN   \n",
       "1       광주 서구 풍암동 929-2 광명메이루즈 107동 702호  38        NaN  ...      아니오   \n",
       "2     경남 창원시 성산구 반림동 8 럭키반림아파트 10동 804호   31        NaN  ...      아니오   \n",
       "3         전남 순천시 연향동 1346 동부아파트 105동 15층  34        NaN  ...      NaN   \n",
       "4  서울 성동구 금호동2가 1217 래미안하이리버 109동 1704호   25       2000  ...      아니오   \n",
       "\n",
       "      근거리업체요청       유경험업체요청 중복접수여부 집닥추천여부       요구사항구체성여부 미팅가능여부  \\\n",
       "0         NaN           NaN    NaN    NaN             NaN    NaN   \n",
       "1  아니오(이외 지역)           NaN    아니오    아니오  원하는 바가 명확하지 않음  실측 가능   \n",
       "2  아니오(이외 지역)           NaN    아니오    아니오  원하는 바가 명확하지 않음    NaN   \n",
       "3         NaN           NaN    NaN    NaN             NaN    NaN   \n",
       "4  아니오(이외 지역)  현장(업종) 경험 없음    아니오    아니오  원하는 바가 명확하지 않음    NaN   \n",
       "\n",
       "        타사비교견적여부     멤버번호 시공사례(스타일) 선택  \n",
       "0            NaN  43690.0          NaN  \n",
       "1  타사 비교견적 경험 있음      NaN       1976.0  \n",
       "2  타사 비교견적 경험 없음      NaN          NaN  \n",
       "3            NaN      NaN          NaN  \n",
       "4  타사 비교견적 경험 없음      NaN          NaN  \n",
       "\n",
       "[5 rows x 48 columns]"
      ]
     },
     "execution_count": 12,
     "metadata": {},
     "output_type": "execute_result"
    }
   ],
   "source": [
    "kj.head()"
   ]
  },
  {
   "cell_type": "code",
   "execution_count": 13,
   "metadata": {},
   "outputs": [
    {
     "name": "stdout",
     "output_type": "stream",
     "text": [
      "<class 'pandas.core.frame.DataFrame'>\n",
      "RangeIndex: 48761 entries, 0 to 48760\n",
      "Data columns (total 48 columns):\n",
      "견적일             48761 non-null object\n",
      "회원번호            5483 non-null float64\n",
      "유입경로            48751 non-null object\n",
      "프로모션코드          1522 non-null object\n",
      "광고ID            6636 non-null object\n",
      "주/상             48700 non-null object\n",
      "시공유형            41484 non-null object\n",
      "주소              41718 non-null object\n",
      "평수              33875 non-null object\n",
      "공사예산(고객예산)      15496 non-null object\n",
      "공사예산(CS확인예산)    27882 non-null object\n",
      "DB 유형           27826 non-null object\n",
      "DB 등급           48761 non-null object\n",
      "공사예정일           24654 non-null object\n",
      "시공범위            25468 non-null object\n",
      "진행상태            48761 non-null object\n",
      "종료여부            48761 non-null object\n",
      "종료사유            27977 non-null object\n",
      "견적번호            48761 non-null int64\n",
      "path            20282 non-null object\n",
      "param           23919 non-null object\n",
      "배분P             23474 non-null object\n",
      "요청              29622 non-null object\n",
      "인입경로            18979 non-null object\n",
      "최초접속URL         14658 non-null object\n",
      "인입채널(UTM)       10637 non-null object\n",
      "AC              4384 non-null object\n",
      "utm_source      11131 non-null object\n",
      "utm_campaign    11124 non-null object\n",
      "utm_content     11051 non-null object\n",
      "utm_term        10784 non-null object\n",
      "utm_medium      11128 non-null object\n",
      "상담이력            48760 non-null object\n",
      "마켓팅 수신 동의 여부    48761 non-null object\n",
      "계약번호            4265 non-null float64\n",
      "거주여부            27579 non-null object\n",
      "거주예정자           26698 non-null object\n",
      "부동산계약여부         21545 non-null object\n",
      "집닥계약경험여부        19795 non-null object\n",
      "근거리업체요청         17468 non-null object\n",
      "유경험업체요청         6654 non-null object\n",
      "중복접수여부          19796 non-null object\n",
      "집닥추천여부          19795 non-null object\n",
      "요구사항구체성여부       20023 non-null object\n",
      "미팅가능여부          9445 non-null object\n",
      "타사비교견적여부        20289 non-null object\n",
      "멤버번호            5483 non-null float64\n",
      "시공사례(스타일) 선택    3861 non-null float64\n",
      "dtypes: float64(4), int64(1), object(43)\n",
      "memory usage: 17.9+ MB\n"
     ]
    }
   ],
   "source": [
    "kj.info()"
   ]
  },
  {
   "cell_type": "code",
   "execution_count": 14,
   "metadata": {},
   "outputs": [],
   "source": [
    "del kj['회원번호']"
   ]
  },
  {
   "cell_type": "code",
   "execution_count": 15,
   "metadata": {},
   "outputs": [
    {
     "data": {
      "text/plain": [
       "(48761, 47)"
      ]
     },
     "execution_count": 15,
     "metadata": {},
     "output_type": "execute_result"
    }
   ],
   "source": [
    "kj.shape"
   ]
  },
  {
   "cell_type": "code",
   "execution_count": 16,
   "metadata": {},
   "outputs": [],
   "source": [
    "del kj['프로모션코드']"
   ]
  },
  {
   "cell_type": "code",
   "execution_count": 17,
   "metadata": {},
   "outputs": [
    {
     "data": {
      "text/plain": [
       "(48761, 46)"
      ]
     },
     "execution_count": 17,
     "metadata": {},
     "output_type": "execute_result"
    }
   ],
   "source": [
    "kj.shape"
   ]
  },
  {
   "cell_type": "code",
   "execution_count": 18,
   "metadata": {},
   "outputs": [],
   "source": [
    "del kj['광고ID']"
   ]
  },
  {
   "cell_type": "code",
   "execution_count": 19,
   "metadata": {},
   "outputs": [
    {
     "data": {
      "text/plain": [
       "(48761, 45)"
      ]
     },
     "execution_count": 19,
     "metadata": {},
     "output_type": "execute_result"
    }
   ],
   "source": [
    "kj.shape"
   ]
  },
  {
   "cell_type": "code",
   "execution_count": 20,
   "metadata": {},
   "outputs": [],
   "source": [
    "del kj['종료사유']"
   ]
  },
  {
   "cell_type": "code",
   "execution_count": 21,
   "metadata": {},
   "outputs": [
    {
     "data": {
      "text/plain": [
       "(48761, 44)"
      ]
     },
     "execution_count": 21,
     "metadata": {},
     "output_type": "execute_result"
    }
   ],
   "source": [
    "kj.shape"
   ]
  },
  {
   "cell_type": "code",
   "execution_count": 22,
   "metadata": {},
   "outputs": [],
   "source": [
    "del kj['path']\n",
    "del kj['param']\n",
    "del kj['인입경로']\n",
    "del kj['최초접속URL']"
   ]
  },
  {
   "cell_type": "code",
   "execution_count": 23,
   "metadata": {},
   "outputs": [
    {
     "data": {
      "text/plain": [
       "(48761, 40)"
      ]
     },
     "execution_count": 23,
     "metadata": {},
     "output_type": "execute_result"
    }
   ],
   "source": [
    "kj.shape"
   ]
  },
  {
   "cell_type": "code",
   "execution_count": 24,
   "metadata": {},
   "outputs": [
    {
     "data": {
      "text/plain": [
       "Index(['견적일', '유입경로', '주/상', '시공유형', '주소', '평수', '공사예산(고객예산)', '공사예산(CS확인예산)',\n",
       "       'DB 유형', 'DB 등급', '공사예정일', '시공범위', '진행상태', '종료여부', '견적번호', '배분P', '요청',\n",
       "       '인입채널(UTM)', 'AC', 'utm_source', 'utm_campaign', 'utm_content',\n",
       "       'utm_term', 'utm_medium', '상담이력', '마켓팅 수신 동의 여부', '계약번호', '거주여부',\n",
       "       '거주예정자', '부동산계약여부', '집닥계약경험여부', '근거리업체요청', '유경험업체요청', '중복접수여부',\n",
       "       '집닥추천여부', '요구사항구체성여부', '미팅가능여부', '타사비교견적여부', '멤버번호', '시공사례(스타일) 선택'],\n",
       "      dtype='object')"
      ]
     },
     "execution_count": 24,
     "metadata": {},
     "output_type": "execute_result"
    }
   ],
   "source": [
    "kj.columns"
   ]
  },
  {
   "cell_type": "code",
   "execution_count": 25,
   "metadata": {},
   "outputs": [],
   "source": [
    "del kj['배분P']\n",
    "del kj['AC']\n",
    "del kj['utm_source']\n",
    "del kj['utm_campaign']\n",
    "del kj['utm_content']\n",
    "del kj['utm_term']\n",
    "del kj['utm_medium']"
   ]
  },
  {
   "cell_type": "code",
   "execution_count": 26,
   "metadata": {},
   "outputs": [
    {
     "data": {
      "text/plain": [
       "(48761, 33)"
      ]
     },
     "execution_count": 26,
     "metadata": {},
     "output_type": "execute_result"
    }
   ],
   "source": [
    "kj.shape"
   ]
  },
  {
   "cell_type": "code",
   "execution_count": 27,
   "metadata": {},
   "outputs": [],
   "source": [
    "del kj['거주여부']\n",
    "del kj['거주예정자']\n",
    "del kj['부동산계약여부']\n",
    "del kj['집닥계약경험여부']\n",
    "del kj['근거리업체요청']\n",
    "del kj['유경험업체요청']\n",
    "del kj['중복접수여부']\n",
    "del kj['집닥추천여부']\n",
    "del kj['요구사항구체성여부']\n",
    "del kj['미팅가능여부']\n",
    "del kj['타사비교견적여부']\n",
    "del kj['멤버번호']\n",
    "del kj['시공사례(스타일) 선택']"
   ]
  },
  {
   "cell_type": "code",
   "execution_count": 28,
   "metadata": {},
   "outputs": [
    {
     "data": {
      "text/plain": [
       "(48761, 20)"
      ]
     },
     "execution_count": 28,
     "metadata": {},
     "output_type": "execute_result"
    }
   ],
   "source": [
    "kj.shape"
   ]
  },
  {
   "cell_type": "code",
   "execution_count": 29,
   "metadata": {},
   "outputs": [
    {
     "data": {
      "text/plain": [
       "Index(['견적일', '유입경로', '주/상', '시공유형', '주소', '평수', '공사예산(고객예산)', '공사예산(CS확인예산)',\n",
       "       'DB 유형', 'DB 등급', '공사예정일', '시공범위', '진행상태', '종료여부', '견적번호', '요청',\n",
       "       '인입채널(UTM)', '상담이력', '마켓팅 수신 동의 여부', '계약번호'],\n",
       "      dtype='object')"
      ]
     },
     "execution_count": 29,
     "metadata": {},
     "output_type": "execute_result"
    }
   ],
   "source": [
    "kj.columns"
   ]
  },
  {
   "cell_type": "code",
   "execution_count": 30,
   "metadata": {},
   "outputs": [
    {
     "ename": "KeyError",
     "evalue": "'마케팅 수신 동의 여부'",
     "output_type": "error",
     "traceback": [
      "\u001b[1;31m---------------------------------------------------------------------------\u001b[0m",
      "\u001b[1;31mKeyError\u001b[0m                                  Traceback (most recent call last)",
      "\u001b[1;32m~\\Anaconda3\\lib\\site-packages\\pandas\\core\\indexes\\base.py\u001b[0m in \u001b[0;36mget_loc\u001b[1;34m(self, key, method, tolerance)\u001b[0m\n\u001b[0;32m   2896\u001b[0m             \u001b[1;32mtry\u001b[0m\u001b[1;33m:\u001b[0m\u001b[1;33m\u001b[0m\u001b[1;33m\u001b[0m\u001b[0m\n\u001b[1;32m-> 2897\u001b[1;33m                 \u001b[1;32mreturn\u001b[0m \u001b[0mself\u001b[0m\u001b[1;33m.\u001b[0m\u001b[0m_engine\u001b[0m\u001b[1;33m.\u001b[0m\u001b[0mget_loc\u001b[0m\u001b[1;33m(\u001b[0m\u001b[0mkey\u001b[0m\u001b[1;33m)\u001b[0m\u001b[1;33m\u001b[0m\u001b[1;33m\u001b[0m\u001b[0m\n\u001b[0m\u001b[0;32m   2898\u001b[0m             \u001b[1;32mexcept\u001b[0m \u001b[0mKeyError\u001b[0m\u001b[1;33m:\u001b[0m\u001b[1;33m\u001b[0m\u001b[1;33m\u001b[0m\u001b[0m\n",
      "\u001b[1;32mpandas\\_libs\\index.pyx\u001b[0m in \u001b[0;36mpandas._libs.index.IndexEngine.get_loc\u001b[1;34m()\u001b[0m\n",
      "\u001b[1;32mpandas\\_libs\\index.pyx\u001b[0m in \u001b[0;36mpandas._libs.index.IndexEngine.get_loc\u001b[1;34m()\u001b[0m\n",
      "\u001b[1;32mpandas\\_libs\\hashtable_class_helper.pxi\u001b[0m in \u001b[0;36mpandas._libs.hashtable.PyObjectHashTable.get_item\u001b[1;34m()\u001b[0m\n",
      "\u001b[1;32mpandas\\_libs\\hashtable_class_helper.pxi\u001b[0m in \u001b[0;36mpandas._libs.hashtable.PyObjectHashTable.get_item\u001b[1;34m()\u001b[0m\n",
      "\u001b[1;31mKeyError\u001b[0m: '마케팅 수신 동의 여부'",
      "\nDuring handling of the above exception, another exception occurred:\n",
      "\u001b[1;31mKeyError\u001b[0m                                  Traceback (most recent call last)",
      "\u001b[1;32m<ipython-input-30-3213144125d3>\u001b[0m in \u001b[0;36m<module>\u001b[1;34m\u001b[0m\n\u001b[0;32m      1\u001b[0m \u001b[1;32mdel\u001b[0m \u001b[0mkj\u001b[0m\u001b[1;33m[\u001b[0m\u001b[1;34m'상담이력'\u001b[0m\u001b[1;33m]\u001b[0m\u001b[1;33m\u001b[0m\u001b[1;33m\u001b[0m\u001b[0m\n\u001b[1;32m----> 2\u001b[1;33m \u001b[1;32mdel\u001b[0m \u001b[0mkj\u001b[0m\u001b[1;33m[\u001b[0m\u001b[1;34m'마케팅 수신 동의 여부'\u001b[0m\u001b[1;33m]\u001b[0m\u001b[1;33m\u001b[0m\u001b[1;33m\u001b[0m\u001b[0m\n\u001b[0m",
      "\u001b[1;32m~\\Anaconda3\\lib\\site-packages\\pandas\\core\\generic.py\u001b[0m in \u001b[0;36m__delitem__\u001b[1;34m(self, key)\u001b[0m\n\u001b[0;32m   3514\u001b[0m             \u001b[1;31m# there was no match, this call should raise the appropriate\u001b[0m\u001b[1;33m\u001b[0m\u001b[1;33m\u001b[0m\u001b[1;33m\u001b[0m\u001b[0m\n\u001b[0;32m   3515\u001b[0m             \u001b[1;31m# exception:\u001b[0m\u001b[1;33m\u001b[0m\u001b[1;33m\u001b[0m\u001b[1;33m\u001b[0m\u001b[0m\n\u001b[1;32m-> 3516\u001b[1;33m             \u001b[0mself\u001b[0m\u001b[1;33m.\u001b[0m\u001b[0m_data\u001b[0m\u001b[1;33m.\u001b[0m\u001b[0mdelete\u001b[0m\u001b[1;33m(\u001b[0m\u001b[0mkey\u001b[0m\u001b[1;33m)\u001b[0m\u001b[1;33m\u001b[0m\u001b[1;33m\u001b[0m\u001b[0m\n\u001b[0m\u001b[0;32m   3517\u001b[0m \u001b[1;33m\u001b[0m\u001b[0m\n\u001b[0;32m   3518\u001b[0m         \u001b[1;31m# delete from the caches\u001b[0m\u001b[1;33m\u001b[0m\u001b[1;33m\u001b[0m\u001b[1;33m\u001b[0m\u001b[0m\n",
      "\u001b[1;32m~\\Anaconda3\\lib\\site-packages\\pandas\\core\\internals\\managers.py\u001b[0m in \u001b[0;36mdelete\u001b[1;34m(self, item)\u001b[0m\n\u001b[0;32m    994\u001b[0m         \u001b[0mDelete\u001b[0m \u001b[0mselected\u001b[0m \u001b[0mitem\u001b[0m \u001b[1;33m(\u001b[0m\u001b[0mitems\u001b[0m \u001b[1;32mif\u001b[0m \u001b[0mnon\u001b[0m\u001b[1;33m-\u001b[0m\u001b[0munique\u001b[0m\u001b[1;33m)\u001b[0m \u001b[1;32min\u001b[0m\u001b[1;33m-\u001b[0m\u001b[0mplace\u001b[0m\u001b[1;33m.\u001b[0m\u001b[1;33m\u001b[0m\u001b[1;33m\u001b[0m\u001b[0m\n\u001b[0;32m    995\u001b[0m         \"\"\"\n\u001b[1;32m--> 996\u001b[1;33m         \u001b[0mindexer\u001b[0m \u001b[1;33m=\u001b[0m \u001b[0mself\u001b[0m\u001b[1;33m.\u001b[0m\u001b[0mitems\u001b[0m\u001b[1;33m.\u001b[0m\u001b[0mget_loc\u001b[0m\u001b[1;33m(\u001b[0m\u001b[0mitem\u001b[0m\u001b[1;33m)\u001b[0m\u001b[1;33m\u001b[0m\u001b[1;33m\u001b[0m\u001b[0m\n\u001b[0m\u001b[0;32m    997\u001b[0m \u001b[1;33m\u001b[0m\u001b[0m\n\u001b[0;32m    998\u001b[0m         \u001b[0mis_deleted\u001b[0m \u001b[1;33m=\u001b[0m \u001b[0mnp\u001b[0m\u001b[1;33m.\u001b[0m\u001b[0mzeros\u001b[0m\u001b[1;33m(\u001b[0m\u001b[0mself\u001b[0m\u001b[1;33m.\u001b[0m\u001b[0mshape\u001b[0m\u001b[1;33m[\u001b[0m\u001b[1;36m0\u001b[0m\u001b[1;33m]\u001b[0m\u001b[1;33m,\u001b[0m \u001b[0mdtype\u001b[0m\u001b[1;33m=\u001b[0m\u001b[0mnp\u001b[0m\u001b[1;33m.\u001b[0m\u001b[0mbool_\u001b[0m\u001b[1;33m)\u001b[0m\u001b[1;33m\u001b[0m\u001b[1;33m\u001b[0m\u001b[0m\n",
      "\u001b[1;32m~\\Anaconda3\\lib\\site-packages\\pandas\\core\\indexes\\base.py\u001b[0m in \u001b[0;36mget_loc\u001b[1;34m(self, key, method, tolerance)\u001b[0m\n\u001b[0;32m   2897\u001b[0m                 \u001b[1;32mreturn\u001b[0m \u001b[0mself\u001b[0m\u001b[1;33m.\u001b[0m\u001b[0m_engine\u001b[0m\u001b[1;33m.\u001b[0m\u001b[0mget_loc\u001b[0m\u001b[1;33m(\u001b[0m\u001b[0mkey\u001b[0m\u001b[1;33m)\u001b[0m\u001b[1;33m\u001b[0m\u001b[1;33m\u001b[0m\u001b[0m\n\u001b[0;32m   2898\u001b[0m             \u001b[1;32mexcept\u001b[0m \u001b[0mKeyError\u001b[0m\u001b[1;33m:\u001b[0m\u001b[1;33m\u001b[0m\u001b[1;33m\u001b[0m\u001b[0m\n\u001b[1;32m-> 2899\u001b[1;33m                 \u001b[1;32mreturn\u001b[0m \u001b[0mself\u001b[0m\u001b[1;33m.\u001b[0m\u001b[0m_engine\u001b[0m\u001b[1;33m.\u001b[0m\u001b[0mget_loc\u001b[0m\u001b[1;33m(\u001b[0m\u001b[0mself\u001b[0m\u001b[1;33m.\u001b[0m\u001b[0m_maybe_cast_indexer\u001b[0m\u001b[1;33m(\u001b[0m\u001b[0mkey\u001b[0m\u001b[1;33m)\u001b[0m\u001b[1;33m)\u001b[0m\u001b[1;33m\u001b[0m\u001b[1;33m\u001b[0m\u001b[0m\n\u001b[0m\u001b[0;32m   2900\u001b[0m         \u001b[0mindexer\u001b[0m \u001b[1;33m=\u001b[0m \u001b[0mself\u001b[0m\u001b[1;33m.\u001b[0m\u001b[0mget_indexer\u001b[0m\u001b[1;33m(\u001b[0m\u001b[1;33m[\u001b[0m\u001b[0mkey\u001b[0m\u001b[1;33m]\u001b[0m\u001b[1;33m,\u001b[0m \u001b[0mmethod\u001b[0m\u001b[1;33m=\u001b[0m\u001b[0mmethod\u001b[0m\u001b[1;33m,\u001b[0m \u001b[0mtolerance\u001b[0m\u001b[1;33m=\u001b[0m\u001b[0mtolerance\u001b[0m\u001b[1;33m)\u001b[0m\u001b[1;33m\u001b[0m\u001b[1;33m\u001b[0m\u001b[0m\n\u001b[0;32m   2901\u001b[0m         \u001b[1;32mif\u001b[0m \u001b[0mindexer\u001b[0m\u001b[1;33m.\u001b[0m\u001b[0mndim\u001b[0m \u001b[1;33m>\u001b[0m \u001b[1;36m1\u001b[0m \u001b[1;32mor\u001b[0m \u001b[0mindexer\u001b[0m\u001b[1;33m.\u001b[0m\u001b[0msize\u001b[0m \u001b[1;33m>\u001b[0m \u001b[1;36m1\u001b[0m\u001b[1;33m:\u001b[0m\u001b[1;33m\u001b[0m\u001b[1;33m\u001b[0m\u001b[0m\n",
      "\u001b[1;32mpandas\\_libs\\index.pyx\u001b[0m in \u001b[0;36mpandas._libs.index.IndexEngine.get_loc\u001b[1;34m()\u001b[0m\n",
      "\u001b[1;32mpandas\\_libs\\index.pyx\u001b[0m in \u001b[0;36mpandas._libs.index.IndexEngine.get_loc\u001b[1;34m()\u001b[0m\n",
      "\u001b[1;32mpandas\\_libs\\hashtable_class_helper.pxi\u001b[0m in \u001b[0;36mpandas._libs.hashtable.PyObjectHashTable.get_item\u001b[1;34m()\u001b[0m\n",
      "\u001b[1;32mpandas\\_libs\\hashtable_class_helper.pxi\u001b[0m in \u001b[0;36mpandas._libs.hashtable.PyObjectHashTable.get_item\u001b[1;34m()\u001b[0m\n",
      "\u001b[1;31mKeyError\u001b[0m: '마케팅 수신 동의 여부'"
     ]
    }
   ],
   "source": [
    "del kj['상담이력']\n",
    "del kj['마케팅 수신 동의 여부']"
   ]
  },
  {
   "cell_type": "code",
   "execution_count": 31,
   "metadata": {},
   "outputs": [
    {
     "data": {
      "text/plain": [
       "(48761, 19)"
      ]
     },
     "execution_count": 31,
     "metadata": {},
     "output_type": "execute_result"
    }
   ],
   "source": [
    "kj.shape"
   ]
  },
  {
   "cell_type": "code",
   "execution_count": 32,
   "metadata": {},
   "outputs": [
    {
     "data": {
      "text/plain": [
       "Index(['견적일', '유입경로', '주/상', '시공유형', '주소', '평수', '공사예산(고객예산)', '공사예산(CS확인예산)',\n",
       "       'DB 유형', 'DB 등급', '공사예정일', '시공범위', '진행상태', '종료여부', '견적번호', '요청',\n",
       "       '인입채널(UTM)', '마켓팅 수신 동의 여부', '계약번호'],\n",
       "      dtype='object')"
      ]
     },
     "execution_count": 32,
     "metadata": {},
     "output_type": "execute_result"
    }
   ],
   "source": [
    "kj.columns"
   ]
  },
  {
   "cell_type": "code",
   "execution_count": 33,
   "metadata": {},
   "outputs": [],
   "source": [
    "del kj['마켓팅 수신 동의 여부']"
   ]
  },
  {
   "cell_type": "code",
   "execution_count": 34,
   "metadata": {},
   "outputs": [
    {
     "data": {
      "text/plain": [
       "(48761, 18)"
      ]
     },
     "execution_count": 34,
     "metadata": {},
     "output_type": "execute_result"
    }
   ],
   "source": [
    "kj.shape"
   ]
  },
  {
   "cell_type": "code",
   "execution_count": 35,
   "metadata": {},
   "outputs": [
    {
     "data": {
      "text/plain": [
       "Index(['견적일', '유입경로', '주/상', '시공유형', '주소', '평수', '공사예산(고객예산)', '공사예산(CS확인예산)',\n",
       "       'DB 유형', 'DB 등급', '공사예정일', '시공범위', '진행상태', '종료여부', '견적번호', '요청',\n",
       "       '인입채널(UTM)', '계약번호'],\n",
       "      dtype='object')"
      ]
     },
     "execution_count": 35,
     "metadata": {},
     "output_type": "execute_result"
    }
   ],
   "source": [
    "kj.columns"
   ]
  },
  {
   "cell_type": "code",
   "execution_count": 36,
   "metadata": {},
   "outputs": [],
   "source": [
    "del kj['DB 등급']"
   ]
  },
  {
   "cell_type": "code",
   "execution_count": 37,
   "metadata": {},
   "outputs": [
    {
     "data": {
      "text/plain": [
       "(48761, 17)"
      ]
     },
     "execution_count": 37,
     "metadata": {},
     "output_type": "execute_result"
    }
   ],
   "source": [
    "kj.shape"
   ]
  },
  {
   "cell_type": "code",
   "execution_count": 38,
   "metadata": {},
   "outputs": [],
   "source": [
    "del kj['공사예정일']"
   ]
  },
  {
   "cell_type": "code",
   "execution_count": 39,
   "metadata": {},
   "outputs": [
    {
     "data": {
      "text/plain": [
       "견적일             48761\n",
       "유입경로            48751\n",
       "주/상             48700\n",
       "시공유형            41484\n",
       "주소              41718\n",
       "평수              33875\n",
       "공사예산(고객예산)      15496\n",
       "공사예산(CS확인예산)    27882\n",
       "DB 유형           27826\n",
       "시공범위            25468\n",
       "진행상태            48761\n",
       "종료여부            48761\n",
       "견적번호            48761\n",
       "요청              29622\n",
       "인입채널(UTM)       10637\n",
       "계약번호             4265\n",
       "dtype: int64"
      ]
     },
     "execution_count": 39,
     "metadata": {},
     "output_type": "execute_result"
    }
   ],
   "source": [
    "kj.count()"
   ]
  },
  {
   "cell_type": "code",
   "execution_count": 43,
   "metadata": {},
   "outputs": [
    {
     "data": {
      "text/plain": [
       "(27578, 16)"
      ]
     },
     "execution_count": 43,
     "metadata": {},
     "output_type": "execute_result"
    }
   ],
   "source": [
    "kj2.shape"
   ]
  },
  {
   "cell_type": "code",
   "execution_count": 44,
   "metadata": {},
   "outputs": [
    {
     "data": {
      "text/plain": [
       "(14177, 16)"
      ]
     },
     "execution_count": 44,
     "metadata": {},
     "output_type": "execute_result"
    }
   ],
   "source": [
    "kj2 = kj[kj['시공범위'] == '전체']\n",
    "kj2.head()\n",
    "kj2.shape"
   ]
  },
  {
   "cell_type": "code",
   "execution_count": 45,
   "metadata": {},
   "outputs": [
    {
     "data": {
      "text/html": [
       "<div>\n",
       "<style scoped>\n",
       "    .dataframe tbody tr th:only-of-type {\n",
       "        vertical-align: middle;\n",
       "    }\n",
       "\n",
       "    .dataframe tbody tr th {\n",
       "        vertical-align: top;\n",
       "    }\n",
       "\n",
       "    .dataframe thead th {\n",
       "        text-align: right;\n",
       "    }\n",
       "</style>\n",
       "<table border=\"1\" class=\"dataframe\">\n",
       "  <thead>\n",
       "    <tr style=\"text-align: right;\">\n",
       "      <th></th>\n",
       "      <th>견적일</th>\n",
       "      <th>유입경로</th>\n",
       "      <th>주/상</th>\n",
       "      <th>시공유형</th>\n",
       "      <th>주소</th>\n",
       "      <th>평수</th>\n",
       "      <th>공사예산(고객예산)</th>\n",
       "      <th>공사예산(CS확인예산)</th>\n",
       "      <th>DB 유형</th>\n",
       "      <th>시공범위</th>\n",
       "      <th>진행상태</th>\n",
       "      <th>종료여부</th>\n",
       "      <th>견적번호</th>\n",
       "      <th>요청</th>\n",
       "      <th>인입채널(UTM)</th>\n",
       "      <th>계약번호</th>\n",
       "    </tr>\n",
       "  </thead>\n",
       "  <tbody>\n",
       "    <tr>\n",
       "      <td>2</td>\n",
       "      <td>2019-07-31 21:56:35</td>\n",
       "      <td>웹-모바일웹상세</td>\n",
       "      <td>주거</td>\n",
       "      <td>아파트</td>\n",
       "      <td>경남 창원시 성산구 반림동 8 럭키반림아파트 10동 804호</td>\n",
       "      <td>31</td>\n",
       "      <td>NaN</td>\n",
       "      <td>4000 ~ 5000 만원</td>\n",
       "      <td>주거-고급</td>\n",
       "      <td>전체</td>\n",
       "      <td>방문상담</td>\n",
       "      <td>진행중</td>\n",
       "      <td>200037</td>\n",
       "      <td>방이 4개가 필요합니다\\r\\n안방을 아들 둘이 지낼수있도록 해서\\r\\n부부 각 방 ...</td>\n",
       "      <td>네이버검색광고_Mobile</td>\n",
       "      <td>NaN</td>\n",
       "    </tr>\n",
       "    <tr>\n",
       "      <td>6</td>\n",
       "      <td>2019-07-31 20:31:32</td>\n",
       "      <td>앱-아이폰간편</td>\n",
       "      <td>주거</td>\n",
       "      <td>아파트</td>\n",
       "      <td>서울 강동구 명일동 54 한양아파트 1동6층</td>\n",
       "      <td>42</td>\n",
       "      <td>NaN</td>\n",
       "      <td>4000 ~ 5000 만원</td>\n",
       "      <td>주거-고급</td>\n",
       "      <td>전체</td>\n",
       "      <td>방문상담</td>\n",
       "      <td>진행중</td>\n",
       "      <td>200030</td>\n",
       "      <td>배관공사 포함 샷시 \\r\\n모두 올수리입니다</td>\n",
       "      <td>NaN</td>\n",
       "      <td>NaN</td>\n",
       "    </tr>\n",
       "    <tr>\n",
       "      <td>14</td>\n",
       "      <td>2019-07-31 17:39:04</td>\n",
       "      <td>웹-PC웹상세</td>\n",
       "      <td>주거</td>\n",
       "      <td>주택</td>\n",
       "      <td>제주 제주시 애월읍 장전리 1123-5 단독</td>\n",
       "      <td>38</td>\n",
       "      <td>NaN</td>\n",
       "      <td>2000 ~ 2500 만원</td>\n",
       "      <td>주거-기본</td>\n",
       "      <td>전체</td>\n",
       "      <td>방문상담</td>\n",
       "      <td>진행중</td>\n",
       "      <td>200014</td>\n",
       "      <td>현재 살고 있는분이 38평형정도된다고 햇구요   9월2일 공사예정\\r\\n \\r\\n1...</td>\n",
       "      <td>크리테오_PC</td>\n",
       "      <td>NaN</td>\n",
       "    </tr>\n",
       "    <tr>\n",
       "      <td>17</td>\n",
       "      <td>2019-07-31 17:13:25</td>\n",
       "      <td>외부-기타</td>\n",
       "      <td>주거</td>\n",
       "      <td>주택</td>\n",
       "      <td>서울 강북구 수유동 482-41 482-41, 482-42</td>\n",
       "      <td>50</td>\n",
       "      <td>NaN</td>\n",
       "      <td>10000 만원 이상</td>\n",
       "      <td>주거-고급</td>\n",
       "      <td>전체</td>\n",
       "      <td>계약완료</td>\n",
       "      <td>진행중</td>\n",
       "      <td>200007</td>\n",
       "      <td>NaN</td>\n",
       "      <td>NaN</td>\n",
       "      <td>9887.0</td>\n",
       "    </tr>\n",
       "    <tr>\n",
       "      <td>18</td>\n",
       "      <td>2019-07-31 16:53:36</td>\n",
       "      <td>콜-검색</td>\n",
       "      <td>주거</td>\n",
       "      <td>빌라</td>\n",
       "      <td>충남 천안시 동남구 광덕면 대평리 35-1 다우빌라 a동 2층</td>\n",
       "      <td>22</td>\n",
       "      <td>NaN</td>\n",
       "      <td>1500 ~ 2000 만원</td>\n",
       "      <td>주거-기본</td>\n",
       "      <td>전체</td>\n",
       "      <td>방문상담</td>\n",
       "      <td>진행중</td>\n",
       "      <td>200005</td>\n",
       "      <td>NaN</td>\n",
       "      <td>NaN</td>\n",
       "      <td>NaN</td>\n",
       "    </tr>\n",
       "    <tr>\n",
       "      <td>20</td>\n",
       "      <td>2019-07-31 16:48:09</td>\n",
       "      <td>외부-촬영</td>\n",
       "      <td>주거</td>\n",
       "      <td>빌라</td>\n",
       "      <td>서울 성북구 장위동 219-353 402호</td>\n",
       "      <td>NaN</td>\n",
       "      <td>NaN</td>\n",
       "      <td>NaN</td>\n",
       "      <td>NaN</td>\n",
       "      <td>전체</td>\n",
       "      <td>계약완료</td>\n",
       "      <td>진행중</td>\n",
       "      <td>200001</td>\n",
       "      <td>NaN</td>\n",
       "      <td>NaN</td>\n",
       "      <td>9886.0</td>\n",
       "    </tr>\n",
       "    <tr>\n",
       "      <td>25</td>\n",
       "      <td>2019-07-31 16:26:29</td>\n",
       "      <td>앱-안드로이드</td>\n",
       "      <td>주거</td>\n",
       "      <td>아파트</td>\n",
       "      <td>서울 강서구 가양동 1461 가양2단지아파트 202동 803호</td>\n",
       "      <td>24</td>\n",
       "      <td>NaN</td>\n",
       "      <td>1380 만원 이상</td>\n",
       "      <td>주거-기본</td>\n",
       "      <td>전체</td>\n",
       "      <td>계약완료</td>\n",
       "      <td>진행중</td>\n",
       "      <td>199988</td>\n",
       "      <td>NaN</td>\n",
       "      <td>NaN</td>\n",
       "      <td>9884.0</td>\n",
       "    </tr>\n",
       "    <tr>\n",
       "      <td>32</td>\n",
       "      <td>2019-07-31 15:30:32</td>\n",
       "      <td>웹-PC웹간편</td>\n",
       "      <td>주거</td>\n",
       "      <td>아파트</td>\n",
       "      <td>서울 성북구 돈암동 644 (아리랑로 75) 돈암코오롱하늘채 103동 606호</td>\n",
       "      <td>34</td>\n",
       "      <td>NaN</td>\n",
       "      <td>3000 ~ 4000 만원</td>\n",
       "      <td>주거-고급</td>\n",
       "      <td>전체</td>\n",
       "      <td>방문상담</td>\n",
       "      <td>진행중</td>\n",
       "      <td>199970</td>\n",
       "      <td>- 상담희망시간 : 무관\\r\\n- 현장위치 : 서울특별시 성북구 아리랑로 75 돈암...</td>\n",
       "      <td>NaN</td>\n",
       "      <td>NaN</td>\n",
       "    </tr>\n",
       "    <tr>\n",
       "      <td>48</td>\n",
       "      <td>2019-07-31 14:31:44</td>\n",
       "      <td>외부-믹스앤픽스</td>\n",
       "      <td>주거</td>\n",
       "      <td>아파트</td>\n",
       "      <td>서울 강동구 암사동 509 선사현대아파트 115동 16층</td>\n",
       "      <td>34</td>\n",
       "      <td>NaN</td>\n",
       "      <td>4000 ~ 4000 만원</td>\n",
       "      <td>주거-고급</td>\n",
       "      <td>전체</td>\n",
       "      <td>방문상담</td>\n",
       "      <td>진행중</td>\n",
       "      <td>199937</td>\n",
       "      <td>NaN</td>\n",
       "      <td>NaN</td>\n",
       "      <td>NaN</td>\n",
       "    </tr>\n",
       "    <tr>\n",
       "      <td>55</td>\n",
       "      <td>2019-07-31 14:30:13</td>\n",
       "      <td>외부-98%</td>\n",
       "      <td>주거</td>\n",
       "      <td>아파트</td>\n",
       "      <td>대전 유성구 지족동 977 반석마을1단지호반리젠시빌 110동</td>\n",
       "      <td>29</td>\n",
       "      <td>NaN</td>\n",
       "      <td>2500 ~ 3000 만원</td>\n",
       "      <td>주거-기본</td>\n",
       "      <td>전체</td>\n",
       "      <td>방문상담</td>\n",
       "      <td>진행중</td>\n",
       "      <td>199928</td>\n",
       "      <td>NaN</td>\n",
       "      <td>NaN</td>\n",
       "      <td>NaN</td>\n",
       "    </tr>\n",
       "  </tbody>\n",
       "</table>\n",
       "</div>"
      ],
      "text/plain": [
       "                    견적일      유입경로 주/상 시공유형  \\\n",
       "2   2019-07-31 21:56:35  웹-모바일웹상세  주거  아파트   \n",
       "6   2019-07-31 20:31:32   앱-아이폰간편  주거  아파트   \n",
       "14  2019-07-31 17:39:04   웹-PC웹상세  주거   주택   \n",
       "17  2019-07-31 17:13:25     외부-기타  주거   주택   \n",
       "18  2019-07-31 16:53:36      콜-검색  주거   빌라   \n",
       "20  2019-07-31 16:48:09     외부-촬영  주거   빌라   \n",
       "25  2019-07-31 16:26:29   앱-안드로이드  주거  아파트   \n",
       "32  2019-07-31 15:30:32   웹-PC웹간편  주거  아파트   \n",
       "48  2019-07-31 14:31:44  외부-믹스앤픽스  주거  아파트   \n",
       "55  2019-07-31 14:30:13    외부-98%  주거  아파트   \n",
       "\n",
       "                                             주소   평수 공사예산(고객예산)  \\\n",
       "2            경남 창원시 성산구 반림동 8 럭키반림아파트 10동 804호    31        NaN   \n",
       "6                      서울 강동구 명일동 54 한양아파트 1동6층   42        NaN   \n",
       "14                    제주 제주시 애월읍 장전리 1123-5 단독    38        NaN   \n",
       "17             서울 강북구 수유동 482-41 482-41, 482-42   50        NaN   \n",
       "18           충남 천안시 동남구 광덕면 대평리 35-1 다우빌라 a동 2층   22        NaN   \n",
       "20                      서울 성북구 장위동 219-353 402호  NaN        NaN   \n",
       "25           서울 강서구 가양동 1461 가양2단지아파트 202동 803호   24        NaN   \n",
       "32  서울 성북구 돈암동 644 (아리랑로 75) 돈암코오롱하늘채 103동 606호   34        NaN   \n",
       "48             서울 강동구 암사동 509 선사현대아파트 115동 16층    34        NaN   \n",
       "55            대전 유성구 지족동 977 반석마을1단지호반리젠시빌 110동   29        NaN   \n",
       "\n",
       "      공사예산(CS확인예산)  DB 유형 시공범위  진행상태 종료여부    견적번호  \\\n",
       "2   4000 ~ 5000 만원  주거-고급   전체  방문상담  진행중  200037   \n",
       "6   4000 ~ 5000 만원  주거-고급   전체  방문상담  진행중  200030   \n",
       "14  2000 ~ 2500 만원  주거-기본   전체  방문상담  진행중  200014   \n",
       "17     10000 만원 이상  주거-고급   전체  계약완료  진행중  200007   \n",
       "18  1500 ~ 2000 만원  주거-기본   전체  방문상담  진행중  200005   \n",
       "20             NaN    NaN   전체  계약완료  진행중  200001   \n",
       "25      1380 만원 이상  주거-기본   전체  계약완료  진행중  199988   \n",
       "32  3000 ~ 4000 만원  주거-고급   전체  방문상담  진행중  199970   \n",
       "48  4000 ~ 4000 만원  주거-고급   전체  방문상담  진행중  199937   \n",
       "55  2500 ~ 3000 만원  주거-기본   전체  방문상담  진행중  199928   \n",
       "\n",
       "                                                   요청       인입채널(UTM)    계약번호  \n",
       "2   방이 4개가 필요합니다\\r\\n안방을 아들 둘이 지낼수있도록 해서\\r\\n부부 각 방 ...  네이버검색광고_Mobile     NaN  \n",
       "6                            배관공사 포함 샷시 \\r\\n모두 올수리입니다             NaN     NaN  \n",
       "14  현재 살고 있는분이 38평형정도된다고 햇구요   9월2일 공사예정\\r\\n \\r\\n1...         크리테오_PC     NaN  \n",
       "17                                                NaN             NaN  9887.0  \n",
       "18                                                NaN             NaN     NaN  \n",
       "20                                                NaN             NaN  9886.0  \n",
       "25                                                NaN             NaN  9884.0  \n",
       "32  - 상담희망시간 : 무관\\r\\n- 현장위치 : 서울특별시 성북구 아리랑로 75 돈암...             NaN     NaN  \n",
       "48                                                NaN             NaN     NaN  \n",
       "55                                                NaN             NaN     NaN  "
      ]
     },
     "execution_count": 45,
     "metadata": {},
     "output_type": "execute_result"
    }
   ],
   "source": [
    "kj2.head(10)"
   ]
  },
  {
   "cell_type": "code",
   "execution_count": 46,
   "metadata": {},
   "outputs": [
    {
     "data": {
      "text/plain": [
       "견적일             14177\n",
       "유입경로            14173\n",
       "주/상             14177\n",
       "시공유형            14157\n",
       "주소              13963\n",
       "평수              14008\n",
       "공사예산(고객예산)       4849\n",
       "공사예산(CS확인예산)    13679\n",
       "DB 유형           13648\n",
       "시공범위            14177\n",
       "진행상태            14177\n",
       "종료여부            14177\n",
       "견적번호            14177\n",
       "요청              10045\n",
       "인입채널(UTM)        2261\n",
       "계약번호             2523\n",
       "dtype: int64"
      ]
     },
     "execution_count": 46,
     "metadata": {},
     "output_type": "execute_result"
    }
   ],
   "source": [
    "kj2.count()"
   ]
  },
  {
   "cell_type": "code",
   "execution_count": 49,
   "metadata": {},
   "outputs": [],
   "source": [
    "kj2.to_csv('../data/전처리완료/집닥_견적pp.csv', header=True, index=False)"
   ]
  },
  {
   "cell_type": "code",
   "execution_count": 50,
   "metadata": {},
   "outputs": [],
   "source": [
    "data = pd.read_csv('../data/전처리완료/집닥_견적pp.csv')"
   ]
  },
  {
   "cell_type": "code",
   "execution_count": 51,
   "metadata": {},
   "outputs": [
    {
     "data": {
      "text/html": [
       "<div>\n",
       "<style scoped>\n",
       "    .dataframe tbody tr th:only-of-type {\n",
       "        vertical-align: middle;\n",
       "    }\n",
       "\n",
       "    .dataframe tbody tr th {\n",
       "        vertical-align: top;\n",
       "    }\n",
       "\n",
       "    .dataframe thead th {\n",
       "        text-align: right;\n",
       "    }\n",
       "</style>\n",
       "<table border=\"1\" class=\"dataframe\">\n",
       "  <thead>\n",
       "    <tr style=\"text-align: right;\">\n",
       "      <th></th>\n",
       "      <th>견적일</th>\n",
       "      <th>유입경로</th>\n",
       "      <th>주/상</th>\n",
       "      <th>시공유형</th>\n",
       "      <th>주소</th>\n",
       "      <th>평수</th>\n",
       "      <th>공사예산(고객예산)</th>\n",
       "      <th>공사예산(CS확인예산)</th>\n",
       "      <th>DB 유형</th>\n",
       "      <th>시공범위</th>\n",
       "      <th>진행상태</th>\n",
       "      <th>종료여부</th>\n",
       "      <th>견적번호</th>\n",
       "      <th>요청</th>\n",
       "      <th>인입채널(UTM)</th>\n",
       "      <th>계약번호</th>\n",
       "    </tr>\n",
       "  </thead>\n",
       "  <tbody>\n",
       "    <tr>\n",
       "      <td>0</td>\n",
       "      <td>2019-07-31 21:56:35</td>\n",
       "      <td>웹-모바일웹상세</td>\n",
       "      <td>주거</td>\n",
       "      <td>아파트</td>\n",
       "      <td>경남 창원시 성산구 반림동 8 럭키반림아파트 10동 804호</td>\n",
       "      <td>31</td>\n",
       "      <td>NaN</td>\n",
       "      <td>4000 ~ 5000 만원</td>\n",
       "      <td>주거-고급</td>\n",
       "      <td>전체</td>\n",
       "      <td>방문상담</td>\n",
       "      <td>진행중</td>\n",
       "      <td>200037</td>\n",
       "      <td>방이 4개가 필요합니다\\r\\n안방을 아들 둘이 지낼수있도록 해서\\r\\n부부 각 방 ...</td>\n",
       "      <td>네이버검색광고_Mobile</td>\n",
       "      <td>NaN</td>\n",
       "    </tr>\n",
       "    <tr>\n",
       "      <td>1</td>\n",
       "      <td>2019-07-31 20:31:32</td>\n",
       "      <td>앱-아이폰간편</td>\n",
       "      <td>주거</td>\n",
       "      <td>아파트</td>\n",
       "      <td>서울 강동구 명일동 54 한양아파트 1동6층</td>\n",
       "      <td>42</td>\n",
       "      <td>NaN</td>\n",
       "      <td>4000 ~ 5000 만원</td>\n",
       "      <td>주거-고급</td>\n",
       "      <td>전체</td>\n",
       "      <td>방문상담</td>\n",
       "      <td>진행중</td>\n",
       "      <td>200030</td>\n",
       "      <td>배관공사 포함 샷시 \\r\\n모두 올수리입니다</td>\n",
       "      <td>NaN</td>\n",
       "      <td>NaN</td>\n",
       "    </tr>\n",
       "    <tr>\n",
       "      <td>2</td>\n",
       "      <td>2019-07-31 17:39:04</td>\n",
       "      <td>웹-PC웹상세</td>\n",
       "      <td>주거</td>\n",
       "      <td>주택</td>\n",
       "      <td>제주 제주시 애월읍 장전리 1123-5 단독</td>\n",
       "      <td>38</td>\n",
       "      <td>NaN</td>\n",
       "      <td>2000 ~ 2500 만원</td>\n",
       "      <td>주거-기본</td>\n",
       "      <td>전체</td>\n",
       "      <td>방문상담</td>\n",
       "      <td>진행중</td>\n",
       "      <td>200014</td>\n",
       "      <td>현재 살고 있는분이 38평형정도된다고 햇구요   9월2일 공사예정\\r\\n \\r\\n1...</td>\n",
       "      <td>크리테오_PC</td>\n",
       "      <td>NaN</td>\n",
       "    </tr>\n",
       "    <tr>\n",
       "      <td>3</td>\n",
       "      <td>2019-07-31 17:13:25</td>\n",
       "      <td>외부-기타</td>\n",
       "      <td>주거</td>\n",
       "      <td>주택</td>\n",
       "      <td>서울 강북구 수유동 482-41 482-41, 482-42</td>\n",
       "      <td>50</td>\n",
       "      <td>NaN</td>\n",
       "      <td>10000 만원 이상</td>\n",
       "      <td>주거-고급</td>\n",
       "      <td>전체</td>\n",
       "      <td>계약완료</td>\n",
       "      <td>진행중</td>\n",
       "      <td>200007</td>\n",
       "      <td>NaN</td>\n",
       "      <td>NaN</td>\n",
       "      <td>9887.0</td>\n",
       "    </tr>\n",
       "    <tr>\n",
       "      <td>4</td>\n",
       "      <td>2019-07-31 16:53:36</td>\n",
       "      <td>콜-검색</td>\n",
       "      <td>주거</td>\n",
       "      <td>빌라</td>\n",
       "      <td>충남 천안시 동남구 광덕면 대평리 35-1 다우빌라 a동 2층</td>\n",
       "      <td>22</td>\n",
       "      <td>NaN</td>\n",
       "      <td>1500 ~ 2000 만원</td>\n",
       "      <td>주거-기본</td>\n",
       "      <td>전체</td>\n",
       "      <td>방문상담</td>\n",
       "      <td>진행중</td>\n",
       "      <td>200005</td>\n",
       "      <td>NaN</td>\n",
       "      <td>NaN</td>\n",
       "      <td>NaN</td>\n",
       "    </tr>\n",
       "  </tbody>\n",
       "</table>\n",
       "</div>"
      ],
      "text/plain": [
       "                   견적일      유입경로 주/상 시공유형                                  주소  \\\n",
       "0  2019-07-31 21:56:35  웹-모바일웹상세  주거  아파트  경남 창원시 성산구 반림동 8 럭키반림아파트 10동 804호    \n",
       "1  2019-07-31 20:31:32   앱-아이폰간편  주거  아파트            서울 강동구 명일동 54 한양아파트 1동6층   \n",
       "2  2019-07-31 17:39:04   웹-PC웹상세  주거   주택           제주 제주시 애월읍 장전리 1123-5 단독    \n",
       "3  2019-07-31 17:13:25     외부-기타  주거   주택    서울 강북구 수유동 482-41 482-41, 482-42   \n",
       "4  2019-07-31 16:53:36      콜-검색  주거   빌라  충남 천안시 동남구 광덕면 대평리 35-1 다우빌라 a동 2층   \n",
       "\n",
       "   평수 공사예산(고객예산)    공사예산(CS확인예산)  DB 유형 시공범위  진행상태 종료여부    견적번호  \\\n",
       "0  31        NaN  4000 ~ 5000 만원  주거-고급   전체  방문상담  진행중  200037   \n",
       "1  42        NaN  4000 ~ 5000 만원  주거-고급   전체  방문상담  진행중  200030   \n",
       "2  38        NaN  2000 ~ 2500 만원  주거-기본   전체  방문상담  진행중  200014   \n",
       "3  50        NaN     10000 만원 이상  주거-고급   전체  계약완료  진행중  200007   \n",
       "4  22        NaN  1500 ~ 2000 만원  주거-기본   전체  방문상담  진행중  200005   \n",
       "\n",
       "                                                  요청       인입채널(UTM)    계약번호  \n",
       "0  방이 4개가 필요합니다\\r\\n안방을 아들 둘이 지낼수있도록 해서\\r\\n부부 각 방 ...  네이버검색광고_Mobile     NaN  \n",
       "1                           배관공사 포함 샷시 \\r\\n모두 올수리입니다             NaN     NaN  \n",
       "2  현재 살고 있는분이 38평형정도된다고 햇구요   9월2일 공사예정\\r\\n \\r\\n1...         크리테오_PC     NaN  \n",
       "3                                                NaN             NaN  9887.0  \n",
       "4                                                NaN             NaN     NaN  "
      ]
     },
     "execution_count": 51,
     "metadata": {},
     "output_type": "execute_result"
    }
   ],
   "source": [
    "data.head()"
   ]
  },
  {
   "cell_type": "code",
   "execution_count": 52,
   "metadata": {},
   "outputs": [
    {
     "name": "stdout",
     "output_type": "stream",
     "text": [
      "<class 'pandas.core.frame.DataFrame'>\n",
      "RangeIndex: 14177 entries, 0 to 14176\n",
      "Data columns (total 16 columns):\n",
      "견적일             14177 non-null object\n",
      "유입경로            14173 non-null object\n",
      "주/상             14177 non-null object\n",
      "시공유형            14157 non-null object\n",
      "주소              13963 non-null object\n",
      "평수              14008 non-null object\n",
      "공사예산(고객예산)      4849 non-null object\n",
      "공사예산(CS확인예산)    13679 non-null object\n",
      "DB 유형           13648 non-null object\n",
      "시공범위            14177 non-null object\n",
      "진행상태            14177 non-null object\n",
      "종료여부            14177 non-null object\n",
      "견적번호            14177 non-null int64\n",
      "요청              10045 non-null object\n",
      "인입채널(UTM)       2261 non-null object\n",
      "계약번호            2523 non-null float64\n",
      "dtypes: float64(1), int64(1), object(14)\n",
      "memory usage: 1.7+ MB\n"
     ]
    }
   ],
   "source": [
    "data.info()"
   ]
  },
  {
   "cell_type": "code",
   "execution_count": 53,
   "metadata": {},
   "outputs": [
    {
     "name": "stdout",
     "output_type": "stream",
     "text": [
      "견적일                 0\n",
      "유입경로                4\n",
      "주/상                 0\n",
      "시공유형               20\n",
      "주소                214\n",
      "평수                169\n",
      "공사예산(고객예산)       9328\n",
      "공사예산(CS확인예산)      498\n",
      "DB 유형             529\n",
      "시공범위                0\n",
      "진행상태                0\n",
      "종료여부                0\n",
      "견적번호                0\n",
      "요청               4132\n",
      "인입채널(UTM)       11916\n",
      "계약번호            11654\n",
      "dtype: int64\n"
     ]
    }
   ],
   "source": [
    "print(14177 - data.count())"
   ]
  },
  {
   "cell_type": "markdown",
   "metadata": {},
   "source": [
    "# 9평 이상 100평 이하가 아닌 값들null처리하기"
   ]
  },
  {
   "cell_type": "code",
   "execution_count": 54,
   "metadata": {},
   "outputs": [
    {
     "ename": "ValueError",
     "evalue": "could not convert string to float: '20-30'",
     "output_type": "error",
     "traceback": [
      "\u001b[1;31m---------------------------------------------------------------------------\u001b[0m",
      "\u001b[1;31mValueError\u001b[0m                                Traceback (most recent call last)",
      "\u001b[1;32m<ipython-input-54-b16d4774c795>\u001b[0m in \u001b[0;36m<module>\u001b[1;34m\u001b[0m\n\u001b[1;32m----> 1\u001b[1;33m \u001b[0mdata\u001b[0m\u001b[1;33m[\u001b[0m\u001b[1;34m'평수'\u001b[0m\u001b[1;33m]\u001b[0m \u001b[1;33m=\u001b[0m \u001b[0mdata\u001b[0m\u001b[1;33m[\u001b[0m\u001b[1;34m'평수'\u001b[0m\u001b[1;33m]\u001b[0m\u001b[1;33m.\u001b[0m\u001b[0mastype\u001b[0m\u001b[1;33m(\u001b[0m\u001b[0mfloat\u001b[0m\u001b[1;33m)\u001b[0m\u001b[1;33m\u001b[0m\u001b[1;33m\u001b[0m\u001b[0m\n\u001b[0m",
      "\u001b[1;32m~\\Anaconda3\\lib\\site-packages\\pandas\\core\\generic.py\u001b[0m in \u001b[0;36mastype\u001b[1;34m(self, dtype, copy, errors, **kwargs)\u001b[0m\n\u001b[0;32m   5880\u001b[0m             \u001b[1;31m# else, only a single dtype is given\u001b[0m\u001b[1;33m\u001b[0m\u001b[1;33m\u001b[0m\u001b[1;33m\u001b[0m\u001b[0m\n\u001b[0;32m   5881\u001b[0m             new_data = self._data.astype(\n\u001b[1;32m-> 5882\u001b[1;33m                 \u001b[0mdtype\u001b[0m\u001b[1;33m=\u001b[0m\u001b[0mdtype\u001b[0m\u001b[1;33m,\u001b[0m \u001b[0mcopy\u001b[0m\u001b[1;33m=\u001b[0m\u001b[0mcopy\u001b[0m\u001b[1;33m,\u001b[0m \u001b[0merrors\u001b[0m\u001b[1;33m=\u001b[0m\u001b[0merrors\u001b[0m\u001b[1;33m,\u001b[0m \u001b[1;33m**\u001b[0m\u001b[0mkwargs\u001b[0m\u001b[1;33m\u001b[0m\u001b[1;33m\u001b[0m\u001b[0m\n\u001b[0m\u001b[0;32m   5883\u001b[0m             )\n\u001b[0;32m   5884\u001b[0m             \u001b[1;32mreturn\u001b[0m \u001b[0mself\u001b[0m\u001b[1;33m.\u001b[0m\u001b[0m_constructor\u001b[0m\u001b[1;33m(\u001b[0m\u001b[0mnew_data\u001b[0m\u001b[1;33m)\u001b[0m\u001b[1;33m.\u001b[0m\u001b[0m__finalize__\u001b[0m\u001b[1;33m(\u001b[0m\u001b[0mself\u001b[0m\u001b[1;33m)\u001b[0m\u001b[1;33m\u001b[0m\u001b[1;33m\u001b[0m\u001b[0m\n",
      "\u001b[1;32m~\\Anaconda3\\lib\\site-packages\\pandas\\core\\internals\\managers.py\u001b[0m in \u001b[0;36mastype\u001b[1;34m(self, dtype, **kwargs)\u001b[0m\n\u001b[0;32m    579\u001b[0m \u001b[1;33m\u001b[0m\u001b[0m\n\u001b[0;32m    580\u001b[0m     \u001b[1;32mdef\u001b[0m \u001b[0mastype\u001b[0m\u001b[1;33m(\u001b[0m\u001b[0mself\u001b[0m\u001b[1;33m,\u001b[0m \u001b[0mdtype\u001b[0m\u001b[1;33m,\u001b[0m \u001b[1;33m**\u001b[0m\u001b[0mkwargs\u001b[0m\u001b[1;33m)\u001b[0m\u001b[1;33m:\u001b[0m\u001b[1;33m\u001b[0m\u001b[1;33m\u001b[0m\u001b[0m\n\u001b[1;32m--> 581\u001b[1;33m         \u001b[1;32mreturn\u001b[0m \u001b[0mself\u001b[0m\u001b[1;33m.\u001b[0m\u001b[0mapply\u001b[0m\u001b[1;33m(\u001b[0m\u001b[1;34m\"astype\"\u001b[0m\u001b[1;33m,\u001b[0m \u001b[0mdtype\u001b[0m\u001b[1;33m=\u001b[0m\u001b[0mdtype\u001b[0m\u001b[1;33m,\u001b[0m \u001b[1;33m**\u001b[0m\u001b[0mkwargs\u001b[0m\u001b[1;33m)\u001b[0m\u001b[1;33m\u001b[0m\u001b[1;33m\u001b[0m\u001b[0m\n\u001b[0m\u001b[0;32m    582\u001b[0m \u001b[1;33m\u001b[0m\u001b[0m\n\u001b[0;32m    583\u001b[0m     \u001b[1;32mdef\u001b[0m \u001b[0mconvert\u001b[0m\u001b[1;33m(\u001b[0m\u001b[0mself\u001b[0m\u001b[1;33m,\u001b[0m \u001b[1;33m**\u001b[0m\u001b[0mkwargs\u001b[0m\u001b[1;33m)\u001b[0m\u001b[1;33m:\u001b[0m\u001b[1;33m\u001b[0m\u001b[1;33m\u001b[0m\u001b[0m\n",
      "\u001b[1;32m~\\Anaconda3\\lib\\site-packages\\pandas\\core\\internals\\managers.py\u001b[0m in \u001b[0;36mapply\u001b[1;34m(self, f, axes, filter, do_integrity_check, consolidate, **kwargs)\u001b[0m\n\u001b[0;32m    436\u001b[0m                     \u001b[0mkwargs\u001b[0m\u001b[1;33m[\u001b[0m\u001b[0mk\u001b[0m\u001b[1;33m]\u001b[0m \u001b[1;33m=\u001b[0m \u001b[0mobj\u001b[0m\u001b[1;33m.\u001b[0m\u001b[0mreindex\u001b[0m\u001b[1;33m(\u001b[0m\u001b[0mb_items\u001b[0m\u001b[1;33m,\u001b[0m \u001b[0maxis\u001b[0m\u001b[1;33m=\u001b[0m\u001b[0maxis\u001b[0m\u001b[1;33m,\u001b[0m \u001b[0mcopy\u001b[0m\u001b[1;33m=\u001b[0m\u001b[0malign_copy\u001b[0m\u001b[1;33m)\u001b[0m\u001b[1;33m\u001b[0m\u001b[1;33m\u001b[0m\u001b[0m\n\u001b[0;32m    437\u001b[0m \u001b[1;33m\u001b[0m\u001b[0m\n\u001b[1;32m--> 438\u001b[1;33m             \u001b[0mapplied\u001b[0m \u001b[1;33m=\u001b[0m \u001b[0mgetattr\u001b[0m\u001b[1;33m(\u001b[0m\u001b[0mb\u001b[0m\u001b[1;33m,\u001b[0m \u001b[0mf\u001b[0m\u001b[1;33m)\u001b[0m\u001b[1;33m(\u001b[0m\u001b[1;33m**\u001b[0m\u001b[0mkwargs\u001b[0m\u001b[1;33m)\u001b[0m\u001b[1;33m\u001b[0m\u001b[1;33m\u001b[0m\u001b[0m\n\u001b[0m\u001b[0;32m    439\u001b[0m             \u001b[0mresult_blocks\u001b[0m \u001b[1;33m=\u001b[0m \u001b[0m_extend_blocks\u001b[0m\u001b[1;33m(\u001b[0m\u001b[0mapplied\u001b[0m\u001b[1;33m,\u001b[0m \u001b[0mresult_blocks\u001b[0m\u001b[1;33m)\u001b[0m\u001b[1;33m\u001b[0m\u001b[1;33m\u001b[0m\u001b[0m\n\u001b[0;32m    440\u001b[0m \u001b[1;33m\u001b[0m\u001b[0m\n",
      "\u001b[1;32m~\\Anaconda3\\lib\\site-packages\\pandas\\core\\internals\\blocks.py\u001b[0m in \u001b[0;36mastype\u001b[1;34m(self, dtype, copy, errors, values, **kwargs)\u001b[0m\n\u001b[0;32m    557\u001b[0m \u001b[1;33m\u001b[0m\u001b[0m\n\u001b[0;32m    558\u001b[0m     \u001b[1;32mdef\u001b[0m \u001b[0mastype\u001b[0m\u001b[1;33m(\u001b[0m\u001b[0mself\u001b[0m\u001b[1;33m,\u001b[0m \u001b[0mdtype\u001b[0m\u001b[1;33m,\u001b[0m \u001b[0mcopy\u001b[0m\u001b[1;33m=\u001b[0m\u001b[1;32mFalse\u001b[0m\u001b[1;33m,\u001b[0m \u001b[0merrors\u001b[0m\u001b[1;33m=\u001b[0m\u001b[1;34m\"raise\"\u001b[0m\u001b[1;33m,\u001b[0m \u001b[0mvalues\u001b[0m\u001b[1;33m=\u001b[0m\u001b[1;32mNone\u001b[0m\u001b[1;33m,\u001b[0m \u001b[1;33m**\u001b[0m\u001b[0mkwargs\u001b[0m\u001b[1;33m)\u001b[0m\u001b[1;33m:\u001b[0m\u001b[1;33m\u001b[0m\u001b[1;33m\u001b[0m\u001b[0m\n\u001b[1;32m--> 559\u001b[1;33m         \u001b[1;32mreturn\u001b[0m \u001b[0mself\u001b[0m\u001b[1;33m.\u001b[0m\u001b[0m_astype\u001b[0m\u001b[1;33m(\u001b[0m\u001b[0mdtype\u001b[0m\u001b[1;33m,\u001b[0m \u001b[0mcopy\u001b[0m\u001b[1;33m=\u001b[0m\u001b[0mcopy\u001b[0m\u001b[1;33m,\u001b[0m \u001b[0merrors\u001b[0m\u001b[1;33m=\u001b[0m\u001b[0merrors\u001b[0m\u001b[1;33m,\u001b[0m \u001b[0mvalues\u001b[0m\u001b[1;33m=\u001b[0m\u001b[0mvalues\u001b[0m\u001b[1;33m,\u001b[0m \u001b[1;33m**\u001b[0m\u001b[0mkwargs\u001b[0m\u001b[1;33m)\u001b[0m\u001b[1;33m\u001b[0m\u001b[1;33m\u001b[0m\u001b[0m\n\u001b[0m\u001b[0;32m    560\u001b[0m \u001b[1;33m\u001b[0m\u001b[0m\n\u001b[0;32m    561\u001b[0m     \u001b[1;32mdef\u001b[0m \u001b[0m_astype\u001b[0m\u001b[1;33m(\u001b[0m\u001b[0mself\u001b[0m\u001b[1;33m,\u001b[0m \u001b[0mdtype\u001b[0m\u001b[1;33m,\u001b[0m \u001b[0mcopy\u001b[0m\u001b[1;33m=\u001b[0m\u001b[1;32mFalse\u001b[0m\u001b[1;33m,\u001b[0m \u001b[0merrors\u001b[0m\u001b[1;33m=\u001b[0m\u001b[1;34m\"raise\"\u001b[0m\u001b[1;33m,\u001b[0m \u001b[0mvalues\u001b[0m\u001b[1;33m=\u001b[0m\u001b[1;32mNone\u001b[0m\u001b[1;33m,\u001b[0m \u001b[1;33m**\u001b[0m\u001b[0mkwargs\u001b[0m\u001b[1;33m)\u001b[0m\u001b[1;33m:\u001b[0m\u001b[1;33m\u001b[0m\u001b[1;33m\u001b[0m\u001b[0m\n",
      "\u001b[1;32m~\\Anaconda3\\lib\\site-packages\\pandas\\core\\internals\\blocks.py\u001b[0m in \u001b[0;36m_astype\u001b[1;34m(self, dtype, copy, errors, values, **kwargs)\u001b[0m\n\u001b[0;32m    641\u001b[0m                     \u001b[1;31m# _astype_nansafe works fine with 1-d only\u001b[0m\u001b[1;33m\u001b[0m\u001b[1;33m\u001b[0m\u001b[1;33m\u001b[0m\u001b[0m\n\u001b[0;32m    642\u001b[0m                     \u001b[0mvals1d\u001b[0m \u001b[1;33m=\u001b[0m \u001b[0mvalues\u001b[0m\u001b[1;33m.\u001b[0m\u001b[0mravel\u001b[0m\u001b[1;33m(\u001b[0m\u001b[1;33m)\u001b[0m\u001b[1;33m\u001b[0m\u001b[1;33m\u001b[0m\u001b[0m\n\u001b[1;32m--> 643\u001b[1;33m                     \u001b[0mvalues\u001b[0m \u001b[1;33m=\u001b[0m \u001b[0mastype_nansafe\u001b[0m\u001b[1;33m(\u001b[0m\u001b[0mvals1d\u001b[0m\u001b[1;33m,\u001b[0m \u001b[0mdtype\u001b[0m\u001b[1;33m,\u001b[0m \u001b[0mcopy\u001b[0m\u001b[1;33m=\u001b[0m\u001b[1;32mTrue\u001b[0m\u001b[1;33m,\u001b[0m \u001b[1;33m**\u001b[0m\u001b[0mkwargs\u001b[0m\u001b[1;33m)\u001b[0m\u001b[1;33m\u001b[0m\u001b[1;33m\u001b[0m\u001b[0m\n\u001b[0m\u001b[0;32m    644\u001b[0m \u001b[1;33m\u001b[0m\u001b[0m\n\u001b[0;32m    645\u001b[0m                 \u001b[1;31m# TODO(extension)\u001b[0m\u001b[1;33m\u001b[0m\u001b[1;33m\u001b[0m\u001b[1;33m\u001b[0m\u001b[0m\n",
      "\u001b[1;32m~\\Anaconda3\\lib\\site-packages\\pandas\\core\\dtypes\\cast.py\u001b[0m in \u001b[0;36mastype_nansafe\u001b[1;34m(arr, dtype, copy, skipna)\u001b[0m\n\u001b[0;32m    727\u001b[0m     \u001b[1;32mif\u001b[0m \u001b[0mcopy\u001b[0m \u001b[1;32mor\u001b[0m \u001b[0mis_object_dtype\u001b[0m\u001b[1;33m(\u001b[0m\u001b[0marr\u001b[0m\u001b[1;33m)\u001b[0m \u001b[1;32mor\u001b[0m \u001b[0mis_object_dtype\u001b[0m\u001b[1;33m(\u001b[0m\u001b[0mdtype\u001b[0m\u001b[1;33m)\u001b[0m\u001b[1;33m:\u001b[0m\u001b[1;33m\u001b[0m\u001b[1;33m\u001b[0m\u001b[0m\n\u001b[0;32m    728\u001b[0m         \u001b[1;31m# Explicit copy, or required since NumPy can't view from / to object.\u001b[0m\u001b[1;33m\u001b[0m\u001b[1;33m\u001b[0m\u001b[1;33m\u001b[0m\u001b[0m\n\u001b[1;32m--> 729\u001b[1;33m         \u001b[1;32mreturn\u001b[0m \u001b[0marr\u001b[0m\u001b[1;33m.\u001b[0m\u001b[0mastype\u001b[0m\u001b[1;33m(\u001b[0m\u001b[0mdtype\u001b[0m\u001b[1;33m,\u001b[0m \u001b[0mcopy\u001b[0m\u001b[1;33m=\u001b[0m\u001b[1;32mTrue\u001b[0m\u001b[1;33m)\u001b[0m\u001b[1;33m\u001b[0m\u001b[1;33m\u001b[0m\u001b[0m\n\u001b[0m\u001b[0;32m    730\u001b[0m \u001b[1;33m\u001b[0m\u001b[0m\n\u001b[0;32m    731\u001b[0m     \u001b[1;32mreturn\u001b[0m \u001b[0marr\u001b[0m\u001b[1;33m.\u001b[0m\u001b[0mview\u001b[0m\u001b[1;33m(\u001b[0m\u001b[0mdtype\u001b[0m\u001b[1;33m)\u001b[0m\u001b[1;33m\u001b[0m\u001b[1;33m\u001b[0m\u001b[0m\n",
      "\u001b[1;31mValueError\u001b[0m: could not convert string to float: '20-30'"
     ]
    }
   ],
   "source": [
    "data['평수'] = data['평수'].astype(float)"
   ]
  },
  {
   "cell_type": "markdown",
   "metadata": {},
   "source": [
    "### 20-30평으로 입력된 값 25로 치환"
   ]
  },
  {
   "cell_type": "code",
   "execution_count": 58,
   "metadata": {},
   "outputs": [],
   "source": [
    "data[data['평수'] == '20-30'] = data[data['평수'] == '25']"
   ]
  },
  {
   "cell_type": "code",
   "execution_count": 63,
   "metadata": {},
   "outputs": [],
   "source": [
    "data['평수'] = pd.to_numeric(data['평수'], errors = 'coerce')"
   ]
  },
  {
   "cell_type": "code",
   "execution_count": 64,
   "metadata": {},
   "outputs": [
    {
     "data": {
      "text/plain": [
       "견적일              object\n",
       "유입경로             object\n",
       "주/상              object\n",
       "시공유형             object\n",
       "주소               object\n",
       "평수              float64\n",
       "공사예산(고객예산)       object\n",
       "공사예산(CS확인예산)     object\n",
       "DB 유형            object\n",
       "시공범위             object\n",
       "진행상태             object\n",
       "종료여부             object\n",
       "견적번호            float64\n",
       "요청               object\n",
       "인입채널(UTM)        object\n",
       "계약번호            float64\n",
       "dtype: object"
      ]
     },
     "execution_count": 64,
     "metadata": {},
     "output_type": "execute_result"
    }
   ],
   "source": [
    "data.dtypes"
   ]
  },
  {
   "cell_type": "code",
   "execution_count": 66,
   "metadata": {},
   "outputs": [],
   "source": [
    "from numpy import NaN, NAN, nan"
   ]
  },
  {
   "cell_type": "code",
   "execution_count": 71,
   "metadata": {},
   "outputs": [],
   "source": [
    "data[(data['평수'] < 9) | (data['평수'] > 100)] = data[data['평수'] == nan]"
   ]
  },
  {
   "cell_type": "code",
   "execution_count": 72,
   "metadata": {},
   "outputs": [
    {
     "data": {
      "text/html": [
       "<div>\n",
       "<style scoped>\n",
       "    .dataframe tbody tr th:only-of-type {\n",
       "        vertical-align: middle;\n",
       "    }\n",
       "\n",
       "    .dataframe tbody tr th {\n",
       "        vertical-align: top;\n",
       "    }\n",
       "\n",
       "    .dataframe thead th {\n",
       "        text-align: right;\n",
       "    }\n",
       "</style>\n",
       "<table border=\"1\" class=\"dataframe\">\n",
       "  <thead>\n",
       "    <tr style=\"text-align: right;\">\n",
       "      <th></th>\n",
       "      <th>견적일</th>\n",
       "      <th>유입경로</th>\n",
       "      <th>주/상</th>\n",
       "      <th>시공유형</th>\n",
       "      <th>주소</th>\n",
       "      <th>평수</th>\n",
       "      <th>공사예산(고객예산)</th>\n",
       "      <th>공사예산(CS확인예산)</th>\n",
       "      <th>DB 유형</th>\n",
       "      <th>시공범위</th>\n",
       "      <th>진행상태</th>\n",
       "      <th>종료여부</th>\n",
       "      <th>견적번호</th>\n",
       "      <th>요청</th>\n",
       "      <th>인입채널(UTM)</th>\n",
       "      <th>계약번호</th>\n",
       "    </tr>\n",
       "  </thead>\n",
       "  <tbody>\n",
       "  </tbody>\n",
       "</table>\n",
       "</div>"
      ],
      "text/plain": [
       "Empty DataFrame\n",
       "Columns: [견적일, 유입경로, 주/상, 시공유형, 주소, 평수, 공사예산(고객예산), 공사예산(CS확인예산), DB 유형, 시공범위, 진행상태, 종료여부, 견적번호, 요청, 인입채널(UTM), 계약번호]\n",
       "Index: []"
      ]
     },
     "execution_count": 72,
     "metadata": {},
     "output_type": "execute_result"
    }
   ],
   "source": [
    "data[(data['평수'] < 9) | (data['평수'] > 100)]"
   ]
  },
  {
   "cell_type": "code",
   "execution_count": 73,
   "metadata": {},
   "outputs": [],
   "source": [
    "data.to_csv('../data/전처리완료/집닥_견적pp.csv', header = True, index = False)"
   ]
  },
  {
   "cell_type": "markdown",
   "metadata": {},
   "source": [
    "# 시공유형을 아파트로 한정"
   ]
  },
  {
   "cell_type": "code",
   "execution_count": 74,
   "metadata": {},
   "outputs": [
    {
     "data": {
      "text/html": [
       "<div>\n",
       "<style scoped>\n",
       "    .dataframe tbody tr th:only-of-type {\n",
       "        vertical-align: middle;\n",
       "    }\n",
       "\n",
       "    .dataframe tbody tr th {\n",
       "        vertical-align: top;\n",
       "    }\n",
       "\n",
       "    .dataframe thead th {\n",
       "        text-align: right;\n",
       "    }\n",
       "</style>\n",
       "<table border=\"1\" class=\"dataframe\">\n",
       "  <thead>\n",
       "    <tr style=\"text-align: right;\">\n",
       "      <th></th>\n",
       "      <th>견적일</th>\n",
       "      <th>유입경로</th>\n",
       "      <th>주/상</th>\n",
       "      <th>시공유형</th>\n",
       "      <th>주소</th>\n",
       "      <th>평수</th>\n",
       "      <th>공사예산(고객예산)</th>\n",
       "      <th>공사예산(CS확인예산)</th>\n",
       "      <th>DB 유형</th>\n",
       "      <th>시공범위</th>\n",
       "      <th>진행상태</th>\n",
       "      <th>종료여부</th>\n",
       "      <th>견적번호</th>\n",
       "      <th>요청</th>\n",
       "      <th>인입채널(UTM)</th>\n",
       "      <th>계약번호</th>\n",
       "    </tr>\n",
       "  </thead>\n",
       "  <tbody>\n",
       "    <tr>\n",
       "      <td>0</td>\n",
       "      <td>2019-07-31 21:56:35</td>\n",
       "      <td>웹-모바일웹상세</td>\n",
       "      <td>주거</td>\n",
       "      <td>아파트</td>\n",
       "      <td>경남 창원시 성산구 반림동 8 럭키반림아파트 10동 804호</td>\n",
       "      <td>31.0</td>\n",
       "      <td>NaN</td>\n",
       "      <td>4000 ~ 5000 만원</td>\n",
       "      <td>주거-고급</td>\n",
       "      <td>전체</td>\n",
       "      <td>방문상담</td>\n",
       "      <td>진행중</td>\n",
       "      <td>200037.0</td>\n",
       "      <td>방이 4개가 필요합니다\\r\\n안방을 아들 둘이 지낼수있도록 해서\\r\\n부부 각 방 ...</td>\n",
       "      <td>네이버검색광고_Mobile</td>\n",
       "      <td>NaN</td>\n",
       "    </tr>\n",
       "    <tr>\n",
       "      <td>1</td>\n",
       "      <td>2019-07-31 20:31:32</td>\n",
       "      <td>앱-아이폰간편</td>\n",
       "      <td>주거</td>\n",
       "      <td>아파트</td>\n",
       "      <td>서울 강동구 명일동 54 한양아파트 1동6층</td>\n",
       "      <td>42.0</td>\n",
       "      <td>NaN</td>\n",
       "      <td>4000 ~ 5000 만원</td>\n",
       "      <td>주거-고급</td>\n",
       "      <td>전체</td>\n",
       "      <td>방문상담</td>\n",
       "      <td>진행중</td>\n",
       "      <td>200030.0</td>\n",
       "      <td>배관공사 포함 샷시 \\r\\n모두 올수리입니다</td>\n",
       "      <td>NaN</td>\n",
       "      <td>NaN</td>\n",
       "    </tr>\n",
       "    <tr>\n",
       "      <td>6</td>\n",
       "      <td>2019-07-31 16:26:29</td>\n",
       "      <td>앱-안드로이드</td>\n",
       "      <td>주거</td>\n",
       "      <td>아파트</td>\n",
       "      <td>서울 강서구 가양동 1461 가양2단지아파트 202동 803호</td>\n",
       "      <td>24.0</td>\n",
       "      <td>NaN</td>\n",
       "      <td>1380 만원 이상</td>\n",
       "      <td>주거-기본</td>\n",
       "      <td>전체</td>\n",
       "      <td>계약완료</td>\n",
       "      <td>진행중</td>\n",
       "      <td>199988.0</td>\n",
       "      <td>NaN</td>\n",
       "      <td>NaN</td>\n",
       "      <td>9884.0</td>\n",
       "    </tr>\n",
       "    <tr>\n",
       "      <td>7</td>\n",
       "      <td>2019-07-31 15:30:32</td>\n",
       "      <td>웹-PC웹간편</td>\n",
       "      <td>주거</td>\n",
       "      <td>아파트</td>\n",
       "      <td>서울 성북구 돈암동 644 (아리랑로 75) 돈암코오롱하늘채 103동 606호</td>\n",
       "      <td>34.0</td>\n",
       "      <td>NaN</td>\n",
       "      <td>3000 ~ 4000 만원</td>\n",
       "      <td>주거-고급</td>\n",
       "      <td>전체</td>\n",
       "      <td>방문상담</td>\n",
       "      <td>진행중</td>\n",
       "      <td>199970.0</td>\n",
       "      <td>- 상담희망시간 : 무관\\r\\n- 현장위치 : 서울특별시 성북구 아리랑로 75 돈암...</td>\n",
       "      <td>NaN</td>\n",
       "      <td>NaN</td>\n",
       "    </tr>\n",
       "    <tr>\n",
       "      <td>8</td>\n",
       "      <td>2019-07-31 14:31:44</td>\n",
       "      <td>외부-믹스앤픽스</td>\n",
       "      <td>주거</td>\n",
       "      <td>아파트</td>\n",
       "      <td>서울 강동구 암사동 509 선사현대아파트 115동 16층</td>\n",
       "      <td>34.0</td>\n",
       "      <td>NaN</td>\n",
       "      <td>4000 ~ 4000 만원</td>\n",
       "      <td>주거-고급</td>\n",
       "      <td>전체</td>\n",
       "      <td>방문상담</td>\n",
       "      <td>진행중</td>\n",
       "      <td>199937.0</td>\n",
       "      <td>NaN</td>\n",
       "      <td>NaN</td>\n",
       "      <td>NaN</td>\n",
       "    </tr>\n",
       "  </tbody>\n",
       "</table>\n",
       "</div>"
      ],
      "text/plain": [
       "                   견적일      유입경로 주/상 시공유형  \\\n",
       "0  2019-07-31 21:56:35  웹-모바일웹상세  주거  아파트   \n",
       "1  2019-07-31 20:31:32   앱-아이폰간편  주거  아파트   \n",
       "6  2019-07-31 16:26:29   앱-안드로이드  주거  아파트   \n",
       "7  2019-07-31 15:30:32   웹-PC웹간편  주거  아파트   \n",
       "8  2019-07-31 14:31:44  외부-믹스앤픽스  주거  아파트   \n",
       "\n",
       "                                            주소    평수 공사예산(고객예산)  \\\n",
       "0           경남 창원시 성산구 반림동 8 럭키반림아파트 10동 804호   31.0        NaN   \n",
       "1                     서울 강동구 명일동 54 한양아파트 1동6층  42.0        NaN   \n",
       "6           서울 강서구 가양동 1461 가양2단지아파트 202동 803호  24.0        NaN   \n",
       "7  서울 성북구 돈암동 644 (아리랑로 75) 돈암코오롱하늘채 103동 606호  34.0        NaN   \n",
       "8             서울 강동구 암사동 509 선사현대아파트 115동 16층   34.0        NaN   \n",
       "\n",
       "     공사예산(CS확인예산)  DB 유형 시공범위  진행상태 종료여부      견적번호  \\\n",
       "0  4000 ~ 5000 만원  주거-고급   전체  방문상담  진행중  200037.0   \n",
       "1  4000 ~ 5000 만원  주거-고급   전체  방문상담  진행중  200030.0   \n",
       "6      1380 만원 이상  주거-기본   전체  계약완료  진행중  199988.0   \n",
       "7  3000 ~ 4000 만원  주거-고급   전체  방문상담  진행중  199970.0   \n",
       "8  4000 ~ 4000 만원  주거-고급   전체  방문상담  진행중  199937.0   \n",
       "\n",
       "                                                  요청       인입채널(UTM)    계약번호  \n",
       "0  방이 4개가 필요합니다\\r\\n안방을 아들 둘이 지낼수있도록 해서\\r\\n부부 각 방 ...  네이버검색광고_Mobile     NaN  \n",
       "1                           배관공사 포함 샷시 \\r\\n모두 올수리입니다             NaN     NaN  \n",
       "6                                                NaN             NaN  9884.0  \n",
       "7  - 상담희망시간 : 무관\\r\\n- 현장위치 : 서울특별시 성북구 아리랑로 75 돈암...             NaN     NaN  \n",
       "8                                                NaN             NaN     NaN  "
      ]
     },
     "execution_count": 74,
     "metadata": {},
     "output_type": "execute_result"
    }
   ],
   "source": [
    "data2 = data[data['시공유형'] == '아파트']\n",
    "data2.head()"
   ]
  },
  {
   "cell_type": "code",
   "execution_count": 76,
   "metadata": {},
   "outputs": [],
   "source": [
    "data2.to_csv('../data/전처리완료/집닥_견적pp.csv', header = True, index = False)"
   ]
  },
  {
   "cell_type": "code",
   "execution_count": 77,
   "metadata": {},
   "outputs": [],
   "source": [
    "data2 = pd.read_csv('../data/전처리완료/집닥_견적pp.csv')"
   ]
  },
  {
   "cell_type": "code",
   "execution_count": 78,
   "metadata": {},
   "outputs": [
    {
     "data": {
      "text/html": [
       "<div>\n",
       "<style scoped>\n",
       "    .dataframe tbody tr th:only-of-type {\n",
       "        vertical-align: middle;\n",
       "    }\n",
       "\n",
       "    .dataframe tbody tr th {\n",
       "        vertical-align: top;\n",
       "    }\n",
       "\n",
       "    .dataframe thead th {\n",
       "        text-align: right;\n",
       "    }\n",
       "</style>\n",
       "<table border=\"1\" class=\"dataframe\">\n",
       "  <thead>\n",
       "    <tr style=\"text-align: right;\">\n",
       "      <th></th>\n",
       "      <th>견적일</th>\n",
       "      <th>유입경로</th>\n",
       "      <th>주/상</th>\n",
       "      <th>시공유형</th>\n",
       "      <th>주소</th>\n",
       "      <th>평수</th>\n",
       "      <th>공사예산(고객예산)</th>\n",
       "      <th>공사예산(CS확인예산)</th>\n",
       "      <th>DB 유형</th>\n",
       "      <th>시공범위</th>\n",
       "      <th>진행상태</th>\n",
       "      <th>종료여부</th>\n",
       "      <th>견적번호</th>\n",
       "      <th>요청</th>\n",
       "      <th>인입채널(UTM)</th>\n",
       "      <th>계약번호</th>\n",
       "    </tr>\n",
       "  </thead>\n",
       "  <tbody>\n",
       "    <tr>\n",
       "      <td>0</td>\n",
       "      <td>2019-07-31 21:56:35</td>\n",
       "      <td>웹-모바일웹상세</td>\n",
       "      <td>주거</td>\n",
       "      <td>아파트</td>\n",
       "      <td>경남 창원시 성산구 반림동 8 럭키반림아파트 10동 804호</td>\n",
       "      <td>31.0</td>\n",
       "      <td>NaN</td>\n",
       "      <td>4000 ~ 5000 만원</td>\n",
       "      <td>주거-고급</td>\n",
       "      <td>전체</td>\n",
       "      <td>방문상담</td>\n",
       "      <td>진행중</td>\n",
       "      <td>200037.0</td>\n",
       "      <td>방이 4개가 필요합니다\\r\\n안방을 아들 둘이 지낼수있도록 해서\\r\\n부부 각 방 ...</td>\n",
       "      <td>네이버검색광고_Mobile</td>\n",
       "      <td>NaN</td>\n",
       "    </tr>\n",
       "    <tr>\n",
       "      <td>1</td>\n",
       "      <td>2019-07-31 20:31:32</td>\n",
       "      <td>앱-아이폰간편</td>\n",
       "      <td>주거</td>\n",
       "      <td>아파트</td>\n",
       "      <td>서울 강동구 명일동 54 한양아파트 1동6층</td>\n",
       "      <td>42.0</td>\n",
       "      <td>NaN</td>\n",
       "      <td>4000 ~ 5000 만원</td>\n",
       "      <td>주거-고급</td>\n",
       "      <td>전체</td>\n",
       "      <td>방문상담</td>\n",
       "      <td>진행중</td>\n",
       "      <td>200030.0</td>\n",
       "      <td>배관공사 포함 샷시 \\r\\n모두 올수리입니다</td>\n",
       "      <td>NaN</td>\n",
       "      <td>NaN</td>\n",
       "    </tr>\n",
       "    <tr>\n",
       "      <td>2</td>\n",
       "      <td>2019-07-31 16:26:29</td>\n",
       "      <td>앱-안드로이드</td>\n",
       "      <td>주거</td>\n",
       "      <td>아파트</td>\n",
       "      <td>서울 강서구 가양동 1461 가양2단지아파트 202동 803호</td>\n",
       "      <td>24.0</td>\n",
       "      <td>NaN</td>\n",
       "      <td>1380 만원 이상</td>\n",
       "      <td>주거-기본</td>\n",
       "      <td>전체</td>\n",
       "      <td>계약완료</td>\n",
       "      <td>진행중</td>\n",
       "      <td>199988.0</td>\n",
       "      <td>NaN</td>\n",
       "      <td>NaN</td>\n",
       "      <td>9884.0</td>\n",
       "    </tr>\n",
       "    <tr>\n",
       "      <td>3</td>\n",
       "      <td>2019-07-31 15:30:32</td>\n",
       "      <td>웹-PC웹간편</td>\n",
       "      <td>주거</td>\n",
       "      <td>아파트</td>\n",
       "      <td>서울 성북구 돈암동 644 (아리랑로 75) 돈암코오롱하늘채 103동 606호</td>\n",
       "      <td>34.0</td>\n",
       "      <td>NaN</td>\n",
       "      <td>3000 ~ 4000 만원</td>\n",
       "      <td>주거-고급</td>\n",
       "      <td>전체</td>\n",
       "      <td>방문상담</td>\n",
       "      <td>진행중</td>\n",
       "      <td>199970.0</td>\n",
       "      <td>- 상담희망시간 : 무관\\r\\n- 현장위치 : 서울특별시 성북구 아리랑로 75 돈암...</td>\n",
       "      <td>NaN</td>\n",
       "      <td>NaN</td>\n",
       "    </tr>\n",
       "    <tr>\n",
       "      <td>4</td>\n",
       "      <td>2019-07-31 14:31:44</td>\n",
       "      <td>외부-믹스앤픽스</td>\n",
       "      <td>주거</td>\n",
       "      <td>아파트</td>\n",
       "      <td>서울 강동구 암사동 509 선사현대아파트 115동 16층</td>\n",
       "      <td>34.0</td>\n",
       "      <td>NaN</td>\n",
       "      <td>4000 ~ 4000 만원</td>\n",
       "      <td>주거-고급</td>\n",
       "      <td>전체</td>\n",
       "      <td>방문상담</td>\n",
       "      <td>진행중</td>\n",
       "      <td>199937.0</td>\n",
       "      <td>NaN</td>\n",
       "      <td>NaN</td>\n",
       "      <td>NaN</td>\n",
       "    </tr>\n",
       "  </tbody>\n",
       "</table>\n",
       "</div>"
      ],
      "text/plain": [
       "                   견적일      유입경로 주/상 시공유형  \\\n",
       "0  2019-07-31 21:56:35  웹-모바일웹상세  주거  아파트   \n",
       "1  2019-07-31 20:31:32   앱-아이폰간편  주거  아파트   \n",
       "2  2019-07-31 16:26:29   앱-안드로이드  주거  아파트   \n",
       "3  2019-07-31 15:30:32   웹-PC웹간편  주거  아파트   \n",
       "4  2019-07-31 14:31:44  외부-믹스앤픽스  주거  아파트   \n",
       "\n",
       "                                            주소    평수 공사예산(고객예산)  \\\n",
       "0           경남 창원시 성산구 반림동 8 럭키반림아파트 10동 804호   31.0        NaN   \n",
       "1                     서울 강동구 명일동 54 한양아파트 1동6층  42.0        NaN   \n",
       "2           서울 강서구 가양동 1461 가양2단지아파트 202동 803호  24.0        NaN   \n",
       "3  서울 성북구 돈암동 644 (아리랑로 75) 돈암코오롱하늘채 103동 606호  34.0        NaN   \n",
       "4             서울 강동구 암사동 509 선사현대아파트 115동 16층   34.0        NaN   \n",
       "\n",
       "     공사예산(CS확인예산)  DB 유형 시공범위  진행상태 종료여부      견적번호  \\\n",
       "0  4000 ~ 5000 만원  주거-고급   전체  방문상담  진행중  200037.0   \n",
       "1  4000 ~ 5000 만원  주거-고급   전체  방문상담  진행중  200030.0   \n",
       "2      1380 만원 이상  주거-기본   전체  계약완료  진행중  199988.0   \n",
       "3  3000 ~ 4000 만원  주거-고급   전체  방문상담  진행중  199970.0   \n",
       "4  4000 ~ 4000 만원  주거-고급   전체  방문상담  진행중  199937.0   \n",
       "\n",
       "                                                  요청       인입채널(UTM)    계약번호  \n",
       "0  방이 4개가 필요합니다\\r\\n안방을 아들 둘이 지낼수있도록 해서\\r\\n부부 각 방 ...  네이버검색광고_Mobile     NaN  \n",
       "1                           배관공사 포함 샷시 \\r\\n모두 올수리입니다             NaN     NaN  \n",
       "2                                                NaN             NaN  9884.0  \n",
       "3  - 상담희망시간 : 무관\\r\\n- 현장위치 : 서울특별시 성북구 아리랑로 75 돈암...             NaN     NaN  \n",
       "4                                                NaN             NaN     NaN  "
      ]
     },
     "execution_count": 78,
     "metadata": {},
     "output_type": "execute_result"
    }
   ],
   "source": [
    "data2.head()"
   ]
  },
  {
   "cell_type": "code",
   "execution_count": 79,
   "metadata": {},
   "outputs": [
    {
     "data": {
      "text/plain": [
       "(8248, 16)"
      ]
     },
     "execution_count": 79,
     "metadata": {},
     "output_type": "execute_result"
    }
   ],
   "source": [
    "data2.shape"
   ]
  },
  {
   "cell_type": "code",
   "execution_count": 80,
   "metadata": {},
   "outputs": [
    {
     "data": {
      "text/plain": [
       "Index(['견적일', '유입경로', '주/상', '시공유형', '주소', '평수', '공사예산(고객예산)', '공사예산(CS확인예산)',\n",
       "       'DB 유형', '시공범위', '진행상태', '종료여부', '견적번호', '요청', '인입채널(UTM)', '계약번호'],\n",
       "      dtype='object')"
      ]
     },
     "execution_count": 80,
     "metadata": {},
     "output_type": "execute_result"
    }
   ],
   "source": [
    "data2.columns"
   ]
  },
  {
   "cell_type": "code",
   "execution_count": 86,
   "metadata": {},
   "outputs": [],
   "source": [
    "idx1 = data2[data2['견적번호'] == '192025'].index"
   ]
  },
  {
   "cell_type": "code",
   "execution_count": 87,
   "metadata": {},
   "outputs": [],
   "source": [
    "data3 = data2.drop(idx1)"
   ]
  },
  {
   "cell_type": "code",
   "execution_count": 88,
   "metadata": {},
   "outputs": [
    {
     "data": {
      "text/plain": [
       "(8248, 16)"
      ]
     },
     "execution_count": 88,
     "metadata": {},
     "output_type": "execute_result"
    }
   ],
   "source": [
    "data2.shape"
   ]
  },
  {
   "cell_type": "code",
   "execution_count": 89,
   "metadata": {},
   "outputs": [
    {
     "data": {
      "text/plain": [
       "(8248, 16)"
      ]
     },
     "execution_count": 89,
     "metadata": {},
     "output_type": "execute_result"
    }
   ],
   "source": [
    "data3.shape"
   ]
  },
  {
   "cell_type": "code",
   "execution_count": 90,
   "metadata": {},
   "outputs": [
    {
     "data": {
      "text/plain": [
       "Int64Index([], dtype='int64')"
      ]
     },
     "execution_count": 90,
     "metadata": {},
     "output_type": "execute_result"
    }
   ],
   "source": [
    "idx1"
   ]
  },
  {
   "cell_type": "code",
   "execution_count": 91,
   "metadata": {},
   "outputs": [
    {
     "data": {
      "text/html": [
       "<div>\n",
       "<style scoped>\n",
       "    .dataframe tbody tr th:only-of-type {\n",
       "        vertical-align: middle;\n",
       "    }\n",
       "\n",
       "    .dataframe tbody tr th {\n",
       "        vertical-align: top;\n",
       "    }\n",
       "\n",
       "    .dataframe thead th {\n",
       "        text-align: right;\n",
       "    }\n",
       "</style>\n",
       "<table border=\"1\" class=\"dataframe\">\n",
       "  <thead>\n",
       "    <tr style=\"text-align: right;\">\n",
       "      <th></th>\n",
       "      <th>견적일</th>\n",
       "      <th>유입경로</th>\n",
       "      <th>주/상</th>\n",
       "      <th>시공유형</th>\n",
       "      <th>주소</th>\n",
       "      <th>평수</th>\n",
       "      <th>공사예산(고객예산)</th>\n",
       "      <th>공사예산(CS확인예산)</th>\n",
       "      <th>DB 유형</th>\n",
       "      <th>시공범위</th>\n",
       "      <th>진행상태</th>\n",
       "      <th>종료여부</th>\n",
       "      <th>견적번호</th>\n",
       "      <th>요청</th>\n",
       "      <th>인입채널(UTM)</th>\n",
       "      <th>계약번호</th>\n",
       "    </tr>\n",
       "  </thead>\n",
       "  <tbody>\n",
       "  </tbody>\n",
       "</table>\n",
       "</div>"
      ],
      "text/plain": [
       "Empty DataFrame\n",
       "Columns: [견적일, 유입경로, 주/상, 시공유형, 주소, 평수, 공사예산(고객예산), 공사예산(CS확인예산), DB 유형, 시공범위, 진행상태, 종료여부, 견적번호, 요청, 인입채널(UTM), 계약번호]\n",
       "Index: []"
      ]
     },
     "execution_count": 91,
     "metadata": {},
     "output_type": "execute_result"
    }
   ],
   "source": [
    "data2[data2['견적번호'] == '192025']"
   ]
  },
  {
   "cell_type": "code",
   "execution_count": 92,
   "metadata": {},
   "outputs": [],
   "source": [
    "data2.to_csv('../data/전처리완료/집닥_견적pp1.csv', header=True, index=False)"
   ]
  },
  {
   "cell_type": "code",
   "execution_count": 94,
   "metadata": {},
   "outputs": [],
   "source": [
    "pp = pd.read_csv('../data/전처리완료/집닥_견적pp.csv')"
   ]
  },
  {
   "cell_type": "code",
   "execution_count": 95,
   "metadata": {},
   "outputs": [
    {
     "data": {
      "text/html": [
       "<div>\n",
       "<style scoped>\n",
       "    .dataframe tbody tr th:only-of-type {\n",
       "        vertical-align: middle;\n",
       "    }\n",
       "\n",
       "    .dataframe tbody tr th {\n",
       "        vertical-align: top;\n",
       "    }\n",
       "\n",
       "    .dataframe thead th {\n",
       "        text-align: right;\n",
       "    }\n",
       "</style>\n",
       "<table border=\"1\" class=\"dataframe\">\n",
       "  <thead>\n",
       "    <tr style=\"text-align: right;\">\n",
       "      <th></th>\n",
       "      <th>견적일</th>\n",
       "      <th>유입경로</th>\n",
       "      <th>주/상</th>\n",
       "      <th>시공유형</th>\n",
       "      <th>주소</th>\n",
       "      <th>평수</th>\n",
       "      <th>공사예산(고객예산)</th>\n",
       "      <th>공사예산(CS확인예산)</th>\n",
       "      <th>DB 유형</th>\n",
       "      <th>시공범위</th>\n",
       "      <th>진행상태</th>\n",
       "      <th>종료여부</th>\n",
       "      <th>견적번호</th>\n",
       "      <th>요청</th>\n",
       "      <th>인입채널(UTM)</th>\n",
       "      <th>계약번호</th>\n",
       "    </tr>\n",
       "  </thead>\n",
       "  <tbody>\n",
       "    <tr>\n",
       "      <td>0</td>\n",
       "      <td>2019-07-31 21:56:35</td>\n",
       "      <td>웹-모바일웹상세</td>\n",
       "      <td>주거</td>\n",
       "      <td>아파트</td>\n",
       "      <td>경남 창원시 성산구 반림동 8 럭키반림아파트 10동 804호</td>\n",
       "      <td>31.0</td>\n",
       "      <td>NaN</td>\n",
       "      <td>4000 ~ 5000 만원</td>\n",
       "      <td>주거-고급</td>\n",
       "      <td>전체</td>\n",
       "      <td>방문상담</td>\n",
       "      <td>진행중</td>\n",
       "      <td>200037.0</td>\n",
       "      <td>방이 4개가 필요합니다\\r\\n안방을 아들 둘이 지낼수있도록 해서\\r\\n부부 각 방 ...</td>\n",
       "      <td>네이버검색광고_Mobile</td>\n",
       "      <td>NaN</td>\n",
       "    </tr>\n",
       "    <tr>\n",
       "      <td>1</td>\n",
       "      <td>2019-07-31 20:31:32</td>\n",
       "      <td>앱-아이폰간편</td>\n",
       "      <td>주거</td>\n",
       "      <td>아파트</td>\n",
       "      <td>서울 강동구 명일동 54 한양아파트 1동6층</td>\n",
       "      <td>42.0</td>\n",
       "      <td>NaN</td>\n",
       "      <td>4000 ~ 5000 만원</td>\n",
       "      <td>주거-고급</td>\n",
       "      <td>전체</td>\n",
       "      <td>방문상담</td>\n",
       "      <td>진행중</td>\n",
       "      <td>200030.0</td>\n",
       "      <td>배관공사 포함 샷시 \\r\\n모두 올수리입니다</td>\n",
       "      <td>NaN</td>\n",
       "      <td>NaN</td>\n",
       "    </tr>\n",
       "    <tr>\n",
       "      <td>2</td>\n",
       "      <td>2019-07-31 16:26:29</td>\n",
       "      <td>앱-안드로이드</td>\n",
       "      <td>주거</td>\n",
       "      <td>아파트</td>\n",
       "      <td>서울 강서구 가양동 1461 가양2단지아파트 202동 803호</td>\n",
       "      <td>24.0</td>\n",
       "      <td>NaN</td>\n",
       "      <td>1380 만원 이상</td>\n",
       "      <td>주거-기본</td>\n",
       "      <td>전체</td>\n",
       "      <td>계약완료</td>\n",
       "      <td>진행중</td>\n",
       "      <td>199988.0</td>\n",
       "      <td>NaN</td>\n",
       "      <td>NaN</td>\n",
       "      <td>9884.0</td>\n",
       "    </tr>\n",
       "    <tr>\n",
       "      <td>3</td>\n",
       "      <td>2019-07-31 15:30:32</td>\n",
       "      <td>웹-PC웹간편</td>\n",
       "      <td>주거</td>\n",
       "      <td>아파트</td>\n",
       "      <td>서울 성북구 돈암동 644 (아리랑로 75) 돈암코오롱하늘채 103동 606호</td>\n",
       "      <td>34.0</td>\n",
       "      <td>NaN</td>\n",
       "      <td>3000 ~ 4000 만원</td>\n",
       "      <td>주거-고급</td>\n",
       "      <td>전체</td>\n",
       "      <td>방문상담</td>\n",
       "      <td>진행중</td>\n",
       "      <td>199970.0</td>\n",
       "      <td>- 상담희망시간 : 무관\\r\\n- 현장위치 : 서울특별시 성북구 아리랑로 75 돈암...</td>\n",
       "      <td>NaN</td>\n",
       "      <td>NaN</td>\n",
       "    </tr>\n",
       "    <tr>\n",
       "      <td>4</td>\n",
       "      <td>2019-07-31 14:31:44</td>\n",
       "      <td>외부-믹스앤픽스</td>\n",
       "      <td>주거</td>\n",
       "      <td>아파트</td>\n",
       "      <td>서울 강동구 암사동 509 선사현대아파트 115동 16층</td>\n",
       "      <td>34.0</td>\n",
       "      <td>NaN</td>\n",
       "      <td>4000 ~ 4000 만원</td>\n",
       "      <td>주거-고급</td>\n",
       "      <td>전체</td>\n",
       "      <td>방문상담</td>\n",
       "      <td>진행중</td>\n",
       "      <td>199937.0</td>\n",
       "      <td>NaN</td>\n",
       "      <td>NaN</td>\n",
       "      <td>NaN</td>\n",
       "    </tr>\n",
       "  </tbody>\n",
       "</table>\n",
       "</div>"
      ],
      "text/plain": [
       "                   견적일      유입경로 주/상 시공유형  \\\n",
       "0  2019-07-31 21:56:35  웹-모바일웹상세  주거  아파트   \n",
       "1  2019-07-31 20:31:32   앱-아이폰간편  주거  아파트   \n",
       "2  2019-07-31 16:26:29   앱-안드로이드  주거  아파트   \n",
       "3  2019-07-31 15:30:32   웹-PC웹간편  주거  아파트   \n",
       "4  2019-07-31 14:31:44  외부-믹스앤픽스  주거  아파트   \n",
       "\n",
       "                                            주소    평수 공사예산(고객예산)  \\\n",
       "0           경남 창원시 성산구 반림동 8 럭키반림아파트 10동 804호   31.0        NaN   \n",
       "1                     서울 강동구 명일동 54 한양아파트 1동6층  42.0        NaN   \n",
       "2           서울 강서구 가양동 1461 가양2단지아파트 202동 803호  24.0        NaN   \n",
       "3  서울 성북구 돈암동 644 (아리랑로 75) 돈암코오롱하늘채 103동 606호  34.0        NaN   \n",
       "4             서울 강동구 암사동 509 선사현대아파트 115동 16층   34.0        NaN   \n",
       "\n",
       "     공사예산(CS확인예산)  DB 유형 시공범위  진행상태 종료여부      견적번호  \\\n",
       "0  4000 ~ 5000 만원  주거-고급   전체  방문상담  진행중  200037.0   \n",
       "1  4000 ~ 5000 만원  주거-고급   전체  방문상담  진행중  200030.0   \n",
       "2      1380 만원 이상  주거-기본   전체  계약완료  진행중  199988.0   \n",
       "3  3000 ~ 4000 만원  주거-고급   전체  방문상담  진행중  199970.0   \n",
       "4  4000 ~ 4000 만원  주거-고급   전체  방문상담  진행중  199937.0   \n",
       "\n",
       "                                                  요청       인입채널(UTM)    계약번호  \n",
       "0  방이 4개가 필요합니다\\r\\n안방을 아들 둘이 지낼수있도록 해서\\r\\n부부 각 방 ...  네이버검색광고_Mobile     NaN  \n",
       "1                           배관공사 포함 샷시 \\r\\n모두 올수리입니다             NaN     NaN  \n",
       "2                                                NaN             NaN  9884.0  \n",
       "3  - 상담희망시간 : 무관\\r\\n- 현장위치 : 서울특별시 성북구 아리랑로 75 돈암...             NaN     NaN  \n",
       "4                                                NaN             NaN     NaN  "
      ]
     },
     "execution_count": 95,
     "metadata": {},
     "output_type": "execute_result"
    }
   ],
   "source": [
    "pp.head()"
   ]
  },
  {
   "cell_type": "code",
   "execution_count": 96,
   "metadata": {},
   "outputs": [
    {
     "data": {
      "text/plain": [
       "(8248, 16)"
      ]
     },
     "execution_count": 96,
     "metadata": {},
     "output_type": "execute_result"
    }
   ],
   "source": [
    "pp.shape"
   ]
  },
  {
   "cell_type": "code",
   "execution_count": 99,
   "metadata": {},
   "outputs": [
    {
     "data": {
      "text/html": [
       "<div>\n",
       "<style scoped>\n",
       "    .dataframe tbody tr th:only-of-type {\n",
       "        vertical-align: middle;\n",
       "    }\n",
       "\n",
       "    .dataframe tbody tr th {\n",
       "        vertical-align: top;\n",
       "    }\n",
       "\n",
       "    .dataframe thead th {\n",
       "        text-align: right;\n",
       "    }\n",
       "</style>\n",
       "<table border=\"1\" class=\"dataframe\">\n",
       "  <thead>\n",
       "    <tr style=\"text-align: right;\">\n",
       "      <th></th>\n",
       "      <th>견적일</th>\n",
       "      <th>유입경로</th>\n",
       "      <th>주/상</th>\n",
       "      <th>시공유형</th>\n",
       "      <th>주소</th>\n",
       "      <th>평수</th>\n",
       "      <th>공사예산(고객예산)</th>\n",
       "      <th>공사예산(CS확인예산)</th>\n",
       "      <th>DB 유형</th>\n",
       "      <th>시공범위</th>\n",
       "      <th>진행상태</th>\n",
       "      <th>종료여부</th>\n",
       "      <th>견적번호</th>\n",
       "      <th>요청</th>\n",
       "      <th>인입채널(UTM)</th>\n",
       "      <th>계약번호</th>\n",
       "    </tr>\n",
       "  </thead>\n",
       "  <tbody>\n",
       "    <tr>\n",
       "      <td>576</td>\n",
       "      <td>2019-06-28 17:47:54</td>\n",
       "      <td>웹-PC웹간편</td>\n",
       "      <td>주거</td>\n",
       "      <td>아파트</td>\n",
       "      <td>경남 진주시 초전동 1705-10 1층</td>\n",
       "      <td>47.0</td>\n",
       "      <td>NaN</td>\n",
       "      <td>3000 ~ 4000 만원</td>\n",
       "      <td>상업-기본</td>\n",
       "      <td>전체</td>\n",
       "      <td>방문상담</td>\n",
       "      <td>진행중</td>\n",
       "      <td>192025.0</td>\n",
       "      <td>47평\\r\\n직사각형상가</td>\n",
       "      <td>카카오모먼트_PC</td>\n",
       "      <td>NaN</td>\n",
       "    </tr>\n",
       "  </tbody>\n",
       "</table>\n",
       "</div>"
      ],
      "text/plain": [
       "                     견적일     유입경로 주/상 시공유형                     주소    평수  \\\n",
       "576  2019-06-28 17:47:54  웹-PC웹간편  주거  아파트  경남 진주시 초전동 1705-10 1층  47.0   \n",
       "\n",
       "    공사예산(고객예산)    공사예산(CS확인예산)  DB 유형 시공범위  진행상태 종료여부      견적번호  \\\n",
       "576        NaN  3000 ~ 4000 만원  상업-기본   전체  방문상담  진행중  192025.0   \n",
       "\n",
       "                요청  인입채널(UTM)  계약번호  \n",
       "576  47평\\r\\n직사각형상가  카카오모먼트_PC   NaN  "
      ]
     },
     "execution_count": 99,
     "metadata": {},
     "output_type": "execute_result"
    }
   ],
   "source": [
    "pp[pp['견적번호'] == 192025 ]"
   ]
  },
  {
   "cell_type": "code",
   "execution_count": 100,
   "metadata": {},
   "outputs": [],
   "source": [
    "idx = pp[(pp['견적번호'] == 192025) | (pp['견적번호'] == 183310)].index"
   ]
  },
  {
   "cell_type": "code",
   "execution_count": 101,
   "metadata": {},
   "outputs": [
    {
     "data": {
      "text/plain": [
       "Int64Index([576, 1111], dtype='int64')"
      ]
     },
     "execution_count": 101,
     "metadata": {},
     "output_type": "execute_result"
    }
   ],
   "source": [
    "idx"
   ]
  },
  {
   "cell_type": "code",
   "execution_count": 102,
   "metadata": {},
   "outputs": [],
   "source": [
    "pp2 = pp.drop(idx)"
   ]
  },
  {
   "cell_type": "code",
   "execution_count": 103,
   "metadata": {},
   "outputs": [
    {
     "data": {
      "text/plain": [
       "(8246, 16)"
      ]
     },
     "execution_count": 103,
     "metadata": {},
     "output_type": "execute_result"
    }
   ],
   "source": [
    "pp2.shape"
   ]
  },
  {
   "cell_type": "code",
   "execution_count": 105,
   "metadata": {},
   "outputs": [],
   "source": [
    "pp2.to_csv('../data/전처리완료/집닥_견적pp.csv', header=True, index = False)"
   ]
  },
  {
   "cell_type": "markdown",
   "metadata": {},
   "source": [
    "# 유입경로 컬럼 분할 "
   ]
  },
  {
   "cell_type": "code",
   "execution_count": 1,
   "metadata": {},
   "outputs": [],
   "source": [
    "import pandas as pd"
   ]
  },
  {
   "cell_type": "code",
   "execution_count": 47,
   "metadata": {},
   "outputs": [],
   "source": [
    "pp2 = pd.read_csv('../data/전처리완료/집닥_견적pp.csv')"
   ]
  },
  {
   "cell_type": "code",
   "execution_count": 48,
   "metadata": {},
   "outputs": [
    {
     "data": {
      "text/html": [
       "<div>\n",
       "<style scoped>\n",
       "    .dataframe tbody tr th:only-of-type {\n",
       "        vertical-align: middle;\n",
       "    }\n",
       "\n",
       "    .dataframe tbody tr th {\n",
       "        vertical-align: top;\n",
       "    }\n",
       "\n",
       "    .dataframe thead th {\n",
       "        text-align: right;\n",
       "    }\n",
       "</style>\n",
       "<table border=\"1\" class=\"dataframe\">\n",
       "  <thead>\n",
       "    <tr style=\"text-align: right;\">\n",
       "      <th></th>\n",
       "      <th>견적일</th>\n",
       "      <th>유입경로</th>\n",
       "      <th>주/상</th>\n",
       "      <th>시공유형</th>\n",
       "      <th>주소</th>\n",
       "      <th>평수</th>\n",
       "      <th>공사예산(고객예산)</th>\n",
       "      <th>공사예산(CS확인예산)</th>\n",
       "      <th>DB 유형</th>\n",
       "      <th>시공범위</th>\n",
       "      <th>진행상태</th>\n",
       "      <th>종료여부</th>\n",
       "      <th>견적번호</th>\n",
       "      <th>요청</th>\n",
       "      <th>인입채널(UTM)</th>\n",
       "      <th>계약번호</th>\n",
       "    </tr>\n",
       "  </thead>\n",
       "  <tbody>\n",
       "    <tr>\n",
       "      <td>0</td>\n",
       "      <td>2019-07-31 21:56:35</td>\n",
       "      <td>웹-모바일웹상세</td>\n",
       "      <td>주거</td>\n",
       "      <td>아파트</td>\n",
       "      <td>경남 창원시 성산구 반림동 8 럭키반림아파트 10동 804호</td>\n",
       "      <td>31.0</td>\n",
       "      <td>NaN</td>\n",
       "      <td>4000 ~ 5000 만원</td>\n",
       "      <td>주거-고급</td>\n",
       "      <td>전체</td>\n",
       "      <td>방문상담</td>\n",
       "      <td>진행중</td>\n",
       "      <td>200037.0</td>\n",
       "      <td>방이 4개가 필요합니다\\r\\n안방을 아들 둘이 지낼수있도록 해서\\r\\n부부 각 방 ...</td>\n",
       "      <td>네이버검색광고_Mobile</td>\n",
       "      <td>NaN</td>\n",
       "    </tr>\n",
       "    <tr>\n",
       "      <td>1</td>\n",
       "      <td>2019-07-31 20:31:32</td>\n",
       "      <td>앱-아이폰간편</td>\n",
       "      <td>주거</td>\n",
       "      <td>아파트</td>\n",
       "      <td>서울 강동구 명일동 54 한양아파트 1동6층</td>\n",
       "      <td>42.0</td>\n",
       "      <td>NaN</td>\n",
       "      <td>4000 ~ 5000 만원</td>\n",
       "      <td>주거-고급</td>\n",
       "      <td>전체</td>\n",
       "      <td>방문상담</td>\n",
       "      <td>진행중</td>\n",
       "      <td>200030.0</td>\n",
       "      <td>배관공사 포함 샷시 \\r\\n모두 올수리입니다</td>\n",
       "      <td>NaN</td>\n",
       "      <td>NaN</td>\n",
       "    </tr>\n",
       "    <tr>\n",
       "      <td>2</td>\n",
       "      <td>2019-07-31 16:26:29</td>\n",
       "      <td>앱-안드로이드</td>\n",
       "      <td>주거</td>\n",
       "      <td>아파트</td>\n",
       "      <td>서울 강서구 가양동 1461 가양2단지아파트 202동 803호</td>\n",
       "      <td>24.0</td>\n",
       "      <td>NaN</td>\n",
       "      <td>1380 만원 이상</td>\n",
       "      <td>주거-기본</td>\n",
       "      <td>전체</td>\n",
       "      <td>계약완료</td>\n",
       "      <td>진행중</td>\n",
       "      <td>199988.0</td>\n",
       "      <td>NaN</td>\n",
       "      <td>NaN</td>\n",
       "      <td>9884.0</td>\n",
       "    </tr>\n",
       "    <tr>\n",
       "      <td>3</td>\n",
       "      <td>2019-07-31 15:30:32</td>\n",
       "      <td>웹-PC웹간편</td>\n",
       "      <td>주거</td>\n",
       "      <td>아파트</td>\n",
       "      <td>서울 성북구 돈암동 644 (아리랑로 75) 돈암코오롱하늘채 103동 606호</td>\n",
       "      <td>34.0</td>\n",
       "      <td>NaN</td>\n",
       "      <td>3000 ~ 4000 만원</td>\n",
       "      <td>주거-고급</td>\n",
       "      <td>전체</td>\n",
       "      <td>방문상담</td>\n",
       "      <td>진행중</td>\n",
       "      <td>199970.0</td>\n",
       "      <td>- 상담희망시간 : 무관\\r\\n- 현장위치 : 서울특별시 성북구 아리랑로 75 돈암...</td>\n",
       "      <td>NaN</td>\n",
       "      <td>NaN</td>\n",
       "    </tr>\n",
       "    <tr>\n",
       "      <td>4</td>\n",
       "      <td>2019-07-31 14:31:44</td>\n",
       "      <td>외부-믹스앤픽스</td>\n",
       "      <td>주거</td>\n",
       "      <td>아파트</td>\n",
       "      <td>서울 강동구 암사동 509 선사현대아파트 115동 16층</td>\n",
       "      <td>34.0</td>\n",
       "      <td>NaN</td>\n",
       "      <td>4000 ~ 4000 만원</td>\n",
       "      <td>주거-고급</td>\n",
       "      <td>전체</td>\n",
       "      <td>방문상담</td>\n",
       "      <td>진행중</td>\n",
       "      <td>199937.0</td>\n",
       "      <td>NaN</td>\n",
       "      <td>NaN</td>\n",
       "      <td>NaN</td>\n",
       "    </tr>\n",
       "  </tbody>\n",
       "</table>\n",
       "</div>"
      ],
      "text/plain": [
       "                   견적일      유입경로 주/상 시공유형  \\\n",
       "0  2019-07-31 21:56:35  웹-모바일웹상세  주거  아파트   \n",
       "1  2019-07-31 20:31:32   앱-아이폰간편  주거  아파트   \n",
       "2  2019-07-31 16:26:29   앱-안드로이드  주거  아파트   \n",
       "3  2019-07-31 15:30:32   웹-PC웹간편  주거  아파트   \n",
       "4  2019-07-31 14:31:44  외부-믹스앤픽스  주거  아파트   \n",
       "\n",
       "                                            주소    평수 공사예산(고객예산)  \\\n",
       "0           경남 창원시 성산구 반림동 8 럭키반림아파트 10동 804호   31.0        NaN   \n",
       "1                     서울 강동구 명일동 54 한양아파트 1동6층  42.0        NaN   \n",
       "2           서울 강서구 가양동 1461 가양2단지아파트 202동 803호  24.0        NaN   \n",
       "3  서울 성북구 돈암동 644 (아리랑로 75) 돈암코오롱하늘채 103동 606호  34.0        NaN   \n",
       "4             서울 강동구 암사동 509 선사현대아파트 115동 16층   34.0        NaN   \n",
       "\n",
       "     공사예산(CS확인예산)  DB 유형 시공범위  진행상태 종료여부      견적번호  \\\n",
       "0  4000 ~ 5000 만원  주거-고급   전체  방문상담  진행중  200037.0   \n",
       "1  4000 ~ 5000 만원  주거-고급   전체  방문상담  진행중  200030.0   \n",
       "2      1380 만원 이상  주거-기본   전체  계약완료  진행중  199988.0   \n",
       "3  3000 ~ 4000 만원  주거-고급   전체  방문상담  진행중  199970.0   \n",
       "4  4000 ~ 4000 만원  주거-고급   전체  방문상담  진행중  199937.0   \n",
       "\n",
       "                                                  요청       인입채널(UTM)    계약번호  \n",
       "0  방이 4개가 필요합니다\\r\\n안방을 아들 둘이 지낼수있도록 해서\\r\\n부부 각 방 ...  네이버검색광고_Mobile     NaN  \n",
       "1                           배관공사 포함 샷시 \\r\\n모두 올수리입니다             NaN     NaN  \n",
       "2                                                NaN             NaN  9884.0  \n",
       "3  - 상담희망시간 : 무관\\r\\n- 현장위치 : 서울특별시 성북구 아리랑로 75 돈암...             NaN     NaN  \n",
       "4                                                NaN             NaN     NaN  "
      ]
     },
     "execution_count": 48,
     "metadata": {},
     "output_type": "execute_result"
    }
   ],
   "source": [
    "pp2.head()"
   ]
  },
  {
   "cell_type": "code",
   "execution_count": 49,
   "metadata": {},
   "outputs": [
    {
     "data": {
      "text/plain": [
       "0    웹-모바일웹상세\n",
       "1     앱-아이폰간편\n",
       "2     앱-안드로이드\n",
       "3     웹-PC웹간편\n",
       "4    외부-믹스앤픽스\n",
       "Name: 유입경로, dtype: object"
      ]
     },
     "execution_count": 49,
     "metadata": {},
     "output_type": "execute_result"
    }
   ],
   "source": [
    "pp2['유입경로'].head()"
   ]
  },
  {
   "cell_type": "code",
   "execution_count": 50,
   "metadata": {},
   "outputs": [],
   "source": [
    "a = '웹-모바일상세'"
   ]
  },
  {
   "cell_type": "code",
   "execution_count": 51,
   "metadata": {},
   "outputs": [
    {
     "data": {
      "text/plain": [
       "['웹', '모바일상세']"
      ]
     },
     "execution_count": 51,
     "metadata": {},
     "output_type": "execute_result"
    }
   ],
   "source": [
    "a.split('-')"
   ]
  },
  {
   "cell_type": "code",
   "execution_count": 52,
   "metadata": {},
   "outputs": [],
   "source": [
    "pp2['유입경로1'] = pp2['유입경로'].str.split('-').str[0]"
   ]
  },
  {
   "cell_type": "code",
   "execution_count": 53,
   "metadata": {},
   "outputs": [
    {
     "data": {
      "text/html": [
       "<div>\n",
       "<style scoped>\n",
       "    .dataframe tbody tr th:only-of-type {\n",
       "        vertical-align: middle;\n",
       "    }\n",
       "\n",
       "    .dataframe tbody tr th {\n",
       "        vertical-align: top;\n",
       "    }\n",
       "\n",
       "    .dataframe thead th {\n",
       "        text-align: right;\n",
       "    }\n",
       "</style>\n",
       "<table border=\"1\" class=\"dataframe\">\n",
       "  <thead>\n",
       "    <tr style=\"text-align: right;\">\n",
       "      <th></th>\n",
       "      <th>견적일</th>\n",
       "      <th>유입경로</th>\n",
       "      <th>주/상</th>\n",
       "      <th>시공유형</th>\n",
       "      <th>주소</th>\n",
       "      <th>평수</th>\n",
       "      <th>공사예산(고객예산)</th>\n",
       "      <th>공사예산(CS확인예산)</th>\n",
       "      <th>DB 유형</th>\n",
       "      <th>시공범위</th>\n",
       "      <th>진행상태</th>\n",
       "      <th>종료여부</th>\n",
       "      <th>견적번호</th>\n",
       "      <th>요청</th>\n",
       "      <th>인입채널(UTM)</th>\n",
       "      <th>계약번호</th>\n",
       "      <th>유입경로1</th>\n",
       "    </tr>\n",
       "  </thead>\n",
       "  <tbody>\n",
       "    <tr>\n",
       "      <td>0</td>\n",
       "      <td>2019-07-31 21:56:35</td>\n",
       "      <td>웹-모바일웹상세</td>\n",
       "      <td>주거</td>\n",
       "      <td>아파트</td>\n",
       "      <td>경남 창원시 성산구 반림동 8 럭키반림아파트 10동 804호</td>\n",
       "      <td>31.0</td>\n",
       "      <td>NaN</td>\n",
       "      <td>4000 ~ 5000 만원</td>\n",
       "      <td>주거-고급</td>\n",
       "      <td>전체</td>\n",
       "      <td>방문상담</td>\n",
       "      <td>진행중</td>\n",
       "      <td>200037.0</td>\n",
       "      <td>방이 4개가 필요합니다\\r\\n안방을 아들 둘이 지낼수있도록 해서\\r\\n부부 각 방 ...</td>\n",
       "      <td>네이버검색광고_Mobile</td>\n",
       "      <td>NaN</td>\n",
       "      <td>웹</td>\n",
       "    </tr>\n",
       "    <tr>\n",
       "      <td>1</td>\n",
       "      <td>2019-07-31 20:31:32</td>\n",
       "      <td>앱-아이폰간편</td>\n",
       "      <td>주거</td>\n",
       "      <td>아파트</td>\n",
       "      <td>서울 강동구 명일동 54 한양아파트 1동6층</td>\n",
       "      <td>42.0</td>\n",
       "      <td>NaN</td>\n",
       "      <td>4000 ~ 5000 만원</td>\n",
       "      <td>주거-고급</td>\n",
       "      <td>전체</td>\n",
       "      <td>방문상담</td>\n",
       "      <td>진행중</td>\n",
       "      <td>200030.0</td>\n",
       "      <td>배관공사 포함 샷시 \\r\\n모두 올수리입니다</td>\n",
       "      <td>NaN</td>\n",
       "      <td>NaN</td>\n",
       "      <td>앱</td>\n",
       "    </tr>\n",
       "    <tr>\n",
       "      <td>2</td>\n",
       "      <td>2019-07-31 16:26:29</td>\n",
       "      <td>앱-안드로이드</td>\n",
       "      <td>주거</td>\n",
       "      <td>아파트</td>\n",
       "      <td>서울 강서구 가양동 1461 가양2단지아파트 202동 803호</td>\n",
       "      <td>24.0</td>\n",
       "      <td>NaN</td>\n",
       "      <td>1380 만원 이상</td>\n",
       "      <td>주거-기본</td>\n",
       "      <td>전체</td>\n",
       "      <td>계약완료</td>\n",
       "      <td>진행중</td>\n",
       "      <td>199988.0</td>\n",
       "      <td>NaN</td>\n",
       "      <td>NaN</td>\n",
       "      <td>9884.0</td>\n",
       "      <td>앱</td>\n",
       "    </tr>\n",
       "    <tr>\n",
       "      <td>3</td>\n",
       "      <td>2019-07-31 15:30:32</td>\n",
       "      <td>웹-PC웹간편</td>\n",
       "      <td>주거</td>\n",
       "      <td>아파트</td>\n",
       "      <td>서울 성북구 돈암동 644 (아리랑로 75) 돈암코오롱하늘채 103동 606호</td>\n",
       "      <td>34.0</td>\n",
       "      <td>NaN</td>\n",
       "      <td>3000 ~ 4000 만원</td>\n",
       "      <td>주거-고급</td>\n",
       "      <td>전체</td>\n",
       "      <td>방문상담</td>\n",
       "      <td>진행중</td>\n",
       "      <td>199970.0</td>\n",
       "      <td>- 상담희망시간 : 무관\\r\\n- 현장위치 : 서울특별시 성북구 아리랑로 75 돈암...</td>\n",
       "      <td>NaN</td>\n",
       "      <td>NaN</td>\n",
       "      <td>웹</td>\n",
       "    </tr>\n",
       "    <tr>\n",
       "      <td>4</td>\n",
       "      <td>2019-07-31 14:31:44</td>\n",
       "      <td>외부-믹스앤픽스</td>\n",
       "      <td>주거</td>\n",
       "      <td>아파트</td>\n",
       "      <td>서울 강동구 암사동 509 선사현대아파트 115동 16층</td>\n",
       "      <td>34.0</td>\n",
       "      <td>NaN</td>\n",
       "      <td>4000 ~ 4000 만원</td>\n",
       "      <td>주거-고급</td>\n",
       "      <td>전체</td>\n",
       "      <td>방문상담</td>\n",
       "      <td>진행중</td>\n",
       "      <td>199937.0</td>\n",
       "      <td>NaN</td>\n",
       "      <td>NaN</td>\n",
       "      <td>NaN</td>\n",
       "      <td>외부</td>\n",
       "    </tr>\n",
       "  </tbody>\n",
       "</table>\n",
       "</div>"
      ],
      "text/plain": [
       "                   견적일      유입경로 주/상 시공유형  \\\n",
       "0  2019-07-31 21:56:35  웹-모바일웹상세  주거  아파트   \n",
       "1  2019-07-31 20:31:32   앱-아이폰간편  주거  아파트   \n",
       "2  2019-07-31 16:26:29   앱-안드로이드  주거  아파트   \n",
       "3  2019-07-31 15:30:32   웹-PC웹간편  주거  아파트   \n",
       "4  2019-07-31 14:31:44  외부-믹스앤픽스  주거  아파트   \n",
       "\n",
       "                                            주소    평수 공사예산(고객예산)  \\\n",
       "0           경남 창원시 성산구 반림동 8 럭키반림아파트 10동 804호   31.0        NaN   \n",
       "1                     서울 강동구 명일동 54 한양아파트 1동6층  42.0        NaN   \n",
       "2           서울 강서구 가양동 1461 가양2단지아파트 202동 803호  24.0        NaN   \n",
       "3  서울 성북구 돈암동 644 (아리랑로 75) 돈암코오롱하늘채 103동 606호  34.0        NaN   \n",
       "4             서울 강동구 암사동 509 선사현대아파트 115동 16층   34.0        NaN   \n",
       "\n",
       "     공사예산(CS확인예산)  DB 유형 시공범위  진행상태 종료여부      견적번호  \\\n",
       "0  4000 ~ 5000 만원  주거-고급   전체  방문상담  진행중  200037.0   \n",
       "1  4000 ~ 5000 만원  주거-고급   전체  방문상담  진행중  200030.0   \n",
       "2      1380 만원 이상  주거-기본   전체  계약완료  진행중  199988.0   \n",
       "3  3000 ~ 4000 만원  주거-고급   전체  방문상담  진행중  199970.0   \n",
       "4  4000 ~ 4000 만원  주거-고급   전체  방문상담  진행중  199937.0   \n",
       "\n",
       "                                                  요청       인입채널(UTM)    계약번호  \\\n",
       "0  방이 4개가 필요합니다\\r\\n안방을 아들 둘이 지낼수있도록 해서\\r\\n부부 각 방 ...  네이버검색광고_Mobile     NaN   \n",
       "1                           배관공사 포함 샷시 \\r\\n모두 올수리입니다             NaN     NaN   \n",
       "2                                                NaN             NaN  9884.0   \n",
       "3  - 상담희망시간 : 무관\\r\\n- 현장위치 : 서울특별시 성북구 아리랑로 75 돈암...             NaN     NaN   \n",
       "4                                                NaN             NaN     NaN   \n",
       "\n",
       "  유입경로1  \n",
       "0     웹  \n",
       "1     앱  \n",
       "2     앱  \n",
       "3     웹  \n",
       "4    외부  "
      ]
     },
     "execution_count": 53,
     "metadata": {},
     "output_type": "execute_result"
    }
   ],
   "source": [
    "pp2.head()"
   ]
  },
  {
   "cell_type": "code",
   "execution_count": 54,
   "metadata": {},
   "outputs": [],
   "source": [
    "pp2['유입경로_상세'] = pp2['유입경로'].str.split('-').str[1]"
   ]
  },
  {
   "cell_type": "code",
   "execution_count": 55,
   "metadata": {},
   "outputs": [
    {
     "data": {
      "text/html": [
       "<div>\n",
       "<style scoped>\n",
       "    .dataframe tbody tr th:only-of-type {\n",
       "        vertical-align: middle;\n",
       "    }\n",
       "\n",
       "    .dataframe tbody tr th {\n",
       "        vertical-align: top;\n",
       "    }\n",
       "\n",
       "    .dataframe thead th {\n",
       "        text-align: right;\n",
       "    }\n",
       "</style>\n",
       "<table border=\"1\" class=\"dataframe\">\n",
       "  <thead>\n",
       "    <tr style=\"text-align: right;\">\n",
       "      <th></th>\n",
       "      <th>견적일</th>\n",
       "      <th>유입경로</th>\n",
       "      <th>주/상</th>\n",
       "      <th>시공유형</th>\n",
       "      <th>주소</th>\n",
       "      <th>평수</th>\n",
       "      <th>공사예산(고객예산)</th>\n",
       "      <th>공사예산(CS확인예산)</th>\n",
       "      <th>DB 유형</th>\n",
       "      <th>시공범위</th>\n",
       "      <th>진행상태</th>\n",
       "      <th>종료여부</th>\n",
       "      <th>견적번호</th>\n",
       "      <th>요청</th>\n",
       "      <th>인입채널(UTM)</th>\n",
       "      <th>계약번호</th>\n",
       "      <th>유입경로1</th>\n",
       "      <th>유입경로_상세</th>\n",
       "    </tr>\n",
       "  </thead>\n",
       "  <tbody>\n",
       "    <tr>\n",
       "      <td>0</td>\n",
       "      <td>2019-07-31 21:56:35</td>\n",
       "      <td>웹-모바일웹상세</td>\n",
       "      <td>주거</td>\n",
       "      <td>아파트</td>\n",
       "      <td>경남 창원시 성산구 반림동 8 럭키반림아파트 10동 804호</td>\n",
       "      <td>31.0</td>\n",
       "      <td>NaN</td>\n",
       "      <td>4000 ~ 5000 만원</td>\n",
       "      <td>주거-고급</td>\n",
       "      <td>전체</td>\n",
       "      <td>방문상담</td>\n",
       "      <td>진행중</td>\n",
       "      <td>200037.0</td>\n",
       "      <td>방이 4개가 필요합니다\\r\\n안방을 아들 둘이 지낼수있도록 해서\\r\\n부부 각 방 ...</td>\n",
       "      <td>네이버검색광고_Mobile</td>\n",
       "      <td>NaN</td>\n",
       "      <td>웹</td>\n",
       "      <td>모바일웹상세</td>\n",
       "    </tr>\n",
       "    <tr>\n",
       "      <td>1</td>\n",
       "      <td>2019-07-31 20:31:32</td>\n",
       "      <td>앱-아이폰간편</td>\n",
       "      <td>주거</td>\n",
       "      <td>아파트</td>\n",
       "      <td>서울 강동구 명일동 54 한양아파트 1동6층</td>\n",
       "      <td>42.0</td>\n",
       "      <td>NaN</td>\n",
       "      <td>4000 ~ 5000 만원</td>\n",
       "      <td>주거-고급</td>\n",
       "      <td>전체</td>\n",
       "      <td>방문상담</td>\n",
       "      <td>진행중</td>\n",
       "      <td>200030.0</td>\n",
       "      <td>배관공사 포함 샷시 \\r\\n모두 올수리입니다</td>\n",
       "      <td>NaN</td>\n",
       "      <td>NaN</td>\n",
       "      <td>앱</td>\n",
       "      <td>아이폰간편</td>\n",
       "    </tr>\n",
       "    <tr>\n",
       "      <td>2</td>\n",
       "      <td>2019-07-31 16:26:29</td>\n",
       "      <td>앱-안드로이드</td>\n",
       "      <td>주거</td>\n",
       "      <td>아파트</td>\n",
       "      <td>서울 강서구 가양동 1461 가양2단지아파트 202동 803호</td>\n",
       "      <td>24.0</td>\n",
       "      <td>NaN</td>\n",
       "      <td>1380 만원 이상</td>\n",
       "      <td>주거-기본</td>\n",
       "      <td>전체</td>\n",
       "      <td>계약완료</td>\n",
       "      <td>진행중</td>\n",
       "      <td>199988.0</td>\n",
       "      <td>NaN</td>\n",
       "      <td>NaN</td>\n",
       "      <td>9884.0</td>\n",
       "      <td>앱</td>\n",
       "      <td>안드로이드</td>\n",
       "    </tr>\n",
       "    <tr>\n",
       "      <td>3</td>\n",
       "      <td>2019-07-31 15:30:32</td>\n",
       "      <td>웹-PC웹간편</td>\n",
       "      <td>주거</td>\n",
       "      <td>아파트</td>\n",
       "      <td>서울 성북구 돈암동 644 (아리랑로 75) 돈암코오롱하늘채 103동 606호</td>\n",
       "      <td>34.0</td>\n",
       "      <td>NaN</td>\n",
       "      <td>3000 ~ 4000 만원</td>\n",
       "      <td>주거-고급</td>\n",
       "      <td>전체</td>\n",
       "      <td>방문상담</td>\n",
       "      <td>진행중</td>\n",
       "      <td>199970.0</td>\n",
       "      <td>- 상담희망시간 : 무관\\r\\n- 현장위치 : 서울특별시 성북구 아리랑로 75 돈암...</td>\n",
       "      <td>NaN</td>\n",
       "      <td>NaN</td>\n",
       "      <td>웹</td>\n",
       "      <td>PC웹간편</td>\n",
       "    </tr>\n",
       "    <tr>\n",
       "      <td>4</td>\n",
       "      <td>2019-07-31 14:31:44</td>\n",
       "      <td>외부-믹스앤픽스</td>\n",
       "      <td>주거</td>\n",
       "      <td>아파트</td>\n",
       "      <td>서울 강동구 암사동 509 선사현대아파트 115동 16층</td>\n",
       "      <td>34.0</td>\n",
       "      <td>NaN</td>\n",
       "      <td>4000 ~ 4000 만원</td>\n",
       "      <td>주거-고급</td>\n",
       "      <td>전체</td>\n",
       "      <td>방문상담</td>\n",
       "      <td>진행중</td>\n",
       "      <td>199937.0</td>\n",
       "      <td>NaN</td>\n",
       "      <td>NaN</td>\n",
       "      <td>NaN</td>\n",
       "      <td>외부</td>\n",
       "      <td>믹스앤픽스</td>\n",
       "    </tr>\n",
       "  </tbody>\n",
       "</table>\n",
       "</div>"
      ],
      "text/plain": [
       "                   견적일      유입경로 주/상 시공유형  \\\n",
       "0  2019-07-31 21:56:35  웹-모바일웹상세  주거  아파트   \n",
       "1  2019-07-31 20:31:32   앱-아이폰간편  주거  아파트   \n",
       "2  2019-07-31 16:26:29   앱-안드로이드  주거  아파트   \n",
       "3  2019-07-31 15:30:32   웹-PC웹간편  주거  아파트   \n",
       "4  2019-07-31 14:31:44  외부-믹스앤픽스  주거  아파트   \n",
       "\n",
       "                                            주소    평수 공사예산(고객예산)  \\\n",
       "0           경남 창원시 성산구 반림동 8 럭키반림아파트 10동 804호   31.0        NaN   \n",
       "1                     서울 강동구 명일동 54 한양아파트 1동6층  42.0        NaN   \n",
       "2           서울 강서구 가양동 1461 가양2단지아파트 202동 803호  24.0        NaN   \n",
       "3  서울 성북구 돈암동 644 (아리랑로 75) 돈암코오롱하늘채 103동 606호  34.0        NaN   \n",
       "4             서울 강동구 암사동 509 선사현대아파트 115동 16층   34.0        NaN   \n",
       "\n",
       "     공사예산(CS확인예산)  DB 유형 시공범위  진행상태 종료여부      견적번호  \\\n",
       "0  4000 ~ 5000 만원  주거-고급   전체  방문상담  진행중  200037.0   \n",
       "1  4000 ~ 5000 만원  주거-고급   전체  방문상담  진행중  200030.0   \n",
       "2      1380 만원 이상  주거-기본   전체  계약완료  진행중  199988.0   \n",
       "3  3000 ~ 4000 만원  주거-고급   전체  방문상담  진행중  199970.0   \n",
       "4  4000 ~ 4000 만원  주거-고급   전체  방문상담  진행중  199937.0   \n",
       "\n",
       "                                                  요청       인입채널(UTM)    계약번호  \\\n",
       "0  방이 4개가 필요합니다\\r\\n안방을 아들 둘이 지낼수있도록 해서\\r\\n부부 각 방 ...  네이버검색광고_Mobile     NaN   \n",
       "1                           배관공사 포함 샷시 \\r\\n모두 올수리입니다             NaN     NaN   \n",
       "2                                                NaN             NaN  9884.0   \n",
       "3  - 상담희망시간 : 무관\\r\\n- 현장위치 : 서울특별시 성북구 아리랑로 75 돈암...             NaN     NaN   \n",
       "4                                                NaN             NaN     NaN   \n",
       "\n",
       "  유입경로1 유입경로_상세  \n",
       "0     웹  모바일웹상세  \n",
       "1     앱   아이폰간편  \n",
       "2     앱   안드로이드  \n",
       "3     웹   PC웹간편  \n",
       "4    외부   믹스앤픽스  "
      ]
     },
     "execution_count": 55,
     "metadata": {},
     "output_type": "execute_result"
    }
   ],
   "source": [
    "pp2.head()"
   ]
  },
  {
   "cell_type": "code",
   "execution_count": 56,
   "metadata": {},
   "outputs": [],
   "source": [
    "del pp2['유입경로']"
   ]
  },
  {
   "cell_type": "code",
   "execution_count": 57,
   "metadata": {},
   "outputs": [
    {
     "data": {
      "text/html": [
       "<div>\n",
       "<style scoped>\n",
       "    .dataframe tbody tr th:only-of-type {\n",
       "        vertical-align: middle;\n",
       "    }\n",
       "\n",
       "    .dataframe tbody tr th {\n",
       "        vertical-align: top;\n",
       "    }\n",
       "\n",
       "    .dataframe thead th {\n",
       "        text-align: right;\n",
       "    }\n",
       "</style>\n",
       "<table border=\"1\" class=\"dataframe\">\n",
       "  <thead>\n",
       "    <tr style=\"text-align: right;\">\n",
       "      <th></th>\n",
       "      <th>견적일</th>\n",
       "      <th>주/상</th>\n",
       "      <th>시공유형</th>\n",
       "      <th>주소</th>\n",
       "      <th>평수</th>\n",
       "      <th>공사예산(고객예산)</th>\n",
       "      <th>공사예산(CS확인예산)</th>\n",
       "      <th>DB 유형</th>\n",
       "      <th>시공범위</th>\n",
       "      <th>진행상태</th>\n",
       "      <th>종료여부</th>\n",
       "      <th>견적번호</th>\n",
       "      <th>요청</th>\n",
       "      <th>인입채널(UTM)</th>\n",
       "      <th>계약번호</th>\n",
       "      <th>유입경로1</th>\n",
       "      <th>유입경로_상세</th>\n",
       "    </tr>\n",
       "  </thead>\n",
       "  <tbody>\n",
       "    <tr>\n",
       "      <td>0</td>\n",
       "      <td>2019-07-31 21:56:35</td>\n",
       "      <td>주거</td>\n",
       "      <td>아파트</td>\n",
       "      <td>경남 창원시 성산구 반림동 8 럭키반림아파트 10동 804호</td>\n",
       "      <td>31.0</td>\n",
       "      <td>NaN</td>\n",
       "      <td>4000 ~ 5000 만원</td>\n",
       "      <td>주거-고급</td>\n",
       "      <td>전체</td>\n",
       "      <td>방문상담</td>\n",
       "      <td>진행중</td>\n",
       "      <td>200037.0</td>\n",
       "      <td>방이 4개가 필요합니다\\r\\n안방을 아들 둘이 지낼수있도록 해서\\r\\n부부 각 방 ...</td>\n",
       "      <td>네이버검색광고_Mobile</td>\n",
       "      <td>NaN</td>\n",
       "      <td>웹</td>\n",
       "      <td>모바일웹상세</td>\n",
       "    </tr>\n",
       "    <tr>\n",
       "      <td>1</td>\n",
       "      <td>2019-07-31 20:31:32</td>\n",
       "      <td>주거</td>\n",
       "      <td>아파트</td>\n",
       "      <td>서울 강동구 명일동 54 한양아파트 1동6층</td>\n",
       "      <td>42.0</td>\n",
       "      <td>NaN</td>\n",
       "      <td>4000 ~ 5000 만원</td>\n",
       "      <td>주거-고급</td>\n",
       "      <td>전체</td>\n",
       "      <td>방문상담</td>\n",
       "      <td>진행중</td>\n",
       "      <td>200030.0</td>\n",
       "      <td>배관공사 포함 샷시 \\r\\n모두 올수리입니다</td>\n",
       "      <td>NaN</td>\n",
       "      <td>NaN</td>\n",
       "      <td>앱</td>\n",
       "      <td>아이폰간편</td>\n",
       "    </tr>\n",
       "    <tr>\n",
       "      <td>2</td>\n",
       "      <td>2019-07-31 16:26:29</td>\n",
       "      <td>주거</td>\n",
       "      <td>아파트</td>\n",
       "      <td>서울 강서구 가양동 1461 가양2단지아파트 202동 803호</td>\n",
       "      <td>24.0</td>\n",
       "      <td>NaN</td>\n",
       "      <td>1380 만원 이상</td>\n",
       "      <td>주거-기본</td>\n",
       "      <td>전체</td>\n",
       "      <td>계약완료</td>\n",
       "      <td>진행중</td>\n",
       "      <td>199988.0</td>\n",
       "      <td>NaN</td>\n",
       "      <td>NaN</td>\n",
       "      <td>9884.0</td>\n",
       "      <td>앱</td>\n",
       "      <td>안드로이드</td>\n",
       "    </tr>\n",
       "    <tr>\n",
       "      <td>3</td>\n",
       "      <td>2019-07-31 15:30:32</td>\n",
       "      <td>주거</td>\n",
       "      <td>아파트</td>\n",
       "      <td>서울 성북구 돈암동 644 (아리랑로 75) 돈암코오롱하늘채 103동 606호</td>\n",
       "      <td>34.0</td>\n",
       "      <td>NaN</td>\n",
       "      <td>3000 ~ 4000 만원</td>\n",
       "      <td>주거-고급</td>\n",
       "      <td>전체</td>\n",
       "      <td>방문상담</td>\n",
       "      <td>진행중</td>\n",
       "      <td>199970.0</td>\n",
       "      <td>- 상담희망시간 : 무관\\r\\n- 현장위치 : 서울특별시 성북구 아리랑로 75 돈암...</td>\n",
       "      <td>NaN</td>\n",
       "      <td>NaN</td>\n",
       "      <td>웹</td>\n",
       "      <td>PC웹간편</td>\n",
       "    </tr>\n",
       "    <tr>\n",
       "      <td>4</td>\n",
       "      <td>2019-07-31 14:31:44</td>\n",
       "      <td>주거</td>\n",
       "      <td>아파트</td>\n",
       "      <td>서울 강동구 암사동 509 선사현대아파트 115동 16층</td>\n",
       "      <td>34.0</td>\n",
       "      <td>NaN</td>\n",
       "      <td>4000 ~ 4000 만원</td>\n",
       "      <td>주거-고급</td>\n",
       "      <td>전체</td>\n",
       "      <td>방문상담</td>\n",
       "      <td>진행중</td>\n",
       "      <td>199937.0</td>\n",
       "      <td>NaN</td>\n",
       "      <td>NaN</td>\n",
       "      <td>NaN</td>\n",
       "      <td>외부</td>\n",
       "      <td>믹스앤픽스</td>\n",
       "    </tr>\n",
       "  </tbody>\n",
       "</table>\n",
       "</div>"
      ],
      "text/plain": [
       "                   견적일 주/상 시공유형                                           주소  \\\n",
       "0  2019-07-31 21:56:35  주거  아파트           경남 창원시 성산구 반림동 8 럭키반림아파트 10동 804호    \n",
       "1  2019-07-31 20:31:32  주거  아파트                     서울 강동구 명일동 54 한양아파트 1동6층   \n",
       "2  2019-07-31 16:26:29  주거  아파트           서울 강서구 가양동 1461 가양2단지아파트 202동 803호   \n",
       "3  2019-07-31 15:30:32  주거  아파트  서울 성북구 돈암동 644 (아리랑로 75) 돈암코오롱하늘채 103동 606호   \n",
       "4  2019-07-31 14:31:44  주거  아파트             서울 강동구 암사동 509 선사현대아파트 115동 16층    \n",
       "\n",
       "     평수 공사예산(고객예산)    공사예산(CS확인예산)  DB 유형 시공범위  진행상태 종료여부      견적번호  \\\n",
       "0  31.0        NaN  4000 ~ 5000 만원  주거-고급   전체  방문상담  진행중  200037.0   \n",
       "1  42.0        NaN  4000 ~ 5000 만원  주거-고급   전체  방문상담  진행중  200030.0   \n",
       "2  24.0        NaN      1380 만원 이상  주거-기본   전체  계약완료  진행중  199988.0   \n",
       "3  34.0        NaN  3000 ~ 4000 만원  주거-고급   전체  방문상담  진행중  199970.0   \n",
       "4  34.0        NaN  4000 ~ 4000 만원  주거-고급   전체  방문상담  진행중  199937.0   \n",
       "\n",
       "                                                  요청       인입채널(UTM)    계약번호  \\\n",
       "0  방이 4개가 필요합니다\\r\\n안방을 아들 둘이 지낼수있도록 해서\\r\\n부부 각 방 ...  네이버검색광고_Mobile     NaN   \n",
       "1                           배관공사 포함 샷시 \\r\\n모두 올수리입니다             NaN     NaN   \n",
       "2                                                NaN             NaN  9884.0   \n",
       "3  - 상담희망시간 : 무관\\r\\n- 현장위치 : 서울특별시 성북구 아리랑로 75 돈암...             NaN     NaN   \n",
       "4                                                NaN             NaN     NaN   \n",
       "\n",
       "  유입경로1 유입경로_상세  \n",
       "0     웹  모바일웹상세  \n",
       "1     앱   아이폰간편  \n",
       "2     앱   안드로이드  \n",
       "3     웹   PC웹간편  \n",
       "4    외부   믹스앤픽스  "
      ]
     },
     "execution_count": 57,
     "metadata": {},
     "output_type": "execute_result"
    }
   ],
   "source": [
    "pp2.head()"
   ]
  },
  {
   "cell_type": "code",
   "execution_count": 58,
   "metadata": {},
   "outputs": [],
   "source": [
    "pp2 = pp2.rename({'유입경로1':'유입경로'}, axis = 'columns')"
   ]
  },
  {
   "cell_type": "code",
   "execution_count": 59,
   "metadata": {},
   "outputs": [
    {
     "data": {
      "text/html": [
       "<div>\n",
       "<style scoped>\n",
       "    .dataframe tbody tr th:only-of-type {\n",
       "        vertical-align: middle;\n",
       "    }\n",
       "\n",
       "    .dataframe tbody tr th {\n",
       "        vertical-align: top;\n",
       "    }\n",
       "\n",
       "    .dataframe thead th {\n",
       "        text-align: right;\n",
       "    }\n",
       "</style>\n",
       "<table border=\"1\" class=\"dataframe\">\n",
       "  <thead>\n",
       "    <tr style=\"text-align: right;\">\n",
       "      <th></th>\n",
       "      <th>견적일</th>\n",
       "      <th>주/상</th>\n",
       "      <th>시공유형</th>\n",
       "      <th>주소</th>\n",
       "      <th>평수</th>\n",
       "      <th>공사예산(고객예산)</th>\n",
       "      <th>공사예산(CS확인예산)</th>\n",
       "      <th>DB 유형</th>\n",
       "      <th>시공범위</th>\n",
       "      <th>진행상태</th>\n",
       "      <th>종료여부</th>\n",
       "      <th>견적번호</th>\n",
       "      <th>요청</th>\n",
       "      <th>인입채널(UTM)</th>\n",
       "      <th>계약번호</th>\n",
       "      <th>유입경로</th>\n",
       "      <th>유입경로_상세</th>\n",
       "    </tr>\n",
       "  </thead>\n",
       "  <tbody>\n",
       "    <tr>\n",
       "      <td>0</td>\n",
       "      <td>2019-07-31 21:56:35</td>\n",
       "      <td>주거</td>\n",
       "      <td>아파트</td>\n",
       "      <td>경남 창원시 성산구 반림동 8 럭키반림아파트 10동 804호</td>\n",
       "      <td>31.0</td>\n",
       "      <td>NaN</td>\n",
       "      <td>4000 ~ 5000 만원</td>\n",
       "      <td>주거-고급</td>\n",
       "      <td>전체</td>\n",
       "      <td>방문상담</td>\n",
       "      <td>진행중</td>\n",
       "      <td>200037.0</td>\n",
       "      <td>방이 4개가 필요합니다\\r\\n안방을 아들 둘이 지낼수있도록 해서\\r\\n부부 각 방 ...</td>\n",
       "      <td>네이버검색광고_Mobile</td>\n",
       "      <td>NaN</td>\n",
       "      <td>웹</td>\n",
       "      <td>모바일웹상세</td>\n",
       "    </tr>\n",
       "    <tr>\n",
       "      <td>1</td>\n",
       "      <td>2019-07-31 20:31:32</td>\n",
       "      <td>주거</td>\n",
       "      <td>아파트</td>\n",
       "      <td>서울 강동구 명일동 54 한양아파트 1동6층</td>\n",
       "      <td>42.0</td>\n",
       "      <td>NaN</td>\n",
       "      <td>4000 ~ 5000 만원</td>\n",
       "      <td>주거-고급</td>\n",
       "      <td>전체</td>\n",
       "      <td>방문상담</td>\n",
       "      <td>진행중</td>\n",
       "      <td>200030.0</td>\n",
       "      <td>배관공사 포함 샷시 \\r\\n모두 올수리입니다</td>\n",
       "      <td>NaN</td>\n",
       "      <td>NaN</td>\n",
       "      <td>앱</td>\n",
       "      <td>아이폰간편</td>\n",
       "    </tr>\n",
       "    <tr>\n",
       "      <td>2</td>\n",
       "      <td>2019-07-31 16:26:29</td>\n",
       "      <td>주거</td>\n",
       "      <td>아파트</td>\n",
       "      <td>서울 강서구 가양동 1461 가양2단지아파트 202동 803호</td>\n",
       "      <td>24.0</td>\n",
       "      <td>NaN</td>\n",
       "      <td>1380 만원 이상</td>\n",
       "      <td>주거-기본</td>\n",
       "      <td>전체</td>\n",
       "      <td>계약완료</td>\n",
       "      <td>진행중</td>\n",
       "      <td>199988.0</td>\n",
       "      <td>NaN</td>\n",
       "      <td>NaN</td>\n",
       "      <td>9884.0</td>\n",
       "      <td>앱</td>\n",
       "      <td>안드로이드</td>\n",
       "    </tr>\n",
       "    <tr>\n",
       "      <td>3</td>\n",
       "      <td>2019-07-31 15:30:32</td>\n",
       "      <td>주거</td>\n",
       "      <td>아파트</td>\n",
       "      <td>서울 성북구 돈암동 644 (아리랑로 75) 돈암코오롱하늘채 103동 606호</td>\n",
       "      <td>34.0</td>\n",
       "      <td>NaN</td>\n",
       "      <td>3000 ~ 4000 만원</td>\n",
       "      <td>주거-고급</td>\n",
       "      <td>전체</td>\n",
       "      <td>방문상담</td>\n",
       "      <td>진행중</td>\n",
       "      <td>199970.0</td>\n",
       "      <td>- 상담희망시간 : 무관\\r\\n- 현장위치 : 서울특별시 성북구 아리랑로 75 돈암...</td>\n",
       "      <td>NaN</td>\n",
       "      <td>NaN</td>\n",
       "      <td>웹</td>\n",
       "      <td>PC웹간편</td>\n",
       "    </tr>\n",
       "    <tr>\n",
       "      <td>4</td>\n",
       "      <td>2019-07-31 14:31:44</td>\n",
       "      <td>주거</td>\n",
       "      <td>아파트</td>\n",
       "      <td>서울 강동구 암사동 509 선사현대아파트 115동 16층</td>\n",
       "      <td>34.0</td>\n",
       "      <td>NaN</td>\n",
       "      <td>4000 ~ 4000 만원</td>\n",
       "      <td>주거-고급</td>\n",
       "      <td>전체</td>\n",
       "      <td>방문상담</td>\n",
       "      <td>진행중</td>\n",
       "      <td>199937.0</td>\n",
       "      <td>NaN</td>\n",
       "      <td>NaN</td>\n",
       "      <td>NaN</td>\n",
       "      <td>외부</td>\n",
       "      <td>믹스앤픽스</td>\n",
       "    </tr>\n",
       "  </tbody>\n",
       "</table>\n",
       "</div>"
      ],
      "text/plain": [
       "                   견적일 주/상 시공유형                                           주소  \\\n",
       "0  2019-07-31 21:56:35  주거  아파트           경남 창원시 성산구 반림동 8 럭키반림아파트 10동 804호    \n",
       "1  2019-07-31 20:31:32  주거  아파트                     서울 강동구 명일동 54 한양아파트 1동6층   \n",
       "2  2019-07-31 16:26:29  주거  아파트           서울 강서구 가양동 1461 가양2단지아파트 202동 803호   \n",
       "3  2019-07-31 15:30:32  주거  아파트  서울 성북구 돈암동 644 (아리랑로 75) 돈암코오롱하늘채 103동 606호   \n",
       "4  2019-07-31 14:31:44  주거  아파트             서울 강동구 암사동 509 선사현대아파트 115동 16층    \n",
       "\n",
       "     평수 공사예산(고객예산)    공사예산(CS확인예산)  DB 유형 시공범위  진행상태 종료여부      견적번호  \\\n",
       "0  31.0        NaN  4000 ~ 5000 만원  주거-고급   전체  방문상담  진행중  200037.0   \n",
       "1  42.0        NaN  4000 ~ 5000 만원  주거-고급   전체  방문상담  진행중  200030.0   \n",
       "2  24.0        NaN      1380 만원 이상  주거-기본   전체  계약완료  진행중  199988.0   \n",
       "3  34.0        NaN  3000 ~ 4000 만원  주거-고급   전체  방문상담  진행중  199970.0   \n",
       "4  34.0        NaN  4000 ~ 4000 만원  주거-고급   전체  방문상담  진행중  199937.0   \n",
       "\n",
       "                                                  요청       인입채널(UTM)    계약번호  \\\n",
       "0  방이 4개가 필요합니다\\r\\n안방을 아들 둘이 지낼수있도록 해서\\r\\n부부 각 방 ...  네이버검색광고_Mobile     NaN   \n",
       "1                           배관공사 포함 샷시 \\r\\n모두 올수리입니다             NaN     NaN   \n",
       "2                                                NaN             NaN  9884.0   \n",
       "3  - 상담희망시간 : 무관\\r\\n- 현장위치 : 서울특별시 성북구 아리랑로 75 돈암...             NaN     NaN   \n",
       "4                                                NaN             NaN     NaN   \n",
       "\n",
       "  유입경로 유입경로_상세  \n",
       "0    웹  모바일웹상세  \n",
       "1    앱   아이폰간편  \n",
       "2    앱   안드로이드  \n",
       "3    웹   PC웹간편  \n",
       "4   외부   믹스앤픽스  "
      ]
     },
     "execution_count": 59,
     "metadata": {},
     "output_type": "execute_result"
    }
   ],
   "source": [
    "pp2.head()"
   ]
  },
  {
   "cell_type": "code",
   "execution_count": 60,
   "metadata": {},
   "outputs": [],
   "source": [
    "pp2 = pp2.rename({'공사예산(고객예산)':'공사예산_고객예산', '공사예산(CS확인예산)': '공사예산_CS확인예산'}, axis = 'columns')"
   ]
  },
  {
   "cell_type": "code",
   "execution_count": 61,
   "metadata": {},
   "outputs": [
    {
     "data": {
      "text/plain": [
       "Index(['견적일', '주/상', '시공유형', '주소', '평수', '공사예산_고객예산', '공사예산_CS확인예산', 'DB 유형',\n",
       "       '시공범위', '진행상태', '종료여부', '견적번호', '요청', '인입채널(UTM)', '계약번호', '유입경로',\n",
       "       '유입경로_상세'],\n",
       "      dtype='object')"
      ]
     },
     "execution_count": 61,
     "metadata": {},
     "output_type": "execute_result"
    }
   ],
   "source": [
    "pp2.columns"
   ]
  },
  {
   "cell_type": "code",
   "execution_count": 62,
   "metadata": {},
   "outputs": [],
   "source": [
    "pp2 = pp2.rename({'인입채널(UTM)': '인입채널_UTM'}, axis = 'columns')"
   ]
  },
  {
   "cell_type": "code",
   "execution_count": 63,
   "metadata": {},
   "outputs": [
    {
     "data": {
      "text/plain": [
       "Index(['견적일', '주/상', '시공유형', '주소', '평수', '공사예산_고객예산', '공사예산_CS확인예산', 'DB 유형',\n",
       "       '시공범위', '진행상태', '종료여부', '견적번호', '요청', '인입채널_UTM', '계약번호', '유입경로',\n",
       "       '유입경로_상세'],\n",
       "      dtype='object')"
      ]
     },
     "execution_count": 63,
     "metadata": {},
     "output_type": "execute_result"
    }
   ],
   "source": [
    "pp2.columns"
   ]
  },
  {
   "cell_type": "code",
   "execution_count": 64,
   "metadata": {},
   "outputs": [],
   "source": [
    "pp2 = pp2.rename({'주/상':'대상구분', '시공유형': '시공대상'}, axis = 'columns')"
   ]
  },
  {
   "cell_type": "code",
   "execution_count": 65,
   "metadata": {},
   "outputs": [
    {
     "data": {
      "text/html": [
       "<div>\n",
       "<style scoped>\n",
       "    .dataframe tbody tr th:only-of-type {\n",
       "        vertical-align: middle;\n",
       "    }\n",
       "\n",
       "    .dataframe tbody tr th {\n",
       "        vertical-align: top;\n",
       "    }\n",
       "\n",
       "    .dataframe thead th {\n",
       "        text-align: right;\n",
       "    }\n",
       "</style>\n",
       "<table border=\"1\" class=\"dataframe\">\n",
       "  <thead>\n",
       "    <tr style=\"text-align: right;\">\n",
       "      <th></th>\n",
       "      <th>견적일</th>\n",
       "      <th>대상구분</th>\n",
       "      <th>시공대상</th>\n",
       "      <th>주소</th>\n",
       "      <th>평수</th>\n",
       "      <th>공사예산_고객예산</th>\n",
       "      <th>공사예산_CS확인예산</th>\n",
       "      <th>DB 유형</th>\n",
       "      <th>시공범위</th>\n",
       "      <th>진행상태</th>\n",
       "      <th>종료여부</th>\n",
       "      <th>견적번호</th>\n",
       "      <th>요청</th>\n",
       "      <th>인입채널_UTM</th>\n",
       "      <th>계약번호</th>\n",
       "      <th>유입경로</th>\n",
       "      <th>유입경로_상세</th>\n",
       "    </tr>\n",
       "  </thead>\n",
       "  <tbody>\n",
       "    <tr>\n",
       "      <td>0</td>\n",
       "      <td>2019-07-31 21:56:35</td>\n",
       "      <td>주거</td>\n",
       "      <td>아파트</td>\n",
       "      <td>경남 창원시 성산구 반림동 8 럭키반림아파트 10동 804호</td>\n",
       "      <td>31.0</td>\n",
       "      <td>NaN</td>\n",
       "      <td>4000 ~ 5000 만원</td>\n",
       "      <td>주거-고급</td>\n",
       "      <td>전체</td>\n",
       "      <td>방문상담</td>\n",
       "      <td>진행중</td>\n",
       "      <td>200037.0</td>\n",
       "      <td>방이 4개가 필요합니다\\r\\n안방을 아들 둘이 지낼수있도록 해서\\r\\n부부 각 방 ...</td>\n",
       "      <td>네이버검색광고_Mobile</td>\n",
       "      <td>NaN</td>\n",
       "      <td>웹</td>\n",
       "      <td>모바일웹상세</td>\n",
       "    </tr>\n",
       "    <tr>\n",
       "      <td>1</td>\n",
       "      <td>2019-07-31 20:31:32</td>\n",
       "      <td>주거</td>\n",
       "      <td>아파트</td>\n",
       "      <td>서울 강동구 명일동 54 한양아파트 1동6층</td>\n",
       "      <td>42.0</td>\n",
       "      <td>NaN</td>\n",
       "      <td>4000 ~ 5000 만원</td>\n",
       "      <td>주거-고급</td>\n",
       "      <td>전체</td>\n",
       "      <td>방문상담</td>\n",
       "      <td>진행중</td>\n",
       "      <td>200030.0</td>\n",
       "      <td>배관공사 포함 샷시 \\r\\n모두 올수리입니다</td>\n",
       "      <td>NaN</td>\n",
       "      <td>NaN</td>\n",
       "      <td>앱</td>\n",
       "      <td>아이폰간편</td>\n",
       "    </tr>\n",
       "    <tr>\n",
       "      <td>2</td>\n",
       "      <td>2019-07-31 16:26:29</td>\n",
       "      <td>주거</td>\n",
       "      <td>아파트</td>\n",
       "      <td>서울 강서구 가양동 1461 가양2단지아파트 202동 803호</td>\n",
       "      <td>24.0</td>\n",
       "      <td>NaN</td>\n",
       "      <td>1380 만원 이상</td>\n",
       "      <td>주거-기본</td>\n",
       "      <td>전체</td>\n",
       "      <td>계약완료</td>\n",
       "      <td>진행중</td>\n",
       "      <td>199988.0</td>\n",
       "      <td>NaN</td>\n",
       "      <td>NaN</td>\n",
       "      <td>9884.0</td>\n",
       "      <td>앱</td>\n",
       "      <td>안드로이드</td>\n",
       "    </tr>\n",
       "    <tr>\n",
       "      <td>3</td>\n",
       "      <td>2019-07-31 15:30:32</td>\n",
       "      <td>주거</td>\n",
       "      <td>아파트</td>\n",
       "      <td>서울 성북구 돈암동 644 (아리랑로 75) 돈암코오롱하늘채 103동 606호</td>\n",
       "      <td>34.0</td>\n",
       "      <td>NaN</td>\n",
       "      <td>3000 ~ 4000 만원</td>\n",
       "      <td>주거-고급</td>\n",
       "      <td>전체</td>\n",
       "      <td>방문상담</td>\n",
       "      <td>진행중</td>\n",
       "      <td>199970.0</td>\n",
       "      <td>- 상담희망시간 : 무관\\r\\n- 현장위치 : 서울특별시 성북구 아리랑로 75 돈암...</td>\n",
       "      <td>NaN</td>\n",
       "      <td>NaN</td>\n",
       "      <td>웹</td>\n",
       "      <td>PC웹간편</td>\n",
       "    </tr>\n",
       "    <tr>\n",
       "      <td>4</td>\n",
       "      <td>2019-07-31 14:31:44</td>\n",
       "      <td>주거</td>\n",
       "      <td>아파트</td>\n",
       "      <td>서울 강동구 암사동 509 선사현대아파트 115동 16층</td>\n",
       "      <td>34.0</td>\n",
       "      <td>NaN</td>\n",
       "      <td>4000 ~ 4000 만원</td>\n",
       "      <td>주거-고급</td>\n",
       "      <td>전체</td>\n",
       "      <td>방문상담</td>\n",
       "      <td>진행중</td>\n",
       "      <td>199937.0</td>\n",
       "      <td>NaN</td>\n",
       "      <td>NaN</td>\n",
       "      <td>NaN</td>\n",
       "      <td>외부</td>\n",
       "      <td>믹스앤픽스</td>\n",
       "    </tr>\n",
       "  </tbody>\n",
       "</table>\n",
       "</div>"
      ],
      "text/plain": [
       "                   견적일 대상구분 시공대상                                           주소  \\\n",
       "0  2019-07-31 21:56:35   주거  아파트           경남 창원시 성산구 반림동 8 럭키반림아파트 10동 804호    \n",
       "1  2019-07-31 20:31:32   주거  아파트                     서울 강동구 명일동 54 한양아파트 1동6층   \n",
       "2  2019-07-31 16:26:29   주거  아파트           서울 강서구 가양동 1461 가양2단지아파트 202동 803호   \n",
       "3  2019-07-31 15:30:32   주거  아파트  서울 성북구 돈암동 644 (아리랑로 75) 돈암코오롱하늘채 103동 606호   \n",
       "4  2019-07-31 14:31:44   주거  아파트             서울 강동구 암사동 509 선사현대아파트 115동 16층    \n",
       "\n",
       "     평수 공사예산_고객예산     공사예산_CS확인예산  DB 유형 시공범위  진행상태 종료여부      견적번호  \\\n",
       "0  31.0       NaN  4000 ~ 5000 만원  주거-고급   전체  방문상담  진행중  200037.0   \n",
       "1  42.0       NaN  4000 ~ 5000 만원  주거-고급   전체  방문상담  진행중  200030.0   \n",
       "2  24.0       NaN      1380 만원 이상  주거-기본   전체  계약완료  진행중  199988.0   \n",
       "3  34.0       NaN  3000 ~ 4000 만원  주거-고급   전체  방문상담  진행중  199970.0   \n",
       "4  34.0       NaN  4000 ~ 4000 만원  주거-고급   전체  방문상담  진행중  199937.0   \n",
       "\n",
       "                                                  요청        인입채널_UTM    계약번호  \\\n",
       "0  방이 4개가 필요합니다\\r\\n안방을 아들 둘이 지낼수있도록 해서\\r\\n부부 각 방 ...  네이버검색광고_Mobile     NaN   \n",
       "1                           배관공사 포함 샷시 \\r\\n모두 올수리입니다             NaN     NaN   \n",
       "2                                                NaN             NaN  9884.0   \n",
       "3  - 상담희망시간 : 무관\\r\\n- 현장위치 : 서울특별시 성북구 아리랑로 75 돈암...             NaN     NaN   \n",
       "4                                                NaN             NaN     NaN   \n",
       "\n",
       "  유입경로 유입경로_상세  \n",
       "0    웹  모바일웹상세  \n",
       "1    앱   아이폰간편  \n",
       "2    앱   안드로이드  \n",
       "3    웹   PC웹간편  \n",
       "4   외부   믹스앤픽스  "
      ]
     },
     "execution_count": 65,
     "metadata": {},
     "output_type": "execute_result"
    }
   ],
   "source": [
    "pp2.head()"
   ]
  },
  {
   "cell_type": "code",
   "execution_count": 68,
   "metadata": {},
   "outputs": [],
   "source": [
    "pp2['대상구분'] = '주거공간'"
   ]
  },
  {
   "cell_type": "code",
   "execution_count": 69,
   "metadata": {},
   "outputs": [
    {
     "data": {
      "text/html": [
       "<div>\n",
       "<style scoped>\n",
       "    .dataframe tbody tr th:only-of-type {\n",
       "        vertical-align: middle;\n",
       "    }\n",
       "\n",
       "    .dataframe tbody tr th {\n",
       "        vertical-align: top;\n",
       "    }\n",
       "\n",
       "    .dataframe thead th {\n",
       "        text-align: right;\n",
       "    }\n",
       "</style>\n",
       "<table border=\"1\" class=\"dataframe\">\n",
       "  <thead>\n",
       "    <tr style=\"text-align: right;\">\n",
       "      <th></th>\n",
       "      <th>견적일</th>\n",
       "      <th>대상구분</th>\n",
       "      <th>시공대상</th>\n",
       "      <th>주소</th>\n",
       "      <th>평수</th>\n",
       "      <th>공사예산_고객예산</th>\n",
       "      <th>공사예산_CS확인예산</th>\n",
       "      <th>DB 유형</th>\n",
       "      <th>시공범위</th>\n",
       "      <th>진행상태</th>\n",
       "      <th>종료여부</th>\n",
       "      <th>견적번호</th>\n",
       "      <th>요청</th>\n",
       "      <th>인입채널_UTM</th>\n",
       "      <th>계약번호</th>\n",
       "      <th>유입경로</th>\n",
       "      <th>유입경로_상세</th>\n",
       "    </tr>\n",
       "  </thead>\n",
       "  <tbody>\n",
       "    <tr>\n",
       "      <td>0</td>\n",
       "      <td>2019-07-31 21:56:35</td>\n",
       "      <td>주거공간</td>\n",
       "      <td>아파트</td>\n",
       "      <td>경남 창원시 성산구 반림동 8 럭키반림아파트 10동 804호</td>\n",
       "      <td>31.0</td>\n",
       "      <td>NaN</td>\n",
       "      <td>4000 ~ 5000 만원</td>\n",
       "      <td>주거-고급</td>\n",
       "      <td>전체</td>\n",
       "      <td>방문상담</td>\n",
       "      <td>진행중</td>\n",
       "      <td>200037.0</td>\n",
       "      <td>방이 4개가 필요합니다\\r\\n안방을 아들 둘이 지낼수있도록 해서\\r\\n부부 각 방 ...</td>\n",
       "      <td>네이버검색광고_Mobile</td>\n",
       "      <td>NaN</td>\n",
       "      <td>웹</td>\n",
       "      <td>모바일웹상세</td>\n",
       "    </tr>\n",
       "    <tr>\n",
       "      <td>1</td>\n",
       "      <td>2019-07-31 20:31:32</td>\n",
       "      <td>주거공간</td>\n",
       "      <td>아파트</td>\n",
       "      <td>서울 강동구 명일동 54 한양아파트 1동6층</td>\n",
       "      <td>42.0</td>\n",
       "      <td>NaN</td>\n",
       "      <td>4000 ~ 5000 만원</td>\n",
       "      <td>주거-고급</td>\n",
       "      <td>전체</td>\n",
       "      <td>방문상담</td>\n",
       "      <td>진행중</td>\n",
       "      <td>200030.0</td>\n",
       "      <td>배관공사 포함 샷시 \\r\\n모두 올수리입니다</td>\n",
       "      <td>NaN</td>\n",
       "      <td>NaN</td>\n",
       "      <td>앱</td>\n",
       "      <td>아이폰간편</td>\n",
       "    </tr>\n",
       "    <tr>\n",
       "      <td>2</td>\n",
       "      <td>2019-07-31 16:26:29</td>\n",
       "      <td>주거공간</td>\n",
       "      <td>아파트</td>\n",
       "      <td>서울 강서구 가양동 1461 가양2단지아파트 202동 803호</td>\n",
       "      <td>24.0</td>\n",
       "      <td>NaN</td>\n",
       "      <td>1380 만원 이상</td>\n",
       "      <td>주거-기본</td>\n",
       "      <td>전체</td>\n",
       "      <td>계약완료</td>\n",
       "      <td>진행중</td>\n",
       "      <td>199988.0</td>\n",
       "      <td>NaN</td>\n",
       "      <td>NaN</td>\n",
       "      <td>9884.0</td>\n",
       "      <td>앱</td>\n",
       "      <td>안드로이드</td>\n",
       "    </tr>\n",
       "    <tr>\n",
       "      <td>3</td>\n",
       "      <td>2019-07-31 15:30:32</td>\n",
       "      <td>주거공간</td>\n",
       "      <td>아파트</td>\n",
       "      <td>서울 성북구 돈암동 644 (아리랑로 75) 돈암코오롱하늘채 103동 606호</td>\n",
       "      <td>34.0</td>\n",
       "      <td>NaN</td>\n",
       "      <td>3000 ~ 4000 만원</td>\n",
       "      <td>주거-고급</td>\n",
       "      <td>전체</td>\n",
       "      <td>방문상담</td>\n",
       "      <td>진행중</td>\n",
       "      <td>199970.0</td>\n",
       "      <td>- 상담희망시간 : 무관\\r\\n- 현장위치 : 서울특별시 성북구 아리랑로 75 돈암...</td>\n",
       "      <td>NaN</td>\n",
       "      <td>NaN</td>\n",
       "      <td>웹</td>\n",
       "      <td>PC웹간편</td>\n",
       "    </tr>\n",
       "    <tr>\n",
       "      <td>4</td>\n",
       "      <td>2019-07-31 14:31:44</td>\n",
       "      <td>주거공간</td>\n",
       "      <td>아파트</td>\n",
       "      <td>서울 강동구 암사동 509 선사현대아파트 115동 16층</td>\n",
       "      <td>34.0</td>\n",
       "      <td>NaN</td>\n",
       "      <td>4000 ~ 4000 만원</td>\n",
       "      <td>주거-고급</td>\n",
       "      <td>전체</td>\n",
       "      <td>방문상담</td>\n",
       "      <td>진행중</td>\n",
       "      <td>199937.0</td>\n",
       "      <td>NaN</td>\n",
       "      <td>NaN</td>\n",
       "      <td>NaN</td>\n",
       "      <td>외부</td>\n",
       "      <td>믹스앤픽스</td>\n",
       "    </tr>\n",
       "  </tbody>\n",
       "</table>\n",
       "</div>"
      ],
      "text/plain": [
       "                   견적일  대상구분 시공대상  \\\n",
       "0  2019-07-31 21:56:35  주거공간  아파트   \n",
       "1  2019-07-31 20:31:32  주거공간  아파트   \n",
       "2  2019-07-31 16:26:29  주거공간  아파트   \n",
       "3  2019-07-31 15:30:32  주거공간  아파트   \n",
       "4  2019-07-31 14:31:44  주거공간  아파트   \n",
       "\n",
       "                                            주소    평수 공사예산_고객예산  \\\n",
       "0           경남 창원시 성산구 반림동 8 럭키반림아파트 10동 804호   31.0       NaN   \n",
       "1                     서울 강동구 명일동 54 한양아파트 1동6층  42.0       NaN   \n",
       "2           서울 강서구 가양동 1461 가양2단지아파트 202동 803호  24.0       NaN   \n",
       "3  서울 성북구 돈암동 644 (아리랑로 75) 돈암코오롱하늘채 103동 606호  34.0       NaN   \n",
       "4             서울 강동구 암사동 509 선사현대아파트 115동 16층   34.0       NaN   \n",
       "\n",
       "      공사예산_CS확인예산  DB 유형 시공범위  진행상태 종료여부      견적번호  \\\n",
       "0  4000 ~ 5000 만원  주거-고급   전체  방문상담  진행중  200037.0   \n",
       "1  4000 ~ 5000 만원  주거-고급   전체  방문상담  진행중  200030.0   \n",
       "2      1380 만원 이상  주거-기본   전체  계약완료  진행중  199988.0   \n",
       "3  3000 ~ 4000 만원  주거-고급   전체  방문상담  진행중  199970.0   \n",
       "4  4000 ~ 4000 만원  주거-고급   전체  방문상담  진행중  199937.0   \n",
       "\n",
       "                                                  요청        인입채널_UTM    계약번호  \\\n",
       "0  방이 4개가 필요합니다\\r\\n안방을 아들 둘이 지낼수있도록 해서\\r\\n부부 각 방 ...  네이버검색광고_Mobile     NaN   \n",
       "1                           배관공사 포함 샷시 \\r\\n모두 올수리입니다             NaN     NaN   \n",
       "2                                                NaN             NaN  9884.0   \n",
       "3  - 상담희망시간 : 무관\\r\\n- 현장위치 : 서울특별시 성북구 아리랑로 75 돈암...             NaN     NaN   \n",
       "4                                                NaN             NaN     NaN   \n",
       "\n",
       "  유입경로 유입경로_상세  \n",
       "0    웹  모바일웹상세  \n",
       "1    앱   아이폰간편  \n",
       "2    앱   안드로이드  \n",
       "3    웹   PC웹간편  \n",
       "4   외부   믹스앤픽스  "
      ]
     },
     "execution_count": 69,
     "metadata": {},
     "output_type": "execute_result"
    }
   ],
   "source": [
    "pp2.head()"
   ]
  },
  {
   "cell_type": "code",
   "execution_count": 72,
   "metadata": {},
   "outputs": [],
   "source": [
    "pp2.to_csv('../data/전처리완료/집닥_견적pp1.csv', header=True, index=False)"
   ]
  },
  {
   "cell_type": "code",
   "execution_count": 71,
   "metadata": {},
   "outputs": [
    {
     "data": {
      "text/plain": [
       "Index(['견적일', '대상구분', '시공대상', '주소', '평수', '공사예산_고객예산', '공사예산_CS확인예산', 'DB 유형',\n",
       "       '시공범위', '진행상태', '종료여부', '견적번호', '요청', '인입채널_UTM', '계약번호', '유입경로',\n",
       "       '유입경로_상세'],\n",
       "      dtype='object')"
      ]
     },
     "execution_count": 71,
     "metadata": {},
     "output_type": "execute_result"
    }
   ],
   "source": [
    "pp2.columns"
   ]
  },
  {
   "cell_type": "markdown",
   "metadata": {},
   "source": [
    "# 공사예산_고객예산 처리"
   ]
  },
  {
   "cell_type": "code",
   "execution_count": 119,
   "metadata": {},
   "outputs": [],
   "source": [
    "pp = pd.read_csv('../data/전처리완료/집닥_견적pp1.csv')"
   ]
  },
  {
   "cell_type": "code",
   "execution_count": 120,
   "metadata": {},
   "outputs": [
    {
     "data": {
      "text/html": [
       "<div>\n",
       "<style scoped>\n",
       "    .dataframe tbody tr th:only-of-type {\n",
       "        vertical-align: middle;\n",
       "    }\n",
       "\n",
       "    .dataframe tbody tr th {\n",
       "        vertical-align: top;\n",
       "    }\n",
       "\n",
       "    .dataframe thead th {\n",
       "        text-align: right;\n",
       "    }\n",
       "</style>\n",
       "<table border=\"1\" class=\"dataframe\">\n",
       "  <thead>\n",
       "    <tr style=\"text-align: right;\">\n",
       "      <th></th>\n",
       "      <th>견적일</th>\n",
       "      <th>대상구분</th>\n",
       "      <th>시공대상</th>\n",
       "      <th>주소</th>\n",
       "      <th>평수</th>\n",
       "      <th>공사예산_고객예산</th>\n",
       "      <th>공사예산_CS확인예산</th>\n",
       "      <th>DB 유형</th>\n",
       "      <th>시공범위</th>\n",
       "      <th>진행상태</th>\n",
       "      <th>종료여부</th>\n",
       "      <th>견적번호</th>\n",
       "      <th>요청</th>\n",
       "      <th>인입채널_UTM</th>\n",
       "      <th>계약번호</th>\n",
       "      <th>유입경로</th>\n",
       "      <th>유입경로_상세</th>\n",
       "    </tr>\n",
       "  </thead>\n",
       "  <tbody>\n",
       "    <tr>\n",
       "      <td>0</td>\n",
       "      <td>2019-07-31 21:56</td>\n",
       "      <td>주거공간</td>\n",
       "      <td>아파트</td>\n",
       "      <td>경남 창원시 성산구 반림동 8 럭키반림아파트 10동 804호</td>\n",
       "      <td>31.0</td>\n",
       "      <td>NaN</td>\n",
       "      <td>4000 ~ 5000 만원</td>\n",
       "      <td>주거-고급</td>\n",
       "      <td>전체</td>\n",
       "      <td>방문상담</td>\n",
       "      <td>진행중</td>\n",
       "      <td>200037</td>\n",
       "      <td>방이 4개가 필요합니다\\r\\n안방을 아들 둘이 지낼수있도록 해서\\r\\n부부 각 방 ...</td>\n",
       "      <td>네이버검색광고_Mobile</td>\n",
       "      <td>NaN</td>\n",
       "      <td>웹</td>\n",
       "      <td>모바일웹상세</td>\n",
       "    </tr>\n",
       "    <tr>\n",
       "      <td>1</td>\n",
       "      <td>2019-07-31 20:31</td>\n",
       "      <td>주거공간</td>\n",
       "      <td>아파트</td>\n",
       "      <td>서울 강동구 명일동 54 한양아파트 1동6층</td>\n",
       "      <td>42.0</td>\n",
       "      <td>NaN</td>\n",
       "      <td>4000 ~ 5000 만원</td>\n",
       "      <td>주거-고급</td>\n",
       "      <td>전체</td>\n",
       "      <td>방문상담</td>\n",
       "      <td>진행중</td>\n",
       "      <td>200030</td>\n",
       "      <td>배관공사 포함 샷시 \\r\\n모두 올수리입니다</td>\n",
       "      <td>NaN</td>\n",
       "      <td>NaN</td>\n",
       "      <td>앱</td>\n",
       "      <td>아이폰간편</td>\n",
       "    </tr>\n",
       "    <tr>\n",
       "      <td>2</td>\n",
       "      <td>2019-07-31 16:26</td>\n",
       "      <td>주거공간</td>\n",
       "      <td>아파트</td>\n",
       "      <td>서울 강서구 가양동 1461 가양2단지아파트 202동 803호</td>\n",
       "      <td>24.0</td>\n",
       "      <td>NaN</td>\n",
       "      <td>1380 만원 이상</td>\n",
       "      <td>주거-기본</td>\n",
       "      <td>전체</td>\n",
       "      <td>계약완료</td>\n",
       "      <td>진행중</td>\n",
       "      <td>199988</td>\n",
       "      <td>NaN</td>\n",
       "      <td>NaN</td>\n",
       "      <td>9884.0</td>\n",
       "      <td>앱</td>\n",
       "      <td>안드로이드</td>\n",
       "    </tr>\n",
       "    <tr>\n",
       "      <td>3</td>\n",
       "      <td>2019-07-31 15:30</td>\n",
       "      <td>주거공간</td>\n",
       "      <td>아파트</td>\n",
       "      <td>서울 성북구 돈암동 644 (아리랑로 75) 돈암코오롱하늘채 103동 606호</td>\n",
       "      <td>34.0</td>\n",
       "      <td>NaN</td>\n",
       "      <td>3000 ~ 4000 만원</td>\n",
       "      <td>주거-고급</td>\n",
       "      <td>전체</td>\n",
       "      <td>방문상담</td>\n",
       "      <td>진행중</td>\n",
       "      <td>199970</td>\n",
       "      <td>- 상담희망시간 : 무관\\r\\n- 현장위치 : 서울특별시 성북구 아리랑로 75 돈암...</td>\n",
       "      <td>NaN</td>\n",
       "      <td>NaN</td>\n",
       "      <td>웹</td>\n",
       "      <td>PC웹간편</td>\n",
       "    </tr>\n",
       "    <tr>\n",
       "      <td>4</td>\n",
       "      <td>2019-07-31 14:31</td>\n",
       "      <td>주거공간</td>\n",
       "      <td>아파트</td>\n",
       "      <td>서울 강동구 암사동 509 선사현대아파트 115동 16층</td>\n",
       "      <td>34.0</td>\n",
       "      <td>NaN</td>\n",
       "      <td>4000 ~ 4000 만원</td>\n",
       "      <td>주거-고급</td>\n",
       "      <td>전체</td>\n",
       "      <td>방문상담</td>\n",
       "      <td>진행중</td>\n",
       "      <td>199937</td>\n",
       "      <td>NaN</td>\n",
       "      <td>NaN</td>\n",
       "      <td>NaN</td>\n",
       "      <td>외부</td>\n",
       "      <td>믹스앤픽스</td>\n",
       "    </tr>\n",
       "  </tbody>\n",
       "</table>\n",
       "</div>"
      ],
      "text/plain": [
       "                견적일  대상구분 시공대상                                           주소  \\\n",
       "0  2019-07-31 21:56  주거공간  아파트           경남 창원시 성산구 반림동 8 럭키반림아파트 10동 804호    \n",
       "1  2019-07-31 20:31  주거공간  아파트                     서울 강동구 명일동 54 한양아파트 1동6층   \n",
       "2  2019-07-31 16:26  주거공간  아파트           서울 강서구 가양동 1461 가양2단지아파트 202동 803호   \n",
       "3  2019-07-31 15:30  주거공간  아파트  서울 성북구 돈암동 644 (아리랑로 75) 돈암코오롱하늘채 103동 606호   \n",
       "4  2019-07-31 14:31  주거공간  아파트             서울 강동구 암사동 509 선사현대아파트 115동 16층    \n",
       "\n",
       "     평수 공사예산_고객예산     공사예산_CS확인예산  DB 유형 시공범위  진행상태 종료여부    견적번호  \\\n",
       "0  31.0       NaN  4000 ~ 5000 만원  주거-고급   전체  방문상담  진행중  200037   \n",
       "1  42.0       NaN  4000 ~ 5000 만원  주거-고급   전체  방문상담  진행중  200030   \n",
       "2  24.0       NaN      1380 만원 이상  주거-기본   전체  계약완료  진행중  199988   \n",
       "3  34.0       NaN  3000 ~ 4000 만원  주거-고급   전체  방문상담  진행중  199970   \n",
       "4  34.0       NaN  4000 ~ 4000 만원  주거-고급   전체  방문상담  진행중  199937   \n",
       "\n",
       "                                                  요청        인입채널_UTM    계약번호  \\\n",
       "0  방이 4개가 필요합니다\\r\\n안방을 아들 둘이 지낼수있도록 해서\\r\\n부부 각 방 ...  네이버검색광고_Mobile     NaN   \n",
       "1                           배관공사 포함 샷시 \\r\\n모두 올수리입니다             NaN     NaN   \n",
       "2                                                NaN             NaN  9884.0   \n",
       "3  - 상담희망시간 : 무관\\r\\n- 현장위치 : 서울특별시 성북구 아리랑로 75 돈암...             NaN     NaN   \n",
       "4                                                NaN             NaN     NaN   \n",
       "\n",
       "  유입경로 유입경로_상세  \n",
       "0    웹  모바일웹상세  \n",
       "1    앱   아이폰간편  \n",
       "2    앱   안드로이드  \n",
       "3    웹   PC웹간편  \n",
       "4   외부   믹스앤픽스  "
      ]
     },
     "execution_count": 120,
     "metadata": {},
     "output_type": "execute_result"
    }
   ],
   "source": [
    "pp.head()"
   ]
  },
  {
   "cell_type": "code",
   "execution_count": 121,
   "metadata": {},
   "outputs": [
    {
     "data": {
      "text/plain": [
       "array([nan, '3000-4000', '1억이하', '4000이하', '3000~3500', '1,300만원',\n",
       "       '2500-3500', '2000-3000', '3500', '3500-4000', '3,000-4,000만원',\n",
       "       '4000 ~ 5000 만원', '4,000-5,000만원', '2,000-3,000만원', '5000이하',\n",
       "       '2000~2500', '4000~5000', '2000', '2500-3000', '4500~5000만원',\n",
       "       '2500~3000', '4000~4500', '3000', '5,000-6,000만원', '3500~4000',\n",
       "       '2000~3000', '1,000-2,000만원', '3000~4000', ' ', '3000~5000',\n",
       "       '1500', '1000-2000', '5000', '2500', '1000-1200', '6,000만원 초과',\n",
       "       '35000', '3,127만원', '4000-5000', '1,974만원', '3000이하', '5000만원',\n",
       "       '3800', '700', '1500~2000', '2000 ~ 2500 ', '2000~2200',\n",
       "       '5000~5500', '1000~1500', '3,438만원', '1,529만원', '3000 ~ 3500',\n",
       "       '2000-2500', '5000~10000', '2000 ~ 3000 ', '1700~1800', '2000만원미만',\n",
       "       '7000~8000', '2000 ~ 2500', '1200', '3000~3500만원', '5000~6000',\n",
       "       '1800', '3000만원', '1,000만원 이하', '2000만원', '3000-3500', '4000',\n",
       "       '5000-6000', '6000~7000만원 ', '4000만원', '1000~1500만원', '4,803만원',\n",
       "       '2200', '5000이하 ', '2000이하 ', '1500만원 ', '3000~3200', '4500~5000',\n",
       "       '1500~2000만원', '6000', '1500~1700', '1500~1800', '6000이하',\n",
       "       '1500 ~ 2000', '6000~6500', '2000~2300', ' 790만원 ~ 1,060만원',\n",
       "       '2500 ~ 3000', '1300만원', ' 4,000만원 ~ 5,330만원', '2000 ~ 2500 만원',\n",
       "       '1000~2000만원', '3500~3700', '800', '1000', '3000이하 ', '1500~2500',\n",
       "       '1300', '3700', '2500만원', '2800만원 ', '1500~200', '2000이하', '1600',\n",
       "       '1400', '1800~2000', '5000~6000만원', '2500~3000만원 ', '2000~2500만원',\n",
       "       '5800', '3000 ~ 3500 만원', ' 3,710만원 ~ 4,950만원', '2000~3000만원',\n",
       "       ' 2,060만원 ~ 2,750만원', '4900만원', '1500만원', '1300만원~1500만원',\n",
       "       '2000만원 미만 ', '3300~3600', '1~1억2천', '1500~1800만원', '0',\n",
       "       ' 2,790만원 ~ 3,720만원', '1000~1100만원', '2000만원내', '5000만원이상',\n",
       "       '1500 ~ 2000 만원', '2800', '2000만원내외', '1000만원 ', '1000만원',\n",
       "       '1500만원~2000만원', '1200~1500만원', '1억', '3300', '500 ~ 1000만원',\n",
       "       '4000~5000만원', '3200만원', '1,000-2,000만원평', '1000~2000',\n",
       "       '1500-2000', ' 3,130만원 ~ 4,170만원', '1700만원', '2000~2300만원', '4500',\n",
       "       '1500~1700만원 ', '1200만원', '3800만원', '1000-1500', '2600', '6500',\n",
       "       '1000-1500만원', '2000 ~ 3000만원', '1,000만원 미만', '3000만원 ~ 5000만원 미만',\n",
       "       '2000만원 ~ 3000만원 미만', '1000만원 ~ 2000만원 미만', '5,000만원 - 1억원 미만',\n",
       "       '1,000만원 - 2,000만원 미만', '2,000만원 - 3,000만원 미만',\n",
       "       '3,000만원 - 5,000만원 미만', '5000만원 ~ 1억원 미만', '미정 (업체 상담후 결정)',\n",
       "       '미정(업체 상담 후 결정)', '1000만원 미만', '4,898만원', '미정 (업체 상담 후 결정)',\n",
       "       '3,272만원', '2,009만원', '1,579만원', '2,284만원', '1억원 이상', '2,986만원',\n",
       "       '2,212만원', '3000-3200만원', '3000-4000만원', '3500~4500',\n",
       "       '3,000만원 - 3500만원', '4,732만원', '2,000만원 - 2500만원', '2,105만원'],\n",
       "      dtype=object)"
      ]
     },
     "execution_count": 121,
     "metadata": {},
     "output_type": "execute_result"
    }
   ],
   "source": [
    "pp['공사예산_고객예산'].unique()"
   ]
  },
  {
   "cell_type": "code",
   "execution_count": 122,
   "metadata": {
    "scrolled": true
   },
   "outputs": [
    {
     "data": {
      "text/plain": [
       "견적일             object\n",
       "대상구분            object\n",
       "시공대상            object\n",
       "주소              object\n",
       "평수             float64\n",
       "공사예산_고객예산       object\n",
       "공사예산_CS확인예산     object\n",
       "DB 유형           object\n",
       "시공범위            object\n",
       "진행상태            object\n",
       "종료여부            object\n",
       "견적번호             int64\n",
       "요청              object\n",
       "인입채널_UTM        object\n",
       "계약번호           float64\n",
       "유입경로            object\n",
       "유입경로_상세         object\n",
       "dtype: object"
      ]
     },
     "execution_count": 122,
     "metadata": {},
     "output_type": "execute_result"
    }
   ],
   "source": [
    "pp.dtypes"
   ]
  },
  {
   "cell_type": "code",
   "execution_count": 123,
   "metadata": {},
   "outputs": [],
   "source": [
    "pp.loc[pp['공사예산_고객예산']=='3000-4000', '공사예산_고객예산'] = '3,000만원 ~ 4,000만원 미만'"
   ]
  },
  {
   "cell_type": "code",
   "execution_count": 124,
   "metadata": {},
   "outputs": [
    {
     "data": {
      "text/plain": [
       "Series([], Name: 공사예산_고객예산, dtype: object)"
      ]
     },
     "execution_count": 124,
     "metadata": {},
     "output_type": "execute_result"
    }
   ],
   "source": [
    "pp[pp['공사예산_고객예산'] == '3000-4000']['공사예산_고객예산']"
   ]
  },
  {
   "cell_type": "code",
   "execution_count": 125,
   "metadata": {},
   "outputs": [],
   "source": [
    "pp.loc[pp['공사예산_고객예산']=='1억이하', '공사예산_고객예산'] = '9,000만원 ~ 1억원 미만'"
   ]
  },
  {
   "cell_type": "code",
   "execution_count": 126,
   "metadata": {},
   "outputs": [
    {
     "data": {
      "text/plain": [
       "Series([], Name: 공사예산_고객예산, dtype: object)"
      ]
     },
     "execution_count": 126,
     "metadata": {},
     "output_type": "execute_result"
    }
   ],
   "source": [
    "pp[pp['공사예산_고객예산'] == '1억이하']['공사예산_고객예산']"
   ]
  },
  {
   "cell_type": "code",
   "execution_count": 127,
   "metadata": {},
   "outputs": [],
   "source": [
    "pp.loc[pp['공사예산_고객예산']=='4000이하', '공사예산_고객예산'] = '3,000만원 ~ 4,000만원 미만'"
   ]
  },
  {
   "cell_type": "code",
   "execution_count": 128,
   "metadata": {},
   "outputs": [],
   "source": [
    "pp.loc[pp['공사예산_고객예산']=='3000~3500', '공사예산_고객예산'] = '3,000만원 ~ 4,000만원 미만'"
   ]
  },
  {
   "cell_type": "code",
   "execution_count": 129,
   "metadata": {},
   "outputs": [],
   "source": [
    "pp.loc[pp['공사예산_고객예산']=='1,300만원', '공사예산_고객예산'] = '1,000만원 ~ 2,000만원 미만'"
   ]
  },
  {
   "cell_type": "code",
   "execution_count": 130,
   "metadata": {
    "scrolled": true
   },
   "outputs": [
    {
     "data": {
      "text/plain": [
       "array([nan, '3,000만원 ~ 4,000만원 미만', '9,000만원 ~ 1억원 미만',\n",
       "       '1,000만원 ~ 2,000만원 미만', '2500-3500', '2000-3000', '3500',\n",
       "       '3500-4000', '3,000-4,000만원', '4000 ~ 5000 만원', '4,000-5,000만원',\n",
       "       '2,000-3,000만원', '5000이하', '2000~2500', '4000~5000', '2000',\n",
       "       '2500-3000', '4500~5000만원', '2500~3000', '4000~4500', '3000',\n",
       "       '5,000-6,000만원', '3500~4000', '2000~3000', '1,000-2,000만원',\n",
       "       '3000~4000', ' ', '3000~5000', '1500', '1000-2000', '5000', '2500',\n",
       "       '1000-1200', '6,000만원 초과', '35000', '3,127만원', '4000-5000',\n",
       "       '1,974만원', '3000이하', '5000만원', '3800', '700', '1500~2000',\n",
       "       '2000 ~ 2500 ', '2000~2200', '5000~5500', '1000~1500', '3,438만원',\n",
       "       '1,529만원', '3000 ~ 3500', '2000-2500', '5000~10000',\n",
       "       '2000 ~ 3000 ', '1700~1800', '2000만원미만', '7000~8000',\n",
       "       '2000 ~ 2500', '1200', '3000~3500만원', '5000~6000', '1800',\n",
       "       '3000만원', '1,000만원 이하', '2000만원', '3000-3500', '4000', '5000-6000',\n",
       "       '6000~7000만원 ', '4000만원', '1000~1500만원', '4,803만원', '2200',\n",
       "       '5000이하 ', '2000이하 ', '1500만원 ', '3000~3200', '4500~5000',\n",
       "       '1500~2000만원', '6000', '1500~1700', '1500~1800', '6000이하',\n",
       "       '1500 ~ 2000', '6000~6500', '2000~2300', ' 790만원 ~ 1,060만원',\n",
       "       '2500 ~ 3000', '1300만원', ' 4,000만원 ~ 5,330만원', '2000 ~ 2500 만원',\n",
       "       '1000~2000만원', '3500~3700', '800', '1000', '3000이하 ', '1500~2500',\n",
       "       '1300', '3700', '2500만원', '2800만원 ', '1500~200', '2000이하', '1600',\n",
       "       '1400', '1800~2000', '5000~6000만원', '2500~3000만원 ', '2000~2500만원',\n",
       "       '5800', '3000 ~ 3500 만원', ' 3,710만원 ~ 4,950만원', '2000~3000만원',\n",
       "       ' 2,060만원 ~ 2,750만원', '4900만원', '1500만원', '1300만원~1500만원',\n",
       "       '2000만원 미만 ', '3300~3600', '1~1억2천', '1500~1800만원', '0',\n",
       "       ' 2,790만원 ~ 3,720만원', '1000~1100만원', '2000만원내', '5000만원이상',\n",
       "       '1500 ~ 2000 만원', '2800', '2000만원내외', '1000만원 ', '1000만원',\n",
       "       '1500만원~2000만원', '1200~1500만원', '1억', '3300', '500 ~ 1000만원',\n",
       "       '4000~5000만원', '3200만원', '1,000-2,000만원평', '1000~2000',\n",
       "       '1500-2000', ' 3,130만원 ~ 4,170만원', '1700만원', '2000~2300만원', '4500',\n",
       "       '1500~1700만원 ', '1200만원', '3800만원', '1000-1500', '2600', '6500',\n",
       "       '1000-1500만원', '2000 ~ 3000만원', '1,000만원 미만', '3000만원 ~ 5000만원 미만',\n",
       "       '2000만원 ~ 3000만원 미만', '1000만원 ~ 2000만원 미만', '5,000만원 - 1억원 미만',\n",
       "       '1,000만원 - 2,000만원 미만', '2,000만원 - 3,000만원 미만',\n",
       "       '3,000만원 - 5,000만원 미만', '5000만원 ~ 1억원 미만', '미정 (업체 상담후 결정)',\n",
       "       '미정(업체 상담 후 결정)', '1000만원 미만', '4,898만원', '미정 (업체 상담 후 결정)',\n",
       "       '3,272만원', '2,009만원', '1,579만원', '2,284만원', '1억원 이상', '2,986만원',\n",
       "       '2,212만원', '3000-3200만원', '3000-4000만원', '3500~4500',\n",
       "       '3,000만원 - 3500만원', '4,732만원', '2,000만원 - 2500만원', '2,105만원'],\n",
       "      dtype=object)"
      ]
     },
     "execution_count": 130,
     "metadata": {},
     "output_type": "execute_result"
    }
   ],
   "source": [
    "pp['공사예산_고객예산'].unique()"
   ]
  },
  {
   "cell_type": "code",
   "execution_count": 131,
   "metadata": {},
   "outputs": [],
   "source": [
    "pp.loc[pp['공사예산_고객예산']=='2500-3500', '공사예산_고객예산'] = '2,000만원 ~ 3,000만원 미만'"
   ]
  },
  {
   "cell_type": "code",
   "execution_count": 132,
   "metadata": {},
   "outputs": [],
   "source": [
    "pp.loc[pp['공사예산_고객예산']=='2000-3000', '공사예산_고객예산'] = '2,000만원 ~ 3,000만원 미만'"
   ]
  },
  {
   "cell_type": "code",
   "execution_count": 133,
   "metadata": {},
   "outputs": [],
   "source": [
    "pp.loc[pp['공사예산_고객예산']=='3500', '공사예산_고객예산'] = '3,000만원 ~ 4,000만원 미만'"
   ]
  },
  {
   "cell_type": "code",
   "execution_count": 134,
   "metadata": {},
   "outputs": [],
   "source": [
    "pp.loc[pp['공사예산_고객예산']=='3500-4000', '공사예산_고객예산'] = '3,000만원 ~ 4,000만원 미만'"
   ]
  },
  {
   "cell_type": "code",
   "execution_count": 135,
   "metadata": {},
   "outputs": [],
   "source": [
    "pp.loc[pp['공사예산_고객예산']=='3,000-4,000만원', '공사예산_고객예산'] = '3,000만원 ~ 4,000만원 미만'"
   ]
  },
  {
   "cell_type": "code",
   "execution_count": 136,
   "metadata": {},
   "outputs": [],
   "source": [
    "pp.loc[pp['공사예산_고객예산']=='4000 ~ 5000 만원', '공사예산_고객예산'] = '4,000만원 ~ 5,000만원 미만'"
   ]
  },
  {
   "cell_type": "code",
   "execution_count": 137,
   "metadata": {},
   "outputs": [],
   "source": [
    "pp.loc[pp['공사예산_고객예산']=='4,000-5,000만원', '공사예산_고객예산'] = '4,000만원 ~ 5,000만원 미만'"
   ]
  },
  {
   "cell_type": "code",
   "execution_count": 138,
   "metadata": {},
   "outputs": [],
   "source": [
    "pp.loc[pp['공사예산_고객예산']=='2,000-3,000만원', '공사예산_고객예산'] = '2,000만원 ~ 3,000만원 미만'"
   ]
  },
  {
   "cell_type": "code",
   "execution_count": 139,
   "metadata": {},
   "outputs": [],
   "source": [
    "pp.loc[pp['공사예산_고객예산']=='5000이하', '공사예산_고객예산'] = '4,000만원 ~ 5,000만원 미만'"
   ]
  },
  {
   "cell_type": "code",
   "execution_count": 140,
   "metadata": {
    "scrolled": true
   },
   "outputs": [
    {
     "data": {
      "text/plain": [
       "array([nan, '3,000만원 ~ 4,000만원 미만', '9,000만원 ~ 1억원 미만',\n",
       "       '1,000만원 ~ 2,000만원 미만', '2,000만원 ~ 3,000만원 미만',\n",
       "       '4,000만원 ~ 5,000만원 미만', '2000~2500', '4000~5000', '2000',\n",
       "       '2500-3000', '4500~5000만원', '2500~3000', '4000~4500', '3000',\n",
       "       '5,000-6,000만원', '3500~4000', '2000~3000', '1,000-2,000만원',\n",
       "       '3000~4000', ' ', '3000~5000', '1500', '1000-2000', '5000', '2500',\n",
       "       '1000-1200', '6,000만원 초과', '35000', '3,127만원', '4000-5000',\n",
       "       '1,974만원', '3000이하', '5000만원', '3800', '700', '1500~2000',\n",
       "       '2000 ~ 2500 ', '2000~2200', '5000~5500', '1000~1500', '3,438만원',\n",
       "       '1,529만원', '3000 ~ 3500', '2000-2500', '5000~10000',\n",
       "       '2000 ~ 3000 ', '1700~1800', '2000만원미만', '7000~8000',\n",
       "       '2000 ~ 2500', '1200', '3000~3500만원', '5000~6000', '1800',\n",
       "       '3000만원', '1,000만원 이하', '2000만원', '3000-3500', '4000', '5000-6000',\n",
       "       '6000~7000만원 ', '4000만원', '1000~1500만원', '4,803만원', '2200',\n",
       "       '5000이하 ', '2000이하 ', '1500만원 ', '3000~3200', '4500~5000',\n",
       "       '1500~2000만원', '6000', '1500~1700', '1500~1800', '6000이하',\n",
       "       '1500 ~ 2000', '6000~6500', '2000~2300', ' 790만원 ~ 1,060만원',\n",
       "       '2500 ~ 3000', '1300만원', ' 4,000만원 ~ 5,330만원', '2000 ~ 2500 만원',\n",
       "       '1000~2000만원', '3500~3700', '800', '1000', '3000이하 ', '1500~2500',\n",
       "       '1300', '3700', '2500만원', '2800만원 ', '1500~200', '2000이하', '1600',\n",
       "       '1400', '1800~2000', '5000~6000만원', '2500~3000만원 ', '2000~2500만원',\n",
       "       '5800', '3000 ~ 3500 만원', ' 3,710만원 ~ 4,950만원', '2000~3000만원',\n",
       "       ' 2,060만원 ~ 2,750만원', '4900만원', '1500만원', '1300만원~1500만원',\n",
       "       '2000만원 미만 ', '3300~3600', '1~1억2천', '1500~1800만원', '0',\n",
       "       ' 2,790만원 ~ 3,720만원', '1000~1100만원', '2000만원내', '5000만원이상',\n",
       "       '1500 ~ 2000 만원', '2800', '2000만원내외', '1000만원 ', '1000만원',\n",
       "       '1500만원~2000만원', '1200~1500만원', '1억', '3300', '500 ~ 1000만원',\n",
       "       '4000~5000만원', '3200만원', '1,000-2,000만원평', '1000~2000',\n",
       "       '1500-2000', ' 3,130만원 ~ 4,170만원', '1700만원', '2000~2300만원', '4500',\n",
       "       '1500~1700만원 ', '1200만원', '3800만원', '1000-1500', '2600', '6500',\n",
       "       '1000-1500만원', '2000 ~ 3000만원', '1,000만원 미만', '3000만원 ~ 5000만원 미만',\n",
       "       '2000만원 ~ 3000만원 미만', '1000만원 ~ 2000만원 미만', '5,000만원 - 1억원 미만',\n",
       "       '1,000만원 - 2,000만원 미만', '2,000만원 - 3,000만원 미만',\n",
       "       '3,000만원 - 5,000만원 미만', '5000만원 ~ 1억원 미만', '미정 (업체 상담후 결정)',\n",
       "       '미정(업체 상담 후 결정)', '1000만원 미만', '4,898만원', '미정 (업체 상담 후 결정)',\n",
       "       '3,272만원', '2,009만원', '1,579만원', '2,284만원', '1억원 이상', '2,986만원',\n",
       "       '2,212만원', '3000-3200만원', '3000-4000만원', '3500~4500',\n",
       "       '3,000만원 - 3500만원', '4,732만원', '2,000만원 - 2500만원', '2,105만원'],\n",
       "      dtype=object)"
      ]
     },
     "execution_count": 140,
     "metadata": {},
     "output_type": "execute_result"
    }
   ],
   "source": [
    "pp['공사예산_고객예산'].unique()"
   ]
  },
  {
   "cell_type": "code",
   "execution_count": 141,
   "metadata": {},
   "outputs": [],
   "source": [
    "pp.loc[pp['공사예산_고객예산']=='2000~2500', '공사예산_고객예산'] = '2,000만원 ~ 3,000만원 미만'"
   ]
  },
  {
   "cell_type": "code",
   "execution_count": 142,
   "metadata": {},
   "outputs": [],
   "source": [
    "pp.loc[pp['공사예산_고객예산']=='4000~5000', '공사예산_고객예산'] = '4,000만원 ~ 5,000만원 미만'"
   ]
  },
  {
   "cell_type": "code",
   "execution_count": 143,
   "metadata": {},
   "outputs": [],
   "source": [
    "pp.loc[pp['공사예산_고객예산']=='2000', '공사예산_고객예산'] = '1,000만원 ~ 2,000만원 미만'"
   ]
  },
  {
   "cell_type": "code",
   "execution_count": 144,
   "metadata": {},
   "outputs": [],
   "source": [
    "pp.loc[pp['공사예산_고객예산']=='2500-3000', '공사예산_고객예산'] = '2,000만원 ~ 3,000만원 미만'"
   ]
  },
  {
   "cell_type": "code",
   "execution_count": 145,
   "metadata": {},
   "outputs": [],
   "source": [
    "pp.loc[pp['공사예산_고객예산']=='4500~5000만원', '공사예산_고객예산'] = '4,000만원 ~ 5,000만원 미만'"
   ]
  },
  {
   "cell_type": "code",
   "execution_count": 146,
   "metadata": {},
   "outputs": [],
   "source": [
    "pp.loc[pp['공사예산_고객예산']=='2500~3000', '공사예산_고객예산'] = '2,000만원 ~ 3,000만원 미만'"
   ]
  },
  {
   "cell_type": "code",
   "execution_count": 147,
   "metadata": {},
   "outputs": [],
   "source": [
    "pp.loc[pp['공사예산_고객예산']=='4000~4500', '공사예산_고객예산'] = '4,000만원 ~ 5,000만원 미만'"
   ]
  },
  {
   "cell_type": "code",
   "execution_count": 148,
   "metadata": {},
   "outputs": [],
   "source": [
    "pp.loc[pp['공사예산_고객예산']=='3000', '공사예산_고객예산'] = '2,000만원 ~ 3,000만원 미만'"
   ]
  },
  {
   "cell_type": "code",
   "execution_count": 149,
   "metadata": {
    "scrolled": true
   },
   "outputs": [
    {
     "data": {
      "text/plain": [
       "array([nan, '3,000만원 ~ 4,000만원 미만', '9,000만원 ~ 1억원 미만',\n",
       "       '1,000만원 ~ 2,000만원 미만', '2,000만원 ~ 3,000만원 미만',\n",
       "       '4,000만원 ~ 5,000만원 미만', '5,000-6,000만원', '3500~4000', '2000~3000',\n",
       "       '1,000-2,000만원', '3000~4000', ' ', '3000~5000', '1500',\n",
       "       '1000-2000', '5000', '2500', '1000-1200', '6,000만원 초과', '35000',\n",
       "       '3,127만원', '4000-5000', '1,974만원', '3000이하', '5000만원', '3800',\n",
       "       '700', '1500~2000', '2000 ~ 2500 ', '2000~2200', '5000~5500',\n",
       "       '1000~1500', '3,438만원', '1,529만원', '3000 ~ 3500', '2000-2500',\n",
       "       '5000~10000', '2000 ~ 3000 ', '1700~1800', '2000만원미만', '7000~8000',\n",
       "       '2000 ~ 2500', '1200', '3000~3500만원', '5000~6000', '1800',\n",
       "       '3000만원', '1,000만원 이하', '2000만원', '3000-3500', '4000', '5000-6000',\n",
       "       '6000~7000만원 ', '4000만원', '1000~1500만원', '4,803만원', '2200',\n",
       "       '5000이하 ', '2000이하 ', '1500만원 ', '3000~3200', '4500~5000',\n",
       "       '1500~2000만원', '6000', '1500~1700', '1500~1800', '6000이하',\n",
       "       '1500 ~ 2000', '6000~6500', '2000~2300', ' 790만원 ~ 1,060만원',\n",
       "       '2500 ~ 3000', '1300만원', ' 4,000만원 ~ 5,330만원', '2000 ~ 2500 만원',\n",
       "       '1000~2000만원', '3500~3700', '800', '1000', '3000이하 ', '1500~2500',\n",
       "       '1300', '3700', '2500만원', '2800만원 ', '1500~200', '2000이하', '1600',\n",
       "       '1400', '1800~2000', '5000~6000만원', '2500~3000만원 ', '2000~2500만원',\n",
       "       '5800', '3000 ~ 3500 만원', ' 3,710만원 ~ 4,950만원', '2000~3000만원',\n",
       "       ' 2,060만원 ~ 2,750만원', '4900만원', '1500만원', '1300만원~1500만원',\n",
       "       '2000만원 미만 ', '3300~3600', '1~1억2천', '1500~1800만원', '0',\n",
       "       ' 2,790만원 ~ 3,720만원', '1000~1100만원', '2000만원내', '5000만원이상',\n",
       "       '1500 ~ 2000 만원', '2800', '2000만원내외', '1000만원 ', '1000만원',\n",
       "       '1500만원~2000만원', '1200~1500만원', '1억', '3300', '500 ~ 1000만원',\n",
       "       '4000~5000만원', '3200만원', '1,000-2,000만원평', '1000~2000',\n",
       "       '1500-2000', ' 3,130만원 ~ 4,170만원', '1700만원', '2000~2300만원', '4500',\n",
       "       '1500~1700만원 ', '1200만원', '3800만원', '1000-1500', '2600', '6500',\n",
       "       '1000-1500만원', '2000 ~ 3000만원', '1,000만원 미만', '3000만원 ~ 5000만원 미만',\n",
       "       '2000만원 ~ 3000만원 미만', '1000만원 ~ 2000만원 미만', '5,000만원 - 1억원 미만',\n",
       "       '1,000만원 - 2,000만원 미만', '2,000만원 - 3,000만원 미만',\n",
       "       '3,000만원 - 5,000만원 미만', '5000만원 ~ 1억원 미만', '미정 (업체 상담후 결정)',\n",
       "       '미정(업체 상담 후 결정)', '1000만원 미만', '4,898만원', '미정 (업체 상담 후 결정)',\n",
       "       '3,272만원', '2,009만원', '1,579만원', '2,284만원', '1억원 이상', '2,986만원',\n",
       "       '2,212만원', '3000-3200만원', '3000-4000만원', '3500~4500',\n",
       "       '3,000만원 - 3500만원', '4,732만원', '2,000만원 - 2500만원', '2,105만원'],\n",
       "      dtype=object)"
      ]
     },
     "execution_count": 149,
     "metadata": {},
     "output_type": "execute_result"
    }
   ],
   "source": [
    "pp['공사예산_고객예산'].unique()"
   ]
  },
  {
   "cell_type": "code",
   "execution_count": 150,
   "metadata": {},
   "outputs": [],
   "source": [
    "pp.loc[pp['공사예산_고객예산']=='5,000-6,000만원', '공사예산_고객예산'] = '5,000만원 ~ 6,000만원 미만'"
   ]
  },
  {
   "cell_type": "code",
   "execution_count": 151,
   "metadata": {},
   "outputs": [],
   "source": [
    "pp.loc[pp['공사예산_고객예산']=='3500~4000', '공사예산_고객예산'] = '3,000만원 ~ 4,000만원 미만'"
   ]
  },
  {
   "cell_type": "code",
   "execution_count": 152,
   "metadata": {},
   "outputs": [],
   "source": [
    "pp.loc[pp['공사예산_고객예산']=='2000~3000', '공사예산_고객예산'] = '2,000만원 ~ 3,000만원 미만'"
   ]
  },
  {
   "cell_type": "code",
   "execution_count": 152,
   "metadata": {},
   "outputs": [],
   "source": [
    "pp.loc[pp['공사예산_고객예산']=='2000~3000', '공사예산_고객예산'] = '2,000만원 ~ 3,000만원 미만'"
   ]
  },
  {
   "cell_type": "code",
   "execution_count": 153,
   "metadata": {},
   "outputs": [],
   "source": [
    "pp.loc[pp['공사예산_고객예산']=='1,000-2,000만원', '공사예산_고객예산'] = '1,000만원 ~ 2,000만원 미만'"
   ]
  },
  {
   "cell_type": "code",
   "execution_count": 154,
   "metadata": {},
   "outputs": [],
   "source": [
    "pp.loc[pp['공사예산_고객예산']=='3000~4000', '공사예산_고객예산'] = '3,000만원 ~ 4,000만원 미만'"
   ]
  },
  {
   "cell_type": "code",
   "execution_count": 155,
   "metadata": {},
   "outputs": [],
   "source": [
    "pp.loc[pp['공사예산_고객예산']=='3000~5000', '공사예산_고객예산'] = '4,000만원 ~ 5,000만원 미만'"
   ]
  },
  {
   "cell_type": "code",
   "execution_count": 156,
   "metadata": {},
   "outputs": [],
   "source": [
    "pp.loc[pp['공사예산_고객예산']=='1500', '공사예산_고객예산'] = '1,000만원 ~ 2,000만원 미만'"
   ]
  },
  {
   "cell_type": "code",
   "execution_count": 157,
   "metadata": {},
   "outputs": [],
   "source": [
    "pp.loc[pp['공사예산_고객예산']=='1000-2000', '공사예산_고객예산'] = '1,000만원 ~ 2,000만원 미만'"
   ]
  },
  {
   "cell_type": "code",
   "execution_count": 158,
   "metadata": {},
   "outputs": [],
   "source": [
    "pp.loc[pp['공사예산_고객예산']=='5000', '공사예산_고객예산'] = '4,000만원 ~ 5,000만원 미만'"
   ]
  },
  {
   "cell_type": "code",
   "execution_count": 159,
   "metadata": {},
   "outputs": [],
   "source": [
    "pp.loc[pp['공사예산_고객예산']=='2500', '공사예산_고객예산'] = '2,000만원 ~ 3,000만원 미만'"
   ]
  },
  {
   "cell_type": "code",
   "execution_count": 160,
   "metadata": {},
   "outputs": [],
   "source": [
    "pp.loc[pp['공사예산_고객예산']=='1000-1200', '공사예산_고객예산'] = '1,000만원 ~ 2,000만원 미만'"
   ]
  },
  {
   "cell_type": "code",
   "execution_count": 161,
   "metadata": {},
   "outputs": [],
   "source": [
    "pp.loc[pp['공사예산_고객예산']=='6,000만원 초과', '공사예산_고객예산'] = '6,000만원 ~ 7,000만원 미만'"
   ]
  },
  {
   "cell_type": "code",
   "execution_count": 162,
   "metadata": {
    "scrolled": true
   },
   "outputs": [
    {
     "data": {
      "text/plain": [
       "array([nan, '3,000만원 ~ 4,000만원 미만', '9,000만원 ~ 1억원 미만',\n",
       "       '1,000만원 ~ 2,000만원 미만', '2,000만원 ~ 3,000만원 미만',\n",
       "       '4,000만원 ~ 5,000만원 미만', '5,000만원 ~ 6,000만원 미만', ' ',\n",
       "       '6,000만원 ~ 7,000만원 미만', '35000', '3,127만원', '4000-5000', '1,974만원',\n",
       "       '3000이하', '5000만원', '3800', '700', '1500~2000', '2000 ~ 2500 ',\n",
       "       '2000~2200', '5000~5500', '1000~1500', '3,438만원', '1,529만원',\n",
       "       '3000 ~ 3500', '2000-2500', '5000~10000', '2000 ~ 3000 ',\n",
       "       '1700~1800', '2000만원미만', '7000~8000', '2000 ~ 2500', '1200',\n",
       "       '3000~3500만원', '5000~6000', '1800', '3000만원', '1,000만원 이하',\n",
       "       '2000만원', '3000-3500', '4000', '5000-6000', '6000~7000만원 ',\n",
       "       '4000만원', '1000~1500만원', '4,803만원', '2200', '5000이하 ', '2000이하 ',\n",
       "       '1500만원 ', '3000~3200', '4500~5000', '1500~2000만원', '6000',\n",
       "       '1500~1700', '1500~1800', '6000이하', '1500 ~ 2000', '6000~6500',\n",
       "       '2000~2300', ' 790만원 ~ 1,060만원', '2500 ~ 3000', '1300만원',\n",
       "       ' 4,000만원 ~ 5,330만원', '2000 ~ 2500 만원', '1000~2000만원', '3500~3700',\n",
       "       '800', '1000', '3000이하 ', '1500~2500', '1300', '3700', '2500만원',\n",
       "       '2800만원 ', '1500~200', '2000이하', '1600', '1400', '1800~2000',\n",
       "       '5000~6000만원', '2500~3000만원 ', '2000~2500만원', '5800',\n",
       "       '3000 ~ 3500 만원', ' 3,710만원 ~ 4,950만원', '2000~3000만원',\n",
       "       ' 2,060만원 ~ 2,750만원', '4900만원', '1500만원', '1300만원~1500만원',\n",
       "       '2000만원 미만 ', '3300~3600', '1~1억2천', '1500~1800만원', '0',\n",
       "       ' 2,790만원 ~ 3,720만원', '1000~1100만원', '2000만원내', '5000만원이상',\n",
       "       '1500 ~ 2000 만원', '2800', '2000만원내외', '1000만원 ', '1000만원',\n",
       "       '1500만원~2000만원', '1200~1500만원', '1억', '3300', '500 ~ 1000만원',\n",
       "       '4000~5000만원', '3200만원', '1,000-2,000만원평', '1000~2000',\n",
       "       '1500-2000', ' 3,130만원 ~ 4,170만원', '1700만원', '2000~2300만원', '4500',\n",
       "       '1500~1700만원 ', '1200만원', '3800만원', '1000-1500', '2600', '6500',\n",
       "       '1000-1500만원', '2000 ~ 3000만원', '1,000만원 미만', '3000만원 ~ 5000만원 미만',\n",
       "       '2000만원 ~ 3000만원 미만', '1000만원 ~ 2000만원 미만', '5,000만원 - 1억원 미만',\n",
       "       '1,000만원 - 2,000만원 미만', '2,000만원 - 3,000만원 미만',\n",
       "       '3,000만원 - 5,000만원 미만', '5000만원 ~ 1억원 미만', '미정 (업체 상담후 결정)',\n",
       "       '미정(업체 상담 후 결정)', '1000만원 미만', '4,898만원', '미정 (업체 상담 후 결정)',\n",
       "       '3,272만원', '2,009만원', '1,579만원', '2,284만원', '1억원 이상', '2,986만원',\n",
       "       '2,212만원', '3000-3200만원', '3000-4000만원', '3500~4500',\n",
       "       '3,000만원 - 3500만원', '4,732만원', '2,000만원 - 2500만원', '2,105만원'],\n",
       "      dtype=object)"
      ]
     },
     "execution_count": 162,
     "metadata": {},
     "output_type": "execute_result"
    }
   ],
   "source": [
    "pp['공사예산_고객예산'].unique()"
   ]
  },
  {
   "cell_type": "code",
   "execution_count": 163,
   "metadata": {},
   "outputs": [],
   "source": [
    "pp.loc[pp['공사예산_고객예산']=='35000', '공사예산_고객예산'] = '3억원 ~ 4억원 미만'"
   ]
  },
  {
   "cell_type": "code",
   "execution_count": 164,
   "metadata": {},
   "outputs": [],
   "source": [
    "pp.loc[pp['공사예산_고객예산']=='3,127만원', '공사예산_고객예산'] = '3,000만원 ~ 4,000만원 미만'"
   ]
  },
  {
   "cell_type": "code",
   "execution_count": 165,
   "metadata": {},
   "outputs": [],
   "source": [
    "pp.loc[pp['공사예산_고객예산']=='4000-5000', '공사예산_고객예산'] = '4,000만원 ~ 5,000만원 미만'"
   ]
  },
  {
   "cell_type": "code",
   "execution_count": 166,
   "metadata": {},
   "outputs": [],
   "source": [
    "pp.loc[pp['공사예산_고객예산']=='1,974만원', '공사예산_고객예산'] = '1,000만원 ~ 2,000만원 미만'"
   ]
  },
  {
   "cell_type": "code",
   "execution_count": 167,
   "metadata": {},
   "outputs": [],
   "source": [
    "pp.loc[pp['공사예산_고객예산']=='3000이하', '공사예산_고객예산'] = '2,000만원 ~ 3,000만원 미만'"
   ]
  },
  {
   "cell_type": "code",
   "execution_count": 168,
   "metadata": {},
   "outputs": [],
   "source": [
    "pp.loc[pp['공사예산_고객예산']=='5000만원', '공사예산_고객예산'] = '4,000만원 ~ 5,000만원 미만'"
   ]
  },
  {
   "cell_type": "code",
   "execution_count": 169,
   "metadata": {},
   "outputs": [],
   "source": [
    "pp.loc[pp['공사예산_고객예산']=='3800', '공사예산_고객예산'] = '3,000만원 ~ 4,000만원 미만'"
   ]
  },
  {
   "cell_type": "code",
   "execution_count": 170,
   "metadata": {},
   "outputs": [],
   "source": [
    "pp.loc[pp['공사예산_고객예산']=='700', '공사예산_고객예산'] = '1,000만원 미만'"
   ]
  },
  {
   "cell_type": "code",
   "execution_count": 171,
   "metadata": {},
   "outputs": [],
   "source": [
    "pp.loc[pp['공사예산_고객예산']=='1500~2000', '공사예산_고객예산'] = '1,000만원 ~ 2,000만원 미만'"
   ]
  },
  {
   "cell_type": "code",
   "execution_count": 172,
   "metadata": {},
   "outputs": [],
   "source": [
    "pp.loc[pp['공사예산_고객예산']=='2000 ~ 2500', '공사예산_고객예산'] = '2,000만원 ~ 3,000만원 미만'"
   ]
  },
  {
   "cell_type": "code",
   "execution_count": 173,
   "metadata": {
    "scrolled": true
   },
   "outputs": [
    {
     "data": {
      "text/plain": [
       "array([nan, '3,000만원 ~ 4,000만원 미만', '9,000만원 ~ 1억원 미만',\n",
       "       '1,000만원 ~ 2,000만원 미만', '2,000만원 ~ 3,000만원 미만',\n",
       "       '4,000만원 ~ 5,000만원 미만', '5,000만원 ~ 6,000만원 미만', ' ',\n",
       "       '6,000만원 ~ 7,000만원 미만', '3억원 ~ 4억원 미만', '1,000만원 미만',\n",
       "       '2000 ~ 2500 ', '2000~2200', '5000~5500', '1000~1500', '3,438만원',\n",
       "       '1,529만원', '3000 ~ 3500', '2000-2500', '5000~10000',\n",
       "       '2000 ~ 3000 ', '1700~1800', '2000만원미만', '7000~8000', '1200',\n",
       "       '3000~3500만원', '5000~6000', '1800', '3000만원', '1,000만원 이하',\n",
       "       '2000만원', '3000-3500', '4000', '5000-6000', '6000~7000만원 ',\n",
       "       '4000만원', '1000~1500만원', '4,803만원', '2200', '5000이하 ', '2000이하 ',\n",
       "       '1500만원 ', '3000~3200', '4500~5000', '1500~2000만원', '6000',\n",
       "       '1500~1700', '1500~1800', '6000이하', '1500 ~ 2000', '6000~6500',\n",
       "       '2000~2300', ' 790만원 ~ 1,060만원', '2500 ~ 3000', '1300만원',\n",
       "       ' 4,000만원 ~ 5,330만원', '2000 ~ 2500 만원', '1000~2000만원', '3500~3700',\n",
       "       '800', '1000', '3000이하 ', '1500~2500', '1300', '3700', '2500만원',\n",
       "       '2800만원 ', '1500~200', '2000이하', '1600', '1400', '1800~2000',\n",
       "       '5000~6000만원', '2500~3000만원 ', '2000~2500만원', '5800',\n",
       "       '3000 ~ 3500 만원', ' 3,710만원 ~ 4,950만원', '2000~3000만원',\n",
       "       ' 2,060만원 ~ 2,750만원', '4900만원', '1500만원', '1300만원~1500만원',\n",
       "       '2000만원 미만 ', '3300~3600', '1~1억2천', '1500~1800만원', '0',\n",
       "       ' 2,790만원 ~ 3,720만원', '1000~1100만원', '2000만원내', '5000만원이상',\n",
       "       '1500 ~ 2000 만원', '2800', '2000만원내외', '1000만원 ', '1000만원',\n",
       "       '1500만원~2000만원', '1200~1500만원', '1억', '3300', '500 ~ 1000만원',\n",
       "       '4000~5000만원', '3200만원', '1,000-2,000만원평', '1000~2000',\n",
       "       '1500-2000', ' 3,130만원 ~ 4,170만원', '1700만원', '2000~2300만원', '4500',\n",
       "       '1500~1700만원 ', '1200만원', '3800만원', '1000-1500', '2600', '6500',\n",
       "       '1000-1500만원', '2000 ~ 3000만원', '3000만원 ~ 5000만원 미만',\n",
       "       '2000만원 ~ 3000만원 미만', '1000만원 ~ 2000만원 미만', '5,000만원 - 1억원 미만',\n",
       "       '1,000만원 - 2,000만원 미만', '2,000만원 - 3,000만원 미만',\n",
       "       '3,000만원 - 5,000만원 미만', '5000만원 ~ 1억원 미만', '미정 (업체 상담후 결정)',\n",
       "       '미정(업체 상담 후 결정)', '1000만원 미만', '4,898만원', '미정 (업체 상담 후 결정)',\n",
       "       '3,272만원', '2,009만원', '1,579만원', '2,284만원', '1억원 이상', '2,986만원',\n",
       "       '2,212만원', '3000-3200만원', '3000-4000만원', '3500~4500',\n",
       "       '3,000만원 - 3500만원', '4,732만원', '2,000만원 - 2500만원', '2,105만원'],\n",
       "      dtype=object)"
      ]
     },
     "execution_count": 173,
     "metadata": {},
     "output_type": "execute_result"
    }
   ],
   "source": [
    "pp['공사예산_고객예산'].unique()"
   ]
  },
  {
   "cell_type": "code",
   "execution_count": 174,
   "metadata": {},
   "outputs": [],
   "source": [
    "pp.loc[pp['공사예산_고객예산']=='2000 ~ 2500', '공사예산_고객예산'] = '2,000만원 ~ 3,000만원 미만'"
   ]
  },
  {
   "cell_type": "code",
   "execution_count": 175,
   "metadata": {},
   "outputs": [],
   "source": [
    "pp.loc[pp['공사예산_고객예산']=='2000~2200', '공사예산_고객예산'] = '2,000만원 ~ 3,000만원 미만'"
   ]
  },
  {
   "cell_type": "code",
   "execution_count": 176,
   "metadata": {},
   "outputs": [],
   "source": [
    "pp.loc[pp['공사예산_고객예산']=='5000~5500', '공사예산_고객예산'] = '5,000만원 ~ 6,000만원 미만'"
   ]
  },
  {
   "cell_type": "code",
   "execution_count": 177,
   "metadata": {},
   "outputs": [],
   "source": [
    "pp.loc[pp['공사예산_고객예산']=='1000~1500', '공사예산_고객예산'] = '1,000만원 ~ 2,000만원 미만'"
   ]
  },
  {
   "cell_type": "code",
   "execution_count": 178,
   "metadata": {},
   "outputs": [],
   "source": [
    "pp.loc[pp['공사예산_고객예산']=='3,438만원', '공사예산_고객예산'] = '3,000만원 ~ 4,000만원 미만'"
   ]
  },
  {
   "cell_type": "code",
   "execution_count": 179,
   "metadata": {},
   "outputs": [],
   "source": [
    "pp.loc[pp['공사예산_고객예산']=='1,529만원', '공사예산_고객예산'] = '1,000만원 ~ 2,000만원 미만'"
   ]
  },
  {
   "cell_type": "code",
   "execution_count": 180,
   "metadata": {},
   "outputs": [],
   "source": [
    "pp.loc[pp['공사예산_고객예산']=='3000 ~ 3500', '공사예산_고객예산'] = '3,000만원 ~ 4,000만원 미만'"
   ]
  },
  {
   "cell_type": "code",
   "execution_count": 181,
   "metadata": {},
   "outputs": [],
   "source": [
    "pp.loc[pp['공사예산_고객예산']=='2000-2500', '공사예산_고객예산'] = '2,000만원 ~ 3,000만원 미만'"
   ]
  },
  {
   "cell_type": "code",
   "execution_count": 182,
   "metadata": {},
   "outputs": [],
   "source": [
    "pp.loc[pp['공사예산_고객예산']=='5000~10000', '공사예산_고객예산'] = '9,000만원 ~ 1억원 미만'"
   ]
  },
  {
   "cell_type": "code",
   "execution_count": 183,
   "metadata": {},
   "outputs": [],
   "source": [
    "pp.loc[pp['공사예산_고객예산']=='2000 ~ 3000', '공사예산_고객예산'] = '2,000만원 ~ 3,000만원 미만'"
   ]
  },
  {
   "cell_type": "code",
   "execution_count": 185,
   "metadata": {
    "scrolled": true
   },
   "outputs": [
    {
     "data": {
      "text/plain": [
       "array([nan, '3,000만원 ~ 4,000만원 미만', '9,000만원 ~ 1억원 미만',\n",
       "       '1,000만원 ~ 2,000만원 미만', '2,000만원 ~ 3,000만원 미만',\n",
       "       '4,000만원 ~ 5,000만원 미만', '5,000만원 ~ 6,000만원 미만', ' ',\n",
       "       '6,000만원 ~ 7,000만원 미만', '3억원 ~ 4억원 미만', '1,000만원 미만',\n",
       "       '2000 ~ 2500 ', '2000 ~ 3000 ', '1700~1800', '2000만원미만',\n",
       "       '7000~8000', '1200', '3000~3500만원', '5000~6000', '1800', '3000만원',\n",
       "       '1,000만원 이하', '2000만원', '3000-3500', '4000', '5000-6000',\n",
       "       '6000~7000만원 ', '4000만원', '1000~1500만원', '4,803만원', '2200',\n",
       "       '5000이하 ', '2000이하 ', '1500만원 ', '3000~3200', '4500~5000',\n",
       "       '1500~2000만원', '6000', '1500~1700', '1500~1800', '6000이하',\n",
       "       '1500 ~ 2000', '6000~6500', '2000~2300', ' 790만원 ~ 1,060만원',\n",
       "       '2500 ~ 3000', '1300만원', ' 4,000만원 ~ 5,330만원', '2000 ~ 2500 만원',\n",
       "       '1000~2000만원', '3500~3700', '800', '1000', '3000이하 ', '1500~2500',\n",
       "       '1300', '3700', '2500만원', '2800만원 ', '1500~200', '2000이하', '1600',\n",
       "       '1400', '1800~2000', '5000~6000만원', '2500~3000만원 ', '2000~2500만원',\n",
       "       '5800', '3000 ~ 3500 만원', ' 3,710만원 ~ 4,950만원', '2000~3000만원',\n",
       "       ' 2,060만원 ~ 2,750만원', '4900만원', '1500만원', '1300만원~1500만원',\n",
       "       '2000만원 미만 ', '3300~3600', '1~1억2천', '1500~1800만원', '0',\n",
       "       ' 2,790만원 ~ 3,720만원', '1000~1100만원', '2000만원내', '5000만원이상',\n",
       "       '1500 ~ 2000 만원', '2800', '2000만원내외', '1000만원 ', '1000만원',\n",
       "       '1500만원~2000만원', '1200~1500만원', '1억', '3300', '500 ~ 1000만원',\n",
       "       '4000~5000만원', '3200만원', '1,000-2,000만원평', '1000~2000',\n",
       "       '1500-2000', ' 3,130만원 ~ 4,170만원', '1700만원', '2000~2300만원', '4500',\n",
       "       '1500~1700만원 ', '1200만원', '3800만원', '1000-1500', '2600', '6500',\n",
       "       '1000-1500만원', '2000 ~ 3000만원', '3000만원 ~ 5000만원 미만',\n",
       "       '2000만원 ~ 3000만원 미만', '1000만원 ~ 2000만원 미만', '5,000만원 - 1억원 미만',\n",
       "       '1,000만원 - 2,000만원 미만', '2,000만원 - 3,000만원 미만',\n",
       "       '3,000만원 - 5,000만원 미만', '5000만원 ~ 1억원 미만', '미정 (업체 상담후 결정)',\n",
       "       '미정(업체 상담 후 결정)', '1000만원 미만', '4,898만원', '미정 (업체 상담 후 결정)',\n",
       "       '3,272만원', '2,009만원', '1,579만원', '2,284만원', '1억원 이상', '2,986만원',\n",
       "       '2,212만원', '3000-3200만원', '3000-4000만원', '3500~4500',\n",
       "       '3,000만원 - 3500만원', '4,732만원', '2,000만원 - 2500만원', '2,105만원'],\n",
       "      dtype=object)"
      ]
     },
     "execution_count": 185,
     "metadata": {},
     "output_type": "execute_result"
    }
   ],
   "source": [
    "pp['공사예산_고객예산'].unique()"
   ]
  },
  {
   "cell_type": "code",
   "execution_count": 186,
   "metadata": {},
   "outputs": [],
   "source": [
    "pp.loc[pp['공사예산_고객예산']=='2000 ~ 2500 ', '공사예산_고객예산'] = '2,000만원 ~ 3,000만원 미만'"
   ]
  },
  {
   "cell_type": "code",
   "execution_count": 187,
   "metadata": {},
   "outputs": [],
   "source": [
    "pp.loc[pp['공사예산_고객예산']=='2000 ~ 3000 ', '공사예산_고객예산'] = '2,000만원 ~ 3,000만원 미만'"
   ]
  },
  {
   "cell_type": "code",
   "execution_count": 188,
   "metadata": {},
   "outputs": [],
   "source": [
    "pp.loc[pp['공사예산_고객예산']=='1700~1800', '공사예산_고객예산'] = '1,000만원 ~ 2,000만원 미만'"
   ]
  },
  {
   "cell_type": "code",
   "execution_count": 189,
   "metadata": {},
   "outputs": [],
   "source": [
    "pp.loc[pp['공사예산_고객예산']=='2000만원미만', '공사예산_고객예산'] = '1,000만원 ~ 2,000만원 미만'"
   ]
  },
  {
   "cell_type": "code",
   "execution_count": 190,
   "metadata": {},
   "outputs": [],
   "source": [
    "pp.loc[pp['공사예산_고객예산']=='7000~8000', '공사예산_고객예산'] = '7,000만원 ~ 8,000만원 미만'"
   ]
  },
  {
   "cell_type": "code",
   "execution_count": 191,
   "metadata": {},
   "outputs": [],
   "source": [
    "pp.loc[pp['공사예산_고객예산']=='1200', '공사예산_고객예산'] = '1,000만원 ~ 2,000만원 미만'"
   ]
  },
  {
   "cell_type": "code",
   "execution_count": 192,
   "metadata": {},
   "outputs": [],
   "source": [
    "pp.loc[pp['공사예산_고객예산']=='3000~3500만원', '공사예산_고객예산'] = '3,000만원 ~ 4,000만원 미만'"
   ]
  },
  {
   "cell_type": "code",
   "execution_count": 193,
   "metadata": {},
   "outputs": [],
   "source": [
    "pp.loc[pp['공사예산_고객예산']=='5000~6000', '공사예산_고객예산'] = '5,000만원 ~ 6,000만원 미만'"
   ]
  },
  {
   "cell_type": "code",
   "execution_count": 194,
   "metadata": {},
   "outputs": [],
   "source": [
    "pp.loc[pp['공사예산_고객예산']=='1800', '공사예산_고객예산'] = '1,000만원 ~ 2,000만원 미만'"
   ]
  },
  {
   "cell_type": "code",
   "execution_count": 195,
   "metadata": {},
   "outputs": [],
   "source": [
    "pp.loc[pp['공사예산_고객예산']=='3000만원', '공사예산_고객예산'] = '2,000만원 ~ 3,000만원 미만'"
   ]
  },
  {
   "cell_type": "code",
   "execution_count": 196,
   "metadata": {},
   "outputs": [],
   "source": [
    "pp.loc[pp['공사예산_고객예산']=='1,000만원 이하', '공사예산_고객예산'] = '1,000만원 미만'"
   ]
  },
  {
   "cell_type": "code",
   "execution_count": 197,
   "metadata": {},
   "outputs": [],
   "source": [
    "pp.loc[pp['공사예산_고객예산']=='2000만원', '공사예산_고객예산'] = '1,000만원 ~ 2,000만원 미만'"
   ]
  },
  {
   "cell_type": "code",
   "execution_count": 198,
   "metadata": {},
   "outputs": [],
   "source": [
    "pp.loc[pp['공사예산_고객예산']=='3000-3500', '공사예산_고객예산'] = '3,000만원 ~ 4,000만원 미만'"
   ]
  },
  {
   "cell_type": "code",
   "execution_count": 199,
   "metadata": {
    "scrolled": true
   },
   "outputs": [
    {
     "data": {
      "text/plain": [
       "array([nan, '3,000만원 ~ 4,000만원 미만', '9,000만원 ~ 1억원 미만',\n",
       "       '1,000만원 ~ 2,000만원 미만', '2,000만원 ~ 3,000만원 미만',\n",
       "       '4,000만원 ~ 5,000만원 미만', '5,000만원 ~ 6,000만원 미만', ' ',\n",
       "       '6,000만원 ~ 7,000만원 미만', '3억원 ~ 4억원 미만', '1,000만원 미만',\n",
       "       '7,000만원 ~ 8,000만원 미만', '4000', '5000-6000', '6000~7000만원 ',\n",
       "       '4000만원', '1000~1500만원', '4,803만원', '2200', '5000이하 ', '2000이하 ',\n",
       "       '1500만원 ', '3000~3200', '4500~5000', '1500~2000만원', '6000',\n",
       "       '1500~1700', '1500~1800', '6000이하', '1500 ~ 2000', '6000~6500',\n",
       "       '2000~2300', ' 790만원 ~ 1,060만원', '2500 ~ 3000', '1300만원',\n",
       "       ' 4,000만원 ~ 5,330만원', '2000 ~ 2500 만원', '1000~2000만원', '3500~3700',\n",
       "       '800', '1000', '3000이하 ', '1500~2500', '1300', '3700', '2500만원',\n",
       "       '2800만원 ', '1500~200', '2000이하', '1600', '1400', '1800~2000',\n",
       "       '5000~6000만원', '2500~3000만원 ', '2000~2500만원', '5800',\n",
       "       '3000 ~ 3500 만원', ' 3,710만원 ~ 4,950만원', '2000~3000만원',\n",
       "       ' 2,060만원 ~ 2,750만원', '4900만원', '1500만원', '1300만원~1500만원',\n",
       "       '2000만원 미만 ', '3300~3600', '1~1억2천', '1500~1800만원', '0',\n",
       "       ' 2,790만원 ~ 3,720만원', '1000~1100만원', '2000만원내', '5000만원이상',\n",
       "       '1500 ~ 2000 만원', '2800', '2000만원내외', '1000만원 ', '1000만원',\n",
       "       '1500만원~2000만원', '1200~1500만원', '1억', '3300', '500 ~ 1000만원',\n",
       "       '4000~5000만원', '3200만원', '1,000-2,000만원평', '1000~2000',\n",
       "       '1500-2000', ' 3,130만원 ~ 4,170만원', '1700만원', '2000~2300만원', '4500',\n",
       "       '1500~1700만원 ', '1200만원', '3800만원', '1000-1500', '2600', '6500',\n",
       "       '1000-1500만원', '2000 ~ 3000만원', '3000만원 ~ 5000만원 미만',\n",
       "       '2000만원 ~ 3000만원 미만', '1000만원 ~ 2000만원 미만', '5,000만원 - 1억원 미만',\n",
       "       '1,000만원 - 2,000만원 미만', '2,000만원 - 3,000만원 미만',\n",
       "       '3,000만원 - 5,000만원 미만', '5000만원 ~ 1억원 미만', '미정 (업체 상담후 결정)',\n",
       "       '미정(업체 상담 후 결정)', '1000만원 미만', '4,898만원', '미정 (업체 상담 후 결정)',\n",
       "       '3,272만원', '2,009만원', '1,579만원', '2,284만원', '1억원 이상', '2,986만원',\n",
       "       '2,212만원', '3000-3200만원', '3000-4000만원', '3500~4500',\n",
       "       '3,000만원 - 3500만원', '4,732만원', '2,000만원 - 2500만원', '2,105만원'],\n",
       "      dtype=object)"
      ]
     },
     "execution_count": 199,
     "metadata": {},
     "output_type": "execute_result"
    }
   ],
   "source": [
    "pp['공사예산_고객예산'].unique()"
   ]
  },
  {
   "cell_type": "code",
   "execution_count": 200,
   "metadata": {},
   "outputs": [],
   "source": [
    "pp.loc[pp['공사예산_고객예산']=='4000', '공사예산_고객예산'] = '3,000만원 ~ 4,000만원 미만'"
   ]
  },
  {
   "cell_type": "code",
   "execution_count": 201,
   "metadata": {},
   "outputs": [],
   "source": [
    "pp.loc[pp['공사예산_고객예산']=='5000-6000', '공사예산_고객예산'] = '5,000만원 ~ 6,000만원 미만'"
   ]
  },
  {
   "cell_type": "code",
   "execution_count": 202,
   "metadata": {},
   "outputs": [],
   "source": [
    "pp.loc[pp['공사예산_고객예산']=='6000~7000만원 ', '공사예산_고객예산'] = '6,000만원 ~ 7,000만원 미만'"
   ]
  },
  {
   "cell_type": "code",
   "execution_count": 203,
   "metadata": {},
   "outputs": [],
   "source": [
    "pp.loc[pp['공사예산_고객예산']=='4000만원', '공사예산_고객예산'] = '3,000만원 ~ 4,000만원 미만'"
   ]
  },
  {
   "cell_type": "code",
   "execution_count": 204,
   "metadata": {},
   "outputs": [],
   "source": [
    "pp.loc[pp['공사예산_고객예산']=='1000~1500만원', '공사예산_고객예산'] = '1,000만원 ~ 2,000만원 미만'"
   ]
  },
  {
   "cell_type": "code",
   "execution_count": 205,
   "metadata": {},
   "outputs": [],
   "source": [
    "pp.loc[pp['공사예산_고객예산']=='4,803만원', '공사예산_고객예산'] = '4,000만원 ~ 5,000만원 미만'"
   ]
  },
  {
   "cell_type": "code",
   "execution_count": 206,
   "metadata": {},
   "outputs": [],
   "source": [
    "pp.loc[pp['공사예산_고객예산']=='2200', '공사예산_고객예산'] = '2,000만원 ~ 3,000만원 미만'"
   ]
  },
  {
   "cell_type": "code",
   "execution_count": 207,
   "metadata": {},
   "outputs": [],
   "source": [
    "pp.loc[pp['공사예산_고객예산']=='5000이하 ', '공사예산_고객예산'] = '4,000만원 ~ 5,000만원 미만'"
   ]
  },
  {
   "cell_type": "code",
   "execution_count": 208,
   "metadata": {},
   "outputs": [],
   "source": [
    "pp.loc[pp['공사예산_고객예산']=='2000이하 ', '공사예산_고객예산'] = '1,000만원 ~ 2,000만원 미만'"
   ]
  },
  {
   "cell_type": "code",
   "execution_count": 209,
   "metadata": {},
   "outputs": [],
   "source": [
    "pp.loc[pp['공사예산_고객예산']=='1500만원', '공사예산_고객예산'] = '1,000만원 ~ 2,000만원 미만'"
   ]
  },
  {
   "cell_type": "code",
   "execution_count": 210,
   "metadata": {},
   "outputs": [],
   "source": [
    "pp.loc[pp['공사예산_고객예산']=='3000~3200', '공사예산_고객예산'] = '3,000만원 ~ 4,000만원 미만'"
   ]
  },
  {
   "cell_type": "code",
   "execution_count": 211,
   "metadata": {},
   "outputs": [],
   "source": [
    "pp.loc[pp['공사예산_고객예산']=='4500~5000', '공사예산_고객예산'] = '4,000만원 ~ 5,000만원 미만'"
   ]
  },
  {
   "cell_type": "code",
   "execution_count": 212,
   "metadata": {
    "scrolled": true
   },
   "outputs": [
    {
     "data": {
      "text/plain": [
       "array([nan, '3,000만원 ~ 4,000만원 미만', '9,000만원 ~ 1억원 미만',\n",
       "       '1,000만원 ~ 2,000만원 미만', '2,000만원 ~ 3,000만원 미만',\n",
       "       '4,000만원 ~ 5,000만원 미만', '5,000만원 ~ 6,000만원 미만', ' ',\n",
       "       '6,000만원 ~ 7,000만원 미만', '3억원 ~ 4억원 미만', '1,000만원 미만',\n",
       "       '7,000만원 ~ 8,000만원 미만', '1500만원 ', '1500~2000만원', '6000',\n",
       "       '1500~1700', '1500~1800', '6000이하', '1500 ~ 2000', '6000~6500',\n",
       "       '2000~2300', ' 790만원 ~ 1,060만원', '2500 ~ 3000', '1300만원',\n",
       "       ' 4,000만원 ~ 5,330만원', '2000 ~ 2500 만원', '1000~2000만원', '3500~3700',\n",
       "       '800', '1000', '3000이하 ', '1500~2500', '1300', '3700', '2500만원',\n",
       "       '2800만원 ', '1500~200', '2000이하', '1600', '1400', '1800~2000',\n",
       "       '5000~6000만원', '2500~3000만원 ', '2000~2500만원', '5800',\n",
       "       '3000 ~ 3500 만원', ' 3,710만원 ~ 4,950만원', '2000~3000만원',\n",
       "       ' 2,060만원 ~ 2,750만원', '4900만원', '1300만원~1500만원', '2000만원 미만 ',\n",
       "       '3300~3600', '1~1억2천', '1500~1800만원', '0', ' 2,790만원 ~ 3,720만원',\n",
       "       '1000~1100만원', '2000만원내', '5000만원이상', '1500 ~ 2000 만원', '2800',\n",
       "       '2000만원내외', '1000만원 ', '1000만원', '1500만원~2000만원', '1200~1500만원',\n",
       "       '1억', '3300', '500 ~ 1000만원', '4000~5000만원', '3200만원',\n",
       "       '1,000-2,000만원평', '1000~2000', '1500-2000', ' 3,130만원 ~ 4,170만원',\n",
       "       '1700만원', '2000~2300만원', '4500', '1500~1700만원 ', '1200만원',\n",
       "       '3800만원', '1000-1500', '2600', '6500', '1000-1500만원',\n",
       "       '2000 ~ 3000만원', '3000만원 ~ 5000만원 미만', '2000만원 ~ 3000만원 미만',\n",
       "       '1000만원 ~ 2000만원 미만', '5,000만원 - 1억원 미만', '1,000만원 - 2,000만원 미만',\n",
       "       '2,000만원 - 3,000만원 미만', '3,000만원 - 5,000만원 미만', '5000만원 ~ 1억원 미만',\n",
       "       '미정 (업체 상담후 결정)', '미정(업체 상담 후 결정)', '1000만원 미만', '4,898만원',\n",
       "       '미정 (업체 상담 후 결정)', '3,272만원', '2,009만원', '1,579만원', '2,284만원',\n",
       "       '1억원 이상', '2,986만원', '2,212만원', '3000-3200만원', '3000-4000만원',\n",
       "       '3500~4500', '3,000만원 - 3500만원', '4,732만원', '2,000만원 - 2500만원',\n",
       "       '2,105만원'], dtype=object)"
      ]
     },
     "execution_count": 212,
     "metadata": {},
     "output_type": "execute_result"
    }
   ],
   "source": [
    "pp['공사예산_고객예산'].unique()"
   ]
  },
  {
   "cell_type": "code",
   "execution_count": 213,
   "metadata": {},
   "outputs": [],
   "source": [
    "pp.loc[pp['공사예산_고객예산']=='1500만원 ', '공사예산_고객예산'] = '1,000만원 ~ 2,000만원 미만'"
   ]
  },
  {
   "cell_type": "code",
   "execution_count": 214,
   "metadata": {},
   "outputs": [],
   "source": [
    "pp.loc[pp['공사예산_고객예산']=='1500~2000만원', '공사예산_고객예산'] = '1,000만원 ~ 2,000만원 미만'"
   ]
  },
  {
   "cell_type": "code",
   "execution_count": 215,
   "metadata": {},
   "outputs": [],
   "source": [
    "pp.loc[pp['공사예산_고객예산']=='6000', '공사예산_고객예산'] = '5,000만원 ~ 6,000만원 미만'"
   ]
  },
  {
   "cell_type": "code",
   "execution_count": 216,
   "metadata": {},
   "outputs": [],
   "source": [
    "pp.loc[pp['공사예산_고객예산']=='1500~1700', '공사예산_고객예산'] = '1,000만원 ~ 2,000만원 미만'"
   ]
  },
  {
   "cell_type": "code",
   "execution_count": 217,
   "metadata": {},
   "outputs": [],
   "source": [
    "pp.loc[pp['공사예산_고객예산']=='1500~1800', '공사예산_고객예산'] = '1,000만원 ~ 2,000만원 미만'"
   ]
  },
  {
   "cell_type": "code",
   "execution_count": 218,
   "metadata": {},
   "outputs": [],
   "source": [
    "pp.loc[pp['공사예산_고객예산']=='6000이하', '공사예산_고객예산'] = '5,000만원 ~ 6,000만원 미만'"
   ]
  },
  {
   "cell_type": "code",
   "execution_count": 219,
   "metadata": {},
   "outputs": [],
   "source": [
    "pp.loc[pp['공사예산_고객예산']=='1500 ~ 2000', '공사예산_고객예산'] = '1,000만원 ~ 2,000만원 미만'"
   ]
  },
  {
   "cell_type": "code",
   "execution_count": 220,
   "metadata": {},
   "outputs": [],
   "source": [
    "pp.loc[pp['공사예산_고객예산']=='6000~6500', '공사예산_고객예산'] = '6,000만원 ~ 7,000만원 미만'"
   ]
  },
  {
   "cell_type": "code",
   "execution_count": 221,
   "metadata": {},
   "outputs": [],
   "source": [
    "pp.loc[pp['공사예산_고객예산']=='2000~2300', '공사예산_고객예산'] = '2,000만원 ~ 3,000만원 미만'"
   ]
  },
  {
   "cell_type": "code",
   "execution_count": 222,
   "metadata": {},
   "outputs": [],
   "source": [
    "pp.loc[pp['공사예산_고객예산']==' 790만원 ~ 1,060만원', '공사예산_고객예산'] = '1,000만원 미만'"
   ]
  },
  {
   "cell_type": "code",
   "execution_count": 223,
   "metadata": {},
   "outputs": [],
   "source": [
    "pp.loc[pp['공사예산_고객예산']=='2500 ~ 3000', '공사예산_고객예산'] = '2,000만원 ~ 3,000만원 미만'"
   ]
  },
  {
   "cell_type": "code",
   "execution_count": 224,
   "metadata": {},
   "outputs": [],
   "source": [
    "pp.loc[pp['공사예산_고객예산']=='1300만원', '공사예산_고객예산'] = '1,000만원 ~ 2,000만원 미만'"
   ]
  },
  {
   "cell_type": "code",
   "execution_count": 226,
   "metadata": {
    "scrolled": true
   },
   "outputs": [
    {
     "data": {
      "text/plain": [
       "array([nan, '3,000만원 ~ 4,000만원 미만', '9,000만원 ~ 1억원 미만',\n",
       "       '1,000만원 ~ 2,000만원 미만', '2,000만원 ~ 3,000만원 미만',\n",
       "       '4,000만원 ~ 5,000만원 미만', '5,000만원 ~ 6,000만원 미만', ' ',\n",
       "       '6,000만원 ~ 7,000만원 미만', '3억원 ~ 4억원 미만', '1,000만원 미만',\n",
       "       '7,000만원 ~ 8,000만원 미만', ' 4,000만원 ~ 5,330만원', '2000 ~ 2500 만원',\n",
       "       '1000~2000만원', '3500~3700', '800', '1000', '3000이하 ', '1500~2500',\n",
       "       '1300', '3700', '2500만원', '2800만원 ', '1500~200', '2000이하', '1600',\n",
       "       '1400', '1800~2000', '5000~6000만원', '2500~3000만원 ', '2000~2500만원',\n",
       "       '5800', '3000 ~ 3500 만원', ' 3,710만원 ~ 4,950만원', '2000~3000만원',\n",
       "       ' 2,060만원 ~ 2,750만원', '4900만원', '1300만원~1500만원', '2000만원 미만 ',\n",
       "       '3300~3600', '1~1억2천', '1500~1800만원', '0', ' 2,790만원 ~ 3,720만원',\n",
       "       '1000~1100만원', '2000만원내', '5000만원이상', '1500 ~ 2000 만원', '2800',\n",
       "       '2000만원내외', '1000만원 ', '1000만원', '1500만원~2000만원', '1200~1500만원',\n",
       "       '1억', '3300', '500 ~ 1000만원', '4000~5000만원', '3200만원',\n",
       "       '1,000-2,000만원평', '1000~2000', '1500-2000', ' 3,130만원 ~ 4,170만원',\n",
       "       '1700만원', '2000~2300만원', '4500', '1500~1700만원 ', '1200만원',\n",
       "       '3800만원', '1000-1500', '2600', '6500', '1000-1500만원',\n",
       "       '2000 ~ 3000만원', '3000만원 ~ 5000만원 미만', '2000만원 ~ 3000만원 미만',\n",
       "       '1000만원 ~ 2000만원 미만', '5,000만원 - 1억원 미만', '1,000만원 - 2,000만원 미만',\n",
       "       '2,000만원 - 3,000만원 미만', '3,000만원 - 5,000만원 미만', '5000만원 ~ 1억원 미만',\n",
       "       '미정 (업체 상담후 결정)', '미정(업체 상담 후 결정)', '1000만원 미만', '4,898만원',\n",
       "       '미정 (업체 상담 후 결정)', '3,272만원', '2,009만원', '1,579만원', '2,284만원',\n",
       "       '1억원 이상', '2,986만원', '2,212만원', '3000-3200만원', '3000-4000만원',\n",
       "       '3500~4500', '3,000만원 - 3500만원', '4,732만원', '2,000만원 - 2500만원',\n",
       "       '2,105만원'], dtype=object)"
      ]
     },
     "execution_count": 226,
     "metadata": {},
     "output_type": "execute_result"
    }
   ],
   "source": [
    "pp['공사예산_고객예산'].unique()"
   ]
  },
  {
   "cell_type": "code",
   "execution_count": 227,
   "metadata": {},
   "outputs": [],
   "source": [
    "pp.loc[pp['공사예산_고객예산']==' 4,000만원 ~ 5,330만원', '공사예산_고객예산'] = '4,000만원 ~ 5,000만원 미만'"
   ]
  },
  {
   "cell_type": "code",
   "execution_count": 228,
   "metadata": {},
   "outputs": [],
   "source": [
    "pp.loc[pp['공사예산_고객예산']=='2000 ~ 2500 만원', '공사예산_고객예산'] = '2,000만원 ~ 3,000만원 미만'"
   ]
  },
  {
   "cell_type": "code",
   "execution_count": 229,
   "metadata": {},
   "outputs": [],
   "source": [
    "pp.loc[pp['공사예산_고객예산']=='1000~2000만원', '공사예산_고객예산'] = '1,000만원 ~ 2,000만원 미만'"
   ]
  },
  {
   "cell_type": "code",
   "execution_count": 230,
   "metadata": {},
   "outputs": [],
   "source": [
    "pp.loc[pp['공사예산_고객예산']=='3500~3700', '공사예산_고객예산'] = '3,000만원 ~ 4,000만원 미만'"
   ]
  },
  {
   "cell_type": "code",
   "execution_count": 231,
   "metadata": {},
   "outputs": [],
   "source": [
    "pp.loc[pp['공사예산_고객예산']=='800', '공사예산_고객예산'] = '1,000만원 미만'"
   ]
  },
  {
   "cell_type": "code",
   "execution_count": 232,
   "metadata": {},
   "outputs": [],
   "source": [
    "pp.loc[pp['공사예산_고객예산']=='1000', '공사예산_고객예산'] = '1,000만원 미만'"
   ]
  },
  {
   "cell_type": "code",
   "execution_count": 233,
   "metadata": {},
   "outputs": [],
   "source": [
    "pp.loc[pp['공사예산_고객예산']=='3000이하 ', '공사예산_고객예산'] = '2,000만원 ~ 3,000만원 미만'"
   ]
  },
  {
   "cell_type": "code",
   "execution_count": 234,
   "metadata": {},
   "outputs": [],
   "source": [
    "pp.loc[pp['공사예산_고객예산']=='1500~2500', '공사예산_고객예산'] = '1,000만원 ~ 2,000만원 미만'"
   ]
  },
  {
   "cell_type": "code",
   "execution_count": 235,
   "metadata": {},
   "outputs": [],
   "source": [
    "pp.loc[pp['공사예산_고객예산']=='1300', '공사예산_고객예산'] = '1,000만원 ~ 2,000만원 미만'"
   ]
  },
  {
   "cell_type": "code",
   "execution_count": 236,
   "metadata": {
    "scrolled": true
   },
   "outputs": [
    {
     "data": {
      "text/plain": [
       "array([nan, '3,000만원 ~ 4,000만원 미만', '9,000만원 ~ 1억원 미만',\n",
       "       '1,000만원 ~ 2,000만원 미만', '2,000만원 ~ 3,000만원 미만',\n",
       "       '4,000만원 ~ 5,000만원 미만', '5,000만원 ~ 6,000만원 미만', ' ',\n",
       "       '6,000만원 ~ 7,000만원 미만', '3억원 ~ 4억원 미만', '1,000만원 미만',\n",
       "       '7,000만원 ~ 8,000만원 미만', '3700', '2500만원', '2800만원 ', '1500~200',\n",
       "       '2000이하', '1600', '1400', '1800~2000', '5000~6000만원',\n",
       "       '2500~3000만원 ', '2000~2500만원', '5800', '3000 ~ 3500 만원',\n",
       "       ' 3,710만원 ~ 4,950만원', '2000~3000만원', ' 2,060만원 ~ 2,750만원',\n",
       "       '4900만원', '1300만원~1500만원', '2000만원 미만 ', '3300~3600', '1~1억2천',\n",
       "       '1500~1800만원', '0', ' 2,790만원 ~ 3,720만원', '1000~1100만원', '2000만원내',\n",
       "       '5000만원이상', '1500 ~ 2000 만원', '2800', '2000만원내외', '1000만원 ',\n",
       "       '1000만원', '1500만원~2000만원', '1200~1500만원', '1억', '3300',\n",
       "       '500 ~ 1000만원', '4000~5000만원', '3200만원', '1,000-2,000만원평',\n",
       "       '1000~2000', '1500-2000', ' 3,130만원 ~ 4,170만원', '1700만원',\n",
       "       '2000~2300만원', '4500', '1500~1700만원 ', '1200만원', '3800만원',\n",
       "       '1000-1500', '2600', '6500', '1000-1500만원', '2000 ~ 3000만원',\n",
       "       '3000만원 ~ 5000만원 미만', '2000만원 ~ 3000만원 미만', '1000만원 ~ 2000만원 미만',\n",
       "       '5,000만원 - 1억원 미만', '1,000만원 - 2,000만원 미만', '2,000만원 - 3,000만원 미만',\n",
       "       '3,000만원 - 5,000만원 미만', '5000만원 ~ 1억원 미만', '미정 (업체 상담후 결정)',\n",
       "       '미정(업체 상담 후 결정)', '1000만원 미만', '4,898만원', '미정 (업체 상담 후 결정)',\n",
       "       '3,272만원', '2,009만원', '1,579만원', '2,284만원', '1억원 이상', '2,986만원',\n",
       "       '2,212만원', '3000-3200만원', '3000-4000만원', '3500~4500',\n",
       "       '3,000만원 - 3500만원', '4,732만원', '2,000만원 - 2500만원', '2,105만원'],\n",
       "      dtype=object)"
      ]
     },
     "execution_count": 236,
     "metadata": {},
     "output_type": "execute_result"
    }
   ],
   "source": [
    "pp['공사예산_고객예산'].unique()"
   ]
  },
  {
   "cell_type": "code",
   "execution_count": 237,
   "metadata": {},
   "outputs": [],
   "source": [
    "pp.loc[pp['공사예산_고객예산']=='3700', '공사예산_고객예산'] = '3,000만원 ~ 4,000만원 미만'"
   ]
  },
  {
   "cell_type": "code",
   "execution_count": 238,
   "metadata": {},
   "outputs": [],
   "source": [
    "pp.loc[pp['공사예산_고객예산']=='2500만원', '공사예산_고객예산'] = '2,000만원 ~ 3,000만원 미만'"
   ]
  },
  {
   "cell_type": "code",
   "execution_count": 239,
   "metadata": {},
   "outputs": [],
   "source": [
    "pp.loc[pp['공사예산_고객예산']=='2800만원 ', '공사예산_고객예산'] = '2,000만원 ~ 3,000만원 미만'"
   ]
  },
  {
   "cell_type": "code",
   "execution_count": 240,
   "metadata": {},
   "outputs": [],
   "source": [
    "pp.loc[pp['공사예산_고객예산']=='1500~200', '공사예산_고객예산'] = '1,000만원 ~ 2,000만원 미만'"
   ]
  },
  {
   "cell_type": "code",
   "execution_count": 241,
   "metadata": {},
   "outputs": [],
   "source": [
    "pp.loc[pp['공사예산_고객예산']=='2000이하', '공사예산_고객예산'] = '1,000만원 ~ 2,000만원 미만'"
   ]
  },
  {
   "cell_type": "code",
   "execution_count": 242,
   "metadata": {},
   "outputs": [],
   "source": [
    "pp.loc[pp['공사예산_고객예산']=='1600', '공사예산_고객예산'] = '1,000만원 ~ 2,000만원 미만'"
   ]
  },
  {
   "cell_type": "code",
   "execution_count": 243,
   "metadata": {},
   "outputs": [],
   "source": [
    "pp.loc[pp['공사예산_고객예산']=='1400', '공사예산_고객예산'] = '1,000만원 ~ 2,000만원 미만'"
   ]
  },
  {
   "cell_type": "code",
   "execution_count": 244,
   "metadata": {},
   "outputs": [],
   "source": [
    "pp.loc[pp['공사예산_고객예산']=='1800~2000', '공사예산_고객예산'] = '1,000만원 ~ 2,000만원 미만'"
   ]
  },
  {
   "cell_type": "code",
   "execution_count": 245,
   "metadata": {},
   "outputs": [],
   "source": [
    "pp.loc[pp['공사예산_고객예산']=='5000~6000만원', '공사예산_고객예산'] = '5,000만원 ~ 6,000만원 미만'"
   ]
  },
  {
   "cell_type": "code",
   "execution_count": 246,
   "metadata": {},
   "outputs": [],
   "source": [
    "pp.loc[pp['공사예산_고객예산']=='2500~3000만원 ', '공사예산_고객예산'] = '2,000만원 ~ 3,000만원 미만'"
   ]
  },
  {
   "cell_type": "code",
   "execution_count": 247,
   "metadata": {},
   "outputs": [],
   "source": [
    "pp.loc[pp['공사예산_고객예산']=='2000~2500만원', '공사예산_고객예산'] = '2,000만원 ~ 3,000만원 미만'"
   ]
  },
  {
   "cell_type": "code",
   "execution_count": 248,
   "metadata": {},
   "outputs": [],
   "source": [
    "pp.loc[pp['공사예산_고객예산']=='5800', '공사예산_고객예산'] = '5,000만원 ~ 6,000만원 미만'"
   ]
  },
  {
   "cell_type": "code",
   "execution_count": 249,
   "metadata": {
    "scrolled": true
   },
   "outputs": [
    {
     "data": {
      "text/plain": [
       "array([nan, '3,000만원 ~ 4,000만원 미만', '9,000만원 ~ 1억원 미만',\n",
       "       '1,000만원 ~ 2,000만원 미만', '2,000만원 ~ 3,000만원 미만',\n",
       "       '4,000만원 ~ 5,000만원 미만', '5,000만원 ~ 6,000만원 미만', ' ',\n",
       "       '6,000만원 ~ 7,000만원 미만', '3억원 ~ 4억원 미만', '1,000만원 미만',\n",
       "       '7,000만원 ~ 8,000만원 미만', '3000 ~ 3500 만원', ' 3,710만원 ~ 4,950만원',\n",
       "       '2000~3000만원', ' 2,060만원 ~ 2,750만원', '4900만원', '1300만원~1500만원',\n",
       "       '2000만원 미만 ', '3300~3600', '1~1억2천', '1500~1800만원', '0',\n",
       "       ' 2,790만원 ~ 3,720만원', '1000~1100만원', '2000만원내', '5000만원이상',\n",
       "       '1500 ~ 2000 만원', '2800', '2000만원내외', '1000만원 ', '1000만원',\n",
       "       '1500만원~2000만원', '1200~1500만원', '1억', '3300', '500 ~ 1000만원',\n",
       "       '4000~5000만원', '3200만원', '1,000-2,000만원평', '1000~2000',\n",
       "       '1500-2000', ' 3,130만원 ~ 4,170만원', '1700만원', '2000~2300만원', '4500',\n",
       "       '1500~1700만원 ', '1200만원', '3800만원', '1000-1500', '2600', '6500',\n",
       "       '1000-1500만원', '2000 ~ 3000만원', '3000만원 ~ 5000만원 미만',\n",
       "       '2000만원 ~ 3000만원 미만', '1000만원 ~ 2000만원 미만', '5,000만원 - 1억원 미만',\n",
       "       '1,000만원 - 2,000만원 미만', '2,000만원 - 3,000만원 미만',\n",
       "       '3,000만원 - 5,000만원 미만', '5000만원 ~ 1억원 미만', '미정 (업체 상담후 결정)',\n",
       "       '미정(업체 상담 후 결정)', '1000만원 미만', '4,898만원', '미정 (업체 상담 후 결정)',\n",
       "       '3,272만원', '2,009만원', '1,579만원', '2,284만원', '1억원 이상', '2,986만원',\n",
       "       '2,212만원', '3000-3200만원', '3000-4000만원', '3500~4500',\n",
       "       '3,000만원 - 3500만원', '4,732만원', '2,000만원 - 2500만원', '2,105만원'],\n",
       "      dtype=object)"
      ]
     },
     "execution_count": 249,
     "metadata": {},
     "output_type": "execute_result"
    }
   ],
   "source": [
    "pp['공사예산_고객예산'].unique()"
   ]
  },
  {
   "cell_type": "code",
   "execution_count": 250,
   "metadata": {},
   "outputs": [],
   "source": [
    "pp.loc[pp['공사예산_고객예산']=='3000 ~ 3500 만원', '공사예산_고객예산'] = '3,000만원 ~ 4,000만원 미만'"
   ]
  },
  {
   "cell_type": "code",
   "execution_count": 251,
   "metadata": {},
   "outputs": [],
   "source": [
    "pp.loc[pp['공사예산_고객예산']==' 3,710만원 ~ 4,950만원', '공사예산_고객예산'] = '4,000만원 ~ 5,000만원 미만'"
   ]
  },
  {
   "cell_type": "code",
   "execution_count": 252,
   "metadata": {},
   "outputs": [],
   "source": [
    "pp.loc[pp['공사예산_고객예산']=='2000~3000만원', '공사예산_고객예산'] = '2,000만원 ~ 3,000만원 미만'"
   ]
  },
  {
   "cell_type": "code",
   "execution_count": 253,
   "metadata": {},
   "outputs": [],
   "source": [
    "pp.loc[pp['공사예산_고객예산']==' 2,060만원 ~ 2,750만원', '공사예산_고객예산'] = '2,000만원 ~ 3,000만원 미만'"
   ]
  },
  {
   "cell_type": "code",
   "execution_count": 254,
   "metadata": {},
   "outputs": [],
   "source": [
    "pp.loc[pp['공사예산_고객예산']=='4900만원', '공사예산_고객예산'] = '4,000만원 ~ 5,000만원 미만'"
   ]
  },
  {
   "cell_type": "code",
   "execution_count": 255,
   "metadata": {},
   "outputs": [],
   "source": [
    "pp.loc[pp['공사예산_고객예산']=='1300만원~1500만원', '공사예산_고객예산'] = '1,000만원 ~ 2,000만원 미만'"
   ]
  },
  {
   "cell_type": "code",
   "execution_count": 256,
   "metadata": {},
   "outputs": [],
   "source": [
    "pp.loc[pp['공사예산_고객예산']=='2000만원 미만 ', '공사예산_고객예산'] = '1,000만원 ~ 2,000만원 미만'"
   ]
  },
  {
   "cell_type": "code",
   "execution_count": 257,
   "metadata": {},
   "outputs": [],
   "source": [
    "pp.loc[pp['공사예산_고객예산']=='3300~3600', '공사예산_고객예산'] = '3,000만원 ~ 4,000만원 미만'"
   ]
  },
  {
   "cell_type": "code",
   "execution_count": 258,
   "metadata": {},
   "outputs": [],
   "source": [
    "pp.loc[pp['공사예산_고객예산']=='1~1억2천', '공사예산_고객예산'] = '1억원 ~ 1.5억원 미만'"
   ]
  },
  {
   "cell_type": "code",
   "execution_count": 259,
   "metadata": {},
   "outputs": [],
   "source": [
    "pp.loc[pp['공사예산_고객예산']=='1500~1800만원', '공사예산_고객예산'] = '1,000만원 ~ 2,000만원 미만'"
   ]
  },
  {
   "cell_type": "code",
   "execution_count": 260,
   "metadata": {},
   "outputs": [],
   "source": [
    "pp.loc[pp['공사예산_고객예산']==' 2,790만원 ~ 3,720만원', '공사예산_고객예산'] = '3,000만원 ~ 4,000만원 미만'"
   ]
  },
  {
   "cell_type": "code",
   "execution_count": 261,
   "metadata": {
    "scrolled": false
   },
   "outputs": [
    {
     "data": {
      "text/plain": [
       "array([nan, '3,000만원 ~ 4,000만원 미만', '9,000만원 ~ 1억원 미만',\n",
       "       '1,000만원 ~ 2,000만원 미만', '2,000만원 ~ 3,000만원 미만',\n",
       "       '4,000만원 ~ 5,000만원 미만', '5,000만원 ~ 6,000만원 미만', ' ',\n",
       "       '6,000만원 ~ 7,000만원 미만', '3억원 ~ 4억원 미만', '1,000만원 미만',\n",
       "       '7,000만원 ~ 8,000만원 미만', '1억원 ~ 1.5억원 미만', '0', '1000~1100만원',\n",
       "       '2000만원내', '5000만원이상', '1500 ~ 2000 만원', '2800', '2000만원내외',\n",
       "       '1000만원 ', '1000만원', '1500만원~2000만원', '1200~1500만원', '1억', '3300',\n",
       "       '500 ~ 1000만원', '4000~5000만원', '3200만원', '1,000-2,000만원평',\n",
       "       '1000~2000', '1500-2000', ' 3,130만원 ~ 4,170만원', '1700만원',\n",
       "       '2000~2300만원', '4500', '1500~1700만원 ', '1200만원', '3800만원',\n",
       "       '1000-1500', '2600', '6500', '1000-1500만원', '2000 ~ 3000만원',\n",
       "       '3000만원 ~ 5000만원 미만', '2000만원 ~ 3000만원 미만', '1000만원 ~ 2000만원 미만',\n",
       "       '5,000만원 - 1억원 미만', '1,000만원 - 2,000만원 미만', '2,000만원 - 3,000만원 미만',\n",
       "       '3,000만원 - 5,000만원 미만', '5000만원 ~ 1억원 미만', '미정 (업체 상담후 결정)',\n",
       "       '미정(업체 상담 후 결정)', '1000만원 미만', '4,898만원', '미정 (업체 상담 후 결정)',\n",
       "       '3,272만원', '2,009만원', '1,579만원', '2,284만원', '1억원 이상', '2,986만원',\n",
       "       '2,212만원', '3000-3200만원', '3000-4000만원', '3500~4500',\n",
       "       '3,000만원 - 3500만원', '4,732만원', '2,000만원 - 2500만원', '2,105만원'],\n",
       "      dtype=object)"
      ]
     },
     "execution_count": 261,
     "metadata": {},
     "output_type": "execute_result"
    }
   ],
   "source": [
    "pp['공사예산_고객예산'].unique()"
   ]
  },
  {
   "cell_type": "code",
   "execution_count": 262,
   "metadata": {},
   "outputs": [],
   "source": [
    "pp.loc[pp['공사예산_고객예산']=='1000~1100만원', '공사예산_고객예산'] = '1,000만원 ~ 2,000만원 미만'"
   ]
  },
  {
   "cell_type": "code",
   "execution_count": 263,
   "metadata": {},
   "outputs": [],
   "source": [
    "pp.loc[pp['공사예산_고객예산']=='2000만원내', '공사예산_고객예산'] = '1,000만원 ~ 2,000만원 미만'"
   ]
  },
  {
   "cell_type": "code",
   "execution_count": 264,
   "metadata": {},
   "outputs": [],
   "source": [
    "pp.loc[pp['공사예산_고객예산']=='5000만원이상', '공사예산_고객예산'] = '5,000만원 ~ 6,000만원 미만'"
   ]
  },
  {
   "cell_type": "code",
   "execution_count": 265,
   "metadata": {},
   "outputs": [],
   "source": [
    "pp.loc[pp['공사예산_고객예산']=='1500 ~ 2000 만원', '공사예산_고객예산'] = '1,000만원 ~ 2,000만원 미만'"
   ]
  },
  {
   "cell_type": "code",
   "execution_count": 266,
   "metadata": {},
   "outputs": [],
   "source": [
    "pp.loc[pp['공사예산_고객예산']=='2800', '공사예산_고객예산'] = '2,000만원 ~ 3,000만원 미만'"
   ]
  },
  {
   "cell_type": "code",
   "execution_count": 267,
   "metadata": {},
   "outputs": [],
   "source": [
    "pp.loc[pp['공사예산_고객예산']=='2000만원내외', '공사예산_고객예산'] = '1,000만원 ~ 2,000만원 미만'"
   ]
  },
  {
   "cell_type": "code",
   "execution_count": 268,
   "metadata": {},
   "outputs": [],
   "source": [
    "pp.loc[pp['공사예산_고객예산']=='1000만원 ', '공사예산_고객예산'] = '1,000만원 미만'"
   ]
  },
  {
   "cell_type": "code",
   "execution_count": 269,
   "metadata": {},
   "outputs": [],
   "source": [
    "pp.loc[pp['공사예산_고객예산']=='1000만원', '공사예산_고객예산'] = '1,000만원 미만'"
   ]
  },
  {
   "cell_type": "code",
   "execution_count": 270,
   "metadata": {},
   "outputs": [],
   "source": [
    "pp.loc[pp['공사예산_고객예산']=='1500만원~2000만원', '공사예산_고객예산'] = '1,000만원 ~ 2,000만원 미만'"
   ]
  },
  {
   "cell_type": "code",
   "execution_count": 271,
   "metadata": {},
   "outputs": [],
   "source": [
    "pp.loc[pp['공사예산_고객예산']=='1200~1500만원', '공사예산_고객예산'] = '1,000만원 ~ 2,000만원 미만'"
   ]
  },
  {
   "cell_type": "code",
   "execution_count": 272,
   "metadata": {},
   "outputs": [],
   "source": [
    "pp.loc[pp['공사예산_고객예산']=='1억', '공사예산_고객예산'] = '9,000만원 ~ 1억원 미만'"
   ]
  },
  {
   "cell_type": "code",
   "execution_count": 273,
   "metadata": {},
   "outputs": [],
   "source": [
    "pp.loc[pp['공사예산_고객예산']=='3300', '공사예산_고객예산'] = '3,000만원 ~ 4,000만원 미만'"
   ]
  },
  {
   "cell_type": "code",
   "execution_count": 274,
   "metadata": {},
   "outputs": [
    {
     "data": {
      "text/plain": [
       "array([nan, '3,000만원 ~ 4,000만원 미만', '9,000만원 ~ 1억원 미만',\n",
       "       '1,000만원 ~ 2,000만원 미만', '2,000만원 ~ 3,000만원 미만',\n",
       "       '4,000만원 ~ 5,000만원 미만', '5,000만원 ~ 6,000만원 미만', ' ',\n",
       "       '6,000만원 ~ 7,000만원 미만', '3억원 ~ 4억원 미만', '1,000만원 미만',\n",
       "       '7,000만원 ~ 8,000만원 미만', '1억원 ~ 1.5억원 미만', '0', '500 ~ 1000만원',\n",
       "       '4000~5000만원', '3200만원', '1,000-2,000만원평', '1000~2000',\n",
       "       '1500-2000', ' 3,130만원 ~ 4,170만원', '1700만원', '2000~2300만원', '4500',\n",
       "       '1500~1700만원 ', '1200만원', '3800만원', '1000-1500', '2600', '6500',\n",
       "       '1000-1500만원', '2000 ~ 3000만원', '3000만원 ~ 5000만원 미만',\n",
       "       '2000만원 ~ 3000만원 미만', '1000만원 ~ 2000만원 미만', '5,000만원 - 1억원 미만',\n",
       "       '1,000만원 - 2,000만원 미만', '2,000만원 - 3,000만원 미만',\n",
       "       '3,000만원 - 5,000만원 미만', '5000만원 ~ 1억원 미만', '미정 (업체 상담후 결정)',\n",
       "       '미정(업체 상담 후 결정)', '1000만원 미만', '4,898만원', '미정 (업체 상담 후 결정)',\n",
       "       '3,272만원', '2,009만원', '1,579만원', '2,284만원', '1억원 이상', '2,986만원',\n",
       "       '2,212만원', '3000-3200만원', '3000-4000만원', '3500~4500',\n",
       "       '3,000만원 - 3500만원', '4,732만원', '2,000만원 - 2500만원', '2,105만원'],\n",
       "      dtype=object)"
      ]
     },
     "execution_count": 274,
     "metadata": {},
     "output_type": "execute_result"
    }
   ],
   "source": [
    "pp['공사예산_고객예산'].unique()"
   ]
  },
  {
   "cell_type": "code",
   "execution_count": 275,
   "metadata": {},
   "outputs": [],
   "source": [
    "pp.loc[pp['공사예산_고객예산']=='500 ~ 1000만원', '공사예산_고객예산'] = '1,000만원 미만'"
   ]
  },
  {
   "cell_type": "code",
   "execution_count": 276,
   "metadata": {},
   "outputs": [],
   "source": [
    "pp.loc[pp['공사예산_고객예산']=='4000~5000만원', '공사예산_고객예산'] = '4,000만원 ~ 5,000만원 미만'"
   ]
  },
  {
   "cell_type": "code",
   "execution_count": 277,
   "metadata": {},
   "outputs": [],
   "source": [
    "pp.loc[pp['공사예산_고객예산']=='3200만원', '공사예산_고객예산'] = '3,000만원 ~ 4,000만원 미만'"
   ]
  },
  {
   "cell_type": "code",
   "execution_count": 278,
   "metadata": {},
   "outputs": [],
   "source": [
    "pp.loc[pp['공사예산_고객예산']=='1,000-2,000만원평', '공사예산_고객예산'] = '1,000만원 ~ 2,000만원 미만'"
   ]
  },
  {
   "cell_type": "code",
   "execution_count": 279,
   "metadata": {},
   "outputs": [],
   "source": [
    "pp.loc[pp['공사예산_고객예산']=='1000~2000', '공사예산_고객예산'] = '1,000만원 ~ 2,000만원 미만'"
   ]
  },
  {
   "cell_type": "code",
   "execution_count": 280,
   "metadata": {},
   "outputs": [],
   "source": [
    "pp.loc[pp['공사예산_고객예산']=='1500-2000', '공사예산_고객예산'] = '1,000만원 ~ 2,000만원 미만'"
   ]
  },
  {
   "cell_type": "code",
   "execution_count": 281,
   "metadata": {},
   "outputs": [],
   "source": [
    "pp.loc[pp['공사예산_고객예산']==' 3,130만원 ~ 4,170만원', '공사예산_고객예산'] = '3,000만원 ~ 4,000만원 미만'"
   ]
  },
  {
   "cell_type": "code",
   "execution_count": 282,
   "metadata": {},
   "outputs": [],
   "source": [
    "pp.loc[pp['공사예산_고객예산']=='1700만원', '공사예산_고객예산'] = '1,000만원 ~ 2,000만원 미만'"
   ]
  },
  {
   "cell_type": "code",
   "execution_count": 283,
   "metadata": {},
   "outputs": [],
   "source": [
    "pp.loc[pp['공사예산_고객예산']=='2000~2300만원', '공사예산_고객예산'] = '2,000만원 ~ 3,000만원 미만'"
   ]
  },
  {
   "cell_type": "code",
   "execution_count": 284,
   "metadata": {},
   "outputs": [],
   "source": [
    "pp.loc[pp['공사예산_고객예산']=='4500', '공사예산_고객예산'] = '4,000만원 ~ 5,000만원 미만'"
   ]
  },
  {
   "cell_type": "code",
   "execution_count": 285,
   "metadata": {},
   "outputs": [],
   "source": [
    "pp.loc[pp['공사예산_고객예산']=='1500~1700만원 ', '공사예산_고객예산'] = '1,000만원 ~ 2,000만원 미만'"
   ]
  },
  {
   "cell_type": "code",
   "execution_count": 286,
   "metadata": {},
   "outputs": [],
   "source": [
    "pp.loc[pp['공사예산_고객예산']=='1200만원', '공사예산_고객예산'] = '1,000만원 ~ 2,000만원 미만'"
   ]
  },
  {
   "cell_type": "code",
   "execution_count": 287,
   "metadata": {},
   "outputs": [],
   "source": [
    "pp.loc[pp['공사예산_고객예산']=='3800만원', '공사예산_고객예산'] = '3,000만원 ~ 4,000만원 미만'"
   ]
  },
  {
   "cell_type": "code",
   "execution_count": 288,
   "metadata": {},
   "outputs": [],
   "source": [
    "pp.loc[pp['공사예산_고객예산']=='1000-1500', '공사예산_고객예산'] = '1,000만원 ~ 2,000만원 미만'"
   ]
  },
  {
   "cell_type": "code",
   "execution_count": 289,
   "metadata": {},
   "outputs": [
    {
     "data": {
      "text/plain": [
       "array([nan, '3,000만원 ~ 4,000만원 미만', '9,000만원 ~ 1억원 미만',\n",
       "       '1,000만원 ~ 2,000만원 미만', '2,000만원 ~ 3,000만원 미만',\n",
       "       '4,000만원 ~ 5,000만원 미만', '5,000만원 ~ 6,000만원 미만', ' ',\n",
       "       '6,000만원 ~ 7,000만원 미만', '3억원 ~ 4억원 미만', '1,000만원 미만',\n",
       "       '7,000만원 ~ 8,000만원 미만', '1억원 ~ 1.5억원 미만', '0', '2600', '6500',\n",
       "       '1000-1500만원', '2000 ~ 3000만원', '3000만원 ~ 5000만원 미만',\n",
       "       '2000만원 ~ 3000만원 미만', '1000만원 ~ 2000만원 미만', '5,000만원 - 1억원 미만',\n",
       "       '1,000만원 - 2,000만원 미만', '2,000만원 - 3,000만원 미만',\n",
       "       '3,000만원 - 5,000만원 미만', '5000만원 ~ 1억원 미만', '미정 (업체 상담후 결정)',\n",
       "       '미정(업체 상담 후 결정)', '1000만원 미만', '4,898만원', '미정 (업체 상담 후 결정)',\n",
       "       '3,272만원', '2,009만원', '1,579만원', '2,284만원', '1억원 이상', '2,986만원',\n",
       "       '2,212만원', '3000-3200만원', '3000-4000만원', '3500~4500',\n",
       "       '3,000만원 - 3500만원', '4,732만원', '2,000만원 - 2500만원', '2,105만원'],\n",
       "      dtype=object)"
      ]
     },
     "execution_count": 289,
     "metadata": {},
     "output_type": "execute_result"
    }
   ],
   "source": [
    "pp['공사예산_고객예산'].unique()"
   ]
  },
  {
   "cell_type": "code",
   "execution_count": 290,
   "metadata": {},
   "outputs": [],
   "source": [
    "pp.loc[pp['공사예산_고객예산']=='2600', '공사예산_고객예산'] = '2,000만원 ~ 3,000만원 미만'"
   ]
  },
  {
   "cell_type": "code",
   "execution_count": 291,
   "metadata": {},
   "outputs": [],
   "source": [
    "pp.loc[pp['공사예산_고객예산']=='6500', '공사예산_고객예산'] = '6,000만원 ~ 7,000만원 미만'"
   ]
  },
  {
   "cell_type": "code",
   "execution_count": 292,
   "metadata": {},
   "outputs": [],
   "source": [
    "pp.loc[pp['공사예산_고객예산']=='1000-1500만원', '공사예산_고객예산'] = '1,000만원 ~ 2,000만원 미만'"
   ]
  },
  {
   "cell_type": "code",
   "execution_count": 293,
   "metadata": {},
   "outputs": [],
   "source": [
    "pp.loc[pp['공사예산_고객예산']=='2000 ~ 3000만원', '공사예산_고객예산'] = '2,000만원 ~ 3,000만원 미만'"
   ]
  },
  {
   "cell_type": "code",
   "execution_count": 294,
   "metadata": {},
   "outputs": [],
   "source": [
    "pp.loc[pp['공사예산_고객예산']=='3000만원 ~ 5000만원 미만', '공사예산_고객예산'] = '4,000만원 ~ 5,000만원 미만'"
   ]
  },
  {
   "cell_type": "code",
   "execution_count": 295,
   "metadata": {},
   "outputs": [],
   "source": [
    "pp.loc[pp['공사예산_고객예산']=='2000만원 ~ 3000만원 미만', '공사예산_고객예산'] = '2,000만원 ~ 3,000만원 미만'"
   ]
  },
  {
   "cell_type": "code",
   "execution_count": 296,
   "metadata": {},
   "outputs": [],
   "source": [
    "pp.loc[pp['공사예산_고객예산']=='1000만원 ~ 2000만원 미만', '공사예산_고객예산'] = '1,000만원 ~ 2,000만원 미만'"
   ]
  },
  {
   "cell_type": "code",
   "execution_count": 297,
   "metadata": {},
   "outputs": [],
   "source": [
    "pp.loc[pp['공사예산_고객예산']=='2,000만원 - 3,000만원 미만', '공사예산_고객예산'] = '2,000만원 ~ 3,000만원 미만'"
   ]
  },
  {
   "cell_type": "code",
   "execution_count": 298,
   "metadata": {},
   "outputs": [],
   "source": [
    "pp.loc[pp['공사예산_고객예산']=='3,000만원 - 5,000만원 미만', '공사예산_고객예산'] = '4,000만원 ~ 5,000만원 미만'"
   ]
  },
  {
   "cell_type": "code",
   "execution_count": 299,
   "metadata": {},
   "outputs": [],
   "source": [
    "pp.loc[pp['공사예산_고객예산']=='5000만원 ~ 1억원 미만', '공사예산_고객예산'] = '9,000만원 ~ 1억원 미만'"
   ]
  },
  {
   "cell_type": "code",
   "execution_count": 300,
   "metadata": {},
   "outputs": [],
   "source": [
    "pp.loc[pp['공사예산_고객예산']=='1000만원 미만', '공사예산_고객예산'] = '1,000만원 미만'"
   ]
  },
  {
   "cell_type": "code",
   "execution_count": 301,
   "metadata": {},
   "outputs": [],
   "source": [
    "pp.loc[pp['공사예산_고객예산']=='4,898만원', '공사예산_고객예산'] = '4,000만원 ~ 5,000만원 미만'"
   ]
  },
  {
   "cell_type": "code",
   "execution_count": 302,
   "metadata": {},
   "outputs": [],
   "source": [
    "pp.loc[pp['공사예산_고객예산']=='3,272만원', '공사예산_고객예산'] = '3,000만원 ~ 4,000만원 미만'"
   ]
  },
  {
   "cell_type": "code",
   "execution_count": 303,
   "metadata": {},
   "outputs": [],
   "source": [
    "pp.loc[pp['공사예산_고객예산']=='2,009만원', '공사예산_고객예산'] = '1,000만원 ~ 2,000만원 미만'"
   ]
  },
  {
   "cell_type": "code",
   "execution_count": 304,
   "metadata": {},
   "outputs": [],
   "source": [
    "pp.loc[pp['공사예산_고객예산']=='1,579만원', '공사예산_고객예산'] = '1,000만원 ~ 2,000만원 미만'"
   ]
  },
  {
   "cell_type": "code",
   "execution_count": 305,
   "metadata": {},
   "outputs": [],
   "source": [
    "pp.loc[pp['공사예산_고객예산']=='2,284만원', '공사예산_고객예산'] = '2,000만원 ~ 3,000만원 미만'"
   ]
  },
  {
   "cell_type": "code",
   "execution_count": 306,
   "metadata": {},
   "outputs": [],
   "source": [
    "pp.loc[pp['공사예산_고객예산']=='1억원 이상', '공사예산_고객예산'] = '1억원 ~ 1.5억원 미만'"
   ]
  },
  {
   "cell_type": "code",
   "execution_count": 307,
   "metadata": {},
   "outputs": [
    {
     "data": {
      "text/plain": [
       "array([nan, '3,000만원 ~ 4,000만원 미만', '9,000만원 ~ 1억원 미만',\n",
       "       '1,000만원 ~ 2,000만원 미만', '2,000만원 ~ 3,000만원 미만',\n",
       "       '4,000만원 ~ 5,000만원 미만', '5,000만원 ~ 6,000만원 미만', ' ',\n",
       "       '6,000만원 ~ 7,000만원 미만', '3억원 ~ 4억원 미만', '1,000만원 미만',\n",
       "       '7,000만원 ~ 8,000만원 미만', '1억원 ~ 1.5억원 미만', '0', '5,000만원 - 1억원 미만',\n",
       "       '1,000만원 - 2,000만원 미만', '미정 (업체 상담후 결정)', '미정(업체 상담 후 결정)',\n",
       "       '미정 (업체 상담 후 결정)', '2,986만원', '2,212만원', '3000-3200만원',\n",
       "       '3000-4000만원', '3500~4500', '3,000만원 - 3500만원', '4,732만원',\n",
       "       '2,000만원 - 2500만원', '2,105만원'], dtype=object)"
      ]
     },
     "execution_count": 307,
     "metadata": {},
     "output_type": "execute_result"
    }
   ],
   "source": [
    "pp['공사예산_고객예산'].unique()"
   ]
  },
  {
   "cell_type": "code",
   "execution_count": 308,
   "metadata": {},
   "outputs": [],
   "source": [
    "pp.loc[pp['공사예산_고객예산']=='5,000만원 - 1억원 미만', '공사예산_고객예산'] = '9,000만원 ~ 1억원 미만'"
   ]
  },
  {
   "cell_type": "code",
   "execution_count": 309,
   "metadata": {},
   "outputs": [],
   "source": [
    "pp.loc[pp['공사예산_고객예산']=='1,000만원 - 2,000만원 미만', '공사예산_고객예산'] = '1,000만원 ~ 2,000만원 미만'"
   ]
  },
  {
   "cell_type": "code",
   "execution_count": 310,
   "metadata": {},
   "outputs": [],
   "source": [
    "pp.loc[pp['공사예산_고객예산']=='2,986만원', '공사예산_고객예산'] = '2,000만원 ~ 3,000만원 미만'"
   ]
  },
  {
   "cell_type": "code",
   "execution_count": 311,
   "metadata": {},
   "outputs": [],
   "source": [
    "pp.loc[pp['공사예산_고객예산']=='2,212만원', '공사예산_고객예산'] = '2,000만원 ~ 3,000만원 미만'"
   ]
  },
  {
   "cell_type": "code",
   "execution_count": 312,
   "metadata": {},
   "outputs": [],
   "source": [
    "pp.loc[pp['공사예산_고객예산']=='3000-3200만원', '공사예산_고객예산'] = '3,000만원 ~ 4,000만원 미만'"
   ]
  },
  {
   "cell_type": "code",
   "execution_count": 313,
   "metadata": {},
   "outputs": [],
   "source": [
    "pp.loc[pp['공사예산_고객예산']=='3000-4000만원', '공사예산_고객예산'] = '3,000만원 ~ 4,000만원 미만'"
   ]
  },
  {
   "cell_type": "code",
   "execution_count": 314,
   "metadata": {},
   "outputs": [],
   "source": [
    "pp.loc[pp['공사예산_고객예산']=='3500~4500', '공사예산_고객예산'] = '3,000만원 ~ 4,000만원 미만'"
   ]
  },
  {
   "cell_type": "code",
   "execution_count": 315,
   "metadata": {},
   "outputs": [],
   "source": [
    "pp.loc[pp['공사예산_고객예산']=='3,000만원 - 3500만원', '공사예산_고객예산'] = '3,000만원 ~ 4,000만원 미만'"
   ]
  },
  {
   "cell_type": "code",
   "execution_count": 316,
   "metadata": {},
   "outputs": [],
   "source": [
    "pp.loc[pp['공사예산_고객예산']=='4,732만원', '공사예산_고객예산'] = '4,000만원 ~ 5,000만원 미만'"
   ]
  },
  {
   "cell_type": "code",
   "execution_count": 317,
   "metadata": {},
   "outputs": [],
   "source": [
    "pp.loc[pp['공사예산_고객예산']=='2,000만원 - 2500만원', '공사예산_고객예산'] = '2,000만원 ~ 3,000만원 미만'"
   ]
  },
  {
   "cell_type": "code",
   "execution_count": 318,
   "metadata": {},
   "outputs": [],
   "source": [
    "pp.loc[pp['공사예산_고객예산']=='2,105만원', '공사예산_고객예산'] = '2,000만원 ~ 3,000만원 미만'"
   ]
  },
  {
   "cell_type": "code",
   "execution_count": 319,
   "metadata": {},
   "outputs": [
    {
     "data": {
      "text/plain": [
       "array([nan, '3,000만원 ~ 4,000만원 미만', '9,000만원 ~ 1억원 미만',\n",
       "       '1,000만원 ~ 2,000만원 미만', '2,000만원 ~ 3,000만원 미만',\n",
       "       '4,000만원 ~ 5,000만원 미만', '5,000만원 ~ 6,000만원 미만', ' ',\n",
       "       '6,000만원 ~ 7,000만원 미만', '3억원 ~ 4억원 미만', '1,000만원 미만',\n",
       "       '7,000만원 ~ 8,000만원 미만', '1억원 ~ 1.5억원 미만', '0', '미정 (업체 상담후 결정)',\n",
       "       '미정(업체 상담 후 결정)', '미정 (업체 상담 후 결정)'], dtype=object)"
      ]
     },
     "execution_count": 319,
     "metadata": {},
     "output_type": "execute_result"
    }
   ],
   "source": [
    "pp['공사예산_고객예산'].unique()"
   ]
  },
  {
   "cell_type": "code",
   "execution_count": 320,
   "metadata": {},
   "outputs": [],
   "source": [
    "pp.loc[pp['공사예산_고객예산']=='미정 (업체 상담후 결정)', '공사예산_고객예산'] = '미정 (업체 상담 후 결정)'"
   ]
  },
  {
   "cell_type": "code",
   "execution_count": 321,
   "metadata": {},
   "outputs": [],
   "source": [
    "pp.loc[pp['공사예산_고객예산']=='미정(업체 상담 후 결정)', '공사예산_고객예산'] = '미정 (업체 상담 후 결정)'"
   ]
  },
  {
   "cell_type": "code",
   "execution_count": 322,
   "metadata": {
    "scrolled": true
   },
   "outputs": [
    {
     "data": {
      "text/plain": [
       "array([nan, '3,000만원 ~ 4,000만원 미만', '9,000만원 ~ 1억원 미만',\n",
       "       '1,000만원 ~ 2,000만원 미만', '2,000만원 ~ 3,000만원 미만',\n",
       "       '4,000만원 ~ 5,000만원 미만', '5,000만원 ~ 6,000만원 미만', ' ',\n",
       "       '6,000만원 ~ 7,000만원 미만', '3억원 ~ 4억원 미만', '1,000만원 미만',\n",
       "       '7,000만원 ~ 8,000만원 미만', '1억원 ~ 1.5억원 미만', '0', '미정 (업체 상담 후 결정)'],\n",
       "      dtype=object)"
      ]
     },
     "execution_count": 322,
     "metadata": {},
     "output_type": "execute_result"
    }
   ],
   "source": [
    "pp['공사예산_고객예산'].unique()"
   ]
  },
  {
   "cell_type": "code",
   "execution_count": 323,
   "metadata": {},
   "outputs": [],
   "source": [
    "pp.loc[pp['공사예산_고객예산']=='0', '공사예산_고객예산'] = '2,000만원 ~ 3,000만원 미만'"
   ]
  },
  {
   "cell_type": "code",
   "execution_count": 324,
   "metadata": {
    "scrolled": true
   },
   "outputs": [
    {
     "data": {
      "text/plain": [
       "array([nan, '3,000만원 ~ 4,000만원 미만', '9,000만원 ~ 1억원 미만',\n",
       "       '1,000만원 ~ 2,000만원 미만', '2,000만원 ~ 3,000만원 미만',\n",
       "       '4,000만원 ~ 5,000만원 미만', '5,000만원 ~ 6,000만원 미만', ' ',\n",
       "       '6,000만원 ~ 7,000만원 미만', '3억원 ~ 4억원 미만', '1,000만원 미만',\n",
       "       '7,000만원 ~ 8,000만원 미만', '1억원 ~ 1.5억원 미만', '미정 (업체 상담 후 결정)'],\n",
       "      dtype=object)"
      ]
     },
     "execution_count": 324,
     "metadata": {},
     "output_type": "execute_result"
    }
   ],
   "source": [
    "pp['공사예산_고객예산'].unique()"
   ]
  },
  {
   "cell_type": "code",
   "execution_count": 326,
   "metadata": {},
   "outputs": [
    {
     "data": {
      "text/html": [
       "<div>\n",
       "<style scoped>\n",
       "    .dataframe tbody tr th:only-of-type {\n",
       "        vertical-align: middle;\n",
       "    }\n",
       "\n",
       "    .dataframe tbody tr th {\n",
       "        vertical-align: top;\n",
       "    }\n",
       "\n",
       "    .dataframe thead th {\n",
       "        text-align: right;\n",
       "    }\n",
       "</style>\n",
       "<table border=\"1\" class=\"dataframe\">\n",
       "  <thead>\n",
       "    <tr style=\"text-align: right;\">\n",
       "      <th></th>\n",
       "      <th>견적일</th>\n",
       "      <th>대상구분</th>\n",
       "      <th>시공대상</th>\n",
       "      <th>주소</th>\n",
       "      <th>평수</th>\n",
       "      <th>공사예산_고객예산</th>\n",
       "      <th>공사예산_CS확인예산</th>\n",
       "      <th>DB 유형</th>\n",
       "      <th>시공범위</th>\n",
       "      <th>진행상태</th>\n",
       "      <th>종료여부</th>\n",
       "      <th>견적번호</th>\n",
       "      <th>요청</th>\n",
       "      <th>인입채널_UTM</th>\n",
       "      <th>계약번호</th>\n",
       "      <th>유입경로</th>\n",
       "      <th>유입경로_상세</th>\n",
       "    </tr>\n",
       "  </thead>\n",
       "  <tbody>\n",
       "    <tr>\n",
       "      <td>0</td>\n",
       "      <td>2019-07-31 21:56</td>\n",
       "      <td>주거공간</td>\n",
       "      <td>아파트</td>\n",
       "      <td>경남 창원시 성산구 반림동 8 럭키반림아파트 10동 804호</td>\n",
       "      <td>31.0</td>\n",
       "      <td>NaN</td>\n",
       "      <td>4000 ~ 5000 만원</td>\n",
       "      <td>주거-고급</td>\n",
       "      <td>전체</td>\n",
       "      <td>방문상담</td>\n",
       "      <td>진행중</td>\n",
       "      <td>200037</td>\n",
       "      <td>방이 4개가 필요합니다\\r\\n안방을 아들 둘이 지낼수있도록 해서\\r\\n부부 각 방 ...</td>\n",
       "      <td>네이버검색광고_Mobile</td>\n",
       "      <td>NaN</td>\n",
       "      <td>웹</td>\n",
       "      <td>모바일웹상세</td>\n",
       "    </tr>\n",
       "    <tr>\n",
       "      <td>1</td>\n",
       "      <td>2019-07-31 20:31</td>\n",
       "      <td>주거공간</td>\n",
       "      <td>아파트</td>\n",
       "      <td>서울 강동구 명일동 54 한양아파트 1동6층</td>\n",
       "      <td>42.0</td>\n",
       "      <td>NaN</td>\n",
       "      <td>4000 ~ 5000 만원</td>\n",
       "      <td>주거-고급</td>\n",
       "      <td>전체</td>\n",
       "      <td>방문상담</td>\n",
       "      <td>진행중</td>\n",
       "      <td>200030</td>\n",
       "      <td>배관공사 포함 샷시 \\r\\n모두 올수리입니다</td>\n",
       "      <td>NaN</td>\n",
       "      <td>NaN</td>\n",
       "      <td>앱</td>\n",
       "      <td>아이폰간편</td>\n",
       "    </tr>\n",
       "    <tr>\n",
       "      <td>2</td>\n",
       "      <td>2019-07-31 16:26</td>\n",
       "      <td>주거공간</td>\n",
       "      <td>아파트</td>\n",
       "      <td>서울 강서구 가양동 1461 가양2단지아파트 202동 803호</td>\n",
       "      <td>24.0</td>\n",
       "      <td>NaN</td>\n",
       "      <td>1380 만원 이상</td>\n",
       "      <td>주거-기본</td>\n",
       "      <td>전체</td>\n",
       "      <td>계약완료</td>\n",
       "      <td>진행중</td>\n",
       "      <td>199988</td>\n",
       "      <td>NaN</td>\n",
       "      <td>NaN</td>\n",
       "      <td>9884.0</td>\n",
       "      <td>앱</td>\n",
       "      <td>안드로이드</td>\n",
       "    </tr>\n",
       "    <tr>\n",
       "      <td>3</td>\n",
       "      <td>2019-07-31 15:30</td>\n",
       "      <td>주거공간</td>\n",
       "      <td>아파트</td>\n",
       "      <td>서울 성북구 돈암동 644 (아리랑로 75) 돈암코오롱하늘채 103동 606호</td>\n",
       "      <td>34.0</td>\n",
       "      <td>NaN</td>\n",
       "      <td>3000 ~ 4000 만원</td>\n",
       "      <td>주거-고급</td>\n",
       "      <td>전체</td>\n",
       "      <td>방문상담</td>\n",
       "      <td>진행중</td>\n",
       "      <td>199970</td>\n",
       "      <td>- 상담희망시간 : 무관\\r\\n- 현장위치 : 서울특별시 성북구 아리랑로 75 돈암...</td>\n",
       "      <td>NaN</td>\n",
       "      <td>NaN</td>\n",
       "      <td>웹</td>\n",
       "      <td>PC웹간편</td>\n",
       "    </tr>\n",
       "    <tr>\n",
       "      <td>4</td>\n",
       "      <td>2019-07-31 14:31</td>\n",
       "      <td>주거공간</td>\n",
       "      <td>아파트</td>\n",
       "      <td>서울 강동구 암사동 509 선사현대아파트 115동 16층</td>\n",
       "      <td>34.0</td>\n",
       "      <td>NaN</td>\n",
       "      <td>4000 ~ 4000 만원</td>\n",
       "      <td>주거-고급</td>\n",
       "      <td>전체</td>\n",
       "      <td>방문상담</td>\n",
       "      <td>진행중</td>\n",
       "      <td>199937</td>\n",
       "      <td>NaN</td>\n",
       "      <td>NaN</td>\n",
       "      <td>NaN</td>\n",
       "      <td>외부</td>\n",
       "      <td>믹스앤픽스</td>\n",
       "    </tr>\n",
       "    <tr>\n",
       "      <td>5</td>\n",
       "      <td>2019-07-31 14:30</td>\n",
       "      <td>주거공간</td>\n",
       "      <td>아파트</td>\n",
       "      <td>대전 유성구 지족동 977 반석마을1단지호반리젠시빌 110동</td>\n",
       "      <td>29.0</td>\n",
       "      <td>NaN</td>\n",
       "      <td>2500 ~ 3000 만원</td>\n",
       "      <td>주거-기본</td>\n",
       "      <td>전체</td>\n",
       "      <td>방문상담</td>\n",
       "      <td>진행중</td>\n",
       "      <td>199928</td>\n",
       "      <td>NaN</td>\n",
       "      <td>NaN</td>\n",
       "      <td>NaN</td>\n",
       "      <td>외부</td>\n",
       "      <td>98%</td>\n",
       "    </tr>\n",
       "    <tr>\n",
       "      <td>6</td>\n",
       "      <td>2019-07-31 14:23</td>\n",
       "      <td>주거공간</td>\n",
       "      <td>아파트</td>\n",
       "      <td>경기 의정부시 신곡동 681-2 부용아파트 102동 505호</td>\n",
       "      <td>20.0</td>\n",
       "      <td>NaN</td>\n",
       "      <td>2000 ~ 2000 만원</td>\n",
       "      <td>주거-기본</td>\n",
       "      <td>전체</td>\n",
       "      <td>방문상담</td>\n",
       "      <td>진행중</td>\n",
       "      <td>199913</td>\n",
       "      <td>NaN</td>\n",
       "      <td>NaN</td>\n",
       "      <td>NaN</td>\n",
       "      <td>외부</td>\n",
       "      <td>디비디비딥</td>\n",
       "    </tr>\n",
       "    <tr>\n",
       "      <td>7</td>\n",
       "      <td>2019-07-31 13:37</td>\n",
       "      <td>주거공간</td>\n",
       "      <td>아파트</td>\n",
       "      <td>광주 북구 용봉동</td>\n",
       "      <td>40.0</td>\n",
       "      <td>NaN</td>\n",
       "      <td>NaN</td>\n",
       "      <td>NaN</td>\n",
       "      <td>전체</td>\n",
       "      <td>전화상담</td>\n",
       "      <td>종료됨</td>\n",
       "      <td>199898</td>\n",
       "      <td>평수: 40평 / 공사기간: 20일 / 공사금액: 40,000,000</td>\n",
       "      <td>NaN</td>\n",
       "      <td>NaN</td>\n",
       "      <td>웹</td>\n",
       "      <td>PC웹간편</td>\n",
       "    </tr>\n",
       "    <tr>\n",
       "      <td>8</td>\n",
       "      <td>2019-07-31 12:51</td>\n",
       "      <td>주거공간</td>\n",
       "      <td>아파트</td>\n",
       "      <td>서울 도봉구 도봉동 83 유원도봉아파트 3동 703호</td>\n",
       "      <td>32.0</td>\n",
       "      <td>NaN</td>\n",
       "      <td>2500 ~ 3000 만원</td>\n",
       "      <td>주거-기본</td>\n",
       "      <td>전체</td>\n",
       "      <td>방문상담</td>\n",
       "      <td>진행중</td>\n",
       "      <td>199890</td>\n",
       "      <td>NaN</td>\n",
       "      <td>NaN</td>\n",
       "      <td>NaN</td>\n",
       "      <td>앱</td>\n",
       "      <td>안드로이드간편</td>\n",
       "    </tr>\n",
       "    <tr>\n",
       "      <td>9</td>\n",
       "      <td>2019-07-31 12:08</td>\n",
       "      <td>주거공간</td>\n",
       "      <td>아파트</td>\n",
       "      <td>대구 북구 침산동 372-3 대한동아침산1차무지개아파트  106동 11층</td>\n",
       "      <td>33.0</td>\n",
       "      <td>NaN</td>\n",
       "      <td>2000 ~ 2500 만원</td>\n",
       "      <td>주거-기본</td>\n",
       "      <td>전체</td>\n",
       "      <td>방문상담</td>\n",
       "      <td>진행중</td>\n",
       "      <td>199887</td>\n",
       "      <td>1. 평형 : 33평형 (109.44㎡/84.74㎡)\\r\\n - 대구 북구 침산동 ...</td>\n",
       "      <td>NaN</td>\n",
       "      <td>NaN</td>\n",
       "      <td>웹</td>\n",
       "      <td>PC웹간편</td>\n",
       "    </tr>\n",
       "    <tr>\n",
       "      <td>10</td>\n",
       "      <td>2019-07-31 12:02</td>\n",
       "      <td>주거공간</td>\n",
       "      <td>아파트</td>\n",
       "      <td>인천 부평구 청천동 176 청천푸르지오아파트 110동 403호</td>\n",
       "      <td>33.0</td>\n",
       "      <td>NaN</td>\n",
       "      <td>2900 ~ 3300 만원</td>\n",
       "      <td>주거-기본</td>\n",
       "      <td>전체</td>\n",
       "      <td>방문상담</td>\n",
       "      <td>진행중</td>\n",
       "      <td>199885</td>\n",
       "      <td>NaN</td>\n",
       "      <td>NaN</td>\n",
       "      <td>NaN</td>\n",
       "      <td>앱</td>\n",
       "      <td>안드로이드간편</td>\n",
       "    </tr>\n",
       "    <tr>\n",
       "      <td>11</td>\n",
       "      <td>2019-07-31 11:22</td>\n",
       "      <td>주거공간</td>\n",
       "      <td>아파트</td>\n",
       "      <td>NaN</td>\n",
       "      <td>33.0</td>\n",
       "      <td>NaN</td>\n",
       "      <td>3000 ~ 3500 만원</td>\n",
       "      <td>주거-고급</td>\n",
       "      <td>전체</td>\n",
       "      <td>전화상담</td>\n",
       "      <td>종료됨</td>\n",
       "      <td>199877</td>\n",
       "      <td>안양 평촌동 인덕원대우 33평 \\r\\n샷시포함 올수리</td>\n",
       "      <td>NaN</td>\n",
       "      <td>NaN</td>\n",
       "      <td>웹</td>\n",
       "      <td>PC웹간편</td>\n",
       "    </tr>\n",
       "    <tr>\n",
       "      <td>12</td>\n",
       "      <td>2019-07-31 11:08</td>\n",
       "      <td>주거공간</td>\n",
       "      <td>아파트</td>\n",
       "      <td>인천 서구 가좌동 30-86 진주아파트 307동 312호</td>\n",
       "      <td>18.0</td>\n",
       "      <td>NaN</td>\n",
       "      <td>1500 ~ 2000 만원</td>\n",
       "      <td>주거-기본</td>\n",
       "      <td>전체</td>\n",
       "      <td>방문상담</td>\n",
       "      <td>진행중</td>\n",
       "      <td>199876</td>\n",
       "      <td>NaN</td>\n",
       "      <td>NaN</td>\n",
       "      <td>NaN</td>\n",
       "      <td>콜</td>\n",
       "      <td>소개</td>\n",
       "    </tr>\n",
       "    <tr>\n",
       "      <td>13</td>\n",
       "      <td>2019-07-31 10:34</td>\n",
       "      <td>주거공간</td>\n",
       "      <td>아파트</td>\n",
       "      <td>경기 용인시 기흥구 상하동 447 풍림아파트 106동  501호</td>\n",
       "      <td>24.0</td>\n",
       "      <td>NaN</td>\n",
       "      <td>2000 ~ 2500 만원</td>\n",
       "      <td>주거-기본</td>\n",
       "      <td>전체</td>\n",
       "      <td>방문상담</td>\n",
       "      <td>진행중</td>\n",
       "      <td>199868</td>\n",
       "      <td>24평, 예산2천만원, 공사는 9월17일부터 가능</td>\n",
       "      <td>네이버브랜드검색_Mobile</td>\n",
       "      <td>NaN</td>\n",
       "      <td>웹</td>\n",
       "      <td>모바일웹상세</td>\n",
       "    </tr>\n",
       "    <tr>\n",
       "      <td>14</td>\n",
       "      <td>2019-07-31 10:00</td>\n",
       "      <td>주거공간</td>\n",
       "      <td>아파트</td>\n",
       "      <td>경북 포항시 남구 효자동 566 sk1차 101-1003</td>\n",
       "      <td>NaN</td>\n",
       "      <td>NaN</td>\n",
       "      <td>NaN</td>\n",
       "      <td>NaN</td>\n",
       "      <td>전체</td>\n",
       "      <td>계약완료</td>\n",
       "      <td>진행중</td>\n",
       "      <td>199865</td>\n",
       "      <td>NaN</td>\n",
       "      <td>NaN</td>\n",
       "      <td>9869.0</td>\n",
       "      <td>외부</td>\n",
       "      <td>촬영</td>\n",
       "    </tr>\n",
       "    <tr>\n",
       "      <td>15</td>\n",
       "      <td>2019-07-31 6:32</td>\n",
       "      <td>주거공간</td>\n",
       "      <td>아파트</td>\n",
       "      <td>인천 부평구 부평동 65-7 욱일아파트 /4동 1105호</td>\n",
       "      <td>31.0</td>\n",
       "      <td>NaN</td>\n",
       "      <td>2900 만원 이상</td>\n",
       "      <td>주거-기본</td>\n",
       "      <td>전체</td>\n",
       "      <td>공사완료</td>\n",
       "      <td>종료됨</td>\n",
       "      <td>199848</td>\n",
       "      <td>NaN</td>\n",
       "      <td>NaN</td>\n",
       "      <td>10699.0</td>\n",
       "      <td>웹</td>\n",
       "      <td>모바일웹상세</td>\n",
       "    </tr>\n",
       "    <tr>\n",
       "      <td>16</td>\n",
       "      <td>2019-07-30 23:37</td>\n",
       "      <td>주거공간</td>\n",
       "      <td>아파트</td>\n",
       "      <td>서울 동대문구 답십리동 808 대림아파트 102동 3층</td>\n",
       "      <td>32.0</td>\n",
       "      <td>NaN</td>\n",
       "      <td>3000 ~ 3500 만원</td>\n",
       "      <td>주거-고급</td>\n",
       "      <td>전체</td>\n",
       "      <td>방문상담</td>\n",
       "      <td>진행중</td>\n",
       "      <td>199843</td>\n",
       "      <td>공급 108m2 입니다.</td>\n",
       "      <td>네이버검색광고_PC</td>\n",
       "      <td>NaN</td>\n",
       "      <td>웹</td>\n",
       "      <td>PC웹상세</td>\n",
       "    </tr>\n",
       "    <tr>\n",
       "      <td>17</td>\n",
       "      <td>2019-07-30 22:39</td>\n",
       "      <td>주거공간</td>\n",
       "      <td>아파트</td>\n",
       "      <td>서울 영등포구 양평동3가 90-1 거성파스텔아파트 101동</td>\n",
       "      <td>30.0</td>\n",
       "      <td>NaN</td>\n",
       "      <td>3000 ~ 3500 만원</td>\n",
       "      <td>주거-고급</td>\n",
       "      <td>전체</td>\n",
       "      <td>방문상담</td>\n",
       "      <td>진행중</td>\n",
       "      <td>199835</td>\n",
       "      <td>아파트 30평, 3~4주</td>\n",
       "      <td>NaN</td>\n",
       "      <td>NaN</td>\n",
       "      <td>웹</td>\n",
       "      <td>PC웹간편</td>\n",
       "    </tr>\n",
       "    <tr>\n",
       "      <td>18</td>\n",
       "      <td>2019-07-30 21:21</td>\n",
       "      <td>주거공간</td>\n",
       "      <td>아파트</td>\n",
       "      <td>서울 서초구 방배동 754-1 롯데캐슬헤론 102동 1002호</td>\n",
       "      <td>45.0</td>\n",
       "      <td>NaN</td>\n",
       "      <td>5000 ~ 6000 만원</td>\n",
       "      <td>주거-고급</td>\n",
       "      <td>전체</td>\n",
       "      <td>방문상담</td>\n",
       "      <td>진행중</td>\n",
       "      <td>199825</td>\n",
       "      <td>45평 주상복합</td>\n",
       "      <td>네이버검색광고_Mobile</td>\n",
       "      <td>NaN</td>\n",
       "      <td>웹</td>\n",
       "      <td>모바일웹간편</td>\n",
       "    </tr>\n",
       "    <tr>\n",
       "      <td>19</td>\n",
       "      <td>2019-07-30 21:10</td>\n",
       "      <td>주거공간</td>\n",
       "      <td>아파트</td>\n",
       "      <td>경기 군포시 산본동 1145 주공6단지세종아파트 643동 1504호</td>\n",
       "      <td>25.0</td>\n",
       "      <td>NaN</td>\n",
       "      <td>1500 ~ 2000 만원</td>\n",
       "      <td>주거-기본</td>\n",
       "      <td>전체</td>\n",
       "      <td>방문상담</td>\n",
       "      <td>진행중</td>\n",
       "      <td>199824</td>\n",
       "      <td>공급80.49\\r\\n잔용58.46\\r\\n세종주공6단지 643동</td>\n",
       "      <td>네이버검색광고_Mobile</td>\n",
       "      <td>NaN</td>\n",
       "      <td>웹</td>\n",
       "      <td>모바일웹간편</td>\n",
       "    </tr>\n",
       "  </tbody>\n",
       "</table>\n",
       "</div>"
      ],
      "text/plain": [
       "                 견적일  대상구분 시공대상                                           주소  \\\n",
       "0   2019-07-31 21:56  주거공간  아파트           경남 창원시 성산구 반림동 8 럭키반림아파트 10동 804호    \n",
       "1   2019-07-31 20:31  주거공간  아파트                     서울 강동구 명일동 54 한양아파트 1동6층   \n",
       "2   2019-07-31 16:26  주거공간  아파트           서울 강서구 가양동 1461 가양2단지아파트 202동 803호   \n",
       "3   2019-07-31 15:30  주거공간  아파트  서울 성북구 돈암동 644 (아리랑로 75) 돈암코오롱하늘채 103동 606호   \n",
       "4   2019-07-31 14:31  주거공간  아파트             서울 강동구 암사동 509 선사현대아파트 115동 16층    \n",
       "5   2019-07-31 14:30  주거공간  아파트            대전 유성구 지족동 977 반석마을1단지호반리젠시빌 110동   \n",
       "6   2019-07-31 14:23  주거공간  아파트           경기 의정부시 신곡동 681-2 부용아파트 102동 505호    \n",
       "7   2019-07-31 13:37  주거공간  아파트                                   광주 북구 용봉동    \n",
       "8   2019-07-31 12:51  주거공간  아파트               서울 도봉구 도봉동 83 유원도봉아파트 3동 703호    \n",
       "9   2019-07-31 12:08  주거공간  아파트     대구 북구 침산동 372-3 대한동아침산1차무지개아파트  106동 11층   \n",
       "10  2019-07-31 12:02  주거공간  아파트          인천 부평구 청천동 176 청천푸르지오아파트 110동 403호    \n",
       "11  2019-07-31 11:22  주거공간  아파트                                          NaN   \n",
       "12  2019-07-31 11:08  주거공간  아파트             인천 서구 가좌동 30-86 진주아파트 307동 312호    \n",
       "13  2019-07-31 10:34  주거공간  아파트         경기 용인시 기흥구 상하동 447 풍림아파트 106동  501호    \n",
       "14  2019-07-31 10:00  주거공간  아파트              경북 포항시 남구 효자동 566 sk1차 101-1003   \n",
       "15   2019-07-31 6:32  주거공간  아파트              인천 부평구 부평동 65-7 욱일아파트 /4동 1105호   \n",
       "16  2019-07-30 23:37  주거공간  아파트               서울 동대문구 답십리동 808 대림아파트 102동 3층   \n",
       "17  2019-07-30 22:39  주거공간  아파트            서울 영등포구 양평동3가 90-1 거성파스텔아파트 101동    \n",
       "18  2019-07-30 21:21  주거공간  아파트           서울 서초구 방배동 754-1 롯데캐슬헤론 102동 1002호   \n",
       "19  2019-07-30 21:10  주거공간  아파트       경기 군포시 산본동 1145 주공6단지세종아파트 643동 1504호    \n",
       "\n",
       "      평수 공사예산_고객예산     공사예산_CS확인예산  DB 유형 시공범위  진행상태 종료여부    견적번호  \\\n",
       "0   31.0       NaN  4000 ~ 5000 만원  주거-고급   전체  방문상담  진행중  200037   \n",
       "1   42.0       NaN  4000 ~ 5000 만원  주거-고급   전체  방문상담  진행중  200030   \n",
       "2   24.0       NaN      1380 만원 이상  주거-기본   전체  계약완료  진행중  199988   \n",
       "3   34.0       NaN  3000 ~ 4000 만원  주거-고급   전체  방문상담  진행중  199970   \n",
       "4   34.0       NaN  4000 ~ 4000 만원  주거-고급   전체  방문상담  진행중  199937   \n",
       "5   29.0       NaN  2500 ~ 3000 만원  주거-기본   전체  방문상담  진행중  199928   \n",
       "6   20.0       NaN  2000 ~ 2000 만원  주거-기본   전체  방문상담  진행중  199913   \n",
       "7   40.0       NaN             NaN    NaN   전체  전화상담  종료됨  199898   \n",
       "8   32.0       NaN  2500 ~ 3000 만원  주거-기본   전체  방문상담  진행중  199890   \n",
       "9   33.0       NaN  2000 ~ 2500 만원  주거-기본   전체  방문상담  진행중  199887   \n",
       "10  33.0       NaN  2900 ~ 3300 만원  주거-기본   전체  방문상담  진행중  199885   \n",
       "11  33.0       NaN  3000 ~ 3500 만원  주거-고급   전체  전화상담  종료됨  199877   \n",
       "12  18.0       NaN  1500 ~ 2000 만원  주거-기본   전체  방문상담  진행중  199876   \n",
       "13  24.0       NaN  2000 ~ 2500 만원  주거-기본   전체  방문상담  진행중  199868   \n",
       "14   NaN       NaN             NaN    NaN   전체  계약완료  진행중  199865   \n",
       "15  31.0       NaN      2900 만원 이상  주거-기본   전체  공사완료  종료됨  199848   \n",
       "16  32.0       NaN  3000 ~ 3500 만원  주거-고급   전체  방문상담  진행중  199843   \n",
       "17  30.0       NaN  3000 ~ 3500 만원  주거-고급   전체  방문상담  진행중  199835   \n",
       "18  45.0       NaN  5000 ~ 6000 만원  주거-고급   전체  방문상담  진행중  199825   \n",
       "19  25.0       NaN  1500 ~ 2000 만원  주거-기본   전체  방문상담  진행중  199824   \n",
       "\n",
       "                                                   요청         인입채널_UTM  \\\n",
       "0   방이 4개가 필요합니다\\r\\n안방을 아들 둘이 지낼수있도록 해서\\r\\n부부 각 방 ...   네이버검색광고_Mobile   \n",
       "1                            배관공사 포함 샷시 \\r\\n모두 올수리입니다              NaN   \n",
       "2                                                 NaN              NaN   \n",
       "3   - 상담희망시간 : 무관\\r\\n- 현장위치 : 서울특별시 성북구 아리랑로 75 돈암...              NaN   \n",
       "4                                                 NaN              NaN   \n",
       "5                                                 NaN              NaN   \n",
       "6                                                 NaN              NaN   \n",
       "7              평수: 40평 / 공사기간: 20일 / 공사금액: 40,000,000              NaN   \n",
       "8                                                 NaN              NaN   \n",
       "9   1. 평형 : 33평형 (109.44㎡/84.74㎡)\\r\\n - 대구 북구 침산동 ...              NaN   \n",
       "10                                                NaN              NaN   \n",
       "11                     안양 평촌동 인덕원대우 33평 \\r\\n샷시포함 올수리               NaN   \n",
       "12                                                NaN              NaN   \n",
       "13                        24평, 예산2천만원, 공사는 9월17일부터 가능  네이버브랜드검색_Mobile   \n",
       "14                                                NaN              NaN   \n",
       "15                                                NaN              NaN   \n",
       "16                                     공급 108m2 입니다.        네이버검색광고_PC   \n",
       "17                                      아파트 30평, 3~4주              NaN   \n",
       "18                                         45평 주상복합     네이버검색광고_Mobile   \n",
       "19                 공급80.49\\r\\n잔용58.46\\r\\n세종주공6단지 643동   네이버검색광고_Mobile   \n",
       "\n",
       "       계약번호 유입경로  유입경로_상세  \n",
       "0       NaN    웹   모바일웹상세  \n",
       "1       NaN    앱    아이폰간편  \n",
       "2    9884.0    앱    안드로이드  \n",
       "3       NaN    웹    PC웹간편  \n",
       "4       NaN   외부    믹스앤픽스  \n",
       "5       NaN   외부      98%  \n",
       "6       NaN   외부    디비디비딥  \n",
       "7       NaN    웹    PC웹간편  \n",
       "8       NaN    앱  안드로이드간편  \n",
       "9       NaN    웹    PC웹간편  \n",
       "10      NaN    앱  안드로이드간편  \n",
       "11      NaN    웹    PC웹간편  \n",
       "12      NaN    콜       소개  \n",
       "13      NaN    웹   모바일웹상세  \n",
       "14   9869.0   외부       촬영  \n",
       "15  10699.0    웹   모바일웹상세  \n",
       "16      NaN    웹    PC웹상세  \n",
       "17      NaN    웹    PC웹간편  \n",
       "18      NaN    웹   모바일웹간편  \n",
       "19      NaN    웹   모바일웹간편  "
      ]
     },
     "execution_count": 326,
     "metadata": {},
     "output_type": "execute_result"
    }
   ],
   "source": [
    "pp.head(20)"
   ]
  },
  {
   "cell_type": "code",
   "execution_count": 327,
   "metadata": {},
   "outputs": [],
   "source": [
    "pp.to_csv('../data/전처리완료/집닥_견적pp2.csv', header=True, index=False)"
   ]
  },
  {
   "cell_type": "code",
   "execution_count": 328,
   "metadata": {},
   "outputs": [],
   "source": [
    "pp.loc[pp['공사예산_고객예산']=='3억원 ~ 4억원 미만', '공사예산_고객예산'] = '3,000만원 ~ 4,000만원 미만'"
   ]
  },
  {
   "cell_type": "code",
   "execution_count": 329,
   "metadata": {
    "scrolled": true
   },
   "outputs": [
    {
     "data": {
      "text/plain": [
       "array([nan, '3,000만원 ~ 4,000만원 미만', '9,000만원 ~ 1억원 미만',\n",
       "       '1,000만원 ~ 2,000만원 미만', '2,000만원 ~ 3,000만원 미만',\n",
       "       '4,000만원 ~ 5,000만원 미만', '5,000만원 ~ 6,000만원 미만', ' ',\n",
       "       '6,000만원 ~ 7,000만원 미만', '1,000만원 미만', '7,000만원 ~ 8,000만원 미만',\n",
       "       '1억원 ~ 1.5억원 미만', '미정 (업체 상담 후 결정)'], dtype=object)"
      ]
     },
     "execution_count": 329,
     "metadata": {},
     "output_type": "execute_result"
    }
   ],
   "source": [
    "pp['공사예산_고객예산'].unique()"
   ]
  },
  {
   "cell_type": "code",
   "execution_count": 333,
   "metadata": {},
   "outputs": [],
   "source": [
    "from numpy import NaN, NAN, nan"
   ]
  },
  {
   "cell_type": "code",
   "execution_count": 338,
   "metadata": {},
   "outputs": [],
   "source": [
    "pp.loc[pp['공사예산_고객예산']== '미정 (업체 상담 후 결정)', '공사예산_고객예산'] = nan"
   ]
  },
  {
   "cell_type": "code",
   "execution_count": 339,
   "metadata": {},
   "outputs": [
    {
     "data": {
      "text/plain": [
       "array([nan, '3,000만원 ~ 4,000만원 미만', '9,000만원 ~ 1억원 미만',\n",
       "       '1,000만원 ~ 2,000만원 미만', '2,000만원 ~ 3,000만원 미만',\n",
       "       '4,000만원 ~ 5,000만원 미만', '5,000만원 ~ 6,000만원 미만', ' ',\n",
       "       '6,000만원 ~ 7,000만원 미만', '1,000만원 미만', '7,000만원 ~ 8,000만원 미만',\n",
       "       '1억원 ~ 1.5억원 미만'], dtype=object)"
      ]
     },
     "execution_count": 339,
     "metadata": {},
     "output_type": "execute_result"
    }
   ],
   "source": [
    "pp['공사예산_고객예산'].unique()"
   ]
  },
  {
   "cell_type": "code",
   "execution_count": 341,
   "metadata": {},
   "outputs": [],
   "source": [
    "pp.to_csv('../data/전처리완료/집닥_견적pp2.csv', header=True, index=False)"
   ]
  },
  {
   "cell_type": "code",
   "execution_count": 99,
   "metadata": {},
   "outputs": [],
   "source": [
    "#import pandas as pd\n",
    "#pp = pd.read_csv('../data/전처리완료/집닥_견적pp2.csv')"
   ]
  },
  {
   "cell_type": "code",
   "execution_count": 100,
   "metadata": {},
   "outputs": [],
   "source": [
    "#pp['공사예산_CS확인예산'].unique()"
   ]
  },
  {
   "cell_type": "code",
   "execution_count": 101,
   "metadata": {},
   "outputs": [],
   "source": [
    "#kj = pd.read_csv('../data/전처리완료/집닥_견적pp2.csv')"
   ]
  },
  {
   "cell_type": "code",
   "execution_count": 102,
   "metadata": {},
   "outputs": [],
   "source": [
    "#kj.head()"
   ]
  },
  {
   "cell_type": "markdown",
   "metadata": {},
   "source": [
    "# 주소정보 처리"
   ]
  },
  {
   "cell_type": "code",
   "execution_count": 103,
   "metadata": {},
   "outputs": [],
   "source": [
    "#kj['지역'] = kj['주소'].str.split(' ').str[0]"
   ]
  },
  {
   "cell_type": "code",
   "execution_count": 104,
   "metadata": {},
   "outputs": [],
   "source": [
    "#kj['지역'].unique()"
   ]
  },
  {
   "cell_type": "code",
   "execution_count": 105,
   "metadata": {},
   "outputs": [],
   "source": [
    "#kj['주소_시군구'] = kj['주소'].str.split(' ').str[1]"
   ]
  },
  {
   "cell_type": "code",
   "execution_count": 106,
   "metadata": {
    "scrolled": true
   },
   "outputs": [],
   "source": [
    "#kj['주소_시군구'].unique()"
   ]
  },
  {
   "cell_type": "code",
   "execution_count": 107,
   "metadata": {},
   "outputs": [],
   "source": [
    "#kj.loc[kj['주소_시군구']=='','주소_시군구'] = nan"
   ]
  },
  {
   "cell_type": "code",
   "execution_count": 108,
   "metadata": {},
   "outputs": [],
   "source": [
    "#kj[kj['주소_시군구']=='']"
   ]
  },
  {
   "cell_type": "code",
   "execution_count": 109,
   "metadata": {},
   "outputs": [],
   "source": [
    "#from numpy import NAN, nan, NaN"
   ]
  },
  {
   "cell_type": "code",
   "execution_count": 110,
   "metadata": {},
   "outputs": [],
   "source": [
    "# data = pd.DataFrame({'주소':['경남 창원시 성산구 반림동 8 럭키반림아파트 10동 804호 ', '', '서울 강서구 가양동 1461 가양2단지아파트 202동 803호'], '주소_시군구': ['창원시','','강서구']})"
   ]
  },
  {
   "cell_type": "code",
   "execution_count": 111,
   "metadata": {
    "scrolled": false
   },
   "outputs": [],
   "source": [
    "# data"
   ]
  },
  {
   "cell_type": "code",
   "execution_count": 112,
   "metadata": {},
   "outputs": [],
   "source": [
    "# list1 = ['창원시', '수원시']\n",
    "\n",
    "# for row in range(len(data)):\n",
    "#     if data.loc[row,'주소_시군구'] == '':\n",
    "#         data.loc[row,'주소_시군구2'] = nan\n",
    "#     elif data.loc[row,'주소_시군구'] in list1:  \n",
    "#         data.loc[row,'주소_시군구2'] = data.loc[row,'주소'].split(' ')[1] + ' ' + data.loc[row,'주소'].split(' ')[2]\n",
    "\n",
    "#     else:\n",
    "#         data.loc[row,'주소_시군구2'] = data.loc[row,'주소'].split(' ')[1]"
   ]
  },
  {
   "cell_type": "code",
   "execution_count": 113,
   "metadata": {},
   "outputs": [],
   "source": [
    "# data"
   ]
  },
  {
   "cell_type": "code",
   "execution_count": 114,
   "metadata": {},
   "outputs": [],
   "source": [
    "#kj.loc[kj['주소_시군구'].isnull(), '주소_시군구'] = ''"
   ]
  },
  {
   "cell_type": "code",
   "execution_count": 115,
   "metadata": {
    "scrolled": true
   },
   "outputs": [],
   "source": [
    "#kj['주소_시군구'].unique()"
   ]
  },
  {
   "cell_type": "code",
   "execution_count": 116,
   "metadata": {
    "scrolled": true
   },
   "outputs": [],
   "source": [
    "# list1 = ['수원시', '성남시', '안양시', '안산시', '고양시', '용인시', '청주시', '천안시', '전주시', '포항시', '창원시']\n",
    "\n",
    "# for row in range(len(kj)):\n",
    "#     if kj.loc[row, '주소_시군구'] == '':\n",
    "#         data.loc[row, '주소_시군구2'] = nan\n",
    "#     elif kj.loc[row,'주소_시군구'] in list1:\n",
    "#         kj.loc[row,'주소_시군구2'] = kj.loc[row, '주소'].split(' ')[1] + ' ' + kj.loc[row, '주소'].split(' ')[2]\n",
    "#     else:\n",
    "#         kj.loc[row,'주소_시군구2'] = kj.loc[row, '주소'].split(' ')[1]"
   ]
  },
  {
   "cell_type": "code",
   "execution_count": 117,
   "metadata": {},
   "outputs": [],
   "source": [
    "# kj.head()"
   ]
  },
  {
   "cell_type": "code",
   "execution_count": 118,
   "metadata": {},
   "outputs": [],
   "source": [
    "# def sgg(row):\n",
    "#     if row['주소_시군구'] in ['수원시', '성남시', '안양시', '안산시', '고양시', '용인시', '청주시', '천안시', '전주시', '포항시', '창원시']:\n",
    "#         sgg = row['주소'].str.split(' ').str[1:2]\n",
    "#     else:\n",
    "#         sgg = row['주소'].str.split(' ').str[1]\n",
    "#     return sgg\n",
    "\n",
    "# # kj['주소_시군구2'] = kj.apply(sgg, axis=1)"
   ]
  },
  {
   "cell_type": "code",
   "execution_count": 119,
   "metadata": {},
   "outputs": [],
   "source": [
    "# kj[kj['견적번호']==199835]"
   ]
  },
  {
   "cell_type": "code",
   "execution_count": 120,
   "metadata": {},
   "outputs": [],
   "source": [
    "import pandas as pd"
   ]
  },
  {
   "cell_type": "code",
   "execution_count": 172,
   "metadata": {},
   "outputs": [],
   "source": [
    "kjkj = pd.read_csv('../data/전처리완료/집닥_견적pp3.csv')"
   ]
  },
  {
   "cell_type": "code",
   "execution_count": 173,
   "metadata": {},
   "outputs": [
    {
     "data": {
      "text/html": [
       "<div>\n",
       "<style scoped>\n",
       "    .dataframe tbody tr th:only-of-type {\n",
       "        vertical-align: middle;\n",
       "    }\n",
       "\n",
       "    .dataframe tbody tr th {\n",
       "        vertical-align: top;\n",
       "    }\n",
       "\n",
       "    .dataframe thead th {\n",
       "        text-align: right;\n",
       "    }\n",
       "</style>\n",
       "<table border=\"1\" class=\"dataframe\">\n",
       "  <thead>\n",
       "    <tr style=\"text-align: right;\">\n",
       "      <th></th>\n",
       "      <th>견적일</th>\n",
       "      <th>대상구분</th>\n",
       "      <th>시공대상</th>\n",
       "      <th>지역</th>\n",
       "      <th>주소_시군구</th>\n",
       "      <th>주소_읍면동</th>\n",
       "      <th>주소_번지</th>\n",
       "      <th>아파트명</th>\n",
       "      <th>평수</th>\n",
       "      <th>공사예산_고객예산</th>\n",
       "      <th>...</th>\n",
       "      <th>DB 유형</th>\n",
       "      <th>시공범위</th>\n",
       "      <th>진행상태</th>\n",
       "      <th>종료여부</th>\n",
       "      <th>견적번호</th>\n",
       "      <th>요청</th>\n",
       "      <th>인입채널_UTM</th>\n",
       "      <th>계약번호</th>\n",
       "      <th>유입경로</th>\n",
       "      <th>유입경로_상세</th>\n",
       "    </tr>\n",
       "  </thead>\n",
       "  <tbody>\n",
       "    <tr>\n",
       "      <td>0</td>\n",
       "      <td>2019-07-31 21:56</td>\n",
       "      <td>주거공간</td>\n",
       "      <td>아파트</td>\n",
       "      <td>경남</td>\n",
       "      <td>창원시 성산구</td>\n",
       "      <td>반림동</td>\n",
       "      <td>8</td>\n",
       "      <td>럭키반림아파트</td>\n",
       "      <td>31.0</td>\n",
       "      <td>NaN</td>\n",
       "      <td>...</td>\n",
       "      <td>주거-고급</td>\n",
       "      <td>전체</td>\n",
       "      <td>방문상담</td>\n",
       "      <td>진행중</td>\n",
       "      <td>200037</td>\n",
       "      <td>방이 4개가 필요합니다\\n안방을 아들 둘이 지낼수있도록 해서\\n부부 각 방 하나씩 ...</td>\n",
       "      <td>네이버검색광고_Mobile</td>\n",
       "      <td>NaN</td>\n",
       "      <td>웹</td>\n",
       "      <td>모바일웹상세</td>\n",
       "    </tr>\n",
       "    <tr>\n",
       "      <td>1</td>\n",
       "      <td>2019-07-31 20:31</td>\n",
       "      <td>주거공간</td>\n",
       "      <td>아파트</td>\n",
       "      <td>서울</td>\n",
       "      <td>강동구</td>\n",
       "      <td>명일동</td>\n",
       "      <td>54</td>\n",
       "      <td>한양아파트</td>\n",
       "      <td>42.0</td>\n",
       "      <td>NaN</td>\n",
       "      <td>...</td>\n",
       "      <td>주거-고급</td>\n",
       "      <td>전체</td>\n",
       "      <td>방문상담</td>\n",
       "      <td>진행중</td>\n",
       "      <td>200030</td>\n",
       "      <td>배관공사 포함 샷시 \\r\\n모두 올수리입니다</td>\n",
       "      <td>NaN</td>\n",
       "      <td>NaN</td>\n",
       "      <td>앱</td>\n",
       "      <td>아이폰간편</td>\n",
       "    </tr>\n",
       "    <tr>\n",
       "      <td>2</td>\n",
       "      <td>2019-07-31 16:26</td>\n",
       "      <td>주거공간</td>\n",
       "      <td>아파트</td>\n",
       "      <td>서울</td>\n",
       "      <td>강서구</td>\n",
       "      <td>가양동</td>\n",
       "      <td>1461</td>\n",
       "      <td>가양2단지아파트</td>\n",
       "      <td>24.0</td>\n",
       "      <td>NaN</td>\n",
       "      <td>...</td>\n",
       "      <td>주거-기본</td>\n",
       "      <td>전체</td>\n",
       "      <td>계약완료</td>\n",
       "      <td>진행중</td>\n",
       "      <td>199988</td>\n",
       "      <td>NaN</td>\n",
       "      <td>NaN</td>\n",
       "      <td>9884.0</td>\n",
       "      <td>앱</td>\n",
       "      <td>안드로이드</td>\n",
       "    </tr>\n",
       "    <tr>\n",
       "      <td>3</td>\n",
       "      <td>2019-07-31 15:30</td>\n",
       "      <td>주거공간</td>\n",
       "      <td>아파트</td>\n",
       "      <td>서울</td>\n",
       "      <td>성북구</td>\n",
       "      <td>돈암동</td>\n",
       "      <td>644</td>\n",
       "      <td>돈암코오롱하늘채</td>\n",
       "      <td>34.0</td>\n",
       "      <td>3,000만원 ~ 4,000만원 미만</td>\n",
       "      <td>...</td>\n",
       "      <td>주거-고급</td>\n",
       "      <td>전체</td>\n",
       "      <td>방문상담</td>\n",
       "      <td>진행중</td>\n",
       "      <td>199970</td>\n",
       "      <td>- 상담희망시간 : 무관\\r\\n- 현장위치 : 서울특별시 성북구 아리랑로 75 돈암...</td>\n",
       "      <td>NaN</td>\n",
       "      <td>NaN</td>\n",
       "      <td>웹</td>\n",
       "      <td>PC웹간편</td>\n",
       "    </tr>\n",
       "    <tr>\n",
       "      <td>4</td>\n",
       "      <td>2019-07-31 14:31</td>\n",
       "      <td>주거공간</td>\n",
       "      <td>아파트</td>\n",
       "      <td>서울</td>\n",
       "      <td>강동구</td>\n",
       "      <td>암사동</td>\n",
       "      <td>509</td>\n",
       "      <td>선사현대아파트</td>\n",
       "      <td>34.0</td>\n",
       "      <td>NaN</td>\n",
       "      <td>...</td>\n",
       "      <td>주거-고급</td>\n",
       "      <td>전체</td>\n",
       "      <td>방문상담</td>\n",
       "      <td>진행중</td>\n",
       "      <td>199937</td>\n",
       "      <td>NaN</td>\n",
       "      <td>NaN</td>\n",
       "      <td>NaN</td>\n",
       "      <td>외부</td>\n",
       "      <td>믹스앤픽스</td>\n",
       "    </tr>\n",
       "  </tbody>\n",
       "</table>\n",
       "<p>5 rows × 21 columns</p>\n",
       "</div>"
      ],
      "text/plain": [
       "                견적일  대상구분 시공대상  지역   주소_시군구 주소_읍면동 주소_번지      아파트명    평수  \\\n",
       "0  2019-07-31 21:56  주거공간  아파트  경남  창원시 성산구    반림동     8   럭키반림아파트  31.0   \n",
       "1  2019-07-31 20:31  주거공간  아파트  서울      강동구    명일동    54     한양아파트  42.0   \n",
       "2  2019-07-31 16:26  주거공간  아파트  서울      강서구    가양동  1461  가양2단지아파트  24.0   \n",
       "3  2019-07-31 15:30  주거공간  아파트  서울      성북구    돈암동   644  돈암코오롱하늘채  34.0   \n",
       "4  2019-07-31 14:31  주거공간  아파트  서울      강동구    암사동   509   선사현대아파트  34.0   \n",
       "\n",
       "              공사예산_고객예산  ...  DB 유형 시공범위  진행상태 종료여부    견적번호  \\\n",
       "0                   NaN  ...  주거-고급   전체  방문상담  진행중  200037   \n",
       "1                   NaN  ...  주거-고급   전체  방문상담  진행중  200030   \n",
       "2                   NaN  ...  주거-기본   전체  계약완료  진행중  199988   \n",
       "3  3,000만원 ~ 4,000만원 미만  ...  주거-고급   전체  방문상담  진행중  199970   \n",
       "4                   NaN  ...  주거-고급   전체  방문상담  진행중  199937   \n",
       "\n",
       "                                                  요청        인입채널_UTM    계약번호  \\\n",
       "0  방이 4개가 필요합니다\\n안방을 아들 둘이 지낼수있도록 해서\\n부부 각 방 하나씩 ...  네이버검색광고_Mobile     NaN   \n",
       "1                           배관공사 포함 샷시 \\r\\n모두 올수리입니다             NaN     NaN   \n",
       "2                                                NaN             NaN  9884.0   \n",
       "3  - 상담희망시간 : 무관\\r\\n- 현장위치 : 서울특별시 성북구 아리랑로 75 돈암...             NaN     NaN   \n",
       "4                                                NaN             NaN     NaN   \n",
       "\n",
       "   유입경로 유입경로_상세  \n",
       "0     웹  모바일웹상세  \n",
       "1     앱   아이폰간편  \n",
       "2     앱   안드로이드  \n",
       "3     웹   PC웹간편  \n",
       "4    외부   믹스앤픽스  \n",
       "\n",
       "[5 rows x 21 columns]"
      ]
     },
     "execution_count": 173,
     "metadata": {},
     "output_type": "execute_result"
    }
   ],
   "source": [
    "kjkj.head()"
   ]
  },
  {
   "cell_type": "code",
   "execution_count": 174,
   "metadata": {},
   "outputs": [
    {
     "data": {
      "text/plain": [
       "array(['경남', '서울', '대전', '경기', '광주', '대구', '인천', nan, '경북', '전북', '충북',\n",
       "       '부산', '강원', '세종', '전남', '울산', '충남', '제주'], dtype=object)"
      ]
     },
     "execution_count": 174,
     "metadata": {},
     "output_type": "execute_result"
    }
   ],
   "source": [
    "kjkj['지역'].unique()"
   ]
  },
  {
   "cell_type": "code",
   "execution_count": 175,
   "metadata": {},
   "outputs": [],
   "source": [
    "kjkj.loc[kjkj['지역']=='경남', '지역'] = '경상남도'\n",
    "kjkj.loc[kjkj['지역']=='서울', '지역'] = '서울특별시'\n",
    "kjkj.loc[kjkj['지역']=='대전', '지역'] = '대전광역시'\n",
    "kjkj.loc[kjkj['지역']=='경기', '지역'] = '경기도'\n",
    "kjkj.loc[kjkj['지역']=='광주', '지역'] = '광주광역시'\n",
    "kjkj.loc[kjkj['지역']=='대구', '지역'] = '대구광역시'\n",
    "kjkj.loc[kjkj['지역']=='인천', '지역'] = '인천광역시'\n",
    "kjkj.loc[kjkj['지역']=='경북', '지역'] = '경상북도'\n",
    "kjkj.loc[kjkj['지역']=='전북', '지역'] = '전라북도'\n",
    "kjkj.loc[kjkj['지역']=='충북', '지역'] = '충청북도'\n",
    "kjkj.loc[kjkj['지역']=='부산', '지역'] = '부산광역시'\n",
    "kjkj.loc[kjkj['지역']=='강원', '지역'] = '강원도'\n",
    "kjkj.loc[kjkj['지역']=='세종', '지역'] = '세종특별자치시'\n",
    "kjkj.loc[kjkj['지역']=='전남', '지역'] = '전라남도'\n",
    "kjkj.loc[kjkj['지역']=='울산', '지역'] = '울산광역시'\n",
    "kjkj.loc[kjkj['지역']=='충남', '지역'] = '충청남도'\n",
    "kjkj.loc[kjkj['지역']=='제주', '지역'] = '제주특별자치도'"
   ]
  },
  {
   "cell_type": "code",
   "execution_count": 176,
   "metadata": {},
   "outputs": [
    {
     "data": {
      "text/plain": [
       "array(['경상남도', '서울특별시', '대전광역시', '경기도', '광주광역시', '대구광역시', '인천광역시', nan,\n",
       "       '경상북도', '전라북도', '충청북도', '부산광역시', '강원도', '세종특별자치시', '전라남도', '울산광역시',\n",
       "       '충청남도', '제주특별자치도'], dtype=object)"
      ]
     },
     "execution_count": 176,
     "metadata": {},
     "output_type": "execute_result"
    }
   ],
   "source": [
    "kjkj['지역'].unique()"
   ]
  },
  {
   "cell_type": "code",
   "execution_count": 177,
   "metadata": {},
   "outputs": [
    {
     "data": {
      "text/plain": [
       "(8246, 21)"
      ]
     },
     "execution_count": 177,
     "metadata": {},
     "output_type": "execute_result"
    }
   ],
   "source": [
    "kjkj.shape"
   ]
  },
  {
   "cell_type": "code",
   "execution_count": 178,
   "metadata": {},
   "outputs": [
    {
     "data": {
      "text/html": [
       "<div>\n",
       "<style scoped>\n",
       "    .dataframe tbody tr th:only-of-type {\n",
       "        vertical-align: middle;\n",
       "    }\n",
       "\n",
       "    .dataframe tbody tr th {\n",
       "        vertical-align: top;\n",
       "    }\n",
       "\n",
       "    .dataframe thead th {\n",
       "        text-align: right;\n",
       "    }\n",
       "</style>\n",
       "<table border=\"1\" class=\"dataframe\">\n",
       "  <thead>\n",
       "    <tr style=\"text-align: right;\">\n",
       "      <th></th>\n",
       "      <th>견적일</th>\n",
       "      <th>대상구분</th>\n",
       "      <th>시공대상</th>\n",
       "      <th>지역</th>\n",
       "      <th>주소_시군구</th>\n",
       "      <th>주소_읍면동</th>\n",
       "      <th>주소_번지</th>\n",
       "      <th>아파트명</th>\n",
       "      <th>평수</th>\n",
       "      <th>공사예산_고객예산</th>\n",
       "      <th>...</th>\n",
       "      <th>DB 유형</th>\n",
       "      <th>시공범위</th>\n",
       "      <th>진행상태</th>\n",
       "      <th>종료여부</th>\n",
       "      <th>견적번호</th>\n",
       "      <th>요청</th>\n",
       "      <th>인입채널_UTM</th>\n",
       "      <th>계약번호</th>\n",
       "      <th>유입경로</th>\n",
       "      <th>유입경로_상세</th>\n",
       "    </tr>\n",
       "  </thead>\n",
       "  <tbody>\n",
       "    <tr>\n",
       "      <td>0</td>\n",
       "      <td>2019-07-31 21:56</td>\n",
       "      <td>주거공간</td>\n",
       "      <td>아파트</td>\n",
       "      <td>경상남도</td>\n",
       "      <td>창원시 성산구</td>\n",
       "      <td>반림동</td>\n",
       "      <td>8</td>\n",
       "      <td>럭키반림아파트</td>\n",
       "      <td>31.0</td>\n",
       "      <td>NaN</td>\n",
       "      <td>...</td>\n",
       "      <td>주거-고급</td>\n",
       "      <td>전체</td>\n",
       "      <td>방문상담</td>\n",
       "      <td>진행중</td>\n",
       "      <td>200037</td>\n",
       "      <td>방이 4개가 필요합니다\\n안방을 아들 둘이 지낼수있도록 해서\\n부부 각 방 하나씩 ...</td>\n",
       "      <td>네이버검색광고_Mobile</td>\n",
       "      <td>NaN</td>\n",
       "      <td>웹</td>\n",
       "      <td>모바일웹상세</td>\n",
       "    </tr>\n",
       "    <tr>\n",
       "      <td>1000</td>\n",
       "      <td>2019-06-05 16:30</td>\n",
       "      <td>주거공간</td>\n",
       "      <td>아파트</td>\n",
       "      <td>서울특별시</td>\n",
       "      <td>송파구</td>\n",
       "      <td>거여동</td>\n",
       "      <td>45-1</td>\n",
       "      <td>블레스아파트</td>\n",
       "      <td>18.0</td>\n",
       "      <td>NaN</td>\n",
       "      <td>...</td>\n",
       "      <td>주거-기본</td>\n",
       "      <td>전체</td>\n",
       "      <td>방문상담</td>\n",
       "      <td>진행중</td>\n",
       "      <td>184847</td>\n",
       "      <td>NaN</td>\n",
       "      <td>NaN</td>\n",
       "      <td>NaN</td>\n",
       "      <td>콜</td>\n",
       "      <td>검색</td>\n",
       "    </tr>\n",
       "    <tr>\n",
       "      <td>2000</td>\n",
       "      <td>2019-05-02 11:04</td>\n",
       "      <td>주거공간</td>\n",
       "      <td>아파트</td>\n",
       "      <td>경기도</td>\n",
       "      <td>수원시 장안구</td>\n",
       "      <td>율전동</td>\n",
       "      <td>546</td>\n",
       "      <td>밤꽃마을뜨란채</td>\n",
       "      <td>32.0</td>\n",
       "      <td>NaN</td>\n",
       "      <td>...</td>\n",
       "      <td>주거-고급</td>\n",
       "      <td>전체</td>\n",
       "      <td>방문상담</td>\n",
       "      <td>종료됨</td>\n",
       "      <td>174440</td>\n",
       "      <td>NaN</td>\n",
       "      <td>NaN</td>\n",
       "      <td>NaN</td>\n",
       "      <td>외부</td>\n",
       "      <td>98%</td>\n",
       "    </tr>\n",
       "    <tr>\n",
       "      <td>3000</td>\n",
       "      <td>2019-03-28 16:40</td>\n",
       "      <td>주거공간</td>\n",
       "      <td>아파트</td>\n",
       "      <td>충청남도</td>\n",
       "      <td>천안시 동남구</td>\n",
       "      <td>용곡동</td>\n",
       "      <td>595</td>\n",
       "      <td>용곡우림필유아파트</td>\n",
       "      <td>34.0</td>\n",
       "      <td>NaN</td>\n",
       "      <td>...</td>\n",
       "      <td>주거-기본</td>\n",
       "      <td>전체</td>\n",
       "      <td>방문상담</td>\n",
       "      <td>진행중</td>\n",
       "      <td>164548</td>\n",
       "      <td>NaN</td>\n",
       "      <td>NaN</td>\n",
       "      <td>NaN</td>\n",
       "      <td>외부</td>\n",
       "      <td>98%</td>\n",
       "    </tr>\n",
       "    <tr>\n",
       "      <td>4000</td>\n",
       "      <td>2019-02-21 16:49</td>\n",
       "      <td>주거공간</td>\n",
       "      <td>아파트</td>\n",
       "      <td>부산광역시</td>\n",
       "      <td>해운대구</td>\n",
       "      <td>우동</td>\n",
       "      <td>1410-1</td>\n",
       "      <td>해운대두산위브포세이돈</td>\n",
       "      <td>39.0</td>\n",
       "      <td>NaN</td>\n",
       "      <td>...</td>\n",
       "      <td>주거-고급</td>\n",
       "      <td>전체</td>\n",
       "      <td>방문상담</td>\n",
       "      <td>진행중</td>\n",
       "      <td>156333</td>\n",
       "      <td>39 평 : 방 3 개, 욕실 2 개\\r\\n[욕실]  - 전체 교체\\r\\n[주방]...</td>\n",
       "      <td>NaN</td>\n",
       "      <td>NaN</td>\n",
       "      <td>웹</td>\n",
       "      <td>PC웹상세</td>\n",
       "    </tr>\n",
       "    <tr>\n",
       "      <td>5000</td>\n",
       "      <td>2019-01-15 10:53</td>\n",
       "      <td>주거공간</td>\n",
       "      <td>아파트</td>\n",
       "      <td>서울특별시</td>\n",
       "      <td>영등포구</td>\n",
       "      <td>영등포동8가</td>\n",
       "      <td>91</td>\n",
       "      <td>당산 푸르지오</td>\n",
       "      <td>40.0</td>\n",
       "      <td>NaN</td>\n",
       "      <td>...</td>\n",
       "      <td>주거-기본</td>\n",
       "      <td>전체</td>\n",
       "      <td>방문상담</td>\n",
       "      <td>진행중</td>\n",
       "      <td>148558</td>\n",
       "      <td>3월 4일 세입자 이사\\r\\n3월 11일 이사 예정\\r\\n40평 \\r\\n방 4개 마...</td>\n",
       "      <td>NaN</td>\n",
       "      <td>NaN</td>\n",
       "      <td>웹</td>\n",
       "      <td>PC웹간편</td>\n",
       "    </tr>\n",
       "    <tr>\n",
       "      <td>6000</td>\n",
       "      <td>2019-12-23 11:18</td>\n",
       "      <td>주거공간</td>\n",
       "      <td>아파트</td>\n",
       "      <td>경기도</td>\n",
       "      <td>용인시 수지구</td>\n",
       "      <td>동천동</td>\n",
       "      <td>176-1</td>\n",
       "      <td>용인수지2차풍림아파트</td>\n",
       "      <td>42.0</td>\n",
       "      <td>NaN</td>\n",
       "      <td>...</td>\n",
       "      <td>주거-고급</td>\n",
       "      <td>전체</td>\n",
       "      <td>방문상담</td>\n",
       "      <td>진행중</td>\n",
       "      <td>227107</td>\n",
       "      <td>NaN</td>\n",
       "      <td>NaN</td>\n",
       "      <td>NaN</td>\n",
       "      <td>외부</td>\n",
       "      <td>페이스북</td>\n",
       "    </tr>\n",
       "    <tr>\n",
       "      <td>7000</td>\n",
       "      <td>2019-10-22 21:41</td>\n",
       "      <td>주거공간</td>\n",
       "      <td>아파트</td>\n",
       "      <td>강원도</td>\n",
       "      <td>춘천시</td>\n",
       "      <td>퇴계동</td>\n",
       "      <td>430</td>\n",
       "      <td>우성아파트</td>\n",
       "      <td>33.0</td>\n",
       "      <td>2,000만원 ~ 3,000만원 미만</td>\n",
       "      <td>...</td>\n",
       "      <td>주거-기본</td>\n",
       "      <td>전체</td>\n",
       "      <td>공사완료</td>\n",
       "      <td>종료됨</td>\n",
       "      <td>215964</td>\n",
       "      <td>&lt;인테리어 견적 계산기 결과 2,284만원&gt;\\r\\n[바닥]\\r\\n- 장판 (103만...</td>\n",
       "      <td>NaN</td>\n",
       "      <td>11610.0</td>\n",
       "      <td>앱</td>\n",
       "      <td>안드로이드간편</td>\n",
       "    </tr>\n",
       "    <tr>\n",
       "      <td>8000</td>\n",
       "      <td>2019-08-19 13:44</td>\n",
       "      <td>주거공간</td>\n",
       "      <td>아파트</td>\n",
       "      <td>경기도</td>\n",
       "      <td>성남시 분당구</td>\n",
       "      <td>야탑동</td>\n",
       "      <td>334</td>\n",
       "      <td>효자촌현대아파트</td>\n",
       "      <td>16.0</td>\n",
       "      <td>1,000만원 ~ 2,000만원 미만</td>\n",
       "      <td>...</td>\n",
       "      <td>주거-기본</td>\n",
       "      <td>전체</td>\n",
       "      <td>방문상담</td>\n",
       "      <td>진행중</td>\n",
       "      <td>203566</td>\n",
       "      <td>16평형, 베란다 확장 옵션도 견적 확인요망, 붙박이장필요, 인덕션 사용예정</td>\n",
       "      <td>NaN</td>\n",
       "      <td>NaN</td>\n",
       "      <td>앱</td>\n",
       "      <td>아이폰상세</td>\n",
       "    </tr>\n",
       "  </tbody>\n",
       "</table>\n",
       "<p>9 rows × 21 columns</p>\n",
       "</div>"
      ],
      "text/plain": [
       "                   견적일  대상구분 시공대상     지역   주소_시군구  주소_읍면동   주소_번지  \\\n",
       "0     2019-07-31 21:56  주거공간  아파트   경상남도  창원시 성산구     반림동       8   \n",
       "1000  2019-06-05 16:30  주거공간  아파트  서울특별시      송파구     거여동    45-1   \n",
       "2000  2019-05-02 11:04  주거공간  아파트    경기도  수원시 장안구     율전동     546   \n",
       "3000  2019-03-28 16:40  주거공간  아파트   충청남도  천안시 동남구     용곡동     595   \n",
       "4000  2019-02-21 16:49  주거공간  아파트  부산광역시     해운대구      우동  1410-1   \n",
       "5000  2019-01-15 10:53  주거공간  아파트  서울특별시     영등포구  영등포동8가      91   \n",
       "6000  2019-12-23 11:18  주거공간  아파트    경기도  용인시 수지구     동천동   176-1   \n",
       "7000  2019-10-22 21:41  주거공간  아파트    강원도      춘천시     퇴계동     430   \n",
       "8000  2019-08-19 13:44  주거공간  아파트    경기도  성남시 분당구     야탑동     334   \n",
       "\n",
       "             아파트명    평수             공사예산_고객예산  ...  DB 유형 시공범위  진행상태 종료여부  \\\n",
       "0         럭키반림아파트  31.0                   NaN  ...  주거-고급   전체  방문상담  진행중   \n",
       "1000       블레스아파트  18.0                   NaN  ...  주거-기본   전체  방문상담  진행중   \n",
       "2000      밤꽃마을뜨란채  32.0                   NaN  ...  주거-고급   전체  방문상담  종료됨   \n",
       "3000    용곡우림필유아파트  34.0                   NaN  ...  주거-기본   전체  방문상담  진행중   \n",
       "4000  해운대두산위브포세이돈  39.0                   NaN  ...  주거-고급   전체  방문상담  진행중   \n",
       "5000      당산 푸르지오  40.0                   NaN  ...  주거-기본   전체  방문상담  진행중   \n",
       "6000  용인수지2차풍림아파트  42.0                   NaN  ...  주거-고급   전체  방문상담  진행중   \n",
       "7000        우성아파트  33.0  2,000만원 ~ 3,000만원 미만  ...  주거-기본   전체  공사완료  종료됨   \n",
       "8000     효자촌현대아파트  16.0  1,000만원 ~ 2,000만원 미만  ...  주거-기본   전체  방문상담  진행중   \n",
       "\n",
       "        견적번호                                                 요청  \\\n",
       "0     200037  방이 4개가 필요합니다\\n안방을 아들 둘이 지낼수있도록 해서\\n부부 각 방 하나씩 ...   \n",
       "1000  184847                                                NaN   \n",
       "2000  174440                                                NaN   \n",
       "3000  164548                                                NaN   \n",
       "4000  156333   39 평 : 방 3 개, 욕실 2 개\\r\\n[욕실]  - 전체 교체\\r\\n[주방]...   \n",
       "5000  148558  3월 4일 세입자 이사\\r\\n3월 11일 이사 예정\\r\\n40평 \\r\\n방 4개 마...   \n",
       "6000  227107                                                NaN   \n",
       "7000  215964  <인테리어 견적 계산기 결과 2,284만원>\\r\\n[바닥]\\r\\n- 장판 (103만...   \n",
       "8000  203566         16평형, 베란다 확장 옵션도 견적 확인요망, 붙박이장필요, 인덕션 사용예정   \n",
       "\n",
       "            인입채널_UTM     계약번호  유입경로  유입경로_상세  \n",
       "0     네이버검색광고_Mobile      NaN     웹   모바일웹상세  \n",
       "1000             NaN      NaN     콜       검색  \n",
       "2000             NaN      NaN    외부      98%  \n",
       "3000             NaN      NaN    외부      98%  \n",
       "4000             NaN      NaN     웹    PC웹상세  \n",
       "5000             NaN      NaN     웹    PC웹간편  \n",
       "6000             NaN      NaN    외부     페이스북  \n",
       "7000             NaN  11610.0     앱  안드로이드간편  \n",
       "8000             NaN      NaN     앱    아이폰상세  \n",
       "\n",
       "[9 rows x 21 columns]"
      ]
     },
     "execution_count": 178,
     "metadata": {},
     "output_type": "execute_result"
    }
   ],
   "source": [
    "kjkj.iloc[[0,1000,2000,3000,4000,5000,6000,7000,8000],]"
   ]
  },
  {
   "cell_type": "code",
   "execution_count": 179,
   "metadata": {},
   "outputs": [],
   "source": [
    "from numpy import nan, NaN, NAN"
   ]
  },
  {
   "cell_type": "code",
   "execution_count": 180,
   "metadata": {
    "scrolled": true
   },
   "outputs": [],
   "source": [
    "kjkj.loc[kjkj['주소_시군구']=='0','주소_시군구'] = nan"
   ]
  },
  {
   "cell_type": "code",
   "execution_count": 181,
   "metadata": {},
   "outputs": [
    {
     "data": {
      "text/html": [
       "<div>\n",
       "<style scoped>\n",
       "    .dataframe tbody tr th:only-of-type {\n",
       "        vertical-align: middle;\n",
       "    }\n",
       "\n",
       "    .dataframe tbody tr th {\n",
       "        vertical-align: top;\n",
       "    }\n",
       "\n",
       "    .dataframe thead th {\n",
       "        text-align: right;\n",
       "    }\n",
       "</style>\n",
       "<table border=\"1\" class=\"dataframe\">\n",
       "  <thead>\n",
       "    <tr style=\"text-align: right;\">\n",
       "      <th></th>\n",
       "      <th>견적일</th>\n",
       "      <th>대상구분</th>\n",
       "      <th>시공대상</th>\n",
       "      <th>지역</th>\n",
       "      <th>주소_시군구</th>\n",
       "      <th>주소_읍면동</th>\n",
       "      <th>주소_번지</th>\n",
       "      <th>아파트명</th>\n",
       "      <th>평수</th>\n",
       "      <th>공사예산_고객예산</th>\n",
       "      <th>...</th>\n",
       "      <th>DB 유형</th>\n",
       "      <th>시공범위</th>\n",
       "      <th>진행상태</th>\n",
       "      <th>종료여부</th>\n",
       "      <th>견적번호</th>\n",
       "      <th>요청</th>\n",
       "      <th>인입채널_UTM</th>\n",
       "      <th>계약번호</th>\n",
       "      <th>유입경로</th>\n",
       "      <th>유입경로_상세</th>\n",
       "    </tr>\n",
       "  </thead>\n",
       "  <tbody>\n",
       "  </tbody>\n",
       "</table>\n",
       "<p>0 rows × 21 columns</p>\n",
       "</div>"
      ],
      "text/plain": [
       "Empty DataFrame\n",
       "Columns: [견적일, 대상구분, 시공대상, 지역, 주소_시군구, 주소_읍면동, 주소_번지, 아파트명, 평수, 공사예산_고객예산, 공사예산_CS확인예산, DB 유형, 시공범위, 진행상태, 종료여부, 견적번호, 요청, 인입채널_UTM, 계약번호, 유입경로, 유입경로_상세]\n",
       "Index: []\n",
       "\n",
       "[0 rows x 21 columns]"
      ]
     },
     "execution_count": 181,
     "metadata": {},
     "output_type": "execute_result"
    }
   ],
   "source": [
    "kjkj[kjkj['주소_시군구']=='0']"
   ]
  },
  {
   "cell_type": "code",
   "execution_count": 182,
   "metadata": {},
   "outputs": [],
   "source": [
    "kjkj.loc[kjkj['주소_읍면동']=='0','주소_읍면동'] = nan\n",
    "kjkj.loc[kjkj['주소_번지']=='0','주소_번지'] = nan"
   ]
  },
  {
   "cell_type": "code",
   "execution_count": 183,
   "metadata": {},
   "outputs": [
    {
     "data": {
      "text/plain": [
       "견적일                          2019-07-31 11:22\n",
       "대상구분                                     주거공간\n",
       "시공대상                                      아파트\n",
       "지역                                        NaN\n",
       "주소_시군구                                    NaN\n",
       "주소_읍면동                                    NaN\n",
       "주소_번지                                     NaN\n",
       "아파트명                                      NaN\n",
       "평수                                         33\n",
       "공사예산_고객예산                                 NaN\n",
       "공사예산_CS확인예산                    3000 ~ 3500 만원\n",
       "DB 유형                                   주거-고급\n",
       "시공범위                                       전체\n",
       "진행상태                                     전화상담\n",
       "종료여부                                      종료됨\n",
       "견적번호                                   199877\n",
       "요청             안양 평촌동 인덕원대우 33평 \\r\\n샷시포함 올수리 \n",
       "인입채널_UTM                                  NaN\n",
       "계약번호                                      NaN\n",
       "유입경로                                        웹\n",
       "유입경로_상세                                 PC웹간편\n",
       "Name: 11, dtype: object"
      ]
     },
     "execution_count": 183,
     "metadata": {},
     "output_type": "execute_result"
    }
   ],
   "source": [
    "kjkj.iloc[11,]"
   ]
  },
  {
   "cell_type": "code",
   "execution_count": 184,
   "metadata": {},
   "outputs": [],
   "source": [
    "kjkj.to_csv('../data/전처리완료/집닥_견적pp4.csv', header=True, index=False)"
   ]
  },
  {
   "cell_type": "code",
   "execution_count": 233,
   "metadata": {},
   "outputs": [],
   "source": [
    "kj = pd.read_csv('../data/전처리완료/집닥_견적pp4.csv')"
   ]
  },
  {
   "cell_type": "code",
   "execution_count": 234,
   "metadata": {
    "scrolled": true
   },
   "outputs": [
    {
     "data": {
      "text/html": [
       "<div>\n",
       "<style scoped>\n",
       "    .dataframe tbody tr th:only-of-type {\n",
       "        vertical-align: middle;\n",
       "    }\n",
       "\n",
       "    .dataframe tbody tr th {\n",
       "        vertical-align: top;\n",
       "    }\n",
       "\n",
       "    .dataframe thead th {\n",
       "        text-align: right;\n",
       "    }\n",
       "</style>\n",
       "<table border=\"1\" class=\"dataframe\">\n",
       "  <thead>\n",
       "    <tr style=\"text-align: right;\">\n",
       "      <th></th>\n",
       "      <th>견적일</th>\n",
       "      <th>대상구분</th>\n",
       "      <th>시공대상</th>\n",
       "      <th>지역</th>\n",
       "      <th>주소_시군구</th>\n",
       "      <th>주소_읍면동</th>\n",
       "      <th>주소_번지</th>\n",
       "      <th>아파트명</th>\n",
       "      <th>평수</th>\n",
       "      <th>공사예산_고객예산</th>\n",
       "      <th>...</th>\n",
       "      <th>DB 유형</th>\n",
       "      <th>시공범위</th>\n",
       "      <th>진행상태</th>\n",
       "      <th>종료여부</th>\n",
       "      <th>견적번호</th>\n",
       "      <th>요청</th>\n",
       "      <th>인입채널_UTM</th>\n",
       "      <th>계약번호</th>\n",
       "      <th>유입경로</th>\n",
       "      <th>유입경로_상세</th>\n",
       "    </tr>\n",
       "  </thead>\n",
       "  <tbody>\n",
       "    <tr>\n",
       "      <td>0</td>\n",
       "      <td>2019-07-31 21:56</td>\n",
       "      <td>주거공간</td>\n",
       "      <td>아파트</td>\n",
       "      <td>경상남도</td>\n",
       "      <td>창원시 성산구</td>\n",
       "      <td>반림동</td>\n",
       "      <td>8</td>\n",
       "      <td>럭키반림아파트</td>\n",
       "      <td>31.0</td>\n",
       "      <td>NaN</td>\n",
       "      <td>...</td>\n",
       "      <td>주거-고급</td>\n",
       "      <td>전체</td>\n",
       "      <td>방문상담</td>\n",
       "      <td>진행중</td>\n",
       "      <td>200037</td>\n",
       "      <td>방이 4개가 필요합니다\\n안방을 아들 둘이 지낼수있도록 해서\\n부부 각 방 하나씩 ...</td>\n",
       "      <td>네이버검색광고_Mobile</td>\n",
       "      <td>NaN</td>\n",
       "      <td>웹</td>\n",
       "      <td>모바일웹상세</td>\n",
       "    </tr>\n",
       "    <tr>\n",
       "      <td>1</td>\n",
       "      <td>2019-07-31 20:31</td>\n",
       "      <td>주거공간</td>\n",
       "      <td>아파트</td>\n",
       "      <td>서울특별시</td>\n",
       "      <td>강동구</td>\n",
       "      <td>명일동</td>\n",
       "      <td>54</td>\n",
       "      <td>한양아파트</td>\n",
       "      <td>42.0</td>\n",
       "      <td>NaN</td>\n",
       "      <td>...</td>\n",
       "      <td>주거-고급</td>\n",
       "      <td>전체</td>\n",
       "      <td>방문상담</td>\n",
       "      <td>진행중</td>\n",
       "      <td>200030</td>\n",
       "      <td>배관공사 포함 샷시 \\r\\n모두 올수리입니다</td>\n",
       "      <td>NaN</td>\n",
       "      <td>NaN</td>\n",
       "      <td>앱</td>\n",
       "      <td>아이폰간편</td>\n",
       "    </tr>\n",
       "    <tr>\n",
       "      <td>2</td>\n",
       "      <td>2019-07-31 16:26</td>\n",
       "      <td>주거공간</td>\n",
       "      <td>아파트</td>\n",
       "      <td>서울특별시</td>\n",
       "      <td>강서구</td>\n",
       "      <td>가양동</td>\n",
       "      <td>1461</td>\n",
       "      <td>가양2단지아파트</td>\n",
       "      <td>24.0</td>\n",
       "      <td>NaN</td>\n",
       "      <td>...</td>\n",
       "      <td>주거-기본</td>\n",
       "      <td>전체</td>\n",
       "      <td>계약완료</td>\n",
       "      <td>진행중</td>\n",
       "      <td>199988</td>\n",
       "      <td>NaN</td>\n",
       "      <td>NaN</td>\n",
       "      <td>9884.0</td>\n",
       "      <td>앱</td>\n",
       "      <td>안드로이드</td>\n",
       "    </tr>\n",
       "    <tr>\n",
       "      <td>3</td>\n",
       "      <td>2019-07-31 15:30</td>\n",
       "      <td>주거공간</td>\n",
       "      <td>아파트</td>\n",
       "      <td>서울특별시</td>\n",
       "      <td>성북구</td>\n",
       "      <td>돈암동</td>\n",
       "      <td>644</td>\n",
       "      <td>돈암코오롱하늘채</td>\n",
       "      <td>34.0</td>\n",
       "      <td>3,000만원 ~ 4,000만원 미만</td>\n",
       "      <td>...</td>\n",
       "      <td>주거-고급</td>\n",
       "      <td>전체</td>\n",
       "      <td>방문상담</td>\n",
       "      <td>진행중</td>\n",
       "      <td>199970</td>\n",
       "      <td>- 상담희망시간 : 무관\\r\\n- 현장위치 : 서울특별시 성북구 아리랑로 75 돈암...</td>\n",
       "      <td>NaN</td>\n",
       "      <td>NaN</td>\n",
       "      <td>웹</td>\n",
       "      <td>PC웹간편</td>\n",
       "    </tr>\n",
       "    <tr>\n",
       "      <td>4</td>\n",
       "      <td>2019-07-31 14:31</td>\n",
       "      <td>주거공간</td>\n",
       "      <td>아파트</td>\n",
       "      <td>서울특별시</td>\n",
       "      <td>강동구</td>\n",
       "      <td>암사동</td>\n",
       "      <td>509</td>\n",
       "      <td>선사현대아파트</td>\n",
       "      <td>34.0</td>\n",
       "      <td>NaN</td>\n",
       "      <td>...</td>\n",
       "      <td>주거-고급</td>\n",
       "      <td>전체</td>\n",
       "      <td>방문상담</td>\n",
       "      <td>진행중</td>\n",
       "      <td>199937</td>\n",
       "      <td>NaN</td>\n",
       "      <td>NaN</td>\n",
       "      <td>NaN</td>\n",
       "      <td>외부</td>\n",
       "      <td>믹스앤픽스</td>\n",
       "    </tr>\n",
       "  </tbody>\n",
       "</table>\n",
       "<p>5 rows × 21 columns</p>\n",
       "</div>"
      ],
      "text/plain": [
       "                견적일  대상구분 시공대상     지역   주소_시군구 주소_읍면동 주소_번지      아파트명    평수  \\\n",
       "0  2019-07-31 21:56  주거공간  아파트   경상남도  창원시 성산구    반림동     8   럭키반림아파트  31.0   \n",
       "1  2019-07-31 20:31  주거공간  아파트  서울특별시      강동구    명일동    54     한양아파트  42.0   \n",
       "2  2019-07-31 16:26  주거공간  아파트  서울특별시      강서구    가양동  1461  가양2단지아파트  24.0   \n",
       "3  2019-07-31 15:30  주거공간  아파트  서울특별시      성북구    돈암동   644  돈암코오롱하늘채  34.0   \n",
       "4  2019-07-31 14:31  주거공간  아파트  서울특별시      강동구    암사동   509   선사현대아파트  34.0   \n",
       "\n",
       "              공사예산_고객예산  ...  DB 유형 시공범위  진행상태 종료여부    견적번호  \\\n",
       "0                   NaN  ...  주거-고급   전체  방문상담  진행중  200037   \n",
       "1                   NaN  ...  주거-고급   전체  방문상담  진행중  200030   \n",
       "2                   NaN  ...  주거-기본   전체  계약완료  진행중  199988   \n",
       "3  3,000만원 ~ 4,000만원 미만  ...  주거-고급   전체  방문상담  진행중  199970   \n",
       "4                   NaN  ...  주거-고급   전체  방문상담  진행중  199937   \n",
       "\n",
       "                                                  요청        인입채널_UTM    계약번호  \\\n",
       "0  방이 4개가 필요합니다\\n안방을 아들 둘이 지낼수있도록 해서\\n부부 각 방 하나씩 ...  네이버검색광고_Mobile     NaN   \n",
       "1                           배관공사 포함 샷시 \\r\\n모두 올수리입니다             NaN     NaN   \n",
       "2                                                NaN             NaN  9884.0   \n",
       "3  - 상담희망시간 : 무관\\r\\n- 현장위치 : 서울특별시 성북구 아리랑로 75 돈암...             NaN     NaN   \n",
       "4                                                NaN             NaN     NaN   \n",
       "\n",
       "   유입경로 유입경로_상세  \n",
       "0     웹  모바일웹상세  \n",
       "1     앱   아이폰간편  \n",
       "2     앱   안드로이드  \n",
       "3     웹   PC웹간편  \n",
       "4    외부   믹스앤픽스  \n",
       "\n",
       "[5 rows x 21 columns]"
      ]
     },
     "execution_count": 234,
     "metadata": {},
     "output_type": "execute_result"
    }
   ],
   "source": [
    "kj.head()"
   ]
  },
  {
   "cell_type": "code",
   "execution_count": 235,
   "metadata": {},
   "outputs": [],
   "source": [
    "kj.loc[kj['지역'].isnull(),'전체주소'] = nan"
   ]
  },
  {
   "cell_type": "code",
   "execution_count": 236,
   "metadata": {},
   "outputs": [],
   "source": [
    "kj.loc[kj['주소_시군구'].isnull(),'전체주소'] = kj['지역']"
   ]
  },
  {
   "cell_type": "code",
   "execution_count": 237,
   "metadata": {},
   "outputs": [
    {
     "data": {
      "text/plain": [
       "견적일            2019-07-30 13:23\n",
       "대상구분                       주거공간\n",
       "시공대상                        아파트\n",
       "지역                        인천광역시\n",
       "주소_시군구                      NaN\n",
       "주소_읍면동                      NaN\n",
       "주소_번지                       NaN\n",
       "아파트명                        NaN\n",
       "평수                           21\n",
       "공사예산_고객예산                   NaN\n",
       "공사예산_CS확인예산                 NaN\n",
       "DB 유형                       NaN\n",
       "시공범위                         전체\n",
       "진행상태                       전화상담\n",
       "종료여부                        종료됨\n",
       "견적번호                     199706\n",
       "요청               21평형(전용;15.6평)\n",
       "인입채널_UTM              다음검색광고_PC\n",
       "계약번호                        NaN\n",
       "유입경로                          웹\n",
       "유입경로_상세                   PC웹간편\n",
       "전체주소                      인천광역시\n",
       "Name: 32, dtype: object"
      ]
     },
     "execution_count": 237,
     "metadata": {},
     "output_type": "execute_result"
    }
   ],
   "source": [
    "kj.iloc[32,]"
   ]
  },
  {
   "cell_type": "code",
   "execution_count": 238,
   "metadata": {},
   "outputs": [],
   "source": [
    "kj.loc[(kj['주소_읍면동'].isnull())&(kj['주소_시군구'].notnull()),'전체주소'] = kj['지역'] + ' ' + kj['주소_시군구']"
   ]
  },
  {
   "cell_type": "code",
   "execution_count": 241,
   "metadata": {},
   "outputs": [
    {
     "data": {
      "text/html": [
       "<div>\n",
       "<style scoped>\n",
       "    .dataframe tbody tr th:only-of-type {\n",
       "        vertical-align: middle;\n",
       "    }\n",
       "\n",
       "    .dataframe tbody tr th {\n",
       "        vertical-align: top;\n",
       "    }\n",
       "\n",
       "    .dataframe thead th {\n",
       "        text-align: right;\n",
       "    }\n",
       "</style>\n",
       "<table border=\"1\" class=\"dataframe\">\n",
       "  <thead>\n",
       "    <tr style=\"text-align: right;\">\n",
       "      <th></th>\n",
       "      <th>견적일</th>\n",
       "      <th>대상구분</th>\n",
       "      <th>시공대상</th>\n",
       "      <th>지역</th>\n",
       "      <th>주소_시군구</th>\n",
       "      <th>주소_읍면동</th>\n",
       "      <th>주소_번지</th>\n",
       "      <th>아파트명</th>\n",
       "      <th>평수</th>\n",
       "      <th>공사예산_고객예산</th>\n",
       "      <th>...</th>\n",
       "      <th>시공범위</th>\n",
       "      <th>진행상태</th>\n",
       "      <th>종료여부</th>\n",
       "      <th>견적번호</th>\n",
       "      <th>요청</th>\n",
       "      <th>인입채널_UTM</th>\n",
       "      <th>계약번호</th>\n",
       "      <th>유입경로</th>\n",
       "      <th>유입경로_상세</th>\n",
       "      <th>전체주소</th>\n",
       "    </tr>\n",
       "  </thead>\n",
       "  <tbody>\n",
       "    <tr>\n",
       "      <td>23</td>\n",
       "      <td>2019-07-30 16:30</td>\n",
       "      <td>주거공간</td>\n",
       "      <td>아파트</td>\n",
       "      <td>NaN</td>\n",
       "      <td>NaN</td>\n",
       "      <td>NaN</td>\n",
       "      <td>NaN</td>\n",
       "      <td>NaN</td>\n",
       "      <td>NaN</td>\n",
       "      <td>NaN</td>\n",
       "      <td>...</td>\n",
       "      <td>전체</td>\n",
       "      <td>전화상담</td>\n",
       "      <td>종료됨</td>\n",
       "      <td>199796</td>\n",
       "      <td>NaN</td>\n",
       "      <td>페이스북</td>\n",
       "      <td>NaN</td>\n",
       "      <td>웹</td>\n",
       "      <td>모바일웹간편</td>\n",
       "      <td>NaN</td>\n",
       "    </tr>\n",
       "    <tr>\n",
       "      <td>32</td>\n",
       "      <td>2019-07-30 13:23</td>\n",
       "      <td>주거공간</td>\n",
       "      <td>아파트</td>\n",
       "      <td>인천광역시</td>\n",
       "      <td>NaN</td>\n",
       "      <td>NaN</td>\n",
       "      <td>NaN</td>\n",
       "      <td>NaN</td>\n",
       "      <td>21.0</td>\n",
       "      <td>NaN</td>\n",
       "      <td>...</td>\n",
       "      <td>전체</td>\n",
       "      <td>전화상담</td>\n",
       "      <td>종료됨</td>\n",
       "      <td>199706</td>\n",
       "      <td>21평형(전용;15.6평)</td>\n",
       "      <td>다음검색광고_PC</td>\n",
       "      <td>NaN</td>\n",
       "      <td>웹</td>\n",
       "      <td>PC웹간편</td>\n",
       "      <td>인천광역시</td>\n",
       "    </tr>\n",
       "    <tr>\n",
       "      <td>48</td>\n",
       "      <td>2019-07-29 13:26</td>\n",
       "      <td>주거공간</td>\n",
       "      <td>아파트</td>\n",
       "      <td>경기도</td>\n",
       "      <td>고양시 일산서구</td>\n",
       "      <td>NaN</td>\n",
       "      <td>NaN</td>\n",
       "      <td>NaN</td>\n",
       "      <td>59.0</td>\n",
       "      <td>NaN</td>\n",
       "      <td>...</td>\n",
       "      <td>전체</td>\n",
       "      <td>전화상담</td>\n",
       "      <td>종료됨</td>\n",
       "      <td>199475</td>\n",
       "      <td>일산 59평 아파트 전체 리모델링 견적원합니다.\\r\\n메일로 견적 부탁합니다.(근무...</td>\n",
       "      <td>NaN</td>\n",
       "      <td>NaN</td>\n",
       "      <td>앱</td>\n",
       "      <td>안드로이드간편</td>\n",
       "      <td>경기도 고양시 일산서구</td>\n",
       "    </tr>\n",
       "  </tbody>\n",
       "</table>\n",
       "<p>3 rows × 22 columns</p>\n",
       "</div>"
      ],
      "text/plain": [
       "                 견적일  대상구분 시공대상     지역    주소_시군구 주소_읍면동 주소_번지 아파트명    평수  \\\n",
       "23  2019-07-30 16:30  주거공간  아파트    NaN       NaN    NaN   NaN  NaN   NaN   \n",
       "32  2019-07-30 13:23  주거공간  아파트  인천광역시       NaN    NaN   NaN  NaN  21.0   \n",
       "48  2019-07-29 13:26  주거공간  아파트    경기도  고양시 일산서구    NaN   NaN  NaN  59.0   \n",
       "\n",
       "   공사예산_고객예산  ... 시공범위  진행상태 종료여부    견적번호  \\\n",
       "23       NaN  ...   전체  전화상담  종료됨  199796   \n",
       "32       NaN  ...   전체  전화상담  종료됨  199706   \n",
       "48       NaN  ...   전체  전화상담  종료됨  199475   \n",
       "\n",
       "                                                   요청   인입채널_UTM 계약번호 유입경로  \\\n",
       "23                                                NaN       페이스북  NaN    웹   \n",
       "32                                     21평형(전용;15.6평)  다음검색광고_PC  NaN    웹   \n",
       "48  일산 59평 아파트 전체 리모델링 견적원합니다.\\r\\n메일로 견적 부탁합니다.(근무...        NaN  NaN    앱   \n",
       "\n",
       "    유입경로_상세          전체주소  \n",
       "23   모바일웹간편           NaN  \n",
       "32    PC웹간편         인천광역시  \n",
       "48  안드로이드간편  경기도 고양시 일산서구  \n",
       "\n",
       "[3 rows x 22 columns]"
      ]
     },
     "execution_count": 241,
     "metadata": {},
     "output_type": "execute_result"
    }
   ],
   "source": [
    "kj.iloc[[23,32,48],]"
   ]
  },
  {
   "cell_type": "code",
   "execution_count": 242,
   "metadata": {},
   "outputs": [],
   "source": [
    "kj.loc[(kj['주소_번지'].isnull())&(kj['주소_읍면동'].notnull()),'전체주소'] = kj['지역']+' '+kj['주소_시군구']+' '+kj['주소_읍면동']"
   ]
  },
  {
   "cell_type": "code",
   "execution_count": 243,
   "metadata": {},
   "outputs": [],
   "source": [
    "kj.loc[kj['주소_번지'].notnull(),'전체주소'] = kj['지역']+' '+kj['주소_시군구']+' '+kj['주소_읍면동']+' '+kj['주소_번지']"
   ]
  },
  {
   "cell_type": "code",
   "execution_count": 244,
   "metadata": {},
   "outputs": [
    {
     "data": {
      "text/html": [
       "<div>\n",
       "<style scoped>\n",
       "    .dataframe tbody tr th:only-of-type {\n",
       "        vertical-align: middle;\n",
       "    }\n",
       "\n",
       "    .dataframe tbody tr th {\n",
       "        vertical-align: top;\n",
       "    }\n",
       "\n",
       "    .dataframe thead th {\n",
       "        text-align: right;\n",
       "    }\n",
       "</style>\n",
       "<table border=\"1\" class=\"dataframe\">\n",
       "  <thead>\n",
       "    <tr style=\"text-align: right;\">\n",
       "      <th></th>\n",
       "      <th>견적일</th>\n",
       "      <th>대상구분</th>\n",
       "      <th>시공대상</th>\n",
       "      <th>지역</th>\n",
       "      <th>주소_시군구</th>\n",
       "      <th>주소_읍면동</th>\n",
       "      <th>주소_번지</th>\n",
       "      <th>아파트명</th>\n",
       "      <th>평수</th>\n",
       "      <th>공사예산_고객예산</th>\n",
       "      <th>...</th>\n",
       "      <th>시공범위</th>\n",
       "      <th>진행상태</th>\n",
       "      <th>종료여부</th>\n",
       "      <th>견적번호</th>\n",
       "      <th>요청</th>\n",
       "      <th>인입채널_UTM</th>\n",
       "      <th>계약번호</th>\n",
       "      <th>유입경로</th>\n",
       "      <th>유입경로_상세</th>\n",
       "      <th>전체주소</th>\n",
       "    </tr>\n",
       "  </thead>\n",
       "  <tbody>\n",
       "    <tr>\n",
       "      <td>0</td>\n",
       "      <td>2019-07-31 21:56</td>\n",
       "      <td>주거공간</td>\n",
       "      <td>아파트</td>\n",
       "      <td>경상남도</td>\n",
       "      <td>창원시 성산구</td>\n",
       "      <td>반림동</td>\n",
       "      <td>8</td>\n",
       "      <td>럭키반림아파트</td>\n",
       "      <td>31.0</td>\n",
       "      <td>NaN</td>\n",
       "      <td>...</td>\n",
       "      <td>전체</td>\n",
       "      <td>방문상담</td>\n",
       "      <td>진행중</td>\n",
       "      <td>200037</td>\n",
       "      <td>방이 4개가 필요합니다\\n안방을 아들 둘이 지낼수있도록 해서\\n부부 각 방 하나씩 ...</td>\n",
       "      <td>네이버검색광고_Mobile</td>\n",
       "      <td>NaN</td>\n",
       "      <td>웹</td>\n",
       "      <td>모바일웹상세</td>\n",
       "      <td>경상남도 창원시 성산구 반림동 8</td>\n",
       "    </tr>\n",
       "    <tr>\n",
       "      <td>7</td>\n",
       "      <td>2019-07-31 13:37</td>\n",
       "      <td>주거공간</td>\n",
       "      <td>아파트</td>\n",
       "      <td>광주광역시</td>\n",
       "      <td>북구</td>\n",
       "      <td>용봉동</td>\n",
       "      <td>NaN</td>\n",
       "      <td>NaN</td>\n",
       "      <td>40.0</td>\n",
       "      <td>3,000만원 ~ 4,000만원 미만</td>\n",
       "      <td>...</td>\n",
       "      <td>전체</td>\n",
       "      <td>전화상담</td>\n",
       "      <td>종료됨</td>\n",
       "      <td>199898</td>\n",
       "      <td>평수: 40평 / 공사기간: 20일 / 공사금액: 40,000,000</td>\n",
       "      <td>NaN</td>\n",
       "      <td>NaN</td>\n",
       "      <td>웹</td>\n",
       "      <td>PC웹간편</td>\n",
       "      <td>광주광역시 북구 용봉동</td>\n",
       "    </tr>\n",
       "    <tr>\n",
       "      <td>11</td>\n",
       "      <td>2019-07-31 11:22</td>\n",
       "      <td>주거공간</td>\n",
       "      <td>아파트</td>\n",
       "      <td>NaN</td>\n",
       "      <td>NaN</td>\n",
       "      <td>NaN</td>\n",
       "      <td>NaN</td>\n",
       "      <td>NaN</td>\n",
       "      <td>33.0</td>\n",
       "      <td>NaN</td>\n",
       "      <td>...</td>\n",
       "      <td>전체</td>\n",
       "      <td>전화상담</td>\n",
       "      <td>종료됨</td>\n",
       "      <td>199877</td>\n",
       "      <td>안양 평촌동 인덕원대우 33평 \\r\\n샷시포함 올수리</td>\n",
       "      <td>NaN</td>\n",
       "      <td>NaN</td>\n",
       "      <td>웹</td>\n",
       "      <td>PC웹간편</td>\n",
       "      <td>NaN</td>\n",
       "    </tr>\n",
       "    <tr>\n",
       "      <td>23</td>\n",
       "      <td>2019-07-30 16:30</td>\n",
       "      <td>주거공간</td>\n",
       "      <td>아파트</td>\n",
       "      <td>NaN</td>\n",
       "      <td>NaN</td>\n",
       "      <td>NaN</td>\n",
       "      <td>NaN</td>\n",
       "      <td>NaN</td>\n",
       "      <td>NaN</td>\n",
       "      <td>NaN</td>\n",
       "      <td>...</td>\n",
       "      <td>전체</td>\n",
       "      <td>전화상담</td>\n",
       "      <td>종료됨</td>\n",
       "      <td>199796</td>\n",
       "      <td>NaN</td>\n",
       "      <td>페이스북</td>\n",
       "      <td>NaN</td>\n",
       "      <td>웹</td>\n",
       "      <td>모바일웹간편</td>\n",
       "      <td>NaN</td>\n",
       "    </tr>\n",
       "    <tr>\n",
       "      <td>32</td>\n",
       "      <td>2019-07-30 13:23</td>\n",
       "      <td>주거공간</td>\n",
       "      <td>아파트</td>\n",
       "      <td>인천광역시</td>\n",
       "      <td>NaN</td>\n",
       "      <td>NaN</td>\n",
       "      <td>NaN</td>\n",
       "      <td>NaN</td>\n",
       "      <td>21.0</td>\n",
       "      <td>NaN</td>\n",
       "      <td>...</td>\n",
       "      <td>전체</td>\n",
       "      <td>전화상담</td>\n",
       "      <td>종료됨</td>\n",
       "      <td>199706</td>\n",
       "      <td>21평형(전용;15.6평)</td>\n",
       "      <td>다음검색광고_PC</td>\n",
       "      <td>NaN</td>\n",
       "      <td>웹</td>\n",
       "      <td>PC웹간편</td>\n",
       "      <td>인천광역시</td>\n",
       "    </tr>\n",
       "    <tr>\n",
       "      <td>48</td>\n",
       "      <td>2019-07-29 13:26</td>\n",
       "      <td>주거공간</td>\n",
       "      <td>아파트</td>\n",
       "      <td>경기도</td>\n",
       "      <td>고양시 일산서구</td>\n",
       "      <td>NaN</td>\n",
       "      <td>NaN</td>\n",
       "      <td>NaN</td>\n",
       "      <td>59.0</td>\n",
       "      <td>NaN</td>\n",
       "      <td>...</td>\n",
       "      <td>전체</td>\n",
       "      <td>전화상담</td>\n",
       "      <td>종료됨</td>\n",
       "      <td>199475</td>\n",
       "      <td>일산 59평 아파트 전체 리모델링 견적원합니다.\\r\\n메일로 견적 부탁합니다.(근무...</td>\n",
       "      <td>NaN</td>\n",
       "      <td>NaN</td>\n",
       "      <td>앱</td>\n",
       "      <td>안드로이드간편</td>\n",
       "      <td>경기도 고양시 일산서구</td>\n",
       "    </tr>\n",
       "  </tbody>\n",
       "</table>\n",
       "<p>6 rows × 22 columns</p>\n",
       "</div>"
      ],
      "text/plain": [
       "                 견적일  대상구분 시공대상     지역    주소_시군구 주소_읍면동 주소_번지     아파트명    평수  \\\n",
       "0   2019-07-31 21:56  주거공간  아파트   경상남도   창원시 성산구    반림동     8  럭키반림아파트  31.0   \n",
       "7   2019-07-31 13:37  주거공간  아파트  광주광역시        북구    용봉동   NaN      NaN  40.0   \n",
       "11  2019-07-31 11:22  주거공간  아파트    NaN       NaN    NaN   NaN      NaN  33.0   \n",
       "23  2019-07-30 16:30  주거공간  아파트    NaN       NaN    NaN   NaN      NaN   NaN   \n",
       "32  2019-07-30 13:23  주거공간  아파트  인천광역시       NaN    NaN   NaN      NaN  21.0   \n",
       "48  2019-07-29 13:26  주거공간  아파트    경기도  고양시 일산서구    NaN   NaN      NaN  59.0   \n",
       "\n",
       "               공사예산_고객예산  ... 시공범위  진행상태 종료여부    견적번호  \\\n",
       "0                    NaN  ...   전체  방문상담  진행중  200037   \n",
       "7   3,000만원 ~ 4,000만원 미만  ...   전체  전화상담  종료됨  199898   \n",
       "11                   NaN  ...   전체  전화상담  종료됨  199877   \n",
       "23                   NaN  ...   전체  전화상담  종료됨  199796   \n",
       "32                   NaN  ...   전체  전화상담  종료됨  199706   \n",
       "48                   NaN  ...   전체  전화상담  종료됨  199475   \n",
       "\n",
       "                                                   요청        인입채널_UTM 계약번호  \\\n",
       "0   방이 4개가 필요합니다\\n안방을 아들 둘이 지낼수있도록 해서\\n부부 각 방 하나씩 ...  네이버검색광고_Mobile  NaN   \n",
       "7              평수: 40평 / 공사기간: 20일 / 공사금액: 40,000,000             NaN  NaN   \n",
       "11                     안양 평촌동 인덕원대우 33평 \\r\\n샷시포함 올수리              NaN  NaN   \n",
       "23                                                NaN            페이스북  NaN   \n",
       "32                                     21평형(전용;15.6평)       다음검색광고_PC  NaN   \n",
       "48  일산 59평 아파트 전체 리모델링 견적원합니다.\\r\\n메일로 견적 부탁합니다.(근무...             NaN  NaN   \n",
       "\n",
       "   유입경로  유입경로_상세                전체주소  \n",
       "0     웹   모바일웹상세  경상남도 창원시 성산구 반림동 8  \n",
       "7     웹    PC웹간편        광주광역시 북구 용봉동  \n",
       "11    웹    PC웹간편                 NaN  \n",
       "23    웹   모바일웹간편                 NaN  \n",
       "32    웹    PC웹간편               인천광역시  \n",
       "48    앱  안드로이드간편        경기도 고양시 일산서구  \n",
       "\n",
       "[6 rows x 22 columns]"
      ]
     },
     "execution_count": 244,
     "metadata": {},
     "output_type": "execute_result"
    }
   ],
   "source": [
    "kj.iloc[[0,7,11,23,32,48],]"
   ]
  },
  {
   "cell_type": "code",
   "execution_count": 246,
   "metadata": {},
   "outputs": [],
   "source": [
    "kj.to_csv('../data/전처리완료/집닥_견적pp4.csv', header=True, index=False)"
   ]
  },
  {
   "cell_type": "markdown",
   "metadata": {},
   "source": [
    "# 공사예산_CS확인예산 처리"
   ]
  },
  {
   "cell_type": "markdown",
   "metadata": {},
   "source": [
    "## 중위값 찾기"
   ]
  },
  {
   "cell_type": "code",
   "execution_count": 247,
   "metadata": {},
   "outputs": [],
   "source": [
    "kj = pd.read_csv('../data/전처리완료/집닥_견적pp4.csv')"
   ]
  },
  {
   "cell_type": "code",
   "execution_count": 251,
   "metadata": {
    "scrolled": true
   },
   "outputs": [
    {
     "data": {
      "text/plain": [
       "array(['4,000만원 ~ 5,000만원 미만', '1380 만원 이상', '3000 ~ 4000 만원',\n",
       "       '4000 ~ 4000 만원', '2500 ~ 3000 만원', '2000 ~ 2000 만원', nan,\n",
       "       '2000 ~ 2500 만원', '2900 ~ 3300 만원', '3000 ~ 3500 만원',\n",
       "       '1500 ~ 2000 만원', '2900 만원 이상', '5000 ~ 6000 만원', '3500 ~ 4000 만원',\n",
       "       '1500 ~ 1700 만원', '5000 ~ 5000 만원', '5500 만원 이상', '1000 ~ 2000 만원',\n",
       "       '2900 ~ 3500 만원', '4500 ~ 5000 만원', '4000 ~ 5200 만원',\n",
       "       '6000 ~ 6500 만원', '3000 ~ 3000 만원', '4000 ~ 4500 만원', '4000 만원 이상',\n",
       "       '1000 ~ 1300 만원', '7500 ~ 8000 만원', '5000 ~ 10000 만원',\n",
       "       '2000 ~ 2300 만원', '2900 ~ 3000 만원', '5000 ~ 5500 만원',\n",
       "       '1500 ~ 1500 만원', '2500 ~ 3500 만원', '2900 ~ 4000 만원',\n",
       "       '1000 ~ 1500 만원', '2500 ~ 2500 만원', '8000 ~ 8500 만원',\n",
       "       '2500 ~ 2700 만원', '2000 ~ 3000 만원', '5500 ~ 6000 만원',\n",
       "       '4500 ~ 4500 만원', '2700 ~ 2800 만원', '5000 만원 이상', '10000 만원 이상',\n",
       "       '1200 ~ 1500 만원', '1000 ~ 1900 만원', '2800 ~ 3000 만원',\n",
       "       '1000 ~ 1200 만원', '6000 ~ 8000 만원', '2300 ~ 2300 만원',\n",
       "       '3500 ~ 5000 만원', '3700 ~ 3700 만원', '1500 만원 이상', '1500 ~ 3500 만원',\n",
       "       '500 ~ 1000 만원', '2700 ~ 3000 만원', '2000 만원 이상', '3500 ~ 3500 만원',\n",
       "       '9000 ~ 10000 만원', '3000 ~ 5000 만원', '1300 ~ 1300 만원',\n",
       "       '6000 ~ 7000 만원', '2500 만원 이상', '5000 ~ 7000 만원', '2800 ~ 2900 만원',\n",
       "       '6000 만원 이상', '1500 ~ 1800 만원', '3000 ~ 3200 만원', '8000 ~ 8000 만원',\n",
       "       '3500 만원 이상', '3200 ~ 3500 만원', '2700 ~ 2700 만원', '1200 ~ 1200 만원',\n",
       "       '3000 만원 이상', '1000 ~ 1000 만원', '2000 ~ 2200 만원', '1600 만원 이상',\n",
       "       '5000 ~ 6600 만원', '7000 ~ 8000 만원', '8000 ~ 10000 만원',\n",
       "       '7000 ~ 7000 만원', '2800 만원 이상', '1800 만원 이상', '1900 만원 이상',\n",
       "       '2000 ~ 2800 만원', '10000 ~ 10000 만원', '2400 만원 이상',\n",
       "       '2400 ~ 2500 만원', '8000 ~ 9000 만원', '1300 ~ 1500 만원',\n",
       "       '6500 ~ 7000 만원', '2200 ~ 2200 만원', '1800 ~ 2000 만원', '1000 만원 이상',\n",
       "       '1900 ~ 2000 만원', '2500 ~ 2900 만원', '900 ~ 1000 만원',\n",
       "       '600 ~ 700 만원', '2100 ~ 2100 만원', '10000 ~ 15000 만원',\n",
       "       '2800 ~ 2800 만원', '1700 만원 이상', '3200 만원 이상', '1300 ~ 1700 만원',\n",
       "       '3100 만원 이상', '3700 만원 이상', '6000 ~ 6000 만원', '4500 만원 이상',\n",
       "       '4200 만원 이상', '4800 ~ 4800 만원', '1800 ~ 1800 만원',\n",
       "       '7000 ~ 10000 만원', '1400 ~ 1800 만원', '4000 ~ 6000 만원',\n",
       "       '1000 ~ 1400 만원', '3900 ~ 4200 만원', '3000 ~ 3300 만원',\n",
       "       '2100 ~ 2400 만원', '2000 ~ 2900 만원', '2900 ~ 2900 만원',\n",
       "       '2300 ~ 2500 만원', '1700 ~ 1700 만원', '4000 ~ 4300 만원',\n",
       "       '1700 ~ 1800 만원', '1900 ~ 1900 만원', '3000 ~ 3100 만원',\n",
       "       '15000 ~ 15000 만원', '1200 ~ 1300 만원', '1400 ~ 2500 만원',\n",
       "       '2500 ~ 3200 만원', '3600 ~ 4000 만원', '1400 ~ 1700 만원',\n",
       "       '5500 ~ 5500 만원', '1700 ~ 2200 만원', '3500 ~ 3700 만원',\n",
       "       '2200 ~ 2500 만원', '1600 ~ 1700 만원', '1200 만원 이상', '1400 ~ 1500 만원',\n",
       "       '13000 ~ 13000 만원', '3000 ~ 3900 만원', '4900 ~ 5000 만원',\n",
       "       '1700 ~ 2000 만원', '1600 ~ 1600 만원', '3300 ~ 3300 만원',\n",
       "       '2900 ~ 3100 만원', '3000 ~ 3400 만원', '2800 ~ 3300 만원',\n",
       "       '3200 ~ 3200 만원', '2600 만원 이상', '2900 ~ 2990 만원', '2300 ~ 2800 만원',\n",
       "       '2500 ~ 3290 만원', '2000 ~ 3500 만원', '2500 ~ 2800 만원', '4900 만원 이상',\n",
       "       '1000 ~ 1100 만원', '3000 ~ 3600 만원', '13000 ~ 17000 만원',\n",
       "       '1300 ~ 1400 만원', '9000 ~ 9000 만원', '1500 ~ 2500 만원',\n",
       "       '1500 ~ 2200 만원', '1500 ~ 1600 만원', '1000 ~ 2900 만원',\n",
       "       '5000 ~ 5800 만원', '1400 만원 이상', '8000 만원 이상', '3000 ~ 3700 만원',\n",
       "       '2000 ~ 4000 만원', '2200 ~ 2300 만원', '2500 ~ 25000 만원',\n",
       "       '2500 ~ 4000 만원', '3300 ~ 3600 만원', '2000 ~ 6000 만원',\n",
       "       '10000 ~ 12000 만원', '1300 만원 이상', '1400 ~ 1400 만원',\n",
       "       '4200 ~ 4200 만원', '700 ~ 1000 만원', '500 만원 미만', '2000 ~ 2400 만원',\n",
       "       '1500 ~ 1900 만원', '5000 ~ 8000 만원', '700 ~ 800 만원', '7000 만원 이상',\n",
       "       '3800 만원 이상', '3100 ~ 4000 만원', '3900 ~ 4000 만원', '1800 ~ 2300 만원',\n",
       "       '2400 ~ 2400 만원', '3400 ~ 5000 만원', '3300 ~ 4000 만원',\n",
       "       '2800 ~ 3200 만원', '4700 ~ 5000 만원', '2700 ~ 3200 만원', '2300 만원 이상',\n",
       "       '3500 ~ 4500 만원', '3100 ~ 3100 만원', '3400 ~ 3400 만원',\n",
       "       '4300 ~ 4300 만원', '4200 ~ 4500 만원', '4900 ~ 4900 만원',\n",
       "       '2400 ~ 3600 만원', '3100 ~ 3200 만원', '5300 ~ 8000 만원',\n",
       "       '4000 ~ 4150 만원', '4700 ~ 4700 만원', '2300 ~ 2600 만원', '3400 만원 이상',\n",
       "       '4800 만원 이상', '4400 ~ 4400 만원', '4300 ~ 4500 만원', '3200 ~ 4000 만원',\n",
       "       '1800 ~ 1900 만원', '3300 만원 이상', '2500 ~ 5000 만원', '3400 ~ 4000 만원',\n",
       "       '3400 ~ 3500 만원', '3200 ~ 5000 만원', '4800 ~ 5000 만원',\n",
       "       '7000 ~ 7500 만원', '2900 ~ 3200 만원', '3800 ~ 3800 만원', '4300 만원 이상',\n",
       "       '3000 ~ 4500 만원', '4500 ~ 6500 만원', '20000 ~ 20000 만원',\n",
       "       '4500 ~ 4800 만원', '5200 ~ 6700 만원', '3700 ~ 4000 만원',\n",
       "       '6800 ~ 6800 만원', '2900 ~ 7000 만원', '2900 ~ 3600 만원',\n",
       "       '4500 ~ 5500 만원', '1500 ~ 4500 만원', '2900 ~ 5000 만원',\n",
       "       '6400 ~ 6400 만원', '10000 ~ 14000 만원', '1000 ~ 1800 만원',\n",
       "       '1000 ~ 1600 만원', '2200 만원 이상', '2800 ~ 3500 만원', '40000 만원 이상',\n",
       "       '6000 ~ 10000 만원', '2999 만원 이상', '1100 ~ 1100 만원',\n",
       "       '2900 ~ 4500 만원'], dtype=object)"
      ]
     },
     "execution_count": 251,
     "metadata": {},
     "output_type": "execute_result"
    }
   ],
   "source": [
    "kj['공사예산_CS확인예산'].unique()"
   ]
  },
  {
   "cell_type": "code",
   "execution_count": 249,
   "metadata": {},
   "outputs": [],
   "source": [
    "kj.loc[kj['공사예산_CS확인예산']=='4000 ~ 5000 만원', '공사예산_CS확인예산'] = '4,000만원 ~ 5,000만원 미만'"
   ]
  },
  {
   "cell_type": "code",
   "execution_count": 252,
   "metadata": {},
   "outputs": [],
   "source": [
    "kj.loc[kj['공사예산_CS확인예산']=='1380 만원 이상', '공사예산_CS확인예산'] = '1,000만원 ~ 2,000만원 미만'"
   ]
  },
  {
   "cell_type": "code",
   "execution_count": 253,
   "metadata": {},
   "outputs": [],
   "source": [
    "kj.loc[kj['공사예산_CS확인예산']=='3000 ~ 4000 만원', '공사예산_CS확인예산'] = '3,000만원 ~ 4,000만원 미만'"
   ]
  },
  {
   "cell_type": "code",
   "execution_count": 254,
   "metadata": {},
   "outputs": [],
   "source": [
    "kj.loc[kj['공사예산_CS확인예산']=='4000 ~ 4000 만원', '공사예산_CS확인예산'] = '4,000만원 ~ 5,000만원 미만'"
   ]
  },
  {
   "cell_type": "code",
   "execution_count": 255,
   "metadata": {},
   "outputs": [],
   "source": [
    "kj.loc[kj['공사예산_CS확인예산']=='2500 ~ 3000 만원', '공사예산_CS확인예산'] = '2,000만원 ~ 3,000만원 미만'"
   ]
  },
  {
   "cell_type": "code",
   "execution_count": 256,
   "metadata": {},
   "outputs": [],
   "source": [
    "kj.loc[kj['공사예산_CS확인예산']=='2000 ~ 2000 만원', '공사예산_CS확인예산'] = '2,000만원 ~ 3,000만원 미만'"
   ]
  },
  {
   "cell_type": "code",
   "execution_count": 257,
   "metadata": {},
   "outputs": [],
   "source": [
    "kj.loc[kj['공사예산_CS확인예산']=='2000 ~ 2500 만원', '공사예산_CS확인예산'] = '2,000만원 ~ 3,000만원 미만'"
   ]
  },
  {
   "cell_type": "code",
   "execution_count": 258,
   "metadata": {},
   "outputs": [],
   "source": [
    "kj.loc[kj['공사예산_CS확인예산']=='2900 ~ 3300 만원', '공사예산_CS확인예산'] = '3,000만원 ~ 4,000만원 미만'"
   ]
  },
  {
   "cell_type": "code",
   "execution_count": 259,
   "metadata": {},
   "outputs": [],
   "source": [
    "kj.loc[kj['공사예산_CS확인예산']=='3000 ~ 3500 만원', '공사예산_CS확인예산'] = '3,000만원 ~ 4,000만원 미만'"
   ]
  },
  {
   "cell_type": "code",
   "execution_count": 260,
   "metadata": {},
   "outputs": [],
   "source": [
    "kj.loc[kj['공사예산_CS확인예산']=='1500 ~ 2000 만원', '공사예산_CS확인예산'] = '1,000만원 ~ 2,000만원 미만'"
   ]
  },
  {
   "cell_type": "code",
   "execution_count": 261,
   "metadata": {},
   "outputs": [],
   "source": [
    "kj.loc[kj['공사예산_CS확인예산']=='2900 만원 이상', '공사예산_CS확인예산'] = '2,000만원 ~ 3,000만원 미만'"
   ]
  },
  {
   "cell_type": "code",
   "execution_count": 262,
   "metadata": {},
   "outputs": [],
   "source": [
    "kj.loc[kj['공사예산_CS확인예산']=='5000 ~ 6000 만원', '공사예산_CS확인예산'] = '5,000만원 ~ 6,000만원 미만'"
   ]
  },
  {
   "cell_type": "code",
   "execution_count": 263,
   "metadata": {},
   "outputs": [],
   "source": [
    "kj.loc[kj['공사예산_CS확인예산']=='3500 ~ 4000 만원', '공사예산_CS확인예산'] = '3,000만원 ~ 4,000만원 미만'"
   ]
  },
  {
   "cell_type": "code",
   "execution_count": 264,
   "metadata": {},
   "outputs": [],
   "source": [
    "kj.loc[kj['공사예산_CS확인예산']=='1500 ~ 1700 만원', '공사예산_CS확인예산'] = '1,000만원 ~ 2,000만원 미만'"
   ]
  },
  {
   "cell_type": "code",
   "execution_count": 265,
   "metadata": {},
   "outputs": [],
   "source": [
    "kj.loc[kj['공사예산_CS확인예산']=='5000 ~ 5000 만원', '공사예산_CS확인예산'] = '5,000만원 ~ 6,000만원 미만'"
   ]
  },
  {
   "cell_type": "code",
   "execution_count": 266,
   "metadata": {},
   "outputs": [],
   "source": [
    "kj.loc[kj['공사예산_CS확인예산']=='5500 만원 이상', '공사예산_CS확인예산'] = '5,000만원 ~ 6,000만원 미만'"
   ]
  },
  {
   "cell_type": "code",
   "execution_count": 267,
   "metadata": {},
   "outputs": [],
   "source": [
    "kj.loc[kj['공사예산_CS확인예산']=='1000 ~ 2000 만원', '공사예산_CS확인예산'] = '1,000만원 ~ 2,000만원 미만'"
   ]
  },
  {
   "cell_type": "code",
   "execution_count": 268,
   "metadata": {},
   "outputs": [],
   "source": [
    "kj.loc[kj['공사예산_CS확인예산']=='2900 ~ 3500 만원', '공사예산_CS확인예산'] = '3,000만원 ~ 4,000만원 미만'"
   ]
  },
  {
   "cell_type": "code",
   "execution_count": 269,
   "metadata": {},
   "outputs": [],
   "source": [
    "kj.loc[kj['공사예산_CS확인예산']=='4500 ~ 5000 만원', '공사예산_CS확인예산'] = '4,000만원 ~ 5,000만원 미만'"
   ]
  },
  {
   "cell_type": "code",
   "execution_count": 270,
   "metadata": {},
   "outputs": [],
   "source": [
    "kj.loc[kj['공사예산_CS확인예산']=='4000 ~ 5200 만원', '공사예산_CS확인예산'] = '4,000만원 ~ 5,000만원 미만'"
   ]
  },
  {
   "cell_type": "code",
   "execution_count": 271,
   "metadata": {},
   "outputs": [],
   "source": [
    "kj.loc[kj['공사예산_CS확인예산']=='6000 ~ 6500 만원', '공사예산_CS확인예산'] = '6,000만원 ~ 7,000만원 미만'"
   ]
  },
  {
   "cell_type": "code",
   "execution_count": 272,
   "metadata": {
    "scrolled": true
   },
   "outputs": [
    {
     "data": {
      "text/plain": [
       "array(['4,000만원 ~ 5,000만원 미만', '1,000만원 ~ 2,000만원 미만',\n",
       "       '3,000만원 ~ 4,000만원 미만', '2,000만원 ~ 3,000만원 미만', nan,\n",
       "       '5,000만원 ~ 6,000만원 미만', '6,000만원 ~ 7,000만원 미만', '3000 ~ 3000 만원',\n",
       "       '4000 ~ 4500 만원', '4000 만원 이상', '1000 ~ 1300 만원', '7500 ~ 8000 만원',\n",
       "       '5000 ~ 10000 만원', '2000 ~ 2300 만원', '2900 ~ 3000 만원',\n",
       "       '5000 ~ 5500 만원', '1500 ~ 1500 만원', '2500 ~ 3500 만원',\n",
       "       '2900 ~ 4000 만원', '1000 ~ 1500 만원', '2500 ~ 2500 만원',\n",
       "       '8000 ~ 8500 만원', '2500 ~ 2700 만원', '2000 ~ 3000 만원',\n",
       "       '5500 ~ 6000 만원', '4500 ~ 4500 만원', '2700 ~ 2800 만원', '5000 만원 이상',\n",
       "       '10000 만원 이상', '1200 ~ 1500 만원', '1000 ~ 1900 만원',\n",
       "       '2800 ~ 3000 만원', '1000 ~ 1200 만원', '6000 ~ 8000 만원',\n",
       "       '2300 ~ 2300 만원', '3500 ~ 5000 만원', '3700 ~ 3700 만원', '1500 만원 이상',\n",
       "       '1500 ~ 3500 만원', '500 ~ 1000 만원', '2700 ~ 3000 만원', '2000 만원 이상',\n",
       "       '3500 ~ 3500 만원', '9000 ~ 10000 만원', '3000 ~ 5000 만원',\n",
       "       '1300 ~ 1300 만원', '6000 ~ 7000 만원', '2500 만원 이상', '5000 ~ 7000 만원',\n",
       "       '2800 ~ 2900 만원', '6000 만원 이상', '1500 ~ 1800 만원', '3000 ~ 3200 만원',\n",
       "       '8000 ~ 8000 만원', '3500 만원 이상', '3200 ~ 3500 만원', '2700 ~ 2700 만원',\n",
       "       '1200 ~ 1200 만원', '3000 만원 이상', '1000 ~ 1000 만원', '2000 ~ 2200 만원',\n",
       "       '1600 만원 이상', '5000 ~ 6600 만원', '7000 ~ 8000 만원',\n",
       "       '8000 ~ 10000 만원', '7000 ~ 7000 만원', '2800 만원 이상', '1800 만원 이상',\n",
       "       '1900 만원 이상', '2000 ~ 2800 만원', '10000 ~ 10000 만원', '2400 만원 이상',\n",
       "       '2400 ~ 2500 만원', '8000 ~ 9000 만원', '1300 ~ 1500 만원',\n",
       "       '6500 ~ 7000 만원', '2200 ~ 2200 만원', '1800 ~ 2000 만원', '1000 만원 이상',\n",
       "       '1900 ~ 2000 만원', '2500 ~ 2900 만원', '900 ~ 1000 만원',\n",
       "       '600 ~ 700 만원', '2100 ~ 2100 만원', '10000 ~ 15000 만원',\n",
       "       '2800 ~ 2800 만원', '1700 만원 이상', '3200 만원 이상', '1300 ~ 1700 만원',\n",
       "       '3100 만원 이상', '3700 만원 이상', '6000 ~ 6000 만원', '4500 만원 이상',\n",
       "       '4200 만원 이상', '4800 ~ 4800 만원', '1800 ~ 1800 만원',\n",
       "       '7000 ~ 10000 만원', '1400 ~ 1800 만원', '4000 ~ 6000 만원',\n",
       "       '1000 ~ 1400 만원', '3900 ~ 4200 만원', '3000 ~ 3300 만원',\n",
       "       '2100 ~ 2400 만원', '2000 ~ 2900 만원', '2900 ~ 2900 만원',\n",
       "       '2300 ~ 2500 만원', '1700 ~ 1700 만원', '4000 ~ 4300 만원',\n",
       "       '1700 ~ 1800 만원', '1900 ~ 1900 만원', '3000 ~ 3100 만원',\n",
       "       '15000 ~ 15000 만원', '1200 ~ 1300 만원', '1400 ~ 2500 만원',\n",
       "       '2500 ~ 3200 만원', '3600 ~ 4000 만원', '1400 ~ 1700 만원',\n",
       "       '5500 ~ 5500 만원', '1700 ~ 2200 만원', '3500 ~ 3700 만원',\n",
       "       '2200 ~ 2500 만원', '1600 ~ 1700 만원', '1200 만원 이상', '1400 ~ 1500 만원',\n",
       "       '13000 ~ 13000 만원', '3000 ~ 3900 만원', '4900 ~ 5000 만원',\n",
       "       '1700 ~ 2000 만원', '1600 ~ 1600 만원', '3300 ~ 3300 만원',\n",
       "       '2900 ~ 3100 만원', '3000 ~ 3400 만원', '2800 ~ 3300 만원',\n",
       "       '3200 ~ 3200 만원', '2600 만원 이상', '2900 ~ 2990 만원', '2300 ~ 2800 만원',\n",
       "       '2500 ~ 3290 만원', '2000 ~ 3500 만원', '2500 ~ 2800 만원', '4900 만원 이상',\n",
       "       '1000 ~ 1100 만원', '3000 ~ 3600 만원', '13000 ~ 17000 만원',\n",
       "       '1300 ~ 1400 만원', '9000 ~ 9000 만원', '1500 ~ 2500 만원',\n",
       "       '1500 ~ 2200 만원', '1500 ~ 1600 만원', '1000 ~ 2900 만원',\n",
       "       '5000 ~ 5800 만원', '1400 만원 이상', '8000 만원 이상', '3000 ~ 3700 만원',\n",
       "       '2000 ~ 4000 만원', '2200 ~ 2300 만원', '2500 ~ 25000 만원',\n",
       "       '2500 ~ 4000 만원', '3300 ~ 3600 만원', '2000 ~ 6000 만원',\n",
       "       '10000 ~ 12000 만원', '1300 만원 이상', '1400 ~ 1400 만원',\n",
       "       '4200 ~ 4200 만원', '700 ~ 1000 만원', '500 만원 미만', '2000 ~ 2400 만원',\n",
       "       '1500 ~ 1900 만원', '5000 ~ 8000 만원', '700 ~ 800 만원', '7000 만원 이상',\n",
       "       '3800 만원 이상', '3100 ~ 4000 만원', '3900 ~ 4000 만원', '1800 ~ 2300 만원',\n",
       "       '2400 ~ 2400 만원', '3400 ~ 5000 만원', '3300 ~ 4000 만원',\n",
       "       '2800 ~ 3200 만원', '4700 ~ 5000 만원', '2700 ~ 3200 만원', '2300 만원 이상',\n",
       "       '3500 ~ 4500 만원', '3100 ~ 3100 만원', '3400 ~ 3400 만원',\n",
       "       '4300 ~ 4300 만원', '4200 ~ 4500 만원', '4900 ~ 4900 만원',\n",
       "       '2400 ~ 3600 만원', '3100 ~ 3200 만원', '5300 ~ 8000 만원',\n",
       "       '4000 ~ 4150 만원', '4700 ~ 4700 만원', '2300 ~ 2600 만원', '3400 만원 이상',\n",
       "       '4800 만원 이상', '4400 ~ 4400 만원', '4300 ~ 4500 만원', '3200 ~ 4000 만원',\n",
       "       '1800 ~ 1900 만원', '3300 만원 이상', '2500 ~ 5000 만원', '3400 ~ 4000 만원',\n",
       "       '3400 ~ 3500 만원', '3200 ~ 5000 만원', '4800 ~ 5000 만원',\n",
       "       '7000 ~ 7500 만원', '2900 ~ 3200 만원', '3800 ~ 3800 만원', '4300 만원 이상',\n",
       "       '3000 ~ 4500 만원', '4500 ~ 6500 만원', '20000 ~ 20000 만원',\n",
       "       '4500 ~ 4800 만원', '5200 ~ 6700 만원', '3700 ~ 4000 만원',\n",
       "       '6800 ~ 6800 만원', '2900 ~ 7000 만원', '2900 ~ 3600 만원',\n",
       "       '4500 ~ 5500 만원', '1500 ~ 4500 만원', '2900 ~ 5000 만원',\n",
       "       '6400 ~ 6400 만원', '10000 ~ 14000 만원', '1000 ~ 1800 만원',\n",
       "       '1000 ~ 1600 만원', '2200 만원 이상', '2800 ~ 3500 만원', '40000 만원 이상',\n",
       "       '6000 ~ 10000 만원', '2999 만원 이상', '1100 ~ 1100 만원',\n",
       "       '2900 ~ 4500 만원'], dtype=object)"
      ]
     },
     "execution_count": 272,
     "metadata": {},
     "output_type": "execute_result"
    }
   ],
   "source": [
    "kj['공사예산_CS확인예산'].unique()"
   ]
  },
  {
   "cell_type": "code",
   "execution_count": 273,
   "metadata": {},
   "outputs": [],
   "source": [
    "kj.loc[kj['공사예산_CS확인예산']=='3000 ~ 3000 만원', '공사예산_CS확인예산'] = '3,000만원 ~ 4,000만원 미만'"
   ]
  },
  {
   "cell_type": "code",
   "execution_count": 274,
   "metadata": {},
   "outputs": [],
   "source": [
    "kj.loc[kj['공사예산_CS확인예산']=='4000 ~ 4500 만원', '공사예산_CS확인예산'] = '4,000만원 ~ 5,000만원 미만'"
   ]
  },
  {
   "cell_type": "code",
   "execution_count": 275,
   "metadata": {},
   "outputs": [],
   "source": [
    "kj.loc[kj['공사예산_CS확인예산']=='4000 만원 이상', '공사예산_CS확인예산'] = '4,000만원 ~ 5,000만원 미만'"
   ]
  },
  {
   "cell_type": "code",
   "execution_count": 276,
   "metadata": {},
   "outputs": [],
   "source": [
    "kj.loc[kj['공사예산_CS확인예산']=='1000 ~ 1300 만원', '공사예산_CS확인예산'] = '1,000만원 ~ 2,000만원 미만'"
   ]
  },
  {
   "cell_type": "code",
   "execution_count": 277,
   "metadata": {},
   "outputs": [],
   "source": [
    "kj.loc[kj['공사예산_CS확인예산']=='7500 ~ 8000 만원', '공사예산_CS확인예산'] = '7,000만원 ~ 8,000만원 미만'"
   ]
  },
  {
   "cell_type": "code",
   "execution_count": 278,
   "metadata": {},
   "outputs": [],
   "source": [
    "kj.loc[kj['공사예산_CS확인예산']=='5000 ~ 10000 만원', '공사예산_CS확인예산'] = '7,000만원 ~ 8,000만원 미만'"
   ]
  },
  {
   "cell_type": "code",
   "execution_count": 279,
   "metadata": {},
   "outputs": [],
   "source": [
    "kj.loc[kj['공사예산_CS확인예산']=='2000 ~ 2300 만원', '공사예산_CS확인예산'] = '2,000만원 ~ 3,000만원 미만'"
   ]
  },
  {
   "cell_type": "code",
   "execution_count": 280,
   "metadata": {},
   "outputs": [],
   "source": [
    "kj.loc[kj['공사예산_CS확인예산']=='2900 ~ 3000 만원', '공사예산_CS확인예산'] = '2,000만원 ~ 3,000만원 미만'"
   ]
  },
  {
   "cell_type": "code",
   "execution_count": 281,
   "metadata": {},
   "outputs": [],
   "source": [
    "kj.loc[kj['공사예산_CS확인예산']=='5000 ~ 5500 만원', '공사예산_CS확인예산'] = '5,000만원 ~ 6,000만원 미만'"
   ]
  },
  {
   "cell_type": "code",
   "execution_count": 282,
   "metadata": {},
   "outputs": [],
   "source": [
    "kj.loc[kj['공사예산_CS확인예산']=='1500 ~ 1500 만원', '공사예산_CS확인예산'] = '1,000만원 ~ 2,000만원 미만'"
   ]
  },
  {
   "cell_type": "code",
   "execution_count": 283,
   "metadata": {},
   "outputs": [],
   "source": [
    "kj.loc[kj['공사예산_CS확인예산']=='2500 ~ 3500 만원', '공사예산_CS확인예산'] = '3,000만원 ~ 4,000만원 미만'"
   ]
  },
  {
   "cell_type": "code",
   "execution_count": 284,
   "metadata": {},
   "outputs": [],
   "source": [
    "kj.loc[kj['공사예산_CS확인예산']=='2900 ~ 4000 만원', '공사예산_CS확인예산'] = '3,000만원 ~ 4,000만원 미만'"
   ]
  },
  {
   "cell_type": "code",
   "execution_count": 285,
   "metadata": {},
   "outputs": [],
   "source": [
    "kj.loc[kj['공사예산_CS확인예산']=='1000 ~ 1500 만원', '공사예산_CS확인예산'] = '1,000만원 ~ 2,000만원 미만'"
   ]
  },
  {
   "cell_type": "code",
   "execution_count": 286,
   "metadata": {},
   "outputs": [],
   "source": [
    "kj.loc[kj['공사예산_CS확인예산']=='2500 ~ 2500 만원', '공사예산_CS확인예산'] = '2,000만원 ~ 3,000만원 미만'"
   ]
  },
  {
   "cell_type": "code",
   "execution_count": 287,
   "metadata": {
    "scrolled": true
   },
   "outputs": [
    {
     "data": {
      "text/plain": [
       "array(['4,000만원 ~ 5,000만원 미만', '1,000만원 ~ 2,000만원 미만',\n",
       "       '3,000만원 ~ 4,000만원 미만', '2,000만원 ~ 3,000만원 미만', nan,\n",
       "       '5,000만원 ~ 6,000만원 미만', '6,000만원 ~ 7,000만원 미만',\n",
       "       '7,000만원 ~ 8,000만원 미만', '8000 ~ 8500 만원', '2500 ~ 2700 만원',\n",
       "       '2000 ~ 3000 만원', '5500 ~ 6000 만원', '4500 ~ 4500 만원',\n",
       "       '2700 ~ 2800 만원', '5000 만원 이상', '10000 만원 이상', '1200 ~ 1500 만원',\n",
       "       '1000 ~ 1900 만원', '2800 ~ 3000 만원', '1000 ~ 1200 만원',\n",
       "       '6000 ~ 8000 만원', '2300 ~ 2300 만원', '3500 ~ 5000 만원',\n",
       "       '3700 ~ 3700 만원', '1500 만원 이상', '1500 ~ 3500 만원', '500 ~ 1000 만원',\n",
       "       '2700 ~ 3000 만원', '2000 만원 이상', '3500 ~ 3500 만원',\n",
       "       '9000 ~ 10000 만원', '3000 ~ 5000 만원', '1300 ~ 1300 만원',\n",
       "       '6000 ~ 7000 만원', '2500 만원 이상', '5000 ~ 7000 만원', '2800 ~ 2900 만원',\n",
       "       '6000 만원 이상', '1500 ~ 1800 만원', '3000 ~ 3200 만원', '8000 ~ 8000 만원',\n",
       "       '3500 만원 이상', '3200 ~ 3500 만원', '2700 ~ 2700 만원', '1200 ~ 1200 만원',\n",
       "       '3000 만원 이상', '1000 ~ 1000 만원', '2000 ~ 2200 만원', '1600 만원 이상',\n",
       "       '5000 ~ 6600 만원', '7000 ~ 8000 만원', '8000 ~ 10000 만원',\n",
       "       '7000 ~ 7000 만원', '2800 만원 이상', '1800 만원 이상', '1900 만원 이상',\n",
       "       '2000 ~ 2800 만원', '10000 ~ 10000 만원', '2400 만원 이상',\n",
       "       '2400 ~ 2500 만원', '8000 ~ 9000 만원', '1300 ~ 1500 만원',\n",
       "       '6500 ~ 7000 만원', '2200 ~ 2200 만원', '1800 ~ 2000 만원', '1000 만원 이상',\n",
       "       '1900 ~ 2000 만원', '2500 ~ 2900 만원', '900 ~ 1000 만원',\n",
       "       '600 ~ 700 만원', '2100 ~ 2100 만원', '10000 ~ 15000 만원',\n",
       "       '2800 ~ 2800 만원', '1700 만원 이상', '3200 만원 이상', '1300 ~ 1700 만원',\n",
       "       '3100 만원 이상', '3700 만원 이상', '6000 ~ 6000 만원', '4500 만원 이상',\n",
       "       '4200 만원 이상', '4800 ~ 4800 만원', '1800 ~ 1800 만원',\n",
       "       '7000 ~ 10000 만원', '1400 ~ 1800 만원', '4000 ~ 6000 만원',\n",
       "       '1000 ~ 1400 만원', '3900 ~ 4200 만원', '3000 ~ 3300 만원',\n",
       "       '2100 ~ 2400 만원', '2000 ~ 2900 만원', '2900 ~ 2900 만원',\n",
       "       '2300 ~ 2500 만원', '1700 ~ 1700 만원', '4000 ~ 4300 만원',\n",
       "       '1700 ~ 1800 만원', '1900 ~ 1900 만원', '3000 ~ 3100 만원',\n",
       "       '15000 ~ 15000 만원', '1200 ~ 1300 만원', '1400 ~ 2500 만원',\n",
       "       '2500 ~ 3200 만원', '3600 ~ 4000 만원', '1400 ~ 1700 만원',\n",
       "       '5500 ~ 5500 만원', '1700 ~ 2200 만원', '3500 ~ 3700 만원',\n",
       "       '2200 ~ 2500 만원', '1600 ~ 1700 만원', '1200 만원 이상', '1400 ~ 1500 만원',\n",
       "       '13000 ~ 13000 만원', '3000 ~ 3900 만원', '4900 ~ 5000 만원',\n",
       "       '1700 ~ 2000 만원', '1600 ~ 1600 만원', '3300 ~ 3300 만원',\n",
       "       '2900 ~ 3100 만원', '3000 ~ 3400 만원', '2800 ~ 3300 만원',\n",
       "       '3200 ~ 3200 만원', '2600 만원 이상', '2900 ~ 2990 만원', '2300 ~ 2800 만원',\n",
       "       '2500 ~ 3290 만원', '2000 ~ 3500 만원', '2500 ~ 2800 만원', '4900 만원 이상',\n",
       "       '1000 ~ 1100 만원', '3000 ~ 3600 만원', '13000 ~ 17000 만원',\n",
       "       '1300 ~ 1400 만원', '9000 ~ 9000 만원', '1500 ~ 2500 만원',\n",
       "       '1500 ~ 2200 만원', '1500 ~ 1600 만원', '1000 ~ 2900 만원',\n",
       "       '5000 ~ 5800 만원', '1400 만원 이상', '8000 만원 이상', '3000 ~ 3700 만원',\n",
       "       '2000 ~ 4000 만원', '2200 ~ 2300 만원', '2500 ~ 25000 만원',\n",
       "       '2500 ~ 4000 만원', '3300 ~ 3600 만원', '2000 ~ 6000 만원',\n",
       "       '10000 ~ 12000 만원', '1300 만원 이상', '1400 ~ 1400 만원',\n",
       "       '4200 ~ 4200 만원', '700 ~ 1000 만원', '500 만원 미만', '2000 ~ 2400 만원',\n",
       "       '1500 ~ 1900 만원', '5000 ~ 8000 만원', '700 ~ 800 만원', '7000 만원 이상',\n",
       "       '3800 만원 이상', '3100 ~ 4000 만원', '3900 ~ 4000 만원', '1800 ~ 2300 만원',\n",
       "       '2400 ~ 2400 만원', '3400 ~ 5000 만원', '3300 ~ 4000 만원',\n",
       "       '2800 ~ 3200 만원', '4700 ~ 5000 만원', '2700 ~ 3200 만원', '2300 만원 이상',\n",
       "       '3500 ~ 4500 만원', '3100 ~ 3100 만원', '3400 ~ 3400 만원',\n",
       "       '4300 ~ 4300 만원', '4200 ~ 4500 만원', '4900 ~ 4900 만원',\n",
       "       '2400 ~ 3600 만원', '3100 ~ 3200 만원', '5300 ~ 8000 만원',\n",
       "       '4000 ~ 4150 만원', '4700 ~ 4700 만원', '2300 ~ 2600 만원', '3400 만원 이상',\n",
       "       '4800 만원 이상', '4400 ~ 4400 만원', '4300 ~ 4500 만원', '3200 ~ 4000 만원',\n",
       "       '1800 ~ 1900 만원', '3300 만원 이상', '2500 ~ 5000 만원', '3400 ~ 4000 만원',\n",
       "       '3400 ~ 3500 만원', '3200 ~ 5000 만원', '4800 ~ 5000 만원',\n",
       "       '7000 ~ 7500 만원', '2900 ~ 3200 만원', '3800 ~ 3800 만원', '4300 만원 이상',\n",
       "       '3000 ~ 4500 만원', '4500 ~ 6500 만원', '20000 ~ 20000 만원',\n",
       "       '4500 ~ 4800 만원', '5200 ~ 6700 만원', '3700 ~ 4000 만원',\n",
       "       '6800 ~ 6800 만원', '2900 ~ 7000 만원', '2900 ~ 3600 만원',\n",
       "       '4500 ~ 5500 만원', '1500 ~ 4500 만원', '2900 ~ 5000 만원',\n",
       "       '6400 ~ 6400 만원', '10000 ~ 14000 만원', '1000 ~ 1800 만원',\n",
       "       '1000 ~ 1600 만원', '2200 만원 이상', '2800 ~ 3500 만원', '40000 만원 이상',\n",
       "       '6000 ~ 10000 만원', '2999 만원 이상', '1100 ~ 1100 만원',\n",
       "       '2900 ~ 4500 만원'], dtype=object)"
      ]
     },
     "execution_count": 287,
     "metadata": {},
     "output_type": "execute_result"
    }
   ],
   "source": [
    "kj['공사예산_CS확인예산'].unique()"
   ]
  },
  {
   "cell_type": "code",
   "execution_count": 289,
   "metadata": {},
   "outputs": [],
   "source": [
    "kj.loc[kj['공사예산_CS확인예산']=='8000 ~ 8500 만원', '공사예산_CS확인예산'] = '8,000만원 ~ 9,000만원 미만'"
   ]
  },
  {
   "cell_type": "code",
   "execution_count": 290,
   "metadata": {},
   "outputs": [],
   "source": [
    "kj.loc[kj['공사예산_CS확인예산']=='2500 ~ 2700 만원', '공사예산_CS확인예산'] = '2,000만원 ~ 3,000만원 미만'"
   ]
  },
  {
   "cell_type": "code",
   "execution_count": 291,
   "metadata": {},
   "outputs": [],
   "source": [
    "kj.loc[kj['공사예산_CS확인예산']=='2000 ~ 3000 만원', '공사예산_CS확인예산'] = '2,000만원 ~ 3,000만원 미만'"
   ]
  },
  {
   "cell_type": "code",
   "execution_count": 292,
   "metadata": {},
   "outputs": [],
   "source": [
    "kj.loc[kj['공사예산_CS확인예산']=='5500 ~ 6000 만원', '공사예산_CS확인예산'] = '5,000만원 ~ 6,000만원 미만'"
   ]
  },
  {
   "cell_type": "code",
   "execution_count": 293,
   "metadata": {},
   "outputs": [],
   "source": [
    "kj.loc[kj['공사예산_CS확인예산']=='4500 ~ 4500 만원', '공사예산_CS확인예산'] = '4,000만원 ~ 5,000만원 미만'"
   ]
  },
  {
   "cell_type": "code",
   "execution_count": 294,
   "metadata": {},
   "outputs": [],
   "source": [
    "kj.loc[kj['공사예산_CS확인예산']=='2700 ~ 2800 만원', '공사예산_CS확인예산'] = '2,000만원 ~ 3,000만원 미만'"
   ]
  },
  {
   "cell_type": "code",
   "execution_count": 295,
   "metadata": {},
   "outputs": [],
   "source": [
    "kj.loc[kj['공사예산_CS확인예산']=='5000 만원 이상', '공사예산_CS확인예산'] = '5,000만원 ~ 6,000만원 미만'"
   ]
  },
  {
   "cell_type": "code",
   "execution_count": 296,
   "metadata": {},
   "outputs": [],
   "source": [
    "kj.loc[kj['공사예산_CS확인예산']=='10000 만원 이상', '공사예산_CS확인예산'] = '1억원 ~ 1.5억원 미만'"
   ]
  },
  {
   "cell_type": "code",
   "execution_count": 297,
   "metadata": {},
   "outputs": [],
   "source": [
    "kj.loc[kj['공사예산_CS확인예산']=='1200 ~ 1500 만원', '공사예산_CS확인예산'] = '1,000만원 ~ 2,000만원 미만'"
   ]
  },
  {
   "cell_type": "code",
   "execution_count": 298,
   "metadata": {},
   "outputs": [],
   "source": [
    "kj.loc[kj['공사예산_CS확인예산']=='1000 ~ 1900 만원', '공사예산_CS확인예산'] = '1,000만원 ~ 2,000만원 미만'"
   ]
  },
  {
   "cell_type": "code",
   "execution_count": 299,
   "metadata": {},
   "outputs": [],
   "source": [
    "kj.loc[kj['공사예산_CS확인예산']=='2800 ~ 3000 만원', '공사예산_CS확인예산'] = '2,000만원 ~ 3,000만원 미만'"
   ]
  },
  {
   "cell_type": "code",
   "execution_count": 300,
   "metadata": {},
   "outputs": [],
   "source": [
    "kj.loc[kj['공사예산_CS확인예산']=='1000 ~ 1200 만원', '공사예산_CS확인예산'] = '1,000만원 ~ 2,000만원 미만'"
   ]
  },
  {
   "cell_type": "code",
   "execution_count": 301,
   "metadata": {
    "scrolled": true
   },
   "outputs": [
    {
     "data": {
      "text/plain": [
       "array(['4,000만원 ~ 5,000만원 미만', '1,000만원 ~ 2,000만원 미만',\n",
       "       '3,000만원 ~ 4,000만원 미만', '2,000만원 ~ 3,000만원 미만', nan,\n",
       "       '5,000만원 ~ 6,000만원 미만', '6,000만원 ~ 7,000만원 미만',\n",
       "       '7,000만원 ~ 8,000만원 미만', '8,000만원 ~ 9,000만원 미만', '1억원 ~ 1.5억원 미만',\n",
       "       '6000 ~ 8000 만원', '2300 ~ 2300 만원', '3500 ~ 5000 만원',\n",
       "       '3700 ~ 3700 만원', '1500 만원 이상', '1500 ~ 3500 만원', '500 ~ 1000 만원',\n",
       "       '2700 ~ 3000 만원', '2000 만원 이상', '3500 ~ 3500 만원',\n",
       "       '9000 ~ 10000 만원', '3000 ~ 5000 만원', '1300 ~ 1300 만원',\n",
       "       '6000 ~ 7000 만원', '2500 만원 이상', '5000 ~ 7000 만원', '2800 ~ 2900 만원',\n",
       "       '6000 만원 이상', '1500 ~ 1800 만원', '3000 ~ 3200 만원', '8000 ~ 8000 만원',\n",
       "       '3500 만원 이상', '3200 ~ 3500 만원', '2700 ~ 2700 만원', '1200 ~ 1200 만원',\n",
       "       '3000 만원 이상', '1000 ~ 1000 만원', '2000 ~ 2200 만원', '1600 만원 이상',\n",
       "       '5000 ~ 6600 만원', '7000 ~ 8000 만원', '8000 ~ 10000 만원',\n",
       "       '7000 ~ 7000 만원', '2800 만원 이상', '1800 만원 이상', '1900 만원 이상',\n",
       "       '2000 ~ 2800 만원', '10000 ~ 10000 만원', '2400 만원 이상',\n",
       "       '2400 ~ 2500 만원', '8000 ~ 9000 만원', '1300 ~ 1500 만원',\n",
       "       '6500 ~ 7000 만원', '2200 ~ 2200 만원', '1800 ~ 2000 만원', '1000 만원 이상',\n",
       "       '1900 ~ 2000 만원', '2500 ~ 2900 만원', '900 ~ 1000 만원',\n",
       "       '600 ~ 700 만원', '2100 ~ 2100 만원', '10000 ~ 15000 만원',\n",
       "       '2800 ~ 2800 만원', '1700 만원 이상', '3200 만원 이상', '1300 ~ 1700 만원',\n",
       "       '3100 만원 이상', '3700 만원 이상', '6000 ~ 6000 만원', '4500 만원 이상',\n",
       "       '4200 만원 이상', '4800 ~ 4800 만원', '1800 ~ 1800 만원',\n",
       "       '7000 ~ 10000 만원', '1400 ~ 1800 만원', '4000 ~ 6000 만원',\n",
       "       '1000 ~ 1400 만원', '3900 ~ 4200 만원', '3000 ~ 3300 만원',\n",
       "       '2100 ~ 2400 만원', '2000 ~ 2900 만원', '2900 ~ 2900 만원',\n",
       "       '2300 ~ 2500 만원', '1700 ~ 1700 만원', '4000 ~ 4300 만원',\n",
       "       '1700 ~ 1800 만원', '1900 ~ 1900 만원', '3000 ~ 3100 만원',\n",
       "       '15000 ~ 15000 만원', '1200 ~ 1300 만원', '1400 ~ 2500 만원',\n",
       "       '2500 ~ 3200 만원', '3600 ~ 4000 만원', '1400 ~ 1700 만원',\n",
       "       '5500 ~ 5500 만원', '1700 ~ 2200 만원', '3500 ~ 3700 만원',\n",
       "       '2200 ~ 2500 만원', '1600 ~ 1700 만원', '1200 만원 이상', '1400 ~ 1500 만원',\n",
       "       '13000 ~ 13000 만원', '3000 ~ 3900 만원', '4900 ~ 5000 만원',\n",
       "       '1700 ~ 2000 만원', '1600 ~ 1600 만원', '3300 ~ 3300 만원',\n",
       "       '2900 ~ 3100 만원', '3000 ~ 3400 만원', '2800 ~ 3300 만원',\n",
       "       '3200 ~ 3200 만원', '2600 만원 이상', '2900 ~ 2990 만원', '2300 ~ 2800 만원',\n",
       "       '2500 ~ 3290 만원', '2000 ~ 3500 만원', '2500 ~ 2800 만원', '4900 만원 이상',\n",
       "       '1000 ~ 1100 만원', '3000 ~ 3600 만원', '13000 ~ 17000 만원',\n",
       "       '1300 ~ 1400 만원', '9000 ~ 9000 만원', '1500 ~ 2500 만원',\n",
       "       '1500 ~ 2200 만원', '1500 ~ 1600 만원', '1000 ~ 2900 만원',\n",
       "       '5000 ~ 5800 만원', '1400 만원 이상', '8000 만원 이상', '3000 ~ 3700 만원',\n",
       "       '2000 ~ 4000 만원', '2200 ~ 2300 만원', '2500 ~ 25000 만원',\n",
       "       '2500 ~ 4000 만원', '3300 ~ 3600 만원', '2000 ~ 6000 만원',\n",
       "       '10000 ~ 12000 만원', '1300 만원 이상', '1400 ~ 1400 만원',\n",
       "       '4200 ~ 4200 만원', '700 ~ 1000 만원', '500 만원 미만', '2000 ~ 2400 만원',\n",
       "       '1500 ~ 1900 만원', '5000 ~ 8000 만원', '700 ~ 800 만원', '7000 만원 이상',\n",
       "       '3800 만원 이상', '3100 ~ 4000 만원', '3900 ~ 4000 만원', '1800 ~ 2300 만원',\n",
       "       '2400 ~ 2400 만원', '3400 ~ 5000 만원', '3300 ~ 4000 만원',\n",
       "       '2800 ~ 3200 만원', '4700 ~ 5000 만원', '2700 ~ 3200 만원', '2300 만원 이상',\n",
       "       '3500 ~ 4500 만원', '3100 ~ 3100 만원', '3400 ~ 3400 만원',\n",
       "       '4300 ~ 4300 만원', '4200 ~ 4500 만원', '4900 ~ 4900 만원',\n",
       "       '2400 ~ 3600 만원', '3100 ~ 3200 만원', '5300 ~ 8000 만원',\n",
       "       '4000 ~ 4150 만원', '4700 ~ 4700 만원', '2300 ~ 2600 만원', '3400 만원 이상',\n",
       "       '4800 만원 이상', '4400 ~ 4400 만원', '4300 ~ 4500 만원', '3200 ~ 4000 만원',\n",
       "       '1800 ~ 1900 만원', '3300 만원 이상', '2500 ~ 5000 만원', '3400 ~ 4000 만원',\n",
       "       '3400 ~ 3500 만원', '3200 ~ 5000 만원', '4800 ~ 5000 만원',\n",
       "       '7000 ~ 7500 만원', '2900 ~ 3200 만원', '3800 ~ 3800 만원', '4300 만원 이상',\n",
       "       '3000 ~ 4500 만원', '4500 ~ 6500 만원', '20000 ~ 20000 만원',\n",
       "       '4500 ~ 4800 만원', '5200 ~ 6700 만원', '3700 ~ 4000 만원',\n",
       "       '6800 ~ 6800 만원', '2900 ~ 7000 만원', '2900 ~ 3600 만원',\n",
       "       '4500 ~ 5500 만원', '1500 ~ 4500 만원', '2900 ~ 5000 만원',\n",
       "       '6400 ~ 6400 만원', '10000 ~ 14000 만원', '1000 ~ 1800 만원',\n",
       "       '1000 ~ 1600 만원', '2200 만원 이상', '2800 ~ 3500 만원', '40000 만원 이상',\n",
       "       '6000 ~ 10000 만원', '2999 만원 이상', '1100 ~ 1100 만원',\n",
       "       '2900 ~ 4500 만원'], dtype=object)"
      ]
     },
     "execution_count": 301,
     "metadata": {},
     "output_type": "execute_result"
    }
   ],
   "source": [
    "kj['공사예산_CS확인예산'].unique()"
   ]
  },
  {
   "cell_type": "code",
   "execution_count": 302,
   "metadata": {},
   "outputs": [
    {
     "data": {
      "text/plain": [
       "210"
      ]
     },
     "execution_count": 302,
     "metadata": {},
     "output_type": "execute_result"
    }
   ],
   "source": [
    "len(kj['공사예산_CS확인예산'].unique())"
   ]
  },
  {
   "cell_type": "code",
   "execution_count": 303,
   "metadata": {},
   "outputs": [],
   "source": [
    "kj.loc[kj['공사예산_CS확인예산']=='6000 ~ 8000 만원', '공사예산_CS확인예산'] = '7,000만원 ~ 8,000만원 미만'"
   ]
  },
  {
   "cell_type": "code",
   "execution_count": 304,
   "metadata": {},
   "outputs": [],
   "source": [
    "kj.loc[kj['공사예산_CS확인예산']=='2300 ~ 2300 만원', '공사예산_CS확인예산'] = '2,000만원 ~ 3,000만원 미만'"
   ]
  },
  {
   "cell_type": "code",
   "execution_count": 305,
   "metadata": {},
   "outputs": [],
   "source": [
    "kj.loc[kj['공사예산_CS확인예산']=='3500 ~ 5000 만원', '공사예산_CS확인예산'] = '4,000만원 ~ 5,000만원 미만'"
   ]
  },
  {
   "cell_type": "code",
   "execution_count": 306,
   "metadata": {},
   "outputs": [],
   "source": [
    "kj.loc[kj['공사예산_CS확인예산']=='3700 ~ 3700 만원', '공사예산_CS확인예산'] = '3,000만원 ~ 4,000만원 미만'"
   ]
  },
  {
   "cell_type": "code",
   "execution_count": 307,
   "metadata": {},
   "outputs": [],
   "source": [
    "kj.loc[kj['공사예산_CS확인예산']=='1500 만원 이상', '공사예산_CS확인예산'] = '1,000만원 ~ 2,000만원 미만'"
   ]
  },
  {
   "cell_type": "code",
   "execution_count": 308,
   "metadata": {},
   "outputs": [],
   "source": [
    "kj.loc[kj['공사예산_CS확인예산']=='1500 ~ 3500 만원', '공사예산_CS확인예산'] = '2,000만원 ~ 3,000만원 미만'"
   ]
  },
  {
   "cell_type": "code",
   "execution_count": 309,
   "metadata": {},
   "outputs": [],
   "source": [
    "kj.loc[kj['공사예산_CS확인예산']=='500 ~ 1000 만원', '공사예산_CS확인예산'] = '1,000만원 미만'"
   ]
  },
  {
   "cell_type": "code",
   "execution_count": 310,
   "metadata": {},
   "outputs": [],
   "source": [
    "kj.loc[kj['공사예산_CS확인예산']=='2700 ~ 3000 만원', '공사예산_CS확인예산'] = '2,000만원 ~ 3,000만원 미만'"
   ]
  },
  {
   "cell_type": "code",
   "execution_count": 311,
   "metadata": {},
   "outputs": [],
   "source": [
    "kj.loc[kj['공사예산_CS확인예산']=='2000 만원 이상', '공사예산_CS확인예산'] = '2,000만원 ~ 3,000만원 미만'"
   ]
  },
  {
   "cell_type": "code",
   "execution_count": 312,
   "metadata": {},
   "outputs": [],
   "source": [
    "kj.loc[kj['공사예산_CS확인예산']=='3500 ~ 3500 만원', '공사예산_CS확인예산'] = '3,000만원 ~ 4,000만원 미만'"
   ]
  },
  {
   "cell_type": "code",
   "execution_count": 313,
   "metadata": {
    "scrolled": true
   },
   "outputs": [
    {
     "data": {
      "text/plain": [
       "array(['4,000만원 ~ 5,000만원 미만', '1,000만원 ~ 2,000만원 미만',\n",
       "       '3,000만원 ~ 4,000만원 미만', '2,000만원 ~ 3,000만원 미만', nan,\n",
       "       '5,000만원 ~ 6,000만원 미만', '6,000만원 ~ 7,000만원 미만',\n",
       "       '7,000만원 ~ 8,000만원 미만', '8,000만원 ~ 9,000만원 미만', '1억원 ~ 1.5억원 미만',\n",
       "       '1,000만원 미만', '9000 ~ 10000 만원', '3000 ~ 5000 만원',\n",
       "       '1300 ~ 1300 만원', '6000 ~ 7000 만원', '2500 만원 이상', '5000 ~ 7000 만원',\n",
       "       '2800 ~ 2900 만원', '6000 만원 이상', '1500 ~ 1800 만원', '3000 ~ 3200 만원',\n",
       "       '8000 ~ 8000 만원', '3500 만원 이상', '3200 ~ 3500 만원', '2700 ~ 2700 만원',\n",
       "       '1200 ~ 1200 만원', '3000 만원 이상', '1000 ~ 1000 만원', '2000 ~ 2200 만원',\n",
       "       '1600 만원 이상', '5000 ~ 6600 만원', '7000 ~ 8000 만원',\n",
       "       '8000 ~ 10000 만원', '7000 ~ 7000 만원', '2800 만원 이상', '1800 만원 이상',\n",
       "       '1900 만원 이상', '2000 ~ 2800 만원', '10000 ~ 10000 만원', '2400 만원 이상',\n",
       "       '2400 ~ 2500 만원', '8000 ~ 9000 만원', '1300 ~ 1500 만원',\n",
       "       '6500 ~ 7000 만원', '2200 ~ 2200 만원', '1800 ~ 2000 만원', '1000 만원 이상',\n",
       "       '1900 ~ 2000 만원', '2500 ~ 2900 만원', '900 ~ 1000 만원',\n",
       "       '600 ~ 700 만원', '2100 ~ 2100 만원', '10000 ~ 15000 만원',\n",
       "       '2800 ~ 2800 만원', '1700 만원 이상', '3200 만원 이상', '1300 ~ 1700 만원',\n",
       "       '3100 만원 이상', '3700 만원 이상', '6000 ~ 6000 만원', '4500 만원 이상',\n",
       "       '4200 만원 이상', '4800 ~ 4800 만원', '1800 ~ 1800 만원',\n",
       "       '7000 ~ 10000 만원', '1400 ~ 1800 만원', '4000 ~ 6000 만원',\n",
       "       '1000 ~ 1400 만원', '3900 ~ 4200 만원', '3000 ~ 3300 만원',\n",
       "       '2100 ~ 2400 만원', '2000 ~ 2900 만원', '2900 ~ 2900 만원',\n",
       "       '2300 ~ 2500 만원', '1700 ~ 1700 만원', '4000 ~ 4300 만원',\n",
       "       '1700 ~ 1800 만원', '1900 ~ 1900 만원', '3000 ~ 3100 만원',\n",
       "       '15000 ~ 15000 만원', '1200 ~ 1300 만원', '1400 ~ 2500 만원',\n",
       "       '2500 ~ 3200 만원', '3600 ~ 4000 만원', '1400 ~ 1700 만원',\n",
       "       '5500 ~ 5500 만원', '1700 ~ 2200 만원', '3500 ~ 3700 만원',\n",
       "       '2200 ~ 2500 만원', '1600 ~ 1700 만원', '1200 만원 이상', '1400 ~ 1500 만원',\n",
       "       '13000 ~ 13000 만원', '3000 ~ 3900 만원', '4900 ~ 5000 만원',\n",
       "       '1700 ~ 2000 만원', '1600 ~ 1600 만원', '3300 ~ 3300 만원',\n",
       "       '2900 ~ 3100 만원', '3000 ~ 3400 만원', '2800 ~ 3300 만원',\n",
       "       '3200 ~ 3200 만원', '2600 만원 이상', '2900 ~ 2990 만원', '2300 ~ 2800 만원',\n",
       "       '2500 ~ 3290 만원', '2000 ~ 3500 만원', '2500 ~ 2800 만원', '4900 만원 이상',\n",
       "       '1000 ~ 1100 만원', '3000 ~ 3600 만원', '13000 ~ 17000 만원',\n",
       "       '1300 ~ 1400 만원', '9000 ~ 9000 만원', '1500 ~ 2500 만원',\n",
       "       '1500 ~ 2200 만원', '1500 ~ 1600 만원', '1000 ~ 2900 만원',\n",
       "       '5000 ~ 5800 만원', '1400 만원 이상', '8000 만원 이상', '3000 ~ 3700 만원',\n",
       "       '2000 ~ 4000 만원', '2200 ~ 2300 만원', '2500 ~ 25000 만원',\n",
       "       '2500 ~ 4000 만원', '3300 ~ 3600 만원', '2000 ~ 6000 만원',\n",
       "       '10000 ~ 12000 만원', '1300 만원 이상', '1400 ~ 1400 만원',\n",
       "       '4200 ~ 4200 만원', '700 ~ 1000 만원', '500 만원 미만', '2000 ~ 2400 만원',\n",
       "       '1500 ~ 1900 만원', '5000 ~ 8000 만원', '700 ~ 800 만원', '7000 만원 이상',\n",
       "       '3800 만원 이상', '3100 ~ 4000 만원', '3900 ~ 4000 만원', '1800 ~ 2300 만원',\n",
       "       '2400 ~ 2400 만원', '3400 ~ 5000 만원', '3300 ~ 4000 만원',\n",
       "       '2800 ~ 3200 만원', '4700 ~ 5000 만원', '2700 ~ 3200 만원', '2300 만원 이상',\n",
       "       '3500 ~ 4500 만원', '3100 ~ 3100 만원', '3400 ~ 3400 만원',\n",
       "       '4300 ~ 4300 만원', '4200 ~ 4500 만원', '4900 ~ 4900 만원',\n",
       "       '2400 ~ 3600 만원', '3100 ~ 3200 만원', '5300 ~ 8000 만원',\n",
       "       '4000 ~ 4150 만원', '4700 ~ 4700 만원', '2300 ~ 2600 만원', '3400 만원 이상',\n",
       "       '4800 만원 이상', '4400 ~ 4400 만원', '4300 ~ 4500 만원', '3200 ~ 4000 만원',\n",
       "       '1800 ~ 1900 만원', '3300 만원 이상', '2500 ~ 5000 만원', '3400 ~ 4000 만원',\n",
       "       '3400 ~ 3500 만원', '3200 ~ 5000 만원', '4800 ~ 5000 만원',\n",
       "       '7000 ~ 7500 만원', '2900 ~ 3200 만원', '3800 ~ 3800 만원', '4300 만원 이상',\n",
       "       '3000 ~ 4500 만원', '4500 ~ 6500 만원', '20000 ~ 20000 만원',\n",
       "       '4500 ~ 4800 만원', '5200 ~ 6700 만원', '3700 ~ 4000 만원',\n",
       "       '6800 ~ 6800 만원', '2900 ~ 7000 만원', '2900 ~ 3600 만원',\n",
       "       '4500 ~ 5500 만원', '1500 ~ 4500 만원', '2900 ~ 5000 만원',\n",
       "       '6400 ~ 6400 만원', '10000 ~ 14000 만원', '1000 ~ 1800 만원',\n",
       "       '1000 ~ 1600 만원', '2200 만원 이상', '2800 ~ 3500 만원', '40000 만원 이상',\n",
       "       '6000 ~ 10000 만원', '2999 만원 이상', '1100 ~ 1100 만원',\n",
       "       '2900 ~ 4500 만원'], dtype=object)"
      ]
     },
     "execution_count": 313,
     "metadata": {},
     "output_type": "execute_result"
    }
   ],
   "source": [
    "kj['공사예산_CS확인예산'].unique()"
   ]
  },
  {
   "cell_type": "code",
   "execution_count": 314,
   "metadata": {},
   "outputs": [
    {
     "data": {
      "text/plain": [
       "201"
      ]
     },
     "execution_count": 314,
     "metadata": {},
     "output_type": "execute_result"
    }
   ],
   "source": [
    "len(kj['공사예산_CS확인예산'].unique())"
   ]
  },
  {
   "cell_type": "code",
   "execution_count": 315,
   "metadata": {},
   "outputs": [],
   "source": [
    "kj.loc[kj['공사예산_CS확인예산']=='9000 ~ 10000 만원', '공사예산_CS확인예산'] = '9,000만원 ~ 1억원 미만'"
   ]
  },
  {
   "cell_type": "code",
   "execution_count": 316,
   "metadata": {
    "scrolled": true
   },
   "outputs": [
    {
     "data": {
      "text/plain": [
       "array(['4,000만원 ~ 5,000만원 미만', '1,000만원 ~ 2,000만원 미만',\n",
       "       '3,000만원 ~ 4,000만원 미만', '2,000만원 ~ 3,000만원 미만', nan,\n",
       "       '5,000만원 ~ 6,000만원 미만', '6,000만원 ~ 7,000만원 미만',\n",
       "       '7,000만원 ~ 8,000만원 미만', '8,000만원 ~ 9,000만원 미만', '1억원 ~ 1.5억원 미만',\n",
       "       '1,000만원 미만', '9,000만원 ~ 1억원 미만', '3000 ~ 5000 만원',\n",
       "       '1300 ~ 1300 만원', '6000 ~ 7000 만원', '2500 만원 이상', '5000 ~ 7000 만원',\n",
       "       '2800 ~ 2900 만원', '6000 만원 이상', '1500 ~ 1800 만원', '3000 ~ 3200 만원',\n",
       "       '8000 ~ 8000 만원', '3500 만원 이상', '3200 ~ 3500 만원', '2700 ~ 2700 만원',\n",
       "       '1200 ~ 1200 만원', '3000 만원 이상', '1000 ~ 1000 만원', '2000 ~ 2200 만원',\n",
       "       '1600 만원 이상', '5000 ~ 6600 만원', '7000 ~ 8000 만원',\n",
       "       '8000 ~ 10000 만원', '7000 ~ 7000 만원', '2800 만원 이상', '1800 만원 이상',\n",
       "       '1900 만원 이상', '2000 ~ 2800 만원', '10000 ~ 10000 만원', '2400 만원 이상',\n",
       "       '2400 ~ 2500 만원', '8000 ~ 9000 만원', '1300 ~ 1500 만원',\n",
       "       '6500 ~ 7000 만원', '2200 ~ 2200 만원', '1800 ~ 2000 만원', '1000 만원 이상',\n",
       "       '1900 ~ 2000 만원', '2500 ~ 2900 만원', '900 ~ 1000 만원',\n",
       "       '600 ~ 700 만원', '2100 ~ 2100 만원', '10000 ~ 15000 만원',\n",
       "       '2800 ~ 2800 만원', '1700 만원 이상', '3200 만원 이상', '1300 ~ 1700 만원',\n",
       "       '3100 만원 이상', '3700 만원 이상', '6000 ~ 6000 만원', '4500 만원 이상',\n",
       "       '4200 만원 이상', '4800 ~ 4800 만원', '1800 ~ 1800 만원',\n",
       "       '7000 ~ 10000 만원', '1400 ~ 1800 만원', '4000 ~ 6000 만원',\n",
       "       '1000 ~ 1400 만원', '3900 ~ 4200 만원', '3000 ~ 3300 만원',\n",
       "       '2100 ~ 2400 만원', '2000 ~ 2900 만원', '2900 ~ 2900 만원',\n",
       "       '2300 ~ 2500 만원', '1700 ~ 1700 만원', '4000 ~ 4300 만원',\n",
       "       '1700 ~ 1800 만원', '1900 ~ 1900 만원', '3000 ~ 3100 만원',\n",
       "       '15000 ~ 15000 만원', '1200 ~ 1300 만원', '1400 ~ 2500 만원',\n",
       "       '2500 ~ 3200 만원', '3600 ~ 4000 만원', '1400 ~ 1700 만원',\n",
       "       '5500 ~ 5500 만원', '1700 ~ 2200 만원', '3500 ~ 3700 만원',\n",
       "       '2200 ~ 2500 만원', '1600 ~ 1700 만원', '1200 만원 이상', '1400 ~ 1500 만원',\n",
       "       '13000 ~ 13000 만원', '3000 ~ 3900 만원', '4900 ~ 5000 만원',\n",
       "       '1700 ~ 2000 만원', '1600 ~ 1600 만원', '3300 ~ 3300 만원',\n",
       "       '2900 ~ 3100 만원', '3000 ~ 3400 만원', '2800 ~ 3300 만원',\n",
       "       '3200 ~ 3200 만원', '2600 만원 이상', '2900 ~ 2990 만원', '2300 ~ 2800 만원',\n",
       "       '2500 ~ 3290 만원', '2000 ~ 3500 만원', '2500 ~ 2800 만원', '4900 만원 이상',\n",
       "       '1000 ~ 1100 만원', '3000 ~ 3600 만원', '13000 ~ 17000 만원',\n",
       "       '1300 ~ 1400 만원', '9000 ~ 9000 만원', '1500 ~ 2500 만원',\n",
       "       '1500 ~ 2200 만원', '1500 ~ 1600 만원', '1000 ~ 2900 만원',\n",
       "       '5000 ~ 5800 만원', '1400 만원 이상', '8000 만원 이상', '3000 ~ 3700 만원',\n",
       "       '2000 ~ 4000 만원', '2200 ~ 2300 만원', '2500 ~ 25000 만원',\n",
       "       '2500 ~ 4000 만원', '3300 ~ 3600 만원', '2000 ~ 6000 만원',\n",
       "       '10000 ~ 12000 만원', '1300 만원 이상', '1400 ~ 1400 만원',\n",
       "       '4200 ~ 4200 만원', '700 ~ 1000 만원', '500 만원 미만', '2000 ~ 2400 만원',\n",
       "       '1500 ~ 1900 만원', '5000 ~ 8000 만원', '700 ~ 800 만원', '7000 만원 이상',\n",
       "       '3800 만원 이상', '3100 ~ 4000 만원', '3900 ~ 4000 만원', '1800 ~ 2300 만원',\n",
       "       '2400 ~ 2400 만원', '3400 ~ 5000 만원', '3300 ~ 4000 만원',\n",
       "       '2800 ~ 3200 만원', '4700 ~ 5000 만원', '2700 ~ 3200 만원', '2300 만원 이상',\n",
       "       '3500 ~ 4500 만원', '3100 ~ 3100 만원', '3400 ~ 3400 만원',\n",
       "       '4300 ~ 4300 만원', '4200 ~ 4500 만원', '4900 ~ 4900 만원',\n",
       "       '2400 ~ 3600 만원', '3100 ~ 3200 만원', '5300 ~ 8000 만원',\n",
       "       '4000 ~ 4150 만원', '4700 ~ 4700 만원', '2300 ~ 2600 만원', '3400 만원 이상',\n",
       "       '4800 만원 이상', '4400 ~ 4400 만원', '4300 ~ 4500 만원', '3200 ~ 4000 만원',\n",
       "       '1800 ~ 1900 만원', '3300 만원 이상', '2500 ~ 5000 만원', '3400 ~ 4000 만원',\n",
       "       '3400 ~ 3500 만원', '3200 ~ 5000 만원', '4800 ~ 5000 만원',\n",
       "       '7000 ~ 7500 만원', '2900 ~ 3200 만원', '3800 ~ 3800 만원', '4300 만원 이상',\n",
       "       '3000 ~ 4500 만원', '4500 ~ 6500 만원', '20000 ~ 20000 만원',\n",
       "       '4500 ~ 4800 만원', '5200 ~ 6700 만원', '3700 ~ 4000 만원',\n",
       "       '6800 ~ 6800 만원', '2900 ~ 7000 만원', '2900 ~ 3600 만원',\n",
       "       '4500 ~ 5500 만원', '1500 ~ 4500 만원', '2900 ~ 5000 만원',\n",
       "       '6400 ~ 6400 만원', '10000 ~ 14000 만원', '1000 ~ 1800 만원',\n",
       "       '1000 ~ 1600 만원', '2200 만원 이상', '2800 ~ 3500 만원', '40000 만원 이상',\n",
       "       '6000 ~ 10000 만원', '2999 만원 이상', '1100 ~ 1100 만원',\n",
       "       '2900 ~ 4500 만원'], dtype=object)"
      ]
     },
     "execution_count": 316,
     "metadata": {},
     "output_type": "execute_result"
    }
   ],
   "source": [
    "kj['공사예산_CS확인예산'].unique()"
   ]
  },
  {
   "cell_type": "code",
   "execution_count": 318,
   "metadata": {},
   "outputs": [],
   "source": [
    "kj.to_csv('../data/전처리완료/집닥_견적pp4_예산수정중.csv', header=True, index=False)"
   ]
  },
  {
   "cell_type": "code",
   "execution_count": 1,
   "metadata": {},
   "outputs": [],
   "source": [
    "import pandas as pd"
   ]
  },
  {
   "cell_type": "code",
   "execution_count": 2,
   "metadata": {},
   "outputs": [],
   "source": [
    "kj = pd.read_csv('../data/전처리완료/집닥_견적pp4_예산수정중.csv')"
   ]
  },
  {
   "cell_type": "code",
   "execution_count": 3,
   "metadata": {
    "scrolled": true
   },
   "outputs": [
    {
     "data": {
      "text/plain": [
       "array(['4,000만원 ~ 5,000만원 미만', '1,000만원 ~ 2,000만원 미만',\n",
       "       '3,000만원 ~ 4,000만원 미만', '2,000만원 ~ 3,000만원 미만', nan,\n",
       "       '5,000만원 ~ 6,000만원 미만', '6,000만원 ~ 7,000만원 미만',\n",
       "       '7,000만원 ~ 8,000만원 미만', '8,000만원 ~ 9,000만원 미만', '1억원 ~ 1.5억원 미만',\n",
       "       '1,000만원 미만', '9,000만원 ~ 1억원 미만', '3000 ~ 5000 만원',\n",
       "       '1300 ~ 1300 만원', '6000 ~ 7000 만원', '2500 만원 이상', '5000 ~ 7000 만원',\n",
       "       '2800 ~ 2900 만원', '6000 만원 이상', '1500 ~ 1800 만원', '3000 ~ 3200 만원',\n",
       "       '8000 ~ 8000 만원', '3500 만원 이상', '3200 ~ 3500 만원', '2700 ~ 2700 만원',\n",
       "       '1200 ~ 1200 만원', '3000 만원 이상', '1000 ~ 1000 만원', '2000 ~ 2200 만원',\n",
       "       '1600 만원 이상', '5000 ~ 6600 만원', '7000 ~ 8000 만원',\n",
       "       '8000 ~ 10000 만원', '7000 ~ 7000 만원', '2800 만원 이상', '1800 만원 이상',\n",
       "       '1900 만원 이상', '2000 ~ 2800 만원', '10000 ~ 10000 만원', '2400 만원 이상',\n",
       "       '2400 ~ 2500 만원', '8000 ~ 9000 만원', '1300 ~ 1500 만원',\n",
       "       '6500 ~ 7000 만원', '2200 ~ 2200 만원', '1800 ~ 2000 만원', '1000 만원 이상',\n",
       "       '1900 ~ 2000 만원', '2500 ~ 2900 만원', '900 ~ 1000 만원',\n",
       "       '600 ~ 700 만원', '2100 ~ 2100 만원', '10000 ~ 15000 만원',\n",
       "       '2800 ~ 2800 만원', '1700 만원 이상', '3200 만원 이상', '1300 ~ 1700 만원',\n",
       "       '3100 만원 이상', '3700 만원 이상', '6000 ~ 6000 만원', '4500 만원 이상',\n",
       "       '4200 만원 이상', '4800 ~ 4800 만원', '1800 ~ 1800 만원',\n",
       "       '7000 ~ 10000 만원', '1400 ~ 1800 만원', '4000 ~ 6000 만원',\n",
       "       '1000 ~ 1400 만원', '3900 ~ 4200 만원', '3000 ~ 3300 만원',\n",
       "       '2100 ~ 2400 만원', '2000 ~ 2900 만원', '2900 ~ 2900 만원',\n",
       "       '2300 ~ 2500 만원', '1700 ~ 1700 만원', '4000 ~ 4300 만원',\n",
       "       '1700 ~ 1800 만원', '1900 ~ 1900 만원', '3000 ~ 3100 만원',\n",
       "       '15000 ~ 15000 만원', '1200 ~ 1300 만원', '1400 ~ 2500 만원',\n",
       "       '2500 ~ 3200 만원', '3600 ~ 4000 만원', '1400 ~ 1700 만원',\n",
       "       '5500 ~ 5500 만원', '1700 ~ 2200 만원', '3500 ~ 3700 만원',\n",
       "       '2200 ~ 2500 만원', '1600 ~ 1700 만원', '1200 만원 이상', '1400 ~ 1500 만원',\n",
       "       '13000 ~ 13000 만원', '3000 ~ 3900 만원', '4900 ~ 5000 만원',\n",
       "       '1700 ~ 2000 만원', '1600 ~ 1600 만원', '3300 ~ 3300 만원',\n",
       "       '2900 ~ 3100 만원', '3000 ~ 3400 만원', '2800 ~ 3300 만원',\n",
       "       '3200 ~ 3200 만원', '2600 만원 이상', '2900 ~ 2990 만원', '2300 ~ 2800 만원',\n",
       "       '2500 ~ 3290 만원', '2000 ~ 3500 만원', '2500 ~ 2800 만원', '4900 만원 이상',\n",
       "       '1000 ~ 1100 만원', '3000 ~ 3600 만원', '13000 ~ 17000 만원',\n",
       "       '1300 ~ 1400 만원', '9000 ~ 9000 만원', '1500 ~ 2500 만원',\n",
       "       '1500 ~ 2200 만원', '1500 ~ 1600 만원', '1000 ~ 2900 만원',\n",
       "       '5000 ~ 5800 만원', '1400 만원 이상', '8000 만원 이상', '3000 ~ 3700 만원',\n",
       "       '2000 ~ 4000 만원', '2200 ~ 2300 만원', '2500 ~ 25000 만원',\n",
       "       '2500 ~ 4000 만원', '3300 ~ 3600 만원', '2000 ~ 6000 만원',\n",
       "       '10000 ~ 12000 만원', '1300 만원 이상', '1400 ~ 1400 만원',\n",
       "       '4200 ~ 4200 만원', '700 ~ 1000 만원', '500 만원 미만', '2000 ~ 2400 만원',\n",
       "       '1500 ~ 1900 만원', '5000 ~ 8000 만원', '700 ~ 800 만원', '7000 만원 이상',\n",
       "       '3800 만원 이상', '3100 ~ 4000 만원', '3900 ~ 4000 만원', '1800 ~ 2300 만원',\n",
       "       '2400 ~ 2400 만원', '3400 ~ 5000 만원', '3300 ~ 4000 만원',\n",
       "       '2800 ~ 3200 만원', '4700 ~ 5000 만원', '2700 ~ 3200 만원', '2300 만원 이상',\n",
       "       '3500 ~ 4500 만원', '3100 ~ 3100 만원', '3400 ~ 3400 만원',\n",
       "       '4300 ~ 4300 만원', '4200 ~ 4500 만원', '4900 ~ 4900 만원',\n",
       "       '2400 ~ 3600 만원', '3100 ~ 3200 만원', '5300 ~ 8000 만원',\n",
       "       '4000 ~ 4150 만원', '4700 ~ 4700 만원', '2300 ~ 2600 만원', '3400 만원 이상',\n",
       "       '4800 만원 이상', '4400 ~ 4400 만원', '4300 ~ 4500 만원', '3200 ~ 4000 만원',\n",
       "       '1800 ~ 1900 만원', '3300 만원 이상', '2500 ~ 5000 만원', '3400 ~ 4000 만원',\n",
       "       '3400 ~ 3500 만원', '3200 ~ 5000 만원', '4800 ~ 5000 만원',\n",
       "       '7000 ~ 7500 만원', '2900 ~ 3200 만원', '3800 ~ 3800 만원', '4300 만원 이상',\n",
       "       '3000 ~ 4500 만원', '4500 ~ 6500 만원', '20000 ~ 20000 만원',\n",
       "       '4500 ~ 4800 만원', '5200 ~ 6700 만원', '3700 ~ 4000 만원',\n",
       "       '6800 ~ 6800 만원', '2900 ~ 7000 만원', '2900 ~ 3600 만원',\n",
       "       '4500 ~ 5500 만원', '1500 ~ 4500 만원', '2900 ~ 5000 만원',\n",
       "       '6400 ~ 6400 만원', '10000 ~ 14000 만원', '1000 ~ 1800 만원',\n",
       "       '1000 ~ 1600 만원', '2200 만원 이상', '2800 ~ 3500 만원', '40000 만원 이상',\n",
       "       '6000 ~ 10000 만원', '2999 만원 이상', '1100 ~ 1100 만원',\n",
       "       '2900 ~ 4500 만원'], dtype=object)"
      ]
     },
     "execution_count": 3,
     "metadata": {},
     "output_type": "execute_result"
    }
   ],
   "source": [
    "kj.공사예산_CS확인예산.unique()"
   ]
  },
  {
   "cell_type": "code",
   "execution_count": 4,
   "metadata": {},
   "outputs": [],
   "source": [
    "kj.loc[kj['공사예산_CS확인예산']=='3000 ~ 5000 만원', '공사예산_CS확인예산'] = '4,000만원 ~ 5,000만원 미만'"
   ]
  },
  {
   "cell_type": "code",
   "execution_count": 5,
   "metadata": {},
   "outputs": [],
   "source": [
    "kj.loc[kj['공사예산_CS확인예산']=='1300 ~ 1300 만원', '공사예산_CS확인예산'] = '1,000만원 ~ 2,000만원 미만'"
   ]
  },
  {
   "cell_type": "code",
   "execution_count": 6,
   "metadata": {},
   "outputs": [],
   "source": [
    "kj.loc[kj['공사예산_CS확인예산']=='6000 ~ 7000 만원', '공사예산_CS확인예산'] = '6,000만원 ~ 7,000만원 미만'"
   ]
  },
  {
   "cell_type": "code",
   "execution_count": 7,
   "metadata": {},
   "outputs": [],
   "source": [
    "kj.loc[kj['공사예산_CS확인예산']=='2500 만원 이상', '공사예산_CS확인예산'] = '2,000만원 ~ 3,000만원 미만'"
   ]
  },
  {
   "cell_type": "code",
   "execution_count": 8,
   "metadata": {},
   "outputs": [],
   "source": [
    "kj.loc[kj['공사예산_CS확인예산']=='5000 ~ 7000 만원', '공사예산_CS확인예산'] = '6,000만원 ~ 7,000만원 미만'"
   ]
  },
  {
   "cell_type": "code",
   "execution_count": 9,
   "metadata": {},
   "outputs": [],
   "source": [
    "kj.loc[kj['공사예산_CS확인예산']=='2500 만원 이상', '공사예산_CS확인예산'] = '2,000만원 ~ 3,000만원 미만'"
   ]
  },
  {
   "cell_type": "code",
   "execution_count": 10,
   "metadata": {},
   "outputs": [],
   "source": [
    "kj.loc[kj['공사예산_CS확인예산']=='2800 ~ 2900 만원', '공사예산_CS확인예산'] = '2,000만원 ~ 3,000만원 미만'"
   ]
  },
  {
   "cell_type": "code",
   "execution_count": 11,
   "metadata": {},
   "outputs": [],
   "source": [
    "kj.loc[kj['공사예산_CS확인예산']=='6000 만원 이상', '공사예산_CS확인예산'] = '6,000만원 ~ 7,000만원 미만'"
   ]
  },
  {
   "cell_type": "code",
   "execution_count": 12,
   "metadata": {},
   "outputs": [],
   "source": [
    "kj.loc[kj['공사예산_CS확인예산']=='1500 ~ 1800 만원', '공사예산_CS확인예산'] = '1,000만원 ~ 2,000만원 미만'"
   ]
  },
  {
   "cell_type": "code",
   "execution_count": 13,
   "metadata": {},
   "outputs": [],
   "source": [
    "kj.loc[kj['공사예산_CS확인예산']=='3000 ~ 3200 만원', '공사예산_CS확인예산'] = '3,000만원 ~ 4,000만원 미만'"
   ]
  },
  {
   "cell_type": "code",
   "execution_count": 14,
   "metadata": {},
   "outputs": [],
   "source": [
    "kj.loc[kj['공사예산_CS확인예산']=='8000 ~ 8000 만원', '공사예산_CS확인예산'] = '8,000만원 ~ 9,000만원 미만'"
   ]
  },
  {
   "cell_type": "code",
   "execution_count": 15,
   "metadata": {},
   "outputs": [],
   "source": [
    "kj.loc[kj['공사예산_CS확인예산']=='3500 만원 이상', '공사예산_CS확인예산'] = '3,000만원 ~ 4,000만원 미만'"
   ]
  },
  {
   "cell_type": "code",
   "execution_count": 16,
   "metadata": {},
   "outputs": [],
   "source": [
    "kj.loc[kj['공사예산_CS확인예산']=='3200 ~ 3500 만원', '공사예산_CS확인예산'] = '3,000만원 ~ 4,000만원 미만'"
   ]
  },
  {
   "cell_type": "code",
   "execution_count": 17,
   "metadata": {},
   "outputs": [],
   "source": [
    "kj.loc[kj['공사예산_CS확인예산']=='2700 ~ 2700 만원', '공사예산_CS확인예산'] = '2,000만원 ~ 3,000만원 미만'"
   ]
  },
  {
   "cell_type": "code",
   "execution_count": 18,
   "metadata": {
    "scrolled": true
   },
   "outputs": [
    {
     "data": {
      "text/plain": [
       "array(['4,000만원 ~ 5,000만원 미만', '1,000만원 ~ 2,000만원 미만',\n",
       "       '3,000만원 ~ 4,000만원 미만', '2,000만원 ~ 3,000만원 미만', nan,\n",
       "       '5,000만원 ~ 6,000만원 미만', '6,000만원 ~ 7,000만원 미만',\n",
       "       '7,000만원 ~ 8,000만원 미만', '8,000만원 ~ 9,000만원 미만', '1억원 ~ 1.5억원 미만',\n",
       "       '1,000만원 미만', '9,000만원 ~ 1억원 미만', '1200 ~ 1200 만원', '3000 만원 이상',\n",
       "       '1000 ~ 1000 만원', '2000 ~ 2200 만원', '1600 만원 이상', '5000 ~ 6600 만원',\n",
       "       '7000 ~ 8000 만원', '8000 ~ 10000 만원', '7000 ~ 7000 만원',\n",
       "       '2800 만원 이상', '1800 만원 이상', '1900 만원 이상', '2000 ~ 2800 만원',\n",
       "       '10000 ~ 10000 만원', '2400 만원 이상', '2400 ~ 2500 만원',\n",
       "       '8000 ~ 9000 만원', '1300 ~ 1500 만원', '6500 ~ 7000 만원',\n",
       "       '2200 ~ 2200 만원', '1800 ~ 2000 만원', '1000 만원 이상', '1900 ~ 2000 만원',\n",
       "       '2500 ~ 2900 만원', '900 ~ 1000 만원', '600 ~ 700 만원',\n",
       "       '2100 ~ 2100 만원', '10000 ~ 15000 만원', '2800 ~ 2800 만원',\n",
       "       '1700 만원 이상', '3200 만원 이상', '1300 ~ 1700 만원', '3100 만원 이상',\n",
       "       '3700 만원 이상', '6000 ~ 6000 만원', '4500 만원 이상', '4200 만원 이상',\n",
       "       '4800 ~ 4800 만원', '1800 ~ 1800 만원', '7000 ~ 10000 만원',\n",
       "       '1400 ~ 1800 만원', '4000 ~ 6000 만원', '1000 ~ 1400 만원',\n",
       "       '3900 ~ 4200 만원', '3000 ~ 3300 만원', '2100 ~ 2400 만원',\n",
       "       '2000 ~ 2900 만원', '2900 ~ 2900 만원', '2300 ~ 2500 만원',\n",
       "       '1700 ~ 1700 만원', '4000 ~ 4300 만원', '1700 ~ 1800 만원',\n",
       "       '1900 ~ 1900 만원', '3000 ~ 3100 만원', '15000 ~ 15000 만원',\n",
       "       '1200 ~ 1300 만원', '1400 ~ 2500 만원', '2500 ~ 3200 만원',\n",
       "       '3600 ~ 4000 만원', '1400 ~ 1700 만원', '5500 ~ 5500 만원',\n",
       "       '1700 ~ 2200 만원', '3500 ~ 3700 만원', '2200 ~ 2500 만원',\n",
       "       '1600 ~ 1700 만원', '1200 만원 이상', '1400 ~ 1500 만원',\n",
       "       '13000 ~ 13000 만원', '3000 ~ 3900 만원', '4900 ~ 5000 만원',\n",
       "       '1700 ~ 2000 만원', '1600 ~ 1600 만원', '3300 ~ 3300 만원',\n",
       "       '2900 ~ 3100 만원', '3000 ~ 3400 만원', '2800 ~ 3300 만원',\n",
       "       '3200 ~ 3200 만원', '2600 만원 이상', '2900 ~ 2990 만원', '2300 ~ 2800 만원',\n",
       "       '2500 ~ 3290 만원', '2000 ~ 3500 만원', '2500 ~ 2800 만원', '4900 만원 이상',\n",
       "       '1000 ~ 1100 만원', '3000 ~ 3600 만원', '13000 ~ 17000 만원',\n",
       "       '1300 ~ 1400 만원', '9000 ~ 9000 만원', '1500 ~ 2500 만원',\n",
       "       '1500 ~ 2200 만원', '1500 ~ 1600 만원', '1000 ~ 2900 만원',\n",
       "       '5000 ~ 5800 만원', '1400 만원 이상', '8000 만원 이상', '3000 ~ 3700 만원',\n",
       "       '2000 ~ 4000 만원', '2200 ~ 2300 만원', '2500 ~ 25000 만원',\n",
       "       '2500 ~ 4000 만원', '3300 ~ 3600 만원', '2000 ~ 6000 만원',\n",
       "       '10000 ~ 12000 만원', '1300 만원 이상', '1400 ~ 1400 만원',\n",
       "       '4200 ~ 4200 만원', '700 ~ 1000 만원', '500 만원 미만', '2000 ~ 2400 만원',\n",
       "       '1500 ~ 1900 만원', '5000 ~ 8000 만원', '700 ~ 800 만원', '7000 만원 이상',\n",
       "       '3800 만원 이상', '3100 ~ 4000 만원', '3900 ~ 4000 만원', '1800 ~ 2300 만원',\n",
       "       '2400 ~ 2400 만원', '3400 ~ 5000 만원', '3300 ~ 4000 만원',\n",
       "       '2800 ~ 3200 만원', '4700 ~ 5000 만원', '2700 ~ 3200 만원', '2300 만원 이상',\n",
       "       '3500 ~ 4500 만원', '3100 ~ 3100 만원', '3400 ~ 3400 만원',\n",
       "       '4300 ~ 4300 만원', '4200 ~ 4500 만원', '4900 ~ 4900 만원',\n",
       "       '2400 ~ 3600 만원', '3100 ~ 3200 만원', '5300 ~ 8000 만원',\n",
       "       '4000 ~ 4150 만원', '4700 ~ 4700 만원', '2300 ~ 2600 만원', '3400 만원 이상',\n",
       "       '4800 만원 이상', '4400 ~ 4400 만원', '4300 ~ 4500 만원', '3200 ~ 4000 만원',\n",
       "       '1800 ~ 1900 만원', '3300 만원 이상', '2500 ~ 5000 만원', '3400 ~ 4000 만원',\n",
       "       '3400 ~ 3500 만원', '3200 ~ 5000 만원', '4800 ~ 5000 만원',\n",
       "       '7000 ~ 7500 만원', '2900 ~ 3200 만원', '3800 ~ 3800 만원', '4300 만원 이상',\n",
       "       '3000 ~ 4500 만원', '4500 ~ 6500 만원', '20000 ~ 20000 만원',\n",
       "       '4500 ~ 4800 만원', '5200 ~ 6700 만원', '3700 ~ 4000 만원',\n",
       "       '6800 ~ 6800 만원', '2900 ~ 7000 만원', '2900 ~ 3600 만원',\n",
       "       '4500 ~ 5500 만원', '1500 ~ 4500 만원', '2900 ~ 5000 만원',\n",
       "       '6400 ~ 6400 만원', '10000 ~ 14000 만원', '1000 ~ 1800 만원',\n",
       "       '1000 ~ 1600 만원', '2200 만원 이상', '2800 ~ 3500 만원', '40000 만원 이상',\n",
       "       '6000 ~ 10000 만원', '2999 만원 이상', '1100 ~ 1100 만원',\n",
       "       '2900 ~ 4500 만원'], dtype=object)"
      ]
     },
     "execution_count": 18,
     "metadata": {},
     "output_type": "execute_result"
    }
   ],
   "source": [
    "kj.공사예산_CS확인예산.unique()"
   ]
  },
  {
   "cell_type": "code",
   "execution_count": 19,
   "metadata": {},
   "outputs": [],
   "source": [
    "kj.loc[kj['공사예산_CS확인예산']=='1200 ~ 1200 만원', '공사예산_CS확인예산'] = '1,000만원 ~ 2,000만원 미만'"
   ]
  },
  {
   "cell_type": "code",
   "execution_count": 20,
   "metadata": {},
   "outputs": [],
   "source": [
    "kj.loc[kj['공사예산_CS확인예산']=='3000 만원 이상', '공사예산_CS확인예산'] = '3,000만원 ~ 4,000만원 미만'"
   ]
  },
  {
   "cell_type": "code",
   "execution_count": 21,
   "metadata": {},
   "outputs": [],
   "source": [
    "kj.loc[kj['공사예산_CS확인예산']=='1000 ~ 1000 만원', '공사예산_CS확인예산'] = '1,000만원 ~ 2,000만원 미만'"
   ]
  },
  {
   "cell_type": "code",
   "execution_count": 22,
   "metadata": {},
   "outputs": [],
   "source": [
    "kj.loc[kj['공사예산_CS확인예산']=='2000 ~ 2200 만원', '공사예산_CS확인예산'] = '2,000만원 ~ 3,000만원 미만'"
   ]
  },
  {
   "cell_type": "code",
   "execution_count": 23,
   "metadata": {},
   "outputs": [],
   "source": [
    "kj.loc[kj['공사예산_CS확인예산']=='1600 만원 이상', '공사예산_CS확인예산'] = '1,000만원 ~ 2,000만원 미만'"
   ]
  },
  {
   "cell_type": "code",
   "execution_count": 24,
   "metadata": {},
   "outputs": [],
   "source": [
    "kj.loc[kj['공사예산_CS확인예산']=='5000 ~ 6600 만원', '공사예산_CS확인예산'] = '5,000만원 ~ 6,000만원 미만'"
   ]
  },
  {
   "cell_type": "code",
   "execution_count": 25,
   "metadata": {},
   "outputs": [],
   "source": [
    "kj.loc[kj['공사예산_CS확인예산']=='7000 ~ 8000 만원', '공사예산_CS확인예산'] = '7,000만원 ~ 8,000만원 미만'"
   ]
  },
  {
   "cell_type": "code",
   "execution_count": 26,
   "metadata": {},
   "outputs": [],
   "source": [
    "kj.loc[kj['공사예산_CS확인예산']=='8000 ~ 10000 만원', '공사예산_CS확인예산'] = '9,000만원 ~ 1억원 미만'"
   ]
  },
  {
   "cell_type": "code",
   "execution_count": 27,
   "metadata": {},
   "outputs": [],
   "source": [
    "kj.loc[kj['공사예산_CS확인예산']=='7000 ~ 7000 만원', '공사예산_CS확인예산'] = '7,000만원 ~ 8,000만원 미만'"
   ]
  },
  {
   "cell_type": "code",
   "execution_count": 28,
   "metadata": {},
   "outputs": [],
   "source": [
    "kj.loc[kj['공사예산_CS확인예산']=='2800 만원 이상', '공사예산_CS확인예산'] = '2,000만원 ~ 3,000만원 미만'"
   ]
  },
  {
   "cell_type": "code",
   "execution_count": 29,
   "metadata": {},
   "outputs": [],
   "source": [
    "kj.loc[kj['공사예산_CS확인예산']=='1800 만원 이상', '공사예산_CS확인예산'] = '1,000만원 ~ 2,000만원 미만'"
   ]
  },
  {
   "cell_type": "code",
   "execution_count": 30,
   "metadata": {},
   "outputs": [],
   "source": [
    "kj.loc[kj['공사예산_CS확인예산']=='1900 만원 이상', '공사예산_CS확인예산'] = '1,000만원 ~ 2,000만원 미만'"
   ]
  },
  {
   "cell_type": "code",
   "execution_count": 31,
   "metadata": {},
   "outputs": [],
   "source": [
    "kj.loc[kj['공사예산_CS확인예산']=='2000 ~ 2800 만원', '공사예산_CS확인예산'] = '2,000만원 ~ 3,000만원 미만'"
   ]
  },
  {
   "cell_type": "code",
   "execution_count": 32,
   "metadata": {},
   "outputs": [],
   "source": [
    "kj.loc[kj['공사예산_CS확인예산']=='10000 ~ 10000 만원', '공사예산_CS확인예산'] = '1억원 ~ 1.5억원 미만'"
   ]
  },
  {
   "cell_type": "code",
   "execution_count": 33,
   "metadata": {},
   "outputs": [],
   "source": [
    "kj.loc[kj['공사예산_CS확인예산']=='2400 만원 이상', '공사예산_CS확인예산'] = '2,000만원 ~ 3,000만원 미만'"
   ]
  },
  {
   "cell_type": "code",
   "execution_count": 34,
   "metadata": {},
   "outputs": [],
   "source": [
    "kj.loc[kj['공사예산_CS확인예산']=='2400 ~ 2500 만원', '공사예산_CS확인예산'] = '2,000만원 ~ 3,000만원 미만'"
   ]
  },
  {
   "cell_type": "code",
   "execution_count": 35,
   "metadata": {
    "scrolled": true
   },
   "outputs": [
    {
     "data": {
      "text/plain": [
       "array(['4,000만원 ~ 5,000만원 미만', '1,000만원 ~ 2,000만원 미만',\n",
       "       '3,000만원 ~ 4,000만원 미만', '2,000만원 ~ 3,000만원 미만', nan,\n",
       "       '5,000만원 ~ 6,000만원 미만', '6,000만원 ~ 7,000만원 미만',\n",
       "       '7,000만원 ~ 8,000만원 미만', '8,000만원 ~ 9,000만원 미만', '1억원 ~ 1.5억원 미만',\n",
       "       '1,000만원 미만', '9,000만원 ~ 1억원 미만', '8000 ~ 9000 만원',\n",
       "       '1300 ~ 1500 만원', '6500 ~ 7000 만원', '2200 ~ 2200 만원',\n",
       "       '1800 ~ 2000 만원', '1000 만원 이상', '1900 ~ 2000 만원', '2500 ~ 2900 만원',\n",
       "       '900 ~ 1000 만원', '600 ~ 700 만원', '2100 ~ 2100 만원',\n",
       "       '10000 ~ 15000 만원', '2800 ~ 2800 만원', '1700 만원 이상', '3200 만원 이상',\n",
       "       '1300 ~ 1700 만원', '3100 만원 이상', '3700 만원 이상', '6000 ~ 6000 만원',\n",
       "       '4500 만원 이상', '4200 만원 이상', '4800 ~ 4800 만원', '1800 ~ 1800 만원',\n",
       "       '7000 ~ 10000 만원', '1400 ~ 1800 만원', '4000 ~ 6000 만원',\n",
       "       '1000 ~ 1400 만원', '3900 ~ 4200 만원', '3000 ~ 3300 만원',\n",
       "       '2100 ~ 2400 만원', '2000 ~ 2900 만원', '2900 ~ 2900 만원',\n",
       "       '2300 ~ 2500 만원', '1700 ~ 1700 만원', '4000 ~ 4300 만원',\n",
       "       '1700 ~ 1800 만원', '1900 ~ 1900 만원', '3000 ~ 3100 만원',\n",
       "       '15000 ~ 15000 만원', '1200 ~ 1300 만원', '1400 ~ 2500 만원',\n",
       "       '2500 ~ 3200 만원', '3600 ~ 4000 만원', '1400 ~ 1700 만원',\n",
       "       '5500 ~ 5500 만원', '1700 ~ 2200 만원', '3500 ~ 3700 만원',\n",
       "       '2200 ~ 2500 만원', '1600 ~ 1700 만원', '1200 만원 이상', '1400 ~ 1500 만원',\n",
       "       '13000 ~ 13000 만원', '3000 ~ 3900 만원', '4900 ~ 5000 만원',\n",
       "       '1700 ~ 2000 만원', '1600 ~ 1600 만원', '3300 ~ 3300 만원',\n",
       "       '2900 ~ 3100 만원', '3000 ~ 3400 만원', '2800 ~ 3300 만원',\n",
       "       '3200 ~ 3200 만원', '2600 만원 이상', '2900 ~ 2990 만원', '2300 ~ 2800 만원',\n",
       "       '2500 ~ 3290 만원', '2000 ~ 3500 만원', '2500 ~ 2800 만원', '4900 만원 이상',\n",
       "       '1000 ~ 1100 만원', '3000 ~ 3600 만원', '13000 ~ 17000 만원',\n",
       "       '1300 ~ 1400 만원', '9000 ~ 9000 만원', '1500 ~ 2500 만원',\n",
       "       '1500 ~ 2200 만원', '1500 ~ 1600 만원', '1000 ~ 2900 만원',\n",
       "       '5000 ~ 5800 만원', '1400 만원 이상', '8000 만원 이상', '3000 ~ 3700 만원',\n",
       "       '2000 ~ 4000 만원', '2200 ~ 2300 만원', '2500 ~ 25000 만원',\n",
       "       '2500 ~ 4000 만원', '3300 ~ 3600 만원', '2000 ~ 6000 만원',\n",
       "       '10000 ~ 12000 만원', '1300 만원 이상', '1400 ~ 1400 만원',\n",
       "       '4200 ~ 4200 만원', '700 ~ 1000 만원', '500 만원 미만', '2000 ~ 2400 만원',\n",
       "       '1500 ~ 1900 만원', '5000 ~ 8000 만원', '700 ~ 800 만원', '7000 만원 이상',\n",
       "       '3800 만원 이상', '3100 ~ 4000 만원', '3900 ~ 4000 만원', '1800 ~ 2300 만원',\n",
       "       '2400 ~ 2400 만원', '3400 ~ 5000 만원', '3300 ~ 4000 만원',\n",
       "       '2800 ~ 3200 만원', '4700 ~ 5000 만원', '2700 ~ 3200 만원', '2300 만원 이상',\n",
       "       '3500 ~ 4500 만원', '3100 ~ 3100 만원', '3400 ~ 3400 만원',\n",
       "       '4300 ~ 4300 만원', '4200 ~ 4500 만원', '4900 ~ 4900 만원',\n",
       "       '2400 ~ 3600 만원', '3100 ~ 3200 만원', '5300 ~ 8000 만원',\n",
       "       '4000 ~ 4150 만원', '4700 ~ 4700 만원', '2300 ~ 2600 만원', '3400 만원 이상',\n",
       "       '4800 만원 이상', '4400 ~ 4400 만원', '4300 ~ 4500 만원', '3200 ~ 4000 만원',\n",
       "       '1800 ~ 1900 만원', '3300 만원 이상', '2500 ~ 5000 만원', '3400 ~ 4000 만원',\n",
       "       '3400 ~ 3500 만원', '3200 ~ 5000 만원', '4800 ~ 5000 만원',\n",
       "       '7000 ~ 7500 만원', '2900 ~ 3200 만원', '3800 ~ 3800 만원', '4300 만원 이상',\n",
       "       '3000 ~ 4500 만원', '4500 ~ 6500 만원', '20000 ~ 20000 만원',\n",
       "       '4500 ~ 4800 만원', '5200 ~ 6700 만원', '3700 ~ 4000 만원',\n",
       "       '6800 ~ 6800 만원', '2900 ~ 7000 만원', '2900 ~ 3600 만원',\n",
       "       '4500 ~ 5500 만원', '1500 ~ 4500 만원', '2900 ~ 5000 만원',\n",
       "       '6400 ~ 6400 만원', '10000 ~ 14000 만원', '1000 ~ 1800 만원',\n",
       "       '1000 ~ 1600 만원', '2200 만원 이상', '2800 ~ 3500 만원', '40000 만원 이상',\n",
       "       '6000 ~ 10000 만원', '2999 만원 이상', '1100 ~ 1100 만원',\n",
       "       '2900 ~ 4500 만원'], dtype=object)"
      ]
     },
     "execution_count": 35,
     "metadata": {},
     "output_type": "execute_result"
    }
   ],
   "source": [
    "kj.공사예산_CS확인예산.unique()"
   ]
  },
  {
   "cell_type": "code",
   "execution_count": 36,
   "metadata": {},
   "outputs": [],
   "source": [
    "kj.loc[kj['공사예산_CS확인예산']=='8000 ~ 9000 만원', '공사예산_CS확인예산'] = '8,000만원 ~ 9,000만원 미만'"
   ]
  },
  {
   "cell_type": "code",
   "execution_count": 37,
   "metadata": {},
   "outputs": [],
   "source": [
    "kj.loc[kj['공사예산_CS확인예산']=='1300 ~ 1500 만원', '공사예산_CS확인예산'] = '1,000만원 ~ 2,000만원 미만'"
   ]
  },
  {
   "cell_type": "code",
   "execution_count": 38,
   "metadata": {},
   "outputs": [],
   "source": [
    "kj.loc[kj['공사예산_CS확인예산']=='6500 ~ 7000 만원', '공사예산_CS확인예산'] = '6,000만원 ~ 7,000만원 미만'"
   ]
  },
  {
   "cell_type": "code",
   "execution_count": 39,
   "metadata": {},
   "outputs": [],
   "source": [
    "kj.loc[kj['공사예산_CS확인예산']=='2200 ~ 2200 만원', '공사예산_CS확인예산'] = '2,000만원 ~ 3,000만원 미만'"
   ]
  },
  {
   "cell_type": "code",
   "execution_count": 40,
   "metadata": {},
   "outputs": [],
   "source": [
    "kj.loc[kj['공사예산_CS확인예산']=='1800 ~ 2000 만원', '공사예산_CS확인예산'] = '1,000만원 ~ 2,000만원 미만'"
   ]
  },
  {
   "cell_type": "code",
   "execution_count": 41,
   "metadata": {},
   "outputs": [],
   "source": [
    "kj.loc[kj['공사예산_CS확인예산']=='1000 만원 이상', '공사예산_CS확인예산'] = '1,000만원 ~ 2,000만원 미만'"
   ]
  },
  {
   "cell_type": "code",
   "execution_count": 42,
   "metadata": {},
   "outputs": [],
   "source": [
    "kj.loc[kj['공사예산_CS확인예산']=='1900 ~ 2000 만원', '공사예산_CS확인예산'] = '1,000만원 ~ 2,000만원 미만'"
   ]
  },
  {
   "cell_type": "code",
   "execution_count": 43,
   "metadata": {},
   "outputs": [],
   "source": [
    "kj.loc[kj['공사예산_CS확인예산']=='2500 ~ 2900 만원', '공사예산_CS확인예산'] = '2,000만원 ~ 3,000만원 미만'"
   ]
  },
  {
   "cell_type": "code",
   "execution_count": 44,
   "metadata": {},
   "outputs": [],
   "source": [
    "kj.loc[kj['공사예산_CS확인예산']=='900 ~ 1000 만원', '공사예산_CS확인예산'] = '1,000만원 미만'"
   ]
  },
  {
   "cell_type": "code",
   "execution_count": 45,
   "metadata": {},
   "outputs": [],
   "source": [
    "kj.loc[kj['공사예산_CS확인예산']=='600 ~ 700 만원', '공사예산_CS확인예산'] = '1,000만원 미만'"
   ]
  },
  {
   "cell_type": "code",
   "execution_count": 46,
   "metadata": {},
   "outputs": [],
   "source": [
    "kj.loc[kj['공사예산_CS확인예산']=='2100 ~ 2100 만원', '공사예산_CS확인예산'] = '2,000만원 ~ 3,000만원 미만'"
   ]
  },
  {
   "cell_type": "code",
   "execution_count": 47,
   "metadata": {},
   "outputs": [],
   "source": [
    "kj.loc[kj['공사예산_CS확인예산']=='10000 ~ 15000 만원', '공사예산_CS확인예산'] = '1억원 ~ 1.5억원 미만'"
   ]
  },
  {
   "cell_type": "code",
   "execution_count": 48,
   "metadata": {},
   "outputs": [],
   "source": [
    "kj.loc[kj['공사예산_CS확인예산']=='2800 ~ 2800 만원', '공사예산_CS확인예산'] = '2,000만원 ~ 3,000만원 미만'"
   ]
  },
  {
   "cell_type": "code",
   "execution_count": 49,
   "metadata": {},
   "outputs": [],
   "source": [
    "kj.loc[kj['공사예산_CS확인예산']=='1700 만원 이상', '공사예산_CS확인예산'] = '1,000만원 ~ 2,000만원 미만'"
   ]
  },
  {
   "cell_type": "code",
   "execution_count": 50,
   "metadata": {},
   "outputs": [],
   "source": [
    "kj.loc[kj['공사예산_CS확인예산']=='3200 만원 이상', '공사예산_CS확인예산'] = '3,000만원 ~ 4,000만원 미만'"
   ]
  },
  {
   "cell_type": "code",
   "execution_count": 51,
   "metadata": {
    "scrolled": true
   },
   "outputs": [
    {
     "data": {
      "text/plain": [
       "array(['4,000만원 ~ 5,000만원 미만', '1,000만원 ~ 2,000만원 미만',\n",
       "       '3,000만원 ~ 4,000만원 미만', '2,000만원 ~ 3,000만원 미만', nan,\n",
       "       '5,000만원 ~ 6,000만원 미만', '6,000만원 ~ 7,000만원 미만',\n",
       "       '7,000만원 ~ 8,000만원 미만', '8,000만원 ~ 9,000만원 미만', '1억원 ~ 1.5억원 미만',\n",
       "       '1,000만원 미만', '9,000만원 ~ 1억원 미만', '1300 ~ 1700 만원', '3100 만원 이상',\n",
       "       '3700 만원 이상', '6000 ~ 6000 만원', '4500 만원 이상', '4200 만원 이상',\n",
       "       '4800 ~ 4800 만원', '1800 ~ 1800 만원', '7000 ~ 10000 만원',\n",
       "       '1400 ~ 1800 만원', '4000 ~ 6000 만원', '1000 ~ 1400 만원',\n",
       "       '3900 ~ 4200 만원', '3000 ~ 3300 만원', '2100 ~ 2400 만원',\n",
       "       '2000 ~ 2900 만원', '2900 ~ 2900 만원', '2300 ~ 2500 만원',\n",
       "       '1700 ~ 1700 만원', '4000 ~ 4300 만원', '1700 ~ 1800 만원',\n",
       "       '1900 ~ 1900 만원', '3000 ~ 3100 만원', '15000 ~ 15000 만원',\n",
       "       '1200 ~ 1300 만원', '1400 ~ 2500 만원', '2500 ~ 3200 만원',\n",
       "       '3600 ~ 4000 만원', '1400 ~ 1700 만원', '5500 ~ 5500 만원',\n",
       "       '1700 ~ 2200 만원', '3500 ~ 3700 만원', '2200 ~ 2500 만원',\n",
       "       '1600 ~ 1700 만원', '1200 만원 이상', '1400 ~ 1500 만원',\n",
       "       '13000 ~ 13000 만원', '3000 ~ 3900 만원', '4900 ~ 5000 만원',\n",
       "       '1700 ~ 2000 만원', '1600 ~ 1600 만원', '3300 ~ 3300 만원',\n",
       "       '2900 ~ 3100 만원', '3000 ~ 3400 만원', '2800 ~ 3300 만원',\n",
       "       '3200 ~ 3200 만원', '2600 만원 이상', '2900 ~ 2990 만원', '2300 ~ 2800 만원',\n",
       "       '2500 ~ 3290 만원', '2000 ~ 3500 만원', '2500 ~ 2800 만원', '4900 만원 이상',\n",
       "       '1000 ~ 1100 만원', '3000 ~ 3600 만원', '13000 ~ 17000 만원',\n",
       "       '1300 ~ 1400 만원', '9000 ~ 9000 만원', '1500 ~ 2500 만원',\n",
       "       '1500 ~ 2200 만원', '1500 ~ 1600 만원', '1000 ~ 2900 만원',\n",
       "       '5000 ~ 5800 만원', '1400 만원 이상', '8000 만원 이상', '3000 ~ 3700 만원',\n",
       "       '2000 ~ 4000 만원', '2200 ~ 2300 만원', '2500 ~ 25000 만원',\n",
       "       '2500 ~ 4000 만원', '3300 ~ 3600 만원', '2000 ~ 6000 만원',\n",
       "       '10000 ~ 12000 만원', '1300 만원 이상', '1400 ~ 1400 만원',\n",
       "       '4200 ~ 4200 만원', '700 ~ 1000 만원', '500 만원 미만', '2000 ~ 2400 만원',\n",
       "       '1500 ~ 1900 만원', '5000 ~ 8000 만원', '700 ~ 800 만원', '7000 만원 이상',\n",
       "       '3800 만원 이상', '3100 ~ 4000 만원', '3900 ~ 4000 만원', '1800 ~ 2300 만원',\n",
       "       '2400 ~ 2400 만원', '3400 ~ 5000 만원', '3300 ~ 4000 만원',\n",
       "       '2800 ~ 3200 만원', '4700 ~ 5000 만원', '2700 ~ 3200 만원', '2300 만원 이상',\n",
       "       '3500 ~ 4500 만원', '3100 ~ 3100 만원', '3400 ~ 3400 만원',\n",
       "       '4300 ~ 4300 만원', '4200 ~ 4500 만원', '4900 ~ 4900 만원',\n",
       "       '2400 ~ 3600 만원', '3100 ~ 3200 만원', '5300 ~ 8000 만원',\n",
       "       '4000 ~ 4150 만원', '4700 ~ 4700 만원', '2300 ~ 2600 만원', '3400 만원 이상',\n",
       "       '4800 만원 이상', '4400 ~ 4400 만원', '4300 ~ 4500 만원', '3200 ~ 4000 만원',\n",
       "       '1800 ~ 1900 만원', '3300 만원 이상', '2500 ~ 5000 만원', '3400 ~ 4000 만원',\n",
       "       '3400 ~ 3500 만원', '3200 ~ 5000 만원', '4800 ~ 5000 만원',\n",
       "       '7000 ~ 7500 만원', '2900 ~ 3200 만원', '3800 ~ 3800 만원', '4300 만원 이상',\n",
       "       '3000 ~ 4500 만원', '4500 ~ 6500 만원', '20000 ~ 20000 만원',\n",
       "       '4500 ~ 4800 만원', '5200 ~ 6700 만원', '3700 ~ 4000 만원',\n",
       "       '6800 ~ 6800 만원', '2900 ~ 7000 만원', '2900 ~ 3600 만원',\n",
       "       '4500 ~ 5500 만원', '1500 ~ 4500 만원', '2900 ~ 5000 만원',\n",
       "       '6400 ~ 6400 만원', '10000 ~ 14000 만원', '1000 ~ 1800 만원',\n",
       "       '1000 ~ 1600 만원', '2200 만원 이상', '2800 ~ 3500 만원', '40000 만원 이상',\n",
       "       '6000 ~ 10000 만원', '2999 만원 이상', '1100 ~ 1100 만원',\n",
       "       '2900 ~ 4500 만원'], dtype=object)"
      ]
     },
     "execution_count": 51,
     "metadata": {},
     "output_type": "execute_result"
    }
   ],
   "source": [
    "kj.공사예산_CS확인예산.unique()"
   ]
  },
  {
   "cell_type": "code",
   "execution_count": 52,
   "metadata": {},
   "outputs": [],
   "source": [
    "kj.loc[kj['공사예산_CS확인예산']=='1300 ~ 1700 만원', '공사예산_CS확인예산'] = '1,000만원 ~ 2,000만원 미만'"
   ]
  },
  {
   "cell_type": "code",
   "execution_count": 53,
   "metadata": {},
   "outputs": [],
   "source": [
    "kj.loc[kj['공사예산_CS확인예산']=='3100 만원 이상', '공사예산_CS확인예산'] = '3,000만원 ~ 4,000만원 미만'"
   ]
  },
  {
   "cell_type": "code",
   "execution_count": 54,
   "metadata": {},
   "outputs": [],
   "source": [
    "kj.loc[kj['공사예산_CS확인예산']=='3700 만원 이상', '공사예산_CS확인예산'] = '3,000만원 ~ 4,000만원 미만'"
   ]
  },
  {
   "cell_type": "code",
   "execution_count": 55,
   "metadata": {},
   "outputs": [],
   "source": [
    "kj.loc[kj['공사예산_CS확인예산']=='6000 ~ 6000 만원', '공사예산_CS확인예산'] = '6,000만원 ~ 7,000만원 미만'"
   ]
  },
  {
   "cell_type": "code",
   "execution_count": 56,
   "metadata": {},
   "outputs": [],
   "source": [
    "kj.loc[kj['공사예산_CS확인예산']=='4500 만원 이상', '공사예산_CS확인예산'] = '4,000만원 ~ 5,000만원 미만'"
   ]
  },
  {
   "cell_type": "code",
   "execution_count": 57,
   "metadata": {},
   "outputs": [],
   "source": [
    "kj.loc[kj['공사예산_CS확인예산']=='4200 만원 이상', '공사예산_CS확인예산'] = '4,000만원 ~ 5,000만원 미만'"
   ]
  },
  {
   "cell_type": "code",
   "execution_count": 58,
   "metadata": {},
   "outputs": [],
   "source": [
    "kj.loc[kj['공사예산_CS확인예산']=='4800 ~ 4800 만원', '공사예산_CS확인예산'] = '4,000만원 ~ 5,000만원 미만'"
   ]
  },
  {
   "cell_type": "code",
   "execution_count": 59,
   "metadata": {},
   "outputs": [],
   "source": [
    "kj.loc[kj['공사예산_CS확인예산']=='1800 ~ 1800 만원', '공사예산_CS확인예산'] = '1,000만원 ~ 2,000만원 미만'"
   ]
  },
  {
   "cell_type": "code",
   "execution_count": 60,
   "metadata": {},
   "outputs": [],
   "source": [
    "kj.loc[kj['공사예산_CS확인예산']=='7000 ~ 10000 만원', '공사예산_CS확인예산'] = '8,000만원 ~ 9,000만원 미만'"
   ]
  },
  {
   "cell_type": "code",
   "execution_count": 61,
   "metadata": {},
   "outputs": [],
   "source": [
    "kj.loc[kj['공사예산_CS확인예산']=='1400 ~ 1800 만원', '공사예산_CS확인예산'] = '1,000만원 ~ 2,000만원 미만'"
   ]
  },
  {
   "cell_type": "code",
   "execution_count": 62,
   "metadata": {},
   "outputs": [],
   "source": [
    "kj.loc[kj['공사예산_CS확인예산']=='4000 ~ 6000 만원', '공사예산_CS확인예산'] = '5,000만원 ~ 6,000만원 미만'"
   ]
  },
  {
   "cell_type": "code",
   "execution_count": 63,
   "metadata": {},
   "outputs": [],
   "source": [
    "kj.loc[kj['공사예산_CS확인예산']=='1000 ~ 1400 만원', '공사예산_CS확인예산'] = '1,000만원 ~ 2,000만원 미만'"
   ]
  },
  {
   "cell_type": "code",
   "execution_count": 64,
   "metadata": {
    "scrolled": true
   },
   "outputs": [
    {
     "data": {
      "text/plain": [
       "array(['4,000만원 ~ 5,000만원 미만', '1,000만원 ~ 2,000만원 미만',\n",
       "       '3,000만원 ~ 4,000만원 미만', '2,000만원 ~ 3,000만원 미만', nan,\n",
       "       '5,000만원 ~ 6,000만원 미만', '6,000만원 ~ 7,000만원 미만',\n",
       "       '7,000만원 ~ 8,000만원 미만', '8,000만원 ~ 9,000만원 미만', '1억원 ~ 1.5억원 미만',\n",
       "       '1,000만원 미만', '9,000만원 ~ 1억원 미만', '3900 ~ 4200 만원',\n",
       "       '3000 ~ 3300 만원', '2100 ~ 2400 만원', '2000 ~ 2900 만원',\n",
       "       '2900 ~ 2900 만원', '2300 ~ 2500 만원', '1700 ~ 1700 만원',\n",
       "       '4000 ~ 4300 만원', '1700 ~ 1800 만원', '1900 ~ 1900 만원',\n",
       "       '3000 ~ 3100 만원', '15000 ~ 15000 만원', '1200 ~ 1300 만원',\n",
       "       '1400 ~ 2500 만원', '2500 ~ 3200 만원', '3600 ~ 4000 만원',\n",
       "       '1400 ~ 1700 만원', '5500 ~ 5500 만원', '1700 ~ 2200 만원',\n",
       "       '3500 ~ 3700 만원', '2200 ~ 2500 만원', '1600 ~ 1700 만원', '1200 만원 이상',\n",
       "       '1400 ~ 1500 만원', '13000 ~ 13000 만원', '3000 ~ 3900 만원',\n",
       "       '4900 ~ 5000 만원', '1700 ~ 2000 만원', '1600 ~ 1600 만원',\n",
       "       '3300 ~ 3300 만원', '2900 ~ 3100 만원', '3000 ~ 3400 만원',\n",
       "       '2800 ~ 3300 만원', '3200 ~ 3200 만원', '2600 만원 이상', '2900 ~ 2990 만원',\n",
       "       '2300 ~ 2800 만원', '2500 ~ 3290 만원', '2000 ~ 3500 만원',\n",
       "       '2500 ~ 2800 만원', '4900 만원 이상', '1000 ~ 1100 만원', '3000 ~ 3600 만원',\n",
       "       '13000 ~ 17000 만원', '1300 ~ 1400 만원', '9000 ~ 9000 만원',\n",
       "       '1500 ~ 2500 만원', '1500 ~ 2200 만원', '1500 ~ 1600 만원',\n",
       "       '1000 ~ 2900 만원', '5000 ~ 5800 만원', '1400 만원 이상', '8000 만원 이상',\n",
       "       '3000 ~ 3700 만원', '2000 ~ 4000 만원', '2200 ~ 2300 만원',\n",
       "       '2500 ~ 25000 만원', '2500 ~ 4000 만원', '3300 ~ 3600 만원',\n",
       "       '2000 ~ 6000 만원', '10000 ~ 12000 만원', '1300 만원 이상',\n",
       "       '1400 ~ 1400 만원', '4200 ~ 4200 만원', '700 ~ 1000 만원', '500 만원 미만',\n",
       "       '2000 ~ 2400 만원', '1500 ~ 1900 만원', '5000 ~ 8000 만원',\n",
       "       '700 ~ 800 만원', '7000 만원 이상', '3800 만원 이상', '3100 ~ 4000 만원',\n",
       "       '3900 ~ 4000 만원', '1800 ~ 2300 만원', '2400 ~ 2400 만원',\n",
       "       '3400 ~ 5000 만원', '3300 ~ 4000 만원', '2800 ~ 3200 만원',\n",
       "       '4700 ~ 5000 만원', '2700 ~ 3200 만원', '2300 만원 이상', '3500 ~ 4500 만원',\n",
       "       '3100 ~ 3100 만원', '3400 ~ 3400 만원', '4300 ~ 4300 만원',\n",
       "       '4200 ~ 4500 만원', '4900 ~ 4900 만원', '2400 ~ 3600 만원',\n",
       "       '3100 ~ 3200 만원', '5300 ~ 8000 만원', '4000 ~ 4150 만원',\n",
       "       '4700 ~ 4700 만원', '2300 ~ 2600 만원', '3400 만원 이상', '4800 만원 이상',\n",
       "       '4400 ~ 4400 만원', '4300 ~ 4500 만원', '3200 ~ 4000 만원',\n",
       "       '1800 ~ 1900 만원', '3300 만원 이상', '2500 ~ 5000 만원', '3400 ~ 4000 만원',\n",
       "       '3400 ~ 3500 만원', '3200 ~ 5000 만원', '4800 ~ 5000 만원',\n",
       "       '7000 ~ 7500 만원', '2900 ~ 3200 만원', '3800 ~ 3800 만원', '4300 만원 이상',\n",
       "       '3000 ~ 4500 만원', '4500 ~ 6500 만원', '20000 ~ 20000 만원',\n",
       "       '4500 ~ 4800 만원', '5200 ~ 6700 만원', '3700 ~ 4000 만원',\n",
       "       '6800 ~ 6800 만원', '2900 ~ 7000 만원', '2900 ~ 3600 만원',\n",
       "       '4500 ~ 5500 만원', '1500 ~ 4500 만원', '2900 ~ 5000 만원',\n",
       "       '6400 ~ 6400 만원', '10000 ~ 14000 만원', '1000 ~ 1800 만원',\n",
       "       '1000 ~ 1600 만원', '2200 만원 이상', '2800 ~ 3500 만원', '40000 만원 이상',\n",
       "       '6000 ~ 10000 만원', '2999 만원 이상', '1100 ~ 1100 만원',\n",
       "       '2900 ~ 4500 만원'], dtype=object)"
      ]
     },
     "execution_count": 64,
     "metadata": {},
     "output_type": "execute_result"
    }
   ],
   "source": [
    "kj.공사예산_CS확인예산.unique()"
   ]
  },
  {
   "cell_type": "code",
   "execution_count": 65,
   "metadata": {},
   "outputs": [],
   "source": [
    "kj.loc[kj['공사예산_CS확인예산']=='3900 ~ 4200 만원', '공사예산_CS확인예산'] = '4,000만원 ~ 5,000만원 미만'"
   ]
  },
  {
   "cell_type": "code",
   "execution_count": 66,
   "metadata": {},
   "outputs": [],
   "source": [
    "kj.loc[kj['공사예산_CS확인예산']=='3000 ~ 3300 만원', '공사예산_CS확인예산'] = '3,000만원 ~ 4,000만원 미만'"
   ]
  },
  {
   "cell_type": "code",
   "execution_count": 67,
   "metadata": {},
   "outputs": [],
   "source": [
    "kj.loc[kj['공사예산_CS확인예산']=='2100 ~ 2400 만원', '공사예산_CS확인예산'] = '2,000만원 ~ 3,000만원 미만'"
   ]
  },
  {
   "cell_type": "code",
   "execution_count": 68,
   "metadata": {},
   "outputs": [],
   "source": [
    "kj.loc[kj['공사예산_CS확인예산']=='2000 ~ 2900 만원', '공사예산_CS확인예산'] = '2,000만원 ~ 3,000만원 미만'"
   ]
  },
  {
   "cell_type": "code",
   "execution_count": 69,
   "metadata": {},
   "outputs": [],
   "source": [
    "kj.loc[kj['공사예산_CS확인예산']=='2900 ~ 2900 만원', '공사예산_CS확인예산'] = '2,000만원 ~ 3,000만원 미만'"
   ]
  },
  {
   "cell_type": "code",
   "execution_count": 70,
   "metadata": {},
   "outputs": [],
   "source": [
    "kj.loc[kj['공사예산_CS확인예산']=='2300 ~ 2500 만원', '공사예산_CS확인예산'] = '2,000만원 ~ 3,000만원 미만'"
   ]
  },
  {
   "cell_type": "code",
   "execution_count": 71,
   "metadata": {},
   "outputs": [],
   "source": [
    "kj.loc[kj['공사예산_CS확인예산']=='1700 ~ 1700 만원', '공사예산_CS확인예산'] = '1,000만원 ~ 2,000만원 미만'"
   ]
  },
  {
   "cell_type": "code",
   "execution_count": 72,
   "metadata": {},
   "outputs": [],
   "source": [
    "kj.loc[kj['공사예산_CS확인예산']=='4000 ~ 4300 만원', '공사예산_CS확인예산'] = '4,000만원 ~ 5,000만원 미만'"
   ]
  },
  {
   "cell_type": "code",
   "execution_count": 73,
   "metadata": {},
   "outputs": [],
   "source": [
    "kj.loc[kj['공사예산_CS확인예산']=='1700 ~ 1800 만원', '공사예산_CS확인예산'] = '1,000만원 ~ 2,000만원 미만'"
   ]
  },
  {
   "cell_type": "code",
   "execution_count": 74,
   "metadata": {},
   "outputs": [],
   "source": [
    "kj.loc[kj['공사예산_CS확인예산']=='1900 ~ 1900 만원', '공사예산_CS확인예산'] = '1,000만원 ~ 2,000만원 미만'"
   ]
  },
  {
   "cell_type": "code",
   "execution_count": 75,
   "metadata": {},
   "outputs": [],
   "source": [
    "kj.loc[kj['공사예산_CS확인예산']=='3000 ~ 3100 만원', '공사예산_CS확인예산'] = '3,000만원 ~ 4,000만원 미만'"
   ]
  },
  {
   "cell_type": "code",
   "execution_count": 76,
   "metadata": {},
   "outputs": [],
   "source": [
    "kj.loc[kj['공사예산_CS확인예산']=='15000 ~ 15000 만원', '공사예산_CS확인예산'] = '1.5억원 ~ 2억원 미만'"
   ]
  },
  {
   "cell_type": "code",
   "execution_count": 77,
   "metadata": {},
   "outputs": [],
   "source": [
    "kj.loc[kj['공사예산_CS확인예산']=='1200 ~ 1300 만원', '공사예산_CS확인예산'] = '1,000만원 ~ 2,000만원 미만'"
   ]
  },
  {
   "cell_type": "code",
   "execution_count": 78,
   "metadata": {
    "scrolled": true
   },
   "outputs": [
    {
     "data": {
      "text/plain": [
       "array(['4,000만원 ~ 5,000만원 미만', '1,000만원 ~ 2,000만원 미만',\n",
       "       '3,000만원 ~ 4,000만원 미만', '2,000만원 ~ 3,000만원 미만', nan,\n",
       "       '5,000만원 ~ 6,000만원 미만', '6,000만원 ~ 7,000만원 미만',\n",
       "       '7,000만원 ~ 8,000만원 미만', '8,000만원 ~ 9,000만원 미만', '1억원 ~ 1.5억원 미만',\n",
       "       '1,000만원 미만', '9,000만원 ~ 1억원 미만', '1.5억원 ~ 2억원 미만',\n",
       "       '1400 ~ 2500 만원', '2500 ~ 3200 만원', '3600 ~ 4000 만원',\n",
       "       '1400 ~ 1700 만원', '5500 ~ 5500 만원', '1700 ~ 2200 만원',\n",
       "       '3500 ~ 3700 만원', '2200 ~ 2500 만원', '1600 ~ 1700 만원', '1200 만원 이상',\n",
       "       '1400 ~ 1500 만원', '13000 ~ 13000 만원', '3000 ~ 3900 만원',\n",
       "       '4900 ~ 5000 만원', '1700 ~ 2000 만원', '1600 ~ 1600 만원',\n",
       "       '3300 ~ 3300 만원', '2900 ~ 3100 만원', '3000 ~ 3400 만원',\n",
       "       '2800 ~ 3300 만원', '3200 ~ 3200 만원', '2600 만원 이상', '2900 ~ 2990 만원',\n",
       "       '2300 ~ 2800 만원', '2500 ~ 3290 만원', '2000 ~ 3500 만원',\n",
       "       '2500 ~ 2800 만원', '4900 만원 이상', '1000 ~ 1100 만원', '3000 ~ 3600 만원',\n",
       "       '13000 ~ 17000 만원', '1300 ~ 1400 만원', '9000 ~ 9000 만원',\n",
       "       '1500 ~ 2500 만원', '1500 ~ 2200 만원', '1500 ~ 1600 만원',\n",
       "       '1000 ~ 2900 만원', '5000 ~ 5800 만원', '1400 만원 이상', '8000 만원 이상',\n",
       "       '3000 ~ 3700 만원', '2000 ~ 4000 만원', '2200 ~ 2300 만원',\n",
       "       '2500 ~ 25000 만원', '2500 ~ 4000 만원', '3300 ~ 3600 만원',\n",
       "       '2000 ~ 6000 만원', '10000 ~ 12000 만원', '1300 만원 이상',\n",
       "       '1400 ~ 1400 만원', '4200 ~ 4200 만원', '700 ~ 1000 만원', '500 만원 미만',\n",
       "       '2000 ~ 2400 만원', '1500 ~ 1900 만원', '5000 ~ 8000 만원',\n",
       "       '700 ~ 800 만원', '7000 만원 이상', '3800 만원 이상', '3100 ~ 4000 만원',\n",
       "       '3900 ~ 4000 만원', '1800 ~ 2300 만원', '2400 ~ 2400 만원',\n",
       "       '3400 ~ 5000 만원', '3300 ~ 4000 만원', '2800 ~ 3200 만원',\n",
       "       '4700 ~ 5000 만원', '2700 ~ 3200 만원', '2300 만원 이상', '3500 ~ 4500 만원',\n",
       "       '3100 ~ 3100 만원', '3400 ~ 3400 만원', '4300 ~ 4300 만원',\n",
       "       '4200 ~ 4500 만원', '4900 ~ 4900 만원', '2400 ~ 3600 만원',\n",
       "       '3100 ~ 3200 만원', '5300 ~ 8000 만원', '4000 ~ 4150 만원',\n",
       "       '4700 ~ 4700 만원', '2300 ~ 2600 만원', '3400 만원 이상', '4800 만원 이상',\n",
       "       '4400 ~ 4400 만원', '4300 ~ 4500 만원', '3200 ~ 4000 만원',\n",
       "       '1800 ~ 1900 만원', '3300 만원 이상', '2500 ~ 5000 만원', '3400 ~ 4000 만원',\n",
       "       '3400 ~ 3500 만원', '3200 ~ 5000 만원', '4800 ~ 5000 만원',\n",
       "       '7000 ~ 7500 만원', '2900 ~ 3200 만원', '3800 ~ 3800 만원', '4300 만원 이상',\n",
       "       '3000 ~ 4500 만원', '4500 ~ 6500 만원', '20000 ~ 20000 만원',\n",
       "       '4500 ~ 4800 만원', '5200 ~ 6700 만원', '3700 ~ 4000 만원',\n",
       "       '6800 ~ 6800 만원', '2900 ~ 7000 만원', '2900 ~ 3600 만원',\n",
       "       '4500 ~ 5500 만원', '1500 ~ 4500 만원', '2900 ~ 5000 만원',\n",
       "       '6400 ~ 6400 만원', '10000 ~ 14000 만원', '1000 ~ 1800 만원',\n",
       "       '1000 ~ 1600 만원', '2200 만원 이상', '2800 ~ 3500 만원', '40000 만원 이상',\n",
       "       '6000 ~ 10000 만원', '2999 만원 이상', '1100 ~ 1100 만원',\n",
       "       '2900 ~ 4500 만원'], dtype=object)"
      ]
     },
     "execution_count": 78,
     "metadata": {},
     "output_type": "execute_result"
    }
   ],
   "source": [
    "kj.공사예산_CS확인예산.unique()"
   ]
  },
  {
   "cell_type": "code",
   "execution_count": 79,
   "metadata": {},
   "outputs": [],
   "source": [
    "kj.loc[kj['공사예산_CS확인예산']=='1400 ~ 2500 만원', '공사예산_CS확인예산'] = '1,000만원 ~ 2,000만원 미만'"
   ]
  },
  {
   "cell_type": "code",
   "execution_count": 80,
   "metadata": {},
   "outputs": [],
   "source": [
    "kj.loc[kj['공사예산_CS확인예산']=='2500 ~ 3200 만원', '공사예산_CS확인예산'] = '2,000만원 ~ 3,000만원 미만'"
   ]
  },
  {
   "cell_type": "code",
   "execution_count": 81,
   "metadata": {},
   "outputs": [],
   "source": [
    "kj.loc[kj['공사예산_CS확인예산']=='3600 ~ 4000 만원', '공사예산_CS확인예산'] = '3,000만원 ~ 4,000만원 미만'"
   ]
  },
  {
   "cell_type": "code",
   "execution_count": 82,
   "metadata": {},
   "outputs": [],
   "source": [
    "kj.loc[kj['공사예산_CS확인예산']=='1400 ~ 1700 만원', '공사예산_CS확인예산'] = '1,000만원 ~ 2,000만원 미만'"
   ]
  },
  {
   "cell_type": "code",
   "execution_count": 83,
   "metadata": {},
   "outputs": [],
   "source": [
    "kj.loc[kj['공사예산_CS확인예산']=='5500 ~ 5500 만원', '공사예산_CS확인예산'] = '5,000만원 ~ 6,000만원 미만'"
   ]
  },
  {
   "cell_type": "code",
   "execution_count": 84,
   "metadata": {},
   "outputs": [],
   "source": [
    "kj.loc[kj['공사예산_CS확인예산']=='1700 ~ 2200 만원', '공사예산_CS확인예산'] = '1,000만원 ~ 2,000만원 미만'"
   ]
  },
  {
   "cell_type": "code",
   "execution_count": 85,
   "metadata": {},
   "outputs": [],
   "source": [
    "kj.loc[kj['공사예산_CS확인예산']=='3500 ~ 3700 만원', '공사예산_CS확인예산'] = '3,000만원 ~ 4,000만원 미만'"
   ]
  },
  {
   "cell_type": "code",
   "execution_count": 86,
   "metadata": {},
   "outputs": [],
   "source": [
    "kj.loc[kj['공사예산_CS확인예산']=='2200 ~ 2500 만원', '공사예산_CS확인예산'] = '2,000만원 ~ 3,000만원 미만'"
   ]
  },
  {
   "cell_type": "code",
   "execution_count": 87,
   "metadata": {},
   "outputs": [],
   "source": [
    "kj.loc[kj['공사예산_CS확인예산']=='1600 ~ 1700 만원', '공사예산_CS확인예산'] = '1,000만원 ~ 2,000만원 미만'"
   ]
  },
  {
   "cell_type": "code",
   "execution_count": 88,
   "metadata": {},
   "outputs": [],
   "source": [
    "kj.loc[kj['공사예산_CS확인예산']=='1200 만원 이상', '공사예산_CS확인예산'] = '1,000만원 ~ 2,000만원 미만'"
   ]
  },
  {
   "cell_type": "code",
   "execution_count": 89,
   "metadata": {},
   "outputs": [],
   "source": [
    "kj.loc[kj['공사예산_CS확인예산']=='1400 ~ 1500 만원', '공사예산_CS확인예산'] = '1,000만원 ~ 2,000만원 미만'"
   ]
  },
  {
   "cell_type": "code",
   "execution_count": 90,
   "metadata": {},
   "outputs": [],
   "source": [
    "kj.loc[kj['공사예산_CS확인예산']=='13000 ~ 13000 만원', '공사예산_CS확인예산'] = '1억원 ~ 1.5억원 미만'"
   ]
  },
  {
   "cell_type": "code",
   "execution_count": 91,
   "metadata": {},
   "outputs": [],
   "source": [
    "kj.loc[kj['공사예산_CS확인예산']=='3000 ~ 3900 만원', '공사예산_CS확인예산'] = '3,000만원 ~ 4,000만원 미만'"
   ]
  },
  {
   "cell_type": "code",
   "execution_count": 92,
   "metadata": {},
   "outputs": [],
   "source": [
    "kj.loc[kj['공사예산_CS확인예산']=='4900 ~ 5000 만원', '공사예산_CS확인예산'] = '4,000만원 ~ 5,000만원 미만'"
   ]
  },
  {
   "cell_type": "code",
   "execution_count": 93,
   "metadata": {},
   "outputs": [],
   "source": [
    "kj.loc[kj['공사예산_CS확인예산']=='1700 ~ 2000 만원', '공사예산_CS확인예산'] = '1,000만원 ~ 2,000만원 미만'"
   ]
  },
  {
   "cell_type": "code",
   "execution_count": 94,
   "metadata": {},
   "outputs": [],
   "source": [
    "kj.loc[kj['공사예산_CS확인예산']=='1600 ~ 1600 만원', '공사예산_CS확인예산'] = '1,000만원 ~ 2,000만원 미만'"
   ]
  },
  {
   "cell_type": "code",
   "execution_count": 95,
   "metadata": {
    "scrolled": true
   },
   "outputs": [
    {
     "data": {
      "text/plain": [
       "array(['4,000만원 ~ 5,000만원 미만', '1,000만원 ~ 2,000만원 미만',\n",
       "       '3,000만원 ~ 4,000만원 미만', '2,000만원 ~ 3,000만원 미만', nan,\n",
       "       '5,000만원 ~ 6,000만원 미만', '6,000만원 ~ 7,000만원 미만',\n",
       "       '7,000만원 ~ 8,000만원 미만', '8,000만원 ~ 9,000만원 미만', '1억원 ~ 1.5억원 미만',\n",
       "       '1,000만원 미만', '9,000만원 ~ 1억원 미만', '1.5억원 ~ 2억원 미만',\n",
       "       '3300 ~ 3300 만원', '2900 ~ 3100 만원', '3000 ~ 3400 만원',\n",
       "       '2800 ~ 3300 만원', '3200 ~ 3200 만원', '2600 만원 이상', '2900 ~ 2990 만원',\n",
       "       '2300 ~ 2800 만원', '2500 ~ 3290 만원', '2000 ~ 3500 만원',\n",
       "       '2500 ~ 2800 만원', '4900 만원 이상', '1000 ~ 1100 만원', '3000 ~ 3600 만원',\n",
       "       '13000 ~ 17000 만원', '1300 ~ 1400 만원', '9000 ~ 9000 만원',\n",
       "       '1500 ~ 2500 만원', '1500 ~ 2200 만원', '1500 ~ 1600 만원',\n",
       "       '1000 ~ 2900 만원', '5000 ~ 5800 만원', '1400 만원 이상', '8000 만원 이상',\n",
       "       '3000 ~ 3700 만원', '2000 ~ 4000 만원', '2200 ~ 2300 만원',\n",
       "       '2500 ~ 25000 만원', '2500 ~ 4000 만원', '3300 ~ 3600 만원',\n",
       "       '2000 ~ 6000 만원', '10000 ~ 12000 만원', '1300 만원 이상',\n",
       "       '1400 ~ 1400 만원', '4200 ~ 4200 만원', '700 ~ 1000 만원', '500 만원 미만',\n",
       "       '2000 ~ 2400 만원', '1500 ~ 1900 만원', '5000 ~ 8000 만원',\n",
       "       '700 ~ 800 만원', '7000 만원 이상', '3800 만원 이상', '3100 ~ 4000 만원',\n",
       "       '3900 ~ 4000 만원', '1800 ~ 2300 만원', '2400 ~ 2400 만원',\n",
       "       '3400 ~ 5000 만원', '3300 ~ 4000 만원', '2800 ~ 3200 만원',\n",
       "       '4700 ~ 5000 만원', '2700 ~ 3200 만원', '2300 만원 이상', '3500 ~ 4500 만원',\n",
       "       '3100 ~ 3100 만원', '3400 ~ 3400 만원', '4300 ~ 4300 만원',\n",
       "       '4200 ~ 4500 만원', '4900 ~ 4900 만원', '2400 ~ 3600 만원',\n",
       "       '3100 ~ 3200 만원', '5300 ~ 8000 만원', '4000 ~ 4150 만원',\n",
       "       '4700 ~ 4700 만원', '2300 ~ 2600 만원', '3400 만원 이상', '4800 만원 이상',\n",
       "       '4400 ~ 4400 만원', '4300 ~ 4500 만원', '3200 ~ 4000 만원',\n",
       "       '1800 ~ 1900 만원', '3300 만원 이상', '2500 ~ 5000 만원', '3400 ~ 4000 만원',\n",
       "       '3400 ~ 3500 만원', '3200 ~ 5000 만원', '4800 ~ 5000 만원',\n",
       "       '7000 ~ 7500 만원', '2900 ~ 3200 만원', '3800 ~ 3800 만원', '4300 만원 이상',\n",
       "       '3000 ~ 4500 만원', '4500 ~ 6500 만원', '20000 ~ 20000 만원',\n",
       "       '4500 ~ 4800 만원', '5200 ~ 6700 만원', '3700 ~ 4000 만원',\n",
       "       '6800 ~ 6800 만원', '2900 ~ 7000 만원', '2900 ~ 3600 만원',\n",
       "       '4500 ~ 5500 만원', '1500 ~ 4500 만원', '2900 ~ 5000 만원',\n",
       "       '6400 ~ 6400 만원', '10000 ~ 14000 만원', '1000 ~ 1800 만원',\n",
       "       '1000 ~ 1600 만원', '2200 만원 이상', '2800 ~ 3500 만원', '40000 만원 이상',\n",
       "       '6000 ~ 10000 만원', '2999 만원 이상', '1100 ~ 1100 만원',\n",
       "       '2900 ~ 4500 만원'], dtype=object)"
      ]
     },
     "execution_count": 95,
     "metadata": {},
     "output_type": "execute_result"
    }
   ],
   "source": [
    "kj.공사예산_CS확인예산.unique()"
   ]
  },
  {
   "cell_type": "code",
   "execution_count": 96,
   "metadata": {},
   "outputs": [],
   "source": [
    "kj.loc[kj['공사예산_CS확인예산']=='3300 ~ 3300 만원', '공사예산_CS확인예산'] = '3,000만원 ~ 4,000만원 미만'"
   ]
  },
  {
   "cell_type": "code",
   "execution_count": 97,
   "metadata": {},
   "outputs": [],
   "source": [
    "kj.loc[kj['공사예산_CS확인예산']=='2900 ~ 3100 만원', '공사예산_CS확인예산'] = '3,000만원 ~ 4,000만원 미만'"
   ]
  },
  {
   "cell_type": "code",
   "execution_count": 98,
   "metadata": {},
   "outputs": [],
   "source": [
    "kj.loc[kj['공사예산_CS확인예산']=='3000 ~ 3400 만원', '공사예산_CS확인예산'] = '3,000만원 ~ 4,000만원 미만'"
   ]
  },
  {
   "cell_type": "code",
   "execution_count": 99,
   "metadata": {},
   "outputs": [],
   "source": [
    "kj.loc[kj['공사예산_CS확인예산']=='2800 ~ 3300 만원', '공사예산_CS확인예산'] = '3,000만원 ~ 4,000만원 미만'"
   ]
  },
  {
   "cell_type": "code",
   "execution_count": 100,
   "metadata": {},
   "outputs": [],
   "source": [
    "kj.loc[kj['공사예산_CS확인예산']=='3200 ~ 3200 만원', '공사예산_CS확인예산'] = '3,000만원 ~ 4,000만원 미만'"
   ]
  },
  {
   "cell_type": "code",
   "execution_count": 101,
   "metadata": {},
   "outputs": [],
   "source": [
    "kj.loc[kj['공사예산_CS확인예산']=='2600 만원 이상', '공사예산_CS확인예산'] = '2,000만원 ~ 3,000만원 미만'"
   ]
  },
  {
   "cell_type": "code",
   "execution_count": 102,
   "metadata": {},
   "outputs": [],
   "source": [
    "kj.loc[kj['공사예산_CS확인예산']=='2900 ~ 2990 만원', '공사예산_CS확인예산'] = '2,000만원 ~ 3,000만원 미만'"
   ]
  },
  {
   "cell_type": "code",
   "execution_count": 103,
   "metadata": {},
   "outputs": [],
   "source": [
    "kj.loc[kj['공사예산_CS확인예산']=='2300 ~ 2800 만원', '공사예산_CS확인예산'] = '2,000만원 ~ 3,000만원 미만'"
   ]
  },
  {
   "cell_type": "code",
   "execution_count": 104,
   "metadata": {},
   "outputs": [],
   "source": [
    "kj.loc[kj['공사예산_CS확인예산']=='2500 ~ 3290 만원', '공사예산_CS확인예산'] = '2,000만원 ~ 3,000만원 미만'"
   ]
  },
  {
   "cell_type": "code",
   "execution_count": 105,
   "metadata": {},
   "outputs": [],
   "source": [
    "kj.loc[kj['공사예산_CS확인예산']=='2000 ~ 3500 만원', '공사예산_CS확인예산'] = '2,000만원 ~ 3,000만원 미만'"
   ]
  },
  {
   "cell_type": "code",
   "execution_count": 106,
   "metadata": {},
   "outputs": [],
   "source": [
    "kj.loc[kj['공사예산_CS확인예산']=='2500 ~ 2800 만원', '공사예산_CS확인예산'] = '2,000만원 ~ 3,000만원 미만'"
   ]
  },
  {
   "cell_type": "code",
   "execution_count": 107,
   "metadata": {},
   "outputs": [],
   "source": [
    "kj.loc[kj['공사예산_CS확인예산']=='4900 만원 이상', '공사예산_CS확인예산'] = '4,000만원 ~ 5,000만원 미만'"
   ]
  },
  {
   "cell_type": "code",
   "execution_count": 108,
   "metadata": {},
   "outputs": [],
   "source": [
    "kj.loc[kj['공사예산_CS확인예산']=='1000 ~ 1100 만원', '공사예산_CS확인예산'] = '1,000만원 ~ 2,000만원 미만'"
   ]
  },
  {
   "cell_type": "code",
   "execution_count": 109,
   "metadata": {},
   "outputs": [],
   "source": [
    "kj.loc[kj['공사예산_CS확인예산']=='3000 ~ 3600 만원', '공사예산_CS확인예산'] = '3,000만원 ~ 4,000만원 미만'"
   ]
  },
  {
   "cell_type": "code",
   "execution_count": 110,
   "metadata": {
    "scrolled": true
   },
   "outputs": [
    {
     "data": {
      "text/plain": [
       "array(['4,000만원 ~ 5,000만원 미만', '1,000만원 ~ 2,000만원 미만',\n",
       "       '3,000만원 ~ 4,000만원 미만', '2,000만원 ~ 3,000만원 미만', nan,\n",
       "       '5,000만원 ~ 6,000만원 미만', '6,000만원 ~ 7,000만원 미만',\n",
       "       '7,000만원 ~ 8,000만원 미만', '8,000만원 ~ 9,000만원 미만', '1억원 ~ 1.5억원 미만',\n",
       "       '1,000만원 미만', '9,000만원 ~ 1억원 미만', '1.5억원 ~ 2억원 미만',\n",
       "       '13000 ~ 17000 만원', '1300 ~ 1400 만원', '9000 ~ 9000 만원',\n",
       "       '1500 ~ 2500 만원', '1500 ~ 2200 만원', '1500 ~ 1600 만원',\n",
       "       '1000 ~ 2900 만원', '5000 ~ 5800 만원', '1400 만원 이상', '8000 만원 이상',\n",
       "       '3000 ~ 3700 만원', '2000 ~ 4000 만원', '2200 ~ 2300 만원',\n",
       "       '2500 ~ 25000 만원', '2500 ~ 4000 만원', '3300 ~ 3600 만원',\n",
       "       '2000 ~ 6000 만원', '10000 ~ 12000 만원', '1300 만원 이상',\n",
       "       '1400 ~ 1400 만원', '4200 ~ 4200 만원', '700 ~ 1000 만원', '500 만원 미만',\n",
       "       '2000 ~ 2400 만원', '1500 ~ 1900 만원', '5000 ~ 8000 만원',\n",
       "       '700 ~ 800 만원', '7000 만원 이상', '3800 만원 이상', '3100 ~ 4000 만원',\n",
       "       '3900 ~ 4000 만원', '1800 ~ 2300 만원', '2400 ~ 2400 만원',\n",
       "       '3400 ~ 5000 만원', '3300 ~ 4000 만원', '2800 ~ 3200 만원',\n",
       "       '4700 ~ 5000 만원', '2700 ~ 3200 만원', '2300 만원 이상', '3500 ~ 4500 만원',\n",
       "       '3100 ~ 3100 만원', '3400 ~ 3400 만원', '4300 ~ 4300 만원',\n",
       "       '4200 ~ 4500 만원', '4900 ~ 4900 만원', '2400 ~ 3600 만원',\n",
       "       '3100 ~ 3200 만원', '5300 ~ 8000 만원', '4000 ~ 4150 만원',\n",
       "       '4700 ~ 4700 만원', '2300 ~ 2600 만원', '3400 만원 이상', '4800 만원 이상',\n",
       "       '4400 ~ 4400 만원', '4300 ~ 4500 만원', '3200 ~ 4000 만원',\n",
       "       '1800 ~ 1900 만원', '3300 만원 이상', '2500 ~ 5000 만원', '3400 ~ 4000 만원',\n",
       "       '3400 ~ 3500 만원', '3200 ~ 5000 만원', '4800 ~ 5000 만원',\n",
       "       '7000 ~ 7500 만원', '2900 ~ 3200 만원', '3800 ~ 3800 만원', '4300 만원 이상',\n",
       "       '3000 ~ 4500 만원', '4500 ~ 6500 만원', '20000 ~ 20000 만원',\n",
       "       '4500 ~ 4800 만원', '5200 ~ 6700 만원', '3700 ~ 4000 만원',\n",
       "       '6800 ~ 6800 만원', '2900 ~ 7000 만원', '2900 ~ 3600 만원',\n",
       "       '4500 ~ 5500 만원', '1500 ~ 4500 만원', '2900 ~ 5000 만원',\n",
       "       '6400 ~ 6400 만원', '10000 ~ 14000 만원', '1000 ~ 1800 만원',\n",
       "       '1000 ~ 1600 만원', '2200 만원 이상', '2800 ~ 3500 만원', '40000 만원 이상',\n",
       "       '6000 ~ 10000 만원', '2999 만원 이상', '1100 ~ 1100 만원',\n",
       "       '2900 ~ 4500 만원'], dtype=object)"
      ]
     },
     "execution_count": 110,
     "metadata": {},
     "output_type": "execute_result"
    }
   ],
   "source": [
    "kj.공사예산_CS확인예산.unique()"
   ]
  },
  {
   "cell_type": "code",
   "execution_count": 111,
   "metadata": {},
   "outputs": [],
   "source": [
    "kj.loc[kj['공사예산_CS확인예산']=='13000 ~ 17000 만원', '공사예산_CS확인예산'] = '1.5억원 ~ 2억원 미만'"
   ]
  },
  {
   "cell_type": "code",
   "execution_count": 112,
   "metadata": {},
   "outputs": [],
   "source": [
    "kj.loc[kj['공사예산_CS확인예산']=='1300 ~ 1400 만원', '공사예산_CS확인예산'] = '1,000만원 ~ 2,000만원 미만'"
   ]
  },
  {
   "cell_type": "code",
   "execution_count": 113,
   "metadata": {},
   "outputs": [],
   "source": [
    "kj.loc[kj['공사예산_CS확인예산']=='9000 ~ 9000 만원', '공사예산_CS확인예산'] = '9,000만원 ~ 1억원 미만'"
   ]
  },
  {
   "cell_type": "code",
   "execution_count": 114,
   "metadata": {},
   "outputs": [],
   "source": [
    "kj.loc[kj['공사예산_CS확인예산']=='1500 ~ 2500 만원', '공사예산_CS확인예산'] = '2,000만원 ~ 3,000만원 미만'"
   ]
  },
  {
   "cell_type": "code",
   "execution_count": 115,
   "metadata": {},
   "outputs": [],
   "source": [
    "kj.loc[kj['공사예산_CS확인예산']=='1500 ~ 2200 만원', '공사예산_CS확인예산'] = '1,000만원 ~ 2,000만원 미만'"
   ]
  },
  {
   "cell_type": "code",
   "execution_count": 116,
   "metadata": {},
   "outputs": [],
   "source": [
    "kj.loc[kj['공사예산_CS확인예산']=='1500 ~ 1600 만원', '공사예산_CS확인예산'] = '1,000만원 ~ 2,000만원 미만'"
   ]
  },
  {
   "cell_type": "code",
   "execution_count": 117,
   "metadata": {},
   "outputs": [],
   "source": [
    "kj.loc[kj['공사예산_CS확인예산']=='1000 ~ 2900 만원', '공사예산_CS확인예산'] = '1,000만원 ~ 2,000만원 미만'"
   ]
  },
  {
   "cell_type": "code",
   "execution_count": 118,
   "metadata": {},
   "outputs": [],
   "source": [
    "kj.loc[kj['공사예산_CS확인예산']=='5000 ~ 5800 만원', '공사예산_CS확인예산'] = '5,000만원 ~ 6,000만원 미만'"
   ]
  },
  {
   "cell_type": "code",
   "execution_count": 119,
   "metadata": {},
   "outputs": [],
   "source": [
    "kj.loc[kj['공사예산_CS확인예산']=='1400 만원 이상', '공사예산_CS확인예산'] = '1,000만원 ~ 2,000만원 미만'"
   ]
  },
  {
   "cell_type": "code",
   "execution_count": 120,
   "metadata": {},
   "outputs": [],
   "source": [
    "kj.loc[kj['공사예산_CS확인예산']=='8000 만원 이상', '공사예산_CS확인예산'] = '8,000만원 ~ 9,000만원 미만'"
   ]
  },
  {
   "cell_type": "code",
   "execution_count": 121,
   "metadata": {},
   "outputs": [],
   "source": [
    "kj.loc[kj['공사예산_CS확인예산']=='3000 ~ 3700 만원', '공사예산_CS확인예산'] = '3,000만원 ~ 4,000만원 미만'"
   ]
  },
  {
   "cell_type": "code",
   "execution_count": 122,
   "metadata": {},
   "outputs": [],
   "source": [
    "kj.loc[kj['공사예산_CS확인예산']=='2000 ~ 4000 만원', '공사예산_CS확인예산'] = '3,000만원 ~ 4,000만원 미만'"
   ]
  },
  {
   "cell_type": "code",
   "execution_count": 123,
   "metadata": {},
   "outputs": [],
   "source": [
    "kj.loc[kj['공사예산_CS확인예산']=='2200 ~ 2300 만원', '공사예산_CS확인예산'] = '2,000만원 ~ 3,000만원 미만'"
   ]
  },
  {
   "cell_type": "code",
   "execution_count": 124,
   "metadata": {
    "scrolled": true
   },
   "outputs": [
    {
     "data": {
      "text/plain": [
       "array(['4,000만원 ~ 5,000만원 미만', '1,000만원 ~ 2,000만원 미만',\n",
       "       '3,000만원 ~ 4,000만원 미만', '2,000만원 ~ 3,000만원 미만', nan,\n",
       "       '5,000만원 ~ 6,000만원 미만', '6,000만원 ~ 7,000만원 미만',\n",
       "       '7,000만원 ~ 8,000만원 미만', '8,000만원 ~ 9,000만원 미만', '1억원 ~ 1.5억원 미만',\n",
       "       '1,000만원 미만', '9,000만원 ~ 1억원 미만', '1.5억원 ~ 2억원 미만',\n",
       "       '2500 ~ 25000 만원', '2500 ~ 4000 만원', '3300 ~ 3600 만원',\n",
       "       '2000 ~ 6000 만원', '10000 ~ 12000 만원', '1300 만원 이상',\n",
       "       '1400 ~ 1400 만원', '4200 ~ 4200 만원', '700 ~ 1000 만원', '500 만원 미만',\n",
       "       '2000 ~ 2400 만원', '1500 ~ 1900 만원', '5000 ~ 8000 만원',\n",
       "       '700 ~ 800 만원', '7000 만원 이상', '3800 만원 이상', '3100 ~ 4000 만원',\n",
       "       '3900 ~ 4000 만원', '1800 ~ 2300 만원', '2400 ~ 2400 만원',\n",
       "       '3400 ~ 5000 만원', '3300 ~ 4000 만원', '2800 ~ 3200 만원',\n",
       "       '4700 ~ 5000 만원', '2700 ~ 3200 만원', '2300 만원 이상', '3500 ~ 4500 만원',\n",
       "       '3100 ~ 3100 만원', '3400 ~ 3400 만원', '4300 ~ 4300 만원',\n",
       "       '4200 ~ 4500 만원', '4900 ~ 4900 만원', '2400 ~ 3600 만원',\n",
       "       '3100 ~ 3200 만원', '5300 ~ 8000 만원', '4000 ~ 4150 만원',\n",
       "       '4700 ~ 4700 만원', '2300 ~ 2600 만원', '3400 만원 이상', '4800 만원 이상',\n",
       "       '4400 ~ 4400 만원', '4300 ~ 4500 만원', '3200 ~ 4000 만원',\n",
       "       '1800 ~ 1900 만원', '3300 만원 이상', '2500 ~ 5000 만원', '3400 ~ 4000 만원',\n",
       "       '3400 ~ 3500 만원', '3200 ~ 5000 만원', '4800 ~ 5000 만원',\n",
       "       '7000 ~ 7500 만원', '2900 ~ 3200 만원', '3800 ~ 3800 만원', '4300 만원 이상',\n",
       "       '3000 ~ 4500 만원', '4500 ~ 6500 만원', '20000 ~ 20000 만원',\n",
       "       '4500 ~ 4800 만원', '5200 ~ 6700 만원', '3700 ~ 4000 만원',\n",
       "       '6800 ~ 6800 만원', '2900 ~ 7000 만원', '2900 ~ 3600 만원',\n",
       "       '4500 ~ 5500 만원', '1500 ~ 4500 만원', '2900 ~ 5000 만원',\n",
       "       '6400 ~ 6400 만원', '10000 ~ 14000 만원', '1000 ~ 1800 만원',\n",
       "       '1000 ~ 1600 만원', '2200 만원 이상', '2800 ~ 3500 만원', '40000 만원 이상',\n",
       "       '6000 ~ 10000 만원', '2999 만원 이상', '1100 ~ 1100 만원',\n",
       "       '2900 ~ 4500 만원'], dtype=object)"
      ]
     },
     "execution_count": 124,
     "metadata": {},
     "output_type": "execute_result"
    }
   ],
   "source": [
    "kj.공사예산_CS확인예산.unique()"
   ]
  },
  {
   "cell_type": "code",
   "execution_count": 125,
   "metadata": {},
   "outputs": [],
   "source": [
    "kj.loc[kj['공사예산_CS확인예산']=='2500 ~ 25000 만원', '공사예산_CS확인예산'] = '1억원 ~ 1.5억원 미만'"
   ]
  },
  {
   "cell_type": "code",
   "execution_count": 126,
   "metadata": {},
   "outputs": [],
   "source": [
    "kj.loc[kj['공사예산_CS확인예산']=='2500 ~ 4000 만원', '공사예산_CS확인예산'] = '3,000만원 ~ 4,000만원 미만'"
   ]
  },
  {
   "cell_type": "code",
   "execution_count": 127,
   "metadata": {},
   "outputs": [],
   "source": [
    "kj.loc[kj['공사예산_CS확인예산']=='3300 ~ 3600 만원', '공사예산_CS확인예산'] = '3,000만원 ~ 4,000만원 미만'"
   ]
  },
  {
   "cell_type": "code",
   "execution_count": 128,
   "metadata": {},
   "outputs": [],
   "source": [
    "kj.loc[kj['공사예산_CS확인예산']=='2000 ~ 6000 만원', '공사예산_CS확인예산'] = '4,000만원 ~ 5,000만원 미만'"
   ]
  },
  {
   "cell_type": "code",
   "execution_count": 129,
   "metadata": {},
   "outputs": [],
   "source": [
    "kj.loc[kj['공사예산_CS확인예산']=='10000 ~ 12000 만원', '공사예산_CS확인예산'] = '1억원 ~ 1.5억원 미만'"
   ]
  },
  {
   "cell_type": "code",
   "execution_count": 130,
   "metadata": {},
   "outputs": [],
   "source": [
    "kj.loc[kj['공사예산_CS확인예산']=='1300 만원 이상', '공사예산_CS확인예산'] = '1,000만원 ~ 2,000만원 미만'"
   ]
  },
  {
   "cell_type": "code",
   "execution_count": 131,
   "metadata": {},
   "outputs": [],
   "source": [
    "kj.loc[kj['공사예산_CS확인예산']=='1400 ~ 1400 만원', '공사예산_CS확인예산'] = '1,000만원 ~ 2,000만원 미만'"
   ]
  },
  {
   "cell_type": "code",
   "execution_count": 132,
   "metadata": {},
   "outputs": [],
   "source": [
    "kj.loc[kj['공사예산_CS확인예산']=='4200 ~ 4200 만원', '공사예산_CS확인예산'] = '4,000만원 ~ 5,000만원 미만'"
   ]
  },
  {
   "cell_type": "code",
   "execution_count": 133,
   "metadata": {},
   "outputs": [],
   "source": [
    "kj.loc[kj['공사예산_CS확인예산']=='700 ~ 1000 만원', '공사예산_CS확인예산'] = '1,000만원 미만'"
   ]
  },
  {
   "cell_type": "code",
   "execution_count": 134,
   "metadata": {},
   "outputs": [],
   "source": [
    "kj.loc[kj['공사예산_CS확인예산']=='500 만원 미만', '공사예산_CS확인예산'] = '1,000만원 미만'"
   ]
  },
  {
   "cell_type": "code",
   "execution_count": 135,
   "metadata": {},
   "outputs": [],
   "source": [
    "kj.loc[kj['공사예산_CS확인예산']=='2000 ~ 2400 만원', '공사예산_CS확인예산'] = '2,000만원 ~ 3,000만원 미만'"
   ]
  },
  {
   "cell_type": "code",
   "execution_count": 136,
   "metadata": {},
   "outputs": [],
   "source": [
    "kj.loc[kj['공사예산_CS확인예산']=='1500 ~ 1900 만원', '공사예산_CS확인예산'] = '1,000만원 ~ 2,000만원 미만'"
   ]
  },
  {
   "cell_type": "code",
   "execution_count": 137,
   "metadata": {},
   "outputs": [],
   "source": [
    "kj.loc[kj['공사예산_CS확인예산']=='5000 ~ 8000 만원', '공사예산_CS확인예산'] = '6,000만원 ~ 7,000만원 미만'"
   ]
  },
  {
   "cell_type": "code",
   "execution_count": 138,
   "metadata": {
    "scrolled": true
   },
   "outputs": [
    {
     "data": {
      "text/plain": [
       "array(['4,000만원 ~ 5,000만원 미만', '1,000만원 ~ 2,000만원 미만',\n",
       "       '3,000만원 ~ 4,000만원 미만', '2,000만원 ~ 3,000만원 미만', nan,\n",
       "       '5,000만원 ~ 6,000만원 미만', '6,000만원 ~ 7,000만원 미만',\n",
       "       '7,000만원 ~ 8,000만원 미만', '8,000만원 ~ 9,000만원 미만', '1억원 ~ 1.5억원 미만',\n",
       "       '1,000만원 미만', '9,000만원 ~ 1억원 미만', '1.5억원 ~ 2억원 미만', '700 ~ 800 만원',\n",
       "       '7000 만원 이상', '3800 만원 이상', '3100 ~ 4000 만원', '3900 ~ 4000 만원',\n",
       "       '1800 ~ 2300 만원', '2400 ~ 2400 만원', '3400 ~ 5000 만원',\n",
       "       '3300 ~ 4000 만원', '2800 ~ 3200 만원', '4700 ~ 5000 만원',\n",
       "       '2700 ~ 3200 만원', '2300 만원 이상', '3500 ~ 4500 만원', '3100 ~ 3100 만원',\n",
       "       '3400 ~ 3400 만원', '4300 ~ 4300 만원', '4200 ~ 4500 만원',\n",
       "       '4900 ~ 4900 만원', '2400 ~ 3600 만원', '3100 ~ 3200 만원',\n",
       "       '5300 ~ 8000 만원', '4000 ~ 4150 만원', '4700 ~ 4700 만원',\n",
       "       '2300 ~ 2600 만원', '3400 만원 이상', '4800 만원 이상', '4400 ~ 4400 만원',\n",
       "       '4300 ~ 4500 만원', '3200 ~ 4000 만원', '1800 ~ 1900 만원', '3300 만원 이상',\n",
       "       '2500 ~ 5000 만원', '3400 ~ 4000 만원', '3400 ~ 3500 만원',\n",
       "       '3200 ~ 5000 만원', '4800 ~ 5000 만원', '7000 ~ 7500 만원',\n",
       "       '2900 ~ 3200 만원', '3800 ~ 3800 만원', '4300 만원 이상', '3000 ~ 4500 만원',\n",
       "       '4500 ~ 6500 만원', '20000 ~ 20000 만원', '4500 ~ 4800 만원',\n",
       "       '5200 ~ 6700 만원', '3700 ~ 4000 만원', '6800 ~ 6800 만원',\n",
       "       '2900 ~ 7000 만원', '2900 ~ 3600 만원', '4500 ~ 5500 만원',\n",
       "       '1500 ~ 4500 만원', '2900 ~ 5000 만원', '6400 ~ 6400 만원',\n",
       "       '10000 ~ 14000 만원', '1000 ~ 1800 만원', '1000 ~ 1600 만원',\n",
       "       '2200 만원 이상', '2800 ~ 3500 만원', '40000 만원 이상', '6000 ~ 10000 만원',\n",
       "       '2999 만원 이상', '1100 ~ 1100 만원', '2900 ~ 4500 만원'], dtype=object)"
      ]
     },
     "execution_count": 138,
     "metadata": {},
     "output_type": "execute_result"
    }
   ],
   "source": [
    "kj.공사예산_CS확인예산.unique()"
   ]
  },
  {
   "cell_type": "code",
   "execution_count": 139,
   "metadata": {},
   "outputs": [],
   "source": [
    "kj.loc[kj['공사예산_CS확인예산']=='700 ~ 800 만원', '공사예산_CS확인예산'] = '1,000만원 미만'"
   ]
  },
  {
   "cell_type": "code",
   "execution_count": 140,
   "metadata": {},
   "outputs": [],
   "source": [
    "kj.loc[kj['공사예산_CS확인예산']=='7000 만원 이상', '공사예산_CS확인예산'] = '7,000만원 ~ 8,000만원 미만'"
   ]
  },
  {
   "cell_type": "code",
   "execution_count": 141,
   "metadata": {},
   "outputs": [],
   "source": [
    "kj.loc[kj['공사예산_CS확인예산']=='3800 만원 이상', '공사예산_CS확인예산'] = '3,000만원 ~ 4,000만원 미만'"
   ]
  },
  {
   "cell_type": "code",
   "execution_count": 142,
   "metadata": {},
   "outputs": [],
   "source": [
    "kj.loc[kj['공사예산_CS확인예산']=='3100 ~ 4000 만원', '공사예산_CS확인예산'] = '3,000만원 ~ 4,000만원 미만'"
   ]
  },
  {
   "cell_type": "code",
   "execution_count": 143,
   "metadata": {},
   "outputs": [],
   "source": [
    "kj.loc[kj['공사예산_CS확인예산']=='3900 ~ 4000 만원', '공사예산_CS확인예산'] = '3,000만원 ~ 4,000만원 미만'"
   ]
  },
  {
   "cell_type": "code",
   "execution_count": 144,
   "metadata": {},
   "outputs": [],
   "source": [
    "kj.loc[kj['공사예산_CS확인예산']=='1800 ~ 2300 만원', '공사예산_CS확인예산'] = '2,000만원 ~ 3,000만원 미만'"
   ]
  },
  {
   "cell_type": "code",
   "execution_count": 145,
   "metadata": {},
   "outputs": [],
   "source": [
    "kj.loc[kj['공사예산_CS확인예산']=='2400 ~ 2400 만원', '공사예산_CS확인예산'] = '2,000만원 ~ 3,000만원 미만'"
   ]
  },
  {
   "cell_type": "code",
   "execution_count": 146,
   "metadata": {},
   "outputs": [],
   "source": [
    "kj.loc[kj['공사예산_CS확인예산']=='3400 ~ 5000 만원', '공사예산_CS확인예산'] = '4,000만원 ~ 5,000만원 미만'"
   ]
  },
  {
   "cell_type": "code",
   "execution_count": 147,
   "metadata": {},
   "outputs": [],
   "source": [
    "kj.loc[kj['공사예산_CS확인예산']=='3300 ~ 4000 만원', '공사예산_CS확인예산'] = '3,000만원 ~ 4,000만원 미만'"
   ]
  },
  {
   "cell_type": "code",
   "execution_count": 148,
   "metadata": {},
   "outputs": [],
   "source": [
    "kj.loc[kj['공사예산_CS확인예산']=='2800 ~ 3200 만원', '공사예산_CS확인예산'] = '3,000만원 ~ 4,000만원 미만'"
   ]
  },
  {
   "cell_type": "code",
   "execution_count": 149,
   "metadata": {},
   "outputs": [],
   "source": [
    "kj.loc[kj['공사예산_CS확인예산']=='4700 ~ 5000 만원', '공사예산_CS확인예산'] = '4,000만원 ~ 5,000만원 미만'"
   ]
  },
  {
   "cell_type": "code",
   "execution_count": 150,
   "metadata": {
    "scrolled": true
   },
   "outputs": [
    {
     "data": {
      "text/plain": [
       "array(['4,000만원 ~ 5,000만원 미만', '1,000만원 ~ 2,000만원 미만',\n",
       "       '3,000만원 ~ 4,000만원 미만', '2,000만원 ~ 3,000만원 미만', nan,\n",
       "       '5,000만원 ~ 6,000만원 미만', '6,000만원 ~ 7,000만원 미만',\n",
       "       '7,000만원 ~ 8,000만원 미만', '8,000만원 ~ 9,000만원 미만', '1억원 ~ 1.5억원 미만',\n",
       "       '1,000만원 미만', '9,000만원 ~ 1억원 미만', '1.5억원 ~ 2억원 미만',\n",
       "       '2700 ~ 3200 만원', '2300 만원 이상', '3500 ~ 4500 만원', '3100 ~ 3100 만원',\n",
       "       '3400 ~ 3400 만원', '4300 ~ 4300 만원', '4200 ~ 4500 만원',\n",
       "       '4900 ~ 4900 만원', '2400 ~ 3600 만원', '3100 ~ 3200 만원',\n",
       "       '5300 ~ 8000 만원', '4000 ~ 4150 만원', '4700 ~ 4700 만원',\n",
       "       '2300 ~ 2600 만원', '3400 만원 이상', '4800 만원 이상', '4400 ~ 4400 만원',\n",
       "       '4300 ~ 4500 만원', '3200 ~ 4000 만원', '1800 ~ 1900 만원', '3300 만원 이상',\n",
       "       '2500 ~ 5000 만원', '3400 ~ 4000 만원', '3400 ~ 3500 만원',\n",
       "       '3200 ~ 5000 만원', '4800 ~ 5000 만원', '7000 ~ 7500 만원',\n",
       "       '2900 ~ 3200 만원', '3800 ~ 3800 만원', '4300 만원 이상', '3000 ~ 4500 만원',\n",
       "       '4500 ~ 6500 만원', '20000 ~ 20000 만원', '4500 ~ 4800 만원',\n",
       "       '5200 ~ 6700 만원', '3700 ~ 4000 만원', '6800 ~ 6800 만원',\n",
       "       '2900 ~ 7000 만원', '2900 ~ 3600 만원', '4500 ~ 5500 만원',\n",
       "       '1500 ~ 4500 만원', '2900 ~ 5000 만원', '6400 ~ 6400 만원',\n",
       "       '10000 ~ 14000 만원', '1000 ~ 1800 만원', '1000 ~ 1600 만원',\n",
       "       '2200 만원 이상', '2800 ~ 3500 만원', '40000 만원 이상', '6000 ~ 10000 만원',\n",
       "       '2999 만원 이상', '1100 ~ 1100 만원', '2900 ~ 4500 만원'], dtype=object)"
      ]
     },
     "execution_count": 150,
     "metadata": {},
     "output_type": "execute_result"
    }
   ],
   "source": [
    "kj.공사예산_CS확인예산.unique()"
   ]
  },
  {
   "cell_type": "code",
   "execution_count": 151,
   "metadata": {},
   "outputs": [],
   "source": [
    "kj.loc[kj['공사예산_CS확인예산']=='2700 ~ 3200 만원', '공사예산_CS확인예산'] = '2,000만원 ~ 3,000만원 미만'"
   ]
  },
  {
   "cell_type": "code",
   "execution_count": 152,
   "metadata": {},
   "outputs": [],
   "source": [
    "kj.loc[kj['공사예산_CS확인예산']=='2300 만원 이상', '공사예산_CS확인예산'] = '2,000만원 ~ 3,000만원 미만'"
   ]
  },
  {
   "cell_type": "code",
   "execution_count": 153,
   "metadata": {},
   "outputs": [],
   "source": [
    "kj.loc[kj['공사예산_CS확인예산']=='3500 ~ 4500 만원', '공사예산_CS확인예산'] = '4,000만원 ~ 5,000만원 미만'"
   ]
  },
  {
   "cell_type": "code",
   "execution_count": 154,
   "metadata": {},
   "outputs": [],
   "source": [
    "kj.loc[kj['공사예산_CS확인예산']=='3100 ~ 3100 만원', '공사예산_CS확인예산'] = '3,000만원 ~ 4,000만원 미만'"
   ]
  },
  {
   "cell_type": "code",
   "execution_count": 155,
   "metadata": {},
   "outputs": [],
   "source": [
    "kj.loc[kj['공사예산_CS확인예산']=='3400 ~ 3400 만원', '공사예산_CS확인예산'] = '3,000만원 ~ 4,000만원 미만'"
   ]
  },
  {
   "cell_type": "code",
   "execution_count": 156,
   "metadata": {},
   "outputs": [],
   "source": [
    "kj.loc[kj['공사예산_CS확인예산']=='4300 ~ 4300 만원', '공사예산_CS확인예산'] = '4,000만원 ~ 5,000만원 미만'"
   ]
  },
  {
   "cell_type": "code",
   "execution_count": 157,
   "metadata": {},
   "outputs": [],
   "source": [
    "kj.loc[kj['공사예산_CS확인예산']=='4200 ~ 4500 만원', '공사예산_CS확인예산'] = '4,000만원 ~ 5,000만원 미만'"
   ]
  },
  {
   "cell_type": "code",
   "execution_count": 158,
   "metadata": {},
   "outputs": [],
   "source": [
    "kj.loc[kj['공사예산_CS확인예산']=='4900 ~ 4900 만원', '공사예산_CS확인예산'] = '4,000만원 ~ 5,000만원 미만'"
   ]
  },
  {
   "cell_type": "code",
   "execution_count": 159,
   "metadata": {},
   "outputs": [],
   "source": [
    "kj.loc[kj['공사예산_CS확인예산']=='2400 ~ 3600 만원', '공사예산_CS확인예산'] = '3,000만원 ~ 4,000만원 미만'"
   ]
  },
  {
   "cell_type": "code",
   "execution_count": 160,
   "metadata": {},
   "outputs": [],
   "source": [
    "kj.loc[kj['공사예산_CS확인예산']=='3100 ~ 3200 만원', '공사예산_CS확인예산'] = '3,000만원 ~ 4,000만원 미만'"
   ]
  },
  {
   "cell_type": "code",
   "execution_count": 161,
   "metadata": {},
   "outputs": [],
   "source": [
    "kj.loc[kj['공사예산_CS확인예산']=='5300 ~ 8000 만원', '공사예산_CS확인예산'] = '6,000만원 ~ 7,000만원 미만'"
   ]
  },
  {
   "cell_type": "code",
   "execution_count": 162,
   "metadata": {},
   "outputs": [],
   "source": [
    "kj.loc[kj['공사예산_CS확인예산']=='4000 ~ 4150 만원', '공사예산_CS확인예산'] = '4,000만원 ~ 5,000만원 미만'"
   ]
  },
  {
   "cell_type": "code",
   "execution_count": 163,
   "metadata": {},
   "outputs": [],
   "source": [
    "kj.loc[kj['공사예산_CS확인예산']=='4700 ~ 4700 만원', '공사예산_CS확인예산'] = '4,000만원 ~ 5,000만원 미만'"
   ]
  },
  {
   "cell_type": "code",
   "execution_count": 164,
   "metadata": {
    "scrolled": true
   },
   "outputs": [
    {
     "data": {
      "text/plain": [
       "array(['4,000만원 ~ 5,000만원 미만', '1,000만원 ~ 2,000만원 미만',\n",
       "       '3,000만원 ~ 4,000만원 미만', '2,000만원 ~ 3,000만원 미만', nan,\n",
       "       '5,000만원 ~ 6,000만원 미만', '6,000만원 ~ 7,000만원 미만',\n",
       "       '7,000만원 ~ 8,000만원 미만', '8,000만원 ~ 9,000만원 미만', '1억원 ~ 1.5억원 미만',\n",
       "       '1,000만원 미만', '9,000만원 ~ 1억원 미만', '1.5억원 ~ 2억원 미만',\n",
       "       '2300 ~ 2600 만원', '3400 만원 이상', '4800 만원 이상', '4400 ~ 4400 만원',\n",
       "       '4300 ~ 4500 만원', '3200 ~ 4000 만원', '1800 ~ 1900 만원', '3300 만원 이상',\n",
       "       '2500 ~ 5000 만원', '3400 ~ 4000 만원', '3400 ~ 3500 만원',\n",
       "       '3200 ~ 5000 만원', '4800 ~ 5000 만원', '7000 ~ 7500 만원',\n",
       "       '2900 ~ 3200 만원', '3800 ~ 3800 만원', '4300 만원 이상', '3000 ~ 4500 만원',\n",
       "       '4500 ~ 6500 만원', '20000 ~ 20000 만원', '4500 ~ 4800 만원',\n",
       "       '5200 ~ 6700 만원', '3700 ~ 4000 만원', '6800 ~ 6800 만원',\n",
       "       '2900 ~ 7000 만원', '2900 ~ 3600 만원', '4500 ~ 5500 만원',\n",
       "       '1500 ~ 4500 만원', '2900 ~ 5000 만원', '6400 ~ 6400 만원',\n",
       "       '10000 ~ 14000 만원', '1000 ~ 1800 만원', '1000 ~ 1600 만원',\n",
       "       '2200 만원 이상', '2800 ~ 3500 만원', '40000 만원 이상', '6000 ~ 10000 만원',\n",
       "       '2999 만원 이상', '1100 ~ 1100 만원', '2900 ~ 4500 만원'], dtype=object)"
      ]
     },
     "execution_count": 164,
     "metadata": {},
     "output_type": "execute_result"
    }
   ],
   "source": [
    "kj.공사예산_CS확인예산.unique()"
   ]
  },
  {
   "cell_type": "code",
   "execution_count": 165,
   "metadata": {},
   "outputs": [],
   "source": [
    "kj.loc[kj['공사예산_CS확인예산']=='2300 ~ 2600 만원', '공사예산_CS확인예산'] = '2,000만원 ~ 3,000만원 미만'"
   ]
  },
  {
   "cell_type": "code",
   "execution_count": 166,
   "metadata": {},
   "outputs": [],
   "source": [
    "kj.loc[kj['공사예산_CS확인예산']=='3400 만원 이상', '공사예산_CS확인예산'] = '3,000만원 ~ 4,000만원 미만'"
   ]
  },
  {
   "cell_type": "code",
   "execution_count": 167,
   "metadata": {},
   "outputs": [],
   "source": [
    "kj.loc[kj['공사예산_CS확인예산']=='4800 만원 이상', '공사예산_CS확인예산'] = '4,000만원 ~ 5,000만원 미만'"
   ]
  },
  {
   "cell_type": "code",
   "execution_count": 168,
   "metadata": {},
   "outputs": [],
   "source": [
    "kj.loc[kj['공사예산_CS확인예산']=='4400 ~ 4400 만원', '공사예산_CS확인예산'] = '4,000만원 ~ 5,000만원 미만'"
   ]
  },
  {
   "cell_type": "code",
   "execution_count": 169,
   "metadata": {},
   "outputs": [],
   "source": [
    "kj.loc[kj['공사예산_CS확인예산']=='4300 ~ 4500 만원', '공사예산_CS확인예산'] = '4,000만원 ~ 5,000만원 미만'"
   ]
  },
  {
   "cell_type": "code",
   "execution_count": 170,
   "metadata": {},
   "outputs": [],
   "source": [
    "kj.loc[kj['공사예산_CS확인예산']=='3200 ~ 4000 만원', '공사예산_CS확인예산'] = '3,000만원 ~ 4,000만원 미만'"
   ]
  },
  {
   "cell_type": "code",
   "execution_count": 171,
   "metadata": {},
   "outputs": [],
   "source": [
    "kj.loc[kj['공사예산_CS확인예산']=='1800 ~ 1900 만원', '공사예산_CS확인예산'] = '1,000만원 ~ 2,000만원 미만'"
   ]
  },
  {
   "cell_type": "code",
   "execution_count": 172,
   "metadata": {},
   "outputs": [],
   "source": [
    "kj.loc[kj['공사예산_CS확인예산']=='3300 만원 이상', '공사예산_CS확인예산'] = '3,000만원 ~ 4,000만원 미만'"
   ]
  },
  {
   "cell_type": "code",
   "execution_count": 173,
   "metadata": {},
   "outputs": [],
   "source": [
    "kj.loc[kj['공사예산_CS확인예산']=='2500 ~ 5000 만원', '공사예산_CS확인예산'] = '3,000만원 ~ 4,000만원 미만'"
   ]
  },
  {
   "cell_type": "code",
   "execution_count": 174,
   "metadata": {},
   "outputs": [],
   "source": [
    "kj.loc[kj['공사예산_CS확인예산']=='3400 ~ 4000 만원', '공사예산_CS확인예산'] = '3,000만원 ~ 4,000만원 미만'"
   ]
  },
  {
   "cell_type": "code",
   "execution_count": 175,
   "metadata": {},
   "outputs": [],
   "source": [
    "kj.loc[kj['공사예산_CS확인예산']=='3400 ~ 3500 만원', '공사예산_CS확인예산'] = '3,000만원 ~ 4,000만원 미만'"
   ]
  },
  {
   "cell_type": "code",
   "execution_count": 176,
   "metadata": {},
   "outputs": [
    {
     "data": {
      "text/plain": [
       "array(['4,000만원 ~ 5,000만원 미만', '1,000만원 ~ 2,000만원 미만',\n",
       "       '3,000만원 ~ 4,000만원 미만', '2,000만원 ~ 3,000만원 미만', nan,\n",
       "       '5,000만원 ~ 6,000만원 미만', '6,000만원 ~ 7,000만원 미만',\n",
       "       '7,000만원 ~ 8,000만원 미만', '8,000만원 ~ 9,000만원 미만', '1억원 ~ 1.5억원 미만',\n",
       "       '1,000만원 미만', '9,000만원 ~ 1억원 미만', '1.5억원 ~ 2억원 미만',\n",
       "       '3200 ~ 5000 만원', '4800 ~ 5000 만원', '7000 ~ 7500 만원',\n",
       "       '2900 ~ 3200 만원', '3800 ~ 3800 만원', '4300 만원 이상', '3000 ~ 4500 만원',\n",
       "       '4500 ~ 6500 만원', '20000 ~ 20000 만원', '4500 ~ 4800 만원',\n",
       "       '5200 ~ 6700 만원', '3700 ~ 4000 만원', '6800 ~ 6800 만원',\n",
       "       '2900 ~ 7000 만원', '2900 ~ 3600 만원', '4500 ~ 5500 만원',\n",
       "       '1500 ~ 4500 만원', '2900 ~ 5000 만원', '6400 ~ 6400 만원',\n",
       "       '10000 ~ 14000 만원', '1000 ~ 1800 만원', '1000 ~ 1600 만원',\n",
       "       '2200 만원 이상', '2800 ~ 3500 만원', '40000 만원 이상', '6000 ~ 10000 만원',\n",
       "       '2999 만원 이상', '1100 ~ 1100 만원', '2900 ~ 4500 만원'], dtype=object)"
      ]
     },
     "execution_count": 176,
     "metadata": {},
     "output_type": "execute_result"
    }
   ],
   "source": [
    "kj.공사예산_CS확인예산.unique()"
   ]
  },
  {
   "cell_type": "code",
   "execution_count": 177,
   "metadata": {},
   "outputs": [],
   "source": [
    "kj.loc[kj['공사예산_CS확인예산']=='3200 ~ 5000 만원', '공사예산_CS확인예산'] = '4,000만원 ~ 5,000만원 미만'"
   ]
  },
  {
   "cell_type": "code",
   "execution_count": 178,
   "metadata": {},
   "outputs": [],
   "source": [
    "kj.loc[kj['공사예산_CS확인예산']=='4800 ~ 5000 만원', '공사예산_CS확인예산'] = '4,000만원 ~ 5,000만원 미만'"
   ]
  },
  {
   "cell_type": "code",
   "execution_count": 179,
   "metadata": {},
   "outputs": [],
   "source": [
    "kj.loc[kj['공사예산_CS확인예산']=='7000 ~ 7500 만원', '공사예산_CS확인예산'] = '7,000만원 ~ 8,000만원 미만'"
   ]
  },
  {
   "cell_type": "code",
   "execution_count": 180,
   "metadata": {},
   "outputs": [],
   "source": [
    "kj.loc[kj['공사예산_CS확인예산']=='2900 ~ 3200 만원', '공사예산_CS확인예산'] = '3,000만원 ~ 4,000만원 미만'"
   ]
  },
  {
   "cell_type": "code",
   "execution_count": 181,
   "metadata": {},
   "outputs": [],
   "source": [
    "kj.loc[kj['공사예산_CS확인예산']=='3800 ~ 3800 만원', '공사예산_CS확인예산'] = '3,000만원 ~ 4,000만원 미만'"
   ]
  },
  {
   "cell_type": "code",
   "execution_count": 182,
   "metadata": {},
   "outputs": [],
   "source": [
    "kj.loc[kj['공사예산_CS확인예산']=='4300 만원 이상', '공사예산_CS확인예산'] = '4,000만원 ~ 5,000만원 미만'"
   ]
  },
  {
   "cell_type": "code",
   "execution_count": 183,
   "metadata": {},
   "outputs": [],
   "source": [
    "kj.loc[kj['공사예산_CS확인예산']=='3000 ~ 4500 만원', '공사예산_CS확인예산'] = '3,000만원 ~ 4,000만원 미만'"
   ]
  },
  {
   "cell_type": "code",
   "execution_count": 184,
   "metadata": {},
   "outputs": [],
   "source": [
    "kj.loc[kj['공사예산_CS확인예산']=='4500 ~ 6500 만원', '공사예산_CS확인예산'] = '5,000만원 ~ 6,000만원 미만'"
   ]
  },
  {
   "cell_type": "code",
   "execution_count": 185,
   "metadata": {},
   "outputs": [],
   "source": [
    "kj.loc[kj['공사예산_CS확인예산']=='20000 ~ 20000 만원', '공사예산_CS확인예산'] = '2억원 ~ 2.5억원 미만'"
   ]
  },
  {
   "cell_type": "code",
   "execution_count": 186,
   "metadata": {},
   "outputs": [],
   "source": [
    "kj.loc[kj['공사예산_CS확인예산']=='4500 ~ 4800 만원', '공사예산_CS확인예산'] = '4,000만원 ~ 5,000만원 미만'"
   ]
  },
  {
   "cell_type": "code",
   "execution_count": 187,
   "metadata": {},
   "outputs": [],
   "source": [
    "kj.loc[kj['공사예산_CS확인예산']=='5200 ~ 6700 만원', '공사예산_CS확인예산'] = '5,000만원 ~ 6,000만원 미만'"
   ]
  },
  {
   "cell_type": "code",
   "execution_count": 188,
   "metadata": {},
   "outputs": [],
   "source": [
    "kj.loc[kj['공사예산_CS확인예산']=='3700 ~ 4000 만원', '공사예산_CS확인예산'] = '3,000만원 ~ 4,000만원 미만'"
   ]
  },
  {
   "cell_type": "code",
   "execution_count": 189,
   "metadata": {},
   "outputs": [],
   "source": [
    "kj.loc[kj['공사예산_CS확인예산']=='6800 ~ 6800 만원', '공사예산_CS확인예산'] = '6,000만원 ~ 7,000만원 미만'"
   ]
  },
  {
   "cell_type": "code",
   "execution_count": 190,
   "metadata": {},
   "outputs": [
    {
     "data": {
      "text/plain": [
       "array(['4,000만원 ~ 5,000만원 미만', '1,000만원 ~ 2,000만원 미만',\n",
       "       '3,000만원 ~ 4,000만원 미만', '2,000만원 ~ 3,000만원 미만', nan,\n",
       "       '5,000만원 ~ 6,000만원 미만', '6,000만원 ~ 7,000만원 미만',\n",
       "       '7,000만원 ~ 8,000만원 미만', '8,000만원 ~ 9,000만원 미만', '1억원 ~ 1.5억원 미만',\n",
       "       '1,000만원 미만', '9,000만원 ~ 1억원 미만', '1.5억원 ~ 2억원 미만',\n",
       "       '2억원 ~ 2.5억원 미만', '2900 ~ 7000 만원', '2900 ~ 3600 만원',\n",
       "       '4500 ~ 5500 만원', '1500 ~ 4500 만원', '2900 ~ 5000 만원',\n",
       "       '6400 ~ 6400 만원', '10000 ~ 14000 만원', '1000 ~ 1800 만원',\n",
       "       '1000 ~ 1600 만원', '2200 만원 이상', '2800 ~ 3500 만원', '40000 만원 이상',\n",
       "       '6000 ~ 10000 만원', '2999 만원 이상', '1100 ~ 1100 만원',\n",
       "       '2900 ~ 4500 만원'], dtype=object)"
      ]
     },
     "execution_count": 190,
     "metadata": {},
     "output_type": "execute_result"
    }
   ],
   "source": [
    "kj.공사예산_CS확인예산.unique()"
   ]
  },
  {
   "cell_type": "code",
   "execution_count": 191,
   "metadata": {},
   "outputs": [],
   "source": [
    "kj.loc[kj['공사예산_CS확인예산']=='2900 ~ 7000 만원', '공사예산_CS확인예산'] = '4,000만원 ~ 5,000만원 미만'"
   ]
  },
  {
   "cell_type": "code",
   "execution_count": 192,
   "metadata": {},
   "outputs": [],
   "source": [
    "kj.loc[kj['공사예산_CS확인예산']=='2900 ~ 3600 만원', '공사예산_CS확인예산'] = '3,000만원 ~ 4,000만원 미만'"
   ]
  },
  {
   "cell_type": "code",
   "execution_count": 193,
   "metadata": {},
   "outputs": [],
   "source": [
    "kj.loc[kj['공사예산_CS확인예산']=='4500 ~ 5500 만원', '공사예산_CS확인예산'] = '5,000만원 ~ 6,000만원 미만'"
   ]
  },
  {
   "cell_type": "code",
   "execution_count": 194,
   "metadata": {},
   "outputs": [],
   "source": [
    "kj.loc[kj['공사예산_CS확인예산']=='1500 ~ 4500 만원', '공사예산_CS확인예산'] = '3,000만원 ~ 4,000만원 미만'"
   ]
  },
  {
   "cell_type": "code",
   "execution_count": 195,
   "metadata": {},
   "outputs": [],
   "source": [
    "kj.loc[kj['공사예산_CS확인예산']=='2900 ~ 5000 만원', '공사예산_CS확인예산'] = '3,000만원 ~ 4,000만원 미만'"
   ]
  },
  {
   "cell_type": "code",
   "execution_count": 196,
   "metadata": {},
   "outputs": [],
   "source": [
    "kj.loc[kj['공사예산_CS확인예산']=='6400 ~ 6400 만원', '공사예산_CS확인예산'] = '6,000만원 ~ 7,000만원 미만'"
   ]
  },
  {
   "cell_type": "code",
   "execution_count": 197,
   "metadata": {},
   "outputs": [],
   "source": [
    "kj.loc[kj['공사예산_CS확인예산']=='10000 ~ 14000 만원', '공사예산_CS확인예산'] = '1억원 ~ 1.5억원 미만'"
   ]
  },
  {
   "cell_type": "code",
   "execution_count": 198,
   "metadata": {},
   "outputs": [],
   "source": [
    "kj.loc[kj['공사예산_CS확인예산']=='1000 ~ 1800 만원', '공사예산_CS확인예산'] = '1,000만원 ~ 2,000만원 미만'"
   ]
  },
  {
   "cell_type": "code",
   "execution_count": 199,
   "metadata": {},
   "outputs": [],
   "source": [
    "kj.loc[kj['공사예산_CS확인예산']=='1000 ~ 1600 만원', '공사예산_CS확인예산'] = '1,000만원 ~ 2,000만원 미만'"
   ]
  },
  {
   "cell_type": "code",
   "execution_count": 200,
   "metadata": {},
   "outputs": [],
   "source": [
    "kj.loc[kj['공사예산_CS확인예산']=='2200 만원 이상', '공사예산_CS확인예산'] = '2,000만원 ~ 3,000만원 미만'"
   ]
  },
  {
   "cell_type": "code",
   "execution_count": 201,
   "metadata": {},
   "outputs": [],
   "source": [
    "kj.loc[kj['공사예산_CS확인예산']=='2800 ~ 3500 만원', '공사예산_CS확인예산'] = '3,000만원 ~ 4,000만원 미만'"
   ]
  },
  {
   "cell_type": "code",
   "execution_count": 202,
   "metadata": {},
   "outputs": [],
   "source": [
    "kj.loc[kj['공사예산_CS확인예산']=='40000 만원 이상', '공사예산_CS확인예산'] = '4억원 ~ 5억원 미만'"
   ]
  },
  {
   "cell_type": "code",
   "execution_count": 203,
   "metadata": {},
   "outputs": [],
   "source": [
    "kj.loc[kj['공사예산_CS확인예산']=='6000 ~ 10000 만원', '공사예산_CS확인예산'] = '8,000만원 ~ 9,000만원 미만'"
   ]
  },
  {
   "cell_type": "code",
   "execution_count": 204,
   "metadata": {},
   "outputs": [],
   "source": [
    "kj.loc[kj['공사예산_CS확인예산']=='2999 만원 이상', '공사예산_CS확인예산'] = '3,000만원 ~ 4,000만원 미만'"
   ]
  },
  {
   "cell_type": "code",
   "execution_count": 205,
   "metadata": {},
   "outputs": [],
   "source": [
    "kj.loc[kj['공사예산_CS확인예산']=='1100 ~ 1100 만원', '공사예산_CS확인예산'] = '1,000만원 ~ 2,000만원 미만'"
   ]
  },
  {
   "cell_type": "code",
   "execution_count": 206,
   "metadata": {},
   "outputs": [],
   "source": [
    "kj.loc[kj['공사예산_CS확인예산']=='2900 ~ 4500 만원', '공사예산_CS확인예산'] = '3,000만원 ~ 4,000만원 미만'"
   ]
  },
  {
   "cell_type": "code",
   "execution_count": 207,
   "metadata": {},
   "outputs": [
    {
     "data": {
      "text/plain": [
       "array(['4,000만원 ~ 5,000만원 미만', '1,000만원 ~ 2,000만원 미만',\n",
       "       '3,000만원 ~ 4,000만원 미만', '2,000만원 ~ 3,000만원 미만', nan,\n",
       "       '5,000만원 ~ 6,000만원 미만', '6,000만원 ~ 7,000만원 미만',\n",
       "       '7,000만원 ~ 8,000만원 미만', '8,000만원 ~ 9,000만원 미만', '1억원 ~ 1.5억원 미만',\n",
       "       '1,000만원 미만', '9,000만원 ~ 1억원 미만', '1.5억원 ~ 2억원 미만',\n",
       "       '2억원 ~ 2.5억원 미만', '4억원 ~ 5억원 미만'], dtype=object)"
      ]
     },
     "execution_count": 207,
     "metadata": {},
     "output_type": "execute_result"
    }
   ],
   "source": [
    "kj.공사예산_CS확인예산.unique()"
   ]
  },
  {
   "cell_type": "markdown",
   "metadata": {},
   "source": [
    "# 컬럼 순서 정렬"
   ]
  },
  {
   "cell_type": "code",
   "execution_count": 208,
   "metadata": {},
   "outputs": [
    {
     "data": {
      "text/plain": [
       "Index(['견적일', '대상구분', '시공대상', '지역', '주소_시군구', '주소_읍면동', '주소_번지', '아파트명', '평수',\n",
       "       '공사예산_고객예산', '공사예산_CS확인예산', 'DB 유형', '시공범위', '진행상태', '종료여부', '견적번호',\n",
       "       '요청', '인입채널_UTM', '계약번호', '유입경로', '유입경로_상세', '전체주소'],\n",
       "      dtype='object')"
      ]
     },
     "execution_count": 208,
     "metadata": {},
     "output_type": "execute_result"
    }
   ],
   "source": [
    "kj.columns"
   ]
  },
  {
   "cell_type": "code",
   "execution_count": 209,
   "metadata": {},
   "outputs": [],
   "source": [
    "kj = kj[['견적번호', '견적일', '유입경로', '유입경로_상세', '지역', '주소_시군구', '주소_읍면동', '주소_번지', '아파트명', '전체주소', '평수', '대상구분', '시공대상', '시공범위', '공사예산_고객예산', '공사예산_CS확인예산', '계약번호', 'DB 유형', '진행상태', '종료여부', '요청', '인입채널_UTM']]"
   ]
  },
  {
   "cell_type": "code",
   "execution_count": 210,
   "metadata": {},
   "outputs": [
    {
     "data": {
      "text/html": [
       "<div>\n",
       "<style scoped>\n",
       "    .dataframe tbody tr th:only-of-type {\n",
       "        vertical-align: middle;\n",
       "    }\n",
       "\n",
       "    .dataframe tbody tr th {\n",
       "        vertical-align: top;\n",
       "    }\n",
       "\n",
       "    .dataframe thead th {\n",
       "        text-align: right;\n",
       "    }\n",
       "</style>\n",
       "<table border=\"1\" class=\"dataframe\">\n",
       "  <thead>\n",
       "    <tr style=\"text-align: right;\">\n",
       "      <th></th>\n",
       "      <th>견적번호</th>\n",
       "      <th>견적일</th>\n",
       "      <th>유입경로</th>\n",
       "      <th>유입경로_상세</th>\n",
       "      <th>지역</th>\n",
       "      <th>주소_시군구</th>\n",
       "      <th>주소_읍면동</th>\n",
       "      <th>주소_번지</th>\n",
       "      <th>아파트명</th>\n",
       "      <th>전체주소</th>\n",
       "      <th>...</th>\n",
       "      <th>시공대상</th>\n",
       "      <th>시공범위</th>\n",
       "      <th>공사예산_고객예산</th>\n",
       "      <th>공사예산_CS확인예산</th>\n",
       "      <th>계약번호</th>\n",
       "      <th>DB 유형</th>\n",
       "      <th>진행상태</th>\n",
       "      <th>종료여부</th>\n",
       "      <th>요청</th>\n",
       "      <th>인입채널_UTM</th>\n",
       "    </tr>\n",
       "  </thead>\n",
       "  <tbody>\n",
       "    <tr>\n",
       "      <td>0</td>\n",
       "      <td>200037</td>\n",
       "      <td>2019-07-31 21:56</td>\n",
       "      <td>웹</td>\n",
       "      <td>모바일웹상세</td>\n",
       "      <td>경상남도</td>\n",
       "      <td>창원시 성산구</td>\n",
       "      <td>반림동</td>\n",
       "      <td>8</td>\n",
       "      <td>럭키반림아파트</td>\n",
       "      <td>경상남도 창원시 성산구 반림동 8</td>\n",
       "      <td>...</td>\n",
       "      <td>아파트</td>\n",
       "      <td>전체</td>\n",
       "      <td>NaN</td>\n",
       "      <td>4,000만원 ~ 5,000만원 미만</td>\n",
       "      <td>NaN</td>\n",
       "      <td>주거-고급</td>\n",
       "      <td>방문상담</td>\n",
       "      <td>진행중</td>\n",
       "      <td>방이 4개가 필요합니다\\n안방을 아들 둘이 지낼수있도록 해서\\n부부 각 방 하나씩 ...</td>\n",
       "      <td>네이버검색광고_Mobile</td>\n",
       "    </tr>\n",
       "    <tr>\n",
       "      <td>1</td>\n",
       "      <td>200030</td>\n",
       "      <td>2019-07-31 20:31</td>\n",
       "      <td>앱</td>\n",
       "      <td>아이폰간편</td>\n",
       "      <td>서울특별시</td>\n",
       "      <td>강동구</td>\n",
       "      <td>명일동</td>\n",
       "      <td>54</td>\n",
       "      <td>한양아파트</td>\n",
       "      <td>서울특별시 강동구 명일동 54</td>\n",
       "      <td>...</td>\n",
       "      <td>아파트</td>\n",
       "      <td>전체</td>\n",
       "      <td>NaN</td>\n",
       "      <td>4,000만원 ~ 5,000만원 미만</td>\n",
       "      <td>NaN</td>\n",
       "      <td>주거-고급</td>\n",
       "      <td>방문상담</td>\n",
       "      <td>진행중</td>\n",
       "      <td>배관공사 포함 샷시 \\r\\n모두 올수리입니다</td>\n",
       "      <td>NaN</td>\n",
       "    </tr>\n",
       "    <tr>\n",
       "      <td>2</td>\n",
       "      <td>199988</td>\n",
       "      <td>2019-07-31 16:26</td>\n",
       "      <td>앱</td>\n",
       "      <td>안드로이드</td>\n",
       "      <td>서울특별시</td>\n",
       "      <td>강서구</td>\n",
       "      <td>가양동</td>\n",
       "      <td>1461</td>\n",
       "      <td>가양2단지아파트</td>\n",
       "      <td>서울특별시 강서구 가양동 1461</td>\n",
       "      <td>...</td>\n",
       "      <td>아파트</td>\n",
       "      <td>전체</td>\n",
       "      <td>NaN</td>\n",
       "      <td>1,000만원 ~ 2,000만원 미만</td>\n",
       "      <td>9884.0</td>\n",
       "      <td>주거-기본</td>\n",
       "      <td>계약완료</td>\n",
       "      <td>진행중</td>\n",
       "      <td>NaN</td>\n",
       "      <td>NaN</td>\n",
       "    </tr>\n",
       "    <tr>\n",
       "      <td>3</td>\n",
       "      <td>199970</td>\n",
       "      <td>2019-07-31 15:30</td>\n",
       "      <td>웹</td>\n",
       "      <td>PC웹간편</td>\n",
       "      <td>서울특별시</td>\n",
       "      <td>성북구</td>\n",
       "      <td>돈암동</td>\n",
       "      <td>644</td>\n",
       "      <td>돈암코오롱하늘채</td>\n",
       "      <td>서울특별시 성북구 돈암동 644</td>\n",
       "      <td>...</td>\n",
       "      <td>아파트</td>\n",
       "      <td>전체</td>\n",
       "      <td>3,000만원 ~ 4,000만원 미만</td>\n",
       "      <td>3,000만원 ~ 4,000만원 미만</td>\n",
       "      <td>NaN</td>\n",
       "      <td>주거-고급</td>\n",
       "      <td>방문상담</td>\n",
       "      <td>진행중</td>\n",
       "      <td>- 상담희망시간 : 무관\\r\\n- 현장위치 : 서울특별시 성북구 아리랑로 75 돈암...</td>\n",
       "      <td>NaN</td>\n",
       "    </tr>\n",
       "    <tr>\n",
       "      <td>4</td>\n",
       "      <td>199937</td>\n",
       "      <td>2019-07-31 14:31</td>\n",
       "      <td>외부</td>\n",
       "      <td>믹스앤픽스</td>\n",
       "      <td>서울특별시</td>\n",
       "      <td>강동구</td>\n",
       "      <td>암사동</td>\n",
       "      <td>509</td>\n",
       "      <td>선사현대아파트</td>\n",
       "      <td>서울특별시 강동구 암사동 509</td>\n",
       "      <td>...</td>\n",
       "      <td>아파트</td>\n",
       "      <td>전체</td>\n",
       "      <td>NaN</td>\n",
       "      <td>4,000만원 ~ 5,000만원 미만</td>\n",
       "      <td>NaN</td>\n",
       "      <td>주거-고급</td>\n",
       "      <td>방문상담</td>\n",
       "      <td>진행중</td>\n",
       "      <td>NaN</td>\n",
       "      <td>NaN</td>\n",
       "    </tr>\n",
       "  </tbody>\n",
       "</table>\n",
       "<p>5 rows × 22 columns</p>\n",
       "</div>"
      ],
      "text/plain": [
       "     견적번호               견적일 유입경로 유입경로_상세     지역   주소_시군구 주소_읍면동 주소_번지  \\\n",
       "0  200037  2019-07-31 21:56    웹  모바일웹상세   경상남도  창원시 성산구    반림동     8   \n",
       "1  200030  2019-07-31 20:31    앱   아이폰간편  서울특별시      강동구    명일동    54   \n",
       "2  199988  2019-07-31 16:26    앱   안드로이드  서울특별시      강서구    가양동  1461   \n",
       "3  199970  2019-07-31 15:30    웹   PC웹간편  서울특별시      성북구    돈암동   644   \n",
       "4  199937  2019-07-31 14:31   외부   믹스앤픽스  서울특별시      강동구    암사동   509   \n",
       "\n",
       "       아파트명                전체주소  ...  시공대상 시공범위             공사예산_고객예산  \\\n",
       "0   럭키반림아파트  경상남도 창원시 성산구 반림동 8  ...   아파트   전체                   NaN   \n",
       "1     한양아파트    서울특별시 강동구 명일동 54  ...   아파트   전체                   NaN   \n",
       "2  가양2단지아파트  서울특별시 강서구 가양동 1461  ...   아파트   전체                   NaN   \n",
       "3  돈암코오롱하늘채   서울특별시 성북구 돈암동 644  ...   아파트   전체  3,000만원 ~ 4,000만원 미만   \n",
       "4   선사현대아파트   서울특별시 강동구 암사동 509  ...   아파트   전체                   NaN   \n",
       "\n",
       "            공사예산_CS확인예산    계약번호  DB 유형  진행상태 종료여부  \\\n",
       "0  4,000만원 ~ 5,000만원 미만     NaN  주거-고급  방문상담  진행중   \n",
       "1  4,000만원 ~ 5,000만원 미만     NaN  주거-고급  방문상담  진행중   \n",
       "2  1,000만원 ~ 2,000만원 미만  9884.0  주거-기본  계약완료  진행중   \n",
       "3  3,000만원 ~ 4,000만원 미만     NaN  주거-고급  방문상담  진행중   \n",
       "4  4,000만원 ~ 5,000만원 미만     NaN  주거-고급  방문상담  진행중   \n",
       "\n",
       "                                                  요청        인입채널_UTM  \n",
       "0  방이 4개가 필요합니다\\n안방을 아들 둘이 지낼수있도록 해서\\n부부 각 방 하나씩 ...  네이버검색광고_Mobile  \n",
       "1                           배관공사 포함 샷시 \\r\\n모두 올수리입니다             NaN  \n",
       "2                                                NaN             NaN  \n",
       "3  - 상담희망시간 : 무관\\r\\n- 현장위치 : 서울특별시 성북구 아리랑로 75 돈암...             NaN  \n",
       "4                                                NaN             NaN  \n",
       "\n",
       "[5 rows x 22 columns]"
      ]
     },
     "execution_count": 210,
     "metadata": {},
     "output_type": "execute_result"
    }
   ],
   "source": [
    "kj.head()"
   ]
  },
  {
   "cell_type": "code",
   "execution_count": 211,
   "metadata": {},
   "outputs": [
    {
     "data": {
      "text/plain": [
       "견적번호                                                      200037\n",
       "견적일                                             2019-07-31 21:56\n",
       "유입경로                                                           웹\n",
       "유입경로_상세                                                   모바일웹상세\n",
       "지역                                                          경상남도\n",
       "주소_시군구                                                   창원시 성산구\n",
       "주소_읍면동                                                       반림동\n",
       "주소_번지                                                          8\n",
       "아파트명                                                     럭키반림아파트\n",
       "전체주소                                          경상남도 창원시 성산구 반림동 8\n",
       "평수                                                            31\n",
       "대상구분                                                        주거공간\n",
       "시공대상                                                         아파트\n",
       "시공범위                                                          전체\n",
       "공사예산_고객예산                                                    NaN\n",
       "공사예산_CS확인예산                                 4,000만원 ~ 5,000만원 미만\n",
       "계약번호                                                         NaN\n",
       "DB 유형                                                      주거-고급\n",
       "진행상태                                                        방문상담\n",
       "종료여부                                                         진행중\n",
       "요청             방이 4개가 필요합니다\\n안방을 아들 둘이 지낼수있도록 해서\\n부부 각 방 하나씩 ...\n",
       "인입채널_UTM                                          네이버검색광고_Mobile\n",
       "Name: 0, dtype: object"
      ]
     },
     "execution_count": 211,
     "metadata": {},
     "output_type": "execute_result"
    }
   ],
   "source": [
    "kj.iloc[0,]"
   ]
  },
  {
   "cell_type": "code",
   "execution_count": 212,
   "metadata": {},
   "outputs": [],
   "source": [
    "kj.to_csv('../data/전처리완료/집닥_견적DB_최종.csv', header=True, index=False)"
   ]
  },
  {
   "cell_type": "code",
   "execution_count": 213,
   "metadata": {},
   "outputs": [
    {
     "data": {
      "text/plain": [
       "(8246, 22)"
      ]
     },
     "execution_count": 213,
     "metadata": {},
     "output_type": "execute_result"
    }
   ],
   "source": [
    "kj.shape"
   ]
  },
  {
   "cell_type": "markdown",
   "metadata": {},
   "source": [
    "# 기타 전처리"
   ]
  },
  {
   "cell_type": "markdown",
   "metadata": {},
   "source": [
    "## 유입경로 결측값 처리"
   ]
  },
  {
   "cell_type": "code",
   "execution_count": 214,
   "metadata": {},
   "outputs": [],
   "source": [
    "kj = pd.read_csv('../data/전처리완료/집닥_견적DB_최종.csv')"
   ]
  },
  {
   "cell_type": "code",
   "execution_count": 216,
   "metadata": {},
   "outputs": [
    {
     "data": {
      "text/plain": [
       "견적번호              0\n",
       "견적일               0\n",
       "유입경로              2\n",
       "유입경로_상세          20\n",
       "지역              123\n",
       "주소_시군구          137\n",
       "주소_읍면동          279\n",
       "주소_번지           328\n",
       "아파트명            859\n",
       "전체주소            123\n",
       "평수               37\n",
       "대상구분              0\n",
       "시공대상              0\n",
       "시공범위              0\n",
       "공사예산_고객예산      5509\n",
       "공사예산_CS확인예산     252\n",
       "계약번호           6812\n",
       "DB 유형           272\n",
       "진행상태              0\n",
       "종료여부              0\n",
       "요청             2312\n",
       "인입채널_UTM       6998\n",
       "dtype: int64"
      ]
     },
     "execution_count": 216,
     "metadata": {},
     "output_type": "execute_result"
    }
   ],
   "source": [
    "8246-kj.count()"
   ]
  },
  {
   "cell_type": "code",
   "execution_count": 222,
   "metadata": {},
   "outputs": [
    {
     "data": {
      "text/html": [
       "<div>\n",
       "<style scoped>\n",
       "    .dataframe tbody tr th:only-of-type {\n",
       "        vertical-align: middle;\n",
       "    }\n",
       "\n",
       "    .dataframe tbody tr th {\n",
       "        vertical-align: top;\n",
       "    }\n",
       "\n",
       "    .dataframe thead th {\n",
       "        text-align: right;\n",
       "    }\n",
       "</style>\n",
       "<table border=\"1\" class=\"dataframe\">\n",
       "  <thead>\n",
       "    <tr style=\"text-align: right;\">\n",
       "      <th></th>\n",
       "      <th>견적번호</th>\n",
       "      <th>견적일</th>\n",
       "      <th>유입경로</th>\n",
       "      <th>유입경로_상세</th>\n",
       "      <th>지역</th>\n",
       "      <th>주소_시군구</th>\n",
       "      <th>주소_읍면동</th>\n",
       "      <th>주소_번지</th>\n",
       "      <th>아파트명</th>\n",
       "      <th>전체주소</th>\n",
       "      <th>...</th>\n",
       "      <th>시공대상</th>\n",
       "      <th>시공범위</th>\n",
       "      <th>공사예산_고객예산</th>\n",
       "      <th>공사예산_CS확인예산</th>\n",
       "      <th>계약번호</th>\n",
       "      <th>DB 유형</th>\n",
       "      <th>진행상태</th>\n",
       "      <th>종료여부</th>\n",
       "      <th>요청</th>\n",
       "      <th>인입채널_UTM</th>\n",
       "    </tr>\n",
       "  </thead>\n",
       "  <tbody>\n",
       "  </tbody>\n",
       "</table>\n",
       "<p>0 rows × 22 columns</p>\n",
       "</div>"
      ],
      "text/plain": [
       "Empty DataFrame\n",
       "Columns: [견적번호, 견적일, 유입경로, 유입경로_상세, 지역, 주소_시군구, 주소_읍면동, 주소_번지, 아파트명, 전체주소, 평수, 대상구분, 시공대상, 시공범위, 공사예산_고객예산, 공사예산_CS확인예산, 계약번호, DB 유형, 진행상태, 종료여부, 요청, 인입채널_UTM]\n",
       "Index: []\n",
       "\n",
       "[0 rows x 22 columns]"
      ]
     },
     "execution_count": 222,
     "metadata": {},
     "output_type": "execute_result"
    }
   ],
   "source": [
    "kj[kj['견적번호']==225505]"
   ]
  },
  {
   "cell_type": "code",
   "execution_count": 228,
   "metadata": {},
   "outputs": [],
   "source": [
    "kj.loc[kj['유입경로'].isnull(),'유입경로'] = '-'"
   ]
  },
  {
   "cell_type": "code",
   "execution_count": 231,
   "metadata": {},
   "outputs": [],
   "source": [
    "kj.loc[kj['유입경로_상세'].isnull(),'유입경로_상세'] = '-'"
   ]
  },
  {
   "cell_type": "code",
   "execution_count": 232,
   "metadata": {},
   "outputs": [
    {
     "data": {
      "text/plain": [
       "견적번호              0\n",
       "견적일               0\n",
       "유입경로              0\n",
       "유입경로_상세           0\n",
       "지역              123\n",
       "주소_시군구          137\n",
       "주소_읍면동          279\n",
       "주소_번지           328\n",
       "아파트명            859\n",
       "전체주소            123\n",
       "평수               37\n",
       "대상구분              0\n",
       "시공대상              0\n",
       "시공범위              0\n",
       "공사예산_고객예산      5509\n",
       "공사예산_CS확인예산     252\n",
       "계약번호           6812\n",
       "DB 유형           272\n",
       "진행상태              0\n",
       "종료여부              0\n",
       "요청             2312\n",
       "인입채널_UTM       6998\n",
       "dtype: int64"
      ]
     },
     "execution_count": 232,
     "metadata": {},
     "output_type": "execute_result"
    }
   ],
   "source": [
    "8246-kj.count()"
   ]
  },
  {
   "cell_type": "markdown",
   "metadata": {},
   "source": [
    "## 주소 결측치 처리"
   ]
  },
  {
   "cell_type": "code",
   "execution_count": 234,
   "metadata": {},
   "outputs": [],
   "source": [
    "kj.loc[kj['지역'].isnull(),'지역'] = '-'"
   ]
  },
  {
   "cell_type": "code",
   "execution_count": 236,
   "metadata": {},
   "outputs": [
    {
     "data": {
      "text/html": [
       "<div>\n",
       "<style scoped>\n",
       "    .dataframe tbody tr th:only-of-type {\n",
       "        vertical-align: middle;\n",
       "    }\n",
       "\n",
       "    .dataframe tbody tr th {\n",
       "        vertical-align: top;\n",
       "    }\n",
       "\n",
       "    .dataframe thead th {\n",
       "        text-align: right;\n",
       "    }\n",
       "</style>\n",
       "<table border=\"1\" class=\"dataframe\">\n",
       "  <thead>\n",
       "    <tr style=\"text-align: right;\">\n",
       "      <th></th>\n",
       "      <th>견적번호</th>\n",
       "      <th>견적일</th>\n",
       "      <th>유입경로</th>\n",
       "      <th>유입경로_상세</th>\n",
       "      <th>지역</th>\n",
       "      <th>주소_시군구</th>\n",
       "      <th>주소_읍면동</th>\n",
       "      <th>주소_번지</th>\n",
       "      <th>아파트명</th>\n",
       "      <th>전체주소</th>\n",
       "      <th>...</th>\n",
       "      <th>시공대상</th>\n",
       "      <th>시공범위</th>\n",
       "      <th>공사예산_고객예산</th>\n",
       "      <th>공사예산_CS확인예산</th>\n",
       "      <th>계약번호</th>\n",
       "      <th>DB 유형</th>\n",
       "      <th>진행상태</th>\n",
       "      <th>종료여부</th>\n",
       "      <th>요청</th>\n",
       "      <th>인입채널_UTM</th>\n",
       "    </tr>\n",
       "  </thead>\n",
       "  <tbody>\n",
       "    <tr>\n",
       "      <td>11</td>\n",
       "      <td>199877</td>\n",
       "      <td>2019-07-31 11:22</td>\n",
       "      <td>웹</td>\n",
       "      <td>PC웹간편</td>\n",
       "      <td>-</td>\n",
       "      <td>NaN</td>\n",
       "      <td>NaN</td>\n",
       "      <td>NaN</td>\n",
       "      <td>NaN</td>\n",
       "      <td>NaN</td>\n",
       "      <td>...</td>\n",
       "      <td>아파트</td>\n",
       "      <td>전체</td>\n",
       "      <td>NaN</td>\n",
       "      <td>3,000만원 ~ 4,000만원 미만</td>\n",
       "      <td>NaN</td>\n",
       "      <td>주거-고급</td>\n",
       "      <td>전화상담</td>\n",
       "      <td>종료됨</td>\n",
       "      <td>안양 평촌동 인덕원대우 33평 \\r\\n샷시포함 올수리</td>\n",
       "      <td>NaN</td>\n",
       "    </tr>\n",
       "    <tr>\n",
       "      <td>23</td>\n",
       "      <td>199796</td>\n",
       "      <td>2019-07-30 16:30</td>\n",
       "      <td>웹</td>\n",
       "      <td>모바일웹간편</td>\n",
       "      <td>-</td>\n",
       "      <td>NaN</td>\n",
       "      <td>NaN</td>\n",
       "      <td>NaN</td>\n",
       "      <td>NaN</td>\n",
       "      <td>NaN</td>\n",
       "      <td>...</td>\n",
       "      <td>아파트</td>\n",
       "      <td>전체</td>\n",
       "      <td>NaN</td>\n",
       "      <td>NaN</td>\n",
       "      <td>NaN</td>\n",
       "      <td>NaN</td>\n",
       "      <td>전화상담</td>\n",
       "      <td>종료됨</td>\n",
       "      <td>NaN</td>\n",
       "      <td>페이스북</td>\n",
       "    </tr>\n",
       "    <tr>\n",
       "      <td>32</td>\n",
       "      <td>199706</td>\n",
       "      <td>2019-07-30 13:23</td>\n",
       "      <td>웹</td>\n",
       "      <td>PC웹간편</td>\n",
       "      <td>인천광역시</td>\n",
       "      <td>NaN</td>\n",
       "      <td>NaN</td>\n",
       "      <td>NaN</td>\n",
       "      <td>NaN</td>\n",
       "      <td>인천광역시</td>\n",
       "      <td>...</td>\n",
       "      <td>아파트</td>\n",
       "      <td>전체</td>\n",
       "      <td>NaN</td>\n",
       "      <td>NaN</td>\n",
       "      <td>NaN</td>\n",
       "      <td>NaN</td>\n",
       "      <td>전화상담</td>\n",
       "      <td>종료됨</td>\n",
       "      <td>21평형(전용;15.6평)</td>\n",
       "      <td>다음검색광고_PC</td>\n",
       "    </tr>\n",
       "    <tr>\n",
       "      <td>53</td>\n",
       "      <td>199334</td>\n",
       "      <td>2019-07-29 7:41</td>\n",
       "      <td>웹</td>\n",
       "      <td>모바일웹간편</td>\n",
       "      <td>-</td>\n",
       "      <td>NaN</td>\n",
       "      <td>NaN</td>\n",
       "      <td>NaN</td>\n",
       "      <td>NaN</td>\n",
       "      <td>NaN</td>\n",
       "      <td>...</td>\n",
       "      <td>아파트</td>\n",
       "      <td>전체</td>\n",
       "      <td>NaN</td>\n",
       "      <td>NaN</td>\n",
       "      <td>NaN</td>\n",
       "      <td>NaN</td>\n",
       "      <td>전화상담</td>\n",
       "      <td>종료됨</td>\n",
       "      <td>3천만원 예산, 46평형, 방 4개, 화장실 2개, 야외테라스</td>\n",
       "      <td>NaN</td>\n",
       "    </tr>\n",
       "    <tr>\n",
       "      <td>55</td>\n",
       "      <td>199301</td>\n",
       "      <td>2019-07-28 21:37</td>\n",
       "      <td>웹</td>\n",
       "      <td>모바일웹간편</td>\n",
       "      <td>-</td>\n",
       "      <td>NaN</td>\n",
       "      <td>NaN</td>\n",
       "      <td>NaN</td>\n",
       "      <td>NaN</td>\n",
       "      <td>NaN</td>\n",
       "      <td>...</td>\n",
       "      <td>아파트</td>\n",
       "      <td>전체</td>\n",
       "      <td>NaN</td>\n",
       "      <td>NaN</td>\n",
       "      <td>NaN</td>\n",
       "      <td>NaN</td>\n",
       "      <td>전화상담</td>\n",
       "      <td>종료됨</td>\n",
       "      <td>34평형 분당구축 올수리</td>\n",
       "      <td>아파트실거래가_통합</td>\n",
       "    </tr>\n",
       "    <tr>\n",
       "      <td>...</td>\n",
       "      <td>...</td>\n",
       "      <td>...</td>\n",
       "      <td>...</td>\n",
       "      <td>...</td>\n",
       "      <td>...</td>\n",
       "      <td>...</td>\n",
       "      <td>...</td>\n",
       "      <td>...</td>\n",
       "      <td>...</td>\n",
       "      <td>...</td>\n",
       "      <td>...</td>\n",
       "      <td>...</td>\n",
       "      <td>...</td>\n",
       "      <td>...</td>\n",
       "      <td>...</td>\n",
       "      <td>...</td>\n",
       "      <td>...</td>\n",
       "      <td>...</td>\n",
       "      <td>...</td>\n",
       "      <td>...</td>\n",
       "      <td>...</td>\n",
       "    </tr>\n",
       "    <tr>\n",
       "      <td>2959</td>\n",
       "      <td>165063</td>\n",
       "      <td>2019-03-31 9:42</td>\n",
       "      <td>웹</td>\n",
       "      <td>모바일웹간편</td>\n",
       "      <td>-</td>\n",
       "      <td>NaN</td>\n",
       "      <td>NaN</td>\n",
       "      <td>NaN</td>\n",
       "      <td>NaN</td>\n",
       "      <td>NaN</td>\n",
       "      <td>...</td>\n",
       "      <td>아파트</td>\n",
       "      <td>전체</td>\n",
       "      <td>NaN</td>\n",
       "      <td>5,000만원 ~ 6,000만원 미만</td>\n",
       "      <td>NaN</td>\n",
       "      <td>주거-고급</td>\n",
       "      <td>전화상담</td>\n",
       "      <td>종료됨</td>\n",
       "      <td>NaN</td>\n",
       "      <td>NaN</td>\n",
       "    </tr>\n",
       "    <tr>\n",
       "      <td>2996</td>\n",
       "      <td>164587</td>\n",
       "      <td>2019-03-28 19:53</td>\n",
       "      <td>웹</td>\n",
       "      <td>모바일웹간편</td>\n",
       "      <td>-</td>\n",
       "      <td>NaN</td>\n",
       "      <td>NaN</td>\n",
       "      <td>NaN</td>\n",
       "      <td>NaN</td>\n",
       "      <td>NaN</td>\n",
       "      <td>...</td>\n",
       "      <td>아파트</td>\n",
       "      <td>전체</td>\n",
       "      <td>NaN</td>\n",
       "      <td>2,000만원 ~ 3,000만원 미만</td>\n",
       "      <td>NaN</td>\n",
       "      <td>주거-기본</td>\n",
       "      <td>전화상담</td>\n",
       "      <td>종료됨</td>\n",
       "      <td>34평 화장실, 도배 ,싱크대,바닥\\r\\n시공할때 드는비용은 얼마인지요?</td>\n",
       "      <td>NaN</td>\n",
       "    </tr>\n",
       "    <tr>\n",
       "      <td>3026</td>\n",
       "      <td>164346</td>\n",
       "      <td>2019-03-27 19:56</td>\n",
       "      <td>웹</td>\n",
       "      <td>모바일웹간편</td>\n",
       "      <td>-</td>\n",
       "      <td>NaN</td>\n",
       "      <td>NaN</td>\n",
       "      <td>NaN</td>\n",
       "      <td>NaN</td>\n",
       "      <td>NaN</td>\n",
       "      <td>...</td>\n",
       "      <td>아파트</td>\n",
       "      <td>전체</td>\n",
       "      <td>NaN</td>\n",
       "      <td>2,000만원 ~ 3,000만원 미만</td>\n",
       "      <td>NaN</td>\n",
       "      <td>주거-기본</td>\n",
       "      <td>전화상담</td>\n",
       "      <td>종료됨</td>\n",
       "      <td>47평 전체리모델링</td>\n",
       "      <td>NaN</td>\n",
       "    </tr>\n",
       "    <tr>\n",
       "      <td>3099</td>\n",
       "      <td>163642</td>\n",
       "      <td>2019-03-25 11:31</td>\n",
       "      <td>콜</td>\n",
       "      <td>검색</td>\n",
       "      <td>대구광역시</td>\n",
       "      <td>NaN</td>\n",
       "      <td>NaN</td>\n",
       "      <td>NaN</td>\n",
       "      <td>NaN</td>\n",
       "      <td>대구광역시</td>\n",
       "      <td>...</td>\n",
       "      <td>아파트</td>\n",
       "      <td>전체</td>\n",
       "      <td>NaN</td>\n",
       "      <td>3,000만원 ~ 4,000만원 미만</td>\n",
       "      <td>NaN</td>\n",
       "      <td>주거-고급</td>\n",
       "      <td>전화상담</td>\n",
       "      <td>종료됨</td>\n",
       "      <td>NaN</td>\n",
       "      <td>NaN</td>\n",
       "    </tr>\n",
       "    <tr>\n",
       "      <td>4341</td>\n",
       "      <td>153620</td>\n",
       "      <td>2019-02-10 15:36</td>\n",
       "      <td>외부</td>\n",
       "      <td>98%</td>\n",
       "      <td>대전광역시</td>\n",
       "      <td>NaN</td>\n",
       "      <td>NaN</td>\n",
       "      <td>NaN</td>\n",
       "      <td>NaN</td>\n",
       "      <td>대전광역시</td>\n",
       "      <td>...</td>\n",
       "      <td>아파트</td>\n",
       "      <td>전체</td>\n",
       "      <td>NaN</td>\n",
       "      <td>NaN</td>\n",
       "      <td>NaN</td>\n",
       "      <td>NaN</td>\n",
       "      <td>전화상담</td>\n",
       "      <td>종료됨</td>\n",
       "      <td>대전\\r\\n</td>\n",
       "      <td>NaN</td>\n",
       "    </tr>\n",
       "  </tbody>\n",
       "</table>\n",
       "<p>137 rows × 22 columns</p>\n",
       "</div>"
      ],
      "text/plain": [
       "        견적번호               견적일 유입경로 유입경로_상세     지역 주소_시군구 주소_읍면동 주소_번지 아파트명  \\\n",
       "11    199877  2019-07-31 11:22    웹   PC웹간편      -    NaN    NaN   NaN  NaN   \n",
       "23    199796  2019-07-30 16:30    웹  모바일웹간편      -    NaN    NaN   NaN  NaN   \n",
       "32    199706  2019-07-30 13:23    웹   PC웹간편  인천광역시    NaN    NaN   NaN  NaN   \n",
       "53    199334   2019-07-29 7:41    웹  모바일웹간편      -    NaN    NaN   NaN  NaN   \n",
       "55    199301  2019-07-28 21:37    웹  모바일웹간편      -    NaN    NaN   NaN  NaN   \n",
       "...      ...               ...  ...     ...    ...    ...    ...   ...  ...   \n",
       "2959  165063   2019-03-31 9:42    웹  모바일웹간편      -    NaN    NaN   NaN  NaN   \n",
       "2996  164587  2019-03-28 19:53    웹  모바일웹간편      -    NaN    NaN   NaN  NaN   \n",
       "3026  164346  2019-03-27 19:56    웹  모바일웹간편      -    NaN    NaN   NaN  NaN   \n",
       "3099  163642  2019-03-25 11:31    콜      검색  대구광역시    NaN    NaN   NaN  NaN   \n",
       "4341  153620  2019-02-10 15:36   외부     98%  대전광역시    NaN    NaN   NaN  NaN   \n",
       "\n",
       "       전체주소  ...  시공대상 시공범위 공사예산_고객예산           공사예산_CS확인예산 계약번호  DB 유형  진행상태  \\\n",
       "11      NaN  ...   아파트   전체       NaN  3,000만원 ~ 4,000만원 미만  NaN  주거-고급  전화상담   \n",
       "23      NaN  ...   아파트   전체       NaN                   NaN  NaN    NaN  전화상담   \n",
       "32    인천광역시  ...   아파트   전체       NaN                   NaN  NaN    NaN  전화상담   \n",
       "53      NaN  ...   아파트   전체       NaN                   NaN  NaN    NaN  전화상담   \n",
       "55      NaN  ...   아파트   전체       NaN                   NaN  NaN    NaN  전화상담   \n",
       "...     ...  ...   ...  ...       ...                   ...  ...    ...   ...   \n",
       "2959    NaN  ...   아파트   전체       NaN  5,000만원 ~ 6,000만원 미만  NaN  주거-고급  전화상담   \n",
       "2996    NaN  ...   아파트   전체       NaN  2,000만원 ~ 3,000만원 미만  NaN  주거-기본  전화상담   \n",
       "3026    NaN  ...   아파트   전체       NaN  2,000만원 ~ 3,000만원 미만  NaN  주거-기본  전화상담   \n",
       "3099  대구광역시  ...   아파트   전체       NaN  3,000만원 ~ 4,000만원 미만  NaN  주거-고급  전화상담   \n",
       "4341  대전광역시  ...   아파트   전체       NaN                   NaN  NaN    NaN  전화상담   \n",
       "\n",
       "     종료여부                                        요청    인입채널_UTM  \n",
       "11    종료됨            안양 평촌동 인덕원대우 33평 \\r\\n샷시포함 올수리          NaN  \n",
       "23    종료됨                                       NaN        페이스북  \n",
       "32    종료됨                            21평형(전용;15.6평)   다음검색광고_PC  \n",
       "53    종료됨        3천만원 예산, 46평형, 방 4개, 화장실 2개, 야외테라스         NaN  \n",
       "55    종료됨                            34평형 분당구축 올수리   아파트실거래가_통합  \n",
       "...   ...                                       ...         ...  \n",
       "2959  종료됨                                       NaN         NaN  \n",
       "2996  종료됨  34평 화장실, 도배 ,싱크대,바닥\\r\\n시공할때 드는비용은 얼마인지요?         NaN  \n",
       "3026  종료됨                                47평 전체리모델링         NaN  \n",
       "3099  종료됨                                       NaN         NaN  \n",
       "4341  종료됨                                    대전\\r\\n         NaN  \n",
       "\n",
       "[137 rows x 22 columns]"
      ]
     },
     "execution_count": 236,
     "metadata": {},
     "output_type": "execute_result"
    }
   ],
   "source": [
    "kj[kj['주소_시군구'].isnull()]"
   ]
  },
  {
   "cell_type": "code",
   "execution_count": 237,
   "metadata": {},
   "outputs": [],
   "source": [
    "kj.loc[kj['주소_시군구'].isnull(),'주소_시군구'] = '-'"
   ]
  },
  {
   "cell_type": "code",
   "execution_count": 239,
   "metadata": {},
   "outputs": [
    {
     "data": {
      "text/html": [
       "<div>\n",
       "<style scoped>\n",
       "    .dataframe tbody tr th:only-of-type {\n",
       "        vertical-align: middle;\n",
       "    }\n",
       "\n",
       "    .dataframe tbody tr th {\n",
       "        vertical-align: top;\n",
       "    }\n",
       "\n",
       "    .dataframe thead th {\n",
       "        text-align: right;\n",
       "    }\n",
       "</style>\n",
       "<table border=\"1\" class=\"dataframe\">\n",
       "  <thead>\n",
       "    <tr style=\"text-align: right;\">\n",
       "      <th></th>\n",
       "      <th>견적번호</th>\n",
       "      <th>견적일</th>\n",
       "      <th>유입경로</th>\n",
       "      <th>유입경로_상세</th>\n",
       "      <th>지역</th>\n",
       "      <th>주소_시군구</th>\n",
       "      <th>주소_읍면동</th>\n",
       "      <th>주소_번지</th>\n",
       "      <th>아파트명</th>\n",
       "      <th>전체주소</th>\n",
       "      <th>...</th>\n",
       "      <th>시공대상</th>\n",
       "      <th>시공범위</th>\n",
       "      <th>공사예산_고객예산</th>\n",
       "      <th>공사예산_CS확인예산</th>\n",
       "      <th>계약번호</th>\n",
       "      <th>DB 유형</th>\n",
       "      <th>진행상태</th>\n",
       "      <th>종료여부</th>\n",
       "      <th>요청</th>\n",
       "      <th>인입채널_UTM</th>\n",
       "    </tr>\n",
       "  </thead>\n",
       "  <tbody>\n",
       "    <tr>\n",
       "      <td>11</td>\n",
       "      <td>199877</td>\n",
       "      <td>2019-07-31 11:22</td>\n",
       "      <td>웹</td>\n",
       "      <td>PC웹간편</td>\n",
       "      <td>-</td>\n",
       "      <td>-</td>\n",
       "      <td>NaN</td>\n",
       "      <td>NaN</td>\n",
       "      <td>NaN</td>\n",
       "      <td>NaN</td>\n",
       "      <td>...</td>\n",
       "      <td>아파트</td>\n",
       "      <td>전체</td>\n",
       "      <td>NaN</td>\n",
       "      <td>3,000만원 ~ 4,000만원 미만</td>\n",
       "      <td>NaN</td>\n",
       "      <td>주거-고급</td>\n",
       "      <td>전화상담</td>\n",
       "      <td>종료됨</td>\n",
       "      <td>안양 평촌동 인덕원대우 33평 \\r\\n샷시포함 올수리</td>\n",
       "      <td>NaN</td>\n",
       "    </tr>\n",
       "    <tr>\n",
       "      <td>23</td>\n",
       "      <td>199796</td>\n",
       "      <td>2019-07-30 16:30</td>\n",
       "      <td>웹</td>\n",
       "      <td>모바일웹간편</td>\n",
       "      <td>-</td>\n",
       "      <td>-</td>\n",
       "      <td>NaN</td>\n",
       "      <td>NaN</td>\n",
       "      <td>NaN</td>\n",
       "      <td>NaN</td>\n",
       "      <td>...</td>\n",
       "      <td>아파트</td>\n",
       "      <td>전체</td>\n",
       "      <td>NaN</td>\n",
       "      <td>NaN</td>\n",
       "      <td>NaN</td>\n",
       "      <td>NaN</td>\n",
       "      <td>전화상담</td>\n",
       "      <td>종료됨</td>\n",
       "      <td>NaN</td>\n",
       "      <td>페이스북</td>\n",
       "    </tr>\n",
       "    <tr>\n",
       "      <td>32</td>\n",
       "      <td>199706</td>\n",
       "      <td>2019-07-30 13:23</td>\n",
       "      <td>웹</td>\n",
       "      <td>PC웹간편</td>\n",
       "      <td>인천광역시</td>\n",
       "      <td>-</td>\n",
       "      <td>NaN</td>\n",
       "      <td>NaN</td>\n",
       "      <td>NaN</td>\n",
       "      <td>인천광역시</td>\n",
       "      <td>...</td>\n",
       "      <td>아파트</td>\n",
       "      <td>전체</td>\n",
       "      <td>NaN</td>\n",
       "      <td>NaN</td>\n",
       "      <td>NaN</td>\n",
       "      <td>NaN</td>\n",
       "      <td>전화상담</td>\n",
       "      <td>종료됨</td>\n",
       "      <td>21평형(전용;15.6평)</td>\n",
       "      <td>다음검색광고_PC</td>\n",
       "    </tr>\n",
       "    <tr>\n",
       "      <td>48</td>\n",
       "      <td>199475</td>\n",
       "      <td>2019-07-29 13:26</td>\n",
       "      <td>앱</td>\n",
       "      <td>안드로이드간편</td>\n",
       "      <td>경기도</td>\n",
       "      <td>고양시 일산서구</td>\n",
       "      <td>NaN</td>\n",
       "      <td>NaN</td>\n",
       "      <td>NaN</td>\n",
       "      <td>경기도 고양시 일산서구</td>\n",
       "      <td>...</td>\n",
       "      <td>아파트</td>\n",
       "      <td>전체</td>\n",
       "      <td>NaN</td>\n",
       "      <td>NaN</td>\n",
       "      <td>NaN</td>\n",
       "      <td>NaN</td>\n",
       "      <td>전화상담</td>\n",
       "      <td>종료됨</td>\n",
       "      <td>일산 59평 아파트 전체 리모델링 견적원합니다.\\r\\n메일로 견적 부탁합니다.(근무...</td>\n",
       "      <td>NaN</td>\n",
       "    </tr>\n",
       "    <tr>\n",
       "      <td>53</td>\n",
       "      <td>199334</td>\n",
       "      <td>2019-07-29 7:41</td>\n",
       "      <td>웹</td>\n",
       "      <td>모바일웹간편</td>\n",
       "      <td>-</td>\n",
       "      <td>-</td>\n",
       "      <td>NaN</td>\n",
       "      <td>NaN</td>\n",
       "      <td>NaN</td>\n",
       "      <td>NaN</td>\n",
       "      <td>...</td>\n",
       "      <td>아파트</td>\n",
       "      <td>전체</td>\n",
       "      <td>NaN</td>\n",
       "      <td>NaN</td>\n",
       "      <td>NaN</td>\n",
       "      <td>NaN</td>\n",
       "      <td>전화상담</td>\n",
       "      <td>종료됨</td>\n",
       "      <td>3천만원 예산, 46평형, 방 4개, 화장실 2개, 야외테라스</td>\n",
       "      <td>NaN</td>\n",
       "    </tr>\n",
       "    <tr>\n",
       "      <td>...</td>\n",
       "      <td>...</td>\n",
       "      <td>...</td>\n",
       "      <td>...</td>\n",
       "      <td>...</td>\n",
       "      <td>...</td>\n",
       "      <td>...</td>\n",
       "      <td>...</td>\n",
       "      <td>...</td>\n",
       "      <td>...</td>\n",
       "      <td>...</td>\n",
       "      <td>...</td>\n",
       "      <td>...</td>\n",
       "      <td>...</td>\n",
       "      <td>...</td>\n",
       "      <td>...</td>\n",
       "      <td>...</td>\n",
       "      <td>...</td>\n",
       "      <td>...</td>\n",
       "      <td>...</td>\n",
       "      <td>...</td>\n",
       "      <td>...</td>\n",
       "    </tr>\n",
       "    <tr>\n",
       "      <td>8089</td>\n",
       "      <td>202416</td>\n",
       "      <td>2019-08-13 17:29</td>\n",
       "      <td>웹</td>\n",
       "      <td>모바일웹간편</td>\n",
       "      <td>서울특별시</td>\n",
       "      <td>성동구</td>\n",
       "      <td>NaN</td>\n",
       "      <td>NaN</td>\n",
       "      <td>NaN</td>\n",
       "      <td>서울특별시 성동구</td>\n",
       "      <td>...</td>\n",
       "      <td>아파트</td>\n",
       "      <td>전체</td>\n",
       "      <td>4,000만원 ~ 5,000만원 미만</td>\n",
       "      <td>3,000만원 ~ 4,000만원 미만</td>\n",
       "      <td>NaN</td>\n",
       "      <td>주거-고급</td>\n",
       "      <td>전화상담</td>\n",
       "      <td>종료됨</td>\n",
       "      <td>32평</td>\n",
       "      <td>NaN</td>\n",
       "    </tr>\n",
       "    <tr>\n",
       "      <td>8113</td>\n",
       "      <td>202145</td>\n",
       "      <td>2019-08-12 12:56</td>\n",
       "      <td>앱</td>\n",
       "      <td>안드로이드간편</td>\n",
       "      <td>경기도</td>\n",
       "      <td>고양시 덕양구</td>\n",
       "      <td>NaN</td>\n",
       "      <td>NaN</td>\n",
       "      <td>NaN</td>\n",
       "      <td>경기도 고양시 덕양구</td>\n",
       "      <td>...</td>\n",
       "      <td>아파트</td>\n",
       "      <td>전체</td>\n",
       "      <td>NaN</td>\n",
       "      <td>2,000만원 ~ 3,000만원 미만</td>\n",
       "      <td>NaN</td>\n",
       "      <td>주거-기본</td>\n",
       "      <td>전화상담</td>\n",
       "      <td>종료됨</td>\n",
       "      <td>24평 복도식 아파트\\r\\n\\r\\n전체 리모델링</td>\n",
       "      <td>NaN</td>\n",
       "    </tr>\n",
       "    <tr>\n",
       "      <td>8140</td>\n",
       "      <td>201710</td>\n",
       "      <td>2019-08-09 13:47</td>\n",
       "      <td>앱</td>\n",
       "      <td>안드로이드간편</td>\n",
       "      <td>경기도</td>\n",
       "      <td>성남시 분당구</td>\n",
       "      <td>NaN</td>\n",
       "      <td>NaN</td>\n",
       "      <td>NaN</td>\n",
       "      <td>경기도 성남시 분당구</td>\n",
       "      <td>...</td>\n",
       "      <td>아파트</td>\n",
       "      <td>전체</td>\n",
       "      <td>NaN</td>\n",
       "      <td>2,000만원 ~ 3,000만원 미만</td>\n",
       "      <td>NaN</td>\n",
       "      <td>주거-기본</td>\n",
       "      <td>전화상담</td>\n",
       "      <td>종료됨</td>\n",
       "      <td>주소: 이매동 청구 609동 24평형(구형)\\r\\n\\r\\n-주방: 모던(화이트) 전...</td>\n",
       "      <td>NaN</td>\n",
       "    </tr>\n",
       "    <tr>\n",
       "      <td>8151</td>\n",
       "      <td>201574</td>\n",
       "      <td>2019-08-08 17:39</td>\n",
       "      <td>웹</td>\n",
       "      <td>모바일웹간편</td>\n",
       "      <td>서울특별시</td>\n",
       "      <td>양천구</td>\n",
       "      <td>NaN</td>\n",
       "      <td>NaN</td>\n",
       "      <td>NaN</td>\n",
       "      <td>서울특별시 양천구</td>\n",
       "      <td>...</td>\n",
       "      <td>아파트</td>\n",
       "      <td>전체</td>\n",
       "      <td>NaN</td>\n",
       "      <td>1,000만원 ~ 2,000만원 미만</td>\n",
       "      <td>NaN</td>\n",
       "      <td>주거-기본</td>\n",
       "      <td>전화상담</td>\n",
       "      <td>종료됨</td>\n",
       "      <td>13</td>\n",
       "      <td>LMS</td>\n",
       "    </tr>\n",
       "    <tr>\n",
       "      <td>8178</td>\n",
       "      <td>201089</td>\n",
       "      <td>2019-08-06 12:11</td>\n",
       "      <td>콜</td>\n",
       "      <td>검색</td>\n",
       "      <td>전라북도</td>\n",
       "      <td>군산시</td>\n",
       "      <td>NaN</td>\n",
       "      <td>NaN</td>\n",
       "      <td>NaN</td>\n",
       "      <td>전라북도 군산시</td>\n",
       "      <td>...</td>\n",
       "      <td>아파트</td>\n",
       "      <td>전체</td>\n",
       "      <td>NaN</td>\n",
       "      <td>3,000만원 ~ 4,000만원 미만</td>\n",
       "      <td>NaN</td>\n",
       "      <td>주거-고급</td>\n",
       "      <td>전화상담</td>\n",
       "      <td>종료됨</td>\n",
       "      <td>NaN</td>\n",
       "      <td>NaN</td>\n",
       "    </tr>\n",
       "  </tbody>\n",
       "</table>\n",
       "<p>279 rows × 22 columns</p>\n",
       "</div>"
      ],
      "text/plain": [
       "        견적번호               견적일 유입경로  유입경로_상세     지역    주소_시군구 주소_읍면동 주소_번지  \\\n",
       "11    199877  2019-07-31 11:22    웹    PC웹간편      -         -    NaN   NaN   \n",
       "23    199796  2019-07-30 16:30    웹   모바일웹간편      -         -    NaN   NaN   \n",
       "32    199706  2019-07-30 13:23    웹    PC웹간편  인천광역시         -    NaN   NaN   \n",
       "48    199475  2019-07-29 13:26    앱  안드로이드간편    경기도  고양시 일산서구    NaN   NaN   \n",
       "53    199334   2019-07-29 7:41    웹   모바일웹간편      -         -    NaN   NaN   \n",
       "...      ...               ...  ...      ...    ...       ...    ...   ...   \n",
       "8089  202416  2019-08-13 17:29    웹   모바일웹간편  서울특별시       성동구    NaN   NaN   \n",
       "8113  202145  2019-08-12 12:56    앱  안드로이드간편    경기도   고양시 덕양구    NaN   NaN   \n",
       "8140  201710  2019-08-09 13:47    앱  안드로이드간편    경기도   성남시 분당구    NaN   NaN   \n",
       "8151  201574  2019-08-08 17:39    웹   모바일웹간편  서울특별시       양천구    NaN   NaN   \n",
       "8178  201089  2019-08-06 12:11    콜       검색   전라북도       군산시    NaN   NaN   \n",
       "\n",
       "     아파트명          전체주소  ...  시공대상 시공범위             공사예산_고객예산  \\\n",
       "11    NaN           NaN  ...   아파트   전체                   NaN   \n",
       "23    NaN           NaN  ...   아파트   전체                   NaN   \n",
       "32    NaN         인천광역시  ...   아파트   전체                   NaN   \n",
       "48    NaN  경기도 고양시 일산서구  ...   아파트   전체                   NaN   \n",
       "53    NaN           NaN  ...   아파트   전체                   NaN   \n",
       "...   ...           ...  ...   ...  ...                   ...   \n",
       "8089  NaN     서울특별시 성동구  ...   아파트   전체  4,000만원 ~ 5,000만원 미만   \n",
       "8113  NaN   경기도 고양시 덕양구  ...   아파트   전체                   NaN   \n",
       "8140  NaN   경기도 성남시 분당구  ...   아파트   전체                   NaN   \n",
       "8151  NaN     서울특별시 양천구  ...   아파트   전체                   NaN   \n",
       "8178  NaN      전라북도 군산시  ...   아파트   전체                   NaN   \n",
       "\n",
       "               공사예산_CS확인예산 계약번호  DB 유형  진행상태 종료여부  \\\n",
       "11    3,000만원 ~ 4,000만원 미만  NaN  주거-고급  전화상담  종료됨   \n",
       "23                     NaN  NaN    NaN  전화상담  종료됨   \n",
       "32                     NaN  NaN    NaN  전화상담  종료됨   \n",
       "48                     NaN  NaN    NaN  전화상담  종료됨   \n",
       "53                     NaN  NaN    NaN  전화상담  종료됨   \n",
       "...                    ...  ...    ...   ...  ...   \n",
       "8089  3,000만원 ~ 4,000만원 미만  NaN  주거-고급  전화상담  종료됨   \n",
       "8113  2,000만원 ~ 3,000만원 미만  NaN  주거-기본  전화상담  종료됨   \n",
       "8140  2,000만원 ~ 3,000만원 미만  NaN  주거-기본  전화상담  종료됨   \n",
       "8151  1,000만원 ~ 2,000만원 미만  NaN  주거-기본  전화상담  종료됨   \n",
       "8178  3,000만원 ~ 4,000만원 미만  NaN  주거-고급  전화상담  종료됨   \n",
       "\n",
       "                                                     요청   인입채널_UTM  \n",
       "11                       안양 평촌동 인덕원대우 33평 \\r\\n샷시포함 올수리         NaN  \n",
       "23                                                  NaN       페이스북  \n",
       "32                                       21평형(전용;15.6평)  다음검색광고_PC  \n",
       "48    일산 59평 아파트 전체 리모델링 견적원합니다.\\r\\n메일로 견적 부탁합니다.(근무...        NaN  \n",
       "53                   3천만원 예산, 46평형, 방 4개, 화장실 2개, 야외테라스        NaN  \n",
       "...                                                 ...        ...  \n",
       "8089                                                32평        NaN  \n",
       "8113                         24평 복도식 아파트\\r\\n\\r\\n전체 리모델링        NaN  \n",
       "8140  주소: 이매동 청구 609동 24평형(구형)\\r\\n\\r\\n-주방: 모던(화이트) 전...        NaN  \n",
       "8151                                                 13        LMS  \n",
       "8178                                                NaN        NaN  \n",
       "\n",
       "[279 rows x 22 columns]"
      ]
     },
     "execution_count": 239,
     "metadata": {},
     "output_type": "execute_result"
    }
   ],
   "source": [
    "kj[kj['주소_읍면동'].isnull()]"
   ]
  },
  {
   "cell_type": "code",
   "execution_count": 240,
   "metadata": {},
   "outputs": [],
   "source": [
    "kj.loc[kj['주소_읍면동'].isnull(),'주소_읍면동'] = '-'"
   ]
  },
  {
   "cell_type": "code",
   "execution_count": 242,
   "metadata": {},
   "outputs": [
    {
     "data": {
      "text/html": [
       "<div>\n",
       "<style scoped>\n",
       "    .dataframe tbody tr th:only-of-type {\n",
       "        vertical-align: middle;\n",
       "    }\n",
       "\n",
       "    .dataframe tbody tr th {\n",
       "        vertical-align: top;\n",
       "    }\n",
       "\n",
       "    .dataframe thead th {\n",
       "        text-align: right;\n",
       "    }\n",
       "</style>\n",
       "<table border=\"1\" class=\"dataframe\">\n",
       "  <thead>\n",
       "    <tr style=\"text-align: right;\">\n",
       "      <th></th>\n",
       "      <th>견적번호</th>\n",
       "      <th>견적일</th>\n",
       "      <th>유입경로</th>\n",
       "      <th>유입경로_상세</th>\n",
       "      <th>지역</th>\n",
       "      <th>주소_시군구</th>\n",
       "      <th>주소_읍면동</th>\n",
       "      <th>주소_번지</th>\n",
       "      <th>아파트명</th>\n",
       "      <th>전체주소</th>\n",
       "      <th>...</th>\n",
       "      <th>시공대상</th>\n",
       "      <th>시공범위</th>\n",
       "      <th>공사예산_고객예산</th>\n",
       "      <th>공사예산_CS확인예산</th>\n",
       "      <th>계약번호</th>\n",
       "      <th>DB 유형</th>\n",
       "      <th>진행상태</th>\n",
       "      <th>종료여부</th>\n",
       "      <th>요청</th>\n",
       "      <th>인입채널_UTM</th>\n",
       "    </tr>\n",
       "  </thead>\n",
       "  <tbody>\n",
       "    <tr>\n",
       "      <td>7</td>\n",
       "      <td>199898</td>\n",
       "      <td>2019-07-31 13:37</td>\n",
       "      <td>웹</td>\n",
       "      <td>PC웹간편</td>\n",
       "      <td>광주광역시</td>\n",
       "      <td>북구</td>\n",
       "      <td>용봉동</td>\n",
       "      <td>NaN</td>\n",
       "      <td>NaN</td>\n",
       "      <td>광주광역시 북구 용봉동</td>\n",
       "      <td>...</td>\n",
       "      <td>아파트</td>\n",
       "      <td>전체</td>\n",
       "      <td>3,000만원 ~ 4,000만원 미만</td>\n",
       "      <td>NaN</td>\n",
       "      <td>NaN</td>\n",
       "      <td>NaN</td>\n",
       "      <td>전화상담</td>\n",
       "      <td>종료됨</td>\n",
       "      <td>평수: 40평 / 공사기간: 20일 / 공사금액: 40,000,000</td>\n",
       "      <td>NaN</td>\n",
       "    </tr>\n",
       "    <tr>\n",
       "      <td>11</td>\n",
       "      <td>199877</td>\n",
       "      <td>2019-07-31 11:22</td>\n",
       "      <td>웹</td>\n",
       "      <td>PC웹간편</td>\n",
       "      <td>-</td>\n",
       "      <td>-</td>\n",
       "      <td>-</td>\n",
       "      <td>NaN</td>\n",
       "      <td>NaN</td>\n",
       "      <td>NaN</td>\n",
       "      <td>...</td>\n",
       "      <td>아파트</td>\n",
       "      <td>전체</td>\n",
       "      <td>NaN</td>\n",
       "      <td>3,000만원 ~ 4,000만원 미만</td>\n",
       "      <td>NaN</td>\n",
       "      <td>주거-고급</td>\n",
       "      <td>전화상담</td>\n",
       "      <td>종료됨</td>\n",
       "      <td>안양 평촌동 인덕원대우 33평 \\r\\n샷시포함 올수리</td>\n",
       "      <td>NaN</td>\n",
       "    </tr>\n",
       "    <tr>\n",
       "      <td>23</td>\n",
       "      <td>199796</td>\n",
       "      <td>2019-07-30 16:30</td>\n",
       "      <td>웹</td>\n",
       "      <td>모바일웹간편</td>\n",
       "      <td>-</td>\n",
       "      <td>-</td>\n",
       "      <td>-</td>\n",
       "      <td>NaN</td>\n",
       "      <td>NaN</td>\n",
       "      <td>NaN</td>\n",
       "      <td>...</td>\n",
       "      <td>아파트</td>\n",
       "      <td>전체</td>\n",
       "      <td>NaN</td>\n",
       "      <td>NaN</td>\n",
       "      <td>NaN</td>\n",
       "      <td>NaN</td>\n",
       "      <td>전화상담</td>\n",
       "      <td>종료됨</td>\n",
       "      <td>NaN</td>\n",
       "      <td>페이스북</td>\n",
       "    </tr>\n",
       "    <tr>\n",
       "      <td>32</td>\n",
       "      <td>199706</td>\n",
       "      <td>2019-07-30 13:23</td>\n",
       "      <td>웹</td>\n",
       "      <td>PC웹간편</td>\n",
       "      <td>인천광역시</td>\n",
       "      <td>-</td>\n",
       "      <td>-</td>\n",
       "      <td>NaN</td>\n",
       "      <td>NaN</td>\n",
       "      <td>인천광역시</td>\n",
       "      <td>...</td>\n",
       "      <td>아파트</td>\n",
       "      <td>전체</td>\n",
       "      <td>NaN</td>\n",
       "      <td>NaN</td>\n",
       "      <td>NaN</td>\n",
       "      <td>NaN</td>\n",
       "      <td>전화상담</td>\n",
       "      <td>종료됨</td>\n",
       "      <td>21평형(전용;15.6평)</td>\n",
       "      <td>다음검색광고_PC</td>\n",
       "    </tr>\n",
       "    <tr>\n",
       "      <td>48</td>\n",
       "      <td>199475</td>\n",
       "      <td>2019-07-29 13:26</td>\n",
       "      <td>앱</td>\n",
       "      <td>안드로이드간편</td>\n",
       "      <td>경기도</td>\n",
       "      <td>고양시 일산서구</td>\n",
       "      <td>-</td>\n",
       "      <td>NaN</td>\n",
       "      <td>NaN</td>\n",
       "      <td>경기도 고양시 일산서구</td>\n",
       "      <td>...</td>\n",
       "      <td>아파트</td>\n",
       "      <td>전체</td>\n",
       "      <td>NaN</td>\n",
       "      <td>NaN</td>\n",
       "      <td>NaN</td>\n",
       "      <td>NaN</td>\n",
       "      <td>전화상담</td>\n",
       "      <td>종료됨</td>\n",
       "      <td>일산 59평 아파트 전체 리모델링 견적원합니다.\\r\\n메일로 견적 부탁합니다.(근무...</td>\n",
       "      <td>NaN</td>\n",
       "    </tr>\n",
       "    <tr>\n",
       "      <td>...</td>\n",
       "      <td>...</td>\n",
       "      <td>...</td>\n",
       "      <td>...</td>\n",
       "      <td>...</td>\n",
       "      <td>...</td>\n",
       "      <td>...</td>\n",
       "      <td>...</td>\n",
       "      <td>...</td>\n",
       "      <td>...</td>\n",
       "      <td>...</td>\n",
       "      <td>...</td>\n",
       "      <td>...</td>\n",
       "      <td>...</td>\n",
       "      <td>...</td>\n",
       "      <td>...</td>\n",
       "      <td>...</td>\n",
       "      <td>...</td>\n",
       "      <td>...</td>\n",
       "      <td>...</td>\n",
       "      <td>...</td>\n",
       "      <td>...</td>\n",
       "    </tr>\n",
       "    <tr>\n",
       "      <td>8089</td>\n",
       "      <td>202416</td>\n",
       "      <td>2019-08-13 17:29</td>\n",
       "      <td>웹</td>\n",
       "      <td>모바일웹간편</td>\n",
       "      <td>서울특별시</td>\n",
       "      <td>성동구</td>\n",
       "      <td>-</td>\n",
       "      <td>NaN</td>\n",
       "      <td>NaN</td>\n",
       "      <td>서울특별시 성동구</td>\n",
       "      <td>...</td>\n",
       "      <td>아파트</td>\n",
       "      <td>전체</td>\n",
       "      <td>4,000만원 ~ 5,000만원 미만</td>\n",
       "      <td>3,000만원 ~ 4,000만원 미만</td>\n",
       "      <td>NaN</td>\n",
       "      <td>주거-고급</td>\n",
       "      <td>전화상담</td>\n",
       "      <td>종료됨</td>\n",
       "      <td>32평</td>\n",
       "      <td>NaN</td>\n",
       "    </tr>\n",
       "    <tr>\n",
       "      <td>8113</td>\n",
       "      <td>202145</td>\n",
       "      <td>2019-08-12 12:56</td>\n",
       "      <td>앱</td>\n",
       "      <td>안드로이드간편</td>\n",
       "      <td>경기도</td>\n",
       "      <td>고양시 덕양구</td>\n",
       "      <td>-</td>\n",
       "      <td>NaN</td>\n",
       "      <td>NaN</td>\n",
       "      <td>경기도 고양시 덕양구</td>\n",
       "      <td>...</td>\n",
       "      <td>아파트</td>\n",
       "      <td>전체</td>\n",
       "      <td>NaN</td>\n",
       "      <td>2,000만원 ~ 3,000만원 미만</td>\n",
       "      <td>NaN</td>\n",
       "      <td>주거-기본</td>\n",
       "      <td>전화상담</td>\n",
       "      <td>종료됨</td>\n",
       "      <td>24평 복도식 아파트\\r\\n\\r\\n전체 리모델링</td>\n",
       "      <td>NaN</td>\n",
       "    </tr>\n",
       "    <tr>\n",
       "      <td>8140</td>\n",
       "      <td>201710</td>\n",
       "      <td>2019-08-09 13:47</td>\n",
       "      <td>앱</td>\n",
       "      <td>안드로이드간편</td>\n",
       "      <td>경기도</td>\n",
       "      <td>성남시 분당구</td>\n",
       "      <td>-</td>\n",
       "      <td>NaN</td>\n",
       "      <td>NaN</td>\n",
       "      <td>경기도 성남시 분당구</td>\n",
       "      <td>...</td>\n",
       "      <td>아파트</td>\n",
       "      <td>전체</td>\n",
       "      <td>NaN</td>\n",
       "      <td>2,000만원 ~ 3,000만원 미만</td>\n",
       "      <td>NaN</td>\n",
       "      <td>주거-기본</td>\n",
       "      <td>전화상담</td>\n",
       "      <td>종료됨</td>\n",
       "      <td>주소: 이매동 청구 609동 24평형(구형)\\r\\n\\r\\n-주방: 모던(화이트) 전...</td>\n",
       "      <td>NaN</td>\n",
       "    </tr>\n",
       "    <tr>\n",
       "      <td>8151</td>\n",
       "      <td>201574</td>\n",
       "      <td>2019-08-08 17:39</td>\n",
       "      <td>웹</td>\n",
       "      <td>모바일웹간편</td>\n",
       "      <td>서울특별시</td>\n",
       "      <td>양천구</td>\n",
       "      <td>-</td>\n",
       "      <td>NaN</td>\n",
       "      <td>NaN</td>\n",
       "      <td>서울특별시 양천구</td>\n",
       "      <td>...</td>\n",
       "      <td>아파트</td>\n",
       "      <td>전체</td>\n",
       "      <td>NaN</td>\n",
       "      <td>1,000만원 ~ 2,000만원 미만</td>\n",
       "      <td>NaN</td>\n",
       "      <td>주거-기본</td>\n",
       "      <td>전화상담</td>\n",
       "      <td>종료됨</td>\n",
       "      <td>13</td>\n",
       "      <td>LMS</td>\n",
       "    </tr>\n",
       "    <tr>\n",
       "      <td>8178</td>\n",
       "      <td>201089</td>\n",
       "      <td>2019-08-06 12:11</td>\n",
       "      <td>콜</td>\n",
       "      <td>검색</td>\n",
       "      <td>전라북도</td>\n",
       "      <td>군산시</td>\n",
       "      <td>-</td>\n",
       "      <td>NaN</td>\n",
       "      <td>NaN</td>\n",
       "      <td>전라북도 군산시</td>\n",
       "      <td>...</td>\n",
       "      <td>아파트</td>\n",
       "      <td>전체</td>\n",
       "      <td>NaN</td>\n",
       "      <td>3,000만원 ~ 4,000만원 미만</td>\n",
       "      <td>NaN</td>\n",
       "      <td>주거-고급</td>\n",
       "      <td>전화상담</td>\n",
       "      <td>종료됨</td>\n",
       "      <td>NaN</td>\n",
       "      <td>NaN</td>\n",
       "    </tr>\n",
       "  </tbody>\n",
       "</table>\n",
       "<p>328 rows × 22 columns</p>\n",
       "</div>"
      ],
      "text/plain": [
       "        견적번호               견적일 유입경로  유입경로_상세     지역    주소_시군구 주소_읍면동 주소_번지  \\\n",
       "7     199898  2019-07-31 13:37    웹    PC웹간편  광주광역시        북구    용봉동   NaN   \n",
       "11    199877  2019-07-31 11:22    웹    PC웹간편      -         -      -   NaN   \n",
       "23    199796  2019-07-30 16:30    웹   모바일웹간편      -         -      -   NaN   \n",
       "32    199706  2019-07-30 13:23    웹    PC웹간편  인천광역시         -      -   NaN   \n",
       "48    199475  2019-07-29 13:26    앱  안드로이드간편    경기도  고양시 일산서구      -   NaN   \n",
       "...      ...               ...  ...      ...    ...       ...    ...   ...   \n",
       "8089  202416  2019-08-13 17:29    웹   모바일웹간편  서울특별시       성동구      -   NaN   \n",
       "8113  202145  2019-08-12 12:56    앱  안드로이드간편    경기도   고양시 덕양구      -   NaN   \n",
       "8140  201710  2019-08-09 13:47    앱  안드로이드간편    경기도   성남시 분당구      -   NaN   \n",
       "8151  201574  2019-08-08 17:39    웹   모바일웹간편  서울특별시       양천구      -   NaN   \n",
       "8178  201089  2019-08-06 12:11    콜       검색   전라북도       군산시      -   NaN   \n",
       "\n",
       "     아파트명          전체주소  ...  시공대상 시공범위             공사예산_고객예산  \\\n",
       "7     NaN  광주광역시 북구 용봉동  ...   아파트   전체  3,000만원 ~ 4,000만원 미만   \n",
       "11    NaN           NaN  ...   아파트   전체                   NaN   \n",
       "23    NaN           NaN  ...   아파트   전체                   NaN   \n",
       "32    NaN         인천광역시  ...   아파트   전체                   NaN   \n",
       "48    NaN  경기도 고양시 일산서구  ...   아파트   전체                   NaN   \n",
       "...   ...           ...  ...   ...  ...                   ...   \n",
       "8089  NaN     서울특별시 성동구  ...   아파트   전체  4,000만원 ~ 5,000만원 미만   \n",
       "8113  NaN   경기도 고양시 덕양구  ...   아파트   전체                   NaN   \n",
       "8140  NaN   경기도 성남시 분당구  ...   아파트   전체                   NaN   \n",
       "8151  NaN     서울특별시 양천구  ...   아파트   전체                   NaN   \n",
       "8178  NaN      전라북도 군산시  ...   아파트   전체                   NaN   \n",
       "\n",
       "               공사예산_CS확인예산 계약번호  DB 유형  진행상태 종료여부  \\\n",
       "7                      NaN  NaN    NaN  전화상담  종료됨   \n",
       "11    3,000만원 ~ 4,000만원 미만  NaN  주거-고급  전화상담  종료됨   \n",
       "23                     NaN  NaN    NaN  전화상담  종료됨   \n",
       "32                     NaN  NaN    NaN  전화상담  종료됨   \n",
       "48                     NaN  NaN    NaN  전화상담  종료됨   \n",
       "...                    ...  ...    ...   ...  ...   \n",
       "8089  3,000만원 ~ 4,000만원 미만  NaN  주거-고급  전화상담  종료됨   \n",
       "8113  2,000만원 ~ 3,000만원 미만  NaN  주거-기본  전화상담  종료됨   \n",
       "8140  2,000만원 ~ 3,000만원 미만  NaN  주거-기본  전화상담  종료됨   \n",
       "8151  1,000만원 ~ 2,000만원 미만  NaN  주거-기본  전화상담  종료됨   \n",
       "8178  3,000만원 ~ 4,000만원 미만  NaN  주거-고급  전화상담  종료됨   \n",
       "\n",
       "                                                     요청   인입채널_UTM  \n",
       "7                평수: 40평 / 공사기간: 20일 / 공사금액: 40,000,000        NaN  \n",
       "11                       안양 평촌동 인덕원대우 33평 \\r\\n샷시포함 올수리         NaN  \n",
       "23                                                  NaN       페이스북  \n",
       "32                                       21평형(전용;15.6평)  다음검색광고_PC  \n",
       "48    일산 59평 아파트 전체 리모델링 견적원합니다.\\r\\n메일로 견적 부탁합니다.(근무...        NaN  \n",
       "...                                                 ...        ...  \n",
       "8089                                                32평        NaN  \n",
       "8113                         24평 복도식 아파트\\r\\n\\r\\n전체 리모델링        NaN  \n",
       "8140  주소: 이매동 청구 609동 24평형(구형)\\r\\n\\r\\n-주방: 모던(화이트) 전...        NaN  \n",
       "8151                                                 13        LMS  \n",
       "8178                                                NaN        NaN  \n",
       "\n",
       "[328 rows x 22 columns]"
      ]
     },
     "execution_count": 242,
     "metadata": {},
     "output_type": "execute_result"
    }
   ],
   "source": [
    "kj[kj['주소_번지'].isnull()]"
   ]
  },
  {
   "cell_type": "code",
   "execution_count": 243,
   "metadata": {},
   "outputs": [],
   "source": [
    "kj.loc[kj['주소_번지'].isnull(),'주소_번지'] = '-'"
   ]
  },
  {
   "cell_type": "code",
   "execution_count": 244,
   "metadata": {},
   "outputs": [
    {
     "data": {
      "text/html": [
       "<div>\n",
       "<style scoped>\n",
       "    .dataframe tbody tr th:only-of-type {\n",
       "        vertical-align: middle;\n",
       "    }\n",
       "\n",
       "    .dataframe tbody tr th {\n",
       "        vertical-align: top;\n",
       "    }\n",
       "\n",
       "    .dataframe thead th {\n",
       "        text-align: right;\n",
       "    }\n",
       "</style>\n",
       "<table border=\"1\" class=\"dataframe\">\n",
       "  <thead>\n",
       "    <tr style=\"text-align: right;\">\n",
       "      <th></th>\n",
       "      <th>견적번호</th>\n",
       "      <th>견적일</th>\n",
       "      <th>유입경로</th>\n",
       "      <th>유입경로_상세</th>\n",
       "      <th>지역</th>\n",
       "      <th>주소_시군구</th>\n",
       "      <th>주소_읍면동</th>\n",
       "      <th>주소_번지</th>\n",
       "      <th>아파트명</th>\n",
       "      <th>전체주소</th>\n",
       "      <th>...</th>\n",
       "      <th>시공대상</th>\n",
       "      <th>시공범위</th>\n",
       "      <th>공사예산_고객예산</th>\n",
       "      <th>공사예산_CS확인예산</th>\n",
       "      <th>계약번호</th>\n",
       "      <th>DB 유형</th>\n",
       "      <th>진행상태</th>\n",
       "      <th>종료여부</th>\n",
       "      <th>요청</th>\n",
       "      <th>인입채널_UTM</th>\n",
       "    </tr>\n",
       "  </thead>\n",
       "  <tbody>\n",
       "  </tbody>\n",
       "</table>\n",
       "<p>0 rows × 22 columns</p>\n",
       "</div>"
      ],
      "text/plain": [
       "Empty DataFrame\n",
       "Columns: [견적번호, 견적일, 유입경로, 유입경로_상세, 지역, 주소_시군구, 주소_읍면동, 주소_번지, 아파트명, 전체주소, 평수, 대상구분, 시공대상, 시공범위, 공사예산_고객예산, 공사예산_CS확인예산, 계약번호, DB 유형, 진행상태, 종료여부, 요청, 인입채널_UTM]\n",
       "Index: []\n",
       "\n",
       "[0 rows x 22 columns]"
      ]
     },
     "execution_count": 244,
     "metadata": {},
     "output_type": "execute_result"
    }
   ],
   "source": [
    "kj[kj['주소_번지'].isnull()]"
   ]
  },
  {
   "cell_type": "code",
   "execution_count": 245,
   "metadata": {},
   "outputs": [
    {
     "data": {
      "text/html": [
       "<div>\n",
       "<style scoped>\n",
       "    .dataframe tbody tr th:only-of-type {\n",
       "        vertical-align: middle;\n",
       "    }\n",
       "\n",
       "    .dataframe tbody tr th {\n",
       "        vertical-align: top;\n",
       "    }\n",
       "\n",
       "    .dataframe thead th {\n",
       "        text-align: right;\n",
       "    }\n",
       "</style>\n",
       "<table border=\"1\" class=\"dataframe\">\n",
       "  <thead>\n",
       "    <tr style=\"text-align: right;\">\n",
       "      <th></th>\n",
       "      <th>견적번호</th>\n",
       "      <th>견적일</th>\n",
       "      <th>유입경로</th>\n",
       "      <th>유입경로_상세</th>\n",
       "      <th>지역</th>\n",
       "      <th>주소_시군구</th>\n",
       "      <th>주소_읍면동</th>\n",
       "      <th>주소_번지</th>\n",
       "      <th>아파트명</th>\n",
       "      <th>전체주소</th>\n",
       "      <th>...</th>\n",
       "      <th>시공대상</th>\n",
       "      <th>시공범위</th>\n",
       "      <th>공사예산_고객예산</th>\n",
       "      <th>공사예산_CS확인예산</th>\n",
       "      <th>계약번호</th>\n",
       "      <th>DB 유형</th>\n",
       "      <th>진행상태</th>\n",
       "      <th>종료여부</th>\n",
       "      <th>요청</th>\n",
       "      <th>인입채널_UTM</th>\n",
       "    </tr>\n",
       "  </thead>\n",
       "  <tbody>\n",
       "    <tr>\n",
       "      <td>7</td>\n",
       "      <td>199898</td>\n",
       "      <td>2019-07-31 13:37</td>\n",
       "      <td>웹</td>\n",
       "      <td>PC웹간편</td>\n",
       "      <td>광주광역시</td>\n",
       "      <td>북구</td>\n",
       "      <td>용봉동</td>\n",
       "      <td>-</td>\n",
       "      <td>NaN</td>\n",
       "      <td>광주광역시 북구 용봉동</td>\n",
       "      <td>...</td>\n",
       "      <td>아파트</td>\n",
       "      <td>전체</td>\n",
       "      <td>3,000만원 ~ 4,000만원 미만</td>\n",
       "      <td>NaN</td>\n",
       "      <td>NaN</td>\n",
       "      <td>NaN</td>\n",
       "      <td>전화상담</td>\n",
       "      <td>종료됨</td>\n",
       "      <td>평수: 40평 / 공사기간: 20일 / 공사금액: 40,000,000</td>\n",
       "      <td>NaN</td>\n",
       "    </tr>\n",
       "    <tr>\n",
       "      <td>11</td>\n",
       "      <td>199877</td>\n",
       "      <td>2019-07-31 11:22</td>\n",
       "      <td>웹</td>\n",
       "      <td>PC웹간편</td>\n",
       "      <td>-</td>\n",
       "      <td>-</td>\n",
       "      <td>-</td>\n",
       "      <td>-</td>\n",
       "      <td>NaN</td>\n",
       "      <td>NaN</td>\n",
       "      <td>...</td>\n",
       "      <td>아파트</td>\n",
       "      <td>전체</td>\n",
       "      <td>NaN</td>\n",
       "      <td>3,000만원 ~ 4,000만원 미만</td>\n",
       "      <td>NaN</td>\n",
       "      <td>주거-고급</td>\n",
       "      <td>전화상담</td>\n",
       "      <td>종료됨</td>\n",
       "      <td>안양 평촌동 인덕원대우 33평 \\r\\n샷시포함 올수리</td>\n",
       "      <td>NaN</td>\n",
       "    </tr>\n",
       "    <tr>\n",
       "      <td>23</td>\n",
       "      <td>199796</td>\n",
       "      <td>2019-07-30 16:30</td>\n",
       "      <td>웹</td>\n",
       "      <td>모바일웹간편</td>\n",
       "      <td>-</td>\n",
       "      <td>-</td>\n",
       "      <td>-</td>\n",
       "      <td>-</td>\n",
       "      <td>NaN</td>\n",
       "      <td>NaN</td>\n",
       "      <td>...</td>\n",
       "      <td>아파트</td>\n",
       "      <td>전체</td>\n",
       "      <td>NaN</td>\n",
       "      <td>NaN</td>\n",
       "      <td>NaN</td>\n",
       "      <td>NaN</td>\n",
       "      <td>전화상담</td>\n",
       "      <td>종료됨</td>\n",
       "      <td>NaN</td>\n",
       "      <td>페이스북</td>\n",
       "    </tr>\n",
       "    <tr>\n",
       "      <td>32</td>\n",
       "      <td>199706</td>\n",
       "      <td>2019-07-30 13:23</td>\n",
       "      <td>웹</td>\n",
       "      <td>PC웹간편</td>\n",
       "      <td>인천광역시</td>\n",
       "      <td>-</td>\n",
       "      <td>-</td>\n",
       "      <td>-</td>\n",
       "      <td>NaN</td>\n",
       "      <td>인천광역시</td>\n",
       "      <td>...</td>\n",
       "      <td>아파트</td>\n",
       "      <td>전체</td>\n",
       "      <td>NaN</td>\n",
       "      <td>NaN</td>\n",
       "      <td>NaN</td>\n",
       "      <td>NaN</td>\n",
       "      <td>전화상담</td>\n",
       "      <td>종료됨</td>\n",
       "      <td>21평형(전용;15.6평)</td>\n",
       "      <td>다음검색광고_PC</td>\n",
       "    </tr>\n",
       "    <tr>\n",
       "      <td>48</td>\n",
       "      <td>199475</td>\n",
       "      <td>2019-07-29 13:26</td>\n",
       "      <td>앱</td>\n",
       "      <td>안드로이드간편</td>\n",
       "      <td>경기도</td>\n",
       "      <td>고양시 일산서구</td>\n",
       "      <td>-</td>\n",
       "      <td>-</td>\n",
       "      <td>NaN</td>\n",
       "      <td>경기도 고양시 일산서구</td>\n",
       "      <td>...</td>\n",
       "      <td>아파트</td>\n",
       "      <td>전체</td>\n",
       "      <td>NaN</td>\n",
       "      <td>NaN</td>\n",
       "      <td>NaN</td>\n",
       "      <td>NaN</td>\n",
       "      <td>전화상담</td>\n",
       "      <td>종료됨</td>\n",
       "      <td>일산 59평 아파트 전체 리모델링 견적원합니다.\\r\\n메일로 견적 부탁합니다.(근무...</td>\n",
       "      <td>NaN</td>\n",
       "    </tr>\n",
       "    <tr>\n",
       "      <td>...</td>\n",
       "      <td>...</td>\n",
       "      <td>...</td>\n",
       "      <td>...</td>\n",
       "      <td>...</td>\n",
       "      <td>...</td>\n",
       "      <td>...</td>\n",
       "      <td>...</td>\n",
       "      <td>...</td>\n",
       "      <td>...</td>\n",
       "      <td>...</td>\n",
       "      <td>...</td>\n",
       "      <td>...</td>\n",
       "      <td>...</td>\n",
       "      <td>...</td>\n",
       "      <td>...</td>\n",
       "      <td>...</td>\n",
       "      <td>...</td>\n",
       "      <td>...</td>\n",
       "      <td>...</td>\n",
       "      <td>...</td>\n",
       "      <td>...</td>\n",
       "    </tr>\n",
       "    <tr>\n",
       "      <td>8113</td>\n",
       "      <td>202145</td>\n",
       "      <td>2019-08-12 12:56</td>\n",
       "      <td>앱</td>\n",
       "      <td>안드로이드간편</td>\n",
       "      <td>경기도</td>\n",
       "      <td>고양시 덕양구</td>\n",
       "      <td>-</td>\n",
       "      <td>-</td>\n",
       "      <td>NaN</td>\n",
       "      <td>경기도 고양시 덕양구</td>\n",
       "      <td>...</td>\n",
       "      <td>아파트</td>\n",
       "      <td>전체</td>\n",
       "      <td>NaN</td>\n",
       "      <td>2,000만원 ~ 3,000만원 미만</td>\n",
       "      <td>NaN</td>\n",
       "      <td>주거-기본</td>\n",
       "      <td>전화상담</td>\n",
       "      <td>종료됨</td>\n",
       "      <td>24평 복도식 아파트\\r\\n\\r\\n전체 리모델링</td>\n",
       "      <td>NaN</td>\n",
       "    </tr>\n",
       "    <tr>\n",
       "      <td>8140</td>\n",
       "      <td>201710</td>\n",
       "      <td>2019-08-09 13:47</td>\n",
       "      <td>앱</td>\n",
       "      <td>안드로이드간편</td>\n",
       "      <td>경기도</td>\n",
       "      <td>성남시 분당구</td>\n",
       "      <td>-</td>\n",
       "      <td>-</td>\n",
       "      <td>NaN</td>\n",
       "      <td>경기도 성남시 분당구</td>\n",
       "      <td>...</td>\n",
       "      <td>아파트</td>\n",
       "      <td>전체</td>\n",
       "      <td>NaN</td>\n",
       "      <td>2,000만원 ~ 3,000만원 미만</td>\n",
       "      <td>NaN</td>\n",
       "      <td>주거-기본</td>\n",
       "      <td>전화상담</td>\n",
       "      <td>종료됨</td>\n",
       "      <td>주소: 이매동 청구 609동 24평형(구형)\\r\\n\\r\\n-주방: 모던(화이트) 전...</td>\n",
       "      <td>NaN</td>\n",
       "    </tr>\n",
       "    <tr>\n",
       "      <td>8151</td>\n",
       "      <td>201574</td>\n",
       "      <td>2019-08-08 17:39</td>\n",
       "      <td>웹</td>\n",
       "      <td>모바일웹간편</td>\n",
       "      <td>서울특별시</td>\n",
       "      <td>양천구</td>\n",
       "      <td>-</td>\n",
       "      <td>-</td>\n",
       "      <td>NaN</td>\n",
       "      <td>서울특별시 양천구</td>\n",
       "      <td>...</td>\n",
       "      <td>아파트</td>\n",
       "      <td>전체</td>\n",
       "      <td>NaN</td>\n",
       "      <td>1,000만원 ~ 2,000만원 미만</td>\n",
       "      <td>NaN</td>\n",
       "      <td>주거-기본</td>\n",
       "      <td>전화상담</td>\n",
       "      <td>종료됨</td>\n",
       "      <td>13</td>\n",
       "      <td>LMS</td>\n",
       "    </tr>\n",
       "    <tr>\n",
       "      <td>8178</td>\n",
       "      <td>201089</td>\n",
       "      <td>2019-08-06 12:11</td>\n",
       "      <td>콜</td>\n",
       "      <td>검색</td>\n",
       "      <td>전라북도</td>\n",
       "      <td>군산시</td>\n",
       "      <td>-</td>\n",
       "      <td>-</td>\n",
       "      <td>NaN</td>\n",
       "      <td>전라북도 군산시</td>\n",
       "      <td>...</td>\n",
       "      <td>아파트</td>\n",
       "      <td>전체</td>\n",
       "      <td>NaN</td>\n",
       "      <td>3,000만원 ~ 4,000만원 미만</td>\n",
       "      <td>NaN</td>\n",
       "      <td>주거-고급</td>\n",
       "      <td>전화상담</td>\n",
       "      <td>종료됨</td>\n",
       "      <td>NaN</td>\n",
       "      <td>NaN</td>\n",
       "    </tr>\n",
       "    <tr>\n",
       "      <td>8213</td>\n",
       "      <td>200455</td>\n",
       "      <td>2019-08-03 16:05</td>\n",
       "      <td>웹</td>\n",
       "      <td>모바일웹간편</td>\n",
       "      <td>경기도</td>\n",
       "      <td>구리시</td>\n",
       "      <td>수택동</td>\n",
       "      <td>879</td>\n",
       "      <td>NaN</td>\n",
       "      <td>경기도 구리시 수택동 879</td>\n",
       "      <td>...</td>\n",
       "      <td>아파트</td>\n",
       "      <td>전체</td>\n",
       "      <td>NaN</td>\n",
       "      <td>2,000만원 ~ 3,000만원 미만</td>\n",
       "      <td>10216.0</td>\n",
       "      <td>주거-기본</td>\n",
       "      <td>공사완료</td>\n",
       "      <td>종료됨</td>\n",
       "      <td>구리 토평주공아파트 24평형 이구요\\r\\n9월20일이 잔금이라 그 이후에 진행예정이...</td>\n",
       "      <td>NaN</td>\n",
       "    </tr>\n",
       "  </tbody>\n",
       "</table>\n",
       "<p>859 rows × 22 columns</p>\n",
       "</div>"
      ],
      "text/plain": [
       "        견적번호               견적일 유입경로  유입경로_상세     지역    주소_시군구 주소_읍면동 주소_번지  \\\n",
       "7     199898  2019-07-31 13:37    웹    PC웹간편  광주광역시        북구    용봉동     -   \n",
       "11    199877  2019-07-31 11:22    웹    PC웹간편      -         -      -     -   \n",
       "23    199796  2019-07-30 16:30    웹   모바일웹간편      -         -      -     -   \n",
       "32    199706  2019-07-30 13:23    웹    PC웹간편  인천광역시         -      -     -   \n",
       "48    199475  2019-07-29 13:26    앱  안드로이드간편    경기도  고양시 일산서구      -     -   \n",
       "...      ...               ...  ...      ...    ...       ...    ...   ...   \n",
       "8113  202145  2019-08-12 12:56    앱  안드로이드간편    경기도   고양시 덕양구      -     -   \n",
       "8140  201710  2019-08-09 13:47    앱  안드로이드간편    경기도   성남시 분당구      -     -   \n",
       "8151  201574  2019-08-08 17:39    웹   모바일웹간편  서울특별시       양천구      -     -   \n",
       "8178  201089  2019-08-06 12:11    콜       검색   전라북도       군산시      -     -   \n",
       "8213  200455  2019-08-03 16:05    웹   모바일웹간편    경기도       구리시    수택동   879   \n",
       "\n",
       "     아파트명             전체주소  ...  시공대상 시공범위             공사예산_고객예산  \\\n",
       "7     NaN     광주광역시 북구 용봉동  ...   아파트   전체  3,000만원 ~ 4,000만원 미만   \n",
       "11    NaN              NaN  ...   아파트   전체                   NaN   \n",
       "23    NaN              NaN  ...   아파트   전체                   NaN   \n",
       "32    NaN            인천광역시  ...   아파트   전체                   NaN   \n",
       "48    NaN     경기도 고양시 일산서구  ...   아파트   전체                   NaN   \n",
       "...   ...              ...  ...   ...  ...                   ...   \n",
       "8113  NaN      경기도 고양시 덕양구  ...   아파트   전체                   NaN   \n",
       "8140  NaN      경기도 성남시 분당구  ...   아파트   전체                   NaN   \n",
       "8151  NaN        서울특별시 양천구  ...   아파트   전체                   NaN   \n",
       "8178  NaN         전라북도 군산시  ...   아파트   전체                   NaN   \n",
       "8213  NaN  경기도 구리시 수택동 879  ...   아파트   전체                   NaN   \n",
       "\n",
       "               공사예산_CS확인예산     계약번호  DB 유형  진행상태 종료여부  \\\n",
       "7                      NaN      NaN    NaN  전화상담  종료됨   \n",
       "11    3,000만원 ~ 4,000만원 미만      NaN  주거-고급  전화상담  종료됨   \n",
       "23                     NaN      NaN    NaN  전화상담  종료됨   \n",
       "32                     NaN      NaN    NaN  전화상담  종료됨   \n",
       "48                     NaN      NaN    NaN  전화상담  종료됨   \n",
       "...                    ...      ...    ...   ...  ...   \n",
       "8113  2,000만원 ~ 3,000만원 미만      NaN  주거-기본  전화상담  종료됨   \n",
       "8140  2,000만원 ~ 3,000만원 미만      NaN  주거-기본  전화상담  종료됨   \n",
       "8151  1,000만원 ~ 2,000만원 미만      NaN  주거-기본  전화상담  종료됨   \n",
       "8178  3,000만원 ~ 4,000만원 미만      NaN  주거-고급  전화상담  종료됨   \n",
       "8213  2,000만원 ~ 3,000만원 미만  10216.0  주거-기본  공사완료  종료됨   \n",
       "\n",
       "                                                     요청   인입채널_UTM  \n",
       "7                평수: 40평 / 공사기간: 20일 / 공사금액: 40,000,000        NaN  \n",
       "11                       안양 평촌동 인덕원대우 33평 \\r\\n샷시포함 올수리         NaN  \n",
       "23                                                  NaN       페이스북  \n",
       "32                                       21평형(전용;15.6평)  다음검색광고_PC  \n",
       "48    일산 59평 아파트 전체 리모델링 견적원합니다.\\r\\n메일로 견적 부탁합니다.(근무...        NaN  \n",
       "...                                                 ...        ...  \n",
       "8113                         24평 복도식 아파트\\r\\n\\r\\n전체 리모델링        NaN  \n",
       "8140  주소: 이매동 청구 609동 24평형(구형)\\r\\n\\r\\n-주방: 모던(화이트) 전...        NaN  \n",
       "8151                                                 13        LMS  \n",
       "8178                                                NaN        NaN  \n",
       "8213  구리 토평주공아파트 24평형 이구요\\r\\n9월20일이 잔금이라 그 이후에 진행예정이...        NaN  \n",
       "\n",
       "[859 rows x 22 columns]"
      ]
     },
     "execution_count": 245,
     "metadata": {},
     "output_type": "execute_result"
    }
   ],
   "source": [
    "kj[kj['아파트명'].isnull()]"
   ]
  },
  {
   "cell_type": "code",
   "execution_count": 247,
   "metadata": {},
   "outputs": [],
   "source": [
    "kj.loc[kj['아파트명'].isnull(),'아파트명'] = '-'"
   ]
  },
  {
   "cell_type": "code",
   "execution_count": 248,
   "metadata": {},
   "outputs": [
    {
     "data": {
      "text/html": [
       "<div>\n",
       "<style scoped>\n",
       "    .dataframe tbody tr th:only-of-type {\n",
       "        vertical-align: middle;\n",
       "    }\n",
       "\n",
       "    .dataframe tbody tr th {\n",
       "        vertical-align: top;\n",
       "    }\n",
       "\n",
       "    .dataframe thead th {\n",
       "        text-align: right;\n",
       "    }\n",
       "</style>\n",
       "<table border=\"1\" class=\"dataframe\">\n",
       "  <thead>\n",
       "    <tr style=\"text-align: right;\">\n",
       "      <th></th>\n",
       "      <th>견적번호</th>\n",
       "      <th>견적일</th>\n",
       "      <th>유입경로</th>\n",
       "      <th>유입경로_상세</th>\n",
       "      <th>지역</th>\n",
       "      <th>주소_시군구</th>\n",
       "      <th>주소_읍면동</th>\n",
       "      <th>주소_번지</th>\n",
       "      <th>아파트명</th>\n",
       "      <th>전체주소</th>\n",
       "      <th>...</th>\n",
       "      <th>시공대상</th>\n",
       "      <th>시공범위</th>\n",
       "      <th>공사예산_고객예산</th>\n",
       "      <th>공사예산_CS확인예산</th>\n",
       "      <th>계약번호</th>\n",
       "      <th>DB 유형</th>\n",
       "      <th>진행상태</th>\n",
       "      <th>종료여부</th>\n",
       "      <th>요청</th>\n",
       "      <th>인입채널_UTM</th>\n",
       "    </tr>\n",
       "  </thead>\n",
       "  <tbody>\n",
       "  </tbody>\n",
       "</table>\n",
       "<p>0 rows × 22 columns</p>\n",
       "</div>"
      ],
      "text/plain": [
       "Empty DataFrame\n",
       "Columns: [견적번호, 견적일, 유입경로, 유입경로_상세, 지역, 주소_시군구, 주소_읍면동, 주소_번지, 아파트명, 전체주소, 평수, 대상구분, 시공대상, 시공범위, 공사예산_고객예산, 공사예산_CS확인예산, 계약번호, DB 유형, 진행상태, 종료여부, 요청, 인입채널_UTM]\n",
       "Index: []\n",
       "\n",
       "[0 rows x 22 columns]"
      ]
     },
     "execution_count": 248,
     "metadata": {},
     "output_type": "execute_result"
    }
   ],
   "source": [
    "kj[kj['아파트명'].isnull()]"
   ]
  },
  {
   "cell_type": "code",
   "execution_count": 251,
   "metadata": {},
   "outputs": [],
   "source": [
    "kj.loc[kj['전체주소'].isnull(),'전체주소'] = '-'"
   ]
  },
  {
   "cell_type": "code",
   "execution_count": 252,
   "metadata": {},
   "outputs": [
    {
     "data": {
      "text/html": [
       "<div>\n",
       "<style scoped>\n",
       "    .dataframe tbody tr th:only-of-type {\n",
       "        vertical-align: middle;\n",
       "    }\n",
       "\n",
       "    .dataframe tbody tr th {\n",
       "        vertical-align: top;\n",
       "    }\n",
       "\n",
       "    .dataframe thead th {\n",
       "        text-align: right;\n",
       "    }\n",
       "</style>\n",
       "<table border=\"1\" class=\"dataframe\">\n",
       "  <thead>\n",
       "    <tr style=\"text-align: right;\">\n",
       "      <th></th>\n",
       "      <th>견적번호</th>\n",
       "      <th>견적일</th>\n",
       "      <th>유입경로</th>\n",
       "      <th>유입경로_상세</th>\n",
       "      <th>지역</th>\n",
       "      <th>주소_시군구</th>\n",
       "      <th>주소_읍면동</th>\n",
       "      <th>주소_번지</th>\n",
       "      <th>아파트명</th>\n",
       "      <th>전체주소</th>\n",
       "      <th>...</th>\n",
       "      <th>시공대상</th>\n",
       "      <th>시공범위</th>\n",
       "      <th>공사예산_고객예산</th>\n",
       "      <th>공사예산_CS확인예산</th>\n",
       "      <th>계약번호</th>\n",
       "      <th>DB 유형</th>\n",
       "      <th>진행상태</th>\n",
       "      <th>종료여부</th>\n",
       "      <th>요청</th>\n",
       "      <th>인입채널_UTM</th>\n",
       "    </tr>\n",
       "  </thead>\n",
       "  <tbody>\n",
       "  </tbody>\n",
       "</table>\n",
       "<p>0 rows × 22 columns</p>\n",
       "</div>"
      ],
      "text/plain": [
       "Empty DataFrame\n",
       "Columns: [견적번호, 견적일, 유입경로, 유입경로_상세, 지역, 주소_시군구, 주소_읍면동, 주소_번지, 아파트명, 전체주소, 평수, 대상구분, 시공대상, 시공범위, 공사예산_고객예산, 공사예산_CS확인예산, 계약번호, DB 유형, 진행상태, 종료여부, 요청, 인입채널_UTM]\n",
       "Index: []\n",
       "\n",
       "[0 rows x 22 columns]"
      ]
     },
     "execution_count": 252,
     "metadata": {},
     "output_type": "execute_result"
    }
   ],
   "source": [
    "kj[kj['전체주소'].isnull()]"
   ]
  },
  {
   "cell_type": "code",
   "execution_count": 253,
   "metadata": {},
   "outputs": [
    {
     "data": {
      "text/plain": [
       "견적번호              0\n",
       "견적일               0\n",
       "유입경로              0\n",
       "유입경로_상세           0\n",
       "지역                0\n",
       "주소_시군구            0\n",
       "주소_읍면동            0\n",
       "주소_번지             0\n",
       "아파트명              0\n",
       "전체주소              0\n",
       "평수               37\n",
       "대상구분              0\n",
       "시공대상              0\n",
       "시공범위              0\n",
       "공사예산_고객예산      5509\n",
       "공사예산_CS확인예산     252\n",
       "계약번호           6812\n",
       "DB 유형           272\n",
       "진행상태              0\n",
       "종료여부              0\n",
       "요청             2312\n",
       "인입채널_UTM       6998\n",
       "dtype: int64"
      ]
     },
     "execution_count": 253,
     "metadata": {},
     "output_type": "execute_result"
    }
   ],
   "source": [
    "8246-kj.count()"
   ]
  },
  {
   "cell_type": "markdown",
   "metadata": {},
   "source": [
    "## 공사예산 결측치 처리"
   ]
  },
  {
   "cell_type": "code",
   "execution_count": 260,
   "metadata": {},
   "outputs": [],
   "source": [
    "kj.loc[kj['공사예산_고객예산'].isnull(),'공사예산_고객예산'] = '-'"
   ]
  },
  {
   "cell_type": "code",
   "execution_count": 261,
   "metadata": {},
   "outputs": [],
   "source": [
    "kj.loc[kj['공사예산_CS확인예산'].isnull(),'공사예산_CS확인예산'] = '-'"
   ]
  },
  {
   "cell_type": "code",
   "execution_count": 262,
   "metadata": {},
   "outputs": [
    {
     "data": {
      "text/plain": [
       "견적번호              0\n",
       "견적일               0\n",
       "유입경로              0\n",
       "유입경로_상세           0\n",
       "지역                0\n",
       "주소_시군구            0\n",
       "주소_읍면동            0\n",
       "주소_번지             0\n",
       "아파트명              0\n",
       "전체주소              0\n",
       "평수               37\n",
       "대상구분              0\n",
       "시공대상              0\n",
       "시공범위              0\n",
       "공사예산_고객예산         0\n",
       "공사예산_CS확인예산       0\n",
       "계약번호           6812\n",
       "DB 유형           272\n",
       "진행상태              0\n",
       "종료여부              0\n",
       "요청             2312\n",
       "인입채널_UTM       6998\n",
       "dtype: int64"
      ]
     },
     "execution_count": 262,
     "metadata": {},
     "output_type": "execute_result"
    }
   ],
   "source": [
    "8246-kj.count()"
   ]
  },
  {
   "cell_type": "code",
   "execution_count": 263,
   "metadata": {},
   "outputs": [
    {
     "data": {
      "text/plain": [
       "견적번호             int64\n",
       "견적일             object\n",
       "유입경로            object\n",
       "유입경로_상세         object\n",
       "지역              object\n",
       "주소_시군구          object\n",
       "주소_읍면동          object\n",
       "주소_번지           object\n",
       "아파트명            object\n",
       "전체주소            object\n",
       "평수             float64\n",
       "대상구분            object\n",
       "시공대상            object\n",
       "시공범위            object\n",
       "공사예산_고객예산       object\n",
       "공사예산_CS확인예산     object\n",
       "계약번호           float64\n",
       "DB 유형           object\n",
       "진행상태            object\n",
       "종료여부            object\n",
       "요청              object\n",
       "인입채널_UTM        object\n",
       "dtype: object"
      ]
     },
     "execution_count": 263,
     "metadata": {},
     "output_type": "execute_result"
    }
   ],
   "source": [
    "kj.dtypes"
   ]
  },
  {
   "cell_type": "markdown",
   "metadata": {},
   "source": [
    "## DB유형 결측치 처리"
   ]
  },
  {
   "cell_type": "code",
   "execution_count": 264,
   "metadata": {},
   "outputs": [],
   "source": [
    "kj.loc[kj['DB 유형'].isnull(),'DB 유형'] = '-'"
   ]
  },
  {
   "cell_type": "code",
   "execution_count": 265,
   "metadata": {},
   "outputs": [
    {
     "data": {
      "text/plain": [
       "견적번호              0\n",
       "견적일               0\n",
       "유입경로              0\n",
       "유입경로_상세           0\n",
       "지역                0\n",
       "주소_시군구            0\n",
       "주소_읍면동            0\n",
       "주소_번지             0\n",
       "아파트명              0\n",
       "전체주소              0\n",
       "평수               37\n",
       "대상구분              0\n",
       "시공대상              0\n",
       "시공범위              0\n",
       "공사예산_고객예산         0\n",
       "공사예산_CS확인예산       0\n",
       "계약번호           6812\n",
       "DB 유형             0\n",
       "진행상태              0\n",
       "종료여부              0\n",
       "요청             2312\n",
       "인입채널_UTM       6998\n",
       "dtype: int64"
      ]
     },
     "execution_count": 265,
     "metadata": {},
     "output_type": "execute_result"
    }
   ],
   "source": [
    "8246-kj.count()"
   ]
  },
  {
   "cell_type": "code",
   "execution_count": 270,
   "metadata": {},
   "outputs": [],
   "source": [
    "kj = kj.rename({'DB 유형': 'DB유형'}, axis = 'columns')"
   ]
  },
  {
   "cell_type": "code",
   "execution_count": 271,
   "metadata": {},
   "outputs": [
    {
     "data": {
      "text/plain": [
       "Index(['견적번호', '견적일', '유입경로', '유입경로_상세', '지역', '주소_시군구', '주소_읍면동', '주소_번지',\n",
       "       '아파트명', '전체주소', '평수', '대상구분', '시공대상', '시공범위', '공사예산_고객예산',\n",
       "       '공사예산_CS확인예산', '계약번호', 'DB유형', '진행상태', '종료여부', '요청', '인입채널_UTM'],\n",
       "      dtype='object')"
      ]
     },
     "execution_count": 271,
     "metadata": {},
     "output_type": "execute_result"
    }
   ],
   "source": [
    "kj.columns"
   ]
  },
  {
   "cell_type": "markdown",
   "metadata": {},
   "source": [
    "## 요청, 인입채널_UTM 결측치 처리"
   ]
  },
  {
   "cell_type": "code",
   "execution_count": 272,
   "metadata": {},
   "outputs": [],
   "source": [
    "kj.loc[kj['요청'].isnull(),'요청'] = '-'\n",
    "kj.loc[kj['인입채널_UTM'].isnull(),'인입채널_UTM'] = '-'"
   ]
  },
  {
   "cell_type": "code",
   "execution_count": 273,
   "metadata": {},
   "outputs": [
    {
     "data": {
      "text/plain": [
       "견적번호              0\n",
       "견적일               0\n",
       "유입경로              0\n",
       "유입경로_상세           0\n",
       "지역                0\n",
       "주소_시군구            0\n",
       "주소_읍면동            0\n",
       "주소_번지             0\n",
       "아파트명              0\n",
       "전체주소              0\n",
       "평수               37\n",
       "대상구분              0\n",
       "시공대상              0\n",
       "시공범위              0\n",
       "공사예산_고객예산         0\n",
       "공사예산_CS확인예산       0\n",
       "계약번호           6812\n",
       "DB유형              0\n",
       "진행상태              0\n",
       "종료여부              0\n",
       "요청                0\n",
       "인입채널_UTM          0\n",
       "dtype: int64"
      ]
     },
     "execution_count": 273,
     "metadata": {},
     "output_type": "execute_result"
    }
   ],
   "source": [
    "8246-kj.count()"
   ]
  },
  {
   "cell_type": "code",
   "execution_count": 275,
   "metadata": {},
   "outputs": [],
   "source": [
    "kj.to_csv('../data/전처리완료/집닥_견적DB_최종.csv', header=True, index=False)"
   ]
  },
  {
   "cell_type": "code",
   "execution_count": 276,
   "metadata": {},
   "outputs": [],
   "source": [
    "kj = pd.read_csv('../data/전처리완료/집닥_견적DB_최종.csv')"
   ]
  },
  {
   "cell_type": "code",
   "execution_count": 277,
   "metadata": {},
   "outputs": [
    {
     "data": {
      "text/plain": [
       "견적번호              0\n",
       "견적일               0\n",
       "유입경로              0\n",
       "유입경로_상세           0\n",
       "지역                0\n",
       "주소_시군구            0\n",
       "주소_읍면동            0\n",
       "주소_번지             0\n",
       "아파트명              0\n",
       "전체주소              0\n",
       "평수               37\n",
       "대상구분              0\n",
       "시공대상              0\n",
       "시공범위              0\n",
       "공사예산_고객예산         0\n",
       "공사예산_CS확인예산       0\n",
       "계약번호           6812\n",
       "DB유형              0\n",
       "진행상태              0\n",
       "종료여부              0\n",
       "요청                0\n",
       "인입채널_UTM          0\n",
       "dtype: int64"
      ]
     },
     "execution_count": 277,
     "metadata": {},
     "output_type": "execute_result"
    }
   ],
   "source": [
    "8246-kj.count()"
   ]
  },
  {
   "cell_type": "markdown",
   "metadata": {},
   "source": [
    "# 2020.03.25"
   ]
  },
  {
   "cell_type": "code",
   "execution_count": 1,
   "metadata": {},
   "outputs": [],
   "source": [
    "import pandas as pd"
   ]
  },
  {
   "cell_type": "code",
   "execution_count": 4,
   "metadata": {},
   "outputs": [],
   "source": [
    "kj = pd.read_csv('../data/전처리완료/집닥_견적DB_최종.csv')"
   ]
  },
  {
   "cell_type": "code",
   "execution_count": 5,
   "metadata": {},
   "outputs": [
    {
     "data": {
      "text/html": [
       "<div>\n",
       "<style scoped>\n",
       "    .dataframe tbody tr th:only-of-type {\n",
       "        vertical-align: middle;\n",
       "    }\n",
       "\n",
       "    .dataframe tbody tr th {\n",
       "        vertical-align: top;\n",
       "    }\n",
       "\n",
       "    .dataframe thead th {\n",
       "        text-align: right;\n",
       "    }\n",
       "</style>\n",
       "<table border=\"1\" class=\"dataframe\">\n",
       "  <thead>\n",
       "    <tr style=\"text-align: right;\">\n",
       "      <th></th>\n",
       "      <th>견적번호</th>\n",
       "      <th>견적일</th>\n",
       "      <th>유입경로</th>\n",
       "      <th>유입경로_상세</th>\n",
       "      <th>지역</th>\n",
       "      <th>주소_시군구</th>\n",
       "      <th>주소_읍면동</th>\n",
       "      <th>주소_번지</th>\n",
       "      <th>아파트명</th>\n",
       "      <th>전체주소</th>\n",
       "      <th>...</th>\n",
       "      <th>시공대상</th>\n",
       "      <th>시공범위</th>\n",
       "      <th>공사예산_고객예산</th>\n",
       "      <th>공사예산_CS확인예산</th>\n",
       "      <th>계약번호</th>\n",
       "      <th>DB유형</th>\n",
       "      <th>진행상태</th>\n",
       "      <th>종료여부</th>\n",
       "      <th>요청</th>\n",
       "      <th>인입채널_UTM</th>\n",
       "    </tr>\n",
       "  </thead>\n",
       "  <tbody>\n",
       "    <tr>\n",
       "      <td>23</td>\n",
       "      <td>199796</td>\n",
       "      <td>2019-07-30 16:30</td>\n",
       "      <td>웹</td>\n",
       "      <td>모바일웹간편</td>\n",
       "      <td>-</td>\n",
       "      <td>-</td>\n",
       "      <td>-</td>\n",
       "      <td>-</td>\n",
       "      <td>-</td>\n",
       "      <td>-</td>\n",
       "      <td>...</td>\n",
       "      <td>아파트</td>\n",
       "      <td>전체</td>\n",
       "      <td>-</td>\n",
       "      <td>-</td>\n",
       "      <td>NaN</td>\n",
       "      <td>-</td>\n",
       "      <td>전화상담</td>\n",
       "      <td>종료됨</td>\n",
       "      <td>-</td>\n",
       "      <td>페이스북</td>\n",
       "    </tr>\n",
       "    <tr>\n",
       "      <td>53</td>\n",
       "      <td>199334</td>\n",
       "      <td>2019-07-29 7:41</td>\n",
       "      <td>웹</td>\n",
       "      <td>모바일웹간편</td>\n",
       "      <td>-</td>\n",
       "      <td>-</td>\n",
       "      <td>-</td>\n",
       "      <td>-</td>\n",
       "      <td>-</td>\n",
       "      <td>-</td>\n",
       "      <td>...</td>\n",
       "      <td>아파트</td>\n",
       "      <td>전체</td>\n",
       "      <td>-</td>\n",
       "      <td>-</td>\n",
       "      <td>NaN</td>\n",
       "      <td>-</td>\n",
       "      <td>전화상담</td>\n",
       "      <td>종료됨</td>\n",
       "      <td>3천만원 예산, 46평형, 방 4개, 화장실 2개, 야외테라스</td>\n",
       "      <td>-</td>\n",
       "    </tr>\n",
       "    <tr>\n",
       "      <td>55</td>\n",
       "      <td>199301</td>\n",
       "      <td>2019-07-28 21:37</td>\n",
       "      <td>웹</td>\n",
       "      <td>모바일웹간편</td>\n",
       "      <td>-</td>\n",
       "      <td>-</td>\n",
       "      <td>-</td>\n",
       "      <td>-</td>\n",
       "      <td>-</td>\n",
       "      <td>-</td>\n",
       "      <td>...</td>\n",
       "      <td>아파트</td>\n",
       "      <td>전체</td>\n",
       "      <td>-</td>\n",
       "      <td>-</td>\n",
       "      <td>NaN</td>\n",
       "      <td>-</td>\n",
       "      <td>전화상담</td>\n",
       "      <td>종료됨</td>\n",
       "      <td>34평형 분당구축 올수리</td>\n",
       "      <td>아파트실거래가_통합</td>\n",
       "    </tr>\n",
       "    <tr>\n",
       "      <td>62</td>\n",
       "      <td>199140</td>\n",
       "      <td>2019-07-27 13:48</td>\n",
       "      <td>웹</td>\n",
       "      <td>모바일웹간편</td>\n",
       "      <td>-</td>\n",
       "      <td>-</td>\n",
       "      <td>-</td>\n",
       "      <td>-</td>\n",
       "      <td>-</td>\n",
       "      <td>-</td>\n",
       "      <td>...</td>\n",
       "      <td>아파트</td>\n",
       "      <td>전체</td>\n",
       "      <td>-</td>\n",
       "      <td>-</td>\n",
       "      <td>NaN</td>\n",
       "      <td>-</td>\n",
       "      <td>전화상담</td>\n",
       "      <td>종료됨</td>\n",
       "      <td>34평 전체리모델링</td>\n",
       "      <td>네이버검색광고_Mobile</td>\n",
       "    </tr>\n",
       "    <tr>\n",
       "      <td>82</td>\n",
       "      <td>198890</td>\n",
       "      <td>2019-07-25 23:01</td>\n",
       "      <td>웹</td>\n",
       "      <td>모바일웹간편</td>\n",
       "      <td>-</td>\n",
       "      <td>-</td>\n",
       "      <td>-</td>\n",
       "      <td>-</td>\n",
       "      <td>-</td>\n",
       "      <td>-</td>\n",
       "      <td>...</td>\n",
       "      <td>아파트</td>\n",
       "      <td>전체</td>\n",
       "      <td>-</td>\n",
       "      <td>-</td>\n",
       "      <td>NaN</td>\n",
       "      <td>-</td>\n",
       "      <td>전화상담</td>\n",
       "      <td>종료됨</td>\n",
       "      <td>49평\\r\\n\\r\\n5000만</td>\n",
       "      <td>네이버검색광고_Mobile</td>\n",
       "    </tr>\n",
       "    <tr>\n",
       "      <td>...</td>\n",
       "      <td>...</td>\n",
       "      <td>...</td>\n",
       "      <td>...</td>\n",
       "      <td>...</td>\n",
       "      <td>...</td>\n",
       "      <td>...</td>\n",
       "      <td>...</td>\n",
       "      <td>...</td>\n",
       "      <td>...</td>\n",
       "      <td>...</td>\n",
       "      <td>...</td>\n",
       "      <td>...</td>\n",
       "      <td>...</td>\n",
       "      <td>...</td>\n",
       "      <td>...</td>\n",
       "      <td>...</td>\n",
       "      <td>...</td>\n",
       "      <td>...</td>\n",
       "      <td>...</td>\n",
       "      <td>...</td>\n",
       "      <td>...</td>\n",
       "    </tr>\n",
       "    <tr>\n",
       "      <td>2946</td>\n",
       "      <td>165133</td>\n",
       "      <td>2019-03-31 18:26</td>\n",
       "      <td>웹</td>\n",
       "      <td>모바일웹간편</td>\n",
       "      <td>-</td>\n",
       "      <td>-</td>\n",
       "      <td>-</td>\n",
       "      <td>-</td>\n",
       "      <td>-</td>\n",
       "      <td>-</td>\n",
       "      <td>...</td>\n",
       "      <td>아파트</td>\n",
       "      <td>전체</td>\n",
       "      <td>-</td>\n",
       "      <td>1,000만원 ~ 2,000만원 미만</td>\n",
       "      <td>NaN</td>\n",
       "      <td>주거-기본</td>\n",
       "      <td>전화상담</td>\n",
       "      <td>종료됨</td>\n",
       "      <td>28평형</td>\n",
       "      <td>-</td>\n",
       "    </tr>\n",
       "    <tr>\n",
       "      <td>2949</td>\n",
       "      <td>165108</td>\n",
       "      <td>2019-03-31 16:13</td>\n",
       "      <td>웹</td>\n",
       "      <td>모바일웹간편</td>\n",
       "      <td>-</td>\n",
       "      <td>-</td>\n",
       "      <td>-</td>\n",
       "      <td>-</td>\n",
       "      <td>-</td>\n",
       "      <td>-</td>\n",
       "      <td>...</td>\n",
       "      <td>아파트</td>\n",
       "      <td>전체</td>\n",
       "      <td>-</td>\n",
       "      <td>1,000만원 ~ 2,000만원 미만</td>\n",
       "      <td>NaN</td>\n",
       "      <td>주거-기본</td>\n",
       "      <td>전화상담</td>\n",
       "      <td>종료됨</td>\n",
       "      <td>-</td>\n",
       "      <td>-</td>\n",
       "    </tr>\n",
       "    <tr>\n",
       "      <td>2959</td>\n",
       "      <td>165063</td>\n",
       "      <td>2019-03-31 9:42</td>\n",
       "      <td>웹</td>\n",
       "      <td>모바일웹간편</td>\n",
       "      <td>-</td>\n",
       "      <td>-</td>\n",
       "      <td>-</td>\n",
       "      <td>-</td>\n",
       "      <td>-</td>\n",
       "      <td>-</td>\n",
       "      <td>...</td>\n",
       "      <td>아파트</td>\n",
       "      <td>전체</td>\n",
       "      <td>-</td>\n",
       "      <td>5,000만원 ~ 6,000만원 미만</td>\n",
       "      <td>NaN</td>\n",
       "      <td>주거-고급</td>\n",
       "      <td>전화상담</td>\n",
       "      <td>종료됨</td>\n",
       "      <td>-</td>\n",
       "      <td>-</td>\n",
       "    </tr>\n",
       "    <tr>\n",
       "      <td>2996</td>\n",
       "      <td>164587</td>\n",
       "      <td>2019-03-28 19:53</td>\n",
       "      <td>웹</td>\n",
       "      <td>모바일웹간편</td>\n",
       "      <td>-</td>\n",
       "      <td>-</td>\n",
       "      <td>-</td>\n",
       "      <td>-</td>\n",
       "      <td>-</td>\n",
       "      <td>-</td>\n",
       "      <td>...</td>\n",
       "      <td>아파트</td>\n",
       "      <td>전체</td>\n",
       "      <td>-</td>\n",
       "      <td>2,000만원 ~ 3,000만원 미만</td>\n",
       "      <td>NaN</td>\n",
       "      <td>주거-기본</td>\n",
       "      <td>전화상담</td>\n",
       "      <td>종료됨</td>\n",
       "      <td>34평 화장실, 도배 ,싱크대,바닥\\r\\n시공할때 드는비용은 얼마인지요?</td>\n",
       "      <td>-</td>\n",
       "    </tr>\n",
       "    <tr>\n",
       "      <td>3026</td>\n",
       "      <td>164346</td>\n",
       "      <td>2019-03-27 19:56</td>\n",
       "      <td>웹</td>\n",
       "      <td>모바일웹간편</td>\n",
       "      <td>-</td>\n",
       "      <td>-</td>\n",
       "      <td>-</td>\n",
       "      <td>-</td>\n",
       "      <td>-</td>\n",
       "      <td>-</td>\n",
       "      <td>...</td>\n",
       "      <td>아파트</td>\n",
       "      <td>전체</td>\n",
       "      <td>-</td>\n",
       "      <td>2,000만원 ~ 3,000만원 미만</td>\n",
       "      <td>NaN</td>\n",
       "      <td>주거-기본</td>\n",
       "      <td>전화상담</td>\n",
       "      <td>종료됨</td>\n",
       "      <td>47평 전체리모델링</td>\n",
       "      <td>-</td>\n",
       "    </tr>\n",
       "  </tbody>\n",
       "</table>\n",
       "<p>118 rows × 22 columns</p>\n",
       "</div>"
      ],
      "text/plain": [
       "        견적번호               견적일 유입경로 유입경로_상세 지역 주소_시군구 주소_읍면동 주소_번지 아파트명 전체주소  \\\n",
       "23    199796  2019-07-30 16:30    웹  모바일웹간편  -      -      -     -    -    -   \n",
       "53    199334   2019-07-29 7:41    웹  모바일웹간편  -      -      -     -    -    -   \n",
       "55    199301  2019-07-28 21:37    웹  모바일웹간편  -      -      -     -    -    -   \n",
       "62    199140  2019-07-27 13:48    웹  모바일웹간편  -      -      -     -    -    -   \n",
       "82    198890  2019-07-25 23:01    웹  모바일웹간편  -      -      -     -    -    -   \n",
       "...      ...               ...  ...     ... ..    ...    ...   ...  ...  ...   \n",
       "2946  165133  2019-03-31 18:26    웹  모바일웹간편  -      -      -     -    -    -   \n",
       "2949  165108  2019-03-31 16:13    웹  모바일웹간편  -      -      -     -    -    -   \n",
       "2959  165063   2019-03-31 9:42    웹  모바일웹간편  -      -      -     -    -    -   \n",
       "2996  164587  2019-03-28 19:53    웹  모바일웹간편  -      -      -     -    -    -   \n",
       "3026  164346  2019-03-27 19:56    웹  모바일웹간편  -      -      -     -    -    -   \n",
       "\n",
       "      ...  시공대상 시공범위 공사예산_고객예산           공사예산_CS확인예산 계약번호   DB유형  진행상태 종료여부  \\\n",
       "23    ...   아파트   전체         -                     -  NaN      -  전화상담  종료됨   \n",
       "53    ...   아파트   전체         -                     -  NaN      -  전화상담  종료됨   \n",
       "55    ...   아파트   전체         -                     -  NaN      -  전화상담  종료됨   \n",
       "62    ...   아파트   전체         -                     -  NaN      -  전화상담  종료됨   \n",
       "82    ...   아파트   전체         -                     -  NaN      -  전화상담  종료됨   \n",
       "...   ...   ...  ...       ...                   ...  ...    ...   ...  ...   \n",
       "2946  ...   아파트   전체         -  1,000만원 ~ 2,000만원 미만  NaN  주거-기본  전화상담  종료됨   \n",
       "2949  ...   아파트   전체         -  1,000만원 ~ 2,000만원 미만  NaN  주거-기본  전화상담  종료됨   \n",
       "2959  ...   아파트   전체         -  5,000만원 ~ 6,000만원 미만  NaN  주거-고급  전화상담  종료됨   \n",
       "2996  ...   아파트   전체         -  2,000만원 ~ 3,000만원 미만  NaN  주거-기본  전화상담  종료됨   \n",
       "3026  ...   아파트   전체         -  2,000만원 ~ 3,000만원 미만  NaN  주거-기본  전화상담  종료됨   \n",
       "\n",
       "                                            요청        인입채널_UTM  \n",
       "23                                           -            페이스북  \n",
       "53          3천만원 예산, 46평형, 방 4개, 화장실 2개, 야외테라스               -  \n",
       "55                              34평형 분당구축 올수리       아파트실거래가_통합  \n",
       "62                                  34평 전체리모델링  네이버검색광고_Mobile  \n",
       "82                            49평\\r\\n\\r\\n5000만  네이버검색광고_Mobile  \n",
       "...                                        ...             ...  \n",
       "2946                                      28평형               -  \n",
       "2949                                         -               -  \n",
       "2959                                         -               -  \n",
       "2996  34평 화장실, 도배 ,싱크대,바닥\\r\\n시공할때 드는비용은 얼마인지요?               -  \n",
       "3026                                47평 전체리모델링               -  \n",
       "\n",
       "[118 rows x 22 columns]"
      ]
     },
     "execution_count": 5,
     "metadata": {},
     "output_type": "execute_result"
    }
   ],
   "source": [
    "kj[kj['지역']=='-']"
   ]
  },
  {
   "cell_type": "code",
   "execution_count": 11,
   "metadata": {},
   "outputs": [],
   "source": [
    "kj2 = kj[kj['지역'] != '-']"
   ]
  },
  {
   "cell_type": "code",
   "execution_count": 10,
   "metadata": {},
   "outputs": [
    {
     "data": {
      "text/plain": [
       "(8246, 22)"
      ]
     },
     "execution_count": 10,
     "metadata": {},
     "output_type": "execute_result"
    }
   ],
   "source": [
    "kj.shape"
   ]
  },
  {
   "cell_type": "code",
   "execution_count": 12,
   "metadata": {},
   "outputs": [
    {
     "data": {
      "text/plain": [
       "(8128, 22)"
      ]
     },
     "execution_count": 12,
     "metadata": {},
     "output_type": "execute_result"
    }
   ],
   "source": [
    "kj2.shape"
   ]
  },
  {
   "cell_type": "code",
   "execution_count": 13,
   "metadata": {},
   "outputs": [],
   "source": [
    "kj2.to_csv('../data/전처리완료/집닥_견적DB_최종.csv', header=True, index=False)"
   ]
  },
  {
   "cell_type": "code",
   "execution_count": 14,
   "metadata": {},
   "outputs": [
    {
     "data": {
      "text/html": [
       "<div>\n",
       "<style scoped>\n",
       "    .dataframe tbody tr th:only-of-type {\n",
       "        vertical-align: middle;\n",
       "    }\n",
       "\n",
       "    .dataframe tbody tr th {\n",
       "        vertical-align: top;\n",
       "    }\n",
       "\n",
       "    .dataframe thead th {\n",
       "        text-align: right;\n",
       "    }\n",
       "</style>\n",
       "<table border=\"1\" class=\"dataframe\">\n",
       "  <thead>\n",
       "    <tr style=\"text-align: right;\">\n",
       "      <th></th>\n",
       "      <th>견적번호</th>\n",
       "      <th>견적일</th>\n",
       "      <th>유입경로</th>\n",
       "      <th>유입경로_상세</th>\n",
       "      <th>지역</th>\n",
       "      <th>주소_시군구</th>\n",
       "      <th>주소_읍면동</th>\n",
       "      <th>주소_번지</th>\n",
       "      <th>아파트명</th>\n",
       "      <th>전체주소</th>\n",
       "      <th>...</th>\n",
       "      <th>시공대상</th>\n",
       "      <th>시공범위</th>\n",
       "      <th>공사예산_고객예산</th>\n",
       "      <th>공사예산_CS확인예산</th>\n",
       "      <th>계약번호</th>\n",
       "      <th>DB유형</th>\n",
       "      <th>진행상태</th>\n",
       "      <th>종료여부</th>\n",
       "      <th>요청</th>\n",
       "      <th>인입채널_UTM</th>\n",
       "    </tr>\n",
       "  </thead>\n",
       "  <tbody>\n",
       "    <tr>\n",
       "      <td>288</td>\n",
       "      <td>196039</td>\n",
       "      <td>2019-07-13 8:04</td>\n",
       "      <td>앱</td>\n",
       "      <td>안드로이드간편</td>\n",
       "      <td>경기도</td>\n",
       "      <td>오산시</td>\n",
       "      <td>-</td>\n",
       "      <td>-</td>\n",
       "      <td>-</td>\n",
       "      <td>경기도 오산시</td>\n",
       "      <td>...</td>\n",
       "      <td>아파트</td>\n",
       "      <td>전체</td>\n",
       "      <td>-</td>\n",
       "      <td>1,000만원 미만</td>\n",
       "      <td>NaN</td>\n",
       "      <td>단종</td>\n",
       "      <td>전화상담</td>\n",
       "      <td>종료됨</td>\n",
       "      <td>오늘중으로 가능한가요? 샷시, 타일등 견적신청이요</td>\n",
       "      <td>-</td>\n",
       "    </tr>\n",
       "    <tr>\n",
       "      <td>492</td>\n",
       "      <td>193322</td>\n",
       "      <td>2019-07-03 15:33</td>\n",
       "      <td>웹</td>\n",
       "      <td>PC웹간편</td>\n",
       "      <td>경기도</td>\n",
       "      <td>안성시</td>\n",
       "      <td>아양동</td>\n",
       "      <td>384</td>\n",
       "      <td>아양2차아파트</td>\n",
       "      <td>경기도 안성시 아양동 384</td>\n",
       "      <td>...</td>\n",
       "      <td>아파트</td>\n",
       "      <td>전체</td>\n",
       "      <td>-</td>\n",
       "      <td>1,000만원 미만</td>\n",
       "      <td>NaN</td>\n",
       "      <td>단종</td>\n",
       "      <td>방문상담</td>\n",
       "      <td>진행중</td>\n",
       "      <td>17평형, 7/17 공사 시작 가능,\\r\\n400만원 세입자용 인테리어</td>\n",
       "      <td>네이버검색광고_PC</td>\n",
       "    </tr>\n",
       "    <tr>\n",
       "      <td>1268</td>\n",
       "      <td>181309</td>\n",
       "      <td>2019-05-25 16:13</td>\n",
       "      <td>웹</td>\n",
       "      <td>PC웹간편</td>\n",
       "      <td>경기도</td>\n",
       "      <td>고양시 일산동구</td>\n",
       "      <td>백석동</td>\n",
       "      <td>1325</td>\n",
       "      <td>디아뜨크리스탈오피스텔</td>\n",
       "      <td>경기도 고양시 일산동구 백석동 1325</td>\n",
       "      <td>...</td>\n",
       "      <td>아파트</td>\n",
       "      <td>전체</td>\n",
       "      <td>-</td>\n",
       "      <td>1,000만원 미만</td>\n",
       "      <td>NaN</td>\n",
       "      <td>단종</td>\n",
       "      <td>방문상담</td>\n",
       "      <td>진행중</td>\n",
       "      <td>실 66m2의 복층 오피스텔이구요\\r\\n거주용이 아닌 임대용 목적입니다.\\r\\n예산...</td>\n",
       "      <td>-</td>\n",
       "    </tr>\n",
       "    <tr>\n",
       "      <td>1283</td>\n",
       "      <td>181192</td>\n",
       "      <td>2019-05-25 6:57</td>\n",
       "      <td>웹</td>\n",
       "      <td>모바일웹간편</td>\n",
       "      <td>충청남도</td>\n",
       "      <td>천안시 동남구</td>\n",
       "      <td>봉명동</td>\n",
       "      <td>494</td>\n",
       "      <td>청솔3차아파트</td>\n",
       "      <td>충청남도 천안시 동남구 봉명동 494</td>\n",
       "      <td>...</td>\n",
       "      <td>아파트</td>\n",
       "      <td>전체</td>\n",
       "      <td>-</td>\n",
       "      <td>1,000만원 미만</td>\n",
       "      <td>NaN</td>\n",
       "      <td>단종</td>\n",
       "      <td>전화상담</td>\n",
       "      <td>종료됨</td>\n",
       "      <td>22평 일주일정도</td>\n",
       "      <td>-</td>\n",
       "    </tr>\n",
       "    <tr>\n",
       "      <td>1514</td>\n",
       "      <td>178735</td>\n",
       "      <td>2019-05-17 12:48</td>\n",
       "      <td>앱</td>\n",
       "      <td>안드로이드간편</td>\n",
       "      <td>서울특별시</td>\n",
       "      <td>중구</td>\n",
       "      <td>-</td>\n",
       "      <td>-</td>\n",
       "      <td>-</td>\n",
       "      <td>서울특별시 중구</td>\n",
       "      <td>...</td>\n",
       "      <td>아파트</td>\n",
       "      <td>전체</td>\n",
       "      <td>-</td>\n",
       "      <td>1,000만원 미만</td>\n",
       "      <td>NaN</td>\n",
       "      <td>단종</td>\n",
       "      <td>전화상담</td>\n",
       "      <td>종료됨</td>\n",
       "      <td>전용면적 27평\\r\\n전반적 공사\\r\\n도배.장판.싱크대.각종 페인트.천창공사.창문 샤시</td>\n",
       "      <td>-</td>\n",
       "    </tr>\n",
       "    <tr>\n",
       "      <td>1520</td>\n",
       "      <td>178713</td>\n",
       "      <td>2019-05-17 11:26</td>\n",
       "      <td>외부</td>\n",
       "      <td>페이스북</td>\n",
       "      <td>경기도</td>\n",
       "      <td>고양시 일산동구</td>\n",
       "      <td>마두동</td>\n",
       "      <td>757</td>\n",
       "      <td>강촌마을 동아아파트</td>\n",
       "      <td>경기도 고양시 일산동구 마두동 757</td>\n",
       "      <td>...</td>\n",
       "      <td>아파트</td>\n",
       "      <td>전체</td>\n",
       "      <td>-</td>\n",
       "      <td>1,000만원 미만</td>\n",
       "      <td>NaN</td>\n",
       "      <td>단종</td>\n",
       "      <td>전화상담</td>\n",
       "      <td>종료됨</td>\n",
       "      <td>-</td>\n",
       "      <td>-</td>\n",
       "    </tr>\n",
       "    <tr>\n",
       "      <td>3165</td>\n",
       "      <td>163070</td>\n",
       "      <td>2019-03-22 16:11</td>\n",
       "      <td>웹</td>\n",
       "      <td>PC웹상세</td>\n",
       "      <td>서울특별시</td>\n",
       "      <td>강북구</td>\n",
       "      <td>수유동</td>\n",
       "      <td>Jul-95</td>\n",
       "      <td>수유동 이테크밸리 오피스텔</td>\n",
       "      <td>서울특별시 강북구 수유동 95-7</td>\n",
       "      <td>...</td>\n",
       "      <td>아파트</td>\n",
       "      <td>전체</td>\n",
       "      <td>-</td>\n",
       "      <td>1,000만원 미만</td>\n",
       "      <td>NaN</td>\n",
       "      <td>단종</td>\n",
       "      <td>방문상담</td>\n",
       "      <td>진행중</td>\n",
       "      <td>안녕하세요.\\r\\n견적 문의 드립니다.\\r\\n\\r\\n- 오피스텔 원룸. 전용면적 3...</td>\n",
       "      <td>-</td>\n",
       "    </tr>\n",
       "    <tr>\n",
       "      <td>3565</td>\n",
       "      <td>159780</td>\n",
       "      <td>2019-03-08 12:16</td>\n",
       "      <td>외부</td>\n",
       "      <td>숨고</td>\n",
       "      <td>경상남도</td>\n",
       "      <td>거제시</td>\n",
       "      <td>고현동</td>\n",
       "      <td>1062</td>\n",
       "      <td>거제2차덕산베스트타운</td>\n",
       "      <td>경상남도 거제시 고현동 1062</td>\n",
       "      <td>...</td>\n",
       "      <td>아파트</td>\n",
       "      <td>전체</td>\n",
       "      <td>1,000만원 ~ 2,000만원 미만</td>\n",
       "      <td>1,000만원 미만</td>\n",
       "      <td>NaN</td>\n",
       "      <td>단종</td>\n",
       "      <td>전화상담</td>\n",
       "      <td>종료됨</td>\n",
       "      <td>인테리어를 원하시는 범위는 어떻게 되나요?\\r\\n기타: 집 일부분\\r\\n집은 몇 평...</td>\n",
       "      <td>-</td>\n",
       "    </tr>\n",
       "    <tr>\n",
       "      <td>3873</td>\n",
       "      <td>157244</td>\n",
       "      <td>2019-02-25 22:28</td>\n",
       "      <td>웹</td>\n",
       "      <td>모바일웹간편</td>\n",
       "      <td>충청북도</td>\n",
       "      <td>청주시 흥덕구</td>\n",
       "      <td>신봉동</td>\n",
       "      <td>529</td>\n",
       "      <td>한성아파트</td>\n",
       "      <td>충청북도 청주시 흥덕구 신봉동 529</td>\n",
       "      <td>...</td>\n",
       "      <td>아파트</td>\n",
       "      <td>전체</td>\n",
       "      <td>-</td>\n",
       "      <td>1,000만원 미만</td>\n",
       "      <td>NaN</td>\n",
       "      <td>단종</td>\n",
       "      <td>전화상담</td>\n",
       "      <td>종료됨</td>\n",
       "      <td>깔끔하기 도배 및 전등 교체, 그리고 샷시 교체. \\r\\n18평, 방2칸 거실1 욕...</td>\n",
       "      <td>-</td>\n",
       "    </tr>\n",
       "    <tr>\n",
       "      <td>4048</td>\n",
       "      <td>155935</td>\n",
       "      <td>2019-02-20 1:54</td>\n",
       "      <td>웹</td>\n",
       "      <td>모바일웹간편</td>\n",
       "      <td>경기도</td>\n",
       "      <td>안양시 동안구</td>\n",
       "      <td>비산동</td>\n",
       "      <td>1109</td>\n",
       "      <td>샛별한양아파트</td>\n",
       "      <td>경기도 안양시 동안구 비산동 1109</td>\n",
       "      <td>...</td>\n",
       "      <td>아파트</td>\n",
       "      <td>전체</td>\n",
       "      <td>-</td>\n",
       "      <td>1,000만원 미만</td>\n",
       "      <td>NaN</td>\n",
       "      <td>단종</td>\n",
       "      <td>방문상담</td>\n",
       "      <td>종료됨</td>\n",
       "      <td>욕실 주방 도배 장판 베란다 현관문칠\\r\\n21평 아파트\\r\\n한달정도 여유있음</td>\n",
       "      <td>-</td>\n",
       "    </tr>\n",
       "    <tr>\n",
       "      <td>4050</td>\n",
       "      <td>155919</td>\n",
       "      <td>2019-02-19 23:33</td>\n",
       "      <td>웹</td>\n",
       "      <td>PC웹상세</td>\n",
       "      <td>대전광역시</td>\n",
       "      <td>중구</td>\n",
       "      <td>중촌동</td>\n",
       "      <td>21</td>\n",
       "      <td>주공아파트1단지</td>\n",
       "      <td>대전광역시 중구 중촌동 21</td>\n",
       "      <td>...</td>\n",
       "      <td>아파트</td>\n",
       "      <td>전체</td>\n",
       "      <td>-</td>\n",
       "      <td>1,000만원 미만</td>\n",
       "      <td>NaN</td>\n",
       "      <td>단종</td>\n",
       "      <td>방문상담</td>\n",
       "      <td>진행중</td>\n",
       "      <td>0</td>\n",
       "      <td>-</td>\n",
       "    </tr>\n",
       "    <tr>\n",
       "      <td>4331</td>\n",
       "      <td>153684</td>\n",
       "      <td>2019-02-10 22:33</td>\n",
       "      <td>앱</td>\n",
       "      <td>안드로이드간편</td>\n",
       "      <td>서울특별시</td>\n",
       "      <td>관악구</td>\n",
       "      <td>봉천동</td>\n",
       "      <td>1718-1</td>\n",
       "      <td>벽산블루밍아파트</td>\n",
       "      <td>서울특별시 관악구 봉천동 1718-1</td>\n",
       "      <td>...</td>\n",
       "      <td>아파트</td>\n",
       "      <td>전체</td>\n",
       "      <td>-</td>\n",
       "      <td>1,000만원 미만</td>\n",
       "      <td>NaN</td>\n",
       "      <td>단종</td>\n",
       "      <td>방문상담</td>\n",
       "      <td>진행중</td>\n",
       "      <td>평일 연락은 일단 문자로 시작했으면 합니다.\\r\\n서울 봉천동 아파트 전용 18평입...</td>\n",
       "      <td>-</td>\n",
       "    </tr>\n",
       "    <tr>\n",
       "      <td>4431</td>\n",
       "      <td>152966</td>\n",
       "      <td>2019-02-07 16:13</td>\n",
       "      <td>외부</td>\n",
       "      <td>98%</td>\n",
       "      <td>전라남도</td>\n",
       "      <td>순천시</td>\n",
       "      <td>-</td>\n",
       "      <td>-</td>\n",
       "      <td>-</td>\n",
       "      <td>전라남도 순천시</td>\n",
       "      <td>...</td>\n",
       "      <td>아파트</td>\n",
       "      <td>전체</td>\n",
       "      <td>-</td>\n",
       "      <td>1,000만원 미만</td>\n",
       "      <td>NaN</td>\n",
       "      <td>단종</td>\n",
       "      <td>전화상담</td>\n",
       "      <td>종료됨</td>\n",
       "      <td>전남 순천시\\r\\n</td>\n",
       "      <td>-</td>\n",
       "    </tr>\n",
       "    <tr>\n",
       "      <td>4933</td>\n",
       "      <td>149021</td>\n",
       "      <td>2019-01-17 15:31</td>\n",
       "      <td>웹</td>\n",
       "      <td>모바일웹상세</td>\n",
       "      <td>경기도</td>\n",
       "      <td>안산시 상록구</td>\n",
       "      <td>본오동</td>\n",
       "      <td>872</td>\n",
       "      <td>월드아파트</td>\n",
       "      <td>경기도 안산시 상록구 본오동 872</td>\n",
       "      <td>...</td>\n",
       "      <td>아파트</td>\n",
       "      <td>전체</td>\n",
       "      <td>-</td>\n",
       "      <td>1,000만원 미만</td>\n",
       "      <td>NaN</td>\n",
       "      <td>단종</td>\n",
       "      <td>방문상담</td>\n",
       "      <td>진행중</td>\n",
       "      <td>0</td>\n",
       "      <td>-</td>\n",
       "    </tr>\n",
       "    <tr>\n",
       "      <td>4996</td>\n",
       "      <td>148586</td>\n",
       "      <td>2019-01-15 11:09</td>\n",
       "      <td>웹</td>\n",
       "      <td>PC웹상세</td>\n",
       "      <td>서울특별시</td>\n",
       "      <td>송파구</td>\n",
       "      <td>신천동</td>\n",
       "      <td>17</td>\n",
       "      <td>파크리오</td>\n",
       "      <td>서울특별시 송파구 신천동 17</td>\n",
       "      <td>...</td>\n",
       "      <td>아파트</td>\n",
       "      <td>전체</td>\n",
       "      <td>-</td>\n",
       "      <td>1,000만원 미만</td>\n",
       "      <td>NaN</td>\n",
       "      <td>단종</td>\n",
       "      <td>방문상담</td>\n",
       "      <td>진행중</td>\n",
       "      <td>0</td>\n",
       "      <td>-</td>\n",
       "    </tr>\n",
       "    <tr>\n",
       "      <td>5053</td>\n",
       "      <td>148223</td>\n",
       "      <td>2019-01-13 21:35</td>\n",
       "      <td>웹</td>\n",
       "      <td>모바일웹간편</td>\n",
       "      <td>인천광역시</td>\n",
       "      <td>서구</td>\n",
       "      <td>청라동</td>\n",
       "      <td>Jan-85</td>\n",
       "      <td>청라한양수자인 레이크블루</td>\n",
       "      <td>인천광역시 서구 청라동 85-1</td>\n",
       "      <td>...</td>\n",
       "      <td>아파트</td>\n",
       "      <td>전체</td>\n",
       "      <td>-</td>\n",
       "      <td>1,000만원 미만</td>\n",
       "      <td>NaN</td>\n",
       "      <td>단종</td>\n",
       "      <td>방문상담</td>\n",
       "      <td>진행중</td>\n",
       "      <td>신규 입주 아파트 인테리어 문의합니다.\\r\\n한양수자인 레이크블루 84A타입\\r\\n...</td>\n",
       "      <td>-</td>\n",
       "    </tr>\n",
       "    <tr>\n",
       "      <td>5166</td>\n",
       "      <td>147338</td>\n",
       "      <td>2019-01-09 12:33</td>\n",
       "      <td>웹</td>\n",
       "      <td>모바일웹간편</td>\n",
       "      <td>경기도</td>\n",
       "      <td>안산시 상록구</td>\n",
       "      <td>건건동</td>\n",
       "      <td>987-1</td>\n",
       "      <td>건건 e-편한세상</td>\n",
       "      <td>경기도 안산시 상록구 건건동 987-1</td>\n",
       "      <td>...</td>\n",
       "      <td>아파트</td>\n",
       "      <td>전체</td>\n",
       "      <td>-</td>\n",
       "      <td>1,000만원 미만</td>\n",
       "      <td>NaN</td>\n",
       "      <td>단종</td>\n",
       "      <td>방문상담</td>\n",
       "      <td>종료됨</td>\n",
       "      <td>-</td>\n",
       "      <td>-</td>\n",
       "    </tr>\n",
       "  </tbody>\n",
       "</table>\n",
       "<p>17 rows × 22 columns</p>\n",
       "</div>"
      ],
      "text/plain": [
       "        견적번호               견적일 유입경로  유입경로_상세     지역    주소_시군구 주소_읍면동   주소_번지  \\\n",
       "288   196039   2019-07-13 8:04    앱  안드로이드간편    경기도       오산시      -       -   \n",
       "492   193322  2019-07-03 15:33    웹    PC웹간편    경기도       안성시    아양동     384   \n",
       "1268  181309  2019-05-25 16:13    웹    PC웹간편    경기도  고양시 일산동구    백석동    1325   \n",
       "1283  181192   2019-05-25 6:57    웹   모바일웹간편   충청남도   천안시 동남구    봉명동     494   \n",
       "1514  178735  2019-05-17 12:48    앱  안드로이드간편  서울특별시        중구      -       -   \n",
       "1520  178713  2019-05-17 11:26   외부     페이스북    경기도  고양시 일산동구    마두동     757   \n",
       "3165  163070  2019-03-22 16:11    웹    PC웹상세  서울특별시       강북구    수유동  Jul-95   \n",
       "3565  159780  2019-03-08 12:16   외부       숨고   경상남도       거제시    고현동    1062   \n",
       "3873  157244  2019-02-25 22:28    웹   모바일웹간편   충청북도   청주시 흥덕구    신봉동     529   \n",
       "4048  155935   2019-02-20 1:54    웹   모바일웹간편    경기도   안양시 동안구    비산동    1109   \n",
       "4050  155919  2019-02-19 23:33    웹    PC웹상세  대전광역시        중구    중촌동      21   \n",
       "4331  153684  2019-02-10 22:33    앱  안드로이드간편  서울특별시       관악구    봉천동  1718-1   \n",
       "4431  152966  2019-02-07 16:13   외부      98%   전라남도       순천시      -       -   \n",
       "4933  149021  2019-01-17 15:31    웹   모바일웹상세    경기도   안산시 상록구    본오동     872   \n",
       "4996  148586  2019-01-15 11:09    웹    PC웹상세  서울특별시       송파구    신천동      17   \n",
       "5053  148223  2019-01-13 21:35    웹   모바일웹간편  인천광역시        서구    청라동  Jan-85   \n",
       "5166  147338  2019-01-09 12:33    웹   모바일웹간편    경기도   안산시 상록구    건건동   987-1   \n",
       "\n",
       "                아파트명                   전체주소  ...  시공대상 시공범위  \\\n",
       "288                -                경기도 오산시  ...   아파트   전체   \n",
       "492          아양2차아파트        경기도 안성시 아양동 384  ...   아파트   전체   \n",
       "1268     디아뜨크리스탈오피스텔  경기도 고양시 일산동구 백석동 1325  ...   아파트   전체   \n",
       "1283         청솔3차아파트   충청남도 천안시 동남구 봉명동 494  ...   아파트   전체   \n",
       "1514               -               서울특별시 중구  ...   아파트   전체   \n",
       "1520      강촌마을 동아아파트   경기도 고양시 일산동구 마두동 757  ...   아파트   전체   \n",
       "3165  수유동 이테크밸리 오피스텔     서울특별시 강북구 수유동 95-7  ...   아파트   전체   \n",
       "3565     거제2차덕산베스트타운      경상남도 거제시 고현동 1062  ...   아파트   전체   \n",
       "3873           한성아파트   충청북도 청주시 흥덕구 신봉동 529  ...   아파트   전체   \n",
       "4048         샛별한양아파트   경기도 안양시 동안구 비산동 1109  ...   아파트   전체   \n",
       "4050        주공아파트1단지        대전광역시 중구 중촌동 21  ...   아파트   전체   \n",
       "4331        벽산블루밍아파트   서울특별시 관악구 봉천동 1718-1  ...   아파트   전체   \n",
       "4431               -               전라남도 순천시  ...   아파트   전체   \n",
       "4933           월드아파트    경기도 안산시 상록구 본오동 872  ...   아파트   전체   \n",
       "4996            파크리오       서울특별시 송파구 신천동 17  ...   아파트   전체   \n",
       "5053   청라한양수자인 레이크블루      인천광역시 서구 청라동 85-1  ...   아파트   전체   \n",
       "5166       건건 e-편한세상  경기도 안산시 상록구 건건동 987-1  ...   아파트   전체   \n",
       "\n",
       "                 공사예산_고객예산 공사예산_CS확인예산 계약번호 DB유형  진행상태 종료여부  \\\n",
       "288                      -  1,000만원 미만  NaN   단종  전화상담  종료됨   \n",
       "492                      -  1,000만원 미만  NaN   단종  방문상담  진행중   \n",
       "1268                     -  1,000만원 미만  NaN   단종  방문상담  진행중   \n",
       "1283                     -  1,000만원 미만  NaN   단종  전화상담  종료됨   \n",
       "1514                     -  1,000만원 미만  NaN   단종  전화상담  종료됨   \n",
       "1520                     -  1,000만원 미만  NaN   단종  전화상담  종료됨   \n",
       "3165                     -  1,000만원 미만  NaN   단종  방문상담  진행중   \n",
       "3565  1,000만원 ~ 2,000만원 미만  1,000만원 미만  NaN   단종  전화상담  종료됨   \n",
       "3873                     -  1,000만원 미만  NaN   단종  전화상담  종료됨   \n",
       "4048                     -  1,000만원 미만  NaN   단종  방문상담  종료됨   \n",
       "4050                     -  1,000만원 미만  NaN   단종  방문상담  진행중   \n",
       "4331                     -  1,000만원 미만  NaN   단종  방문상담  진행중   \n",
       "4431                     -  1,000만원 미만  NaN   단종  전화상담  종료됨   \n",
       "4933                     -  1,000만원 미만  NaN   단종  방문상담  진행중   \n",
       "4996                     -  1,000만원 미만  NaN   단종  방문상담  진행중   \n",
       "5053                     -  1,000만원 미만  NaN   단종  방문상담  진행중   \n",
       "5166                     -  1,000만원 미만  NaN   단종  방문상담  종료됨   \n",
       "\n",
       "                                                     요청    인입채널_UTM  \n",
       "288                         오늘중으로 가능한가요? 샷시, 타일등 견적신청이요           -  \n",
       "492             17평형, 7/17 공사 시작 가능,\\r\\n400만원 세입자용 인테리어  네이버검색광고_PC  \n",
       "1268  실 66m2의 복층 오피스텔이구요\\r\\n거주용이 아닌 임대용 목적입니다.\\r\\n예산...           -  \n",
       "1283                                         22평 일주일정도            -  \n",
       "1514  전용면적 27평\\r\\n전반적 공사\\r\\n도배.장판.싱크대.각종 페인트.천창공사.창문 샤시           -  \n",
       "1520                                                  -           -  \n",
       "3165  안녕하세요.\\r\\n견적 문의 드립니다.\\r\\n\\r\\n- 오피스텔 원룸. 전용면적 3...           -  \n",
       "3565  인테리어를 원하시는 범위는 어떻게 되나요?\\r\\n기타: 집 일부분\\r\\n집은 몇 평...           -  \n",
       "3873  깔끔하기 도배 및 전등 교체, 그리고 샷시 교체. \\r\\n18평, 방2칸 거실1 욕...           -  \n",
       "4048       욕실 주방 도배 장판 베란다 현관문칠\\r\\n21평 아파트\\r\\n한달정도 여유있음           -  \n",
       "4050                                                  0           -  \n",
       "4331  평일 연락은 일단 문자로 시작했으면 합니다.\\r\\n서울 봉천동 아파트 전용 18평입...           -  \n",
       "4431                                         전남 순천시\\r\\n           -  \n",
       "4933                                                  0           -  \n",
       "4996                                                  0           -  \n",
       "5053  신규 입주 아파트 인테리어 문의합니다.\\r\\n한양수자인 레이크블루 84A타입\\r\\n...           -  \n",
       "5166                                                  -           -  \n",
       "\n",
       "[17 rows x 22 columns]"
      ]
     },
     "execution_count": 14,
     "metadata": {},
     "output_type": "execute_result"
    }
   ],
   "source": [
    "kj2[kj2['DB유형']=='단종']"
   ]
  },
  {
   "cell_type": "markdown",
   "metadata": {},
   "source": [
    "# 추가 전처리 사항"
   ]
  },
  {
   "cell_type": "markdown",
   "metadata": {},
   "source": [
    "## 진행상태, 종료여부 삭제"
   ]
  },
  {
   "cell_type": "markdown",
   "metadata": {},
   "source": [
    "## 98%?"
   ]
  },
  {
   "cell_type": "code",
   "execution_count": 15,
   "metadata": {},
   "outputs": [],
   "source": [
    "import pandas as pd"
   ]
  },
  {
   "cell_type": "code",
   "execution_count": 16,
   "metadata": {},
   "outputs": [
    {
     "data": {
      "text/plain": [
       "Index(['견적번호', '견적일', '유입경로', '유입경로_상세', '지역', '주소_시군구', '주소_읍면동', '주소_번지',\n",
       "       '아파트명', '전체주소', '평수', '대상구분', '시공대상', '시공범위', '공사예산_고객예산',\n",
       "       '공사예산_CS확인예산', '계약번호', 'DB유형', '진행상태', '종료여부', '요청', '인입채널_UTM'],\n",
       "      dtype='object')"
      ]
     },
     "execution_count": 16,
     "metadata": {},
     "output_type": "execute_result"
    }
   ],
   "source": [
    "kj2.columns"
   ]
  },
  {
   "cell_type": "code",
   "execution_count": 17,
   "metadata": {},
   "outputs": [],
   "source": [
    "del kj2['진행상태']\n",
    "del kj2['종료여부']"
   ]
  },
  {
   "cell_type": "code",
   "execution_count": 18,
   "metadata": {},
   "outputs": [
    {
     "data": {
      "text/plain": [
       "Index(['견적번호', '견적일', '유입경로', '유입경로_상세', '지역', '주소_시군구', '주소_읍면동', '주소_번지',\n",
       "       '아파트명', '전체주소', '평수', '대상구분', '시공대상', '시공범위', '공사예산_고객예산',\n",
       "       '공사예산_CS확인예산', '계약번호', 'DB유형', '요청', '인입채널_UTM'],\n",
       "      dtype='object')"
      ]
     },
     "execution_count": 18,
     "metadata": {},
     "output_type": "execute_result"
    }
   ],
   "source": [
    "kj2.columns"
   ]
  },
  {
   "cell_type": "code",
   "execution_count": 20,
   "metadata": {},
   "outputs": [],
   "source": [
    "kj2.to_csv('../data/전처리완료/집닥_견적DB_최종.csv', header=True, index=False)"
   ]
  },
  {
   "cell_type": "code",
   "execution_count": 21,
   "metadata": {},
   "outputs": [
    {
     "data": {
      "text/plain": [
       "(8128, 20)"
      ]
     },
     "execution_count": 21,
     "metadata": {},
     "output_type": "execute_result"
    }
   ],
   "source": [
    "kj2.shape"
   ]
  },
  {
   "cell_type": "markdown",
   "metadata": {},
   "source": [
    "# 2020.03.27 전처리: DB유형 삭제, 유입경로 수정"
   ]
  },
  {
   "cell_type": "code",
   "execution_count": 1,
   "metadata": {},
   "outputs": [],
   "source": [
    "import pandas as pd"
   ]
  },
  {
   "cell_type": "code",
   "execution_count": 2,
   "metadata": {},
   "outputs": [],
   "source": [
    "kj = pd.read_csv('../data/전처리완료/집닥_견적DB_최종.csv')"
   ]
  },
  {
   "cell_type": "code",
   "execution_count": 3,
   "metadata": {},
   "outputs": [
    {
     "data": {
      "text/plain": [
       "(8128, 20)"
      ]
     },
     "execution_count": 3,
     "metadata": {},
     "output_type": "execute_result"
    }
   ],
   "source": [
    "kj.shape"
   ]
  },
  {
   "cell_type": "code",
   "execution_count": 4,
   "metadata": {},
   "outputs": [],
   "source": [
    "del kj['DB유형']"
   ]
  },
  {
   "cell_type": "code",
   "execution_count": 5,
   "metadata": {},
   "outputs": [
    {
     "data": {
      "text/plain": [
       "(8128, 19)"
      ]
     },
     "execution_count": 5,
     "metadata": {},
     "output_type": "execute_result"
    }
   ],
   "source": [
    "kj.shape"
   ]
  },
  {
   "cell_type": "code",
   "execution_count": 8,
   "metadata": {},
   "outputs": [],
   "source": [
    "kj.loc[kj['유입경로_상세']=='안드로이드상세','유입경로_상세'] = '안드로이드'"
   ]
  },
  {
   "cell_type": "code",
   "execution_count": 9,
   "metadata": {},
   "outputs": [],
   "source": [
    "kj.loc[kj['유입경로_상세']=='안드로이드간편','유입경로_상세'] = '안드로이드'"
   ]
  },
  {
   "cell_type": "code",
   "execution_count": 10,
   "metadata": {},
   "outputs": [],
   "source": [
    "kj.loc[kj['유입경로_상세']=='아이폰상세','유입경로_상세'] = '아이폰'"
   ]
  },
  {
   "cell_type": "code",
   "execution_count": 12,
   "metadata": {},
   "outputs": [],
   "source": [
    "kj.loc[kj['유입경로_상세']=='98%','유입경로_상세'] = '페이스북_98%'"
   ]
  },
  {
   "cell_type": "code",
   "execution_count": 13,
   "metadata": {},
   "outputs": [],
   "source": [
    "kj.loc[kj['유입경로_상세']=='디비디비딥','유입경로_상세'] = '페이스북_디비디비딥'"
   ]
  },
  {
   "cell_type": "code",
   "execution_count": 14,
   "metadata": {},
   "outputs": [],
   "source": [
    "kj.loc[kj['유입경로_상세']=='모바일웹간편','유입경로_상세'] = '모바일웹'"
   ]
  },
  {
   "cell_type": "code",
   "execution_count": 15,
   "metadata": {},
   "outputs": [],
   "source": [
    "kj.loc[kj['유입경로_상세']=='모바일웹상세','유입경로_상세'] = '모바일웹'"
   ]
  },
  {
   "cell_type": "code",
   "execution_count": 16,
   "metadata": {},
   "outputs": [],
   "source": [
    "kj.loc[kj['유입경로_상세']=='PC웹간편','유입경로_상세'] = 'PC웹'"
   ]
  },
  {
   "cell_type": "code",
   "execution_count": 17,
   "metadata": {},
   "outputs": [],
   "source": [
    "kj.loc[kj['유입경로_상세']=='PC웹상세','유입경로_상세'] = 'PC웹'"
   ]
  },
  {
   "cell_type": "code",
   "execution_count": 19,
   "metadata": {},
   "outputs": [],
   "source": [
    "kj.to_csv('../data/전처리완료/집닥_견적DB_최종.csv', header=True, index=False)"
   ]
  },
  {
   "cell_type": "code",
   "execution_count": 20,
   "metadata": {},
   "outputs": [],
   "source": [
    "kj.loc[kj['유입경로']=='웹상세','유입경로'] = '웹'"
   ]
  },
  {
   "cell_type": "code",
   "execution_count": 21,
   "metadata": {},
   "outputs": [],
   "source": [
    "kj.loc[kj['유입경로']=='웹간편','유입경로'] = '웹'"
   ]
  },
  {
   "cell_type": "code",
   "execution_count": 22,
   "metadata": {},
   "outputs": [],
   "source": [
    "kj.to_csv('../data/전처리완료/집닥_견적DB_최종.csv', header=True, index=False)"
   ]
  },
  {
   "cell_type": "code",
   "execution_count": 23,
   "metadata": {},
   "outputs": [
    {
     "data": {
      "text/html": [
       "<div>\n",
       "<style scoped>\n",
       "    .dataframe tbody tr th:only-of-type {\n",
       "        vertical-align: middle;\n",
       "    }\n",
       "\n",
       "    .dataframe tbody tr th {\n",
       "        vertical-align: top;\n",
       "    }\n",
       "\n",
       "    .dataframe thead th {\n",
       "        text-align: right;\n",
       "    }\n",
       "</style>\n",
       "<table border=\"1\" class=\"dataframe\">\n",
       "  <thead>\n",
       "    <tr style=\"text-align: right;\">\n",
       "      <th></th>\n",
       "      <th>견적번호</th>\n",
       "      <th>견적일</th>\n",
       "      <th>유입경로</th>\n",
       "      <th>유입경로_상세</th>\n",
       "      <th>지역</th>\n",
       "      <th>주소_시군구</th>\n",
       "      <th>주소_읍면동</th>\n",
       "      <th>주소_번지</th>\n",
       "      <th>아파트명</th>\n",
       "      <th>전체주소</th>\n",
       "      <th>평수</th>\n",
       "      <th>대상구분</th>\n",
       "      <th>시공대상</th>\n",
       "      <th>시공범위</th>\n",
       "      <th>공사예산_고객예산</th>\n",
       "      <th>공사예산_CS확인예산</th>\n",
       "      <th>계약번호</th>\n",
       "      <th>요청</th>\n",
       "      <th>인입채널_UTM</th>\n",
       "    </tr>\n",
       "  </thead>\n",
       "  <tbody>\n",
       "    <tr>\n",
       "      <td>40</td>\n",
       "      <td>199567</td>\n",
       "      <td>2019-07-29 19:20</td>\n",
       "      <td>웹</td>\n",
       "      <td>닥터아파트간편</td>\n",
       "      <td>경기도</td>\n",
       "      <td>용인시 수지구</td>\n",
       "      <td>상현동</td>\n",
       "      <td>Jun-85</td>\n",
       "      <td>서원마을 현대홈타운아파트</td>\n",
       "      <td>경기도 용인시 수지구 상현동 85-6</td>\n",
       "      <td>32.0</td>\n",
       "      <td>주거공간</td>\n",
       "      <td>아파트</td>\n",
       "      <td>전체</td>\n",
       "      <td>-</td>\n",
       "      <td>2,000만원 ~ 3,000만원 미만</td>\n",
       "      <td>NaN</td>\n",
       "      <td>32평형. 9월초 입주.</td>\n",
       "      <td>닥터아파트</td>\n",
       "    </tr>\n",
       "    <tr>\n",
       "      <td>5889</td>\n",
       "      <td>227022</td>\n",
       "      <td>2019-12-22 19:43</td>\n",
       "      <td>웹</td>\n",
       "      <td>닥터아파트간편</td>\n",
       "      <td>서울특별시</td>\n",
       "      <td>구로구</td>\n",
       "      <td>구로동</td>\n",
       "      <td>1278</td>\n",
       "      <td>구로두산위브</td>\n",
       "      <td>서울특별시 구로구 구로동 1278</td>\n",
       "      <td>16.0</td>\n",
       "      <td>주거공간</td>\n",
       "      <td>아파트</td>\n",
       "      <td>전체</td>\n",
       "      <td>-</td>\n",
       "      <td>-</td>\n",
       "      <td>NaN</td>\n",
       "      <td>주람공사  16평 복도식 구로두산위브  견적요청\\r\\nhttps://zipdoc.c...</td>\n",
       "      <td>닥터아파트</td>\n",
       "    </tr>\n",
       "    <tr>\n",
       "      <td>5987</td>\n",
       "      <td>225664</td>\n",
       "      <td>2019-12-15 22:22</td>\n",
       "      <td>웹</td>\n",
       "      <td>닥터아파트간편</td>\n",
       "      <td>경기도</td>\n",
       "      <td>안산시 단원구</td>\n",
       "      <td>고잔동</td>\n",
       "      <td>781</td>\n",
       "      <td>고잔1차푸르지오아파트</td>\n",
       "      <td>경기도 안산시 단원구 고잔동 781</td>\n",
       "      <td>44.0</td>\n",
       "      <td>주거공간</td>\n",
       "      <td>아파트</td>\n",
       "      <td>전체</td>\n",
       "      <td>-</td>\n",
       "      <td>4,000만원 ~ 5,000만원 미만</td>\n",
       "      <td>NaN</td>\n",
       "      <td>44평, 3-4주, 5천</td>\n",
       "      <td>닥터아파트</td>\n",
       "    </tr>\n",
       "    <tr>\n",
       "      <td>6413</td>\n",
       "      <td>220872</td>\n",
       "      <td>2019-11-19 14:20</td>\n",
       "      <td>웹</td>\n",
       "      <td>닥터아파트간편</td>\n",
       "      <td>인천광역시</td>\n",
       "      <td>연수구</td>\n",
       "      <td>연수동</td>\n",
       "      <td>635</td>\n",
       "      <td>연수1차우성아파트</td>\n",
       "      <td>인천광역시 연수구 연수동 635</td>\n",
       "      <td>58.0</td>\n",
       "      <td>주거공간</td>\n",
       "      <td>아파트</td>\n",
       "      <td>전체</td>\n",
       "      <td>-</td>\n",
       "      <td>6,000만원 ~ 7,000만원 미만</td>\n",
       "      <td>12268.0</td>\n",
       "      <td>바닥, 샷시, 화장실, 주방, 벽 등 전체 인테리어 리모델링,</td>\n",
       "      <td>닥터아파트</td>\n",
       "    </tr>\n",
       "  </tbody>\n",
       "</table>\n",
       "</div>"
      ],
      "text/plain": [
       "        견적번호               견적일 유입경로  유입경로_상세     지역   주소_시군구 주소_읍면동   주소_번지  \\\n",
       "40    199567  2019-07-29 19:20    웹  닥터아파트간편    경기도  용인시 수지구    상현동  Jun-85   \n",
       "5889  227022  2019-12-22 19:43    웹  닥터아파트간편  서울특별시      구로구    구로동    1278   \n",
       "5987  225664  2019-12-15 22:22    웹  닥터아파트간편    경기도  안산시 단원구    고잔동     781   \n",
       "6413  220872  2019-11-19 14:20    웹  닥터아파트간편  인천광역시      연수구    연수동     635   \n",
       "\n",
       "               아파트명                  전체주소    평수  대상구분 시공대상 시공범위 공사예산_고객예산  \\\n",
       "40    서원마을 현대홈타운아파트  경기도 용인시 수지구 상현동 85-6  32.0  주거공간  아파트   전체         -   \n",
       "5889         구로두산위브    서울특별시 구로구 구로동 1278  16.0  주거공간  아파트   전체         -   \n",
       "5987    고잔1차푸르지오아파트   경기도 안산시 단원구 고잔동 781  44.0  주거공간  아파트   전체         -   \n",
       "6413      연수1차우성아파트     인천광역시 연수구 연수동 635  58.0  주거공간  아파트   전체         -   \n",
       "\n",
       "               공사예산_CS확인예산     계약번호  \\\n",
       "40    2,000만원 ~ 3,000만원 미만      NaN   \n",
       "5889                     -      NaN   \n",
       "5987  4,000만원 ~ 5,000만원 미만      NaN   \n",
       "6413  6,000만원 ~ 7,000만원 미만  12268.0   \n",
       "\n",
       "                                                     요청 인입채널_UTM  \n",
       "40                                       32평형. 9월초 입주.     닥터아파트  \n",
       "5889  주람공사  16평 복도식 구로두산위브  견적요청\\r\\nhttps://zipdoc.c...    닥터아파트  \n",
       "5987                                      44평, 3-4주, 5천    닥터아파트  \n",
       "6413                바닥, 샷시, 화장실, 주방, 벽 등 전체 인테리어 리모델링,     닥터아파트  "
      ]
     },
     "execution_count": 23,
     "metadata": {},
     "output_type": "execute_result"
    }
   ],
   "source": [
    "kj[(kj['유입경로']=='웹')&(kj['유입경로_상세']=='닥터아파트간편')]"
   ]
  },
  {
   "cell_type": "code",
   "execution_count": 25,
   "metadata": {},
   "outputs": [],
   "source": [
    "kj.loc[(kj['유입경로']=='웹')&(kj['유입경로_상세']=='닥터아파트간편'),'유입경로'] = '외부'"
   ]
  },
  {
   "cell_type": "code",
   "execution_count": 26,
   "metadata": {},
   "outputs": [
    {
     "data": {
      "text/html": [
       "<div>\n",
       "<style scoped>\n",
       "    .dataframe tbody tr th:only-of-type {\n",
       "        vertical-align: middle;\n",
       "    }\n",
       "\n",
       "    .dataframe tbody tr th {\n",
       "        vertical-align: top;\n",
       "    }\n",
       "\n",
       "    .dataframe thead th {\n",
       "        text-align: right;\n",
       "    }\n",
       "</style>\n",
       "<table border=\"1\" class=\"dataframe\">\n",
       "  <thead>\n",
       "    <tr style=\"text-align: right;\">\n",
       "      <th></th>\n",
       "      <th>견적번호</th>\n",
       "      <th>견적일</th>\n",
       "      <th>유입경로</th>\n",
       "      <th>유입경로_상세</th>\n",
       "      <th>지역</th>\n",
       "      <th>주소_시군구</th>\n",
       "      <th>주소_읍면동</th>\n",
       "      <th>주소_번지</th>\n",
       "      <th>아파트명</th>\n",
       "      <th>전체주소</th>\n",
       "      <th>평수</th>\n",
       "      <th>대상구분</th>\n",
       "      <th>시공대상</th>\n",
       "      <th>시공범위</th>\n",
       "      <th>공사예산_고객예산</th>\n",
       "      <th>공사예산_CS확인예산</th>\n",
       "      <th>계약번호</th>\n",
       "      <th>요청</th>\n",
       "      <th>인입채널_UTM</th>\n",
       "    </tr>\n",
       "  </thead>\n",
       "  <tbody>\n",
       "  </tbody>\n",
       "</table>\n",
       "</div>"
      ],
      "text/plain": [
       "Empty DataFrame\n",
       "Columns: [견적번호, 견적일, 유입경로, 유입경로_상세, 지역, 주소_시군구, 주소_읍면동, 주소_번지, 아파트명, 전체주소, 평수, 대상구분, 시공대상, 시공범위, 공사예산_고객예산, 공사예산_CS확인예산, 계약번호, 요청, 인입채널_UTM]\n",
       "Index: []"
      ]
     },
     "execution_count": 26,
     "metadata": {},
     "output_type": "execute_result"
    }
   ],
   "source": [
    "kj[(kj['유입경로']=='웹')&(kj['유입경로_상세']=='닥터아파트간편')]"
   ]
  },
  {
   "cell_type": "code",
   "execution_count": 27,
   "metadata": {},
   "outputs": [],
   "source": [
    "kj.loc[kj['유입경로_상세']=='닥터아파트간편','유입경로_상세'] = '닥터아파트'"
   ]
  },
  {
   "cell_type": "code",
   "execution_count": 30,
   "metadata": {},
   "outputs": [],
   "source": [
    "kj.loc[(kj['유입경로']=='웹')&(kj['유입경로_상세']=='아이폰'),'유입경로_상세'] = '모바일웹'"
   ]
  },
  {
   "cell_type": "code",
   "execution_count": 31,
   "metadata": {},
   "outputs": [],
   "source": [
    "kj.to_csv('../data/전처리완료/집닥_견적DB_최종.csv', header=True, index=False)"
   ]
  },
  {
   "cell_type": "code",
   "execution_count": 1,
   "metadata": {},
   "outputs": [],
   "source": [
    "import pandas as pd"
   ]
  },
  {
   "cell_type": "code",
   "execution_count": 2,
   "metadata": {},
   "outputs": [],
   "source": [
    "kj = pd.read_csv('../data/전처리완료/집닥_견적DB_최종.csv')"
   ]
  },
  {
   "cell_type": "code",
   "execution_count": 3,
   "metadata": {},
   "outputs": [
    {
     "data": {
      "text/plain": [
       "(8128, 19)"
      ]
     },
     "execution_count": 3,
     "metadata": {},
     "output_type": "execute_result"
    }
   ],
   "source": [
    "kj.shape"
   ]
  },
  {
   "cell_type": "markdown",
   "metadata": {},
   "source": [
    "# 2020.03.30 추가전처리 - 유입경로상세 촬영 제외"
   ]
  },
  {
   "cell_type": "code",
   "execution_count": 1,
   "metadata": {},
   "outputs": [],
   "source": [
    "import pandas as pd"
   ]
  },
  {
   "cell_type": "code",
   "execution_count": 2,
   "metadata": {},
   "outputs": [],
   "source": [
    "kj = pd.read_csv('../data/전처리완료/집닥_견적DB_최종.csv')"
   ]
  },
  {
   "cell_type": "code",
   "execution_count": 3,
   "metadata": {},
   "outputs": [
    {
     "data": {
      "text/plain": [
       "(8128, 19)"
      ]
     },
     "execution_count": 3,
     "metadata": {},
     "output_type": "execute_result"
    }
   ],
   "source": [
    "kj.shape"
   ]
  },
  {
   "cell_type": "code",
   "execution_count": 7,
   "metadata": {},
   "outputs": [
    {
     "data": {
      "text/plain": [
       "24"
      ]
     },
     "execution_count": 7,
     "metadata": {},
     "output_type": "execute_result"
    }
   ],
   "source": [
    "kj[kj['유입경로_상세']=='촬영']"
   ]
  },
  {
   "cell_type": "code",
   "execution_count": 8,
   "metadata": {},
   "outputs": [],
   "source": [
    "kj2 = kj[kj['유입경로_상세']!='촬영']"
   ]
  },
  {
   "cell_type": "code",
   "execution_count": 9,
   "metadata": {},
   "outputs": [
    {
     "data": {
      "text/plain": [
       "(8104, 19)"
      ]
     },
     "execution_count": 9,
     "metadata": {},
     "output_type": "execute_result"
    }
   ],
   "source": [
    "kj2.shape"
   ]
  },
  {
   "cell_type": "code",
   "execution_count": 11,
   "metadata": {},
   "outputs": [],
   "source": [
    "kj2.to_csv('../data/전처리완료/집닥_견적DB_최종.csv', header=True, index=False)"
   ]
  },
  {
   "cell_type": "code",
   "execution_count": 3,
   "metadata": {},
   "outputs": [
    {
     "name": "stdout",
     "output_type": "stream",
     "text": [
      "<class 'pandas.core.frame.DataFrame'>\n",
      "RangeIndex: 8104 entries, 0 to 8103\n",
      "Data columns (total 19 columns):\n",
      "견적번호           8104 non-null int64\n",
      "견적일            8104 non-null object\n",
      "유입경로           8104 non-null object\n",
      "유입경로_상세        8104 non-null object\n",
      "지역             8104 non-null object\n",
      "주소_시군구         8104 non-null object\n",
      "주소_읍면동         8104 non-null object\n",
      "주소_번지          8104 non-null object\n",
      "아파트명           8104 non-null object\n",
      "전체주소           8104 non-null object\n",
      "평수             8086 non-null float64\n",
      "대상구분           8104 non-null object\n",
      "시공대상           8104 non-null object\n",
      "시공범위           8104 non-null object\n",
      "공사예산_고객예산      8104 non-null object\n",
      "공사예산_CS확인예산    8104 non-null object\n",
      "계약번호           1412 non-null float64\n",
      "요청             8104 non-null object\n",
      "인입채널_UTM       8104 non-null object\n",
      "dtypes: float64(2), int64(1), object(16)\n",
      "memory usage: 1.2+ MB\n"
     ]
    }
   ],
   "source": [
    "kj.info()"
   ]
  },
  {
   "cell_type": "code",
   "execution_count": null,
   "metadata": {},
   "outputs": [],
   "source": []
  }
 ],
 "metadata": {
  "kernelspec": {
   "display_name": "Python 3",
   "language": "python",
   "name": "python3"
  },
  "language_info": {
   "codemirror_mode": {
    "name": "ipython",
    "version": 3
   },
   "file_extension": ".py",
   "mimetype": "text/x-python",
   "name": "python",
   "nbconvert_exporter": "python",
   "pygments_lexer": "ipython3",
   "version": "3.7.4"
  }
 },
 "nbformat": 4,
 "nbformat_minor": 2
}
