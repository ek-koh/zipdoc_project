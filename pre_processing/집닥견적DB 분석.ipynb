{
 "cells": [
  {
   "cell_type": "code",
   "execution_count": 1,
   "metadata": {},
   "outputs": [],
   "source": [
    "import pandas as pd"
   ]
  },
  {
   "cell_type": "code",
   "execution_count": 2,
   "metadata": {},
   "outputs": [],
   "source": [
    "kj = pd.read_csv('../data/전처리완료/집닥_견적DB_최종.csv')"
   ]
  },
  {
   "cell_type": "code",
   "execution_count": 3,
   "metadata": {},
   "outputs": [
    {
     "data": {
      "text/html": [
       "<div>\n",
       "<style scoped>\n",
       "    .dataframe tbody tr th:only-of-type {\n",
       "        vertical-align: middle;\n",
       "    }\n",
       "\n",
       "    .dataframe tbody tr th {\n",
       "        vertical-align: top;\n",
       "    }\n",
       "\n",
       "    .dataframe thead th {\n",
       "        text-align: right;\n",
       "    }\n",
       "</style>\n",
       "<table border=\"1\" class=\"dataframe\">\n",
       "  <thead>\n",
       "    <tr style=\"text-align: right;\">\n",
       "      <th></th>\n",
       "      <th>견적번호</th>\n",
       "      <th>견적일</th>\n",
       "      <th>유입경로</th>\n",
       "      <th>유입경로_상세</th>\n",
       "      <th>지역</th>\n",
       "      <th>주소_시군구</th>\n",
       "      <th>주소_읍면동</th>\n",
       "      <th>주소_번지</th>\n",
       "      <th>아파트명</th>\n",
       "      <th>전체주소</th>\n",
       "      <th>평수</th>\n",
       "      <th>대상구분</th>\n",
       "      <th>시공대상</th>\n",
       "      <th>시공범위</th>\n",
       "      <th>공사예산_고객예산</th>\n",
       "      <th>공사예산_CS확인예산</th>\n",
       "      <th>계약번호</th>\n",
       "      <th>요청</th>\n",
       "      <th>인입채널_UTM</th>\n",
       "    </tr>\n",
       "  </thead>\n",
       "  <tbody>\n",
       "    <tr>\n",
       "      <td>0</td>\n",
       "      <td>200037</td>\n",
       "      <td>2019-07-31 21:56</td>\n",
       "      <td>웹</td>\n",
       "      <td>모바일웹</td>\n",
       "      <td>경상남도</td>\n",
       "      <td>창원시 성산구</td>\n",
       "      <td>반림동</td>\n",
       "      <td>8</td>\n",
       "      <td>럭키반림아파트</td>\n",
       "      <td>경상남도 창원시 성산구 반림동 8</td>\n",
       "      <td>31.0</td>\n",
       "      <td>주거공간</td>\n",
       "      <td>아파트</td>\n",
       "      <td>전체</td>\n",
       "      <td>-</td>\n",
       "      <td>4,000만원 ~ 5,000만원 미만</td>\n",
       "      <td>NaN</td>\n",
       "      <td>방이 4개가 필요합니다\\n안방을 아들 둘이 지낼수있도록 해서\\n부부 각 방 하나씩 ...</td>\n",
       "      <td>네이버검색광고_Mobile</td>\n",
       "    </tr>\n",
       "    <tr>\n",
       "      <td>1</td>\n",
       "      <td>200030</td>\n",
       "      <td>2019-07-31 20:31</td>\n",
       "      <td>앱</td>\n",
       "      <td>아이폰</td>\n",
       "      <td>서울특별시</td>\n",
       "      <td>강동구</td>\n",
       "      <td>명일동</td>\n",
       "      <td>54</td>\n",
       "      <td>한양아파트</td>\n",
       "      <td>서울특별시 강동구 명일동 54</td>\n",
       "      <td>42.0</td>\n",
       "      <td>주거공간</td>\n",
       "      <td>아파트</td>\n",
       "      <td>전체</td>\n",
       "      <td>-</td>\n",
       "      <td>4,000만원 ~ 5,000만원 미만</td>\n",
       "      <td>NaN</td>\n",
       "      <td>배관공사 포함 샷시 \\r\\n모두 올수리입니다</td>\n",
       "      <td>-</td>\n",
       "    </tr>\n",
       "    <tr>\n",
       "      <td>2</td>\n",
       "      <td>199988</td>\n",
       "      <td>2019-07-31 16:26</td>\n",
       "      <td>앱</td>\n",
       "      <td>안드로이드</td>\n",
       "      <td>서울특별시</td>\n",
       "      <td>강서구</td>\n",
       "      <td>가양동</td>\n",
       "      <td>1461</td>\n",
       "      <td>가양2단지아파트</td>\n",
       "      <td>서울특별시 강서구 가양동 1461</td>\n",
       "      <td>24.0</td>\n",
       "      <td>주거공간</td>\n",
       "      <td>아파트</td>\n",
       "      <td>전체</td>\n",
       "      <td>-</td>\n",
       "      <td>1,000만원 ~ 2,000만원 미만</td>\n",
       "      <td>9884.0</td>\n",
       "      <td>-</td>\n",
       "      <td>-</td>\n",
       "    </tr>\n",
       "    <tr>\n",
       "      <td>3</td>\n",
       "      <td>199970</td>\n",
       "      <td>2019-07-31 15:30</td>\n",
       "      <td>웹</td>\n",
       "      <td>PC웹</td>\n",
       "      <td>서울특별시</td>\n",
       "      <td>성북구</td>\n",
       "      <td>돈암동</td>\n",
       "      <td>644</td>\n",
       "      <td>돈암코오롱하늘채</td>\n",
       "      <td>서울특별시 성북구 돈암동 644</td>\n",
       "      <td>34.0</td>\n",
       "      <td>주거공간</td>\n",
       "      <td>아파트</td>\n",
       "      <td>전체</td>\n",
       "      <td>3,000만원 ~ 4,000만원 미만</td>\n",
       "      <td>3,000만원 ~ 4,000만원 미만</td>\n",
       "      <td>NaN</td>\n",
       "      <td>- 상담희망시간 : 무관\\r\\n- 현장위치 : 서울특별시 성북구 아리랑로 75 돈암...</td>\n",
       "      <td>-</td>\n",
       "    </tr>\n",
       "    <tr>\n",
       "      <td>4</td>\n",
       "      <td>199937</td>\n",
       "      <td>2019-07-31 14:31</td>\n",
       "      <td>외부</td>\n",
       "      <td>믹스앤픽스</td>\n",
       "      <td>서울특별시</td>\n",
       "      <td>강동구</td>\n",
       "      <td>암사동</td>\n",
       "      <td>509</td>\n",
       "      <td>선사현대아파트</td>\n",
       "      <td>서울특별시 강동구 암사동 509</td>\n",
       "      <td>34.0</td>\n",
       "      <td>주거공간</td>\n",
       "      <td>아파트</td>\n",
       "      <td>전체</td>\n",
       "      <td>-</td>\n",
       "      <td>4,000만원 ~ 5,000만원 미만</td>\n",
       "      <td>NaN</td>\n",
       "      <td>-</td>\n",
       "      <td>-</td>\n",
       "    </tr>\n",
       "  </tbody>\n",
       "</table>\n",
       "</div>"
      ],
      "text/plain": [
       "     견적번호               견적일 유입경로 유입경로_상세     지역   주소_시군구 주소_읍면동 주소_번지  \\\n",
       "0  200037  2019-07-31 21:56    웹    모바일웹   경상남도  창원시 성산구    반림동     8   \n",
       "1  200030  2019-07-31 20:31    앱     아이폰  서울특별시      강동구    명일동    54   \n",
       "2  199988  2019-07-31 16:26    앱   안드로이드  서울특별시      강서구    가양동  1461   \n",
       "3  199970  2019-07-31 15:30    웹     PC웹  서울특별시      성북구    돈암동   644   \n",
       "4  199937  2019-07-31 14:31   외부   믹스앤픽스  서울특별시      강동구    암사동   509   \n",
       "\n",
       "       아파트명                전체주소    평수  대상구분 시공대상 시공범위             공사예산_고객예산  \\\n",
       "0   럭키반림아파트  경상남도 창원시 성산구 반림동 8  31.0  주거공간  아파트   전체                     -   \n",
       "1     한양아파트    서울특별시 강동구 명일동 54  42.0  주거공간  아파트   전체                     -   \n",
       "2  가양2단지아파트  서울특별시 강서구 가양동 1461  24.0  주거공간  아파트   전체                     -   \n",
       "3  돈암코오롱하늘채   서울특별시 성북구 돈암동 644  34.0  주거공간  아파트   전체  3,000만원 ~ 4,000만원 미만   \n",
       "4   선사현대아파트   서울특별시 강동구 암사동 509  34.0  주거공간  아파트   전체                     -   \n",
       "\n",
       "            공사예산_CS확인예산    계약번호  \\\n",
       "0  4,000만원 ~ 5,000만원 미만     NaN   \n",
       "1  4,000만원 ~ 5,000만원 미만     NaN   \n",
       "2  1,000만원 ~ 2,000만원 미만  9884.0   \n",
       "3  3,000만원 ~ 4,000만원 미만     NaN   \n",
       "4  4,000만원 ~ 5,000만원 미만     NaN   \n",
       "\n",
       "                                                  요청        인입채널_UTM  \n",
       "0  방이 4개가 필요합니다\\n안방을 아들 둘이 지낼수있도록 해서\\n부부 각 방 하나씩 ...  네이버검색광고_Mobile  \n",
       "1                           배관공사 포함 샷시 \\r\\n모두 올수리입니다               -  \n",
       "2                                                  -               -  \n",
       "3  - 상담희망시간 : 무관\\r\\n- 현장위치 : 서울특별시 성북구 아리랑로 75 돈암...               -  \n",
       "4                                                  -               -  "
      ]
     },
     "execution_count": 3,
     "metadata": {},
     "output_type": "execute_result"
    }
   ],
   "source": [
    "kj.head()"
   ]
  },
  {
   "cell_type": "markdown",
   "metadata": {},
   "source": [
    "# CS확인예산별 평수 median 구하기"
   ]
  },
  {
   "cell_type": "code",
   "execution_count": 5,
   "metadata": {
    "scrolled": true
   },
   "outputs": [
    {
     "data": {
      "text/plain": [
       "array(['4,000만원 ~ 5,000만원 미만', '1,000만원 ~ 2,000만원 미만',\n",
       "       '3,000만원 ~ 4,000만원 미만', '2,000만원 ~ 3,000만원 미만', '-',\n",
       "       '5,000만원 ~ 6,000만원 미만', '6,000만원 ~ 7,000만원 미만',\n",
       "       '7,000만원 ~ 8,000만원 미만', '8,000만원 ~ 9,000만원 미만', '1억원 ~ 1.5억원 미만',\n",
       "       '1,000만원 미만', '9,000만원 ~ 1억원 미만', '1.5억원 ~ 2억원 미만',\n",
       "       '2억원 ~ 2.5억원 미만', '4억원 ~ 5억원 미만'], dtype=object)"
      ]
     },
     "execution_count": 5,
     "metadata": {},
     "output_type": "execute_result"
    }
   ],
   "source": [
    "kj['공사예산_CS확인예산'].unique()"
   ]
  },
  {
   "cell_type": "code",
   "execution_count": 14,
   "metadata": {
    "scrolled": true
   },
   "outputs": [],
   "source": [
    "area0 = kj.loc[kj['공사예산_CS확인예산']=='1,000만원 미만','평수']"
   ]
  },
  {
   "cell_type": "code",
   "execution_count": 16,
   "metadata": {},
   "outputs": [
    {
     "data": {
      "text/plain": [
       "17"
      ]
     },
     "execution_count": 16,
     "metadata": {},
     "output_type": "execute_result"
    }
   ],
   "source": [
    "len(area0)"
   ]
  },
  {
   "cell_type": "code",
   "execution_count": 17,
   "metadata": {},
   "outputs": [
    {
     "data": {
      "text/plain": [
       "270     13.0\n",
       "468     17.0\n",
       "1183    20.0\n",
       "1197    22.0\n",
       "1414    26.0\n",
       "1420    33.0\n",
       "3025    11.0\n",
       "3425    22.0\n",
       "3733    18.0\n",
       "3908    21.0\n",
       "3910    18.0\n",
       "4191    18.0\n",
       "4291    24.0\n",
       "4791    15.0\n",
       "4854    33.0\n",
       "4911    34.0\n",
       "5024    24.0\n",
       "Name: 평수, dtype: float64"
      ]
     },
     "execution_count": 17,
     "metadata": {},
     "output_type": "execute_result"
    }
   ],
   "source": [
    "area0"
   ]
  },
  {
   "cell_type": "code",
   "execution_count": 19,
   "metadata": {},
   "outputs": [
    {
     "data": {
      "text/plain": [
       "21.0"
      ]
     },
     "execution_count": 19,
     "metadata": {},
     "output_type": "execute_result"
    }
   ],
   "source": [
    "area0.median()"
   ]
  },
  {
   "cell_type": "code",
   "execution_count": 20,
   "metadata": {},
   "outputs": [],
   "source": [
    "area1 = kj.loc[kj['공사예산_CS확인예산']=='1,000만원 ~ 2,000만원 미만','평수']"
   ]
  },
  {
   "cell_type": "code",
   "execution_count": 21,
   "metadata": {},
   "outputs": [
    {
     "data": {
      "text/plain": [
       "24.0"
      ]
     },
     "execution_count": 21,
     "metadata": {},
     "output_type": "execute_result"
    }
   ],
   "source": [
    "area1.median()"
   ]
  },
  {
   "cell_type": "code",
   "execution_count": 22,
   "metadata": {},
   "outputs": [],
   "source": [
    "area2 = kj.loc[kj['공사예산_CS확인예산']=='2,000만원 ~ 3,000만원 미만','평수']"
   ]
  },
  {
   "cell_type": "code",
   "execution_count": 23,
   "metadata": {},
   "outputs": [
    {
     "data": {
      "text/plain": [
       "32.0"
      ]
     },
     "execution_count": 23,
     "metadata": {},
     "output_type": "execute_result"
    }
   ],
   "source": [
    "area2.median()"
   ]
  },
  {
   "cell_type": "code",
   "execution_count": 24,
   "metadata": {},
   "outputs": [
    {
     "data": {
      "text/plain": [
       "33.0"
      ]
     },
     "execution_count": 24,
     "metadata": {},
     "output_type": "execute_result"
    }
   ],
   "source": [
    "area3 = kj.loc[kj['공사예산_CS확인예산']=='3,000만원 ~ 4,000만원 미만','평수']\n",
    "area3.median()"
   ]
  },
  {
   "cell_type": "code",
   "execution_count": 25,
   "metadata": {},
   "outputs": [
    {
     "data": {
      "text/plain": [
       "43.0"
      ]
     },
     "execution_count": 25,
     "metadata": {},
     "output_type": "execute_result"
    }
   ],
   "source": [
    "area4 = kj.loc[kj['공사예산_CS확인예산']=='4,000만원 ~ 5,000만원 미만','평수']\n",
    "area4.median()"
   ]
  },
  {
   "cell_type": "code",
   "execution_count": 26,
   "metadata": {},
   "outputs": [
    {
     "data": {
      "text/plain": [
       "48.0"
      ]
     },
     "execution_count": 26,
     "metadata": {},
     "output_type": "execute_result"
    }
   ],
   "source": [
    "area5 = kj.loc[kj['공사예산_CS확인예산']=='5,000만원 ~ 6,000만원 미만','평수']\n",
    "area5.median()"
   ]
  },
  {
   "cell_type": "code",
   "execution_count": 27,
   "metadata": {},
   "outputs": [
    {
     "data": {
      "text/plain": [
       "53.0"
      ]
     },
     "execution_count": 27,
     "metadata": {},
     "output_type": "execute_result"
    }
   ],
   "source": [
    "area6 = kj.loc[kj['공사예산_CS확인예산']=='6,000만원 ~ 7,000만원 미만','평수']\n",
    "area6.median()"
   ]
  },
  {
   "cell_type": "code",
   "execution_count": 28,
   "metadata": {},
   "outputs": [
    {
     "data": {
      "text/plain": [
       "55.0"
      ]
     },
     "execution_count": 28,
     "metadata": {},
     "output_type": "execute_result"
    }
   ],
   "source": [
    "area7 = kj.loc[kj['공사예산_CS확인예산']=='7,000만원 ~ 8,000만원 미만','평수']\n",
    "area7.median()"
   ]
  },
  {
   "cell_type": "code",
   "execution_count": 29,
   "metadata": {},
   "outputs": [
    {
     "data": {
      "text/plain": [
       "59.0"
      ]
     },
     "execution_count": 29,
     "metadata": {},
     "output_type": "execute_result"
    }
   ],
   "source": [
    "area8 = kj.loc[kj['공사예산_CS확인예산']=='8,000만원 ~ 9,000만원 미만','평수']\n",
    "area8.median()"
   ]
  },
  {
   "cell_type": "code",
   "execution_count": 30,
   "metadata": {},
   "outputs": [
    {
     "data": {
      "text/plain": [
       "63.0"
      ]
     },
     "execution_count": 30,
     "metadata": {},
     "output_type": "execute_result"
    }
   ],
   "source": [
    "area9 = kj.loc[kj['공사예산_CS확인예산']=='9,000만원 ~ 1억원 미만','평수']\n",
    "area9.median()"
   ]
  },
  {
   "cell_type": "code",
   "execution_count": 31,
   "metadata": {},
   "outputs": [
    {
     "data": {
      "text/plain": [
       "64.0"
      ]
     },
     "execution_count": 31,
     "metadata": {},
     "output_type": "execute_result"
    }
   ],
   "source": [
    "area10 = kj.loc[kj['공사예산_CS확인예산']=='1억원 ~ 1.5억원 미만','평수']\n",
    "area10.median()"
   ]
  },
  {
   "cell_type": "code",
   "execution_count": 32,
   "metadata": {},
   "outputs": [
    {
     "data": {
      "text/plain": [
       "84.0"
      ]
     },
     "execution_count": 32,
     "metadata": {},
     "output_type": "execute_result"
    }
   ],
   "source": [
    "area15 = kj.loc[kj['공사예산_CS확인예산']=='1.5억원 ~ 2억원 미만','평수']\n",
    "area15.median()"
   ]
  },
  {
   "cell_type": "code",
   "execution_count": 34,
   "metadata": {},
   "outputs": [
    {
     "data": {
      "text/plain": [
       "3"
      ]
     },
     "execution_count": 34,
     "metadata": {},
     "output_type": "execute_result"
    }
   ],
   "source": [
    "len(area15)"
   ]
  },
  {
   "cell_type": "markdown",
   "metadata": {},
   "source": [
    "# 공사예산 중위값 생성"
   ]
  },
  {
   "cell_type": "code",
   "execution_count": 1,
   "metadata": {},
   "outputs": [],
   "source": [
    "import pandas as pd"
   ]
  },
  {
   "cell_type": "code",
   "execution_count": 2,
   "metadata": {},
   "outputs": [],
   "source": [
    "kj = pd.read_csv('../data/전처리완료/집닥_견적DB_최종.csv')"
   ]
  },
  {
   "cell_type": "code",
   "execution_count": 3,
   "metadata": {},
   "outputs": [
    {
     "data": {
      "text/plain": [
       "견적번호                                                      200037\n",
       "견적일                                             2019-07-31 21:56\n",
       "유입경로                                                           웹\n",
       "유입경로_상세                                                     모바일웹\n",
       "지역                                                          경상남도\n",
       "주소_시군구                                                   창원시 성산구\n",
       "주소_읍면동                                                       반림동\n",
       "주소_번지                                                          8\n",
       "아파트명                                                     럭키반림아파트\n",
       "전체주소                                          경상남도 창원시 성산구 반림동 8\n",
       "평수                                                            31\n",
       "대상구분                                                        주거공간\n",
       "시공대상                                                         아파트\n",
       "시공범위                                                          전체\n",
       "공사예산_고객예산                                                      -\n",
       "공사예산_CS확인예산                                 4,000만원 ~ 5,000만원 미만\n",
       "계약번호                                                         NaN\n",
       "요청             방이 4개가 필요합니다\\n안방을 아들 둘이 지낼수있도록 해서\\n부부 각 방 하나씩 ...\n",
       "인입채널_UTM                                          네이버검색광고_Mobile\n",
       "Name: 0, dtype: object"
      ]
     },
     "execution_count": 3,
     "metadata": {},
     "output_type": "execute_result"
    }
   ],
   "source": [
    "kj.iloc[0,]"
   ]
  },
  {
   "cell_type": "code",
   "execution_count": 5,
   "metadata": {},
   "outputs": [
    {
     "data": {
      "text/plain": [
       "array(['4,000만원 ~ 5,000만원 미만', '1,000만원 ~ 2,000만원 미만',\n",
       "       '3,000만원 ~ 4,000만원 미만', '2,000만원 ~ 3,000만원 미만', '-',\n",
       "       '5,000만원 ~ 6,000만원 미만', '6,000만원 ~ 7,000만원 미만',\n",
       "       '7,000만원 ~ 8,000만원 미만', '8,000만원 ~ 9,000만원 미만', '1억원 ~ 1.5억원 미만',\n",
       "       '1,000만원 미만', '9,000만원 ~ 1억원 미만', '1.5억원 ~ 2억원 미만',\n",
       "       '2억원 ~ 2.5억원 미만', '4억원 ~ 5억원 미만'], dtype=object)"
      ]
     },
     "execution_count": 5,
     "metadata": {},
     "output_type": "execute_result"
    }
   ],
   "source": [
    "kj['공사예산_CS확인예산'].unique()"
   ]
  },
  {
   "cell_type": "code",
   "execution_count": 17,
   "metadata": {},
   "outputs": [],
   "source": [
    "kj.loc[kj['공사예산_CS확인예산']=='1,000만원 미만','CS확인예산_median'] = 500"
   ]
  },
  {
   "cell_type": "code",
   "execution_count": 7,
   "metadata": {},
   "outputs": [],
   "source": [
    "kj.loc[kj['공사예산_CS확인예산']=='1,000만원 ~ 2,000만원 미만','CS확인예산_median'] = 1500"
   ]
  },
  {
   "cell_type": "code",
   "execution_count": 8,
   "metadata": {
    "collapsed": true
   },
   "outputs": [
    {
     "data": {
      "text/html": [
       "<div>\n",
       "<style scoped>\n",
       "    .dataframe tbody tr th:only-of-type {\n",
       "        vertical-align: middle;\n",
       "    }\n",
       "\n",
       "    .dataframe tbody tr th {\n",
       "        vertical-align: top;\n",
       "    }\n",
       "\n",
       "    .dataframe thead th {\n",
       "        text-align: right;\n",
       "    }\n",
       "</style>\n",
       "<table border=\"1\" class=\"dataframe\">\n",
       "  <thead>\n",
       "    <tr style=\"text-align: right;\">\n",
       "      <th></th>\n",
       "      <th>견적번호</th>\n",
       "      <th>견적일</th>\n",
       "      <th>유입경로</th>\n",
       "      <th>유입경로_상세</th>\n",
       "      <th>지역</th>\n",
       "      <th>주소_시군구</th>\n",
       "      <th>주소_읍면동</th>\n",
       "      <th>주소_번지</th>\n",
       "      <th>아파트명</th>\n",
       "      <th>전체주소</th>\n",
       "      <th>평수</th>\n",
       "      <th>대상구분</th>\n",
       "      <th>시공대상</th>\n",
       "      <th>시공범위</th>\n",
       "      <th>공사예산_고객예산</th>\n",
       "      <th>공사예산_CS확인예산</th>\n",
       "      <th>계약번호</th>\n",
       "      <th>요청</th>\n",
       "      <th>인입채널_UTM</th>\n",
       "      <th>CS확인예산_median</th>\n",
       "    </tr>\n",
       "  </thead>\n",
       "  <tbody>\n",
       "    <tr>\n",
       "      <td>2</td>\n",
       "      <td>199988</td>\n",
       "      <td>2019-07-31 16:26</td>\n",
       "      <td>앱</td>\n",
       "      <td>안드로이드</td>\n",
       "      <td>서울특별시</td>\n",
       "      <td>강서구</td>\n",
       "      <td>가양동</td>\n",
       "      <td>1461</td>\n",
       "      <td>가양2단지아파트</td>\n",
       "      <td>서울특별시 강서구 가양동 1461</td>\n",
       "      <td>24.0</td>\n",
       "      <td>주거공간</td>\n",
       "      <td>아파트</td>\n",
       "      <td>전체</td>\n",
       "      <td>-</td>\n",
       "      <td>1,000만원 ~ 2,000만원 미만</td>\n",
       "      <td>9884.0</td>\n",
       "      <td>-</td>\n",
       "      <td>-</td>\n",
       "      <td>1500.0</td>\n",
       "    </tr>\n",
       "    <tr>\n",
       "      <td>12</td>\n",
       "      <td>199876</td>\n",
       "      <td>2019-07-31 11:08</td>\n",
       "      <td>콜</td>\n",
       "      <td>소개</td>\n",
       "      <td>인천광역시</td>\n",
       "      <td>서구</td>\n",
       "      <td>가좌동</td>\n",
       "      <td>30-86</td>\n",
       "      <td>진주아파트</td>\n",
       "      <td>인천광역시 서구 가좌동 30-86</td>\n",
       "      <td>18.0</td>\n",
       "      <td>주거공간</td>\n",
       "      <td>아파트</td>\n",
       "      <td>전체</td>\n",
       "      <td>-</td>\n",
       "      <td>1,000만원 ~ 2,000만원 미만</td>\n",
       "      <td>NaN</td>\n",
       "      <td>-</td>\n",
       "      <td>-</td>\n",
       "      <td>1500.0</td>\n",
       "    </tr>\n",
       "    <tr>\n",
       "      <td>18</td>\n",
       "      <td>199824</td>\n",
       "      <td>2019-07-30 21:10</td>\n",
       "      <td>웹</td>\n",
       "      <td>모바일웹</td>\n",
       "      <td>경기도</td>\n",
       "      <td>군포시</td>\n",
       "      <td>산본동</td>\n",
       "      <td>1145</td>\n",
       "      <td>주공6단지세종아파트</td>\n",
       "      <td>경기도 군포시 산본동 1145</td>\n",
       "      <td>25.0</td>\n",
       "      <td>주거공간</td>\n",
       "      <td>아파트</td>\n",
       "      <td>전체</td>\n",
       "      <td>-</td>\n",
       "      <td>1,000만원 ~ 2,000만원 미만</td>\n",
       "      <td>NaN</td>\n",
       "      <td>공급80.49\\r\\n잔용58.46\\r\\n세종주공6단지 643동</td>\n",
       "      <td>네이버검색광고_Mobile</td>\n",
       "      <td>1500.0</td>\n",
       "    </tr>\n",
       "    <tr>\n",
       "      <td>19</td>\n",
       "      <td>199811</td>\n",
       "      <td>2019-07-30 18:20</td>\n",
       "      <td>앱</td>\n",
       "      <td>안드로이드</td>\n",
       "      <td>경상남도</td>\n",
       "      <td>통영시</td>\n",
       "      <td>도남동</td>\n",
       "      <td>505-2</td>\n",
       "      <td>한려아파트</td>\n",
       "      <td>경상남도 통영시 도남동 505-2</td>\n",
       "      <td>18.0</td>\n",
       "      <td>주거공간</td>\n",
       "      <td>아파트</td>\n",
       "      <td>전체</td>\n",
       "      <td>-</td>\n",
       "      <td>1,000만원 ~ 2,000만원 미만</td>\n",
       "      <td>NaN</td>\n",
       "      <td>18평 올수리</td>\n",
       "      <td>-</td>\n",
       "      <td>1500.0</td>\n",
       "    </tr>\n",
       "    <tr>\n",
       "      <td>25</td>\n",
       "      <td>199743</td>\n",
       "      <td>2019-07-30 13:48</td>\n",
       "      <td>웹</td>\n",
       "      <td>PC웹</td>\n",
       "      <td>서울특별시</td>\n",
       "      <td>노원구</td>\n",
       "      <td>중계동</td>\n",
       "      <td>369-7</td>\n",
       "      <td>주공2단지아파트</td>\n",
       "      <td>서울특별시 노원구 중계동 369-7</td>\n",
       "      <td>13.0</td>\n",
       "      <td>주거공간</td>\n",
       "      <td>아파트</td>\n",
       "      <td>전체</td>\n",
       "      <td>-</td>\n",
       "      <td>1,000만원 ~ 2,000만원 미만</td>\n",
       "      <td>NaN</td>\n",
       "      <td>신혼집이며, 노원 중계주공2단지 아파트입니다. 현재 전세로 내놓아 8월 31일까지 ...</td>\n",
       "      <td>-</td>\n",
       "      <td>1500.0</td>\n",
       "    </tr>\n",
       "    <tr>\n",
       "      <td>...</td>\n",
       "      <td>...</td>\n",
       "      <td>...</td>\n",
       "      <td>...</td>\n",
       "      <td>...</td>\n",
       "      <td>...</td>\n",
       "      <td>...</td>\n",
       "      <td>...</td>\n",
       "      <td>...</td>\n",
       "      <td>...</td>\n",
       "      <td>...</td>\n",
       "      <td>...</td>\n",
       "      <td>...</td>\n",
       "      <td>...</td>\n",
       "      <td>...</td>\n",
       "      <td>...</td>\n",
       "      <td>...</td>\n",
       "      <td>...</td>\n",
       "      <td>...</td>\n",
       "      <td>...</td>\n",
       "      <td>...</td>\n",
       "    </tr>\n",
       "    <tr>\n",
       "      <td>8081</td>\n",
       "      <td>200408</td>\n",
       "      <td>2019-08-03 7:28</td>\n",
       "      <td>웹</td>\n",
       "      <td>모바일웹</td>\n",
       "      <td>경기도</td>\n",
       "      <td>시흥시</td>\n",
       "      <td>거모동</td>\n",
       "      <td>1756-1</td>\n",
       "      <td>동운디오빌아파트</td>\n",
       "      <td>경기도 시흥시 거모동 1756-1</td>\n",
       "      <td>32.0</td>\n",
       "      <td>주거공간</td>\n",
       "      <td>아파트</td>\n",
       "      <td>전체</td>\n",
       "      <td>-</td>\n",
       "      <td>1,000만원 ~ 2,000만원 미만</td>\n",
       "      <td>NaN</td>\n",
       "      <td>32평  공사기간10일 예산 1500000</td>\n",
       "      <td>크리테오_PC</td>\n",
       "      <td>1500.0</td>\n",
       "    </tr>\n",
       "    <tr>\n",
       "      <td>8088</td>\n",
       "      <td>200332</td>\n",
       "      <td>2019-08-02 14:42</td>\n",
       "      <td>앱</td>\n",
       "      <td>안드로이드</td>\n",
       "      <td>인천광역시</td>\n",
       "      <td>계양구</td>\n",
       "      <td>작전동</td>\n",
       "      <td>420</td>\n",
       "      <td>미도아파트</td>\n",
       "      <td>인천광역시 계양구 작전동 420</td>\n",
       "      <td>24.0</td>\n",
       "      <td>주거공간</td>\n",
       "      <td>아파트</td>\n",
       "      <td>전체</td>\n",
       "      <td>-</td>\n",
       "      <td>1,000만원 ~ 2,000만원 미만</td>\n",
       "      <td>10259.0</td>\n",
       "      <td>작전동 미도아파트 3동 \\r\\n 1503호</td>\n",
       "      <td>-</td>\n",
       "      <td>1500.0</td>\n",
       "    </tr>\n",
       "    <tr>\n",
       "      <td>8090</td>\n",
       "      <td>200290</td>\n",
       "      <td>2019-08-02 10:46</td>\n",
       "      <td>외부</td>\n",
       "      <td>믹스앤픽스</td>\n",
       "      <td>경기도</td>\n",
       "      <td>평택시</td>\n",
       "      <td>안중읍</td>\n",
       "      <td>337-3</td>\n",
       "      <td>안중우림아파트</td>\n",
       "      <td>경기도 평택시 안중읍 337-3</td>\n",
       "      <td>17.0</td>\n",
       "      <td>주거공간</td>\n",
       "      <td>아파트</td>\n",
       "      <td>전체</td>\n",
       "      <td>-</td>\n",
       "      <td>1,000만원 ~ 2,000만원 미만</td>\n",
       "      <td>NaN</td>\n",
       "      <td>-</td>\n",
       "      <td>-</td>\n",
       "      <td>1500.0</td>\n",
       "    </tr>\n",
       "    <tr>\n",
       "      <td>8094</td>\n",
       "      <td>200160</td>\n",
       "      <td>2019-08-01 15:37</td>\n",
       "      <td>웹</td>\n",
       "      <td>PC웹</td>\n",
       "      <td>인천광역시</td>\n",
       "      <td>부평구</td>\n",
       "      <td>삼산동</td>\n",
       "      <td>393-4</td>\n",
       "      <td>삼산주공미래타운아파트</td>\n",
       "      <td>인천광역시 부평구 삼산동 393-4</td>\n",
       "      <td>32.0</td>\n",
       "      <td>주거공간</td>\n",
       "      <td>아파트</td>\n",
       "      <td>전체</td>\n",
       "      <td>-</td>\n",
       "      <td>1,000만원 ~ 2,000만원 미만</td>\n",
       "      <td>NaN</td>\n",
       "      <td>공사기간이 8월중순부터 9월중순까지 정도 였으면 좋겠어요~</td>\n",
       "      <td>-</td>\n",
       "      <td>1500.0</td>\n",
       "    </tr>\n",
       "    <tr>\n",
       "      <td>8098</td>\n",
       "      <td>200119</td>\n",
       "      <td>2019-08-01 11:47</td>\n",
       "      <td>외부</td>\n",
       "      <td>페이스북</td>\n",
       "      <td>서울특별시</td>\n",
       "      <td>관악구</td>\n",
       "      <td>봉천동</td>\n",
       "      <td>1531-39</td>\n",
       "      <td>무학아파트</td>\n",
       "      <td>서울특별시 관악구 봉천동 1531-39</td>\n",
       "      <td>25.0</td>\n",
       "      <td>주거공간</td>\n",
       "      <td>아파트</td>\n",
       "      <td>전체</td>\n",
       "      <td>-</td>\n",
       "      <td>1,000만원 ~ 2,000만원 미만</td>\n",
       "      <td>NaN</td>\n",
       "      <td>업체 와 // 이용</td>\n",
       "      <td>-</td>\n",
       "      <td>1500.0</td>\n",
       "    </tr>\n",
       "  </tbody>\n",
       "</table>\n",
       "<p>1634 rows × 20 columns</p>\n",
       "</div>"
      ],
      "text/plain": [
       "        견적번호               견적일 유입경로 유입경로_상세     지역 주소_시군구 주소_읍면동    주소_번지  \\\n",
       "2     199988  2019-07-31 16:26    앱   안드로이드  서울특별시    강서구    가양동     1461   \n",
       "12    199876  2019-07-31 11:08    콜      소개  인천광역시     서구    가좌동    30-86   \n",
       "18    199824  2019-07-30 21:10    웹    모바일웹    경기도    군포시    산본동     1145   \n",
       "19    199811  2019-07-30 18:20    앱   안드로이드   경상남도    통영시    도남동    505-2   \n",
       "25    199743  2019-07-30 13:48    웹     PC웹  서울특별시    노원구    중계동    369-7   \n",
       "...      ...               ...  ...     ...    ...    ...    ...      ...   \n",
       "8081  200408   2019-08-03 7:28    웹    모바일웹    경기도    시흥시    거모동   1756-1   \n",
       "8088  200332  2019-08-02 14:42    앱   안드로이드  인천광역시    계양구    작전동      420   \n",
       "8090  200290  2019-08-02 10:46   외부   믹스앤픽스    경기도    평택시    안중읍    337-3   \n",
       "8094  200160  2019-08-01 15:37    웹     PC웹  인천광역시    부평구    삼산동    393-4   \n",
       "8098  200119  2019-08-01 11:47   외부    페이스북  서울특별시    관악구    봉천동  1531-39   \n",
       "\n",
       "             아파트명                   전체주소    평수  대상구분 시공대상 시공범위 공사예산_고객예산  \\\n",
       "2        가양2단지아파트     서울특별시 강서구 가양동 1461  24.0  주거공간  아파트   전체         -   \n",
       "12          진주아파트     인천광역시 서구 가좌동 30-86  18.0  주거공간  아파트   전체         -   \n",
       "18     주공6단지세종아파트       경기도 군포시 산본동 1145  25.0  주거공간  아파트   전체         -   \n",
       "19          한려아파트     경상남도 통영시 도남동 505-2  18.0  주거공간  아파트   전체         -   \n",
       "25       주공2단지아파트    서울특별시 노원구 중계동 369-7  13.0  주거공간  아파트   전체         -   \n",
       "...           ...                    ...   ...   ...  ...  ...       ...   \n",
       "8081     동운디오빌아파트     경기도 시흥시 거모동 1756-1  32.0  주거공간  아파트   전체         -   \n",
       "8088        미도아파트      인천광역시 계양구 작전동 420  24.0  주거공간  아파트   전체         -   \n",
       "8090      안중우림아파트      경기도 평택시 안중읍 337-3  17.0  주거공간  아파트   전체         -   \n",
       "8094  삼산주공미래타운아파트    인천광역시 부평구 삼산동 393-4  32.0  주거공간  아파트   전체         -   \n",
       "8098        무학아파트  서울특별시 관악구 봉천동 1531-39  25.0  주거공간  아파트   전체         -   \n",
       "\n",
       "               공사예산_CS확인예산     계약번호  \\\n",
       "2     1,000만원 ~ 2,000만원 미만   9884.0   \n",
       "12    1,000만원 ~ 2,000만원 미만      NaN   \n",
       "18    1,000만원 ~ 2,000만원 미만      NaN   \n",
       "19    1,000만원 ~ 2,000만원 미만      NaN   \n",
       "25    1,000만원 ~ 2,000만원 미만      NaN   \n",
       "...                    ...      ...   \n",
       "8081  1,000만원 ~ 2,000만원 미만      NaN   \n",
       "8088  1,000만원 ~ 2,000만원 미만  10259.0   \n",
       "8090  1,000만원 ~ 2,000만원 미만      NaN   \n",
       "8094  1,000만원 ~ 2,000만원 미만      NaN   \n",
       "8098  1,000만원 ~ 2,000만원 미만      NaN   \n",
       "\n",
       "                                                     요청        인입채널_UTM  \\\n",
       "2                                                     -               -   \n",
       "12                                                    -               -   \n",
       "18                   공급80.49\\r\\n잔용58.46\\r\\n세종주공6단지 643동  네이버검색광고_Mobile   \n",
       "19                                              18평 올수리               -   \n",
       "25    신혼집이며, 노원 중계주공2단지 아파트입니다. 현재 전세로 내놓아 8월 31일까지 ...               -   \n",
       "...                                                 ...             ...   \n",
       "8081                            32평  공사기간10일 예산 1500000         크리테오_PC   \n",
       "8088                            작전동 미도아파트 3동 \\r\\n 1503호               -   \n",
       "8090                                                  -               -   \n",
       "8094                   공사기간이 8월중순부터 9월중순까지 정도 였으면 좋겠어요~               -   \n",
       "8098                                        업체 와 // 이용                -   \n",
       "\n",
       "      CS확인예산_median  \n",
       "2            1500.0  \n",
       "12           1500.0  \n",
       "18           1500.0  \n",
       "19           1500.0  \n",
       "25           1500.0  \n",
       "...             ...  \n",
       "8081         1500.0  \n",
       "8088         1500.0  \n",
       "8090         1500.0  \n",
       "8094         1500.0  \n",
       "8098         1500.0  \n",
       "\n",
       "[1634 rows x 20 columns]"
      ]
     },
     "execution_count": 8,
     "metadata": {},
     "output_type": "execute_result"
    }
   ],
   "source": [
    "kj.loc[kj['공사예산_CS확인예산']=='1,000만원 ~ 2,000만원 미만',]"
   ]
  },
  {
   "cell_type": "code",
   "execution_count": 9,
   "metadata": {},
   "outputs": [],
   "source": [
    "kj.loc[kj['공사예산_CS확인예산']=='2,000만원 ~ 3,000만원 미만','CS확인예산_median'] = 2500"
   ]
  },
  {
   "cell_type": "code",
   "execution_count": 10,
   "metadata": {},
   "outputs": [],
   "source": [
    "kj.loc[kj['공사예산_CS확인예산']=='3,000만원 ~ 4,000만원 미만','CS확인예산_median'] = 3500"
   ]
  },
  {
   "cell_type": "code",
   "execution_count": 11,
   "metadata": {},
   "outputs": [],
   "source": [
    "kj.loc[kj['공사예산_CS확인예산']=='4,000만원 ~ 5,000만원 미만','CS확인예산_median'] = 4500"
   ]
  },
  {
   "cell_type": "code",
   "execution_count": 12,
   "metadata": {},
   "outputs": [],
   "source": [
    "kj.loc[kj['공사예산_CS확인예산']=='5,000만원 ~ 6,000만원 미만','CS확인예산_median'] = 5500"
   ]
  },
  {
   "cell_type": "code",
   "execution_count": 13,
   "metadata": {},
   "outputs": [],
   "source": [
    "kj.loc[kj['공사예산_CS확인예산']=='6,000만원 ~ 7,000만원 미만','CS확인예산_median'] = 6500"
   ]
  },
  {
   "cell_type": "code",
   "execution_count": 14,
   "metadata": {},
   "outputs": [],
   "source": [
    "kj.loc[kj['공사예산_CS확인예산']=='7,000만원 ~ 8,000만원 미만','CS확인예산_median'] = 7500"
   ]
  },
  {
   "cell_type": "code",
   "execution_count": 15,
   "metadata": {},
   "outputs": [],
   "source": [
    "kj.loc[kj['공사예산_CS확인예산']=='8,000만원 ~ 9,000만원 미만','CS확인예산_median'] = 8500"
   ]
  },
  {
   "cell_type": "code",
   "execution_count": 16,
   "metadata": {},
   "outputs": [],
   "source": [
    "kj.loc[kj['공사예산_CS확인예산']=='9,000만원 ~ 1억원 미만','CS확인예산_median'] = 9500"
   ]
  },
  {
   "cell_type": "code",
   "execution_count": 18,
   "metadata": {},
   "outputs": [],
   "source": [
    "kj.loc[kj['공사예산_CS확인예산']=='1억원 ~ 1.5억원 미만','CS확인예산_median'] = 12500"
   ]
  },
  {
   "cell_type": "code",
   "execution_count": 19,
   "metadata": {},
   "outputs": [],
   "source": [
    "kj.loc[kj['공사예산_CS확인예산']=='1.5억원 ~ 2억원 미만','CS확인예산_median'] = 17500"
   ]
  },
  {
   "cell_type": "code",
   "execution_count": 20,
   "metadata": {},
   "outputs": [],
   "source": [
    "kj.loc[kj['공사예산_CS확인예산']=='2억원 ~ 2.5억원 미만','CS확인예산_median'] = 22500"
   ]
  },
  {
   "cell_type": "code",
   "execution_count": 21,
   "metadata": {},
   "outputs": [],
   "source": [
    "kj.loc[kj['공사예산_CS확인예산']=='4억원 ~ 5억원 미만','CS확인예산_median'] = 45000"
   ]
  },
  {
   "cell_type": "code",
   "execution_count": 22,
   "metadata": {},
   "outputs": [
    {
     "data": {
      "text/html": [
       "<div>\n",
       "<style scoped>\n",
       "    .dataframe tbody tr th:only-of-type {\n",
       "        vertical-align: middle;\n",
       "    }\n",
       "\n",
       "    .dataframe tbody tr th {\n",
       "        vertical-align: top;\n",
       "    }\n",
       "\n",
       "    .dataframe thead th {\n",
       "        text-align: right;\n",
       "    }\n",
       "</style>\n",
       "<table border=\"1\" class=\"dataframe\">\n",
       "  <thead>\n",
       "    <tr style=\"text-align: right;\">\n",
       "      <th></th>\n",
       "      <th>견적번호</th>\n",
       "      <th>견적일</th>\n",
       "      <th>유입경로</th>\n",
       "      <th>유입경로_상세</th>\n",
       "      <th>지역</th>\n",
       "      <th>주소_시군구</th>\n",
       "      <th>주소_읍면동</th>\n",
       "      <th>주소_번지</th>\n",
       "      <th>아파트명</th>\n",
       "      <th>전체주소</th>\n",
       "      <th>평수</th>\n",
       "      <th>대상구분</th>\n",
       "      <th>시공대상</th>\n",
       "      <th>시공범위</th>\n",
       "      <th>공사예산_고객예산</th>\n",
       "      <th>공사예산_CS확인예산</th>\n",
       "      <th>계약번호</th>\n",
       "      <th>요청</th>\n",
       "      <th>인입채널_UTM</th>\n",
       "      <th>CS확인예산_median</th>\n",
       "    </tr>\n",
       "  </thead>\n",
       "  <tbody>\n",
       "    <tr>\n",
       "      <td>7817</td>\n",
       "      <td>204096</td>\n",
       "      <td>2019-08-21 16:27</td>\n",
       "      <td>앱</td>\n",
       "      <td>아이폰</td>\n",
       "      <td>서울특별시</td>\n",
       "      <td>강남구</td>\n",
       "      <td>도곡동</td>\n",
       "      <td>467</td>\n",
       "      <td>타워팰리스</td>\n",
       "      <td>서울특별시 강남구 도곡동 467</td>\n",
       "      <td>60.0</td>\n",
       "      <td>주거공간</td>\n",
       "      <td>아파트</td>\n",
       "      <td>전체</td>\n",
       "      <td>-</td>\n",
       "      <td>4억원 ~ 5억원 미만</td>\n",
       "      <td>NaN</td>\n",
       "      <td>-</td>\n",
       "      <td>-</td>\n",
       "      <td>45000.0</td>\n",
       "    </tr>\n",
       "  </tbody>\n",
       "</table>\n",
       "</div>"
      ],
      "text/plain": [
       "        견적번호               견적일 유입경로 유입경로_상세     지역 주소_시군구 주소_읍면동 주소_번지   아파트명  \\\n",
       "7817  204096  2019-08-21 16:27    앱     아이폰  서울특별시    강남구    도곡동   467  타워팰리스   \n",
       "\n",
       "                   전체주소    평수  대상구분 시공대상 시공범위 공사예산_고객예산   공사예산_CS확인예산  계약번호  \\\n",
       "7817  서울특별시 강남구 도곡동 467  60.0  주거공간  아파트   전체         -  4억원 ~ 5억원 미만   NaN   \n",
       "\n",
       "     요청 인입채널_UTM  CS확인예산_median  \n",
       "7817  -        -        45000.0  "
      ]
     },
     "execution_count": 22,
     "metadata": {},
     "output_type": "execute_result"
    }
   ],
   "source": [
    "kj.loc[kj['공사예산_CS확인예산']=='4억원 ~ 5억원 미만']"
   ]
  },
  {
   "cell_type": "code",
   "execution_count": 44,
   "metadata": {},
   "outputs": [],
   "source": [
    "kj = kj.rename(columns={'CS확인예산_median':'CS확인예산_만원_median'})"
   ]
  },
  {
   "cell_type": "code",
   "execution_count": 45,
   "metadata": {},
   "outputs": [
    {
     "data": {
      "text/plain": [
       "array(['-', '3,000만원 ~ 4,000만원 미만', '1,000만원 ~ 2,000만원 미만',\n",
       "       '9,000만원 ~ 1억원 미만', '2,000만원 ~ 3,000만원 미만', '4,000만원 ~ 5,000만원 미만',\n",
       "       '5,000만원 ~ 6,000만원 미만', '6,000만원 ~ 7,000만원 미만', '1,000만원 미만',\n",
       "       '7,000만원 ~ 8,000만원 미만', '1억원 ~ 1.5억원 미만'], dtype=object)"
      ]
     },
     "execution_count": 45,
     "metadata": {},
     "output_type": "execute_result"
    }
   ],
   "source": [
    "kj['공사예산_고객예산'].unique()"
   ]
  },
  {
   "cell_type": "code",
   "execution_count": 46,
   "metadata": {},
   "outputs": [],
   "source": [
    "kj.loc[kj['공사예산_고객예산']=='1,000만원 미만','고객예산_만원_median'] = 500"
   ]
  },
  {
   "cell_type": "code",
   "execution_count": 47,
   "metadata": {},
   "outputs": [],
   "source": [
    "kj.loc[kj['공사예산_고객예산']=='1,000만원 ~ 2,000만원 미만','고객예산_만원_median'] = 1500"
   ]
  },
  {
   "cell_type": "code",
   "execution_count": 48,
   "metadata": {},
   "outputs": [],
   "source": [
    "kj.loc[kj['공사예산_고객예산']=='2,000만원 ~ 3,000만원 미만','고객예산_만원_median'] = 2500"
   ]
  },
  {
   "cell_type": "code",
   "execution_count": 49,
   "metadata": {},
   "outputs": [],
   "source": [
    "kj.loc[kj['공사예산_고객예산']=='3,000만원 ~ 4,000만원 미만','고객예산_만원_median'] = 3500"
   ]
  },
  {
   "cell_type": "code",
   "execution_count": 50,
   "metadata": {},
   "outputs": [],
   "source": [
    "kj.loc[kj['공사예산_고객예산']=='4,000만원 ~ 5,000만원 미만','고객예산_만원_median'] = 4500"
   ]
  },
  {
   "cell_type": "code",
   "execution_count": 51,
   "metadata": {},
   "outputs": [],
   "source": [
    "kj.loc[kj['공사예산_고객예산']=='5,000만원 ~ 6,000만원 미만','고객예산_만원_median'] = 5500"
   ]
  },
  {
   "cell_type": "code",
   "execution_count": 52,
   "metadata": {},
   "outputs": [],
   "source": [
    "kj.loc[kj['공사예산_고객예산']=='6,000만원 ~ 7,000만원 미만','고객예산_만원_median'] = 6500"
   ]
  },
  {
   "cell_type": "code",
   "execution_count": 53,
   "metadata": {},
   "outputs": [],
   "source": [
    "kj.loc[kj['공사예산_고객예산']=='7,000만원 ~ 8,000만원 미만','고객예산_만원_median'] = 7500"
   ]
  },
  {
   "cell_type": "code",
   "execution_count": 54,
   "metadata": {},
   "outputs": [],
   "source": [
    "kj.loc[kj['공사예산_고객예산']=='9,000만원 ~ 1억원 미만','고객예산_만원_median'] = 9500"
   ]
  },
  {
   "cell_type": "code",
   "execution_count": 55,
   "metadata": {},
   "outputs": [],
   "source": [
    "kj.loc[kj['공사예산_고객예산']=='1억원 ~ 1.5억원 미만','고객예산_만원_median'] = 12500"
   ]
  },
  {
   "cell_type": "code",
   "execution_count": 56,
   "metadata": {},
   "outputs": [
    {
     "data": {
      "text/html": [
       "<div>\n",
       "<style scoped>\n",
       "    .dataframe tbody tr th:only-of-type {\n",
       "        vertical-align: middle;\n",
       "    }\n",
       "\n",
       "    .dataframe tbody tr th {\n",
       "        vertical-align: top;\n",
       "    }\n",
       "\n",
       "    .dataframe thead th {\n",
       "        text-align: right;\n",
       "    }\n",
       "</style>\n",
       "<table border=\"1\" class=\"dataframe\">\n",
       "  <thead>\n",
       "    <tr style=\"text-align: right;\">\n",
       "      <th></th>\n",
       "      <th>견적번호</th>\n",
       "      <th>견적일</th>\n",
       "      <th>유입경로</th>\n",
       "      <th>유입경로_상세</th>\n",
       "      <th>지역</th>\n",
       "      <th>주소_시군구</th>\n",
       "      <th>주소_읍면동</th>\n",
       "      <th>주소_번지</th>\n",
       "      <th>아파트명</th>\n",
       "      <th>전체주소</th>\n",
       "      <th>...</th>\n",
       "      <th>대상구분</th>\n",
       "      <th>시공대상</th>\n",
       "      <th>시공범위</th>\n",
       "      <th>공사예산_고객예산</th>\n",
       "      <th>공사예산_CS확인예산</th>\n",
       "      <th>계약번호</th>\n",
       "      <th>요청</th>\n",
       "      <th>인입채널_UTM</th>\n",
       "      <th>CS확인예산_만원_median</th>\n",
       "      <th>고객예산_만원_median</th>\n",
       "    </tr>\n",
       "  </thead>\n",
       "  <tbody>\n",
       "    <tr>\n",
       "      <td>0</td>\n",
       "      <td>200037</td>\n",
       "      <td>2019-07-31 21:56</td>\n",
       "      <td>웹</td>\n",
       "      <td>모바일웹</td>\n",
       "      <td>경상남도</td>\n",
       "      <td>창원시 성산구</td>\n",
       "      <td>반림동</td>\n",
       "      <td>8</td>\n",
       "      <td>럭키반림아파트</td>\n",
       "      <td>경상남도 창원시 성산구 반림동 8</td>\n",
       "      <td>...</td>\n",
       "      <td>주거공간</td>\n",
       "      <td>아파트</td>\n",
       "      <td>전체</td>\n",
       "      <td>-</td>\n",
       "      <td>4,000만원 ~ 5,000만원 미만</td>\n",
       "      <td>NaN</td>\n",
       "      <td>방이 4개가 필요합니다\\n안방을 아들 둘이 지낼수있도록 해서\\n부부 각 방 하나씩 ...</td>\n",
       "      <td>네이버검색광고_Mobile</td>\n",
       "      <td>4500.0</td>\n",
       "      <td>-</td>\n",
       "    </tr>\n",
       "    <tr>\n",
       "      <td>1</td>\n",
       "      <td>200030</td>\n",
       "      <td>2019-07-31 20:31</td>\n",
       "      <td>앱</td>\n",
       "      <td>아이폰</td>\n",
       "      <td>서울특별시</td>\n",
       "      <td>강동구</td>\n",
       "      <td>명일동</td>\n",
       "      <td>54</td>\n",
       "      <td>한양아파트</td>\n",
       "      <td>서울특별시 강동구 명일동 54</td>\n",
       "      <td>...</td>\n",
       "      <td>주거공간</td>\n",
       "      <td>아파트</td>\n",
       "      <td>전체</td>\n",
       "      <td>-</td>\n",
       "      <td>4,000만원 ~ 5,000만원 미만</td>\n",
       "      <td>NaN</td>\n",
       "      <td>배관공사 포함 샷시 \\r\\n모두 올수리입니다</td>\n",
       "      <td>-</td>\n",
       "      <td>4500.0</td>\n",
       "      <td>-</td>\n",
       "    </tr>\n",
       "    <tr>\n",
       "      <td>2</td>\n",
       "      <td>199988</td>\n",
       "      <td>2019-07-31 16:26</td>\n",
       "      <td>앱</td>\n",
       "      <td>안드로이드</td>\n",
       "      <td>서울특별시</td>\n",
       "      <td>강서구</td>\n",
       "      <td>가양동</td>\n",
       "      <td>1461</td>\n",
       "      <td>가양2단지아파트</td>\n",
       "      <td>서울특별시 강서구 가양동 1461</td>\n",
       "      <td>...</td>\n",
       "      <td>주거공간</td>\n",
       "      <td>아파트</td>\n",
       "      <td>전체</td>\n",
       "      <td>-</td>\n",
       "      <td>1,000만원 ~ 2,000만원 미만</td>\n",
       "      <td>9884.0</td>\n",
       "      <td>-</td>\n",
       "      <td>-</td>\n",
       "      <td>1500.0</td>\n",
       "      <td>-</td>\n",
       "    </tr>\n",
       "    <tr>\n",
       "      <td>3</td>\n",
       "      <td>199970</td>\n",
       "      <td>2019-07-31 15:30</td>\n",
       "      <td>웹</td>\n",
       "      <td>PC웹</td>\n",
       "      <td>서울특별시</td>\n",
       "      <td>성북구</td>\n",
       "      <td>돈암동</td>\n",
       "      <td>644</td>\n",
       "      <td>돈암코오롱하늘채</td>\n",
       "      <td>서울특별시 성북구 돈암동 644</td>\n",
       "      <td>...</td>\n",
       "      <td>주거공간</td>\n",
       "      <td>아파트</td>\n",
       "      <td>전체</td>\n",
       "      <td>3,000만원 ~ 4,000만원 미만</td>\n",
       "      <td>3,000만원 ~ 4,000만원 미만</td>\n",
       "      <td>NaN</td>\n",
       "      <td>- 상담희망시간 : 무관\\r\\n- 현장위치 : 서울특별시 성북구 아리랑로 75 돈암...</td>\n",
       "      <td>-</td>\n",
       "      <td>3500.0</td>\n",
       "      <td>3500</td>\n",
       "    </tr>\n",
       "    <tr>\n",
       "      <td>4</td>\n",
       "      <td>199937</td>\n",
       "      <td>2019-07-31 14:31</td>\n",
       "      <td>외부</td>\n",
       "      <td>믹스앤픽스</td>\n",
       "      <td>서울특별시</td>\n",
       "      <td>강동구</td>\n",
       "      <td>암사동</td>\n",
       "      <td>509</td>\n",
       "      <td>선사현대아파트</td>\n",
       "      <td>서울특별시 강동구 암사동 509</td>\n",
       "      <td>...</td>\n",
       "      <td>주거공간</td>\n",
       "      <td>아파트</td>\n",
       "      <td>전체</td>\n",
       "      <td>-</td>\n",
       "      <td>4,000만원 ~ 5,000만원 미만</td>\n",
       "      <td>NaN</td>\n",
       "      <td>-</td>\n",
       "      <td>-</td>\n",
       "      <td>4500.0</td>\n",
       "      <td>-</td>\n",
       "    </tr>\n",
       "  </tbody>\n",
       "</table>\n",
       "<p>5 rows × 21 columns</p>\n",
       "</div>"
      ],
      "text/plain": [
       "     견적번호               견적일 유입경로 유입경로_상세     지역   주소_시군구 주소_읍면동 주소_번지  \\\n",
       "0  200037  2019-07-31 21:56    웹    모바일웹   경상남도  창원시 성산구    반림동     8   \n",
       "1  200030  2019-07-31 20:31    앱     아이폰  서울특별시      강동구    명일동    54   \n",
       "2  199988  2019-07-31 16:26    앱   안드로이드  서울특별시      강서구    가양동  1461   \n",
       "3  199970  2019-07-31 15:30    웹     PC웹  서울특별시      성북구    돈암동   644   \n",
       "4  199937  2019-07-31 14:31   외부   믹스앤픽스  서울특별시      강동구    암사동   509   \n",
       "\n",
       "       아파트명                전체주소  ...  대상구분 시공대상 시공범위             공사예산_고객예산  \\\n",
       "0   럭키반림아파트  경상남도 창원시 성산구 반림동 8  ...  주거공간  아파트   전체                     -   \n",
       "1     한양아파트    서울특별시 강동구 명일동 54  ...  주거공간  아파트   전체                     -   \n",
       "2  가양2단지아파트  서울특별시 강서구 가양동 1461  ...  주거공간  아파트   전체                     -   \n",
       "3  돈암코오롱하늘채   서울특별시 성북구 돈암동 644  ...  주거공간  아파트   전체  3,000만원 ~ 4,000만원 미만   \n",
       "4   선사현대아파트   서울특별시 강동구 암사동 509  ...  주거공간  아파트   전체                     -   \n",
       "\n",
       "            공사예산_CS확인예산    계약번호  \\\n",
       "0  4,000만원 ~ 5,000만원 미만     NaN   \n",
       "1  4,000만원 ~ 5,000만원 미만     NaN   \n",
       "2  1,000만원 ~ 2,000만원 미만  9884.0   \n",
       "3  3,000만원 ~ 4,000만원 미만     NaN   \n",
       "4  4,000만원 ~ 5,000만원 미만     NaN   \n",
       "\n",
       "                                                  요청        인입채널_UTM  \\\n",
       "0  방이 4개가 필요합니다\\n안방을 아들 둘이 지낼수있도록 해서\\n부부 각 방 하나씩 ...  네이버검색광고_Mobile   \n",
       "1                           배관공사 포함 샷시 \\r\\n모두 올수리입니다               -   \n",
       "2                                                  -               -   \n",
       "3  - 상담희망시간 : 무관\\r\\n- 현장위치 : 서울특별시 성북구 아리랑로 75 돈암...               -   \n",
       "4                                                  -               -   \n",
       "\n",
       "  CS확인예산_만원_median  고객예산_만원_median  \n",
       "0           4500.0               -  \n",
       "1           4500.0               -  \n",
       "2           1500.0               -  \n",
       "3           3500.0            3500  \n",
       "4           4500.0               -  \n",
       "\n",
       "[5 rows x 21 columns]"
      ]
     },
     "execution_count": 56,
     "metadata": {},
     "output_type": "execute_result"
    }
   ],
   "source": [
    "kj.head()"
   ]
  },
  {
   "cell_type": "code",
   "execution_count": 57,
   "metadata": {},
   "outputs": [
    {
     "data": {
      "text/plain": [
       "5382"
      ]
     },
     "execution_count": 57,
     "metadata": {},
     "output_type": "execute_result"
    }
   ],
   "source": [
    "len(kj[kj['공사예산_고객예산']=='-'])"
   ]
  },
  {
   "cell_type": "code",
   "execution_count": 58,
   "metadata": {},
   "outputs": [
    {
     "data": {
      "text/plain": [
       "0"
      ]
     },
     "execution_count": 58,
     "metadata": {},
     "output_type": "execute_result"
    }
   ],
   "source": [
    "len(kj[kj['고객예산_만원_median'].isnull()])"
   ]
  },
  {
   "cell_type": "code",
   "execution_count": 59,
   "metadata": {},
   "outputs": [],
   "source": [
    "kj.loc[kj['고객예산_만원_median'].isnull(),'고객예산_만원_median'] = '-'"
   ]
  },
  {
   "cell_type": "code",
   "execution_count": 60,
   "metadata": {},
   "outputs": [
    {
     "data": {
      "text/plain": [
       "178"
      ]
     },
     "execution_count": 60,
     "metadata": {},
     "output_type": "execute_result"
    }
   ],
   "source": [
    "len(kj[kj['공사예산_CS확인예산']=='-'])"
   ]
  },
  {
   "cell_type": "code",
   "execution_count": 61,
   "metadata": {},
   "outputs": [
    {
     "data": {
      "text/plain": [
       "178"
      ]
     },
     "execution_count": 61,
     "metadata": {},
     "output_type": "execute_result"
    }
   ],
   "source": [
    "len(kj[kj['CS확인예산_만원_median'].isnull()])"
   ]
  },
  {
   "cell_type": "code",
   "execution_count": 62,
   "metadata": {},
   "outputs": [],
   "source": [
    "kj.loc[kj['CS확인예산_만원_median'].isnull(),'CS확인예산_만원_median'] = '-'"
   ]
  },
  {
   "cell_type": "code",
   "execution_count": 65,
   "metadata": {},
   "outputs": [
    {
     "data": {
      "text/plain": [
       "(8104, 21)"
      ]
     },
     "execution_count": 65,
     "metadata": {},
     "output_type": "execute_result"
    }
   ],
   "source": [
    "kj.shape"
   ]
  },
  {
   "cell_type": "code",
   "execution_count": 66,
   "metadata": {},
   "outputs": [],
   "source": [
    "kj.to_csv('../data/전처리완료/집닥_견적DB_최종.csv', header=True, index=False)"
   ]
  },
  {
   "cell_type": "code",
   "execution_count": 67,
   "metadata": {},
   "outputs": [
    {
     "data": {
      "text/plain": [
       "Index(['견적번호', '견적일', '유입경로', '유입경로_상세', '지역', '주소_시군구', '주소_읍면동', '주소_번지',\n",
       "       '아파트명', '전체주소', '평수', '대상구분', '시공대상', '시공범위', '공사예산_고객예산',\n",
       "       '공사예산_CS확인예산', '계약번호', '요청', '인입채널_UTM', 'CS확인예산_만원_median',\n",
       "       '고객예산_만원_median'],\n",
       "      dtype='object')"
      ]
     },
     "execution_count": 67,
     "metadata": {},
     "output_type": "execute_result"
    }
   ],
   "source": [
    "kj.columns"
   ]
  },
  {
   "cell_type": "code",
   "execution_count": null,
   "metadata": {},
   "outputs": [],
   "source": []
  },
  {
   "cell_type": "code",
   "execution_count": null,
   "metadata": {},
   "outputs": [],
   "source": []
  }
 ],
 "metadata": {
  "kernelspec": {
   "display_name": "Python 3",
   "language": "python",
   "name": "python3"
  },
  "language_info": {
   "codemirror_mode": {
    "name": "ipython",
    "version": 3
   },
   "file_extension": ".py",
   "mimetype": "text/x-python",
   "name": "python",
   "nbconvert_exporter": "python",
   "pygments_lexer": "ipython3",
   "version": "3.7.4"
  }
 },
 "nbformat": 4,
 "nbformat_minor": 2
}
