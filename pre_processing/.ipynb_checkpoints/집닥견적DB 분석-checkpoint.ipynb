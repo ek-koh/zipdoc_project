{
 "cells": [
  {
   "cell_type": "code",
   "execution_count": 1,
   "metadata": {},
   "outputs": [],
   "source": [
    "import pandas as pd"
   ]
  },
  {
   "cell_type": "code",
   "execution_count": 2,
   "metadata": {},
   "outputs": [],
   "source": [
    "kj = pd.read_csv('../data/전처리완료/집닥_견적DB_최종.csv')"
   ]
  },
  {
   "cell_type": "code",
   "execution_count": 3,
   "metadata": {},
   "outputs": [
    {
     "data": {
      "text/html": [
       "<div>\n",
       "<style scoped>\n",
       "    .dataframe tbody tr th:only-of-type {\n",
       "        vertical-align: middle;\n",
       "    }\n",
       "\n",
       "    .dataframe tbody tr th {\n",
       "        vertical-align: top;\n",
       "    }\n",
       "\n",
       "    .dataframe thead th {\n",
       "        text-align: right;\n",
       "    }\n",
       "</style>\n",
       "<table border=\"1\" class=\"dataframe\">\n",
       "  <thead>\n",
       "    <tr style=\"text-align: right;\">\n",
       "      <th></th>\n",
       "      <th>견적번호</th>\n",
       "      <th>견적일</th>\n",
       "      <th>유입경로</th>\n",
       "      <th>유입경로_상세</th>\n",
       "      <th>지역</th>\n",
       "      <th>주소_시군구</th>\n",
       "      <th>주소_읍면동</th>\n",
       "      <th>주소_번지</th>\n",
       "      <th>아파트명</th>\n",
       "      <th>전체주소</th>\n",
       "      <th>평수</th>\n",
       "      <th>대상구분</th>\n",
       "      <th>시공대상</th>\n",
       "      <th>시공범위</th>\n",
       "      <th>공사예산_고객예산</th>\n",
       "      <th>공사예산_CS확인예산</th>\n",
       "      <th>계약번호</th>\n",
       "      <th>요청</th>\n",
       "      <th>인입채널_UTM</th>\n",
       "    </tr>\n",
       "  </thead>\n",
       "  <tbody>\n",
       "    <tr>\n",
       "      <td>0</td>\n",
       "      <td>200037</td>\n",
       "      <td>2019-07-31 21:56</td>\n",
       "      <td>웹</td>\n",
       "      <td>모바일웹</td>\n",
       "      <td>경상남도</td>\n",
       "      <td>창원시 성산구</td>\n",
       "      <td>반림동</td>\n",
       "      <td>8</td>\n",
       "      <td>럭키반림아파트</td>\n",
       "      <td>경상남도 창원시 성산구 반림동 8</td>\n",
       "      <td>31.0</td>\n",
       "      <td>주거공간</td>\n",
       "      <td>아파트</td>\n",
       "      <td>전체</td>\n",
       "      <td>-</td>\n",
       "      <td>4,000만원 ~ 5,000만원 미만</td>\n",
       "      <td>NaN</td>\n",
       "      <td>방이 4개가 필요합니다\\n안방을 아들 둘이 지낼수있도록 해서\\n부부 각 방 하나씩 ...</td>\n",
       "      <td>네이버검색광고_Mobile</td>\n",
       "    </tr>\n",
       "    <tr>\n",
       "      <td>1</td>\n",
       "      <td>200030</td>\n",
       "      <td>2019-07-31 20:31</td>\n",
       "      <td>앱</td>\n",
       "      <td>아이폰</td>\n",
       "      <td>서울특별시</td>\n",
       "      <td>강동구</td>\n",
       "      <td>명일동</td>\n",
       "      <td>54</td>\n",
       "      <td>한양아파트</td>\n",
       "      <td>서울특별시 강동구 명일동 54</td>\n",
       "      <td>42.0</td>\n",
       "      <td>주거공간</td>\n",
       "      <td>아파트</td>\n",
       "      <td>전체</td>\n",
       "      <td>-</td>\n",
       "      <td>4,000만원 ~ 5,000만원 미만</td>\n",
       "      <td>NaN</td>\n",
       "      <td>배관공사 포함 샷시 \\r\\n모두 올수리입니다</td>\n",
       "      <td>-</td>\n",
       "    </tr>\n",
       "    <tr>\n",
       "      <td>2</td>\n",
       "      <td>199988</td>\n",
       "      <td>2019-07-31 16:26</td>\n",
       "      <td>앱</td>\n",
       "      <td>안드로이드</td>\n",
       "      <td>서울특별시</td>\n",
       "      <td>강서구</td>\n",
       "      <td>가양동</td>\n",
       "      <td>1461</td>\n",
       "      <td>가양2단지아파트</td>\n",
       "      <td>서울특별시 강서구 가양동 1461</td>\n",
       "      <td>24.0</td>\n",
       "      <td>주거공간</td>\n",
       "      <td>아파트</td>\n",
       "      <td>전체</td>\n",
       "      <td>-</td>\n",
       "      <td>1,000만원 ~ 2,000만원 미만</td>\n",
       "      <td>9884.0</td>\n",
       "      <td>-</td>\n",
       "      <td>-</td>\n",
       "    </tr>\n",
       "    <tr>\n",
       "      <td>3</td>\n",
       "      <td>199970</td>\n",
       "      <td>2019-07-31 15:30</td>\n",
       "      <td>웹</td>\n",
       "      <td>PC웹</td>\n",
       "      <td>서울특별시</td>\n",
       "      <td>성북구</td>\n",
       "      <td>돈암동</td>\n",
       "      <td>644</td>\n",
       "      <td>돈암코오롱하늘채</td>\n",
       "      <td>서울특별시 성북구 돈암동 644</td>\n",
       "      <td>34.0</td>\n",
       "      <td>주거공간</td>\n",
       "      <td>아파트</td>\n",
       "      <td>전체</td>\n",
       "      <td>3,000만원 ~ 4,000만원 미만</td>\n",
       "      <td>3,000만원 ~ 4,000만원 미만</td>\n",
       "      <td>NaN</td>\n",
       "      <td>- 상담희망시간 : 무관\\r\\n- 현장위치 : 서울특별시 성북구 아리랑로 75 돈암...</td>\n",
       "      <td>-</td>\n",
       "    </tr>\n",
       "    <tr>\n",
       "      <td>4</td>\n",
       "      <td>199937</td>\n",
       "      <td>2019-07-31 14:31</td>\n",
       "      <td>외부</td>\n",
       "      <td>믹스앤픽스</td>\n",
       "      <td>서울특별시</td>\n",
       "      <td>강동구</td>\n",
       "      <td>암사동</td>\n",
       "      <td>509</td>\n",
       "      <td>선사현대아파트</td>\n",
       "      <td>서울특별시 강동구 암사동 509</td>\n",
       "      <td>34.0</td>\n",
       "      <td>주거공간</td>\n",
       "      <td>아파트</td>\n",
       "      <td>전체</td>\n",
       "      <td>-</td>\n",
       "      <td>4,000만원 ~ 5,000만원 미만</td>\n",
       "      <td>NaN</td>\n",
       "      <td>-</td>\n",
       "      <td>-</td>\n",
       "    </tr>\n",
       "  </tbody>\n",
       "</table>\n",
       "</div>"
      ],
      "text/plain": [
       "     견적번호               견적일 유입경로 유입경로_상세     지역   주소_시군구 주소_읍면동 주소_번지  \\\n",
       "0  200037  2019-07-31 21:56    웹    모바일웹   경상남도  창원시 성산구    반림동     8   \n",
       "1  200030  2019-07-31 20:31    앱     아이폰  서울특별시      강동구    명일동    54   \n",
       "2  199988  2019-07-31 16:26    앱   안드로이드  서울특별시      강서구    가양동  1461   \n",
       "3  199970  2019-07-31 15:30    웹     PC웹  서울특별시      성북구    돈암동   644   \n",
       "4  199937  2019-07-31 14:31   외부   믹스앤픽스  서울특별시      강동구    암사동   509   \n",
       "\n",
       "       아파트명                전체주소    평수  대상구분 시공대상 시공범위             공사예산_고객예산  \\\n",
       "0   럭키반림아파트  경상남도 창원시 성산구 반림동 8  31.0  주거공간  아파트   전체                     -   \n",
       "1     한양아파트    서울특별시 강동구 명일동 54  42.0  주거공간  아파트   전체                     -   \n",
       "2  가양2단지아파트  서울특별시 강서구 가양동 1461  24.0  주거공간  아파트   전체                     -   \n",
       "3  돈암코오롱하늘채   서울특별시 성북구 돈암동 644  34.0  주거공간  아파트   전체  3,000만원 ~ 4,000만원 미만   \n",
       "4   선사현대아파트   서울특별시 강동구 암사동 509  34.0  주거공간  아파트   전체                     -   \n",
       "\n",
       "            공사예산_CS확인예산    계약번호  \\\n",
       "0  4,000만원 ~ 5,000만원 미만     NaN   \n",
       "1  4,000만원 ~ 5,000만원 미만     NaN   \n",
       "2  1,000만원 ~ 2,000만원 미만  9884.0   \n",
       "3  3,000만원 ~ 4,000만원 미만     NaN   \n",
       "4  4,000만원 ~ 5,000만원 미만     NaN   \n",
       "\n",
       "                                                  요청        인입채널_UTM  \n",
       "0  방이 4개가 필요합니다\\n안방을 아들 둘이 지낼수있도록 해서\\n부부 각 방 하나씩 ...  네이버검색광고_Mobile  \n",
       "1                           배관공사 포함 샷시 \\r\\n모두 올수리입니다               -  \n",
       "2                                                  -               -  \n",
       "3  - 상담희망시간 : 무관\\r\\n- 현장위치 : 서울특별시 성북구 아리랑로 75 돈암...               -  \n",
       "4                                                  -               -  "
      ]
     },
     "execution_count": 3,
     "metadata": {},
     "output_type": "execute_result"
    }
   ],
   "source": [
    "kj.head()"
   ]
  },
  {
   "cell_type": "markdown",
   "metadata": {},
   "source": [
    "# CS확인예산별 평수 median 구하기"
   ]
  },
  {
   "cell_type": "code",
   "execution_count": 5,
   "metadata": {
    "scrolled": true
   },
   "outputs": [
    {
     "data": {
      "text/plain": [
       "array(['4,000만원 ~ 5,000만원 미만', '1,000만원 ~ 2,000만원 미만',\n",
       "       '3,000만원 ~ 4,000만원 미만', '2,000만원 ~ 3,000만원 미만', '-',\n",
       "       '5,000만원 ~ 6,000만원 미만', '6,000만원 ~ 7,000만원 미만',\n",
       "       '7,000만원 ~ 8,000만원 미만', '8,000만원 ~ 9,000만원 미만', '1억원 ~ 1.5억원 미만',\n",
       "       '1,000만원 미만', '9,000만원 ~ 1억원 미만', '1.5억원 ~ 2억원 미만',\n",
       "       '2억원 ~ 2.5억원 미만', '4억원 ~ 5억원 미만'], dtype=object)"
      ]
     },
     "execution_count": 5,
     "metadata": {},
     "output_type": "execute_result"
    }
   ],
   "source": [
    "kj['공사예산_CS확인예산'].unique()"
   ]
  },
  {
   "cell_type": "code",
   "execution_count": 14,
   "metadata": {
    "scrolled": true
   },
   "outputs": [],
   "source": [
    "area0 = kj.loc[kj['공사예산_CS확인예산']=='1,000만원 미만','평수']"
   ]
  },
  {
   "cell_type": "code",
   "execution_count": 16,
   "metadata": {},
   "outputs": [
    {
     "data": {
      "text/plain": [
       "17"
      ]
     },
     "execution_count": 16,
     "metadata": {},
     "output_type": "execute_result"
    }
   ],
   "source": [
    "len(area0)"
   ]
  },
  {
   "cell_type": "code",
   "execution_count": 17,
   "metadata": {},
   "outputs": [
    {
     "data": {
      "text/plain": [
       "270     13.0\n",
       "468     17.0\n",
       "1183    20.0\n",
       "1197    22.0\n",
       "1414    26.0\n",
       "1420    33.0\n",
       "3025    11.0\n",
       "3425    22.0\n",
       "3733    18.0\n",
       "3908    21.0\n",
       "3910    18.0\n",
       "4191    18.0\n",
       "4291    24.0\n",
       "4791    15.0\n",
       "4854    33.0\n",
       "4911    34.0\n",
       "5024    24.0\n",
       "Name: 평수, dtype: float64"
      ]
     },
     "execution_count": 17,
     "metadata": {},
     "output_type": "execute_result"
    }
   ],
   "source": [
    "area0"
   ]
  },
  {
   "cell_type": "code",
   "execution_count": 19,
   "metadata": {},
   "outputs": [
    {
     "data": {
      "text/plain": [
       "21.0"
      ]
     },
     "execution_count": 19,
     "metadata": {},
     "output_type": "execute_result"
    }
   ],
   "source": [
    "area0.median()"
   ]
  },
  {
   "cell_type": "code",
   "execution_count": 20,
   "metadata": {},
   "outputs": [],
   "source": [
    "area1 = kj.loc[kj['공사예산_CS확인예산']=='1,000만원 ~ 2,000만원 미만','평수']"
   ]
  },
  {
   "cell_type": "code",
   "execution_count": 21,
   "metadata": {},
   "outputs": [
    {
     "data": {
      "text/plain": [
       "24.0"
      ]
     },
     "execution_count": 21,
     "metadata": {},
     "output_type": "execute_result"
    }
   ],
   "source": [
    "area1.median()"
   ]
  },
  {
   "cell_type": "code",
   "execution_count": 22,
   "metadata": {},
   "outputs": [],
   "source": [
    "area2 = kj.loc[kj['공사예산_CS확인예산']=='2,000만원 ~ 3,000만원 미만','평수']"
   ]
  },
  {
   "cell_type": "code",
   "execution_count": 23,
   "metadata": {},
   "outputs": [
    {
     "data": {
      "text/plain": [
       "32.0"
      ]
     },
     "execution_count": 23,
     "metadata": {},
     "output_type": "execute_result"
    }
   ],
   "source": [
    "area2.median()"
   ]
  },
  {
   "cell_type": "code",
   "execution_count": 24,
   "metadata": {},
   "outputs": [
    {
     "data": {
      "text/plain": [
       "33.0"
      ]
     },
     "execution_count": 24,
     "metadata": {},
     "output_type": "execute_result"
    }
   ],
   "source": [
    "area3 = kj.loc[kj['공사예산_CS확인예산']=='3,000만원 ~ 4,000만원 미만','평수']\n",
    "area3.median()"
   ]
  },
  {
   "cell_type": "code",
   "execution_count": 25,
   "metadata": {},
   "outputs": [
    {
     "data": {
      "text/plain": [
       "43.0"
      ]
     },
     "execution_count": 25,
     "metadata": {},
     "output_type": "execute_result"
    }
   ],
   "source": [
    "area4 = kj.loc[kj['공사예산_CS확인예산']=='4,000만원 ~ 5,000만원 미만','평수']\n",
    "area4.median()"
   ]
  },
  {
   "cell_type": "code",
   "execution_count": 26,
   "metadata": {},
   "outputs": [
    {
     "data": {
      "text/plain": [
       "48.0"
      ]
     },
     "execution_count": 26,
     "metadata": {},
     "output_type": "execute_result"
    }
   ],
   "source": [
    "area5 = kj.loc[kj['공사예산_CS확인예산']=='5,000만원 ~ 6,000만원 미만','평수']\n",
    "area5.median()"
   ]
  },
  {
   "cell_type": "code",
   "execution_count": 27,
   "metadata": {},
   "outputs": [
    {
     "data": {
      "text/plain": [
       "53.0"
      ]
     },
     "execution_count": 27,
     "metadata": {},
     "output_type": "execute_result"
    }
   ],
   "source": [
    "area6 = kj.loc[kj['공사예산_CS확인예산']=='6,000만원 ~ 7,000만원 미만','평수']\n",
    "area6.median()"
   ]
  },
  {
   "cell_type": "code",
   "execution_count": 28,
   "metadata": {},
   "outputs": [
    {
     "data": {
      "text/plain": [
       "55.0"
      ]
     },
     "execution_count": 28,
     "metadata": {},
     "output_type": "execute_result"
    }
   ],
   "source": [
    "area7 = kj.loc[kj['공사예산_CS확인예산']=='7,000만원 ~ 8,000만원 미만','평수']\n",
    "area7.median()"
   ]
  },
  {
   "cell_type": "code",
   "execution_count": 29,
   "metadata": {},
   "outputs": [
    {
     "data": {
      "text/plain": [
       "59.0"
      ]
     },
     "execution_count": 29,
     "metadata": {},
     "output_type": "execute_result"
    }
   ],
   "source": [
    "area8 = kj.loc[kj['공사예산_CS확인예산']=='8,000만원 ~ 9,000만원 미만','평수']\n",
    "area8.median()"
   ]
  },
  {
   "cell_type": "code",
   "execution_count": 30,
   "metadata": {},
   "outputs": [
    {
     "data": {
      "text/plain": [
       "63.0"
      ]
     },
     "execution_count": 30,
     "metadata": {},
     "output_type": "execute_result"
    }
   ],
   "source": [
    "area9 = kj.loc[kj['공사예산_CS확인예산']=='9,000만원 ~ 1억원 미만','평수']\n",
    "area9.median()"
   ]
  },
  {
   "cell_type": "code",
   "execution_count": 31,
   "metadata": {},
   "outputs": [
    {
     "data": {
      "text/plain": [
       "64.0"
      ]
     },
     "execution_count": 31,
     "metadata": {},
     "output_type": "execute_result"
    }
   ],
   "source": [
    "area10 = kj.loc[kj['공사예산_CS확인예산']=='1억원 ~ 1.5억원 미만','평수']\n",
    "area10.median()"
   ]
  },
  {
   "cell_type": "code",
   "execution_count": 32,
   "metadata": {},
   "outputs": [
    {
     "data": {
      "text/plain": [
       "84.0"
      ]
     },
     "execution_count": 32,
     "metadata": {},
     "output_type": "execute_result"
    }
   ],
   "source": [
    "area15 = kj.loc[kj['공사예산_CS확인예산']=='1.5억원 ~ 2억원 미만','평수']\n",
    "area15.median()"
   ]
  },
  {
   "cell_type": "code",
   "execution_count": 34,
   "metadata": {},
   "outputs": [
    {
     "data": {
      "text/plain": [
       "3"
      ]
     },
     "execution_count": 34,
     "metadata": {},
     "output_type": "execute_result"
    }
   ],
   "source": [
    "len(area15)"
   ]
  },
  {
   "cell_type": "code",
   "execution_count": null,
   "metadata": {},
   "outputs": [],
   "source": []
  }
 ],
 "metadata": {
  "kernelspec": {
   "display_name": "Python 3",
   "language": "python",
   "name": "python3"
  },
  "language_info": {
   "codemirror_mode": {
    "name": "ipython",
    "version": 3
   },
   "file_extension": ".py",
   "mimetype": "text/x-python",
   "name": "python",
   "nbconvert_exporter": "python",
   "pygments_lexer": "ipython3",
   "version": "3.7.4"
  }
 },
 "nbformat": 4,
 "nbformat_minor": 2
}
